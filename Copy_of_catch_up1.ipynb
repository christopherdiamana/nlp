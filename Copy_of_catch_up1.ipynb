{
  "nbformat": 4,
  "nbformat_minor": 0,
  "metadata": {
    "colab": {
      "name": "Copy of catch-up1.ipynb",
      "provenance": [],
      "collapsed_sections": [],
      "authorship_tag": "ABX9TyMFhkYbDbT0u5FtpIfr/H+T",
      "include_colab_link": true
    },
    "kernelspec": {
      "name": "python3",
      "display_name": "Python 3"
    },
    "language_info": {
      "name": "python"
    },
    "widgets": {
      "application/vnd.jupyter.widget-state+json": {
        "06d0148798274e08b350af63fd089c25": {
          "model_module": "@jupyter-widgets/controls",
          "model_name": "HBoxModel",
          "model_module_version": "1.5.0",
          "state": {
            "_dom_classes": [],
            "_model_module": "@jupyter-widgets/controls",
            "_model_module_version": "1.5.0",
            "_model_name": "HBoxModel",
            "_view_count": null,
            "_view_module": "@jupyter-widgets/controls",
            "_view_module_version": "1.5.0",
            "_view_name": "HBoxView",
            "box_style": "",
            "children": [
              "IPY_MODEL_bb22834e2a304b69845774f2e7047ad6",
              "IPY_MODEL_7df9b362d14a4f29ba35fc59b3c15bea",
              "IPY_MODEL_1762323dd0c54d9cb4d90d9487f59f13"
            ],
            "layout": "IPY_MODEL_397900544dd64282a5b2629172944119"
          }
        },
        "bb22834e2a304b69845774f2e7047ad6": {
          "model_module": "@jupyter-widgets/controls",
          "model_name": "HTMLModel",
          "model_module_version": "1.5.0",
          "state": {
            "_dom_classes": [],
            "_model_module": "@jupyter-widgets/controls",
            "_model_module_version": "1.5.0",
            "_model_name": "HTMLModel",
            "_view_count": null,
            "_view_module": "@jupyter-widgets/controls",
            "_view_module_version": "1.5.0",
            "_view_name": "HTMLView",
            "description": "",
            "description_tooltip": null,
            "layout": "IPY_MODEL_3a6d6b294dd849038aea6d9383fb287d",
            "placeholder": "​",
            "style": "IPY_MODEL_4c83bcc1ab6945d289989d9ec5e8358a",
            "value": "Downloading builder script: "
          }
        },
        "7df9b362d14a4f29ba35fc59b3c15bea": {
          "model_module": "@jupyter-widgets/controls",
          "model_name": "FloatProgressModel",
          "model_module_version": "1.5.0",
          "state": {
            "_dom_classes": [],
            "_model_module": "@jupyter-widgets/controls",
            "_model_module_version": "1.5.0",
            "_model_name": "FloatProgressModel",
            "_view_count": null,
            "_view_module": "@jupyter-widgets/controls",
            "_view_module_version": "1.5.0",
            "_view_name": "ProgressView",
            "bar_style": "success",
            "description": "",
            "description_tooltip": null,
            "layout": "IPY_MODEL_f42cbcce1e2d47c8baf1d7a54ab851fb",
            "max": 1789,
            "min": 0,
            "orientation": "horizontal",
            "style": "IPY_MODEL_2b04fea578c94caa90a58ac5db5ecb36",
            "value": 1789
          }
        },
        "1762323dd0c54d9cb4d90d9487f59f13": {
          "model_module": "@jupyter-widgets/controls",
          "model_name": "HTMLModel",
          "model_module_version": "1.5.0",
          "state": {
            "_dom_classes": [],
            "_model_module": "@jupyter-widgets/controls",
            "_model_module_version": "1.5.0",
            "_model_name": "HTMLModel",
            "_view_count": null,
            "_view_module": "@jupyter-widgets/controls",
            "_view_module_version": "1.5.0",
            "_view_name": "HTMLView",
            "description": "",
            "description_tooltip": null,
            "layout": "IPY_MODEL_b4231ac3e9ed44c0a7a333b85f4854af",
            "placeholder": "​",
            "style": "IPY_MODEL_dead5ed162f34311aac4c6a1230ae78e",
            "value": " 4.31k/? [00:00&lt;00:00, 92.3kB/s]"
          }
        },
        "397900544dd64282a5b2629172944119": {
          "model_module": "@jupyter-widgets/base",
          "model_name": "LayoutModel",
          "model_module_version": "1.2.0",
          "state": {
            "_model_module": "@jupyter-widgets/base",
            "_model_module_version": "1.2.0",
            "_model_name": "LayoutModel",
            "_view_count": null,
            "_view_module": "@jupyter-widgets/base",
            "_view_module_version": "1.2.0",
            "_view_name": "LayoutView",
            "align_content": null,
            "align_items": null,
            "align_self": null,
            "border": null,
            "bottom": null,
            "display": null,
            "flex": null,
            "flex_flow": null,
            "grid_area": null,
            "grid_auto_columns": null,
            "grid_auto_flow": null,
            "grid_auto_rows": null,
            "grid_column": null,
            "grid_gap": null,
            "grid_row": null,
            "grid_template_areas": null,
            "grid_template_columns": null,
            "grid_template_rows": null,
            "height": null,
            "justify_content": null,
            "justify_items": null,
            "left": null,
            "margin": null,
            "max_height": null,
            "max_width": null,
            "min_height": null,
            "min_width": null,
            "object_fit": null,
            "object_position": null,
            "order": null,
            "overflow": null,
            "overflow_x": null,
            "overflow_y": null,
            "padding": null,
            "right": null,
            "top": null,
            "visibility": null,
            "width": null
          }
        },
        "3a6d6b294dd849038aea6d9383fb287d": {
          "model_module": "@jupyter-widgets/base",
          "model_name": "LayoutModel",
          "model_module_version": "1.2.0",
          "state": {
            "_model_module": "@jupyter-widgets/base",
            "_model_module_version": "1.2.0",
            "_model_name": "LayoutModel",
            "_view_count": null,
            "_view_module": "@jupyter-widgets/base",
            "_view_module_version": "1.2.0",
            "_view_name": "LayoutView",
            "align_content": null,
            "align_items": null,
            "align_self": null,
            "border": null,
            "bottom": null,
            "display": null,
            "flex": null,
            "flex_flow": null,
            "grid_area": null,
            "grid_auto_columns": null,
            "grid_auto_flow": null,
            "grid_auto_rows": null,
            "grid_column": null,
            "grid_gap": null,
            "grid_row": null,
            "grid_template_areas": null,
            "grid_template_columns": null,
            "grid_template_rows": null,
            "height": null,
            "justify_content": null,
            "justify_items": null,
            "left": null,
            "margin": null,
            "max_height": null,
            "max_width": null,
            "min_height": null,
            "min_width": null,
            "object_fit": null,
            "object_position": null,
            "order": null,
            "overflow": null,
            "overflow_x": null,
            "overflow_y": null,
            "padding": null,
            "right": null,
            "top": null,
            "visibility": null,
            "width": null
          }
        },
        "4c83bcc1ab6945d289989d9ec5e8358a": {
          "model_module": "@jupyter-widgets/controls",
          "model_name": "DescriptionStyleModel",
          "model_module_version": "1.5.0",
          "state": {
            "_model_module": "@jupyter-widgets/controls",
            "_model_module_version": "1.5.0",
            "_model_name": "DescriptionStyleModel",
            "_view_count": null,
            "_view_module": "@jupyter-widgets/base",
            "_view_module_version": "1.2.0",
            "_view_name": "StyleView",
            "description_width": ""
          }
        },
        "f42cbcce1e2d47c8baf1d7a54ab851fb": {
          "model_module": "@jupyter-widgets/base",
          "model_name": "LayoutModel",
          "model_module_version": "1.2.0",
          "state": {
            "_model_module": "@jupyter-widgets/base",
            "_model_module_version": "1.2.0",
            "_model_name": "LayoutModel",
            "_view_count": null,
            "_view_module": "@jupyter-widgets/base",
            "_view_module_version": "1.2.0",
            "_view_name": "LayoutView",
            "align_content": null,
            "align_items": null,
            "align_self": null,
            "border": null,
            "bottom": null,
            "display": null,
            "flex": null,
            "flex_flow": null,
            "grid_area": null,
            "grid_auto_columns": null,
            "grid_auto_flow": null,
            "grid_auto_rows": null,
            "grid_column": null,
            "grid_gap": null,
            "grid_row": null,
            "grid_template_areas": null,
            "grid_template_columns": null,
            "grid_template_rows": null,
            "height": null,
            "justify_content": null,
            "justify_items": null,
            "left": null,
            "margin": null,
            "max_height": null,
            "max_width": null,
            "min_height": null,
            "min_width": null,
            "object_fit": null,
            "object_position": null,
            "order": null,
            "overflow": null,
            "overflow_x": null,
            "overflow_y": null,
            "padding": null,
            "right": null,
            "top": null,
            "visibility": null,
            "width": null
          }
        },
        "2b04fea578c94caa90a58ac5db5ecb36": {
          "model_module": "@jupyter-widgets/controls",
          "model_name": "ProgressStyleModel",
          "model_module_version": "1.5.0",
          "state": {
            "_model_module": "@jupyter-widgets/controls",
            "_model_module_version": "1.5.0",
            "_model_name": "ProgressStyleModel",
            "_view_count": null,
            "_view_module": "@jupyter-widgets/base",
            "_view_module_version": "1.2.0",
            "_view_name": "StyleView",
            "bar_color": null,
            "description_width": ""
          }
        },
        "b4231ac3e9ed44c0a7a333b85f4854af": {
          "model_module": "@jupyter-widgets/base",
          "model_name": "LayoutModel",
          "model_module_version": "1.2.0",
          "state": {
            "_model_module": "@jupyter-widgets/base",
            "_model_module_version": "1.2.0",
            "_model_name": "LayoutModel",
            "_view_count": null,
            "_view_module": "@jupyter-widgets/base",
            "_view_module_version": "1.2.0",
            "_view_name": "LayoutView",
            "align_content": null,
            "align_items": null,
            "align_self": null,
            "border": null,
            "bottom": null,
            "display": null,
            "flex": null,
            "flex_flow": null,
            "grid_area": null,
            "grid_auto_columns": null,
            "grid_auto_flow": null,
            "grid_auto_rows": null,
            "grid_column": null,
            "grid_gap": null,
            "grid_row": null,
            "grid_template_areas": null,
            "grid_template_columns": null,
            "grid_template_rows": null,
            "height": null,
            "justify_content": null,
            "justify_items": null,
            "left": null,
            "margin": null,
            "max_height": null,
            "max_width": null,
            "min_height": null,
            "min_width": null,
            "object_fit": null,
            "object_position": null,
            "order": null,
            "overflow": null,
            "overflow_x": null,
            "overflow_y": null,
            "padding": null,
            "right": null,
            "top": null,
            "visibility": null,
            "width": null
          }
        },
        "dead5ed162f34311aac4c6a1230ae78e": {
          "model_module": "@jupyter-widgets/controls",
          "model_name": "DescriptionStyleModel",
          "model_module_version": "1.5.0",
          "state": {
            "_model_module": "@jupyter-widgets/controls",
            "_model_module_version": "1.5.0",
            "_model_name": "DescriptionStyleModel",
            "_view_count": null,
            "_view_module": "@jupyter-widgets/base",
            "_view_module_version": "1.2.0",
            "_view_name": "StyleView",
            "description_width": ""
          }
        },
        "f34cf7fd7c344f429c6cda1ce5f11be9": {
          "model_module": "@jupyter-widgets/controls",
          "model_name": "HBoxModel",
          "model_module_version": "1.5.0",
          "state": {
            "_dom_classes": [],
            "_model_module": "@jupyter-widgets/controls",
            "_model_module_version": "1.5.0",
            "_model_name": "HBoxModel",
            "_view_count": null,
            "_view_module": "@jupyter-widgets/controls",
            "_view_module_version": "1.5.0",
            "_view_name": "HBoxView",
            "box_style": "",
            "children": [
              "IPY_MODEL_1a6b9898cbdd4ed7844ac2cd24385fa3",
              "IPY_MODEL_97bccba44cf044df996b57fa7537cfe7",
              "IPY_MODEL_89c508824d684fdfba558c008ec3f963"
            ],
            "layout": "IPY_MODEL_f41bd12947004682a4e8b126d1e78b90"
          }
        },
        "1a6b9898cbdd4ed7844ac2cd24385fa3": {
          "model_module": "@jupyter-widgets/controls",
          "model_name": "HTMLModel",
          "model_module_version": "1.5.0",
          "state": {
            "_dom_classes": [],
            "_model_module": "@jupyter-widgets/controls",
            "_model_module_version": "1.5.0",
            "_model_name": "HTMLModel",
            "_view_count": null,
            "_view_module": "@jupyter-widgets/controls",
            "_view_module_version": "1.5.0",
            "_view_name": "HTMLView",
            "description": "",
            "description_tooltip": null,
            "layout": "IPY_MODEL_da54b3c3ab404cb6a86b4edb0384d6da",
            "placeholder": "​",
            "style": "IPY_MODEL_ac65076c877243f0b9eb6cc5e9f1b3da",
            "value": "Downloading metadata: "
          }
        },
        "97bccba44cf044df996b57fa7537cfe7": {
          "model_module": "@jupyter-widgets/controls",
          "model_name": "FloatProgressModel",
          "model_module_version": "1.5.0",
          "state": {
            "_dom_classes": [],
            "_model_module": "@jupyter-widgets/controls",
            "_model_module_version": "1.5.0",
            "_model_name": "FloatProgressModel",
            "_view_count": null,
            "_view_module": "@jupyter-widgets/controls",
            "_view_module_version": "1.5.0",
            "_view_name": "ProgressView",
            "bar_style": "success",
            "description": "",
            "description_tooltip": null,
            "layout": "IPY_MODEL_33eb3fa40a294f18a9f526633d83253d",
            "max": 1054,
            "min": 0,
            "orientation": "horizontal",
            "style": "IPY_MODEL_db5513a20aba47f7a55ad250c629d7a4",
            "value": 1054
          }
        },
        "89c508824d684fdfba558c008ec3f963": {
          "model_module": "@jupyter-widgets/controls",
          "model_name": "HTMLModel",
          "model_module_version": "1.5.0",
          "state": {
            "_dom_classes": [],
            "_model_module": "@jupyter-widgets/controls",
            "_model_module_version": "1.5.0",
            "_model_name": "HTMLModel",
            "_view_count": null,
            "_view_module": "@jupyter-widgets/controls",
            "_view_module_version": "1.5.0",
            "_view_name": "HTMLView",
            "description": "",
            "description_tooltip": null,
            "layout": "IPY_MODEL_cc87d20d5d254617a13cd7284c02a541",
            "placeholder": "​",
            "style": "IPY_MODEL_1a7d2acd6fc1482fb7eaae2f855338e7",
            "value": " 2.17k/? [00:00&lt;00:00, 59.2kB/s]"
          }
        },
        "f41bd12947004682a4e8b126d1e78b90": {
          "model_module": "@jupyter-widgets/base",
          "model_name": "LayoutModel",
          "model_module_version": "1.2.0",
          "state": {
            "_model_module": "@jupyter-widgets/base",
            "_model_module_version": "1.2.0",
            "_model_name": "LayoutModel",
            "_view_count": null,
            "_view_module": "@jupyter-widgets/base",
            "_view_module_version": "1.2.0",
            "_view_name": "LayoutView",
            "align_content": null,
            "align_items": null,
            "align_self": null,
            "border": null,
            "bottom": null,
            "display": null,
            "flex": null,
            "flex_flow": null,
            "grid_area": null,
            "grid_auto_columns": null,
            "grid_auto_flow": null,
            "grid_auto_rows": null,
            "grid_column": null,
            "grid_gap": null,
            "grid_row": null,
            "grid_template_areas": null,
            "grid_template_columns": null,
            "grid_template_rows": null,
            "height": null,
            "justify_content": null,
            "justify_items": null,
            "left": null,
            "margin": null,
            "max_height": null,
            "max_width": null,
            "min_height": null,
            "min_width": null,
            "object_fit": null,
            "object_position": null,
            "order": null,
            "overflow": null,
            "overflow_x": null,
            "overflow_y": null,
            "padding": null,
            "right": null,
            "top": null,
            "visibility": null,
            "width": null
          }
        },
        "da54b3c3ab404cb6a86b4edb0384d6da": {
          "model_module": "@jupyter-widgets/base",
          "model_name": "LayoutModel",
          "model_module_version": "1.2.0",
          "state": {
            "_model_module": "@jupyter-widgets/base",
            "_model_module_version": "1.2.0",
            "_model_name": "LayoutModel",
            "_view_count": null,
            "_view_module": "@jupyter-widgets/base",
            "_view_module_version": "1.2.0",
            "_view_name": "LayoutView",
            "align_content": null,
            "align_items": null,
            "align_self": null,
            "border": null,
            "bottom": null,
            "display": null,
            "flex": null,
            "flex_flow": null,
            "grid_area": null,
            "grid_auto_columns": null,
            "grid_auto_flow": null,
            "grid_auto_rows": null,
            "grid_column": null,
            "grid_gap": null,
            "grid_row": null,
            "grid_template_areas": null,
            "grid_template_columns": null,
            "grid_template_rows": null,
            "height": null,
            "justify_content": null,
            "justify_items": null,
            "left": null,
            "margin": null,
            "max_height": null,
            "max_width": null,
            "min_height": null,
            "min_width": null,
            "object_fit": null,
            "object_position": null,
            "order": null,
            "overflow": null,
            "overflow_x": null,
            "overflow_y": null,
            "padding": null,
            "right": null,
            "top": null,
            "visibility": null,
            "width": null
          }
        },
        "ac65076c877243f0b9eb6cc5e9f1b3da": {
          "model_module": "@jupyter-widgets/controls",
          "model_name": "DescriptionStyleModel",
          "model_module_version": "1.5.0",
          "state": {
            "_model_module": "@jupyter-widgets/controls",
            "_model_module_version": "1.5.0",
            "_model_name": "DescriptionStyleModel",
            "_view_count": null,
            "_view_module": "@jupyter-widgets/base",
            "_view_module_version": "1.2.0",
            "_view_name": "StyleView",
            "description_width": ""
          }
        },
        "33eb3fa40a294f18a9f526633d83253d": {
          "model_module": "@jupyter-widgets/base",
          "model_name": "LayoutModel",
          "model_module_version": "1.2.0",
          "state": {
            "_model_module": "@jupyter-widgets/base",
            "_model_module_version": "1.2.0",
            "_model_name": "LayoutModel",
            "_view_count": null,
            "_view_module": "@jupyter-widgets/base",
            "_view_module_version": "1.2.0",
            "_view_name": "LayoutView",
            "align_content": null,
            "align_items": null,
            "align_self": null,
            "border": null,
            "bottom": null,
            "display": null,
            "flex": null,
            "flex_flow": null,
            "grid_area": null,
            "grid_auto_columns": null,
            "grid_auto_flow": null,
            "grid_auto_rows": null,
            "grid_column": null,
            "grid_gap": null,
            "grid_row": null,
            "grid_template_areas": null,
            "grid_template_columns": null,
            "grid_template_rows": null,
            "height": null,
            "justify_content": null,
            "justify_items": null,
            "left": null,
            "margin": null,
            "max_height": null,
            "max_width": null,
            "min_height": null,
            "min_width": null,
            "object_fit": null,
            "object_position": null,
            "order": null,
            "overflow": null,
            "overflow_x": null,
            "overflow_y": null,
            "padding": null,
            "right": null,
            "top": null,
            "visibility": null,
            "width": null
          }
        },
        "db5513a20aba47f7a55ad250c629d7a4": {
          "model_module": "@jupyter-widgets/controls",
          "model_name": "ProgressStyleModel",
          "model_module_version": "1.5.0",
          "state": {
            "_model_module": "@jupyter-widgets/controls",
            "_model_module_version": "1.5.0",
            "_model_name": "ProgressStyleModel",
            "_view_count": null,
            "_view_module": "@jupyter-widgets/base",
            "_view_module_version": "1.2.0",
            "_view_name": "StyleView",
            "bar_color": null,
            "description_width": ""
          }
        },
        "cc87d20d5d254617a13cd7284c02a541": {
          "model_module": "@jupyter-widgets/base",
          "model_name": "LayoutModel",
          "model_module_version": "1.2.0",
          "state": {
            "_model_module": "@jupyter-widgets/base",
            "_model_module_version": "1.2.0",
            "_model_name": "LayoutModel",
            "_view_count": null,
            "_view_module": "@jupyter-widgets/base",
            "_view_module_version": "1.2.0",
            "_view_name": "LayoutView",
            "align_content": null,
            "align_items": null,
            "align_self": null,
            "border": null,
            "bottom": null,
            "display": null,
            "flex": null,
            "flex_flow": null,
            "grid_area": null,
            "grid_auto_columns": null,
            "grid_auto_flow": null,
            "grid_auto_rows": null,
            "grid_column": null,
            "grid_gap": null,
            "grid_row": null,
            "grid_template_areas": null,
            "grid_template_columns": null,
            "grid_template_rows": null,
            "height": null,
            "justify_content": null,
            "justify_items": null,
            "left": null,
            "margin": null,
            "max_height": null,
            "max_width": null,
            "min_height": null,
            "min_width": null,
            "object_fit": null,
            "object_position": null,
            "order": null,
            "overflow": null,
            "overflow_x": null,
            "overflow_y": null,
            "padding": null,
            "right": null,
            "top": null,
            "visibility": null,
            "width": null
          }
        },
        "1a7d2acd6fc1482fb7eaae2f855338e7": {
          "model_module": "@jupyter-widgets/controls",
          "model_name": "DescriptionStyleModel",
          "model_module_version": "1.5.0",
          "state": {
            "_model_module": "@jupyter-widgets/controls",
            "_model_module_version": "1.5.0",
            "_model_name": "DescriptionStyleModel",
            "_view_count": null,
            "_view_module": "@jupyter-widgets/base",
            "_view_module_version": "1.2.0",
            "_view_name": "StyleView",
            "description_width": ""
          }
        },
        "2ffc9361767e46499073aac1c8f081e1": {
          "model_module": "@jupyter-widgets/controls",
          "model_name": "HBoxModel",
          "model_module_version": "1.5.0",
          "state": {
            "_dom_classes": [],
            "_model_module": "@jupyter-widgets/controls",
            "_model_module_version": "1.5.0",
            "_model_name": "HBoxModel",
            "_view_count": null,
            "_view_module": "@jupyter-widgets/controls",
            "_view_module_version": "1.5.0",
            "_view_name": "HBoxView",
            "box_style": "",
            "children": [
              "IPY_MODEL_072a96a67670416bb6adf0cfa7b9c867",
              "IPY_MODEL_546a8d3852f04e37985ffe94c4406fd1",
              "IPY_MODEL_87ffd98e28454100aa7667dfcfae2477"
            ],
            "layout": "IPY_MODEL_ec07571771b0498ea004f271bb962f89"
          }
        },
        "072a96a67670416bb6adf0cfa7b9c867": {
          "model_module": "@jupyter-widgets/controls",
          "model_name": "HTMLModel",
          "model_module_version": "1.5.0",
          "state": {
            "_dom_classes": [],
            "_model_module": "@jupyter-widgets/controls",
            "_model_module_version": "1.5.0",
            "_model_name": "HTMLModel",
            "_view_count": null,
            "_view_module": "@jupyter-widgets/controls",
            "_view_module_version": "1.5.0",
            "_view_name": "HTMLView",
            "description": "",
            "description_tooltip": null,
            "layout": "IPY_MODEL_dbb920c411c345f5bbb771f3ccd13c01",
            "placeholder": "​",
            "style": "IPY_MODEL_50ffe7a110e449e6b2948e99b6caf290",
            "value": "Downloading data: 100%"
          }
        },
        "546a8d3852f04e37985ffe94c4406fd1": {
          "model_module": "@jupyter-widgets/controls",
          "model_name": "FloatProgressModel",
          "model_module_version": "1.5.0",
          "state": {
            "_dom_classes": [],
            "_model_module": "@jupyter-widgets/controls",
            "_model_module_version": "1.5.0",
            "_model_name": "FloatProgressModel",
            "_view_count": null,
            "_view_module": "@jupyter-widgets/controls",
            "_view_module_version": "1.5.0",
            "_view_name": "ProgressView",
            "bar_style": "success",
            "description": "",
            "description_tooltip": null,
            "layout": "IPY_MODEL_ac90bde7c28248fe9b38b1ffc0054470",
            "max": 84125825,
            "min": 0,
            "orientation": "horizontal",
            "style": "IPY_MODEL_1522ea3326d44dad88e5b36a76ea24cd",
            "value": 84125825
          }
        },
        "87ffd98e28454100aa7667dfcfae2477": {
          "model_module": "@jupyter-widgets/controls",
          "model_name": "HTMLModel",
          "model_module_version": "1.5.0",
          "state": {
            "_dom_classes": [],
            "_model_module": "@jupyter-widgets/controls",
            "_model_module_version": "1.5.0",
            "_model_name": "HTMLModel",
            "_view_count": null,
            "_view_module": "@jupyter-widgets/controls",
            "_view_module_version": "1.5.0",
            "_view_name": "HTMLView",
            "description": "",
            "description_tooltip": null,
            "layout": "IPY_MODEL_023d3e4de0224606a676dd77a9138605",
            "placeholder": "​",
            "style": "IPY_MODEL_2a894a0d68254e7f8d80f017019c87a9",
            "value": " 84.1M/84.1M [00:02&lt;00:00, 55.6MB/s]"
          }
        },
        "ec07571771b0498ea004f271bb962f89": {
          "model_module": "@jupyter-widgets/base",
          "model_name": "LayoutModel",
          "model_module_version": "1.2.0",
          "state": {
            "_model_module": "@jupyter-widgets/base",
            "_model_module_version": "1.2.0",
            "_model_name": "LayoutModel",
            "_view_count": null,
            "_view_module": "@jupyter-widgets/base",
            "_view_module_version": "1.2.0",
            "_view_name": "LayoutView",
            "align_content": null,
            "align_items": null,
            "align_self": null,
            "border": null,
            "bottom": null,
            "display": null,
            "flex": null,
            "flex_flow": null,
            "grid_area": null,
            "grid_auto_columns": null,
            "grid_auto_flow": null,
            "grid_auto_rows": null,
            "grid_column": null,
            "grid_gap": null,
            "grid_row": null,
            "grid_template_areas": null,
            "grid_template_columns": null,
            "grid_template_rows": null,
            "height": null,
            "justify_content": null,
            "justify_items": null,
            "left": null,
            "margin": null,
            "max_height": null,
            "max_width": null,
            "min_height": null,
            "min_width": null,
            "object_fit": null,
            "object_position": null,
            "order": null,
            "overflow": null,
            "overflow_x": null,
            "overflow_y": null,
            "padding": null,
            "right": null,
            "top": null,
            "visibility": null,
            "width": null
          }
        },
        "dbb920c411c345f5bbb771f3ccd13c01": {
          "model_module": "@jupyter-widgets/base",
          "model_name": "LayoutModel",
          "model_module_version": "1.2.0",
          "state": {
            "_model_module": "@jupyter-widgets/base",
            "_model_module_version": "1.2.0",
            "_model_name": "LayoutModel",
            "_view_count": null,
            "_view_module": "@jupyter-widgets/base",
            "_view_module_version": "1.2.0",
            "_view_name": "LayoutView",
            "align_content": null,
            "align_items": null,
            "align_self": null,
            "border": null,
            "bottom": null,
            "display": null,
            "flex": null,
            "flex_flow": null,
            "grid_area": null,
            "grid_auto_columns": null,
            "grid_auto_flow": null,
            "grid_auto_rows": null,
            "grid_column": null,
            "grid_gap": null,
            "grid_row": null,
            "grid_template_areas": null,
            "grid_template_columns": null,
            "grid_template_rows": null,
            "height": null,
            "justify_content": null,
            "justify_items": null,
            "left": null,
            "margin": null,
            "max_height": null,
            "max_width": null,
            "min_height": null,
            "min_width": null,
            "object_fit": null,
            "object_position": null,
            "order": null,
            "overflow": null,
            "overflow_x": null,
            "overflow_y": null,
            "padding": null,
            "right": null,
            "top": null,
            "visibility": null,
            "width": null
          }
        },
        "50ffe7a110e449e6b2948e99b6caf290": {
          "model_module": "@jupyter-widgets/controls",
          "model_name": "DescriptionStyleModel",
          "model_module_version": "1.5.0",
          "state": {
            "_model_module": "@jupyter-widgets/controls",
            "_model_module_version": "1.5.0",
            "_model_name": "DescriptionStyleModel",
            "_view_count": null,
            "_view_module": "@jupyter-widgets/base",
            "_view_module_version": "1.2.0",
            "_view_name": "StyleView",
            "description_width": ""
          }
        },
        "ac90bde7c28248fe9b38b1ffc0054470": {
          "model_module": "@jupyter-widgets/base",
          "model_name": "LayoutModel",
          "model_module_version": "1.2.0",
          "state": {
            "_model_module": "@jupyter-widgets/base",
            "_model_module_version": "1.2.0",
            "_model_name": "LayoutModel",
            "_view_count": null,
            "_view_module": "@jupyter-widgets/base",
            "_view_module_version": "1.2.0",
            "_view_name": "LayoutView",
            "align_content": null,
            "align_items": null,
            "align_self": null,
            "border": null,
            "bottom": null,
            "display": null,
            "flex": null,
            "flex_flow": null,
            "grid_area": null,
            "grid_auto_columns": null,
            "grid_auto_flow": null,
            "grid_auto_rows": null,
            "grid_column": null,
            "grid_gap": null,
            "grid_row": null,
            "grid_template_areas": null,
            "grid_template_columns": null,
            "grid_template_rows": null,
            "height": null,
            "justify_content": null,
            "justify_items": null,
            "left": null,
            "margin": null,
            "max_height": null,
            "max_width": null,
            "min_height": null,
            "min_width": null,
            "object_fit": null,
            "object_position": null,
            "order": null,
            "overflow": null,
            "overflow_x": null,
            "overflow_y": null,
            "padding": null,
            "right": null,
            "top": null,
            "visibility": null,
            "width": null
          }
        },
        "1522ea3326d44dad88e5b36a76ea24cd": {
          "model_module": "@jupyter-widgets/controls",
          "model_name": "ProgressStyleModel",
          "model_module_version": "1.5.0",
          "state": {
            "_model_module": "@jupyter-widgets/controls",
            "_model_module_version": "1.5.0",
            "_model_name": "ProgressStyleModel",
            "_view_count": null,
            "_view_module": "@jupyter-widgets/base",
            "_view_module_version": "1.2.0",
            "_view_name": "StyleView",
            "bar_color": null,
            "description_width": ""
          }
        },
        "023d3e4de0224606a676dd77a9138605": {
          "model_module": "@jupyter-widgets/base",
          "model_name": "LayoutModel",
          "model_module_version": "1.2.0",
          "state": {
            "_model_module": "@jupyter-widgets/base",
            "_model_module_version": "1.2.0",
            "_model_name": "LayoutModel",
            "_view_count": null,
            "_view_module": "@jupyter-widgets/base",
            "_view_module_version": "1.2.0",
            "_view_name": "LayoutView",
            "align_content": null,
            "align_items": null,
            "align_self": null,
            "border": null,
            "bottom": null,
            "display": null,
            "flex": null,
            "flex_flow": null,
            "grid_area": null,
            "grid_auto_columns": null,
            "grid_auto_flow": null,
            "grid_auto_rows": null,
            "grid_column": null,
            "grid_gap": null,
            "grid_row": null,
            "grid_template_areas": null,
            "grid_template_columns": null,
            "grid_template_rows": null,
            "height": null,
            "justify_content": null,
            "justify_items": null,
            "left": null,
            "margin": null,
            "max_height": null,
            "max_width": null,
            "min_height": null,
            "min_width": null,
            "object_fit": null,
            "object_position": null,
            "order": null,
            "overflow": null,
            "overflow_x": null,
            "overflow_y": null,
            "padding": null,
            "right": null,
            "top": null,
            "visibility": null,
            "width": null
          }
        },
        "2a894a0d68254e7f8d80f017019c87a9": {
          "model_module": "@jupyter-widgets/controls",
          "model_name": "DescriptionStyleModel",
          "model_module_version": "1.5.0",
          "state": {
            "_model_module": "@jupyter-widgets/controls",
            "_model_module_version": "1.5.0",
            "_model_name": "DescriptionStyleModel",
            "_view_count": null,
            "_view_module": "@jupyter-widgets/base",
            "_view_module_version": "1.2.0",
            "_view_name": "StyleView",
            "description_width": ""
          }
        },
        "944ffa44d89c4b968db684739934599c": {
          "model_module": "@jupyter-widgets/controls",
          "model_name": "HBoxModel",
          "model_module_version": "1.5.0",
          "state": {
            "_dom_classes": [],
            "_model_module": "@jupyter-widgets/controls",
            "_model_module_version": "1.5.0",
            "_model_name": "HBoxModel",
            "_view_count": null,
            "_view_module": "@jupyter-widgets/controls",
            "_view_module_version": "1.5.0",
            "_view_name": "HBoxView",
            "box_style": "",
            "children": [
              "IPY_MODEL_7985b19ad6b74f65a4065eef990fa909",
              "IPY_MODEL_f56a659a7967429393e93d8ac9f35cf6",
              "IPY_MODEL_282b4622b0784af7a3147399f75f29f0"
            ],
            "layout": "IPY_MODEL_7936c5ac6c0947e7903ffb5332e2d668"
          }
        },
        "7985b19ad6b74f65a4065eef990fa909": {
          "model_module": "@jupyter-widgets/controls",
          "model_name": "HTMLModel",
          "model_module_version": "1.5.0",
          "state": {
            "_dom_classes": [],
            "_model_module": "@jupyter-widgets/controls",
            "_model_module_version": "1.5.0",
            "_model_name": "HTMLModel",
            "_view_count": null,
            "_view_module": "@jupyter-widgets/controls",
            "_view_module_version": "1.5.0",
            "_view_name": "HTMLView",
            "description": "",
            "description_tooltip": null,
            "layout": "IPY_MODEL_39c30ca2faf4493d995f5ceeec37ffbe",
            "placeholder": "​",
            "style": "IPY_MODEL_3fde23b361b946e08da4e0f640b3514c",
            "value": "Generating train split:  99%"
          }
        },
        "f56a659a7967429393e93d8ac9f35cf6": {
          "model_module": "@jupyter-widgets/controls",
          "model_name": "FloatProgressModel",
          "model_module_version": "1.5.0",
          "state": {
            "_dom_classes": [],
            "_model_module": "@jupyter-widgets/controls",
            "_model_module_version": "1.5.0",
            "_model_name": "FloatProgressModel",
            "_view_count": null,
            "_view_module": "@jupyter-widgets/controls",
            "_view_module_version": "1.5.0",
            "_view_name": "ProgressView",
            "bar_style": "",
            "description": "",
            "description_tooltip": null,
            "layout": "IPY_MODEL_3a89771c04734eaea212e397fc22f37e",
            "max": 25000,
            "min": 0,
            "orientation": "horizontal",
            "style": "IPY_MODEL_aa5b90372fff44df809aacb79d7fd3b2",
            "value": 25000
          }
        },
        "282b4622b0784af7a3147399f75f29f0": {
          "model_module": "@jupyter-widgets/controls",
          "model_name": "HTMLModel",
          "model_module_version": "1.5.0",
          "state": {
            "_dom_classes": [],
            "_model_module": "@jupyter-widgets/controls",
            "_model_module_version": "1.5.0",
            "_model_name": "HTMLModel",
            "_view_count": null,
            "_view_module": "@jupyter-widgets/controls",
            "_view_module_version": "1.5.0",
            "_view_name": "HTMLView",
            "description": "",
            "description_tooltip": null,
            "layout": "IPY_MODEL_fc79da3c65a44eb696c9eceb78c91bcc",
            "placeholder": "​",
            "style": "IPY_MODEL_3f30f6ea29d74132aa24241320b24e1e",
            "value": " 24762/25000 [00:11&lt;00:00, 3990.32 examples/s]"
          }
        },
        "7936c5ac6c0947e7903ffb5332e2d668": {
          "model_module": "@jupyter-widgets/base",
          "model_name": "LayoutModel",
          "model_module_version": "1.2.0",
          "state": {
            "_model_module": "@jupyter-widgets/base",
            "_model_module_version": "1.2.0",
            "_model_name": "LayoutModel",
            "_view_count": null,
            "_view_module": "@jupyter-widgets/base",
            "_view_module_version": "1.2.0",
            "_view_name": "LayoutView",
            "align_content": null,
            "align_items": null,
            "align_self": null,
            "border": null,
            "bottom": null,
            "display": null,
            "flex": null,
            "flex_flow": null,
            "grid_area": null,
            "grid_auto_columns": null,
            "grid_auto_flow": null,
            "grid_auto_rows": null,
            "grid_column": null,
            "grid_gap": null,
            "grid_row": null,
            "grid_template_areas": null,
            "grid_template_columns": null,
            "grid_template_rows": null,
            "height": null,
            "justify_content": null,
            "justify_items": null,
            "left": null,
            "margin": null,
            "max_height": null,
            "max_width": null,
            "min_height": null,
            "min_width": null,
            "object_fit": null,
            "object_position": null,
            "order": null,
            "overflow": null,
            "overflow_x": null,
            "overflow_y": null,
            "padding": null,
            "right": null,
            "top": null,
            "visibility": null,
            "width": null
          }
        },
        "39c30ca2faf4493d995f5ceeec37ffbe": {
          "model_module": "@jupyter-widgets/base",
          "model_name": "LayoutModel",
          "model_module_version": "1.2.0",
          "state": {
            "_model_module": "@jupyter-widgets/base",
            "_model_module_version": "1.2.0",
            "_model_name": "LayoutModel",
            "_view_count": null,
            "_view_module": "@jupyter-widgets/base",
            "_view_module_version": "1.2.0",
            "_view_name": "LayoutView",
            "align_content": null,
            "align_items": null,
            "align_self": null,
            "border": null,
            "bottom": null,
            "display": null,
            "flex": null,
            "flex_flow": null,
            "grid_area": null,
            "grid_auto_columns": null,
            "grid_auto_flow": null,
            "grid_auto_rows": null,
            "grid_column": null,
            "grid_gap": null,
            "grid_row": null,
            "grid_template_areas": null,
            "grid_template_columns": null,
            "grid_template_rows": null,
            "height": null,
            "justify_content": null,
            "justify_items": null,
            "left": null,
            "margin": null,
            "max_height": null,
            "max_width": null,
            "min_height": null,
            "min_width": null,
            "object_fit": null,
            "object_position": null,
            "order": null,
            "overflow": null,
            "overflow_x": null,
            "overflow_y": null,
            "padding": null,
            "right": null,
            "top": null,
            "visibility": null,
            "width": null
          }
        },
        "3fde23b361b946e08da4e0f640b3514c": {
          "model_module": "@jupyter-widgets/controls",
          "model_name": "DescriptionStyleModel",
          "model_module_version": "1.5.0",
          "state": {
            "_model_module": "@jupyter-widgets/controls",
            "_model_module_version": "1.5.0",
            "_model_name": "DescriptionStyleModel",
            "_view_count": null,
            "_view_module": "@jupyter-widgets/base",
            "_view_module_version": "1.2.0",
            "_view_name": "StyleView",
            "description_width": ""
          }
        },
        "3a89771c04734eaea212e397fc22f37e": {
          "model_module": "@jupyter-widgets/base",
          "model_name": "LayoutModel",
          "model_module_version": "1.2.0",
          "state": {
            "_model_module": "@jupyter-widgets/base",
            "_model_module_version": "1.2.0",
            "_model_name": "LayoutModel",
            "_view_count": null,
            "_view_module": "@jupyter-widgets/base",
            "_view_module_version": "1.2.0",
            "_view_name": "LayoutView",
            "align_content": null,
            "align_items": null,
            "align_self": null,
            "border": null,
            "bottom": null,
            "display": null,
            "flex": null,
            "flex_flow": null,
            "grid_area": null,
            "grid_auto_columns": null,
            "grid_auto_flow": null,
            "grid_auto_rows": null,
            "grid_column": null,
            "grid_gap": null,
            "grid_row": null,
            "grid_template_areas": null,
            "grid_template_columns": null,
            "grid_template_rows": null,
            "height": null,
            "justify_content": null,
            "justify_items": null,
            "left": null,
            "margin": null,
            "max_height": null,
            "max_width": null,
            "min_height": null,
            "min_width": null,
            "object_fit": null,
            "object_position": null,
            "order": null,
            "overflow": null,
            "overflow_x": null,
            "overflow_y": null,
            "padding": null,
            "right": null,
            "top": null,
            "visibility": null,
            "width": null
          }
        },
        "aa5b90372fff44df809aacb79d7fd3b2": {
          "model_module": "@jupyter-widgets/controls",
          "model_name": "ProgressStyleModel",
          "model_module_version": "1.5.0",
          "state": {
            "_model_module": "@jupyter-widgets/controls",
            "_model_module_version": "1.5.0",
            "_model_name": "ProgressStyleModel",
            "_view_count": null,
            "_view_module": "@jupyter-widgets/base",
            "_view_module_version": "1.2.0",
            "_view_name": "StyleView",
            "bar_color": null,
            "description_width": ""
          }
        },
        "fc79da3c65a44eb696c9eceb78c91bcc": {
          "model_module": "@jupyter-widgets/base",
          "model_name": "LayoutModel",
          "model_module_version": "1.2.0",
          "state": {
            "_model_module": "@jupyter-widgets/base",
            "_model_module_version": "1.2.0",
            "_model_name": "LayoutModel",
            "_view_count": null,
            "_view_module": "@jupyter-widgets/base",
            "_view_module_version": "1.2.0",
            "_view_name": "LayoutView",
            "align_content": null,
            "align_items": null,
            "align_self": null,
            "border": null,
            "bottom": null,
            "display": null,
            "flex": null,
            "flex_flow": null,
            "grid_area": null,
            "grid_auto_columns": null,
            "grid_auto_flow": null,
            "grid_auto_rows": null,
            "grid_column": null,
            "grid_gap": null,
            "grid_row": null,
            "grid_template_areas": null,
            "grid_template_columns": null,
            "grid_template_rows": null,
            "height": null,
            "justify_content": null,
            "justify_items": null,
            "left": null,
            "margin": null,
            "max_height": null,
            "max_width": null,
            "min_height": null,
            "min_width": null,
            "object_fit": null,
            "object_position": null,
            "order": null,
            "overflow": null,
            "overflow_x": null,
            "overflow_y": null,
            "padding": null,
            "right": null,
            "top": null,
            "visibility": null,
            "width": null
          }
        },
        "3f30f6ea29d74132aa24241320b24e1e": {
          "model_module": "@jupyter-widgets/controls",
          "model_name": "DescriptionStyleModel",
          "model_module_version": "1.5.0",
          "state": {
            "_model_module": "@jupyter-widgets/controls",
            "_model_module_version": "1.5.0",
            "_model_name": "DescriptionStyleModel",
            "_view_count": null,
            "_view_module": "@jupyter-widgets/base",
            "_view_module_version": "1.2.0",
            "_view_name": "StyleView",
            "description_width": ""
          }
        },
        "6be95b6f227643be9470f5a64d8d8b47": {
          "model_module": "@jupyter-widgets/controls",
          "model_name": "HBoxModel",
          "model_module_version": "1.5.0",
          "state": {
            "_dom_classes": [],
            "_model_module": "@jupyter-widgets/controls",
            "_model_module_version": "1.5.0",
            "_model_name": "HBoxModel",
            "_view_count": null,
            "_view_module": "@jupyter-widgets/controls",
            "_view_module_version": "1.5.0",
            "_view_name": "HBoxView",
            "box_style": "",
            "children": [
              "IPY_MODEL_95a5509fbb654742a486e078349231a6",
              "IPY_MODEL_6d4dc31978734e46831b4b2e6dbf2973",
              "IPY_MODEL_3218ec59ee9f4e2095fbc6099f724403"
            ],
            "layout": "IPY_MODEL_102265158013486d8794ce8ee16528d9"
          }
        },
        "95a5509fbb654742a486e078349231a6": {
          "model_module": "@jupyter-widgets/controls",
          "model_name": "HTMLModel",
          "model_module_version": "1.5.0",
          "state": {
            "_dom_classes": [],
            "_model_module": "@jupyter-widgets/controls",
            "_model_module_version": "1.5.0",
            "_model_name": "HTMLModel",
            "_view_count": null,
            "_view_module": "@jupyter-widgets/controls",
            "_view_module_version": "1.5.0",
            "_view_name": "HTMLView",
            "description": "",
            "description_tooltip": null,
            "layout": "IPY_MODEL_a28795821b414976a4ecd83f9220247e",
            "placeholder": "​",
            "style": "IPY_MODEL_8676eb30b15b41c68ec16c59008e0885",
            "value": "Generating test split:  98%"
          }
        },
        "6d4dc31978734e46831b4b2e6dbf2973": {
          "model_module": "@jupyter-widgets/controls",
          "model_name": "FloatProgressModel",
          "model_module_version": "1.5.0",
          "state": {
            "_dom_classes": [],
            "_model_module": "@jupyter-widgets/controls",
            "_model_module_version": "1.5.0",
            "_model_name": "FloatProgressModel",
            "_view_count": null,
            "_view_module": "@jupyter-widgets/controls",
            "_view_module_version": "1.5.0",
            "_view_name": "ProgressView",
            "bar_style": "",
            "description": "",
            "description_tooltip": null,
            "layout": "IPY_MODEL_bdecd4314e044285b3b8570fb5d9c549",
            "max": 25000,
            "min": 0,
            "orientation": "horizontal",
            "style": "IPY_MODEL_e58976752af24fe7b4e115728ec15d82",
            "value": 25000
          }
        },
        "3218ec59ee9f4e2095fbc6099f724403": {
          "model_module": "@jupyter-widgets/controls",
          "model_name": "HTMLModel",
          "model_module_version": "1.5.0",
          "state": {
            "_dom_classes": [],
            "_model_module": "@jupyter-widgets/controls",
            "_model_module_version": "1.5.0",
            "_model_name": "HTMLModel",
            "_view_count": null,
            "_view_module": "@jupyter-widgets/controls",
            "_view_module_version": "1.5.0",
            "_view_name": "HTMLView",
            "description": "",
            "description_tooltip": null,
            "layout": "IPY_MODEL_f330058b1ddb4c0ea556af629f99b948",
            "placeholder": "​",
            "style": "IPY_MODEL_a4c4b3d0100a458bbe3a09f572232c1a",
            "value": " 24596/25000 [00:03&lt;00:00, 8448.50 examples/s]"
          }
        },
        "102265158013486d8794ce8ee16528d9": {
          "model_module": "@jupyter-widgets/base",
          "model_name": "LayoutModel",
          "model_module_version": "1.2.0",
          "state": {
            "_model_module": "@jupyter-widgets/base",
            "_model_module_version": "1.2.0",
            "_model_name": "LayoutModel",
            "_view_count": null,
            "_view_module": "@jupyter-widgets/base",
            "_view_module_version": "1.2.0",
            "_view_name": "LayoutView",
            "align_content": null,
            "align_items": null,
            "align_self": null,
            "border": null,
            "bottom": null,
            "display": null,
            "flex": null,
            "flex_flow": null,
            "grid_area": null,
            "grid_auto_columns": null,
            "grid_auto_flow": null,
            "grid_auto_rows": null,
            "grid_column": null,
            "grid_gap": null,
            "grid_row": null,
            "grid_template_areas": null,
            "grid_template_columns": null,
            "grid_template_rows": null,
            "height": null,
            "justify_content": null,
            "justify_items": null,
            "left": null,
            "margin": null,
            "max_height": null,
            "max_width": null,
            "min_height": null,
            "min_width": null,
            "object_fit": null,
            "object_position": null,
            "order": null,
            "overflow": null,
            "overflow_x": null,
            "overflow_y": null,
            "padding": null,
            "right": null,
            "top": null,
            "visibility": null,
            "width": null
          }
        },
        "a28795821b414976a4ecd83f9220247e": {
          "model_module": "@jupyter-widgets/base",
          "model_name": "LayoutModel",
          "model_module_version": "1.2.0",
          "state": {
            "_model_module": "@jupyter-widgets/base",
            "_model_module_version": "1.2.0",
            "_model_name": "LayoutModel",
            "_view_count": null,
            "_view_module": "@jupyter-widgets/base",
            "_view_module_version": "1.2.0",
            "_view_name": "LayoutView",
            "align_content": null,
            "align_items": null,
            "align_self": null,
            "border": null,
            "bottom": null,
            "display": null,
            "flex": null,
            "flex_flow": null,
            "grid_area": null,
            "grid_auto_columns": null,
            "grid_auto_flow": null,
            "grid_auto_rows": null,
            "grid_column": null,
            "grid_gap": null,
            "grid_row": null,
            "grid_template_areas": null,
            "grid_template_columns": null,
            "grid_template_rows": null,
            "height": null,
            "justify_content": null,
            "justify_items": null,
            "left": null,
            "margin": null,
            "max_height": null,
            "max_width": null,
            "min_height": null,
            "min_width": null,
            "object_fit": null,
            "object_position": null,
            "order": null,
            "overflow": null,
            "overflow_x": null,
            "overflow_y": null,
            "padding": null,
            "right": null,
            "top": null,
            "visibility": null,
            "width": null
          }
        },
        "8676eb30b15b41c68ec16c59008e0885": {
          "model_module": "@jupyter-widgets/controls",
          "model_name": "DescriptionStyleModel",
          "model_module_version": "1.5.0",
          "state": {
            "_model_module": "@jupyter-widgets/controls",
            "_model_module_version": "1.5.0",
            "_model_name": "DescriptionStyleModel",
            "_view_count": null,
            "_view_module": "@jupyter-widgets/base",
            "_view_module_version": "1.2.0",
            "_view_name": "StyleView",
            "description_width": ""
          }
        },
        "bdecd4314e044285b3b8570fb5d9c549": {
          "model_module": "@jupyter-widgets/base",
          "model_name": "LayoutModel",
          "model_module_version": "1.2.0",
          "state": {
            "_model_module": "@jupyter-widgets/base",
            "_model_module_version": "1.2.0",
            "_model_name": "LayoutModel",
            "_view_count": null,
            "_view_module": "@jupyter-widgets/base",
            "_view_module_version": "1.2.0",
            "_view_name": "LayoutView",
            "align_content": null,
            "align_items": null,
            "align_self": null,
            "border": null,
            "bottom": null,
            "display": null,
            "flex": null,
            "flex_flow": null,
            "grid_area": null,
            "grid_auto_columns": null,
            "grid_auto_flow": null,
            "grid_auto_rows": null,
            "grid_column": null,
            "grid_gap": null,
            "grid_row": null,
            "grid_template_areas": null,
            "grid_template_columns": null,
            "grid_template_rows": null,
            "height": null,
            "justify_content": null,
            "justify_items": null,
            "left": null,
            "margin": null,
            "max_height": null,
            "max_width": null,
            "min_height": null,
            "min_width": null,
            "object_fit": null,
            "object_position": null,
            "order": null,
            "overflow": null,
            "overflow_x": null,
            "overflow_y": null,
            "padding": null,
            "right": null,
            "top": null,
            "visibility": null,
            "width": null
          }
        },
        "e58976752af24fe7b4e115728ec15d82": {
          "model_module": "@jupyter-widgets/controls",
          "model_name": "ProgressStyleModel",
          "model_module_version": "1.5.0",
          "state": {
            "_model_module": "@jupyter-widgets/controls",
            "_model_module_version": "1.5.0",
            "_model_name": "ProgressStyleModel",
            "_view_count": null,
            "_view_module": "@jupyter-widgets/base",
            "_view_module_version": "1.2.0",
            "_view_name": "StyleView",
            "bar_color": null,
            "description_width": ""
          }
        },
        "f330058b1ddb4c0ea556af629f99b948": {
          "model_module": "@jupyter-widgets/base",
          "model_name": "LayoutModel",
          "model_module_version": "1.2.0",
          "state": {
            "_model_module": "@jupyter-widgets/base",
            "_model_module_version": "1.2.0",
            "_model_name": "LayoutModel",
            "_view_count": null,
            "_view_module": "@jupyter-widgets/base",
            "_view_module_version": "1.2.0",
            "_view_name": "LayoutView",
            "align_content": null,
            "align_items": null,
            "align_self": null,
            "border": null,
            "bottom": null,
            "display": null,
            "flex": null,
            "flex_flow": null,
            "grid_area": null,
            "grid_auto_columns": null,
            "grid_auto_flow": null,
            "grid_auto_rows": null,
            "grid_column": null,
            "grid_gap": null,
            "grid_row": null,
            "grid_template_areas": null,
            "grid_template_columns": null,
            "grid_template_rows": null,
            "height": null,
            "justify_content": null,
            "justify_items": null,
            "left": null,
            "margin": null,
            "max_height": null,
            "max_width": null,
            "min_height": null,
            "min_width": null,
            "object_fit": null,
            "object_position": null,
            "order": null,
            "overflow": null,
            "overflow_x": null,
            "overflow_y": null,
            "padding": null,
            "right": null,
            "top": null,
            "visibility": null,
            "width": null
          }
        },
        "a4c4b3d0100a458bbe3a09f572232c1a": {
          "model_module": "@jupyter-widgets/controls",
          "model_name": "DescriptionStyleModel",
          "model_module_version": "1.5.0",
          "state": {
            "_model_module": "@jupyter-widgets/controls",
            "_model_module_version": "1.5.0",
            "_model_name": "DescriptionStyleModel",
            "_view_count": null,
            "_view_module": "@jupyter-widgets/base",
            "_view_module_version": "1.2.0",
            "_view_name": "StyleView",
            "description_width": ""
          }
        },
        "ff2ef947756d426a8491e97f8ca424b0": {
          "model_module": "@jupyter-widgets/controls",
          "model_name": "HBoxModel",
          "model_module_version": "1.5.0",
          "state": {
            "_dom_classes": [],
            "_model_module": "@jupyter-widgets/controls",
            "_model_module_version": "1.5.0",
            "_model_name": "HBoxModel",
            "_view_count": null,
            "_view_module": "@jupyter-widgets/controls",
            "_view_module_version": "1.5.0",
            "_view_name": "HBoxView",
            "box_style": "",
            "children": [
              "IPY_MODEL_40f2a5da91e74f47829cb18a5f6c63aa",
              "IPY_MODEL_dc40a27e57dd408796c21392d51ceb6c",
              "IPY_MODEL_3570e5dbfef348849159d8567587b3c0"
            ],
            "layout": "IPY_MODEL_9c4d5fc141a8417e945ecdec76a14fc4"
          }
        },
        "40f2a5da91e74f47829cb18a5f6c63aa": {
          "model_module": "@jupyter-widgets/controls",
          "model_name": "HTMLModel",
          "model_module_version": "1.5.0",
          "state": {
            "_dom_classes": [],
            "_model_module": "@jupyter-widgets/controls",
            "_model_module_version": "1.5.0",
            "_model_name": "HTMLModel",
            "_view_count": null,
            "_view_module": "@jupyter-widgets/controls",
            "_view_module_version": "1.5.0",
            "_view_name": "HTMLView",
            "description": "",
            "description_tooltip": null,
            "layout": "IPY_MODEL_6bdf28627af74a9b9fbcf2abc7ec9739",
            "placeholder": "​",
            "style": "IPY_MODEL_d6b2b60e94df41b9869e72b7ba12c654",
            "value": "Generating unsupervised split:  99%"
          }
        },
        "dc40a27e57dd408796c21392d51ceb6c": {
          "model_module": "@jupyter-widgets/controls",
          "model_name": "FloatProgressModel",
          "model_module_version": "1.5.0",
          "state": {
            "_dom_classes": [],
            "_model_module": "@jupyter-widgets/controls",
            "_model_module_version": "1.5.0",
            "_model_name": "FloatProgressModel",
            "_view_count": null,
            "_view_module": "@jupyter-widgets/controls",
            "_view_module_version": "1.5.0",
            "_view_name": "ProgressView",
            "bar_style": "",
            "description": "",
            "description_tooltip": null,
            "layout": "IPY_MODEL_166dc58ea8734ae3a984949f65ac772c",
            "max": 50000,
            "min": 0,
            "orientation": "horizontal",
            "style": "IPY_MODEL_ca2b6fe7336b4d7bba706fdf811f21fc",
            "value": 50000
          }
        },
        "3570e5dbfef348849159d8567587b3c0": {
          "model_module": "@jupyter-widgets/controls",
          "model_name": "HTMLModel",
          "model_module_version": "1.5.0",
          "state": {
            "_dom_classes": [],
            "_model_module": "@jupyter-widgets/controls",
            "_model_module_version": "1.5.0",
            "_model_name": "HTMLModel",
            "_view_count": null,
            "_view_module": "@jupyter-widgets/controls",
            "_view_module_version": "1.5.0",
            "_view_name": "HTMLView",
            "description": "",
            "description_tooltip": null,
            "layout": "IPY_MODEL_5440f359ed814c74a4b27c5d9feb5021",
            "placeholder": "​",
            "style": "IPY_MODEL_3ee07f6f0cae43528a9e7bbe117a61be",
            "value": " 49310/50000 [00:08&lt;00:00, 8940.27 examples/s]"
          }
        },
        "9c4d5fc141a8417e945ecdec76a14fc4": {
          "model_module": "@jupyter-widgets/base",
          "model_name": "LayoutModel",
          "model_module_version": "1.2.0",
          "state": {
            "_model_module": "@jupyter-widgets/base",
            "_model_module_version": "1.2.0",
            "_model_name": "LayoutModel",
            "_view_count": null,
            "_view_module": "@jupyter-widgets/base",
            "_view_module_version": "1.2.0",
            "_view_name": "LayoutView",
            "align_content": null,
            "align_items": null,
            "align_self": null,
            "border": null,
            "bottom": null,
            "display": null,
            "flex": null,
            "flex_flow": null,
            "grid_area": null,
            "grid_auto_columns": null,
            "grid_auto_flow": null,
            "grid_auto_rows": null,
            "grid_column": null,
            "grid_gap": null,
            "grid_row": null,
            "grid_template_areas": null,
            "grid_template_columns": null,
            "grid_template_rows": null,
            "height": null,
            "justify_content": null,
            "justify_items": null,
            "left": null,
            "margin": null,
            "max_height": null,
            "max_width": null,
            "min_height": null,
            "min_width": null,
            "object_fit": null,
            "object_position": null,
            "order": null,
            "overflow": null,
            "overflow_x": null,
            "overflow_y": null,
            "padding": null,
            "right": null,
            "top": null,
            "visibility": null,
            "width": null
          }
        },
        "6bdf28627af74a9b9fbcf2abc7ec9739": {
          "model_module": "@jupyter-widgets/base",
          "model_name": "LayoutModel",
          "model_module_version": "1.2.0",
          "state": {
            "_model_module": "@jupyter-widgets/base",
            "_model_module_version": "1.2.0",
            "_model_name": "LayoutModel",
            "_view_count": null,
            "_view_module": "@jupyter-widgets/base",
            "_view_module_version": "1.2.0",
            "_view_name": "LayoutView",
            "align_content": null,
            "align_items": null,
            "align_self": null,
            "border": null,
            "bottom": null,
            "display": null,
            "flex": null,
            "flex_flow": null,
            "grid_area": null,
            "grid_auto_columns": null,
            "grid_auto_flow": null,
            "grid_auto_rows": null,
            "grid_column": null,
            "grid_gap": null,
            "grid_row": null,
            "grid_template_areas": null,
            "grid_template_columns": null,
            "grid_template_rows": null,
            "height": null,
            "justify_content": null,
            "justify_items": null,
            "left": null,
            "margin": null,
            "max_height": null,
            "max_width": null,
            "min_height": null,
            "min_width": null,
            "object_fit": null,
            "object_position": null,
            "order": null,
            "overflow": null,
            "overflow_x": null,
            "overflow_y": null,
            "padding": null,
            "right": null,
            "top": null,
            "visibility": null,
            "width": null
          }
        },
        "d6b2b60e94df41b9869e72b7ba12c654": {
          "model_module": "@jupyter-widgets/controls",
          "model_name": "DescriptionStyleModel",
          "model_module_version": "1.5.0",
          "state": {
            "_model_module": "@jupyter-widgets/controls",
            "_model_module_version": "1.5.0",
            "_model_name": "DescriptionStyleModel",
            "_view_count": null,
            "_view_module": "@jupyter-widgets/base",
            "_view_module_version": "1.2.0",
            "_view_name": "StyleView",
            "description_width": ""
          }
        },
        "166dc58ea8734ae3a984949f65ac772c": {
          "model_module": "@jupyter-widgets/base",
          "model_name": "LayoutModel",
          "model_module_version": "1.2.0",
          "state": {
            "_model_module": "@jupyter-widgets/base",
            "_model_module_version": "1.2.0",
            "_model_name": "LayoutModel",
            "_view_count": null,
            "_view_module": "@jupyter-widgets/base",
            "_view_module_version": "1.2.0",
            "_view_name": "LayoutView",
            "align_content": null,
            "align_items": null,
            "align_self": null,
            "border": null,
            "bottom": null,
            "display": null,
            "flex": null,
            "flex_flow": null,
            "grid_area": null,
            "grid_auto_columns": null,
            "grid_auto_flow": null,
            "grid_auto_rows": null,
            "grid_column": null,
            "grid_gap": null,
            "grid_row": null,
            "grid_template_areas": null,
            "grid_template_columns": null,
            "grid_template_rows": null,
            "height": null,
            "justify_content": null,
            "justify_items": null,
            "left": null,
            "margin": null,
            "max_height": null,
            "max_width": null,
            "min_height": null,
            "min_width": null,
            "object_fit": null,
            "object_position": null,
            "order": null,
            "overflow": null,
            "overflow_x": null,
            "overflow_y": null,
            "padding": null,
            "right": null,
            "top": null,
            "visibility": null,
            "width": null
          }
        },
        "ca2b6fe7336b4d7bba706fdf811f21fc": {
          "model_module": "@jupyter-widgets/controls",
          "model_name": "ProgressStyleModel",
          "model_module_version": "1.5.0",
          "state": {
            "_model_module": "@jupyter-widgets/controls",
            "_model_module_version": "1.5.0",
            "_model_name": "ProgressStyleModel",
            "_view_count": null,
            "_view_module": "@jupyter-widgets/base",
            "_view_module_version": "1.2.0",
            "_view_name": "StyleView",
            "bar_color": null,
            "description_width": ""
          }
        },
        "5440f359ed814c74a4b27c5d9feb5021": {
          "model_module": "@jupyter-widgets/base",
          "model_name": "LayoutModel",
          "model_module_version": "1.2.0",
          "state": {
            "_model_module": "@jupyter-widgets/base",
            "_model_module_version": "1.2.0",
            "_model_name": "LayoutModel",
            "_view_count": null,
            "_view_module": "@jupyter-widgets/base",
            "_view_module_version": "1.2.0",
            "_view_name": "LayoutView",
            "align_content": null,
            "align_items": null,
            "align_self": null,
            "border": null,
            "bottom": null,
            "display": null,
            "flex": null,
            "flex_flow": null,
            "grid_area": null,
            "grid_auto_columns": null,
            "grid_auto_flow": null,
            "grid_auto_rows": null,
            "grid_column": null,
            "grid_gap": null,
            "grid_row": null,
            "grid_template_areas": null,
            "grid_template_columns": null,
            "grid_template_rows": null,
            "height": null,
            "justify_content": null,
            "justify_items": null,
            "left": null,
            "margin": null,
            "max_height": null,
            "max_width": null,
            "min_height": null,
            "min_width": null,
            "object_fit": null,
            "object_position": null,
            "order": null,
            "overflow": null,
            "overflow_x": null,
            "overflow_y": null,
            "padding": null,
            "right": null,
            "top": null,
            "visibility": null,
            "width": null
          }
        },
        "3ee07f6f0cae43528a9e7bbe117a61be": {
          "model_module": "@jupyter-widgets/controls",
          "model_name": "DescriptionStyleModel",
          "model_module_version": "1.5.0",
          "state": {
            "_model_module": "@jupyter-widgets/controls",
            "_model_module_version": "1.5.0",
            "_model_name": "DescriptionStyleModel",
            "_view_count": null,
            "_view_module": "@jupyter-widgets/base",
            "_view_module_version": "1.2.0",
            "_view_name": "StyleView",
            "description_width": ""
          }
        },
        "9df7714cfa58409bb33cb99defca6f57": {
          "model_module": "@jupyter-widgets/controls",
          "model_name": "HBoxModel",
          "model_module_version": "1.5.0",
          "state": {
            "_dom_classes": [],
            "_model_module": "@jupyter-widgets/controls",
            "_model_module_version": "1.5.0",
            "_model_name": "HBoxModel",
            "_view_count": null,
            "_view_module": "@jupyter-widgets/controls",
            "_view_module_version": "1.5.0",
            "_view_name": "HBoxView",
            "box_style": "",
            "children": [
              "IPY_MODEL_1f80f6bdb4d94e9eaa8e23f6383c39f9",
              "IPY_MODEL_531565e2a94645bd9ff3affcbdb9af49",
              "IPY_MODEL_1a0217d932654ccd8aad13aa96751716"
            ],
            "layout": "IPY_MODEL_adfbcc389c4b4d5b888db03846aaa139"
          }
        },
        "1f80f6bdb4d94e9eaa8e23f6383c39f9": {
          "model_module": "@jupyter-widgets/controls",
          "model_name": "HTMLModel",
          "model_module_version": "1.5.0",
          "state": {
            "_dom_classes": [],
            "_model_module": "@jupyter-widgets/controls",
            "_model_module_version": "1.5.0",
            "_model_name": "HTMLModel",
            "_view_count": null,
            "_view_module": "@jupyter-widgets/controls",
            "_view_module_version": "1.5.0",
            "_view_name": "HTMLView",
            "description": "",
            "description_tooltip": null,
            "layout": "IPY_MODEL_4c5181ef57164912a28e95cef46e1ae8",
            "placeholder": "​",
            "style": "IPY_MODEL_7d376e8e1717458a97889bfda892c33b",
            "value": "100%"
          }
        },
        "531565e2a94645bd9ff3affcbdb9af49": {
          "model_module": "@jupyter-widgets/controls",
          "model_name": "FloatProgressModel",
          "model_module_version": "1.5.0",
          "state": {
            "_dom_classes": [],
            "_model_module": "@jupyter-widgets/controls",
            "_model_module_version": "1.5.0",
            "_model_name": "FloatProgressModel",
            "_view_count": null,
            "_view_module": "@jupyter-widgets/controls",
            "_view_module_version": "1.5.0",
            "_view_name": "ProgressView",
            "bar_style": "success",
            "description": "",
            "description_tooltip": null,
            "layout": "IPY_MODEL_39b481d2d6774a02aa8861cb612c490c",
            "max": 3,
            "min": 0,
            "orientation": "horizontal",
            "style": "IPY_MODEL_3add304b8f384be798be420056bb34d1",
            "value": 3
          }
        },
        "1a0217d932654ccd8aad13aa96751716": {
          "model_module": "@jupyter-widgets/controls",
          "model_name": "HTMLModel",
          "model_module_version": "1.5.0",
          "state": {
            "_dom_classes": [],
            "_model_module": "@jupyter-widgets/controls",
            "_model_module_version": "1.5.0",
            "_model_name": "HTMLModel",
            "_view_count": null,
            "_view_module": "@jupyter-widgets/controls",
            "_view_module_version": "1.5.0",
            "_view_name": "HTMLView",
            "description": "",
            "description_tooltip": null,
            "layout": "IPY_MODEL_500524442e024d8ca65f2bfa944d5e69",
            "placeholder": "​",
            "style": "IPY_MODEL_f84c22b33ee64f0297a39da9274b4428",
            "value": " 3/3 [00:00&lt;00:00, 58.26it/s]"
          }
        },
        "adfbcc389c4b4d5b888db03846aaa139": {
          "model_module": "@jupyter-widgets/base",
          "model_name": "LayoutModel",
          "model_module_version": "1.2.0",
          "state": {
            "_model_module": "@jupyter-widgets/base",
            "_model_module_version": "1.2.0",
            "_model_name": "LayoutModel",
            "_view_count": null,
            "_view_module": "@jupyter-widgets/base",
            "_view_module_version": "1.2.0",
            "_view_name": "LayoutView",
            "align_content": null,
            "align_items": null,
            "align_self": null,
            "border": null,
            "bottom": null,
            "display": null,
            "flex": null,
            "flex_flow": null,
            "grid_area": null,
            "grid_auto_columns": null,
            "grid_auto_flow": null,
            "grid_auto_rows": null,
            "grid_column": null,
            "grid_gap": null,
            "grid_row": null,
            "grid_template_areas": null,
            "grid_template_columns": null,
            "grid_template_rows": null,
            "height": null,
            "justify_content": null,
            "justify_items": null,
            "left": null,
            "margin": null,
            "max_height": null,
            "max_width": null,
            "min_height": null,
            "min_width": null,
            "object_fit": null,
            "object_position": null,
            "order": null,
            "overflow": null,
            "overflow_x": null,
            "overflow_y": null,
            "padding": null,
            "right": null,
            "top": null,
            "visibility": null,
            "width": null
          }
        },
        "4c5181ef57164912a28e95cef46e1ae8": {
          "model_module": "@jupyter-widgets/base",
          "model_name": "LayoutModel",
          "model_module_version": "1.2.0",
          "state": {
            "_model_module": "@jupyter-widgets/base",
            "_model_module_version": "1.2.0",
            "_model_name": "LayoutModel",
            "_view_count": null,
            "_view_module": "@jupyter-widgets/base",
            "_view_module_version": "1.2.0",
            "_view_name": "LayoutView",
            "align_content": null,
            "align_items": null,
            "align_self": null,
            "border": null,
            "bottom": null,
            "display": null,
            "flex": null,
            "flex_flow": null,
            "grid_area": null,
            "grid_auto_columns": null,
            "grid_auto_flow": null,
            "grid_auto_rows": null,
            "grid_column": null,
            "grid_gap": null,
            "grid_row": null,
            "grid_template_areas": null,
            "grid_template_columns": null,
            "grid_template_rows": null,
            "height": null,
            "justify_content": null,
            "justify_items": null,
            "left": null,
            "margin": null,
            "max_height": null,
            "max_width": null,
            "min_height": null,
            "min_width": null,
            "object_fit": null,
            "object_position": null,
            "order": null,
            "overflow": null,
            "overflow_x": null,
            "overflow_y": null,
            "padding": null,
            "right": null,
            "top": null,
            "visibility": null,
            "width": null
          }
        },
        "7d376e8e1717458a97889bfda892c33b": {
          "model_module": "@jupyter-widgets/controls",
          "model_name": "DescriptionStyleModel",
          "model_module_version": "1.5.0",
          "state": {
            "_model_module": "@jupyter-widgets/controls",
            "_model_module_version": "1.5.0",
            "_model_name": "DescriptionStyleModel",
            "_view_count": null,
            "_view_module": "@jupyter-widgets/base",
            "_view_module_version": "1.2.0",
            "_view_name": "StyleView",
            "description_width": ""
          }
        },
        "39b481d2d6774a02aa8861cb612c490c": {
          "model_module": "@jupyter-widgets/base",
          "model_name": "LayoutModel",
          "model_module_version": "1.2.0",
          "state": {
            "_model_module": "@jupyter-widgets/base",
            "_model_module_version": "1.2.0",
            "_model_name": "LayoutModel",
            "_view_count": null,
            "_view_module": "@jupyter-widgets/base",
            "_view_module_version": "1.2.0",
            "_view_name": "LayoutView",
            "align_content": null,
            "align_items": null,
            "align_self": null,
            "border": null,
            "bottom": null,
            "display": null,
            "flex": null,
            "flex_flow": null,
            "grid_area": null,
            "grid_auto_columns": null,
            "grid_auto_flow": null,
            "grid_auto_rows": null,
            "grid_column": null,
            "grid_gap": null,
            "grid_row": null,
            "grid_template_areas": null,
            "grid_template_columns": null,
            "grid_template_rows": null,
            "height": null,
            "justify_content": null,
            "justify_items": null,
            "left": null,
            "margin": null,
            "max_height": null,
            "max_width": null,
            "min_height": null,
            "min_width": null,
            "object_fit": null,
            "object_position": null,
            "order": null,
            "overflow": null,
            "overflow_x": null,
            "overflow_y": null,
            "padding": null,
            "right": null,
            "top": null,
            "visibility": null,
            "width": null
          }
        },
        "3add304b8f384be798be420056bb34d1": {
          "model_module": "@jupyter-widgets/controls",
          "model_name": "ProgressStyleModel",
          "model_module_version": "1.5.0",
          "state": {
            "_model_module": "@jupyter-widgets/controls",
            "_model_module_version": "1.5.0",
            "_model_name": "ProgressStyleModel",
            "_view_count": null,
            "_view_module": "@jupyter-widgets/base",
            "_view_module_version": "1.2.0",
            "_view_name": "StyleView",
            "bar_color": null,
            "description_width": ""
          }
        },
        "500524442e024d8ca65f2bfa944d5e69": {
          "model_module": "@jupyter-widgets/base",
          "model_name": "LayoutModel",
          "model_module_version": "1.2.0",
          "state": {
            "_model_module": "@jupyter-widgets/base",
            "_model_module_version": "1.2.0",
            "_model_name": "LayoutModel",
            "_view_count": null,
            "_view_module": "@jupyter-widgets/base",
            "_view_module_version": "1.2.0",
            "_view_name": "LayoutView",
            "align_content": null,
            "align_items": null,
            "align_self": null,
            "border": null,
            "bottom": null,
            "display": null,
            "flex": null,
            "flex_flow": null,
            "grid_area": null,
            "grid_auto_columns": null,
            "grid_auto_flow": null,
            "grid_auto_rows": null,
            "grid_column": null,
            "grid_gap": null,
            "grid_row": null,
            "grid_template_areas": null,
            "grid_template_columns": null,
            "grid_template_rows": null,
            "height": null,
            "justify_content": null,
            "justify_items": null,
            "left": null,
            "margin": null,
            "max_height": null,
            "max_width": null,
            "min_height": null,
            "min_width": null,
            "object_fit": null,
            "object_position": null,
            "order": null,
            "overflow": null,
            "overflow_x": null,
            "overflow_y": null,
            "padding": null,
            "right": null,
            "top": null,
            "visibility": null,
            "width": null
          }
        },
        "f84c22b33ee64f0297a39da9274b4428": {
          "model_module": "@jupyter-widgets/controls",
          "model_name": "DescriptionStyleModel",
          "model_module_version": "1.5.0",
          "state": {
            "_model_module": "@jupyter-widgets/controls",
            "_model_module_version": "1.5.0",
            "_model_name": "DescriptionStyleModel",
            "_view_count": null,
            "_view_module": "@jupyter-widgets/base",
            "_view_module_version": "1.2.0",
            "_view_name": "StyleView",
            "description_width": ""
          }
        }
      }
    },
    "accelerator": "GPU",
    "gpuClass": "standard"
  },
  "cells": [
    {
      "cell_type": "markdown",
      "metadata": {
        "id": "view-in-github",
        "colab_type": "text"
      },
      "source": [
        "<a href=\"https://colab.research.google.com/github/christopherdiamana/nlp/blob/main/Copy_of_catch_up1.ipynb\" target=\"_parent\"><img src=\"https://colab.research.google.com/assets/colab-badge.svg\" alt=\"Open In Colab\"/></a>"
      ]
    },
    {
      "cell_type": "markdown",
      "source": [
        "# Introduction to Natural Language Processing Catch-up 1"
      ],
      "metadata": {
        "id": "GQ4Z_zgCT6y_"
      }
    },
    {
      "cell_type": "markdown",
      "source": [
        "## The dataset"
      ],
      "metadata": {
        "id": "PlcLXIrKUAxr"
      }
    },
    {
      "cell_type": "code",
      "source": [
        "!pip install datasets"
      ],
      "metadata": {
        "colab": {
          "base_uri": "https://localhost:8080/"
        },
        "id": "rk8O6GDjesQF",
        "outputId": "1d814844-1ae7-4472-fa00-72eb5ea94ace"
      },
      "execution_count": 1,
      "outputs": [
        {
          "output_type": "stream",
          "name": "stdout",
          "text": [
            "Looking in indexes: https://pypi.org/simple, https://us-python.pkg.dev/colab-wheels/public/simple/\n",
            "Collecting datasets\n",
            "  Downloading datasets-2.3.2-py3-none-any.whl (362 kB)\n",
            "\u001b[K     |████████████████████████████████| 362 kB 8.2 MB/s \n",
            "\u001b[?25hCollecting aiohttp\n",
            "  Downloading aiohttp-3.8.1-cp37-cp37m-manylinux_2_5_x86_64.manylinux1_x86_64.manylinux_2_12_x86_64.manylinux2010_x86_64.whl (1.1 MB)\n",
            "\u001b[K     |████████████████████████████████| 1.1 MB 61.2 MB/s \n",
            "\u001b[?25hRequirement already satisfied: multiprocess in /usr/local/lib/python3.7/dist-packages (from datasets) (0.70.13)\n",
            "Requirement already satisfied: numpy>=1.17 in /usr/local/lib/python3.7/dist-packages (from datasets) (1.21.6)\n",
            "Requirement already satisfied: importlib-metadata in /usr/local/lib/python3.7/dist-packages (from datasets) (4.11.4)\n",
            "Collecting xxhash\n",
            "  Downloading xxhash-3.0.0-cp37-cp37m-manylinux_2_17_x86_64.manylinux2014_x86_64.whl (212 kB)\n",
            "\u001b[K     |████████████████████████████████| 212 kB 63.3 MB/s \n",
            "\u001b[?25hRequirement already satisfied: requests>=2.19.0 in /usr/local/lib/python3.7/dist-packages (from datasets) (2.23.0)\n",
            "Collecting fsspec[http]>=2021.05.0\n",
            "  Downloading fsspec-2022.5.0-py3-none-any.whl (140 kB)\n",
            "\u001b[K     |████████████████████████████████| 140 kB 73.9 MB/s \n",
            "\u001b[?25hCollecting responses<0.19\n",
            "  Downloading responses-0.18.0-py3-none-any.whl (38 kB)\n",
            "Requirement already satisfied: pandas in /usr/local/lib/python3.7/dist-packages (from datasets) (1.3.5)\n",
            "Requirement already satisfied: pyarrow>=6.0.0 in /usr/local/lib/python3.7/dist-packages (from datasets) (6.0.1)\n",
            "Requirement already satisfied: packaging in /usr/local/lib/python3.7/dist-packages (from datasets) (21.3)\n",
            "Collecting huggingface-hub<1.0.0,>=0.1.0\n",
            "  Downloading huggingface_hub-0.8.1-py3-none-any.whl (101 kB)\n",
            "\u001b[K     |████████████████████████████████| 101 kB 12.2 MB/s \n",
            "\u001b[?25hRequirement already satisfied: dill<0.3.6 in /usr/local/lib/python3.7/dist-packages (from datasets) (0.3.5.1)\n",
            "Requirement already satisfied: tqdm>=4.62.1 in /usr/local/lib/python3.7/dist-packages (from datasets) (4.64.0)\n",
            "Requirement already satisfied: typing-extensions>=3.7.4.3 in /usr/local/lib/python3.7/dist-packages (from huggingface-hub<1.0.0,>=0.1.0->datasets) (4.1.1)\n",
            "Collecting pyyaml>=5.1\n",
            "  Downloading PyYAML-6.0-cp37-cp37m-manylinux_2_5_x86_64.manylinux1_x86_64.manylinux_2_12_x86_64.manylinux2010_x86_64.whl (596 kB)\n",
            "\u001b[K     |████████████████████████████████| 596 kB 48.1 MB/s \n",
            "\u001b[?25hRequirement already satisfied: filelock in /usr/local/lib/python3.7/dist-packages (from huggingface-hub<1.0.0,>=0.1.0->datasets) (3.7.1)\n",
            "Requirement already satisfied: pyparsing!=3.0.5,>=2.0.2 in /usr/local/lib/python3.7/dist-packages (from packaging->datasets) (3.0.9)\n",
            "Requirement already satisfied: idna<3,>=2.5 in /usr/local/lib/python3.7/dist-packages (from requests>=2.19.0->datasets) (2.10)\n",
            "Requirement already satisfied: chardet<4,>=3.0.2 in /usr/local/lib/python3.7/dist-packages (from requests>=2.19.0->datasets) (3.0.4)\n",
            "Requirement already satisfied: certifi>=2017.4.17 in /usr/local/lib/python3.7/dist-packages (from requests>=2.19.0->datasets) (2022.6.15)\n",
            "Requirement already satisfied: urllib3!=1.25.0,!=1.25.1,<1.26,>=1.21.1 in /usr/local/lib/python3.7/dist-packages (from requests>=2.19.0->datasets) (1.24.3)\n",
            "Collecting urllib3!=1.25.0,!=1.25.1,<1.26,>=1.21.1\n",
            "  Downloading urllib3-1.25.11-py2.py3-none-any.whl (127 kB)\n",
            "\u001b[K     |████████████████████████████████| 127 kB 58.2 MB/s \n",
            "\u001b[?25hRequirement already satisfied: charset-normalizer<3.0,>=2.0 in /usr/local/lib/python3.7/dist-packages (from aiohttp->datasets) (2.0.12)\n",
            "Collecting asynctest==0.13.0\n",
            "  Downloading asynctest-0.13.0-py3-none-any.whl (26 kB)\n",
            "Collecting async-timeout<5.0,>=4.0.0a3\n",
            "  Downloading async_timeout-4.0.2-py3-none-any.whl (5.8 kB)\n",
            "Collecting multidict<7.0,>=4.5\n",
            "  Downloading multidict-6.0.2-cp37-cp37m-manylinux_2_17_x86_64.manylinux2014_x86_64.whl (94 kB)\n",
            "\u001b[K     |████████████████████████████████| 94 kB 2.2 MB/s \n",
            "\u001b[?25hRequirement already satisfied: attrs>=17.3.0 in /usr/local/lib/python3.7/dist-packages (from aiohttp->datasets) (21.4.0)\n",
            "Collecting yarl<2.0,>=1.0\n",
            "  Downloading yarl-1.7.2-cp37-cp37m-manylinux_2_5_x86_64.manylinux1_x86_64.manylinux_2_12_x86_64.manylinux2010_x86_64.whl (271 kB)\n",
            "\u001b[K     |████████████████████████████████| 271 kB 50.3 MB/s \n",
            "\u001b[?25hCollecting frozenlist>=1.1.1\n",
            "  Downloading frozenlist-1.3.0-cp37-cp37m-manylinux_2_5_x86_64.manylinux1_x86_64.manylinux_2_17_x86_64.manylinux2014_x86_64.whl (144 kB)\n",
            "\u001b[K     |████████████████████████████████| 144 kB 55.0 MB/s \n",
            "\u001b[?25hCollecting aiosignal>=1.1.2\n",
            "  Downloading aiosignal-1.2.0-py3-none-any.whl (8.2 kB)\n",
            "Requirement already satisfied: zipp>=0.5 in /usr/local/lib/python3.7/dist-packages (from importlib-metadata->datasets) (3.8.0)\n",
            "Requirement already satisfied: python-dateutil>=2.7.3 in /usr/local/lib/python3.7/dist-packages (from pandas->datasets) (2.8.2)\n",
            "Requirement already satisfied: pytz>=2017.3 in /usr/local/lib/python3.7/dist-packages (from pandas->datasets) (2022.1)\n",
            "Requirement already satisfied: six>=1.5 in /usr/local/lib/python3.7/dist-packages (from python-dateutil>=2.7.3->pandas->datasets) (1.15.0)\n",
            "Installing collected packages: multidict, frozenlist, yarl, urllib3, asynctest, async-timeout, aiosignal, pyyaml, fsspec, aiohttp, xxhash, responses, huggingface-hub, datasets\n",
            "  Attempting uninstall: urllib3\n",
            "    Found existing installation: urllib3 1.24.3\n",
            "    Uninstalling urllib3-1.24.3:\n",
            "      Successfully uninstalled urllib3-1.24.3\n",
            "  Attempting uninstall: pyyaml\n",
            "    Found existing installation: PyYAML 3.13\n",
            "    Uninstalling PyYAML-3.13:\n",
            "      Successfully uninstalled PyYAML-3.13\n",
            "\u001b[31mERROR: pip's dependency resolver does not currently take into account all the packages that are installed. This behaviour is the source of the following dependency conflicts.\n",
            "datascience 0.10.6 requires folium==0.2.1, but you have folium 0.8.3 which is incompatible.\u001b[0m\n",
            "Successfully installed aiohttp-3.8.1 aiosignal-1.2.0 async-timeout-4.0.2 asynctest-0.13.0 datasets-2.3.2 frozenlist-1.3.0 fsspec-2022.5.0 huggingface-hub-0.8.1 multidict-6.0.2 pyyaml-6.0 responses-0.18.0 urllib3-1.25.11 xxhash-3.0.0 yarl-1.7.2\n"
          ]
        }
      ]
    },
    {
      "cell_type": "code",
      "source": [
        "from datasets import load_dataset_builder"
      ],
      "metadata": {
        "id": "U9lURVl0PFUk"
      },
      "execution_count": 2,
      "outputs": []
    },
    {
      "cell_type": "code",
      "source": [
        "ds_builder = load_dataset_builder(\"imdb\")"
      ],
      "metadata": {
        "id": "yF90jsROf32P",
        "colab": {
          "base_uri": "https://localhost:8080/",
          "height": 81,
          "referenced_widgets": [
            "06d0148798274e08b350af63fd089c25",
            "bb22834e2a304b69845774f2e7047ad6",
            "7df9b362d14a4f29ba35fc59b3c15bea",
            "1762323dd0c54d9cb4d90d9487f59f13",
            "397900544dd64282a5b2629172944119",
            "3a6d6b294dd849038aea6d9383fb287d",
            "4c83bcc1ab6945d289989d9ec5e8358a",
            "f42cbcce1e2d47c8baf1d7a54ab851fb",
            "2b04fea578c94caa90a58ac5db5ecb36",
            "b4231ac3e9ed44c0a7a333b85f4854af",
            "dead5ed162f34311aac4c6a1230ae78e",
            "f34cf7fd7c344f429c6cda1ce5f11be9",
            "1a6b9898cbdd4ed7844ac2cd24385fa3",
            "97bccba44cf044df996b57fa7537cfe7",
            "89c508824d684fdfba558c008ec3f963",
            "f41bd12947004682a4e8b126d1e78b90",
            "da54b3c3ab404cb6a86b4edb0384d6da",
            "ac65076c877243f0b9eb6cc5e9f1b3da",
            "33eb3fa40a294f18a9f526633d83253d",
            "db5513a20aba47f7a55ad250c629d7a4",
            "cc87d20d5d254617a13cd7284c02a541",
            "1a7d2acd6fc1482fb7eaae2f855338e7"
          ]
        },
        "outputId": "7d36f3b2-d90d-4210-eb92-fb8315ab02b8"
      },
      "execution_count": 3,
      "outputs": [
        {
          "output_type": "display_data",
          "data": {
            "text/plain": [
              "Downloading builder script:   0%|          | 0.00/1.79k [00:00<?, ?B/s]"
            ],
            "application/vnd.jupyter.widget-view+json": {
              "version_major": 2,
              "version_minor": 0,
              "model_id": "06d0148798274e08b350af63fd089c25"
            }
          },
          "metadata": {}
        },
        {
          "output_type": "display_data",
          "data": {
            "text/plain": [
              "Downloading metadata:   0%|          | 0.00/1.05k [00:00<?, ?B/s]"
            ],
            "application/vnd.jupyter.widget-view+json": {
              "version_major": 2,
              "version_minor": 0,
              "model_id": "f34cf7fd7c344f429c6cda1ce5f11be9"
            }
          },
          "metadata": {}
        }
      ]
    },
    {
      "cell_type": "code",
      "source": [
        "# Inspect dataset description\n",
        "ds_builder.info.description"
      ],
      "metadata": {
        "colab": {
          "base_uri": "https://localhost:8080/",
          "height": 50
        },
        "id": "mrSyAzlkf94S",
        "outputId": "7131add1-ba5b-46ef-895e-a92505be9cff"
      },
      "execution_count": 4,
      "outputs": [
        {
          "output_type": "execute_result",
          "data": {
            "text/plain": [
              "'Large Movie Review Dataset.\\nThis is a dataset for binary sentiment classification containing substantially more data than previous benchmark datasets. We provide a set of 25,000 highly polar movie reviews for training, and 25,000 for testing. There is additional unlabeled data for use as well.'"
            ],
            "application/vnd.google.colaboratory.intrinsic+json": {
              "type": "string"
            }
          },
          "metadata": {},
          "execution_count": 4
        }
      ]
    },
    {
      "cell_type": "code",
      "source": [
        "# Inspect dataset features\n",
        "ds_builder.info.features"
      ],
      "metadata": {
        "colab": {
          "base_uri": "https://localhost:8080/"
        },
        "id": "WNvYWM9jgLWX",
        "outputId": "a27a425a-eb6c-4d4f-b259-1a13f9a3392c"
      },
      "execution_count": 5,
      "outputs": [
        {
          "output_type": "execute_result",
          "data": {
            "text/plain": [
              "{'label': ClassLabel(num_classes=2, names=['neg', 'pos'], id=None),\n",
              " 'text': Value(dtype='string', id=None)}"
            ]
          },
          "metadata": {},
          "execution_count": 5
        }
      ]
    },
    {
      "cell_type": "code",
      "source": [
        "from datasets import get_dataset_split_names"
      ],
      "metadata": {
        "id": "5I1WzwGcgeTM"
      },
      "execution_count": 6,
      "outputs": []
    },
    {
      "cell_type": "code",
      "source": [
        "get_dataset_split_names(\"imdb\")"
      ],
      "metadata": {
        "colab": {
          "base_uri": "https://localhost:8080/"
        },
        "id": "dz5nOdzatTQb",
        "outputId": "30b09b82-9068-4d36-979b-7e0115e5fdaa"
      },
      "execution_count": 7,
      "outputs": [
        {
          "output_type": "execute_result",
          "data": {
            "text/plain": [
              "['train', 'test', 'unsupervised']"
            ]
          },
          "metadata": {},
          "execution_count": 7
        }
      ]
    },
    {
      "cell_type": "code",
      "source": [
        "from datasets import load_dataset"
      ],
      "metadata": {
        "id": "SlHpU73ygW3g"
      },
      "execution_count": 8,
      "outputs": []
    },
    {
      "cell_type": "code",
      "source": [
        "dataset = load_dataset(\"imdb\")"
      ],
      "metadata": {
        "colab": {
          "base_uri": "https://localhost:8080/",
          "height": 134,
          "referenced_widgets": [
            "2ffc9361767e46499073aac1c8f081e1",
            "072a96a67670416bb6adf0cfa7b9c867",
            "546a8d3852f04e37985ffe94c4406fd1",
            "87ffd98e28454100aa7667dfcfae2477",
            "ec07571771b0498ea004f271bb962f89",
            "dbb920c411c345f5bbb771f3ccd13c01",
            "50ffe7a110e449e6b2948e99b6caf290",
            "ac90bde7c28248fe9b38b1ffc0054470",
            "1522ea3326d44dad88e5b36a76ea24cd",
            "023d3e4de0224606a676dd77a9138605",
            "2a894a0d68254e7f8d80f017019c87a9",
            "944ffa44d89c4b968db684739934599c",
            "7985b19ad6b74f65a4065eef990fa909",
            "f56a659a7967429393e93d8ac9f35cf6",
            "282b4622b0784af7a3147399f75f29f0",
            "7936c5ac6c0947e7903ffb5332e2d668",
            "39c30ca2faf4493d995f5ceeec37ffbe",
            "3fde23b361b946e08da4e0f640b3514c",
            "3a89771c04734eaea212e397fc22f37e",
            "aa5b90372fff44df809aacb79d7fd3b2",
            "fc79da3c65a44eb696c9eceb78c91bcc",
            "3f30f6ea29d74132aa24241320b24e1e",
            "6be95b6f227643be9470f5a64d8d8b47",
            "95a5509fbb654742a486e078349231a6",
            "6d4dc31978734e46831b4b2e6dbf2973",
            "3218ec59ee9f4e2095fbc6099f724403",
            "102265158013486d8794ce8ee16528d9",
            "a28795821b414976a4ecd83f9220247e",
            "8676eb30b15b41c68ec16c59008e0885",
            "bdecd4314e044285b3b8570fb5d9c549",
            "e58976752af24fe7b4e115728ec15d82",
            "f330058b1ddb4c0ea556af629f99b948",
            "a4c4b3d0100a458bbe3a09f572232c1a",
            "ff2ef947756d426a8491e97f8ca424b0",
            "40f2a5da91e74f47829cb18a5f6c63aa",
            "dc40a27e57dd408796c21392d51ceb6c",
            "3570e5dbfef348849159d8567587b3c0",
            "9c4d5fc141a8417e945ecdec76a14fc4",
            "6bdf28627af74a9b9fbcf2abc7ec9739",
            "d6b2b60e94df41b9869e72b7ba12c654",
            "166dc58ea8734ae3a984949f65ac772c",
            "ca2b6fe7336b4d7bba706fdf811f21fc",
            "5440f359ed814c74a4b27c5d9feb5021",
            "3ee07f6f0cae43528a9e7bbe117a61be",
            "9df7714cfa58409bb33cb99defca6f57",
            "1f80f6bdb4d94e9eaa8e23f6383c39f9",
            "531565e2a94645bd9ff3affcbdb9af49",
            "1a0217d932654ccd8aad13aa96751716",
            "adfbcc389c4b4d5b888db03846aaa139",
            "4c5181ef57164912a28e95cef46e1ae8",
            "7d376e8e1717458a97889bfda892c33b",
            "39b481d2d6774a02aa8861cb612c490c",
            "3add304b8f384be798be420056bb34d1",
            "500524442e024d8ca65f2bfa944d5e69",
            "f84c22b33ee64f0297a39da9274b4428"
          ]
        },
        "id": "ikFndn_ngZlw",
        "outputId": "c705ec2f-1bef-49cc-c7a8-949d2f465c21"
      },
      "execution_count": 9,
      "outputs": [
        {
          "output_type": "stream",
          "name": "stdout",
          "text": [
            "Downloading and preparing dataset imdb/plain_text (download: 80.23 MiB, generated: 127.02 MiB, post-processed: Unknown size, total: 207.25 MiB) to /root/.cache/huggingface/datasets/imdb/plain_text/1.0.0/2fdd8b9bcadd6e7055e742a706876ba43f19faee861df134affd7a3f60fc38a1...\n"
          ]
        },
        {
          "output_type": "display_data",
          "data": {
            "text/plain": [
              "Downloading data:   0%|          | 0.00/84.1M [00:00<?, ?B/s]"
            ],
            "application/vnd.jupyter.widget-view+json": {
              "version_major": 2,
              "version_minor": 0,
              "model_id": "2ffc9361767e46499073aac1c8f081e1"
            }
          },
          "metadata": {}
        },
        {
          "output_type": "display_data",
          "data": {
            "text/plain": [
              "Generating train split:   0%|          | 0/25000 [00:00<?, ? examples/s]"
            ],
            "application/vnd.jupyter.widget-view+json": {
              "version_major": 2,
              "version_minor": 0,
              "model_id": "944ffa44d89c4b968db684739934599c"
            }
          },
          "metadata": {}
        },
        {
          "output_type": "display_data",
          "data": {
            "text/plain": [
              "Generating test split:   0%|          | 0/25000 [00:00<?, ? examples/s]"
            ],
            "application/vnd.jupyter.widget-view+json": {
              "version_major": 2,
              "version_minor": 0,
              "model_id": "6be95b6f227643be9470f5a64d8d8b47"
            }
          },
          "metadata": {}
        },
        {
          "output_type": "display_data",
          "data": {
            "text/plain": [
              "Generating unsupervised split:   0%|          | 0/50000 [00:00<?, ? examples/s]"
            ],
            "application/vnd.jupyter.widget-view+json": {
              "version_major": 2,
              "version_minor": 0,
              "model_id": "ff2ef947756d426a8491e97f8ca424b0"
            }
          },
          "metadata": {}
        },
        {
          "output_type": "stream",
          "name": "stdout",
          "text": [
            "Dataset imdb downloaded and prepared to /root/.cache/huggingface/datasets/imdb/plain_text/1.0.0/2fdd8b9bcadd6e7055e742a706876ba43f19faee861df134affd7a3f60fc38a1. Subsequent calls will reuse this data.\n"
          ]
        },
        {
          "output_type": "display_data",
          "data": {
            "text/plain": [
              "  0%|          | 0/3 [00:00<?, ?it/s]"
            ],
            "application/vnd.jupyter.widget-view+json": {
              "version_major": 2,
              "version_minor": 0,
              "model_id": "9df7714cfa58409bb33cb99defca6f57"
            }
          },
          "metadata": {}
        }
      ]
    },
    {
      "cell_type": "code",
      "source": [
        "dataset"
      ],
      "metadata": {
        "id": "qZM8l8FNt0LS",
        "colab": {
          "base_uri": "https://localhost:8080/"
        },
        "outputId": "c3f85ab9-4449-43c0-d871-33d2535b08a2"
      },
      "execution_count": 10,
      "outputs": [
        {
          "output_type": "execute_result",
          "data": {
            "text/plain": [
              "DatasetDict({\n",
              "    train: Dataset({\n",
              "        features: ['text', 'label'],\n",
              "        num_rows: 25000\n",
              "    })\n",
              "    test: Dataset({\n",
              "        features: ['text', 'label'],\n",
              "        num_rows: 25000\n",
              "    })\n",
              "    unsupervised: Dataset({\n",
              "        features: ['text', 'label'],\n",
              "        num_rows: 50000\n",
              "    })\n",
              "})"
            ]
          },
          "metadata": {},
          "execution_count": 10
        }
      ]
    },
    {
      "cell_type": "code",
      "execution_count": 11,
      "metadata": {
        "id": "37tBgyvm6sAK",
        "colab": {
          "base_uri": "https://localhost:8080/"
        },
        "outputId": "bde73402-b9c4-476c-f08e-713e680e236a"
      },
      "outputs": [
        {
          "output_type": "stream",
          "name": "stderr",
          "text": [
            "Reusing dataset imdb (/root/.cache/huggingface/datasets/imdb/plain_text/1.0.0/2fdd8b9bcadd6e7055e742a706876ba43f19faee861df134affd7a3f60fc38a1)\n",
            "Reusing dataset imdb (/root/.cache/huggingface/datasets/imdb/plain_text/1.0.0/2fdd8b9bcadd6e7055e742a706876ba43f19faee861df134affd7a3f60fc38a1)\n"
          ]
        }
      ],
      "source": [
        "imdb_train = load_dataset('imdb', split='train')\n",
        "imdb_test = load_dataset('imdb', split='test')"
      ]
    },
    {
      "cell_type": "code",
      "source": [
        "from collections import Counter"
      ],
      "metadata": {
        "id": "ZtKADqfqOAzt"
      },
      "execution_count": 12,
      "outputs": []
    },
    {
      "cell_type": "code",
      "source": [
        "Counter(imdb_train['label'])"
      ],
      "metadata": {
        "id": "H-5DKKjCPVTO",
        "colab": {
          "base_uri": "https://localhost:8080/"
        },
        "outputId": "a16d88cf-1f05-4f0c-a0e5-e878956a5d71"
      },
      "execution_count": 13,
      "outputs": [
        {
          "output_type": "execute_result",
          "data": {
            "text/plain": [
              "Counter({0: 12500, 1: 12500})"
            ]
          },
          "metadata": {},
          "execution_count": 13
        }
      ]
    },
    {
      "cell_type": "code",
      "source": [
        "Counter(imdb_test['label'])"
      ],
      "metadata": {
        "id": "4jO7YLtCPgT9",
        "colab": {
          "base_uri": "https://localhost:8080/"
        },
        "outputId": "54d593ac-0519-4c64-d7b3-059f24dd8220"
      },
      "execution_count": 14,
      "outputs": [
        {
          "output_type": "execute_result",
          "data": {
            "text/plain": [
              "Counter({0: 12500, 1: 12500})"
            ]
          },
          "metadata": {},
          "execution_count": 14
        }
      ]
    },
    {
      "cell_type": "markdown",
      "source": [
        "\n",
        "\n",
        "---\n",
        "\n"
      ],
      "metadata": {
        "id": "Bv3kZieKPw1s"
      }
    },
    {
      "cell_type": "markdown",
      "source": [
        "## Naive Bayes classifier"
      ],
      "metadata": {
        "id": "TbB2cKjKSH5w"
      }
    },
    {
      "cell_type": "code",
      "source": [
        "import numpy as np"
      ],
      "metadata": {
        "id": "UZ8ItZ1e2eK7"
      },
      "execution_count": 15,
      "outputs": []
    },
    {
      "cell_type": "code",
      "source": [
        "def compute_occurences(vocabulary, documents):\n",
        "  \n",
        "  # create a vocabulary dictionary where the elements are initialise to 0 \n",
        "  occurences = dict.fromkeys(vocabulary, 0)\n",
        "\n",
        "  for text in documents:\n",
        "    for current_word in text.split():\n",
        "      occurences[current_word] +=1\n",
        "\n",
        "  return occurences"
      ],
      "metadata": {
        "id": "fulFUbnQkeFp"
      },
      "execution_count": 16,
      "outputs": []
    },
    {
      "cell_type": "code",
      "source": [
        "def compute_class_log_likelihood(log_likelihood, vocabulary, class_label, occurences):\n",
        "  '''\n",
        "  Computes the log likelihoods of words in the documents by class.\n",
        "\n",
        "  Parameters\n",
        "  ----------\n",
        "  log_likelihood: the current log likelihood vocabulary dictionary \n",
        "  vocabulary: the vocabulary of the full corpus\n",
        "  class_label: the label of the class for whom the likelihood will be calculate\n",
        "  occurences: list of words occurence of a specific class\n",
        "\n",
        "  Returns\n",
        "  -------\n",
        "  dictionary with words as keys and log likelihood as values\n",
        "  '''\n",
        "\n",
        "  denominator = sum([occurences[word] + 1 for word in vocabulary])\n",
        "\n",
        "  for word in occurences:\n",
        "    log_likelihood[word][class_label] = math.log((occurences[word] + 1) / denominator)\n",
        "\n",
        "  return log_likelihood"
      ],
      "metadata": {
        "id": "YBqEji8kHAns"
      },
      "execution_count": 17,
      "outputs": []
    },
    {
      "cell_type": "code",
      "source": [
        "import math\n",
        "from operator import countOf\n",
        "\n",
        "\n",
        "def train_naive_bayes(documents, classes):\n",
        "  log_prior = {}\n",
        "  vocabulary = set()\n",
        "  log_likelihood = {}\n",
        "  \n",
        "  [vocabulary.update(document['text'].split()) for index, document in documents.iterrows()]\n",
        "  num_documents = len(documents['text'])\n",
        "  \n",
        "  log_likelihood = { word : {} for word in vocabulary }\n",
        "\n",
        "  for class_label in classes:\n",
        "    num_documents_of_class = np.count_nonzero(np.array(documents['label']) == class_label)\n",
        "    log_prior[class_label] = math.log(num_documents_of_class / num_documents)\n",
        "\n",
        "    big_document = [document['text'] for index, document in documents.iterrows() if document['label'] == class_label]\n",
        "    occurences = compute_occurences(vocabulary, big_document)\n",
        "\n",
        "    log_likelihood = compute_class_log_likelihood(log_likelihood, vocabulary, class_label, occurences)\n",
        "\n",
        "  return log_prior, log_likelihood, vocabulary"
      ],
      "metadata": {
        "id": "hQ-2b5TAPngx"
      },
      "execution_count": 18,
      "outputs": []
    },
    {
      "cell_type": "code",
      "source": [
        "def test_naive_bayes(test_document, logprior, loglikelihood, classes, vocabulary):\n",
        "\n",
        "  summation = []\n",
        "\n",
        "  for class_label in classes:\n",
        "    summation.append(logprior[class_label])\n",
        "    \n",
        "    for word in test_document.split():\n",
        "      if word in vocabulary:\n",
        "        summation[class_label] += loglikelihood[word][class_label] \n",
        "  \n",
        "  return np.argmax(summation)"
      ],
      "metadata": {
        "id": "UN4UQDo2Pnao"
      },
      "execution_count": 19,
      "outputs": []
    },
    {
      "cell_type": "markdown",
      "source": [
        "### Pretreatment"
      ],
      "metadata": {
        "id": "ZVmtcvcTkN44"
      }
    },
    {
      "cell_type": "code",
      "source": [
        "from string import punctuation\n",
        "import re\n",
        "from nltk.stem.wordnet import WordNetLemmatizer\n",
        "from nltk.tokenize import word_tokenize"
      ],
      "metadata": {
        "id": "8JUPqeOpue0q"
      },
      "execution_count": 20,
      "outputs": []
    },
    {
      "cell_type": "code",
      "source": [
        "# For the Lemmatizer \n",
        "import nltk\n",
        "nltk.download('wordnet')\n",
        "nltk.download('punkt')\n",
        "nltk.download('omw-1.4')"
      ],
      "metadata": {
        "id": "fKGZKDGC74AF",
        "colab": {
          "base_uri": "https://localhost:8080/"
        },
        "outputId": "1f8d4c91-c354-4750-f388-417fcd43f901"
      },
      "execution_count": 21,
      "outputs": [
        {
          "output_type": "stream",
          "name": "stderr",
          "text": [
            "[nltk_data] Downloading package wordnet to /root/nltk_data...\n",
            "[nltk_data]   Unzipping corpora/wordnet.zip.\n",
            "[nltk_data] Downloading package punkt to /root/nltk_data...\n",
            "[nltk_data]   Unzipping tokenizers/punkt.zip.\n",
            "[nltk_data] Downloading package omw-1.4 to /root/nltk_data...\n",
            "[nltk_data]   Unzipping corpora/omw-1.4.zip.\n"
          ]
        },
        {
          "output_type": "execute_result",
          "data": {
            "text/plain": [
              "True"
            ]
          },
          "metadata": {},
          "execution_count": 21
        }
      ]
    },
    {
      "cell_type": "code",
      "source": [
        "def pre_treatment(text):\n",
        "  new_text = text.lower()\n",
        "  new_text = new_text.translate(str.maketrans('', '', punctuation))\n",
        "  \n",
        "  #Other pretreatments\n",
        "  new_text = re.sub(r'[^a-z]+', ' ', new_text)\n",
        "  new_text = re.sub(r'\\b\\w\\b', ' ', new_text)\n",
        "  new_text = re.sub(r'\\b\\w\\w\\b', ' ', new_text)\n",
        "  word_tokens = word_tokenize(new_text)\n",
        "  lemmatizer = WordNetLemmatizer()\n",
        "\n",
        "  return ' '.join([lemmatizer.lemmatize(w) for w in word_tokens])"
      ],
      "metadata": {
        "id": "guNwZBQfPnV4"
      },
      "execution_count": 22,
      "outputs": []
    },
    {
      "cell_type": "code",
      "source": [
        "imdb_train['text'][0]"
      ],
      "metadata": {
        "colab": {
          "base_uri": "https://localhost:8080/",
          "height": 100
        },
        "id": "im62em9N86T8",
        "outputId": "7c725d6d-7bc6-47b5-d8af-9fb635f9187f"
      },
      "execution_count": 23,
      "outputs": [
        {
          "output_type": "execute_result",
          "data": {
            "text/plain": [
              "'I rented I AM CURIOUS-YELLOW from my video store because of all the controversy that surrounded it when it was first released in 1967. I also heard that at first it was seized by U.S. customs if it ever tried to enter this country, therefore being a fan of films considered \"controversial\" I really had to see this for myself.<br /><br />The plot is centered around a young Swedish drama student named Lena who wants to learn everything she can about life. In particular she wants to focus her attentions to making some sort of documentary on what the average Swede thought about certain political issues such as the Vietnam War and race issues in the United States. In between asking politicians and ordinary denizens of Stockholm about their opinions on politics, she has sex with her drama teacher, classmates, and married men.<br /><br />What kills me about I AM CURIOUS-YELLOW is that 40 years ago, this was considered pornographic. Really, the sex and nudity scenes are few and far between, even then it\\'s not shot like some cheaply made porno. While my countrymen mind find it shocking, in reality sex and nudity are a major staple in Swedish cinema. Even Ingmar Bergman, arguably their answer to good old boy John Ford, had sex scenes in his films.<br /><br />I do commend the filmmakers for the fact that any sex shown in the film is shown for artistic purposes rather than just to shock people and make money to be shown in pornographic theaters in America. I AM CURIOUS-YELLOW is a good film for anyone wanting to study the meat and potatoes (no pun intended) of Swedish cinema. But really, this film doesn\\'t have much of a plot.'"
            ],
            "application/vnd.google.colaboratory.intrinsic+json": {
              "type": "string"
            }
          },
          "metadata": {},
          "execution_count": 23
        }
      ]
    },
    {
      "cell_type": "code",
      "source": [
        "pre_treated_text = [pre_treatment(text) for text in imdb_train['text']]"
      ],
      "metadata": {
        "id": "ijn9wMxjPnQo"
      },
      "execution_count": 24,
      "outputs": []
    },
    {
      "cell_type": "code",
      "source": [
        "pre_treated_text[0]"
      ],
      "metadata": {
        "colab": {
          "base_uri": "https://localhost:8080/",
          "height": 100
        },
        "id": "CoBDTGKY8e_O",
        "outputId": "f3705089-e119-4748-85bc-221974be7544"
      },
      "execution_count": 25,
      "outputs": [
        {
          "output_type": "execute_result",
          "data": {
            "text/plain": [
              "'rented curiousyellow from video store because all the controversy that surrounded when wa first released also heard that first wa seized custom ever tried enter this country therefore being fan film considered controversial really had see this for myselfbr the plot centered around young swedish drama student named lena who want learn everything she can about life particular she want focus her attention making some sort documentary what the average swede thought about certain political issue such the vietnam war and race issue the united state between asking politician and ordinary denizen stockholm about their opinion politics she ha sex with her drama teacher classmate and married menbr what kill about curiousyellow that year ago this wa considered pornographic really the sex and nudity scene are few and far between even then it not shot like some cheaply made porno while countryman mind find shocking reality sex and nudity are major staple swedish cinema even ingmar bergman arguably their answer good old boy john ford had sex scene his filmsbr commend the filmmaker for the fact that any sex shown the film shown for artistic purpose rather than just shock people and make money shown pornographic theater america curiousyellow good film for anyone wanting study the meat and potato pun intended swedish cinema but really this film doesnt have much plot'"
            ],
            "application/vnd.google.colaboratory.intrinsic+json": {
              "type": "string"
            }
          },
          "metadata": {},
          "execution_count": 25
        }
      ]
    },
    {
      "cell_type": "markdown",
      "source": [
        "### Naive Bayes classifier on the training set"
      ],
      "metadata": {
        "id": "hG5iNINqzD0j"
      }
    },
    {
      "cell_type": "markdown",
      "source": [
        "#### Converte to a dataframe"
      ],
      "metadata": {
        "id": "RW3ELXA7jLUY"
      }
    },
    {
      "cell_type": "code",
      "source": [
        "import pandas as pd"
      ],
      "metadata": {
        "id": "huoX0vLuJiUr"
      },
      "execution_count": 26,
      "outputs": []
    },
    {
      "cell_type": "code",
      "source": [
        "data_imdb_train = {'text': pre_treated_text, 'label': imdb_train['label']}\n",
        "df_imdb_train = pd.DataFrame(data = data_imdb_train)"
      ],
      "metadata": {
        "id": "oZJxLbkx9CoL"
      },
      "execution_count": 27,
      "outputs": []
    },
    {
      "cell_type": "code",
      "source": [
        "df_imdb_train.head()"
      ],
      "metadata": {
        "colab": {
          "base_uri": "https://localhost:8080/",
          "height": 201
        },
        "id": "58a3Z57MjqQX",
        "outputId": "b0e5f2c4-1295-465b-b265-cbd8f21de08d"
      },
      "execution_count": 28,
      "outputs": [
        {
          "output_type": "execute_result",
          "data": {
            "text/plain": [
              "                                                text  label\n",
              "0  rented curiousyellow from video store because ...      0\n",
              "1  curious yellow risible and pretentious steamin...      0\n",
              "2  only avoid making this type film the future th...      0\n",
              "3  this film wa probably inspired godard masculin...      0\n",
              "4  brotherafter hearing about this ridiculous fil...      0"
            ],
            "text/html": [
              "\n",
              "  <div id=\"df-568a949c-fdcd-4c3c-82e1-505a9d77786f\">\n",
              "    <div class=\"colab-df-container\">\n",
              "      <div>\n",
              "<style scoped>\n",
              "    .dataframe tbody tr th:only-of-type {\n",
              "        vertical-align: middle;\n",
              "    }\n",
              "\n",
              "    .dataframe tbody tr th {\n",
              "        vertical-align: top;\n",
              "    }\n",
              "\n",
              "    .dataframe thead th {\n",
              "        text-align: right;\n",
              "    }\n",
              "</style>\n",
              "<table border=\"1\" class=\"dataframe\">\n",
              "  <thead>\n",
              "    <tr style=\"text-align: right;\">\n",
              "      <th></th>\n",
              "      <th>text</th>\n",
              "      <th>label</th>\n",
              "    </tr>\n",
              "  </thead>\n",
              "  <tbody>\n",
              "    <tr>\n",
              "      <th>0</th>\n",
              "      <td>rented curiousyellow from video store because ...</td>\n",
              "      <td>0</td>\n",
              "    </tr>\n",
              "    <tr>\n",
              "      <th>1</th>\n",
              "      <td>curious yellow risible and pretentious steamin...</td>\n",
              "      <td>0</td>\n",
              "    </tr>\n",
              "    <tr>\n",
              "      <th>2</th>\n",
              "      <td>only avoid making this type film the future th...</td>\n",
              "      <td>0</td>\n",
              "    </tr>\n",
              "    <tr>\n",
              "      <th>3</th>\n",
              "      <td>this film wa probably inspired godard masculin...</td>\n",
              "      <td>0</td>\n",
              "    </tr>\n",
              "    <tr>\n",
              "      <th>4</th>\n",
              "      <td>brotherafter hearing about this ridiculous fil...</td>\n",
              "      <td>0</td>\n",
              "    </tr>\n",
              "  </tbody>\n",
              "</table>\n",
              "</div>\n",
              "      <button class=\"colab-df-convert\" onclick=\"convertToInteractive('df-568a949c-fdcd-4c3c-82e1-505a9d77786f')\"\n",
              "              title=\"Convert this dataframe to an interactive table.\"\n",
              "              style=\"display:none;\">\n",
              "        \n",
              "  <svg xmlns=\"http://www.w3.org/2000/svg\" height=\"24px\"viewBox=\"0 0 24 24\"\n",
              "       width=\"24px\">\n",
              "    <path d=\"M0 0h24v24H0V0z\" fill=\"none\"/>\n",
              "    <path d=\"M18.56 5.44l.94 2.06.94-2.06 2.06-.94-2.06-.94-.94-2.06-.94 2.06-2.06.94zm-11 1L8.5 8.5l.94-2.06 2.06-.94-2.06-.94L8.5 2.5l-.94 2.06-2.06.94zm10 10l.94 2.06.94-2.06 2.06-.94-2.06-.94-.94-2.06-.94 2.06-2.06.94z\"/><path d=\"M17.41 7.96l-1.37-1.37c-.4-.4-.92-.59-1.43-.59-.52 0-1.04.2-1.43.59L10.3 9.45l-7.72 7.72c-.78.78-.78 2.05 0 2.83L4 21.41c.39.39.9.59 1.41.59.51 0 1.02-.2 1.41-.59l7.78-7.78 2.81-2.81c.8-.78.8-2.07 0-2.86zM5.41 20L4 18.59l7.72-7.72 1.47 1.35L5.41 20z\"/>\n",
              "  </svg>\n",
              "      </button>\n",
              "      \n",
              "  <style>\n",
              "    .colab-df-container {\n",
              "      display:flex;\n",
              "      flex-wrap:wrap;\n",
              "      gap: 12px;\n",
              "    }\n",
              "\n",
              "    .colab-df-convert {\n",
              "      background-color: #E8F0FE;\n",
              "      border: none;\n",
              "      border-radius: 50%;\n",
              "      cursor: pointer;\n",
              "      display: none;\n",
              "      fill: #1967D2;\n",
              "      height: 32px;\n",
              "      padding: 0 0 0 0;\n",
              "      width: 32px;\n",
              "    }\n",
              "\n",
              "    .colab-df-convert:hover {\n",
              "      background-color: #E2EBFA;\n",
              "      box-shadow: 0px 1px 2px rgba(60, 64, 67, 0.3), 0px 1px 3px 1px rgba(60, 64, 67, 0.15);\n",
              "      fill: #174EA6;\n",
              "    }\n",
              "\n",
              "    [theme=dark] .colab-df-convert {\n",
              "      background-color: #3B4455;\n",
              "      fill: #D2E3FC;\n",
              "    }\n",
              "\n",
              "    [theme=dark] .colab-df-convert:hover {\n",
              "      background-color: #434B5C;\n",
              "      box-shadow: 0px 1px 3px 1px rgba(0, 0, 0, 0.15);\n",
              "      filter: drop-shadow(0px 1px 2px rgba(0, 0, 0, 0.3));\n",
              "      fill: #FFFFFF;\n",
              "    }\n",
              "  </style>\n",
              "\n",
              "      <script>\n",
              "        const buttonEl =\n",
              "          document.querySelector('#df-568a949c-fdcd-4c3c-82e1-505a9d77786f button.colab-df-convert');\n",
              "        buttonEl.style.display =\n",
              "          google.colab.kernel.accessAllowed ? 'block' : 'none';\n",
              "\n",
              "        async function convertToInteractive(key) {\n",
              "          const element = document.querySelector('#df-568a949c-fdcd-4c3c-82e1-505a9d77786f');\n",
              "          const dataTable =\n",
              "            await google.colab.kernel.invokeFunction('convertToInteractive',\n",
              "                                                     [key], {});\n",
              "          if (!dataTable) return;\n",
              "\n",
              "          const docLinkHtml = 'Like what you see? Visit the ' +\n",
              "            '<a target=\"_blank\" href=https://colab.research.google.com/notebooks/data_table.ipynb>data table notebook</a>'\n",
              "            + ' to learn more about interactive tables.';\n",
              "          element.innerHTML = '';\n",
              "          dataTable['output_type'] = 'display_data';\n",
              "          await google.colab.output.renderOutput(dataTable, element);\n",
              "          const docLink = document.createElement('div');\n",
              "          docLink.innerHTML = docLinkHtml;\n",
              "          element.appendChild(docLink);\n",
              "        }\n",
              "      </script>\n",
              "    </div>\n",
              "  </div>\n",
              "  "
            ]
          },
          "metadata": {},
          "execution_count": 28
        }
      ]
    },
    {
      "cell_type": "markdown",
      "source": [
        "#### Train the imdb"
      ],
      "metadata": {
        "id": "gwtCIOZkJnXw"
      }
    },
    {
      "cell_type": "code",
      "source": [
        "classes = [0, 1]"
      ],
      "metadata": {
        "id": "_REelwAdh4JE"
      },
      "execution_count": 29,
      "outputs": []
    },
    {
      "cell_type": "code",
      "source": [
        "log_prior, log_likelihood, vocabulary = train_naive_bayes(df_imdb_train, classes)"
      ],
      "metadata": {
        "id": "_49SP39XzTYz"
      },
      "execution_count": 30,
      "outputs": []
    },
    {
      "cell_type": "code",
      "source": [
        "log_prior, log_likelihood"
      ],
      "metadata": {
        "colab": {
          "base_uri": "https://localhost:8080/"
        },
        "id": "2fyq_7sskcC6",
        "outputId": "3d747e4d-626e-4a31-ead0-5891c3a23cda"
      },
      "execution_count": 31,
      "outputs": [
        {
          "output_type": "execute_result",
          "data": {
            "text/plain": [
              "({0: -0.6931471805599453, 1: -0.6931471805599453},\n",
              " {'couplebr': {0: -13.289877087192913, 1: -12.623470030030344},\n",
              "  'wahlberg': {0: -11.903582726073022, 1: -14.009764391150235},\n",
              "  'seidl': {0: -13.577559159644695, 1: -12.063854242094921},\n",
              "  'definatey': {0: -13.983024267752858, 1: -14.70291157171018},\n",
              "  'internationale': {0: -14.676171448312804, 1: -14.009764391150235},\n",
              "  'geare': {0: -14.676171448312804, 1: -14.009764391150235},\n",
              "  'ellissen': {0: -13.983024267752858, 1: -14.70291157171018},\n",
              "  'gonzales': {0: -13.577559159644695, 1: -13.093473659276079},\n",
              "  'sportsfan': {0: -14.676171448312804, 1: -14.009764391150235},\n",
              "  'daughtersbr': {0: -14.676171448312804, 1: -13.093473659276079},\n",
              "  'quota': {0: -12.73026129925749, 1: -13.093473659276079},\n",
              "  'simonetta': {0: -13.289877087192913, 1: -14.70291157171018},\n",
              "  'dalebr': {0: -14.676171448312804, 1: -14.009764391150235},\n",
              "  'envahisseurs': {0: -13.983024267752858, 1: -14.70291157171018},\n",
              "  'totoandy': {0: -14.676171448312804, 1: -14.009764391150235},\n",
              "  'unlighted': {0: -13.983024267752858, 1: -14.70291157171018},\n",
              "  'andys': {0: -12.596729906632968, 1: -11.812539813814015},\n",
              "  'inclusivenessbr': {0: -14.676171448312804, 1: -14.009764391150235},\n",
              "  'dress': {0: -9.98482356608366, 1: -9.79763679327175},\n",
              "  'headquarters': {0: -12.478946870976584, 1: -12.623470030030344},\n",
              "  'eyou': {0: -14.676171448312804, 1: -14.009764391150235},\n",
              "  'eviscerated': {0: -13.983024267752858, 1: -13.604299283042069},\n",
              "  'somebr': {0: -13.066733535878702, 1: -13.604299283042069},\n",
              "  'leonida': {0: -14.676171448312804, 1: -14.009764391150235},\n",
              "  'teems': {0: -13.577559159644695, 1: -14.70291157171018},\n",
              "  'biking': {0: -13.577559159644695, 1: -14.009764391150235},\n",
              "  'multifunctional': {0: -13.983024267752858, 1: -14.70291157171018},\n",
              "  'triggering': {0: -14.676171448312804, 1: -13.604299283042069},\n",
              "  'glickenhaus': {0: -13.983024267752858, 1: -13.093473659276079},\n",
              "  'uncannily': {0: -13.983024267752858, 1: -13.093473659276079},\n",
              "  'httpwwwreplaydvdcoukjokingaparts': {0: -14.676171448312804,\n",
              "   1: -14.009764391150235},\n",
              "  'meeeeebr': {0: -13.983024267752858, 1: -14.70291157171018},\n",
              "  'confusinglybr': {0: -13.983024267752858, 1: -14.70291157171018},\n",
              "  'chrystal': {0: -14.676171448312804, 1: -14.009764391150235},\n",
              "  'indebtedness': {0: -13.983024267752858, 1: -14.009764391150235},\n",
              "  'humvee': {0: -13.577559159644695, 1: -14.70291157171018},\n",
              "  'flavoured': {0: -13.983024267752858, 1: -14.70291157171018},\n",
              "  'distracting': {0: -10.581826886090703, 1: -10.941711456016616},\n",
              "  'laughfestbr': {0: -13.983024267752858, 1: -14.70291157171018},\n",
              "  'beefcake': {0: -13.289877087192913, 1: -12.50568699437396},\n",
              "  'loudmouthed': {0: -13.066733535878702, 1: -13.31661721059029},\n",
              "  'gyspy': {0: -14.676171448312804, 1: -14.009764391150235},\n",
              "  'seeiteverychanceiget': {0: -14.676171448312804, 1: -14.009764391150235},\n",
              "  'sheeplost': {0: -14.676171448312804, 1: -14.009764391150235},\n",
              "  'healthy': {0: -11.210435545513077, 1: -11.206404010243698},\n",
              "  'cafesbr': {0: -14.676171448312804, 1: -14.009764391150235},\n",
              "  'junkmovie': {0: -13.983024267752858, 1: -14.70291157171018},\n",
              "  'muscleheads': {0: -13.983024267752858, 1: -14.70291157171018},\n",
              "  'downloadable': {0: -13.983024267752858, 1: -14.70291157171018},\n",
              "  'lithiumlike': {0: -14.676171448312804, 1: -14.009764391150235},\n",
              "  'wantsee': {0: -14.676171448312804, 1: -14.009764391150235},\n",
              "  'liotta': {0: -11.731732469146364, 1: -11.707179298156188},\n",
              "  'consenting': {0: -13.577559159644695, 1: -13.31661721059029},\n",
              "  'dana': {0: -11.274974066650648, 1: -10.695578386477708},\n",
              "  'beautifultalented': {0: -14.676171448312804, 1: -14.009764391150235},\n",
              "  'dub': {0: -11.540677232383654, 1: -10.372178231423849},\n",
              "  'stayed': {0: -10.081051598178213, 1: -10.260260315219863},\n",
              "  'minidv': {0: -13.289877087192913, 1: -13.604299283042069},\n",
              "  'bierko': {0: -13.983024267752858, 1: -14.70291157171018},\n",
              "  'flickbr': {0: -11.210435545513077, 1: -11.658389133986756},\n",
              "  'moviecompletely': {0: -13.983024267752858, 1: -14.70291157171018},\n",
              "  'immersion': {0: -13.066733535878702, 1: -12.911152102482124},\n",
              "  'askew': {0: -13.289877087192913, 1: -12.911152102482124},\n",
              "  'profanitybr': {0: -13.577559159644695, 1: -14.70291157171018},\n",
              "  'granite': {0: -13.983024267752858, 1: -14.70291157171018},\n",
              "  'coltonbr': {0: -14.676171448312804, 1: -14.009764391150235},\n",
              "  'valeri': {0: -13.577559159644695, 1: -14.70291157171018},\n",
              "  'uears': {0: -13.983024267752858, 1: -14.70291157171018},\n",
              "  'dittrich': {0: -13.983024267752858, 1: -14.70291157171018},\n",
              "  'envelopebr': {0: -13.983024267752858, 1: -14.70291157171018},\n",
              "  'yvaine': {0: -14.676171448312804, 1: -11.869698227653963},\n",
              "  'massacre': {0: -10.306723595845781, 1: -10.528524301814542},\n",
              "  'kleinroggeshe': {0: -14.676171448312804, 1: -14.009764391150235},\n",
              "  'obstinate': {0: -13.983024267752858, 1: -13.31661721059029},\n",
              "  'jerusalem': {0: -13.066733535878702, 1: -12.30501629891181},\n",
              "  'esrechowitz': {0: -13.983024267752858, 1: -14.70291157171018},\n",
              "  'onehandless': {0: -14.676171448312804, 1: -14.009764391150235},\n",
              "  'repeatbr': {0: -13.577559159644695, 1: -14.009764391150235},\n",
              "  'semiporn': {0: -14.676171448312804, 1: -14.009764391150235},\n",
              "  'visuallybr': {0: -14.676171448312804, 1: -14.009764391150235},\n",
              "  'scotsmanbr': {0: -14.676171448312804, 1: -14.009764391150235},\n",
              "  'noo': {0: -13.983024267752858, 1: -14.009764391150235},\n",
              "  'entrepreneurial': {0: -14.676171448312804, 1: -13.604299283042069},\n",
              "  'peoplei': {0: -13.983024267752858, 1: -14.70291157171018},\n",
              "  'domingo': {0: -13.983024267752858, 1: -13.604299283042069},\n",
              "  'miniseriesbr': {0: -13.577559159644695, 1: -13.604299283042069},\n",
              "  'implausibility': {0: -11.731732469146364, 1: -12.757001422654866},\n",
              "  'manville': {0: -13.577559159644695, 1: -14.009764391150235},\n",
              "  'rosanna': {0: -11.380334582308475, 1: -14.70291157171018},\n",
              "  'mare': {0: -12.278276175514433, 1: -12.50568699437396},\n",
              "  'masonwearing': {0: -13.983024267752858, 1: -14.70291157171018},\n",
              "  'elapses': {0: -13.983024267752858, 1: -14.009764391150235},\n",
              "  'examplegrinch': {0: -13.983024267752858, 1: -14.70291157171018},\n",
              "  'bayou': {0: -14.676171448312804, 1: -13.604299283042069},\n",
              "  'jancie': {0: -13.983024267752858, 1: -14.70291157171018},\n",
              "  'experimental': {0: -11.092652509856693, 1: -10.96524195342681},\n",
              "  'okej': {0: -13.983024267752858, 1: -14.70291157171018},\n",
              "  'walid': {0: -13.983024267752858, 1: -14.70291157171018},\n",
              "  'youththis': {0: -14.676171448312804, 1: -14.009764391150235},\n",
              "  'lasse': {0: -13.983024267752858, 1: -14.70291157171018},\n",
              "  'stuntsps': {0: -14.676171448312804, 1: -14.009764391150235},\n",
              "  'voiced': {0: -11.540677232383654, 1: -10.62537412780446},\n",
              "  'bearable': {0: -11.274974066650648, 1: -13.093473659276079},\n",
              "  'iceprincess': {0: -13.983024267752858, 1: -14.70291157171018},\n",
              "  'terrorises': {0: -13.983024267752858, 1: -14.70291157171018},\n",
              "  'fictionalisation': {0: -13.983024267752858, 1: -14.70291157171018},\n",
              "  'hauling': {0: -13.983024267752858, 1: -13.604299283042069},\n",
              "  'proposition': {0: -12.191264798524804, 1: -12.137962214248642},\n",
              "  'stakefar': {0: -14.676171448312804, 1: -14.009764391150235},\n",
              "  'momstripper': {0: -13.983024267752858, 1: -14.70291157171018},\n",
              "  'monstersontherampage': {0: -13.983024267752858, 1: -14.70291157171018},\n",
              "  'illeffects': {0: -14.676171448312804, 1: -14.009764391150235},\n",
              "  'jaeckel': {0: -13.983024267752858, 1: -14.009764391150235},\n",
              "  'todaywhich': {0: -14.676171448312804, 1: -14.009764391150235},\n",
              "  'anticlimaxbr': {0: -13.577559159644695, 1: -14.70291157171018},\n",
              "  'disconcerting': {0: -12.596729906632968, 1: -12.218004921922178},\n",
              "  'ps': {0: -12.73026129925749, 1: -13.604299283042069},\n",
              "  'twentyyears': {0: -14.676171448312804, 1: -14.009764391150235},\n",
              "  'jeanette': {0: -12.373586355318757, 1: -12.137962214248642},\n",
              "  'boatthen': {0: -13.983024267752858, 1: -14.70291157171018},\n",
              "  'badunconvincing': {0: -13.983024267752858, 1: -14.70291157171018},\n",
              "  'iglesias': {0: -13.983024267752858, 1: -14.009764391150235},\n",
              "  'misanthropy': {0: -13.983024267752858, 1: -13.604299283042069},\n",
              "  'cusswords': {0: -14.676171448312804, 1: -14.009764391150235},\n",
              "  'hazares': {0: -14.676171448312804, 1: -14.009764391150235},\n",
              "  'hack': {0: -10.442064943715543, 1: -11.658389133986756},\n",
              "  'loan': {0: -13.066733535878702, 1: -11.930322849470398},\n",
              "  'criminology': {0: -14.676171448312804, 1: -14.009764391150235},\n",
              "  'bastardization': {0: -13.289877087192913, 1: -14.70291157171018},\n",
              "  'heartstring': {0: -13.983024267752858, 1: -14.009764391150235},\n",
              "  'prinze': {0: -13.983024267752858, 1: -14.70291157171018},\n",
              "  'earthworm': {0: -13.983024267752858, 1: -14.009764391150235},\n",
              "  'admirees': {0: -13.983024267752858, 1: -14.70291157171018},\n",
              "  'serpent': {0: -12.373586355318757, 1: -12.137962214248642},\n",
              "  'teenmovie': {0: -13.983024267752858, 1: -14.70291157171018},\n",
              "  'asianelvis': {0: -13.983024267752858, 1: -14.70291157171018},\n",
              "  'laughsof': {0: -14.676171448312804, 1: -14.009764391150235},\n",
              "  'santana': {0: -12.278276175514433, 1: -14.70291157171018},\n",
              "  'intelligencethis': {0: -14.676171448312804, 1: -14.009764391150235},\n",
              "  'definetely': {0: -13.577559159644695, 1: -13.093473659276079},\n",
              "  'peyote': {0: -13.983024267752858, 1: -14.009764391150235},\n",
              "  'timesparticularly': {0: -13.983024267752858, 1: -14.70291157171018},\n",
              "  'bucked': {0: -13.983024267752858, 1: -14.70291157171018},\n",
              "  'wino': {0: -13.289877087192913, 1: -14.70291157171018},\n",
              "  'similarlytashed': {0: -13.983024267752858, 1: -14.70291157171018},\n",
              "  'verica': {0: -13.983024267752858, 1: -14.70291157171018},\n",
              "  'fuchsia': {0: -13.983024267752858, 1: -14.70291157171018},\n",
              "  'perplexes': {0: -13.983024267752858, 1: -14.70291157171018},\n",
              "  'rudy': {0: -12.278276175514433, 1: -11.869698227653963},\n",
              "  'carrotmoreover': {0: -13.983024267752858, 1: -14.70291157171018},\n",
              "  'caprica': {0: -12.037114118697545, 1: -11.206404010243698},\n",
              "  'offmaybe': {0: -13.983024267752858, 1: -14.70291157171018},\n",
              "  'riedelsheimer': {0: -14.676171448312804, 1: -12.911152102482124},\n",
              "  'wheelies': {0: -13.983024267752858, 1: -14.70291157171018},\n",
              "  'fantasylike': {0: -14.676171448312804, 1: -13.604299283042069},\n",
              "  'overdramatic': {0: -12.278276175514433, 1: -13.093473659276079},\n",
              "  'powerless': {0: -12.191264798524804, 1: -12.757001422654866},\n",
              "  'greenwell': {0: -14.676171448312804, 1: -14.009764391150235},\n",
              "  'manniquens': {0: -13.983024267752858, 1: -14.70291157171018},\n",
              "  'featurette': {0: -12.278276175514433, 1: -11.707179298156188},\n",
              "  'suffocating': {0: -13.289877087192913, 1: -12.623470030030344},\n",
              "  'access': {0: -10.804970437404913, 1: -10.89624908193986},\n",
              "  'tomei': {0: -12.73026129925749, 1: -10.918721937791918},\n",
              "  'syringebr': {0: -13.983024267752858, 1: -14.70291157171018},\n",
              "  'detox': {0: -13.983024267752858, 1: -14.70291157171018},\n",
              "  'entwining': {0: -14.676171448312804, 1: -13.604299283042069},\n",
              "  'recycler': {0: -13.983024267752858, 1: -14.70291157171018},\n",
              "  'blondie': {0: -13.066733535878702, 1: -13.604299283042069},\n",
              "  'sandbag': {0: -14.676171448312804, 1: -14.009764391150235},\n",
              "  'tropical': {0: -12.111222090851268, 1: -12.50568699437396},\n",
              "  'lenz': {0: -12.596729906632968, 1: -14.009764391150235},\n",
              "  'naomi': {0: -12.88441197908475, 1: -12.218004921922178},\n",
              "  'jesusas': {0: -13.983024267752858, 1: -14.70291157171018},\n",
              "  'storyquigley': {0: -14.676171448312804, 1: -14.009764391150235},\n",
              "  'dancingive': {0: -13.983024267752858, 1: -14.70291157171018},\n",
              "  'piso': {0: -14.676171448312804, 1: -14.009764391150235},\n",
              "  'tacit': {0: -13.289877087192913, 1: -14.009764391150235},\n",
              "  'mcguire': {0: -13.289877087192913, 1: -12.400326478716133},\n",
              "  'manneri': {0: -13.983024267752858, 1: -14.70291157171018},\n",
              "  'gorya': {0: -14.676171448312804, 1: -14.009764391150235},\n",
              "  'huac': {0: -13.577559159644695, 1: -14.009764391150235},\n",
              "  'nominationsbr': {0: -14.676171448312804, 1: -13.604299283042069},\n",
              "  'bodycount': {0: -13.289877087192913, 1: -12.911152102482124},\n",
              "  'membury': {0: -14.676171448312804, 1: -14.009764391150235},\n",
              "  'stopsign': {0: -13.983024267752858, 1: -14.70291157171018},\n",
              "  'uniformsas': {0: -13.983024267752858, 1: -14.70291157171018},\n",
              "  'pagansbr': {0: -14.676171448312804, 1: -14.009764391150235},\n",
              "  'refuel': {0: -13.983024267752858, 1: -14.70291157171018},\n",
              "  'barzell': {0: -14.676171448312804, 1: -14.009764391150235},\n",
              "  'cloyingly': {0: -13.983024267752858, 1: -14.70291157171018},\n",
              "  'portray': {0: -9.931239319949553, 1: -9.705699297946063},\n",
              "  'alienbattle': {0: -13.983024267752858, 1: -14.70291157171018},\n",
              "  'workcrew': {0: -13.983024267752858, 1: -14.70291157171018},\n",
              "  'guevera': {0: -14.676171448312804, 1: -14.009764391150235},\n",
              "  'trashthis': {0: -14.676171448312804, 1: -14.009764391150235},\n",
              "  'expressionsbr': {0: -13.983024267752858, 1: -14.009764391150235},\n",
              "  'keypunch': {0: -13.983024267752858, 1: -14.70291157171018},\n",
              "  'enjoyablethey': {0: -14.676171448312804, 1: -14.009764391150235},\n",
              "  'lavventura': {0: -14.676171448312804, 1: -13.31661721059029},\n",
              "  'giegud': {0: -13.983024267752858, 1: -14.70291157171018},\n",
              "  'colleen': {0: -12.278276175514433, 1: -12.50568699437396},\n",
              "  'racisim': {0: -13.983024267752858, 1: -14.70291157171018},\n",
              "  'huuuuuuuarrrrghhhhhh': {0: -13.983024267752858, 1: -14.70291157171018},\n",
              "  'subgame': {0: -13.983024267752858, 1: -14.70291157171018},\n",
              "  'mingliangs': {0: -13.983024267752858, 1: -14.70291157171018},\n",
              "  'wwastebr': {0: -13.983024267752858, 1: -14.70291157171018},\n",
              "  'gluttonous': {0: -13.983024267752858, 1: -13.604299283042069},\n",
              "  'wholesomeness': {0: -13.577559159644695, 1: -13.604299283042069},\n",
              "  'sequin': {0: -14.676171448312804, 1: -14.009764391150235},\n",
              "  'steves': {0: -12.191264798524804, 1: -13.31661721059029},\n",
              "  'movingbr': {0: -13.983024267752858, 1: -12.30501629891181},\n",
              "  'smartbr': {0: -14.676171448312804, 1: -14.009764391150235},\n",
              "  'killwhich': {0: -14.676171448312804, 1: -14.009764391150235},\n",
              "  'ggirls': {0: -13.983024267752858, 1: -13.604299283042069},\n",
              "  'abets': {0: -14.676171448312804, 1: -14.009764391150235},\n",
              "  'campwith': {0: -13.983024267752858, 1: -14.70291157171018},\n",
              "  'allusive': {0: -13.983024267752858, 1: -14.70291157171018},\n",
              "  'snazzily': {0: -13.983024267752858, 1: -14.70291157171018},\n",
              "  'postall': {0: -14.676171448312804, 1: -14.009764391150235},\n",
              "  'overstylized': {0: -13.577559159644695, 1: -13.604299283042069},\n",
              "  'parentsbr': {0: -13.066733535878702, 1: -12.911152102482124},\n",
              "  'millena': {0: -14.676171448312804, 1: -14.009764391150235},\n",
              "  'synagogue': {0: -13.066733535878702, 1: -14.70291157171018},\n",
              "  'adultsonly': {0: -14.676171448312804, 1: -14.009764391150235},\n",
              "  'pensacolabased': {0: -14.676171448312804, 1: -14.009764391150235},\n",
              "  'regulated': {0: -13.983024267752858, 1: -13.604299283042069},\n",
              "  'opulently': {0: -14.676171448312804, 1: -14.009764391150235},\n",
              "  'msg': {0: -13.983024267752858, 1: -14.70291157171018},\n",
              "  'enoughdick': {0: -14.676171448312804, 1: -14.009764391150235},\n",
              "  'damians': {0: -13.983024267752858, 1: -14.70291157171018},\n",
              "  'messengeri': {0: -13.983024267752858, 1: -14.70291157171018},\n",
              "  'submerging': {0: -13.983024267752858, 1: -14.009764391150235},\n",
              "  'consequence': {0: -10.705879534760681, 1: -10.011563689481035},\n",
              "  'storyscript': {0: -14.676171448312804, 1: -14.009764391150235},\n",
              "  'tackedon': {0: -13.983024267752858, 1: -12.911152102482124},\n",
              "  'messagea': {0: -14.676171448312804, 1: -14.009764391150235},\n",
              "  'backhanded': {0: -14.676171448312804, 1: -14.009764391150235},\n",
              "  'boarded': {0: -12.596729906632968, 1: -13.604299283042069},\n",
              "  'tiffanyamber': {0: -14.676171448312804, 1: -14.009764391150235},\n",
              "  'forecourt': {0: -13.983024267752858, 1: -14.70291157171018},\n",
              "  'reviewing': {0: -11.120823386823389, 1: -11.484035746841979},\n",
              "  'fictionalized': {0: -12.73026129925749, 1: -12.218004921922178},\n",
              "  'norge': {0: -13.983024267752858, 1: -14.70291157171018},\n",
              "  'fer': {0: -13.983024267752858, 1: -14.009764391150235},\n",
              "  'viewhis': {0: -14.676171448312804, 1: -14.009764391150235},\n",
              "  'keenly': {0: -13.577559159644695, 1: -12.911152102482124},\n",
              "  'lorenzlugosiand': {0: -13.983024267752858, 1: -14.70291157171018},\n",
              "  'songling': {0: -14.676171448312804, 1: -13.31661721059029},\n",
              "  'purcell': {0: -13.289877087192913, 1: -14.70291157171018},\n",
              "  'mirrorimage': {0: -13.983024267752858, 1: -14.009764391150235},\n",
              "  'selfcentered': {0: -11.380334582308475, 1: -11.930322849470398},\n",
              "  'radiation': {0: -11.380334582308475, 1: -11.99486137060797},\n",
              "  'footnotebr': {0: -13.983024267752858, 1: -14.70291157171018},\n",
              "  'shipyard': {0: -13.289877087192913, 1: -14.009764391150235},\n",
              "  'ibrahim': {0: -13.577559159644695, 1: -14.70291157171018},\n",
              "  'lynley': {0: -14.676171448312804, 1: -14.009764391150235},\n",
              "  'finacier': {0: -14.676171448312804, 1: -14.009764391150235},\n",
              "  'dumbeddown': {0: -13.577559159644695, 1: -13.31661721059029},\n",
              "  'foremostbr': {0: -14.676171448312804, 1: -14.009764391150235},\n",
              "  'contemplated': {0: -12.88441197908475, 1: -13.31661721059029},\n",
              "  'itbasically': {0: -13.983024267752858, 1: -14.70291157171018},\n",
              "  'flimsily': {0: -13.577559159644695, 1: -14.70291157171018},\n",
              "  'peoplethey': {0: -13.983024267752858, 1: -14.70291157171018},\n",
              "  'sequencesbr': {0: -12.88441197908475, 1: -12.623470030030344},\n",
              "  'coloredvoiced': {0: -14.676171448312804, 1: -14.009764391150235},\n",
              "  'policial': {0: -14.676171448312804, 1: -13.604299283042069},\n",
              "  'partnering': {0: -14.676171448312804, 1: -14.009764391150235},\n",
              "  'iraqafghanistan': {0: -14.676171448312804, 1: -14.009764391150235},\n",
              "  'attackraid': {0: -14.676171448312804, 1: -14.009764391150235},\n",
              "  'rofl': {0: -13.983024267752858, 1: -14.70291157171018},\n",
              "  'pokeball': {0: -14.676171448312804, 1: -13.604299283042069},\n",
              "  'townthats': {0: -13.983024267752858, 1: -14.70291157171018},\n",
              "  'agnieszka': {0: -13.983024267752858, 1: -14.009764391150235},\n",
              "  'antidepression': {0: -13.983024267752858, 1: -14.70291157171018},\n",
              "  'essanay': {0: -13.577559159644695, 1: -14.70291157171018},\n",
              "  'woodsball': {0: -13.577559159644695, 1: -14.70291157171018},\n",
              "  'gilmores': {0: -13.983024267752858, 1: -13.31661721059029},\n",
              "  'sonthat': {0: -14.676171448312804, 1: -14.009764391150235},\n",
              "  'sofiabr': {0: -14.676171448312804, 1: -14.009764391150235},\n",
              "  'huang': {0: -13.983024267752858, 1: -14.70291157171018},\n",
              "  'namaste': {0: -13.289877087192913, 1: -14.70291157171018},\n",
              "  'izodwearing': {0: -13.983024267752858, 1: -14.70291157171018},\n",
              "  'booted': {0: -13.289877087192913, 1: -13.604299283042069},\n",
              "  'destabilize': {0: -14.676171448312804, 1: -14.009764391150235},\n",
              "  'carnosaurswho': {0: -13.983024267752858, 1: -14.70291157171018},\n",
              "  'quibbling': {0: -13.983024267752858, 1: -14.009764391150235},\n",
              "  'sweatinducing': {0: -14.676171448312804, 1: -14.009764391150235},\n",
              "  'soldierthe': {0: -13.983024267752858, 1: -14.70291157171018},\n",
              "  'rearscreen': {0: -13.983024267752858, 1: -14.70291157171018},\n",
              "  'shirow': {0: -14.676171448312804, 1: -14.009764391150235},\n",
              "  'spend': {0: -8.952586346360423, 1: -9.394643874308974},\n",
              "  'sellerbr': {0: -13.983024267752858, 1: -14.009764391150235},\n",
              "  'phobiabr': {0: -13.983024267752858, 1: -14.70291157171018},\n",
              "  'brenna': {0: -13.983024267752858, 1: -14.70291157171018},\n",
              "  'expensivelydressed': {0: -13.983024267752858, 1: -14.70291157171018},\n",
              "  'shed': {0: -10.565297584139492, 1: -10.192052065193328},\n",
              "  'chasse': {0: -13.577559159644695, 1: -14.70291157171018},\n",
              "  'maffia': {0: -14.676171448312804, 1: -13.604299283042069},\n",
              "  'flannigan': {0: -14.676171448312804, 1: -14.009764391150235},\n",
              "  'sidearm': {0: -13.983024267752858, 1: -14.70291157171018},\n",
              "  'derivativebr': {0: -13.983024267752858, 1: -14.70291157171018},\n",
              "  'smacked': {0: -13.577559159644695, 1: -13.31661721059029},\n",
              "  'hrothgars': {0: -13.577559159644695, 1: -14.70291157171018},\n",
              "  'secretthe': {0: -13.983024267752858, 1: -14.70291157171018},\n",
              "  'evilly': {0: -13.289877087192913, 1: -14.70291157171018},\n",
              "  'earie': {0: -14.676171448312804, 1: -14.009764391150235},\n",
              "  'flow': {0: -10.221824152059297, 1: -9.975523752997839},\n",
              "  'deathschoir': {0: -13.983024267752858, 1: -14.70291157171018},\n",
              "  'dentistencounters': {0: -14.676171448312804, 1: -14.009764391150235},\n",
              "  'imdbten': {0: -13.983024267752858, 1: -14.70291157171018},\n",
              "  'skolimowskis': {0: -14.676171448312804, 1: -14.009764391150235},\n",
              "  'serviceman': {0: -12.88441197908475, 1: -12.400326478716133},\n",
              "  'exdeputy': {0: -14.676171448312804, 1: -14.009764391150235},\n",
              "  'antidetective': {0: -13.983024267752858, 1: -14.70291157171018},\n",
              "  'filmtvliteraturelife': {0: -13.983024267752858, 1: -14.70291157171018},\n",
              "  'marqueevalue': {0: -13.983024267752858, 1: -14.70291157171018},\n",
              "  'matuschekis': {0: -14.676171448312804, 1: -14.009764391150235},\n",
              "  'dupatta': {0: -13.983024267752858, 1: -14.70291157171018},\n",
              "  'gone': {0: -8.784527236487033, 1: -8.800278238308813},\n",
              "  'hancock': {0: -13.289877087192913, 1: -13.604299283042069},\n",
              "  'ryuhei': {0: -13.066733535878702, 1: -14.009764391150235},\n",
              "  'seathat': {0: -13.983024267752858, 1: -14.70291157171018},\n",
              "  'tisa': {0: -13.983024267752858, 1: -14.70291157171018},\n",
              "  'election': {0: -11.903582726073022, 1: -10.659860303875629},\n",
              "  'ehsaan': {0: -13.983024267752858, 1: -14.70291157171018},\n",
              "  'eroding': {0: -14.676171448312804, 1: -14.009764391150235},\n",
              "  'aroundwaits': {0: -13.983024267752858, 1: -14.70291157171018},\n",
              "  'peglegged': {0: -14.676171448312804, 1: -14.009764391150235},\n",
              "  'pumbas': {0: -14.676171448312804, 1: -14.009764391150235},\n",
              "  'shockingest': {0: -14.676171448312804, 1: -14.009764391150235},\n",
              "  'bright': {0: -9.706358148736802, 1: -9.932226947244514},\n",
              "  'karo': {0: -13.289877087192913, 1: -14.009764391150235},\n",
              "  'dalmatian': {0: -12.278276175514433, 1: -11.869698227653963},\n",
              "  'bakes': {0: -13.983024267752858, 1: -12.757001422654866},\n",
              "  'center': {0: -9.800974125111653, 1: -9.493425418868759},\n",
              "  'rehashed': {0: -12.373586355318757, 1: -12.911152102482124},\n",
              "  'lostdaysofyouth': {0: -14.676171448312804, 1: -14.009764391150235},\n",
              "  'superstardom': {0: -14.676171448312804, 1: -12.757001422654866},\n",
              "  'eggthrowing': {0: -13.983024267752858, 1: -14.70291157171018},\n",
              "  'national': {0: -9.800974125111653, 1: -9.890727216337762},\n",
              "  'nabors': {0: -12.73026129925749, 1: -13.604299283042069},\n",
              "  'daniella': {0: -12.478946870976584, 1: -14.009764391150235},\n",
              "  'thisthisgoosebumps': {0: -13.983024267752858, 1: -14.70291157171018},\n",
              "  'cherubic': {0: -14.676171448312804, 1: -13.604299283042069},\n",
              "  'cagey': {0: -13.577559159644695, 1: -13.604299283042069},\n",
              "  'harald': {0: -13.577559159644695, 1: -14.009764391150235},\n",
              "  'injects': {0: -12.037114118697545, 1: -12.911152102482124},\n",
              "  'bewith': {0: -14.676171448312804, 1: -14.009764391150235},\n",
              "  'sagging': {0: -13.983024267752858, 1: -14.009764391150235},\n",
              "  'shootoutbr': {0: -13.983024267752858, 1: -14.70291157171018},\n",
              "  'cred': {0: -12.88441197908475, 1: -13.31661721059029},\n",
              "  'dummiesbr': {0: -13.577559159644695, 1: -14.70291157171018},\n",
              "  'planet': {0: -9.220850332955102, 1: -9.05042239144153},\n",
              "  'massmasturbation': {0: -13.983024267752858, 1: -14.70291157171018},\n",
              "  'stella': {0: -11.210435545513077, 1: -11.484035746841979},\n",
              "  'aggrandizementbr': {0: -13.983024267752858, 1: -14.70291157171018},\n",
              "  'tremblayjulian': {0: -14.676171448312804, 1: -14.009764391150235},\n",
              "  'coating': {0: -13.577559159644695, 1: -13.604299283042069},\n",
              "  'grainybr': {0: -13.983024267752858, 1: -14.70291157171018},\n",
              "  'sloganeering': {0: -13.983024267752858, 1: -14.70291157171018},\n",
              "  'accidentdeath': {0: -13.983024267752858, 1: -14.70291157171018},\n",
              "  'achinglybeautiful': {0: -14.676171448312804, 1: -14.009764391150235},\n",
              "  'extremefor': {0: -14.676171448312804, 1: -14.009764391150235},\n",
              "  'queeniebr': {0: -14.676171448312804, 1: -14.009764391150235},\n",
              "  'sleepinsomnia': {0: -13.983024267752858, 1: -14.70291157171018},\n",
              "  'selfstanding': {0: -13.983024267752858, 1: -14.70291157171018},\n",
              "  'ortolanis': {0: -14.676171448312804, 1: -14.009764391150235},\n",
              "  'crate': {0: -12.373586355318757, 1: -13.093473659276079},\n",
              "  'divine': {0: -12.111222090851268, 1: -10.874270175221085},\n",
              "  'panavisionbr': {0: -13.983024267752858, 1: -14.70291157171018},\n",
              "  'bacterium': {0: -13.983024267752858, 1: -14.70291157171018},\n",
              "  'ultimateevil': {0: -14.676171448312804, 1: -14.009764391150235},\n",
              "  'bgs': {0: -14.676171448312804, 1: -14.009764391150235},\n",
              "  'sathemed': {0: -14.676171448312804, 1: -14.009764391150235},\n",
              "  'postfuneral': {0: -14.676171448312804, 1: -14.009764391150235},\n",
              "  'horrified': {0: -11.210435545513077, 1: -11.658389133986756},\n",
              "  'fastworking': {0: -14.676171448312804, 1: -14.009764391150235},\n",
              "  'driven': {0: -10.668838263080332, 1: -9.882630006105142},\n",
              "  'betbr': {0: -13.289877087192913, 1: -14.009764391150235},\n",
              "  'redraft': {0: -13.983024267752858, 1: -14.70291157171018},\n",
              "  'spout': {0: -11.457295623444603, 1: -12.623470030030344},\n",
              "  'montalban': {0: -13.289877087192913, 1: -12.911152102482124},\n",
              "  'fastway': {0: -14.676171448312804, 1: -12.623470030030344},\n",
              "  'tysonbr': {0: -14.676171448312804, 1: -14.009764391150235},\n",
              "  'wumaster': {0: -14.676171448312804, 1: -14.009764391150235},\n",
              "  'localboysdonegoodovercomingadversity': {0: -14.676171448312804,\n",
              "   1: -14.009764391150235},\n",
              "  'chasealong': {0: -14.676171448312804, 1: -14.009764391150235},\n",
              "  'immersive': {0: -13.289877087192913, 1: -13.31661721059029},\n",
              "  'achilles': {0: -12.596729906632968, 1: -11.658389133986756},\n",
              "  'cambreaus': {0: -13.983024267752858, 1: -14.70291157171018},\n",
              "  'settingsbr': {0: -13.983024267752858, 1: -13.604299283042069},\n",
              "  'feeble': {0: -10.938501830029436, 1: -12.30501629891181},\n",
              "  'fumbled': {0: -12.88441197908475, 1: -14.009764391150235},\n",
              "  'recessbr': {0: -13.983024267752858, 1: -14.70291157171018},\n",
              "  'ldp': {0: -13.066733535878702, 1: -14.70291157171018},\n",
              "  'mbbs': {0: -13.983024267752858, 1: -14.70291157171018},\n",
              "  'conferred': {0: -13.983024267752858, 1: -14.70291157171018},\n",
              "  'cone': {0: -13.289877087192913, 1: -13.093473659276079},\n",
              "  'pimplefaced': {0: -13.983024267752858, 1: -14.70291157171018},\n",
              "  'bloodwaters': {0: -13.983024267752858, 1: -14.70291157171018},\n",
              "  'luthor': {0: -11.3439669381376, 1: -12.400326478716133},\n",
              "  'duffell': {0: -14.676171448312804, 1: -12.063854242094921},\n",
              "  'tennant': {0: -14.676171448312804, 1: -13.604299283042069},\n",
              "  'foil': {0: -11.585128994954488, 1: -11.147563510220765},\n",
              "  'ethically': {0: -13.577559159644695, 1: -14.009764391150235},\n",
              "  'canvas': {0: -12.596729906632968, 1: -11.40707470570585},\n",
              "  'scumbr': {0: -13.983024267752858, 1: -14.70291157171018},\n",
              "  'realmbr': {0: -14.676171448312804, 1: -14.009764391150235},\n",
              "  'colerabr': {0: -14.676171448312804, 1: -14.009764391150235},\n",
              "  'ave': {0: -13.983024267752858, 1: -12.911152102482124},\n",
              "  'hooted': {0: -13.983024267752858, 1: -14.70291157171018},\n",
              "  'cabinbr': {0: -13.289877087192913, 1: -14.70291157171018},\n",
              "  'twaddlebr': {0: -13.577559159644695, 1: -14.70291157171018},\n",
              "  'postpost': {0: -14.676171448312804, 1: -14.009764391150235},\n",
              "  'whens': {0: -13.289877087192913, 1: -14.70291157171018},\n",
              "  'appelonia': {0: -14.676171448312804, 1: -14.009764391150235},\n",
              "  'teletubbies': {0: -12.73026129925749, 1: -14.70291157171018},\n",
              "  'stepping': {0: -12.478946870976584, 1: -11.611869118351864},\n",
              "  'themall': {0: -13.577559159644695, 1: -14.009764391150235},\n",
              "  'genocide': {0: -12.191264798524804, 1: -13.31661721059029},\n",
              "  'outavoid': {0: -13.983024267752858, 1: -14.70291157171018},\n",
              "  'belenguer': {0: -14.676171448312804, 1: -14.009764391150235},\n",
              "  'funthe': {0: -14.676171448312804, 1: -14.009764391150235},\n",
              "  'favoritemust': {0: -14.676171448312804, 1: -14.009764391150235},\n",
              "  'horrorerotic': {0: -13.983024267752858, 1: -14.70291157171018},\n",
              "  'barrimore': {0: -14.676171448312804, 1: -14.009764391150235},\n",
              "  'ramthasbr': {0: -13.983024267752858, 1: -14.70291157171018},\n",
              "  'kaite': {0: -14.676171448312804, 1: -14.009764391150235},\n",
              "  'martell': {0: -13.983024267752858, 1: -14.009764391150235},\n",
              "  'beforei': {0: -13.983024267752858, 1: -14.009764391150235},\n",
              "  'philadelphia': {0: -12.037114118697545, 1: -11.707179298156188},\n",
              "  'revoew': {0: -14.676171448312804, 1: -14.009764391150235},\n",
              "  'nananana': {0: -13.983024267752858, 1: -14.70291157171018},\n",
              "  'tartakovskyesquire': {0: -14.676171448312804, 1: -14.009764391150235},\n",
              "  'ringwraith': {0: -14.676171448312804, 1: -14.009764391150235},\n",
              "  'blacula': {0: -13.983024267752858, 1: -13.604299283042069},\n",
              "  'naturalbr': {0: -14.676171448312804, 1: -13.31661721059029},\n",
              "  'manurebr': {0: -14.676171448312804, 1: -14.009764391150235},\n",
              "  'historymade': {0: -14.676171448312804, 1: -14.009764391150235},\n",
              "  'admit': {0: -8.907850452519032, 1: -8.999129097053977},\n",
              "  'handbookbr': {0: -13.983024267752858, 1: -14.70291157171018},\n",
              "  'nakedthats': {0: -13.983024267752858, 1: -14.70291157171018},\n",
              "  'harrarsbr': {0: -13.983024267752858, 1: -14.70291157171018},\n",
              "  'prettier': {0: -12.596729906632968, 1: -12.50568699437396},\n",
              "  'fenn': {0: -13.577559159644695, 1: -14.70291157171018},\n",
              "  'bodas': {0: -14.676171448312804, 1: -14.009764391150235},\n",
              "  'ashoka': {0: -14.676171448312804, 1: -13.604299283042069},\n",
              "  'itso': {0: -13.577559159644695, 1: -13.604299283042069},\n",
              "  'billingsley': {0: -14.676171448312804, 1: -13.604299283042069},\n",
              "  'maybee': {0: -13.577559159644695, 1: -14.70291157171018},\n",
              "  'cardlike': {0: -13.983024267752858, 1: -14.70291157171018},\n",
              "  'merited': {0: -13.066733535878702, 1: -13.604299283042069},\n",
              "  'neighborhandyman': {0: -13.983024267752858, 1: -14.70291157171018},\n",
              "  'rhindtutt': {0: -14.676171448312804, 1: -13.604299283042069},\n",
              "  'immaculateas': {0: -13.983024267752858, 1: -14.70291157171018},\n",
              "  'masterservant': {0: -14.676171448312804, 1: -13.604299283042069},\n",
              "  'dominates': {0: -12.596729906632968, 1: -11.707179298156188},\n",
              "  'operadirectors': {0: -13.983024267752858, 1: -14.70291157171018},\n",
              "  'krecmer': {0: -13.983024267752858, 1: -14.70291157171018},\n",
              "  'leftso': {0: -14.676171448312804, 1: -14.009764391150235},\n",
              "  'fiilthy': {0: -13.983024267752858, 1: -14.70291157171018},\n",
              "  'bagger': {0: -14.676171448312804, 1: -14.009764391150235},\n",
              "  'pleeease': {0: -14.676171448312804, 1: -14.009764391150235},\n",
              "  'sanguisuga': {0: -13.066733535878702, 1: -14.70291157171018},\n",
              "  'akhtar': {0: -13.983024267752858, 1: -14.70291157171018},\n",
              "  'nerae': {0: -14.676171448312804, 1: -14.009764391150235},\n",
              "  'trekking': {0: -13.983024267752858, 1: -13.604299283042069},\n",
              "  'barbwire': {0: -13.983024267752858, 1: -14.70291157171018},\n",
              "  'jacksonmel': {0: -14.676171448312804, 1: -14.009764391150235},\n",
              "  'aruman': {0: -13.577559159644695, 1: -13.604299283042069},\n",
              "  'oftcriticized': {0: -13.983024267752858, 1: -14.70291157171018},\n",
              "  'showfilm': {0: -13.983024267752858, 1: -14.70291157171018},\n",
              "  'sceneson': {0: -14.676171448312804, 1: -14.009764391150235},\n",
              "  'poverty': {0: -10.764148442884657, 1: -10.45441632966082},\n",
              "  'throwspaghettiatthewall': {0: -13.983024267752858, 1: -14.70291157171018},\n",
              "  'qualityof': {0: -14.676171448312804, 1: -14.009764391150235},\n",
              "  'fatigued': {0: -13.289877087192913, 1: -14.009764391150235},\n",
              "  'laudatory': {0: -13.577559159644695, 1: -14.70291157171018},\n",
              "  'tabatabai': {0: -14.676171448312804, 1: -14.009764391150235},\n",
              "  'pcfriendly': {0: -13.983024267752858, 1: -14.70291157171018},\n",
              "  'racketeering': {0: -13.983024267752858, 1: -14.70291157171018},\n",
              "  'gran': {0: -13.577559159644695, 1: -13.604299283042069},\n",
              "  'supermoves': {0: -13.983024267752858, 1: -14.70291157171018},\n",
              "  'artisticly': {0: -14.676171448312804, 1: -14.009764391150235},\n",
              "  'precinematic': {0: -13.983024267752858, 1: -14.70291157171018},\n",
              "  'nouvelle': {0: -12.73026129925749, 1: -13.31661721059029},\n",
              "  'susie': {0: -12.88441197908475, 1: -12.218004921922178},\n",
              "  'dumroo': {0: -12.88441197908475, 1: -14.70291157171018},\n",
              "  'fornication': {0: -13.289877087192913, 1: -14.009764391150235},\n",
              "  'nics': {0: -13.577559159644695, 1: -14.70291157171018},\n",
              "  'fantasyinspired': {0: -13.983024267752858, 1: -14.70291157171018},\n",
              "  'beth': {0: -11.498117617964859, 1: -11.99486137060797},\n",
              "  'semihistorical': {0: -13.983024267752858, 1: -14.70291157171018},\n",
              "  'casa': {0: -12.111222090851268, 1: -12.50568699437396},\n",
              "  'caled': {0: -14.676171448312804, 1: -14.009764391150235},\n",
              "  'pageantbr': {0: -13.983024267752858, 1: -14.009764391150235},\n",
              "  'trailing': {0: -12.596729906632968, 1: -13.31661721059029},\n",
              "  'houghdirected': {0: -13.983024267752858, 1: -14.70291157171018},\n",
              "  'publicdomain': {0: -13.983024267752858, 1: -14.70291157171018},\n",
              "  'krisana': {0: -14.676171448312804, 1: -13.093473659276079},\n",
              "  'berklys': {0: -13.983024267752858, 1: -14.70291157171018},\n",
              "  'substories': {0: -13.289877087192913, 1: -14.009764391150235},\n",
              "  'eeriest': {0: -14.676171448312804, 1: -14.009764391150235},\n",
              "  'manbr': {0: -11.149810923696641, 1: -11.56741735578103},\n",
              "  'longthought': {0: -14.676171448312804, 1: -14.009764391150235},\n",
              "  'carapace': {0: -13.983024267752858, 1: -14.70291157171018},\n",
              "  'convinced': {0: -9.948783629600463, 1: -10.097741385722088},\n",
              "  'goldsworthys': {0: -14.676171448312804, 1: -11.370707061534976},\n",
              "  'furryfooted': {0: -14.676171448312804, 1: -14.009764391150235},\n",
              "  'deviated': {0: -13.577559159644695, 1: -14.009764391150235},\n",
              "  'notthis': {0: -13.983024267752858, 1: -13.604299283042069},\n",
              "  'windowsad': {0: -14.676171448312804, 1: -14.009764391150235},\n",
              "  'alleviate': {0: -13.066733535878702, 1: -13.093473659276079},\n",
              "  'gagoola': {0: -13.983024267752858, 1: -14.70291157171018},\n",
              "  'charlton': {0: -11.30887561832633, 1: -11.039349925580533},\n",
              "  'moan': {0: -11.785799690416638, 1: -12.623470030030344},\n",
              "  'policechief': {0: -14.676171448312804, 1: -14.009764391150235},\n",
              "  'ghostwriter': {0: -14.676171448312804, 1: -13.604299283042069},\n",
              "  'thoughtlesslybr': {0: -14.676171448312804, 1: -14.009764391150235},\n",
              "  'skinbr': {0: -13.577559159644695, 1: -13.31661721059029},\n",
              "  'asda': {0: -14.676171448312804, 1: -14.009764391150235},\n",
              "  'refund': {0: -11.540677232383654, 1: -12.757001422654866},\n",
              "  'aur': {0: -13.983024267752858, 1: -12.757001422654866},\n",
              "  'makeitobvioussotheydontmissthepoint': {0: -13.983024267752858,\n",
              "   1: -14.70291157171018},\n",
              "  'extremity': {0: -13.066733535878702, 1: -12.623470030030344},\n",
              "  'whatchoo': {0: -14.676171448312804, 1: -14.009764391150235},\n",
              "  'monitoring': {0: -13.066733535878702, 1: -13.31661721059029},\n",
              "  'skierbr': {0: -13.983024267752858, 1: -14.70291157171018},\n",
              "  'mcgrath': {0: -13.983024267752858, 1: -12.50568699437396},\n",
              "  'imprecating': {0: -13.983024267752858, 1: -14.70291157171018},\n",
              "  'grainger': {0: -13.983024267752858, 1: -13.31661721059029},\n",
              "  'therethat': {0: -14.676171448312804, 1: -14.009764391150235},\n",
              "  'emphatically': {0: -13.577559159644695, 1: -13.093473659276079},\n",
              "  'betterthanaverage': {0: -14.676171448312804, 1: -13.604299283042069},\n",
              "  'gita': {0: -13.983024267752858, 1: -14.009764391150235},\n",
              "  'commiehating': {0: -14.676171448312804, 1: -14.009764391150235},\n",
              "  'pedophiliabr': {0: -13.983024267752858, 1: -14.70291157171018},\n",
              "  'lauter': {0: -13.983024267752858, 1: -14.70291157171018},\n",
              "  'subterfugebr': {0: -13.983024267752858, 1: -14.70291157171018},\n",
              "  'resuming': {0: -14.676171448312804, 1: -13.604299283042069},\n",
              "  'aaaaaaah': {0: -13.983024267752858, 1: -14.70291157171018},\n",
              "  'pseudoscientist': {0: -13.983024267752858, 1: -14.70291157171018},\n",
              "  'listlessness': {0: -13.983024267752858, 1: -14.70291157171018},\n",
              "  'karishma': {0: -13.983024267752858, 1: -12.757001422654866},\n",
              "  'speciallytrained': {0: -13.983024267752858, 1: -14.70291157171018},\n",
              "  'dowhy': {0: -14.676171448312804, 1: -14.009764391150235},\n",
              "  'golberg': {0: -13.983024267752858, 1: -14.70291157171018},\n",
              "  'eyelinerbr': {0: -13.983024267752858, 1: -14.70291157171018},\n",
              "  'shaqfu': {0: -13.983024267752858, 1: -14.70291157171018},\n",
              "  'totalitybr': {0: -13.983024267752858, 1: -14.70291157171018},\n",
              "  'blacksmith': {0: -13.983024267752858, 1: -13.31661721059029},\n",
              "  'prela': {0: -14.676171448312804, 1: -14.009764391150235},\n",
              "  'butcheringbr': {0: -13.983024267752858, 1: -14.70291157171018},\n",
              "  'tellingbr': {0: -13.066733535878702, 1: -13.093473659276079},\n",
              "  'ithe': {0: -13.289877087192913, 1: -14.70291157171018},\n",
              "  'underneath': {0: -11.179663886846324, 1: -10.874270175221085},\n",
              "  'studdedbr': {0: -14.676171448312804, 1: -14.009764391150235},\n",
              "  'philosphers': {0: -13.983024267752858, 1: -14.70291157171018},\n",
              "  'dwellsbr': {0: -13.983024267752858, 1: -14.70291157171018},\n",
              "  'gazzo': {0: -13.983024267752858, 1: -14.70291157171018},\n",
              "  'anthropocentric': {0: -13.983024267752858, 1: -14.70291157171018},\n",
              "  'tycoon': {0: -12.478946870976584, 1: -11.812539813814015},\n",
              "  'wellknown': {0: -11.012609802183157, 1: -10.831710560802287},\n",
              "  'romanticism': {0: -13.066733535878702, 1: -12.063854242094921},\n",
              "  'waythe': {0: -13.289877087192913, 1: -12.757001422654866},\n",
              "  'unassuredness': {0: -14.676171448312804, 1: -14.009764391150235},\n",
              "  'evilhotness': {0: -14.676171448312804, 1: -14.009764391150235},\n",
              "  'raunchydare': {0: -14.676171448312804, 1: -14.009764391150235},\n",
              "  'rollosstanley': {0: -14.676171448312804, 1: -14.009764391150235},\n",
              "  'macabrely': {0: -14.676171448312804, 1: -14.009764391150235},\n",
              "  'lii': {0: -13.983024267752858, 1: -14.70291157171018},\n",
              "  'radiates': {0: -12.88441197908475, 1: -12.911152102482124},\n",
              "  'ite': {0: -13.983024267752858, 1: -14.70291157171018},\n",
              "  'goad': {0: -13.983024267752858, 1: -14.009764391150235},\n",
              "  'hardbitten': {0: -13.289877087192913, 1: -12.911152102482124},\n",
              "  'corroborationbr': {0: -14.676171448312804, 1: -14.009764391150235},\n",
              "  'morante': {0: -13.983024267752858, 1: -14.70291157171018},\n",
              "  'parti': {0: -14.676171448312804, 1: -14.009764391150235},\n",
              "  'cedrick': {0: -14.676171448312804, 1: -14.009764391150235},\n",
              "  'abdomen': {0: -13.983024267752858, 1: -14.70291157171018},\n",
              "  'shortchange': {0: -13.983024267752858, 1: -13.604299283042069},\n",
              "  'myddleton': {0: -14.676171448312804, 1: -14.009764391150235},\n",
              "  'farceurs': {0: -13.983024267752858, 1: -13.604299283042069},\n",
              "  'virginbride': {0: -13.983024267752858, 1: -14.70291157171018},\n",
              "  'width': {0: -14.676171448312804, 1: -13.604299283042069},\n",
              "  'bentivoglio': {0: -14.676171448312804, 1: -14.009764391150235},\n",
              "  'prompt': {0: -12.88441197908475, 1: -12.400326478716133},\n",
              "  'foulsmelling': {0: -13.983024267752858, 1: -14.70291157171018},\n",
              "  'hmmmi': {0: -13.983024267752858, 1: -14.009764391150235},\n",
              "  'mandy': {0: -11.631649010589381, 1: -11.40707470570585},\n",
              "  'apollonius': {0: -13.983024267752858, 1: -14.009764391150235},\n",
              "  'tonking': {0: -14.676171448312804, 1: -14.009764391150235},\n",
              "  'invade': {0: -13.289877087192913, 1: -12.400326478716133},\n",
              "  'untangle': {0: -13.289877087192913, 1: -14.70291157171018},\n",
              "  'writersand': {0: -13.983024267752858, 1: -14.70291157171018},\n",
              "  'estrogenfests': {0: -13.983024267752858, 1: -14.70291157171018},\n",
              "  'choochoobr': {0: -14.676171448312804, 1: -13.604299283042069},\n",
              "  'beatlesa': {0: -14.676171448312804, 1: -14.009764391150235},\n",
              "  'explainable': {0: -13.577559159644695, 1: -13.31661721059029},\n",
              "  'fredi': {0: -13.983024267752858, 1: -14.009764391150235},\n",
              "  'hanekes': {0: -13.289877087192913, 1: -14.70291157171018},\n",
              "  'pessimisticbr': {0: -13.983024267752858, 1: -14.009764391150235},\n",
              "  'meysels': {0: -14.676171448312804, 1: -12.911152102482124},\n",
              "  'boi': {0: -14.676171448312804, 1: -14.009764391150235},\n",
              "  'labyrinth': {0: -13.289877087192913, 1: -11.40707470570585},\n",
              "  'ryszard': {0: -13.983024267752858, 1: -14.70291157171018},\n",
              "  'prepping': {0: -13.577559159644695, 1: -13.604299283042069},\n",
              "  'oquinn': {0: -13.577559159644695, 1: -14.70291157171018},\n",
              "  'kristi': {0: -13.289877087192913, 1: -13.093473659276079},\n",
              "  'lachrymose': {0: -13.289877087192913, 1: -14.009764391150235},\n",
              "  'splitz': {0: -13.983024267752858, 1: -14.70291157171018},\n",
              "  'filmmakeror': {0: -13.983024267752858, 1: -14.70291157171018},\n",
              "  'schtupping': {0: -13.983024267752858, 1: -14.009764391150235},\n",
              "  'suitorskay': {0: -14.676171448312804, 1: -14.009764391150235},\n",
              "  'needlereally': {0: -14.676171448312804, 1: -14.009764391150235},\n",
              "  'dusay': {0: -13.983024267752858, 1: -14.009764391150235},\n",
              "  'distantbr': {0: -14.676171448312804, 1: -14.009764391150235},\n",
              "  'slowerthe': {0: -13.983024267752858, 1: -14.70291157171018},\n",
              "  'overtalkative': {0: -13.983024267752858, 1: -14.70291157171018},\n",
              "  'postdesperate': {0: -14.676171448312804, 1: -14.009764391150235},\n",
              "  'gradetwo': {0: -13.983024267752858, 1: -14.70291157171018},\n",
              "  'douchet': {0: -14.676171448312804, 1: -14.009764391150235},\n",
              "  'richmond': {0: -13.289877087192913, 1: -12.911152102482124},\n",
              "  'phieffer': {0: -14.676171448312804, 1: -14.009764391150235},\n",
              "  'mabye': {0: -13.983024267752858, 1: -14.70291157171018},\n",
              "  'latex': {0: -12.373586355318757, 1: -13.31661721059029},\n",
              "  'dvdcollections': {0: -14.676171448312804, 1: -14.009764391150235},\n",
              "  'uniqueness': {0: -12.596729906632968, 1: -11.930322849470398},\n",
              "  'manger': {0: -13.983024267752858, 1: -13.31661721059029},\n",
              "  'security': {0: -9.770896669874373, 1: -10.713927525145905},\n",
              "  'reactbr': {0: -13.983024267752858, 1: -13.604299283042069},\n",
              "  'lynns': {0: -13.983024267752858, 1: -14.70291157171018},\n",
              "  'crabtree': {0: -13.577559159644695, 1: -14.70291157171018},\n",
              "  'lawyerboyfriends': {0: -14.676171448312804, 1: -14.009764391150235},\n",
              "  'coerce': {0: -13.577559159644695, 1: -13.604299283042069},\n",
              "  'hardshipbr': {0: -14.676171448312804, 1: -13.604299283042069},\n",
              "  'correctness': {0: -11.731732469146364, 1: -11.707179298156188},\n",
              "  'ascendancy': {0: -14.676171448312804, 1: -13.604299283042069},\n",
              "  'doo': {0: -10.764148442884657, 1: -11.99486137060797},\n",
              "  'bluishcast': {0: -13.983024267752858, 1: -14.70291157171018},\n",
              "  'sequencesbetter': {0: -14.676171448312804, 1: -14.009764391150235},\n",
              "  'snuck': {0: -12.88441197908475, 1: -12.400326478716133},\n",
              "  'tawdrybr': {0: -13.983024267752858, 1: -14.70291157171018},\n",
              "  'actinglack': {0: -13.983024267752858, 1: -14.70291157171018},\n",
              "  'womenbach': {0: -13.983024267752858, 1: -14.70291157171018},\n",
              "  'deville': {0: -14.676171448312804, 1: -14.009764391150235},\n",
              "  'molie': {0: -14.676171448312804, 1: -14.009764391150235},\n",
              "  'historicallyles': {0: -13.983024267752858, 1: -14.70291157171018},\n",
              "  'tazmanian': {0: -13.983024267752858, 1: -14.70291157171018},\n",
              "  'oscarnominees': {0: -14.676171448312804, 1: -14.009764391150235},\n",
              "  'be': {0: -13.289877087192913, 1: -13.093473659276079},\n",
              "  'movieinstead': {0: -13.983024267752858, 1: -14.70291157171018},\n",
              "  'ghoulbusting': {0: -13.983024267752858, 1: -14.70291157171018},\n",
              "  'gangly': {0: -13.577559159644695, 1: -13.31661721059029},\n",
              "  'pastincluding': {0: -13.983024267752858, 1: -14.70291157171018},\n",
              "  'shockorama': {0: -12.73026129925749, 1: -14.70291157171018},\n",
              "  'wrinkly': {0: -13.577559159644695, 1: -14.70291157171018},\n",
              "  'gloomy': {0: -11.631649010589381, 1: -11.335615741723705},\n",
              "  'raison': {0: -13.066733535878702, 1: -13.31661721059029},\n",
              "  'uncertaintybr': {0: -14.676171448312804, 1: -14.009764391150235},\n",
              "  'tarradiddle': {0: -13.983024267752858, 1: -14.70291157171018},\n",
              "  'famed': {0: -11.903582726073022, 1: -11.237175668910453},\n",
              "  'rockersbr': {0: -13.983024267752858, 1: -14.009764391150235},\n",
              "  'whatsername': {0: -13.983024267752858, 1: -14.70291157171018},\n",
              "  'razora': {0: -13.983024267752858, 1: -14.70291157171018},\n",
              "  'reallyis': {0: -14.676171448312804, 1: -14.009764391150235},\n",
              "  'seenthis': {0: -14.676171448312804, 1: -14.009764391150235},\n",
              "  'humanlooking': {0: -14.676171448312804, 1: -14.009764391150235},\n",
              "  'jusassic': {0: -13.983024267752858, 1: -14.70291157171018},\n",
              "  'infantryman': {0: -14.676171448312804, 1: -13.604299283042069},\n",
              "  'tribute': {0: -10.650819757577654, 1: -10.225574757231973},\n",
              "  'exceptedlast': {0: -13.983024267752858, 1: -14.70291157171018},\n",
              "  'babyface': {0: -14.676171448312804, 1: -13.31661721059029},\n",
              "  'britasigne': {0: -14.676171448312804, 1: -14.009764391150235},\n",
              "  'zionism': {0: -13.983024267752858, 1: -14.70291157171018},\n",
              "  'yearsbr': {0: -11.418074910291322, 1: -10.751667853128751},\n",
              "  'inextricably': {0: -13.577559159644695, 1: -14.009764391150235},\n",
              "  'viewneed': {0: -13.983024267752858, 1: -14.70291157171018},\n",
              "  'thoughtlessly': {0: -13.577559159644695, 1: -14.70291157171018},\n",
              "  'welldeserved': {0: -13.289877087192913, 1: -12.137962214248642},\n",
              "  'zwicks': {0: -13.983024267752858, 1: -14.70291157171018},\n",
              "  'aredavid': {0: -13.983024267752858, 1: -14.70291157171018},\n",
              "  'appoints': {0: -13.983024267752858, 1: -14.009764391150235},\n",
              "  'disbanded': {0: -14.676171448312804, 1: -14.009764391150235},\n",
              "  'thrillride': {0: -13.983024267752858, 1: -14.70291157171018},\n",
              "  'straightthis': {0: -13.983024267752858, 1: -13.604299283042069},\n",
              "  'cluba': {0: -13.983024267752858, 1: -14.70291157171018},\n",
              "  'lessquality': {0: -14.676171448312804, 1: -14.009764391150235},\n",
              "  'gregg': {0: -12.88441197908475, 1: -13.604299283042069},\n",
              "  'obviousthis': {0: -14.676171448312804, 1: -14.009764391150235},\n",
              "  'distresstype': {0: -13.983024267752858, 1: -14.70291157171018},\n",
              "  'choke': {0: -11.30887561832633, 1: -12.137962214248642},\n",
              "  'franchisei': {0: -13.983024267752858, 1: -14.70291157171018},\n",
              "  'wellhewn': {0: -14.676171448312804, 1: -14.009764391150235},\n",
              "  'livestock': {0: -13.983024267752858, 1: -12.757001422654866},\n",
              "  'rigorously': {0: -14.676171448312804, 1: -13.31661721059029},\n",
              "  'devilontheshoulder': {0: -13.983024267752858, 1: -14.70291157171018},\n",
              "  'subdivision': {0: -13.577559159644695, 1: -13.31661721059029},\n",
              "  'trench': {0: -12.191264798524804, 1: -12.400326478716133},\n",
              "  'appetizing': {0: -13.983024267752858, 1: -14.009764391150235},\n",
              "  'celler': {0: -13.983024267752858, 1: -14.70291157171018},\n",
              "  'kabaree': {0: -14.676171448312804, 1: -14.009764391150235},\n",
              "  'professortypes': {0: -14.676171448312804, 1: -14.009764391150235},\n",
              "  'fkin': {0: -14.676171448312804, 1: -14.009764391150235},\n",
              "  'seeinggo': {0: -13.983024267752858, 1: -14.70291157171018},\n",
              "  'xenophobic': {0: -13.289877087192913, 1: -14.70291157171018},\n",
              "  'deterministic': {0: -13.983024267752858, 1: -14.70291157171018},\n",
              "  'micawber': {0: -12.88441197908475, 1: -14.009764391150235},\n",
              "  'grungepunkpost': {0: -13.983024267752858, 1: -14.70291157171018},\n",
              "  'contortion': {0: -13.983024267752858, 1: -13.093473659276079},\n",
              "  'keeper': {0: -12.478946870976584, 1: -11.444815033688696},\n",
              "  'ballplayer': {0: -13.983024267752858, 1: -13.093473659276079},\n",
              "  'nunsploitation': {0: -13.983024267752858, 1: -12.30501629891181},\n",
              "  'capabilitiesbr': {0: -13.577559159644695, 1: -14.009764391150235},\n",
              "  'seediness': {0: -13.289877087192913, 1: -14.009764391150235},\n",
              "  'droopyfaced': {0: -13.983024267752858, 1: -14.70291157171018},\n",
              "  'uncorrected': {0: -13.983024267752858, 1: -14.70291157171018},\n",
              "  'rouveroy': {0: -13.289877087192913, 1: -14.70291157171018},\n",
              "  'mutha': {0: -14.676171448312804, 1: -14.009764391150235},\n",
              "  'sica': {0: -13.289877087192913, 1: -12.623470030030344},\n",
              "  'diagnosed': {0: -12.596729906632968, 1: -12.218004921922178},\n",
              "  'updated': {0: -11.30887561832633, 1: -11.370707061534976},\n",
              "  'permitted': {0: -12.596729906632968, 1: -12.50568699437396},\n",
              "  'canutts': {0: -14.676171448312804, 1: -14.009764391150235},\n",
              "  'fantastic': {0: -9.720344390711542, 1: -8.254022177563321},\n",
              "  'ransom': {0: -11.631649010589381, 1: -12.400326478716133},\n",
              "  'handjohn': {0: -14.676171448312804, 1: -14.009764391150235},\n",
              "  'tremble': {0: -13.577559159644695, 1: -13.604299283042069},\n",
              "  'tywker': {0: -14.676171448312804, 1: -13.604299283042069},\n",
              "  'harlins': {0: -12.88441197908475, 1: -12.137962214248642},\n",
              "  'youive': {0: -13.983024267752858, 1: -14.70291157171018},\n",
              "  'mancha': {0: -13.983024267752858, 1: -14.009764391150235},\n",
              "  'whoopis': {0: -13.983024267752858, 1: -14.009764391150235},\n",
              "  'timesthey': {0: -14.676171448312804, 1: -14.009764391150235},\n",
              "  'airball': {0: -13.289877087192913, 1: -14.70291157171018},\n",
              "  'antifascist': {0: -13.983024267752858, 1: -12.757001422654866},\n",
              "  'undependable': {0: -14.676171448312804, 1: -14.009764391150235},\n",
              "  'drinkeroften': {0: -13.983024267752858, 1: -14.70291157171018},\n",
              "  'facinating': {0: -13.983024267752858, 1: -14.009764391150235},\n",
              "  'doubleplay': {0: -13.983024267752858, 1: -14.70291157171018},\n",
              "  'ddbr': {0: -13.983024267752858, 1: -14.70291157171018},\n",
              "  'poem': {0: -11.457295623444603, 1: -10.483403866534072},\n",
              "  'umpteenth': {0: -12.596729906632968, 1: -13.604299283042069},\n",
              "  'kidlevel': {0: -14.676171448312804, 1: -14.009764391150235},\n",
              "  'intellectuality': {0: -13.577559159644695, 1: -14.70291157171018},\n",
              "  'energythe': {0: -14.676171448312804, 1: -14.009764391150235},\n",
              "  'sematarty': {0: -14.676171448312804, 1: -14.009764391150235},\n",
              "  'raliegh': {0: -13.577559159644695, 1: -14.70291157171018},\n",
              "  'staked': {0: -13.983024267752858, 1: -14.009764391150235},\n",
              "  'haun': {0: -13.577559159644695, 1: -13.604299283042069},\n",
              "  'margareta': {0: -14.676171448312804, 1: -14.009764391150235},\n",
              "  'trekseven': {0: -14.676171448312804, 1: -14.009764391150235},\n",
              "  'recentlyannounced': {0: -14.676171448312804, 1: -14.009764391150235},\n",
              "  'official': {0: -10.744345815588478, 1: -10.170312078556924},\n",
              "  'wifecorpse': {0: -14.676171448312804, 1: -13.604299283042069},\n",
              "  'awkwardgirl': {0: -13.983024267752858, 1: -14.70291157171018},\n",
              "  'busha': {0: -13.983024267752858, 1: -14.70291157171018},\n",
              "  'waswhat': {0: -13.983024267752858, 1: -14.70291157171018},\n",
              "  'bristolbr': {0: -13.983024267752858, 1: -14.70291157171018},\n",
              "  'vase': {0: -13.577559159644695, 1: -12.911152102482124},\n",
              "  'brothersrichard': {0: -14.676171448312804, 1: -14.009764391150235},\n",
              "  'everchanging': {0: -13.983024267752858, 1: -13.604299283042069},\n",
              "  'cent': {0: -10.598634004407083, 1: -11.301714190048024},\n",
              "  'salaamfashion': {0: -13.983024267752858, 1: -14.70291157171018},\n",
              "  'hendrixbr': {0: -13.983024267752858, 1: -14.70291157171018},\n",
              "  'headedbr': {0: -13.983024267752858, 1: -13.604299283042069},\n",
              "  'agony': {0: -11.210435545513077, 1: -11.56741735578103},\n",
              "  'lustrous': {0: -14.676171448312804, 1: -14.009764391150235},\n",
              "  'ascertain': {0: -12.88441197908475, 1: -12.757001422654866},\n",
              "  'misapplication': {0: -13.983024267752858, 1: -14.70291157171018},\n",
              "  'ethnocentrism': {0: -13.983024267752858, 1: -14.70291157171018},\n",
              "  'baddie': {0: -10.847530051823709, 1: -11.091993659065954},\n",
              "  'awesomebr': {0: -12.88441197908475, 1: -12.757001422654866},\n",
              "  'reheats': {0: -13.983024267752858, 1: -14.70291157171018},\n",
              "  'infusion': {0: -13.983024267752858, 1: -14.70291157171018},\n",
              "  'jobsbr': {0: -13.577559159644695, 1: -14.009764391150235},\n",
              "  'exsilent': {0: -14.676171448312804, 1: -14.009764391150235},\n",
              "  'unglued': {0: -14.676171448312804, 1: -14.009764391150235},\n",
              "  'calgary': {0: -13.983024267752858, 1: -14.70291157171018},\n",
              "  'backshotfakeybits': {0: -14.676171448312804, 1: -14.009764391150235},\n",
              "  'graaff': {0: -14.676171448312804, 1: -13.093473659276079},\n",
              "  'seenitalready': {0: -13.983024267752858, 1: -14.70291157171018},\n",
              "  'partying': {0: -12.191264798524804, 1: -11.99486137060797},\n",
              "  'womanwho': {0: -13.983024267752858, 1: -14.70291157171018},\n",
              "  'movedbr': {0: -14.676171448312804, 1: -13.093473659276079},\n",
              "  'architected': {0: -14.676171448312804, 1: -14.009764391150235},\n",
              "  'mailroom': {0: -13.983024267752858, 1: -14.70291157171018},\n",
              "  'loomis': {0: -13.983024267752858, 1: -11.869698227653963},\n",
              "  'foxblue': {0: -13.983024267752858, 1: -14.70291157171018},\n",
              "  'onerobin': {0: -14.676171448312804, 1: -14.009764391150235},\n",
              "  'liberia': {0: -14.676171448312804, 1: -14.009764391150235},\n",
              "  'hardbrawling': {0: -14.676171448312804, 1: -14.009764391150235},\n",
              "  'ladislav': {0: -13.983024267752858, 1: -14.70291157171018},\n",
              "  'jokerish': {0: -13.983024267752858, 1: -14.70291157171018},\n",
              "  'gayscenes': {0: -13.983024267752858, 1: -14.70291157171018},\n",
              "  'maughms': {0: -13.983024267752858, 1: -14.70291157171018},\n",
              "  'rocchi': {0: -14.676171448312804, 1: -14.009764391150235},\n",
              "  'snoozer': {0: -12.191264798524804, 1: -14.009764391150235},\n",
              "  'loverbr': {0: -13.289877087192913, 1: -13.31661721059029},\n",
              "  'ueto': {0: -12.596729906632968, 1: -14.70291157171018},\n",
              "  'grifasi': {0: -13.983024267752858, 1: -14.70291157171018},\n",
              "  'confessbr': {0: -14.676171448312804, 1: -14.009764391150235},\n",
              "  'boxsetsok': {0: -14.676171448312804, 1: -14.009764391150235},\n",
              "  'impersonalized': {0: -14.676171448312804, 1: -14.009764391150235},\n",
              "  'bestbefore': {0: -13.983024267752858, 1: -14.70291157171018},\n",
              "  'dinnertime': {0: -13.983024267752858, 1: -14.70291157171018},\n",
              "  'spanner': {0: -13.577559159644695, 1: -14.70291157171018},\n",
              "  'longshot': {0: -13.066733535878702, 1: -13.604299283042069},\n",
              "  'walkietalkie': {0: -13.983024267752858, 1: -14.70291157171018},\n",
              "  'columned': {0: -14.676171448312804, 1: -14.009764391150235},\n",
              "  'isolationism': {0: -13.983024267752858, 1: -14.009764391150235},\n",
              "  'nailbiting': {0: -13.289877087192913, 1: -12.911152102482124},\n",
              "  'pseudoirony': {0: -13.983024267752858, 1: -14.70291157171018},\n",
              "  'tick': {0: -12.037114118697545, 1: -11.812539813814015},\n",
              "  'clinical': {0: -12.478946870976584, 1: -12.137962214248642},\n",
              "  'bigname': {0: -13.066733535878702, 1: -12.400326478716133},\n",
              "  'infamously': {0: -13.983024267752858, 1: -13.093473659276079},\n",
              "  'censoredharry': {0: -14.676171448312804, 1: -14.009764391150235},\n",
              "  'lateeighties': {0: -13.983024267752858, 1: -14.70291157171018},\n",
              "  'excops': {0: -14.676171448312804, 1: -14.009764391150235},\n",
              "  'naturism': {0: -14.676171448312804, 1: -14.009764391150235},\n",
              "  'blundering': {0: -13.983024267752858, 1: -13.31661721059029},\n",
              "  'excepts': {0: -14.676171448312804, 1: -13.604299283042069},\n",
              "  'hinterland': {0: -13.577559159644695, 1: -14.009764391150235},\n",
              "  'nervejangling': {0: -13.983024267752858, 1: -14.70291157171018},\n",
              "  'sailes': {0: -13.983024267752858, 1: -14.70291157171018},\n",
              "  'skating': {0: -12.111222090851268, 1: -12.623470030030344},\n",
              "  'hallecks': {0: -13.983024267752858, 1: -14.70291157171018},\n",
              "  'zenlike': {0: -14.676171448312804, 1: -14.009764391150235},\n",
              "  'favortie': {0: -14.676171448312804, 1: -14.009764391150235},\n",
              "  'spiegel': {0: -13.577559159644695, 1: -13.604299283042069},\n",
              "  'oneupmanship': {0: -13.983024267752858, 1: -14.009764391150235},\n",
              "  'ffabr': {0: -13.983024267752858, 1: -14.70291157171018},\n",
              "  'supermanhe': {0: -14.676171448312804, 1: -14.009764391150235},\n",
              "  'ityoull': {0: -13.983024267752858, 1: -13.604299283042069},\n",
              "  'stabilize': {0: -13.983024267752858, 1: -14.009764391150235},\n",
              "  'embarrassingly': {0: -10.826023846602745, 1: -12.757001422654866},\n",
              "  'ruhr': {0: -14.676171448312804, 1: -13.604299283042069},\n",
              "  'painless': {0: -13.983024267752858, 1: -13.604299283042069},\n",
              "  'naiveness': {0: -13.983024267752858, 1: -14.009764391150235},\n",
              "  'barone': {0: -14.676171448312804, 1: -14.009764391150235},\n",
              "  'unfunnybasically': {0: -13.983024267752858, 1: -14.70291157171018},\n",
              "  'lovey': {0: -13.983024267752858, 1: -14.70291157171018},\n",
              "  'redcoating': {0: -14.676171448312804, 1: -14.009764391150235},\n",
              "  'ngema': {0: -14.676171448312804, 1: -14.009764391150235},\n",
              "  'carrot': {0: -12.191264798524804, 1: -12.50568699437396},\n",
              "  'demonstrateswhos': {0: -14.676171448312804, 1: -14.009764391150235},\n",
              "  'burundi': {0: -14.676171448312804, 1: -14.009764391150235},\n",
              "  'jacobi': {0: -13.289877087192913, 1: -11.99486137060797},\n",
              "  'welcomewhich': {0: -13.983024267752858, 1: -14.70291157171018},\n",
              "  'kiefer': {0: -12.88441197908475, 1: -12.137962214248642},\n",
              "  'unclearbr': {0: -13.577559159644695, 1: -14.009764391150235},\n",
              "  'pseudosophisticated': {0: -14.676171448312804, 1: -14.009764391150235},\n",
              "  'bakersfeild': {0: -13.983024267752858, 1: -14.70291157171018},\n",
              "  'selfdefamationbr': {0: -14.676171448312804, 1: -14.009764391150235},\n",
              "  'scripture': {0: -11.585128994954488, 1: -12.757001422654866},\n",
              "  'redman': {0: -14.676171448312804, 1: -13.604299283042069},\n",
              "  'disowned': {0: -12.88441197908475, 1: -12.757001422654866},\n",
              "  'slapstickbr': {0: -13.983024267752858, 1: -14.009764391150235},\n",
              "  'starshort': {0: -14.676171448312804, 1: -14.009764391150235},\n",
              "  'flamenco': {0: -13.577559159644695, 1: -11.301714190048024},\n",
              "  'simbas': {0: -13.983024267752858, 1: -12.50568699437396},\n",
              "  'unidentified': {0: -13.066733535878702, 1: -13.093473659276079},\n",
              "  'epaulet': {0: -13.983024267752858, 1: -14.70291157171018},\n",
              "  'sweeneys': {0: -13.983024267752858, 1: -14.009764391150235},\n",
              "  'anglicised': {0: -13.983024267752858, 1: -14.70291157171018},\n",
              "  'sainiksoldiersons': {0: -14.676171448312804, 1: -14.009764391150235},\n",
              "  'noncinema': {0: -13.983024267752858, 1: -14.70291157171018},\n",
              "  'smidgen': {0: -13.289877087192913, 1: -13.604299283042069},\n",
              "  'radioland': {0: -13.983024267752858, 1: -14.70291157171018},\n",
              "  'second': {0: -7.626916607056967, 1: -7.741615525800013},\n",
              "  'bloat': {0: -13.983024267752858, 1: -14.009764391150235},\n",
              "  'eversplendid': {0: -13.983024267752858, 1: -14.70291157171018},\n",
              "  'recur': {0: -14.676171448312804, 1: -12.911152102482124},\n",
              "  'hiltonetc': {0: -13.983024267752858, 1: -14.70291157171018},\n",
              "  'paint': {0: -9.619925642964496, 1: -10.359106149856496},\n",
              "  'jaundiced': {0: -13.577559159644695, 1: -14.009764391150235},\n",
              "  'tallest': {0: -14.676171448312804, 1: -14.009764391150235},\n",
              "  'minots': {0: -14.676171448312804, 1: -14.009764391150235},\n",
              "  'nispels': {0: -13.983024267752858, 1: -14.70291157171018},\n",
              "  'friendlier': {0: -14.676171448312804, 1: -13.604299283042069},\n",
              "  'shelving': {0: -13.983024267752858, 1: -14.70291157171018},\n",
              "  'marilu': {0: -13.577559159644695, 1: -12.623470030030344},\n",
              "  'aishwarya': {0: -13.289877087192913, 1: -12.911152102482124},\n",
              "  'seventieseighties': {0: -14.676171448312804, 1: -14.009764391150235},\n",
              "  'realizable': {0: -13.983024267752858, 1: -14.70291157171018},\n",
              "  'reaming': {0: -13.983024267752858, 1: -14.70291157171018},\n",
              "  'fastwaybr': {0: -14.676171448312804, 1: -14.009764391150235},\n",
              "  'cultureless': {0: -14.676171448312804, 1: -14.009764391150235},\n",
              "  'strongfragileintriguinghilarious': {0: -13.983024267752858,\n",
              "   1: -14.70291157171018},\n",
              "  'shamefulget': {0: -13.983024267752858, 1: -14.70291157171018},\n",
              "  'rating': {0: -8.267642657253305, 1: -8.604837289543939},\n",
              "  'homesteader': {0: -13.983024267752858, 1: -14.70291157171018},\n",
              "  'handgrenade': {0: -14.676171448312804, 1: -14.009764391150235},\n",
              "  'epicness': {0: -14.676171448312804, 1: -14.009764391150235},\n",
              "  'metcalfes': {0: -14.676171448312804, 1: -14.009764391150235},\n",
              "  'finessingbr': {0: -13.983024267752858, 1: -14.70291157171018},\n",
              "  'replica': {0: -12.478946870976584, 1: -12.911152102482124},\n",
              "  'exoneratedbr': {0: -13.983024267752858, 1: -14.009764391150235},\n",
              "  'trick': {0: -9.888679705530757, 1: -9.567113134659918},\n",
              "  'livesrecommended': {0: -14.676171448312804, 1: -14.009764391150235},\n",
              "  'guerilla': {0: -13.289877087192913, 1: -12.400326478716133},\n",
              "  'sustains': {0: -13.066733535878702, 1: -12.757001422654866},\n",
              "  'scrub': {0: -11.540677232383654, 1: -13.31661721059029},\n",
              "  'bearbr': {0: -13.577559159644695, 1: -13.604299283042069},\n",
              "  'thirdhand': {0: -13.983024267752858, 1: -14.70291157171018},\n",
              "  'boywho': {0: -14.676171448312804, 1: -14.009764391150235},\n",
              "  'someway': {0: -13.289877087192913, 1: -13.31661721059029},\n",
              "  'anotheruntil': {0: -14.676171448312804, 1: -14.009764391150235},\n",
              "  'moviedo': {0: -13.289877087192913, 1: -14.70291157171018},\n",
              "  'balkanbr': {0: -14.676171448312804, 1: -14.009764391150235},\n",
              "  'entrenches': {0: -13.983024267752858, 1: -14.70291157171018},\n",
              "  'shultz': {0: -13.983024267752858, 1: -14.70291157171018},\n",
              "  'passiondramaagain': {0: -14.676171448312804, 1: -14.009764391150235},\n",
              "  'segements': {0: -14.676171448312804, 1: -14.009764391150235},\n",
              "  'headphone': {0: -13.289877087192913, 1: -12.400326478716133},\n",
              "  'muckerji': {0: -14.676171448312804, 1: -13.31661721059029},\n",
              "  'veerupathetic': {0: -13.983024267752858, 1: -14.70291157171018},\n",
              "  'maturity': {0: -12.73026129925749, 1: -11.268924367225033},\n",
              "  'valuesthe': {0: -14.676171448312804, 1: -14.009764391150235},\n",
              "  'schya': {0: -13.983024267752858, 1: -14.70291157171018},\n",
              "  'allegation': {0: -13.577559159644695, 1: -12.757001422654866},\n",
              "  'elsehere': {0: -13.983024267752858, 1: -14.70291157171018},\n",
              "  'bethis': {0: -13.983024267752858, 1: -13.31661721059029},\n",
              "  'eur': {0: -13.577559159644695, 1: -14.009764391150235},\n",
              "  'abccom': {0: -14.676171448312804, 1: -13.604299283042069},\n",
              "  'flitters': {0: -14.676171448312804, 1: -14.009764391150235},\n",
              "  'wroth': {0: -14.676171448312804, 1: -14.009764391150235},\n",
              "  'directedthe': {0: -14.676171448312804, 1: -14.009764391150235},\n",
              "  'mfing': {0: -13.983024267752858, 1: -14.70291157171018},\n",
              "  'herschel': {0: -11.842958104256587, 1: -14.009764391150235},\n",
              "  'storyoriented': {0: -14.676171448312804, 1: -14.009764391150235},\n",
              "  'diseasehere': {0: -14.676171448312804, 1: -14.009764391150235},\n",
              "  'avcoembassy': {0: -13.983024267752858, 1: -14.70291157171018},\n",
              "  'wolske': {0: -13.289877087192913, 1: -14.70291157171018},\n",
              "  'doldrums': {0: -13.577559159644695, 1: -13.31661721059029},\n",
              "  'alkaseltzer': {0: -13.983024267752858, 1: -14.70291157171018},\n",
              "  'copoutbr': {0: -13.577559159644695, 1: -14.70291157171018},\n",
              "  'ktel': {0: -13.577559159644695, 1: -14.70291157171018},\n",
              "  'dday': {0: -13.983024267752858, 1: -13.604299283042069},\n",
              "  'existancebr': {0: -13.983024267752858, 1: -14.70291157171018},\n",
              "  'campedup': {0: -13.577559159644695, 1: -14.70291157171018},\n",
              "  'suos': {0: -14.676171448312804, 1: -13.604299283042069},\n",
              "  'bookall': {0: -14.676171448312804, 1: -14.009764391150235},\n",
              "  'undertakerlast': {0: -14.676171448312804, 1: -14.009764391150235},\n",
              "  'turtleyokai': {0: -14.676171448312804, 1: -14.009764391150235},\n",
              "  'recreated': {0: -12.596729906632968, 1: -11.524857741362233},\n",
              "  'blindly': {0: -11.968121247210593, 1: -12.757001422654866},\n",
              "  'programmersbr': {0: -13.983024267752858, 1: -14.70291157171018},\n",
              "  'kerntype': {0: -13.983024267752858, 1: -14.70291157171018},\n",
              "  'tormentor': {0: -12.88441197908475, 1: -12.063854242094921},\n",
              "  'jackpot': {0: -13.983024267752858, 1: -13.604299283042069},\n",
              "  'fatherhe': {0: -14.676171448312804, 1: -14.009764391150235},\n",
              "  'kazuhiro': {0: -14.676171448312804, 1: -12.757001422654866},\n",
              "  'baptised': {0: -13.983024267752858, 1: -14.70291157171018},\n",
              "  'oja': {0: -13.983024267752858, 1: -14.70291157171018},\n",
              "  'hitchcocktype': {0: -13.983024267752858, 1: -14.70291157171018},\n",
              "  'bigs': {0: -13.983024267752858, 1: -13.093473659276079},\n",
              "  'pleasepleasedont': {0: -13.983024267752858, 1: -14.70291157171018},\n",
              "  'kenge': {0: -14.676171448312804, 1: -14.009764391150235},\n",
              "  'accidentee': {0: -13.983024267752858, 1: -14.70291157171018},\n",
              "  'termbr': {0: -13.577559159644695, 1: -13.604299283042069},\n",
              "  'ullal': {0: -13.983024267752858, 1: -14.70291157171018},\n",
              "  'depletion': {0: -14.676171448312804, 1: -14.009764391150235},\n",
              "  'leopolds': {0: -14.676171448312804, 1: -13.604299283042069},\n",
              "  'shippie': {0: -14.676171448312804, 1: -14.009764391150235},\n",
              "  'commonality': {0: -13.983024267752858, 1: -14.009764391150235},\n",
              "  'audiencebr': {0: -10.847530051823709, 1: -11.268924367225033},\n",
              "  'naturalness': {0: -13.983024267752858, 1: -12.50568699437396},\n",
              "  'commonly': {0: -11.968121247210593, 1: -12.50568699437396},\n",
              "  'goaheadandlaugh': {0: -14.676171448312804, 1: -14.009764391150235},\n",
              "  'rans': {0: -14.676171448312804, 1: -14.009764391150235},\n",
              "  'soif': {0: -14.676171448312804, 1: -14.009764391150235},\n",
              "  'grandad': {0: -14.676171448312804, 1: -13.31661721059029},\n",
              "  'terribleyessome': {0: -13.983024267752858, 1: -14.70291157171018},\n",
              "  'barbramusicians': {0: -14.676171448312804, 1: -14.009764391150235},\n",
              "  'burgundians': {0: -14.676171448312804, 1: -12.911152102482124},\n",
              "  'restaurateur': {0: -13.983024267752858, 1: -14.009764391150235},\n",
              "  'hermanidad': {0: -14.676171448312804, 1: -14.009764391150235},\n",
              "  'printing': {0: -13.983024267752858, 1: -14.009764391150235},\n",
              "  'thanatopsis': {0: -14.676171448312804, 1: -14.009764391150235},\n",
              "  'volleying': {0: -14.676171448312804, 1: -14.009764391150235},\n",
              "  'antijoe': {0: -13.983024267752858, 1: -14.70291157171018},\n",
              "  'unforgiven': {0: -13.577559159644695, 1: -13.093473659276079},\n",
              "  'overemotional': {0: -14.676171448312804, 1: -13.604299283042069},\n",
              "  'shavian': {0: -14.676171448312804, 1: -14.009764391150235},\n",
              "  'labapes': {0: -13.983024267752858, 1: -14.70291157171018},\n",
              "  'childreni': {0: -14.676171448312804, 1: -14.009764391150235},\n",
              "  'mitchplayed': {0: -14.676171448312804, 1: -14.009764391150235},\n",
              "  'rename': {0: -13.066733535878702, 1: -14.70291157171018},\n",
              "  'getawaybr': {0: -14.676171448312804, 1: -14.009764391150235},\n",
              "  'lightweightbr': {0: -13.983024267752858, 1: -14.70291157171018},\n",
              "  'voicework': {0: -14.676171448312804, 1: -13.604299283042069},\n",
              "  'firearm': {0: -12.478946870976584, 1: -13.31661721059029},\n",
              "  'dalai': {0: -12.478946870976584, 1: -13.31661721059029},\n",
              "  'yearbook': {0: -13.983024267752858, 1: -13.604299283042069},\n",
              "  'somethinga': {0: -13.983024267752858, 1: -14.70291157171018},\n",
              "  'gorehoundfriends': {0: -13.983024267752858, 1: -14.70291157171018},\n",
              "  'patientsthe': {0: -14.676171448312804, 1: -14.009764391150235},\n",
              "  'shrewd': {0: -12.73026129925749, 1: -12.137962214248642},\n",
              "  ...})"
            ]
          },
          "metadata": {},
          "execution_count": 31
        }
      ]
    },
    {
      "cell_type": "markdown",
      "source": [
        "### Accuracy on both training and test set"
      ],
      "metadata": {
        "id": "8-5y07g6-8Yt"
      }
    },
    {
      "cell_type": "markdown",
      "source": [
        "#### Converte test imdb to a dataframe"
      ],
      "metadata": {
        "id": "sZEfspkctMAc"
      }
    },
    {
      "cell_type": "code",
      "source": [
        "df_imdb_test = pd.DataFrame(data = imdb_test)"
      ],
      "metadata": {
        "id": "umkr_UiOtVGW"
      },
      "execution_count": 32,
      "outputs": []
    },
    {
      "cell_type": "code",
      "source": [
        "df_imdb_test.head()"
      ],
      "metadata": {
        "colab": {
          "base_uri": "https://localhost:8080/",
          "height": 201
        },
        "id": "ADD4tbZYJWKd",
        "outputId": "1d2e37bf-8e50-4097-d27c-478c30e6f09f"
      },
      "execution_count": 33,
      "outputs": [
        {
          "output_type": "execute_result",
          "data": {
            "text/plain": [
              "                                                text  label\n",
              "0  I love sci-fi and am willing to put up with a ...      0\n",
              "1  Worth the entertainment value of a rental, esp...      0\n",
              "2  its a totally average film with a few semi-alr...      0\n",
              "3  STAR RATING: ***** Saturday Night **** Friday ...      0\n",
              "4  First off let me say, If you haven't enjoyed a...      0"
            ],
            "text/html": [
              "\n",
              "  <div id=\"df-73a2be30-78d4-4cc4-9830-bae1abdbf6c8\">\n",
              "    <div class=\"colab-df-container\">\n",
              "      <div>\n",
              "<style scoped>\n",
              "    .dataframe tbody tr th:only-of-type {\n",
              "        vertical-align: middle;\n",
              "    }\n",
              "\n",
              "    .dataframe tbody tr th {\n",
              "        vertical-align: top;\n",
              "    }\n",
              "\n",
              "    .dataframe thead th {\n",
              "        text-align: right;\n",
              "    }\n",
              "</style>\n",
              "<table border=\"1\" class=\"dataframe\">\n",
              "  <thead>\n",
              "    <tr style=\"text-align: right;\">\n",
              "      <th></th>\n",
              "      <th>text</th>\n",
              "      <th>label</th>\n",
              "    </tr>\n",
              "  </thead>\n",
              "  <tbody>\n",
              "    <tr>\n",
              "      <th>0</th>\n",
              "      <td>I love sci-fi and am willing to put up with a ...</td>\n",
              "      <td>0</td>\n",
              "    </tr>\n",
              "    <tr>\n",
              "      <th>1</th>\n",
              "      <td>Worth the entertainment value of a rental, esp...</td>\n",
              "      <td>0</td>\n",
              "    </tr>\n",
              "    <tr>\n",
              "      <th>2</th>\n",
              "      <td>its a totally average film with a few semi-alr...</td>\n",
              "      <td>0</td>\n",
              "    </tr>\n",
              "    <tr>\n",
              "      <th>3</th>\n",
              "      <td>STAR RATING: ***** Saturday Night **** Friday ...</td>\n",
              "      <td>0</td>\n",
              "    </tr>\n",
              "    <tr>\n",
              "      <th>4</th>\n",
              "      <td>First off let me say, If you haven't enjoyed a...</td>\n",
              "      <td>0</td>\n",
              "    </tr>\n",
              "  </tbody>\n",
              "</table>\n",
              "</div>\n",
              "      <button class=\"colab-df-convert\" onclick=\"convertToInteractive('df-73a2be30-78d4-4cc4-9830-bae1abdbf6c8')\"\n",
              "              title=\"Convert this dataframe to an interactive table.\"\n",
              "              style=\"display:none;\">\n",
              "        \n",
              "  <svg xmlns=\"http://www.w3.org/2000/svg\" height=\"24px\"viewBox=\"0 0 24 24\"\n",
              "       width=\"24px\">\n",
              "    <path d=\"M0 0h24v24H0V0z\" fill=\"none\"/>\n",
              "    <path d=\"M18.56 5.44l.94 2.06.94-2.06 2.06-.94-2.06-.94-.94-2.06-.94 2.06-2.06.94zm-11 1L8.5 8.5l.94-2.06 2.06-.94-2.06-.94L8.5 2.5l-.94 2.06-2.06.94zm10 10l.94 2.06.94-2.06 2.06-.94-2.06-.94-.94-2.06-.94 2.06-2.06.94z\"/><path d=\"M17.41 7.96l-1.37-1.37c-.4-.4-.92-.59-1.43-.59-.52 0-1.04.2-1.43.59L10.3 9.45l-7.72 7.72c-.78.78-.78 2.05 0 2.83L4 21.41c.39.39.9.59 1.41.59.51 0 1.02-.2 1.41-.59l7.78-7.78 2.81-2.81c.8-.78.8-2.07 0-2.86zM5.41 20L4 18.59l7.72-7.72 1.47 1.35L5.41 20z\"/>\n",
              "  </svg>\n",
              "      </button>\n",
              "      \n",
              "  <style>\n",
              "    .colab-df-container {\n",
              "      display:flex;\n",
              "      flex-wrap:wrap;\n",
              "      gap: 12px;\n",
              "    }\n",
              "\n",
              "    .colab-df-convert {\n",
              "      background-color: #E8F0FE;\n",
              "      border: none;\n",
              "      border-radius: 50%;\n",
              "      cursor: pointer;\n",
              "      display: none;\n",
              "      fill: #1967D2;\n",
              "      height: 32px;\n",
              "      padding: 0 0 0 0;\n",
              "      width: 32px;\n",
              "    }\n",
              "\n",
              "    .colab-df-convert:hover {\n",
              "      background-color: #E2EBFA;\n",
              "      box-shadow: 0px 1px 2px rgba(60, 64, 67, 0.3), 0px 1px 3px 1px rgba(60, 64, 67, 0.15);\n",
              "      fill: #174EA6;\n",
              "    }\n",
              "\n",
              "    [theme=dark] .colab-df-convert {\n",
              "      background-color: #3B4455;\n",
              "      fill: #D2E3FC;\n",
              "    }\n",
              "\n",
              "    [theme=dark] .colab-df-convert:hover {\n",
              "      background-color: #434B5C;\n",
              "      box-shadow: 0px 1px 3px 1px rgba(0, 0, 0, 0.15);\n",
              "      filter: drop-shadow(0px 1px 2px rgba(0, 0, 0, 0.3));\n",
              "      fill: #FFFFFF;\n",
              "    }\n",
              "  </style>\n",
              "\n",
              "      <script>\n",
              "        const buttonEl =\n",
              "          document.querySelector('#df-73a2be30-78d4-4cc4-9830-bae1abdbf6c8 button.colab-df-convert');\n",
              "        buttonEl.style.display =\n",
              "          google.colab.kernel.accessAllowed ? 'block' : 'none';\n",
              "\n",
              "        async function convertToInteractive(key) {\n",
              "          const element = document.querySelector('#df-73a2be30-78d4-4cc4-9830-bae1abdbf6c8');\n",
              "          const dataTable =\n",
              "            await google.colab.kernel.invokeFunction('convertToInteractive',\n",
              "                                                     [key], {});\n",
              "          if (!dataTable) return;\n",
              "\n",
              "          const docLinkHtml = 'Like what you see? Visit the ' +\n",
              "            '<a target=\"_blank\" href=https://colab.research.google.com/notebooks/data_table.ipynb>data table notebook</a>'\n",
              "            + ' to learn more about interactive tables.';\n",
              "          element.innerHTML = '';\n",
              "          dataTable['output_type'] = 'display_data';\n",
              "          await google.colab.output.renderOutput(dataTable, element);\n",
              "          const docLink = document.createElement('div');\n",
              "          docLink.innerHTML = docLinkHtml;\n",
              "          element.appendChild(docLink);\n",
              "        }\n",
              "      </script>\n",
              "    </div>\n",
              "  </div>\n",
              "  "
            ]
          },
          "metadata": {},
          "execution_count": 33
        }
      ]
    },
    {
      "cell_type": "markdown",
      "source": [
        "#### Pretreatment of test imdb"
      ],
      "metadata": {
        "id": "_zapMnt_Immb"
      }
    },
    {
      "cell_type": "code",
      "source": [
        "df_imdb_test['text'] = df_imdb_test['text'].apply(pre_treatment)"
      ],
      "metadata": {
        "id": "b3XvTQKII0ip"
      },
      "execution_count": 34,
      "outputs": []
    },
    {
      "cell_type": "code",
      "source": [
        "df_imdb_test.head()"
      ],
      "metadata": {
        "colab": {
          "base_uri": "https://localhost:8080/",
          "height": 201
        },
        "id": "YjIxS51Oiycb",
        "outputId": "54f25b1b-2c18-41e6-c7ea-d8ce64b97405"
      },
      "execution_count": 35,
      "outputs": [
        {
          "output_type": "execute_result",
          "data": {
            "text/plain": [
              "                                                text  label\n",
              "0  love scifi and willing put with lot scifi movi...      0\n",
              "1  worth the entertainment value rental especiall...      0\n",
              "2  it totally average film with few semialright a...      0\n",
              "3  star rating saturday night friday night friday...      0\n",
              "4  first off let say you havent enjoyed van damme...      0"
            ],
            "text/html": [
              "\n",
              "  <div id=\"df-23f08984-10b5-4e44-999b-f4735141d31a\">\n",
              "    <div class=\"colab-df-container\">\n",
              "      <div>\n",
              "<style scoped>\n",
              "    .dataframe tbody tr th:only-of-type {\n",
              "        vertical-align: middle;\n",
              "    }\n",
              "\n",
              "    .dataframe tbody tr th {\n",
              "        vertical-align: top;\n",
              "    }\n",
              "\n",
              "    .dataframe thead th {\n",
              "        text-align: right;\n",
              "    }\n",
              "</style>\n",
              "<table border=\"1\" class=\"dataframe\">\n",
              "  <thead>\n",
              "    <tr style=\"text-align: right;\">\n",
              "      <th></th>\n",
              "      <th>text</th>\n",
              "      <th>label</th>\n",
              "    </tr>\n",
              "  </thead>\n",
              "  <tbody>\n",
              "    <tr>\n",
              "      <th>0</th>\n",
              "      <td>love scifi and willing put with lot scifi movi...</td>\n",
              "      <td>0</td>\n",
              "    </tr>\n",
              "    <tr>\n",
              "      <th>1</th>\n",
              "      <td>worth the entertainment value rental especiall...</td>\n",
              "      <td>0</td>\n",
              "    </tr>\n",
              "    <tr>\n",
              "      <th>2</th>\n",
              "      <td>it totally average film with few semialright a...</td>\n",
              "      <td>0</td>\n",
              "    </tr>\n",
              "    <tr>\n",
              "      <th>3</th>\n",
              "      <td>star rating saturday night friday night friday...</td>\n",
              "      <td>0</td>\n",
              "    </tr>\n",
              "    <tr>\n",
              "      <th>4</th>\n",
              "      <td>first off let say you havent enjoyed van damme...</td>\n",
              "      <td>0</td>\n",
              "    </tr>\n",
              "  </tbody>\n",
              "</table>\n",
              "</div>\n",
              "      <button class=\"colab-df-convert\" onclick=\"convertToInteractive('df-23f08984-10b5-4e44-999b-f4735141d31a')\"\n",
              "              title=\"Convert this dataframe to an interactive table.\"\n",
              "              style=\"display:none;\">\n",
              "        \n",
              "  <svg xmlns=\"http://www.w3.org/2000/svg\" height=\"24px\"viewBox=\"0 0 24 24\"\n",
              "       width=\"24px\">\n",
              "    <path d=\"M0 0h24v24H0V0z\" fill=\"none\"/>\n",
              "    <path d=\"M18.56 5.44l.94 2.06.94-2.06 2.06-.94-2.06-.94-.94-2.06-.94 2.06-2.06.94zm-11 1L8.5 8.5l.94-2.06 2.06-.94-2.06-.94L8.5 2.5l-.94 2.06-2.06.94zm10 10l.94 2.06.94-2.06 2.06-.94-2.06-.94-.94-2.06-.94 2.06-2.06.94z\"/><path d=\"M17.41 7.96l-1.37-1.37c-.4-.4-.92-.59-1.43-.59-.52 0-1.04.2-1.43.59L10.3 9.45l-7.72 7.72c-.78.78-.78 2.05 0 2.83L4 21.41c.39.39.9.59 1.41.59.51 0 1.02-.2 1.41-.59l7.78-7.78 2.81-2.81c.8-.78.8-2.07 0-2.86zM5.41 20L4 18.59l7.72-7.72 1.47 1.35L5.41 20z\"/>\n",
              "  </svg>\n",
              "      </button>\n",
              "      \n",
              "  <style>\n",
              "    .colab-df-container {\n",
              "      display:flex;\n",
              "      flex-wrap:wrap;\n",
              "      gap: 12px;\n",
              "    }\n",
              "\n",
              "    .colab-df-convert {\n",
              "      background-color: #E8F0FE;\n",
              "      border: none;\n",
              "      border-radius: 50%;\n",
              "      cursor: pointer;\n",
              "      display: none;\n",
              "      fill: #1967D2;\n",
              "      height: 32px;\n",
              "      padding: 0 0 0 0;\n",
              "      width: 32px;\n",
              "    }\n",
              "\n",
              "    .colab-df-convert:hover {\n",
              "      background-color: #E2EBFA;\n",
              "      box-shadow: 0px 1px 2px rgba(60, 64, 67, 0.3), 0px 1px 3px 1px rgba(60, 64, 67, 0.15);\n",
              "      fill: #174EA6;\n",
              "    }\n",
              "\n",
              "    [theme=dark] .colab-df-convert {\n",
              "      background-color: #3B4455;\n",
              "      fill: #D2E3FC;\n",
              "    }\n",
              "\n",
              "    [theme=dark] .colab-df-convert:hover {\n",
              "      background-color: #434B5C;\n",
              "      box-shadow: 0px 1px 3px 1px rgba(0, 0, 0, 0.15);\n",
              "      filter: drop-shadow(0px 1px 2px rgba(0, 0, 0, 0.3));\n",
              "      fill: #FFFFFF;\n",
              "    }\n",
              "  </style>\n",
              "\n",
              "      <script>\n",
              "        const buttonEl =\n",
              "          document.querySelector('#df-23f08984-10b5-4e44-999b-f4735141d31a button.colab-df-convert');\n",
              "        buttonEl.style.display =\n",
              "          google.colab.kernel.accessAllowed ? 'block' : 'none';\n",
              "\n",
              "        async function convertToInteractive(key) {\n",
              "          const element = document.querySelector('#df-23f08984-10b5-4e44-999b-f4735141d31a');\n",
              "          const dataTable =\n",
              "            await google.colab.kernel.invokeFunction('convertToInteractive',\n",
              "                                                     [key], {});\n",
              "          if (!dataTable) return;\n",
              "\n",
              "          const docLinkHtml = 'Like what you see? Visit the ' +\n",
              "            '<a target=\"_blank\" href=https://colab.research.google.com/notebooks/data_table.ipynb>data table notebook</a>'\n",
              "            + ' to learn more about interactive tables.';\n",
              "          element.innerHTML = '';\n",
              "          dataTable['output_type'] = 'display_data';\n",
              "          await google.colab.output.renderOutput(dataTable, element);\n",
              "          const docLink = document.createElement('div');\n",
              "          docLink.innerHTML = docLinkHtml;\n",
              "          element.appendChild(docLink);\n",
              "        }\n",
              "      </script>\n",
              "    </div>\n",
              "  </div>\n",
              "  "
            ]
          },
          "metadata": {},
          "execution_count": 35
        }
      ]
    },
    {
      "cell_type": "markdown",
      "source": [
        "#### Prediction"
      ],
      "metadata": {
        "id": "z12iGfuPs5ei"
      }
    },
    {
      "cell_type": "code",
      "source": [
        "df_imdb_train['prediction'] = df_imdb_train.apply(lambda row: test_naive_bayes(row['text'], log_prior, log_likelihood, classes, vocabulary), axis=1)"
      ],
      "metadata": {
        "id": "RTVuaBmhzisY"
      },
      "execution_count": 36,
      "outputs": []
    },
    {
      "cell_type": "code",
      "source": [
        "df_imdb_test['prediction'] = df_imdb_test.apply(lambda row: test_naive_bayes(row['text'], log_prior, log_likelihood, classes, vocabulary), axis=1)"
      ],
      "metadata": {
        "id": "kFyfgXnertTt"
      },
      "execution_count": 37,
      "outputs": []
    },
    {
      "cell_type": "code",
      "source": [
        "df_imdb_train.head()"
      ],
      "metadata": {
        "colab": {
          "base_uri": "https://localhost:8080/",
          "height": 201
        },
        "id": "uoix2TtLBv3x",
        "outputId": "4b49ac5a-0345-4303-d84f-2cc6864d50e8"
      },
      "execution_count": 38,
      "outputs": [
        {
          "output_type": "execute_result",
          "data": {
            "text/plain": [
              "                                                text  label  prediction\n",
              "0  rented curiousyellow from video store because ...      0           0\n",
              "1  curious yellow risible and pretentious steamin...      0           0\n",
              "2  only avoid making this type film the future th...      0           0\n",
              "3  this film wa probably inspired godard masculin...      0           0\n",
              "4  brotherafter hearing about this ridiculous fil...      0           0"
            ],
            "text/html": [
              "\n",
              "  <div id=\"df-ae282578-6a3c-4773-8ba1-33d3d01a68cc\">\n",
              "    <div class=\"colab-df-container\">\n",
              "      <div>\n",
              "<style scoped>\n",
              "    .dataframe tbody tr th:only-of-type {\n",
              "        vertical-align: middle;\n",
              "    }\n",
              "\n",
              "    .dataframe tbody tr th {\n",
              "        vertical-align: top;\n",
              "    }\n",
              "\n",
              "    .dataframe thead th {\n",
              "        text-align: right;\n",
              "    }\n",
              "</style>\n",
              "<table border=\"1\" class=\"dataframe\">\n",
              "  <thead>\n",
              "    <tr style=\"text-align: right;\">\n",
              "      <th></th>\n",
              "      <th>text</th>\n",
              "      <th>label</th>\n",
              "      <th>prediction</th>\n",
              "    </tr>\n",
              "  </thead>\n",
              "  <tbody>\n",
              "    <tr>\n",
              "      <th>0</th>\n",
              "      <td>rented curiousyellow from video store because ...</td>\n",
              "      <td>0</td>\n",
              "      <td>0</td>\n",
              "    </tr>\n",
              "    <tr>\n",
              "      <th>1</th>\n",
              "      <td>curious yellow risible and pretentious steamin...</td>\n",
              "      <td>0</td>\n",
              "      <td>0</td>\n",
              "    </tr>\n",
              "    <tr>\n",
              "      <th>2</th>\n",
              "      <td>only avoid making this type film the future th...</td>\n",
              "      <td>0</td>\n",
              "      <td>0</td>\n",
              "    </tr>\n",
              "    <tr>\n",
              "      <th>3</th>\n",
              "      <td>this film wa probably inspired godard masculin...</td>\n",
              "      <td>0</td>\n",
              "      <td>0</td>\n",
              "    </tr>\n",
              "    <tr>\n",
              "      <th>4</th>\n",
              "      <td>brotherafter hearing about this ridiculous fil...</td>\n",
              "      <td>0</td>\n",
              "      <td>0</td>\n",
              "    </tr>\n",
              "  </tbody>\n",
              "</table>\n",
              "</div>\n",
              "      <button class=\"colab-df-convert\" onclick=\"convertToInteractive('df-ae282578-6a3c-4773-8ba1-33d3d01a68cc')\"\n",
              "              title=\"Convert this dataframe to an interactive table.\"\n",
              "              style=\"display:none;\">\n",
              "        \n",
              "  <svg xmlns=\"http://www.w3.org/2000/svg\" height=\"24px\"viewBox=\"0 0 24 24\"\n",
              "       width=\"24px\">\n",
              "    <path d=\"M0 0h24v24H0V0z\" fill=\"none\"/>\n",
              "    <path d=\"M18.56 5.44l.94 2.06.94-2.06 2.06-.94-2.06-.94-.94-2.06-.94 2.06-2.06.94zm-11 1L8.5 8.5l.94-2.06 2.06-.94-2.06-.94L8.5 2.5l-.94 2.06-2.06.94zm10 10l.94 2.06.94-2.06 2.06-.94-2.06-.94-.94-2.06-.94 2.06-2.06.94z\"/><path d=\"M17.41 7.96l-1.37-1.37c-.4-.4-.92-.59-1.43-.59-.52 0-1.04.2-1.43.59L10.3 9.45l-7.72 7.72c-.78.78-.78 2.05 0 2.83L4 21.41c.39.39.9.59 1.41.59.51 0 1.02-.2 1.41-.59l7.78-7.78 2.81-2.81c.8-.78.8-2.07 0-2.86zM5.41 20L4 18.59l7.72-7.72 1.47 1.35L5.41 20z\"/>\n",
              "  </svg>\n",
              "      </button>\n",
              "      \n",
              "  <style>\n",
              "    .colab-df-container {\n",
              "      display:flex;\n",
              "      flex-wrap:wrap;\n",
              "      gap: 12px;\n",
              "    }\n",
              "\n",
              "    .colab-df-convert {\n",
              "      background-color: #E8F0FE;\n",
              "      border: none;\n",
              "      border-radius: 50%;\n",
              "      cursor: pointer;\n",
              "      display: none;\n",
              "      fill: #1967D2;\n",
              "      height: 32px;\n",
              "      padding: 0 0 0 0;\n",
              "      width: 32px;\n",
              "    }\n",
              "\n",
              "    .colab-df-convert:hover {\n",
              "      background-color: #E2EBFA;\n",
              "      box-shadow: 0px 1px 2px rgba(60, 64, 67, 0.3), 0px 1px 3px 1px rgba(60, 64, 67, 0.15);\n",
              "      fill: #174EA6;\n",
              "    }\n",
              "\n",
              "    [theme=dark] .colab-df-convert {\n",
              "      background-color: #3B4455;\n",
              "      fill: #D2E3FC;\n",
              "    }\n",
              "\n",
              "    [theme=dark] .colab-df-convert:hover {\n",
              "      background-color: #434B5C;\n",
              "      box-shadow: 0px 1px 3px 1px rgba(0, 0, 0, 0.15);\n",
              "      filter: drop-shadow(0px 1px 2px rgba(0, 0, 0, 0.3));\n",
              "      fill: #FFFFFF;\n",
              "    }\n",
              "  </style>\n",
              "\n",
              "      <script>\n",
              "        const buttonEl =\n",
              "          document.querySelector('#df-ae282578-6a3c-4773-8ba1-33d3d01a68cc button.colab-df-convert');\n",
              "        buttonEl.style.display =\n",
              "          google.colab.kernel.accessAllowed ? 'block' : 'none';\n",
              "\n",
              "        async function convertToInteractive(key) {\n",
              "          const element = document.querySelector('#df-ae282578-6a3c-4773-8ba1-33d3d01a68cc');\n",
              "          const dataTable =\n",
              "            await google.colab.kernel.invokeFunction('convertToInteractive',\n",
              "                                                     [key], {});\n",
              "          if (!dataTable) return;\n",
              "\n",
              "          const docLinkHtml = 'Like what you see? Visit the ' +\n",
              "            '<a target=\"_blank\" href=https://colab.research.google.com/notebooks/data_table.ipynb>data table notebook</a>'\n",
              "            + ' to learn more about interactive tables.';\n",
              "          element.innerHTML = '';\n",
              "          dataTable['output_type'] = 'display_data';\n",
              "          await google.colab.output.renderOutput(dataTable, element);\n",
              "          const docLink = document.createElement('div');\n",
              "          docLink.innerHTML = docLinkHtml;\n",
              "          element.appendChild(docLink);\n",
              "        }\n",
              "      </script>\n",
              "    </div>\n",
              "  </div>\n",
              "  "
            ]
          },
          "metadata": {},
          "execution_count": 38
        }
      ]
    },
    {
      "cell_type": "code",
      "source": [
        "df_imdb_test.head()"
      ],
      "metadata": {
        "colab": {
          "base_uri": "https://localhost:8080/",
          "height": 201
        },
        "id": "pM3YJTvMf6On",
        "outputId": "2d34aed2-476b-4308-e6c8-43a4954fc851"
      },
      "execution_count": 39,
      "outputs": [
        {
          "output_type": "execute_result",
          "data": {
            "text/plain": [
              "                                                text  label  prediction\n",
              "0  love scifi and willing put with lot scifi movi...      0           0\n",
              "1  worth the entertainment value rental especiall...      0           0\n",
              "2  it totally average film with few semialright a...      0           0\n",
              "3  star rating saturday night friday night friday...      0           0\n",
              "4  first off let say you havent enjoyed van damme...      0           0"
            ],
            "text/html": [
              "\n",
              "  <div id=\"df-1b50efdc-f2b8-4ca5-b2b3-41bdd11ca85b\">\n",
              "    <div class=\"colab-df-container\">\n",
              "      <div>\n",
              "<style scoped>\n",
              "    .dataframe tbody tr th:only-of-type {\n",
              "        vertical-align: middle;\n",
              "    }\n",
              "\n",
              "    .dataframe tbody tr th {\n",
              "        vertical-align: top;\n",
              "    }\n",
              "\n",
              "    .dataframe thead th {\n",
              "        text-align: right;\n",
              "    }\n",
              "</style>\n",
              "<table border=\"1\" class=\"dataframe\">\n",
              "  <thead>\n",
              "    <tr style=\"text-align: right;\">\n",
              "      <th></th>\n",
              "      <th>text</th>\n",
              "      <th>label</th>\n",
              "      <th>prediction</th>\n",
              "    </tr>\n",
              "  </thead>\n",
              "  <tbody>\n",
              "    <tr>\n",
              "      <th>0</th>\n",
              "      <td>love scifi and willing put with lot scifi movi...</td>\n",
              "      <td>0</td>\n",
              "      <td>0</td>\n",
              "    </tr>\n",
              "    <tr>\n",
              "      <th>1</th>\n",
              "      <td>worth the entertainment value rental especiall...</td>\n",
              "      <td>0</td>\n",
              "      <td>0</td>\n",
              "    </tr>\n",
              "    <tr>\n",
              "      <th>2</th>\n",
              "      <td>it totally average film with few semialright a...</td>\n",
              "      <td>0</td>\n",
              "      <td>0</td>\n",
              "    </tr>\n",
              "    <tr>\n",
              "      <th>3</th>\n",
              "      <td>star rating saturday night friday night friday...</td>\n",
              "      <td>0</td>\n",
              "      <td>0</td>\n",
              "    </tr>\n",
              "    <tr>\n",
              "      <th>4</th>\n",
              "      <td>first off let say you havent enjoyed van damme...</td>\n",
              "      <td>0</td>\n",
              "      <td>0</td>\n",
              "    </tr>\n",
              "  </tbody>\n",
              "</table>\n",
              "</div>\n",
              "      <button class=\"colab-df-convert\" onclick=\"convertToInteractive('df-1b50efdc-f2b8-4ca5-b2b3-41bdd11ca85b')\"\n",
              "              title=\"Convert this dataframe to an interactive table.\"\n",
              "              style=\"display:none;\">\n",
              "        \n",
              "  <svg xmlns=\"http://www.w3.org/2000/svg\" height=\"24px\"viewBox=\"0 0 24 24\"\n",
              "       width=\"24px\">\n",
              "    <path d=\"M0 0h24v24H0V0z\" fill=\"none\"/>\n",
              "    <path d=\"M18.56 5.44l.94 2.06.94-2.06 2.06-.94-2.06-.94-.94-2.06-.94 2.06-2.06.94zm-11 1L8.5 8.5l.94-2.06 2.06-.94-2.06-.94L8.5 2.5l-.94 2.06-2.06.94zm10 10l.94 2.06.94-2.06 2.06-.94-2.06-.94-.94-2.06-.94 2.06-2.06.94z\"/><path d=\"M17.41 7.96l-1.37-1.37c-.4-.4-.92-.59-1.43-.59-.52 0-1.04.2-1.43.59L10.3 9.45l-7.72 7.72c-.78.78-.78 2.05 0 2.83L4 21.41c.39.39.9.59 1.41.59.51 0 1.02-.2 1.41-.59l7.78-7.78 2.81-2.81c.8-.78.8-2.07 0-2.86zM5.41 20L4 18.59l7.72-7.72 1.47 1.35L5.41 20z\"/>\n",
              "  </svg>\n",
              "      </button>\n",
              "      \n",
              "  <style>\n",
              "    .colab-df-container {\n",
              "      display:flex;\n",
              "      flex-wrap:wrap;\n",
              "      gap: 12px;\n",
              "    }\n",
              "\n",
              "    .colab-df-convert {\n",
              "      background-color: #E8F0FE;\n",
              "      border: none;\n",
              "      border-radius: 50%;\n",
              "      cursor: pointer;\n",
              "      display: none;\n",
              "      fill: #1967D2;\n",
              "      height: 32px;\n",
              "      padding: 0 0 0 0;\n",
              "      width: 32px;\n",
              "    }\n",
              "\n",
              "    .colab-df-convert:hover {\n",
              "      background-color: #E2EBFA;\n",
              "      box-shadow: 0px 1px 2px rgba(60, 64, 67, 0.3), 0px 1px 3px 1px rgba(60, 64, 67, 0.15);\n",
              "      fill: #174EA6;\n",
              "    }\n",
              "\n",
              "    [theme=dark] .colab-df-convert {\n",
              "      background-color: #3B4455;\n",
              "      fill: #D2E3FC;\n",
              "    }\n",
              "\n",
              "    [theme=dark] .colab-df-convert:hover {\n",
              "      background-color: #434B5C;\n",
              "      box-shadow: 0px 1px 3px 1px rgba(0, 0, 0, 0.15);\n",
              "      filter: drop-shadow(0px 1px 2px rgba(0, 0, 0, 0.3));\n",
              "      fill: #FFFFFF;\n",
              "    }\n",
              "  </style>\n",
              "\n",
              "      <script>\n",
              "        const buttonEl =\n",
              "          document.querySelector('#df-1b50efdc-f2b8-4ca5-b2b3-41bdd11ca85b button.colab-df-convert');\n",
              "        buttonEl.style.display =\n",
              "          google.colab.kernel.accessAllowed ? 'block' : 'none';\n",
              "\n",
              "        async function convertToInteractive(key) {\n",
              "          const element = document.querySelector('#df-1b50efdc-f2b8-4ca5-b2b3-41bdd11ca85b');\n",
              "          const dataTable =\n",
              "            await google.colab.kernel.invokeFunction('convertToInteractive',\n",
              "                                                     [key], {});\n",
              "          if (!dataTable) return;\n",
              "\n",
              "          const docLinkHtml = 'Like what you see? Visit the ' +\n",
              "            '<a target=\"_blank\" href=https://colab.research.google.com/notebooks/data_table.ipynb>data table notebook</a>'\n",
              "            + ' to learn more about interactive tables.';\n",
              "          element.innerHTML = '';\n",
              "          dataTable['output_type'] = 'display_data';\n",
              "          await google.colab.output.renderOutput(dataTable, element);\n",
              "          const docLink = document.createElement('div');\n",
              "          docLink.innerHTML = docLinkHtml;\n",
              "          element.appendChild(docLink);\n",
              "        }\n",
              "      </script>\n",
              "    </div>\n",
              "  </div>\n",
              "  "
            ]
          },
          "metadata": {},
          "execution_count": 39
        }
      ]
    },
    {
      "cell_type": "markdown",
      "source": [
        "#### Accuracy"
      ],
      "metadata": {
        "id": "cJhwcsHyGJ4_"
      }
    },
    {
      "cell_type": "code",
      "source": [
        "def compute_accuracy(dataframe):\n",
        "  correct_answers = 0\n",
        "\n",
        "  for index, document in dataframe.iterrows():\n",
        "    if document['label'] == document['prediction']:\n",
        "      correct_answers += 1\n",
        "\n",
        "  accuracy = correct_answers/len(dataframe)\n",
        "\n",
        "  return accuracy"
      ],
      "metadata": {
        "id": "ayOzQgT7pwED"
      },
      "execution_count": 40,
      "outputs": []
    },
    {
      "cell_type": "markdown",
      "source": [
        "Test set accuracy"
      ],
      "metadata": {
        "id": "x2_h4ttgJLQb"
      }
    },
    {
      "cell_type": "code",
      "source": [
        "test_set_accuracy = compute_accuracy(df_imdb_test)\n",
        "print(f\"Test set accuracy: {test_set_accuracy:.2%}\")"
      ],
      "metadata": {
        "colab": {
          "base_uri": "https://localhost:8080/"
        },
        "id": "JV392Tc0KQnw",
        "outputId": "748199c3-bb6a-4a8d-cd13-142fbf6dede4"
      },
      "execution_count": 41,
      "outputs": [
        {
          "output_type": "stream",
          "name": "stdout",
          "text": [
            "Test set accuracy: 81.67%\n"
          ]
        }
      ]
    },
    {
      "cell_type": "markdown",
      "source": [
        "Train set accuracy"
      ],
      "metadata": {
        "id": "3WUkxVQUNVqQ"
      }
    },
    {
      "cell_type": "code",
      "source": [
        "train_set_accuracy = compute_accuracy(df_imdb_train)\n",
        "print(f\"Train set accuracy: {train_set_accuracy:.2%}\")"
      ],
      "metadata": {
        "colab": {
          "base_uri": "https://localhost:8080/"
        },
        "id": "f3fD1F1fNTxO",
        "outputId": "950f78f8-5782-4d8d-eaef-19e16d7c9ed8"
      },
      "execution_count": 42,
      "outputs": [
        {
          "output_type": "stream",
          "name": "stdout",
          "text": [
            "Train set accuracy: 91.14%\n"
          ]
        }
      ]
    },
    {
      "cell_type": "markdown",
      "source": [
        "### Question 2.4: Why is accuracy a sufficient measure of evaluation here?"
      ],
      "metadata": {
        "id": "uIM_st77YGj_"
      }
    },
    {
      "cell_type": "markdown",
      "source": [
        "...\n"
      ],
      "metadata": {
        "id": "-Q5JWOXnYeSR"
      }
    },
    {
      "cell_type": "markdown",
      "source": [
        "### What are the top 10 most important words (features) for each class?\n"
      ],
      "metadata": {
        "id": "NRhmaWi7byef"
      }
    },
    {
      "cell_type": "code",
      "source": [
        "type(log_likelihood[\"and\"])"
      ],
      "metadata": {
        "colab": {
          "base_uri": "https://localhost:8080/"
        },
        "id": "qH2ZtDyAgQ6p",
        "outputId": "ef930e1d-66c5-4fe1-b36b-ef3f2f991766"
      },
      "execution_count": 46,
      "outputs": [
        {
          "output_type": "execute_result",
          "data": {
            "text/plain": [
              "dict"
            ]
          },
          "metadata": {},
          "execution_count": 46
        }
      ]
    },
    {
      "cell_type": "code",
      "source": [
        "def sort_log_likelihood(loglikelihood, class_label):\n",
        "  \n",
        "  loglikelihood_items = {}\n",
        "  \n",
        "  for word in loglikelihood.keys():\n",
        "    loglikelihood_items[word] = loglikelihood[word][class_label]\n",
        "  \n",
        "  # tuples = zip(loglikelihood.col, coo_matrix.data)\n",
        "  \n",
        "  sorted_tuples = sorted(loglikelihood_items.items(), key=lambda item: item[1], reverse=True)\n",
        "  \n",
        "  return sorted_tuples\n",
        "  # return sorted(tuples, key=lambda x: (x[1], x[0]), reverse=True)\n",
        "\n",
        "# #generate tf-idf for the given document\n",
        "# tf_idf_vector=tfidf_transformer.transform(cv.transform([\"change number node recognition rate defined relative frequency\"]))\n",
        "\n",
        "# #sort the tf-idf vectors by descending order of scores\n",
        "# sorted_items=sort_coo(tf_idf_vector.tocoo())\n",
        "\n",
        "# sorted_items"
      ],
      "metadata": {
        "id": "E1g9B5EJey78"
      },
      "execution_count": 76,
      "outputs": []
    },
    {
      "cell_type": "markdown",
      "source": [
        "#### Look at the words with the highest likelihood in each class.\n"
      ],
      "metadata": {
        "id": "q5WS-UEiee1I"
      }
    },
    {
      "cell_type": "code",
      "source": [
        "Top_10_negative = sort_log_likelihood(log_likelihood, 0)[:10]"
      ],
      "metadata": {
        "id": "icWTa91EN-sq"
      },
      "execution_count": 82,
      "outputs": []
    },
    {
      "cell_type": "code",
      "source": [
        "Top_10_negative"
      ],
      "metadata": {
        "colab": {
          "base_uri": "https://localhost:8080/"
        },
        "id": "RxE1QL9TkOpX",
        "outputId": "94f5669d-84ad-4133-96cc-43b3245c4730"
      },
      "execution_count": 83,
      "outputs": [
        {
          "output_type": "execute_result",
          "data": {
            "text/plain": [
              "[('the', -2.677978196365483),\n",
              " ('and', -3.471675128939145),\n",
              " ('this', -4.068201205552985),\n",
              " ('that', -4.204278280380475),\n",
              " ('movie', -4.443128381768861),\n",
              " ('wa', -4.50357320891033),\n",
              " ('for', -4.691380444712641),\n",
              " ('but', -4.708020382450953),\n",
              " ('film', -4.708301636847407),\n",
              " ('with', -4.7366895355533)]"
            ]
          },
          "metadata": {},
          "execution_count": 83
        }
      ]
    },
    {
      "cell_type": "code",
      "source": [
        "Top_10_positive = sort_log_likelihood(log_likelihood, 1)[:10]"
      ],
      "metadata": {
        "id": "OHKEpRMlkRS6"
      },
      "execution_count": 84,
      "outputs": []
    },
    {
      "cell_type": "code",
      "source": [
        "Top_10_positive"
      ],
      "metadata": {
        "colab": {
          "base_uri": "https://localhost:8080/"
        },
        "id": "4Z2jhnL7kakp",
        "outputId": "1e64bfcb-a6ac-449e-901d-7e439bb3768c"
      },
      "execution_count": 85,
      "outputs": [
        {
          "output_type": "execute_result",
          "data": {
            "text/plain": [
              "[('the', -2.645785670000755),\n",
              " ('and', -3.308623257048428),\n",
              " ('this', -4.247120615961752),\n",
              " ('that', -4.266915184576918),\n",
              " ('film', -4.622701440780578),\n",
              " ('with', -4.653507144273896),\n",
              " ('for', -4.69164642700062),\n",
              " ('wa', -4.711642105790518),\n",
              " ('movie', -4.713108717722131),\n",
              " ('but', -4.778053993437859)]"
            ]
          },
          "metadata": {},
          "execution_count": 85
        }
      ]
    },
    {
      "cell_type": "markdown",
      "source": [
        "#### Remove stopwords (see NLTK stopwords corpus) and check again."
      ],
      "metadata": {
        "id": "W1NIfindepE9"
      }
    },
    {
      "cell_type": "code",
      "source": [
        "nltk.download('stopwords')\n",
        "from nltk.corpus import stopwords"
      ],
      "metadata": {
        "colab": {
          "base_uri": "https://localhost:8080/"
        },
        "id": "DrXdSOCMlk4C",
        "outputId": "dcf1a42a-6f3e-48b8-e2b5-622e99fc2a99"
      },
      "execution_count": 86,
      "outputs": [
        {
          "output_type": "stream",
          "name": "stderr",
          "text": [
            "[nltk_data] Downloading package stopwords to /root/nltk_data...\n",
            "[nltk_data]   Package stopwords is already up-to-date!\n"
          ]
        }
      ]
    },
    {
      "cell_type": "code",
      "source": [
        "stop_words = set(stopwords.words('english'))"
      ],
      "metadata": {
        "id": "eu7IBdAK_Wce"
      },
      "execution_count": 87,
      "outputs": []
    },
    {
      "cell_type": "code",
      "source": [
        "log_likelihood_without_stop = log_likelihood.copy()"
      ],
      "metadata": {
        "id": "e9PSsLySllcK"
      },
      "execution_count": 88,
      "outputs": []
    },
    {
      "cell_type": "code",
      "source": [
        "for word in stop_words:\n",
        "    log_likelihood_without_stop.pop(word, None)"
      ],
      "metadata": {
        "id": "x2CZHTYRnJkc"
      },
      "execution_count": 89,
      "outputs": []
    },
    {
      "cell_type": "code",
      "source": [
        "print(\"Length with stop word: \", len(log_likelihood))\n",
        "print(\"Length without stop word: \", len(log_likelihood_without_stop))"
      ],
      "metadata": {
        "colab": {
          "base_uri": "https://localhost:8080/"
        },
        "id": "z55V1zDWouL3",
        "outputId": "e142d5c6-396f-4070-da01-ffc41074cca6"
      },
      "execution_count": 90,
      "outputs": [
        {
          "output_type": "stream",
          "name": "stdout",
          "text": [
            "Length with stop word:  108227\n",
            "Length without stop word:  108106\n"
          ]
        }
      ]
    },
    {
      "cell_type": "code",
      "source": [
        "Top_10_negative_without_stop = sort_log_likelihood(log_likelihood_without_stop, 0)[:10]"
      ],
      "metadata": {
        "id": "CRSwxJbpndvn"
      },
      "execution_count": 91,
      "outputs": []
    },
    {
      "cell_type": "code",
      "source": [
        "Top_10_negative_without_stop"
      ],
      "metadata": {
        "colab": {
          "base_uri": "https://localhost:8080/"
        },
        "id": "-5PmiPABpF7W",
        "outputId": "5ae3f939-cfdc-4da0-f4db-591fe2ada040"
      },
      "execution_count": 92,
      "outputs": [
        {
          "output_type": "execute_result",
          "data": {
            "text/plain": [
              "[('movie', -4.443128381768861),\n",
              " ('wa', -4.50357320891033),\n",
              " ('film', -4.708301636847407),\n",
              " ('one', -5.206162750340039),\n",
              " ('like', -5.357514932853162),\n",
              " ('even', -5.739084412136281),\n",
              " ('ha', -5.744355211003636),\n",
              " ('good', -5.797813407684981),\n",
              " ('time', -5.804245197195175),\n",
              " ('bad', -5.8094487811187046)]"
            ]
          },
          "metadata": {},
          "execution_count": 92
        }
      ]
    },
    {
      "cell_type": "code",
      "source": [
        "Top_10_positive_without_stop = sort_log_likelihood(log_likelihood_without_stop, 1)[:10]"
      ],
      "metadata": {
        "id": "W-mDgSkxnJZX"
      },
      "execution_count": 93,
      "outputs": []
    },
    {
      "cell_type": "code",
      "source": [
        "Top_10_positive_without_stop"
      ],
      "metadata": {
        "colab": {
          "base_uri": "https://localhost:8080/"
        },
        "id": "3sG9symxn0kw",
        "outputId": "01e70617-bb25-4949-f434-f67388487fe0"
      },
      "execution_count": 94,
      "outputs": [
        {
          "output_type": "execute_result",
          "data": {
            "text/plain": [
              "[('film', -4.622701440780578),\n",
              " ('wa', -4.711642105790518),\n",
              " ('movie', -4.713108717722131),\n",
              " ('one', -5.177103741274279),\n",
              " ('ha', -5.581839667492178),\n",
              " ('like', -5.601716646994794),\n",
              " ('time', -5.746560631219308),\n",
              " ('good', -5.788688751006879),\n",
              " ('story', -5.820797527501359),\n",
              " ('character', -5.867555600588574)]"
            ]
          },
          "metadata": {},
          "execution_count": 94
        }
      ]
    },
    {
      "cell_type": "markdown",
      "source": [
        "### Take at least 2 wrongly classified example from the test set and try explaining why the model failed."
      ],
      "metadata": {
        "id": "rpSEf4Ffpa7B"
      }
    },
    {
      "cell_type": "code",
      "source": [
        ""
      ],
      "metadata": {
        "id": "Cc3S0Df_pjHY"
      },
      "execution_count": null,
      "outputs": []
    }
  ]
}