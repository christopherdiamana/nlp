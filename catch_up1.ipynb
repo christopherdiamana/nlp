{
  "nbformat": 4,
  "nbformat_minor": 0,
  "metadata": {
    "colab": {
      "name": "catch-up1.ipynb",
      "provenance": [],
      "collapsed_sections": [
        "NRhmaWi7byef"
      ],
      "authorship_tag": "ABX9TyPEc5NIoN6DXMs67Dj5tnZ+",
      "include_colab_link": true
    },
    "kernelspec": {
      "name": "python3",
      "display_name": "Python 3"
    },
    "language_info": {
      "name": "python"
    },
    "widgets": {
      "application/vnd.jupyter.widget-state+json": {
        "91790d539d7f4aeeb8360ceaca2122da": {
          "model_module": "@jupyter-widgets/controls",
          "model_name": "HBoxModel",
          "model_module_version": "1.5.0",
          "state": {
            "_dom_classes": [],
            "_model_module": "@jupyter-widgets/controls",
            "_model_module_version": "1.5.0",
            "_model_name": "HBoxModel",
            "_view_count": null,
            "_view_module": "@jupyter-widgets/controls",
            "_view_module_version": "1.5.0",
            "_view_name": "HBoxView",
            "box_style": "",
            "children": [
              "IPY_MODEL_73c7199fc5aa479a9c9ee3a279a88e84",
              "IPY_MODEL_bd7099c9a7b54d09bd73571bbf24328b",
              "IPY_MODEL_342ed1949ab84c828d91b68af5293ade"
            ],
            "layout": "IPY_MODEL_720b1f0b2cf640f880e173808474fe0b"
          }
        },
        "73c7199fc5aa479a9c9ee3a279a88e84": {
          "model_module": "@jupyter-widgets/controls",
          "model_name": "HTMLModel",
          "model_module_version": "1.5.0",
          "state": {
            "_dom_classes": [],
            "_model_module": "@jupyter-widgets/controls",
            "_model_module_version": "1.5.0",
            "_model_name": "HTMLModel",
            "_view_count": null,
            "_view_module": "@jupyter-widgets/controls",
            "_view_module_version": "1.5.0",
            "_view_name": "HTMLView",
            "description": "",
            "description_tooltip": null,
            "layout": "IPY_MODEL_0517e1bfb08c4e2ea2e2354c91fdbbd0",
            "placeholder": "​",
            "style": "IPY_MODEL_4d5074362fdb465badcaefa443ffc88e",
            "value": "Downloading builder script: "
          }
        },
        "bd7099c9a7b54d09bd73571bbf24328b": {
          "model_module": "@jupyter-widgets/controls",
          "model_name": "FloatProgressModel",
          "model_module_version": "1.5.0",
          "state": {
            "_dom_classes": [],
            "_model_module": "@jupyter-widgets/controls",
            "_model_module_version": "1.5.0",
            "_model_name": "FloatProgressModel",
            "_view_count": null,
            "_view_module": "@jupyter-widgets/controls",
            "_view_module_version": "1.5.0",
            "_view_name": "ProgressView",
            "bar_style": "success",
            "description": "",
            "description_tooltip": null,
            "layout": "IPY_MODEL_b84a50a7bfcb4b388c3c47e2eadaf7e8",
            "max": 1789,
            "min": 0,
            "orientation": "horizontal",
            "style": "IPY_MODEL_e455215296884985ba30323773ee4de3",
            "value": 1789
          }
        },
        "342ed1949ab84c828d91b68af5293ade": {
          "model_module": "@jupyter-widgets/controls",
          "model_name": "HTMLModel",
          "model_module_version": "1.5.0",
          "state": {
            "_dom_classes": [],
            "_model_module": "@jupyter-widgets/controls",
            "_model_module_version": "1.5.0",
            "_model_name": "HTMLModel",
            "_view_count": null,
            "_view_module": "@jupyter-widgets/controls",
            "_view_module_version": "1.5.0",
            "_view_name": "HTMLView",
            "description": "",
            "description_tooltip": null,
            "layout": "IPY_MODEL_095b57de3fdf498abaea3d337b8529c0",
            "placeholder": "​",
            "style": "IPY_MODEL_f90cb3d9e90a4bf48a8a34997296c3cb",
            "value": " 4.31k/? [00:00&lt;00:00, 117kB/s]"
          }
        },
        "720b1f0b2cf640f880e173808474fe0b": {
          "model_module": "@jupyter-widgets/base",
          "model_name": "LayoutModel",
          "model_module_version": "1.2.0",
          "state": {
            "_model_module": "@jupyter-widgets/base",
            "_model_module_version": "1.2.0",
            "_model_name": "LayoutModel",
            "_view_count": null,
            "_view_module": "@jupyter-widgets/base",
            "_view_module_version": "1.2.0",
            "_view_name": "LayoutView",
            "align_content": null,
            "align_items": null,
            "align_self": null,
            "border": null,
            "bottom": null,
            "display": null,
            "flex": null,
            "flex_flow": null,
            "grid_area": null,
            "grid_auto_columns": null,
            "grid_auto_flow": null,
            "grid_auto_rows": null,
            "grid_column": null,
            "grid_gap": null,
            "grid_row": null,
            "grid_template_areas": null,
            "grid_template_columns": null,
            "grid_template_rows": null,
            "height": null,
            "justify_content": null,
            "justify_items": null,
            "left": null,
            "margin": null,
            "max_height": null,
            "max_width": null,
            "min_height": null,
            "min_width": null,
            "object_fit": null,
            "object_position": null,
            "order": null,
            "overflow": null,
            "overflow_x": null,
            "overflow_y": null,
            "padding": null,
            "right": null,
            "top": null,
            "visibility": null,
            "width": null
          }
        },
        "0517e1bfb08c4e2ea2e2354c91fdbbd0": {
          "model_module": "@jupyter-widgets/base",
          "model_name": "LayoutModel",
          "model_module_version": "1.2.0",
          "state": {
            "_model_module": "@jupyter-widgets/base",
            "_model_module_version": "1.2.0",
            "_model_name": "LayoutModel",
            "_view_count": null,
            "_view_module": "@jupyter-widgets/base",
            "_view_module_version": "1.2.0",
            "_view_name": "LayoutView",
            "align_content": null,
            "align_items": null,
            "align_self": null,
            "border": null,
            "bottom": null,
            "display": null,
            "flex": null,
            "flex_flow": null,
            "grid_area": null,
            "grid_auto_columns": null,
            "grid_auto_flow": null,
            "grid_auto_rows": null,
            "grid_column": null,
            "grid_gap": null,
            "grid_row": null,
            "grid_template_areas": null,
            "grid_template_columns": null,
            "grid_template_rows": null,
            "height": null,
            "justify_content": null,
            "justify_items": null,
            "left": null,
            "margin": null,
            "max_height": null,
            "max_width": null,
            "min_height": null,
            "min_width": null,
            "object_fit": null,
            "object_position": null,
            "order": null,
            "overflow": null,
            "overflow_x": null,
            "overflow_y": null,
            "padding": null,
            "right": null,
            "top": null,
            "visibility": null,
            "width": null
          }
        },
        "4d5074362fdb465badcaefa443ffc88e": {
          "model_module": "@jupyter-widgets/controls",
          "model_name": "DescriptionStyleModel",
          "model_module_version": "1.5.0",
          "state": {
            "_model_module": "@jupyter-widgets/controls",
            "_model_module_version": "1.5.0",
            "_model_name": "DescriptionStyleModel",
            "_view_count": null,
            "_view_module": "@jupyter-widgets/base",
            "_view_module_version": "1.2.0",
            "_view_name": "StyleView",
            "description_width": ""
          }
        },
        "b84a50a7bfcb4b388c3c47e2eadaf7e8": {
          "model_module": "@jupyter-widgets/base",
          "model_name": "LayoutModel",
          "model_module_version": "1.2.0",
          "state": {
            "_model_module": "@jupyter-widgets/base",
            "_model_module_version": "1.2.0",
            "_model_name": "LayoutModel",
            "_view_count": null,
            "_view_module": "@jupyter-widgets/base",
            "_view_module_version": "1.2.0",
            "_view_name": "LayoutView",
            "align_content": null,
            "align_items": null,
            "align_self": null,
            "border": null,
            "bottom": null,
            "display": null,
            "flex": null,
            "flex_flow": null,
            "grid_area": null,
            "grid_auto_columns": null,
            "grid_auto_flow": null,
            "grid_auto_rows": null,
            "grid_column": null,
            "grid_gap": null,
            "grid_row": null,
            "grid_template_areas": null,
            "grid_template_columns": null,
            "grid_template_rows": null,
            "height": null,
            "justify_content": null,
            "justify_items": null,
            "left": null,
            "margin": null,
            "max_height": null,
            "max_width": null,
            "min_height": null,
            "min_width": null,
            "object_fit": null,
            "object_position": null,
            "order": null,
            "overflow": null,
            "overflow_x": null,
            "overflow_y": null,
            "padding": null,
            "right": null,
            "top": null,
            "visibility": null,
            "width": null
          }
        },
        "e455215296884985ba30323773ee4de3": {
          "model_module": "@jupyter-widgets/controls",
          "model_name": "ProgressStyleModel",
          "model_module_version": "1.5.0",
          "state": {
            "_model_module": "@jupyter-widgets/controls",
            "_model_module_version": "1.5.0",
            "_model_name": "ProgressStyleModel",
            "_view_count": null,
            "_view_module": "@jupyter-widgets/base",
            "_view_module_version": "1.2.0",
            "_view_name": "StyleView",
            "bar_color": null,
            "description_width": ""
          }
        },
        "095b57de3fdf498abaea3d337b8529c0": {
          "model_module": "@jupyter-widgets/base",
          "model_name": "LayoutModel",
          "model_module_version": "1.2.0",
          "state": {
            "_model_module": "@jupyter-widgets/base",
            "_model_module_version": "1.2.0",
            "_model_name": "LayoutModel",
            "_view_count": null,
            "_view_module": "@jupyter-widgets/base",
            "_view_module_version": "1.2.0",
            "_view_name": "LayoutView",
            "align_content": null,
            "align_items": null,
            "align_self": null,
            "border": null,
            "bottom": null,
            "display": null,
            "flex": null,
            "flex_flow": null,
            "grid_area": null,
            "grid_auto_columns": null,
            "grid_auto_flow": null,
            "grid_auto_rows": null,
            "grid_column": null,
            "grid_gap": null,
            "grid_row": null,
            "grid_template_areas": null,
            "grid_template_columns": null,
            "grid_template_rows": null,
            "height": null,
            "justify_content": null,
            "justify_items": null,
            "left": null,
            "margin": null,
            "max_height": null,
            "max_width": null,
            "min_height": null,
            "min_width": null,
            "object_fit": null,
            "object_position": null,
            "order": null,
            "overflow": null,
            "overflow_x": null,
            "overflow_y": null,
            "padding": null,
            "right": null,
            "top": null,
            "visibility": null,
            "width": null
          }
        },
        "f90cb3d9e90a4bf48a8a34997296c3cb": {
          "model_module": "@jupyter-widgets/controls",
          "model_name": "DescriptionStyleModel",
          "model_module_version": "1.5.0",
          "state": {
            "_model_module": "@jupyter-widgets/controls",
            "_model_module_version": "1.5.0",
            "_model_name": "DescriptionStyleModel",
            "_view_count": null,
            "_view_module": "@jupyter-widgets/base",
            "_view_module_version": "1.2.0",
            "_view_name": "StyleView",
            "description_width": ""
          }
        },
        "94a50af9ae944bbf8c5f88258463f821": {
          "model_module": "@jupyter-widgets/controls",
          "model_name": "HBoxModel",
          "model_module_version": "1.5.0",
          "state": {
            "_dom_classes": [],
            "_model_module": "@jupyter-widgets/controls",
            "_model_module_version": "1.5.0",
            "_model_name": "HBoxModel",
            "_view_count": null,
            "_view_module": "@jupyter-widgets/controls",
            "_view_module_version": "1.5.0",
            "_view_name": "HBoxView",
            "box_style": "",
            "children": [
              "IPY_MODEL_b58655788b4b47c9a375e2b6c3cc5c1d",
              "IPY_MODEL_81c634a455eb43d7b146445dad0e7a41",
              "IPY_MODEL_2485aaf0aff34d21a2d17d11dd78d910"
            ],
            "layout": "IPY_MODEL_f94849b14f47442c87490f37f9ed5bde"
          }
        },
        "b58655788b4b47c9a375e2b6c3cc5c1d": {
          "model_module": "@jupyter-widgets/controls",
          "model_name": "HTMLModel",
          "model_module_version": "1.5.0",
          "state": {
            "_dom_classes": [],
            "_model_module": "@jupyter-widgets/controls",
            "_model_module_version": "1.5.0",
            "_model_name": "HTMLModel",
            "_view_count": null,
            "_view_module": "@jupyter-widgets/controls",
            "_view_module_version": "1.5.0",
            "_view_name": "HTMLView",
            "description": "",
            "description_tooltip": null,
            "layout": "IPY_MODEL_8c42f0cbbfd34c50b6828d12d49345b2",
            "placeholder": "​",
            "style": "IPY_MODEL_951681a8dfb7441ea63ae90a2f551c13",
            "value": "Downloading metadata: "
          }
        },
        "81c634a455eb43d7b146445dad0e7a41": {
          "model_module": "@jupyter-widgets/controls",
          "model_name": "FloatProgressModel",
          "model_module_version": "1.5.0",
          "state": {
            "_dom_classes": [],
            "_model_module": "@jupyter-widgets/controls",
            "_model_module_version": "1.5.0",
            "_model_name": "FloatProgressModel",
            "_view_count": null,
            "_view_module": "@jupyter-widgets/controls",
            "_view_module_version": "1.5.0",
            "_view_name": "ProgressView",
            "bar_style": "success",
            "description": "",
            "description_tooltip": null,
            "layout": "IPY_MODEL_0d4496889cde47a6a169a03c101c63a2",
            "max": 1054,
            "min": 0,
            "orientation": "horizontal",
            "style": "IPY_MODEL_898f3c37f9a24c0eb890c841733d5f89",
            "value": 1054
          }
        },
        "2485aaf0aff34d21a2d17d11dd78d910": {
          "model_module": "@jupyter-widgets/controls",
          "model_name": "HTMLModel",
          "model_module_version": "1.5.0",
          "state": {
            "_dom_classes": [],
            "_model_module": "@jupyter-widgets/controls",
            "_model_module_version": "1.5.0",
            "_model_name": "HTMLModel",
            "_view_count": null,
            "_view_module": "@jupyter-widgets/controls",
            "_view_module_version": "1.5.0",
            "_view_name": "HTMLView",
            "description": "",
            "description_tooltip": null,
            "layout": "IPY_MODEL_d835cdef527f417eac31a68805a9b715",
            "placeholder": "​",
            "style": "IPY_MODEL_63967eca1d794fdc98dde8e913f1f080",
            "value": " 2.17k/? [00:00&lt;00:00, 69.2kB/s]"
          }
        },
        "f94849b14f47442c87490f37f9ed5bde": {
          "model_module": "@jupyter-widgets/base",
          "model_name": "LayoutModel",
          "model_module_version": "1.2.0",
          "state": {
            "_model_module": "@jupyter-widgets/base",
            "_model_module_version": "1.2.0",
            "_model_name": "LayoutModel",
            "_view_count": null,
            "_view_module": "@jupyter-widgets/base",
            "_view_module_version": "1.2.0",
            "_view_name": "LayoutView",
            "align_content": null,
            "align_items": null,
            "align_self": null,
            "border": null,
            "bottom": null,
            "display": null,
            "flex": null,
            "flex_flow": null,
            "grid_area": null,
            "grid_auto_columns": null,
            "grid_auto_flow": null,
            "grid_auto_rows": null,
            "grid_column": null,
            "grid_gap": null,
            "grid_row": null,
            "grid_template_areas": null,
            "grid_template_columns": null,
            "grid_template_rows": null,
            "height": null,
            "justify_content": null,
            "justify_items": null,
            "left": null,
            "margin": null,
            "max_height": null,
            "max_width": null,
            "min_height": null,
            "min_width": null,
            "object_fit": null,
            "object_position": null,
            "order": null,
            "overflow": null,
            "overflow_x": null,
            "overflow_y": null,
            "padding": null,
            "right": null,
            "top": null,
            "visibility": null,
            "width": null
          }
        },
        "8c42f0cbbfd34c50b6828d12d49345b2": {
          "model_module": "@jupyter-widgets/base",
          "model_name": "LayoutModel",
          "model_module_version": "1.2.0",
          "state": {
            "_model_module": "@jupyter-widgets/base",
            "_model_module_version": "1.2.0",
            "_model_name": "LayoutModel",
            "_view_count": null,
            "_view_module": "@jupyter-widgets/base",
            "_view_module_version": "1.2.0",
            "_view_name": "LayoutView",
            "align_content": null,
            "align_items": null,
            "align_self": null,
            "border": null,
            "bottom": null,
            "display": null,
            "flex": null,
            "flex_flow": null,
            "grid_area": null,
            "grid_auto_columns": null,
            "grid_auto_flow": null,
            "grid_auto_rows": null,
            "grid_column": null,
            "grid_gap": null,
            "grid_row": null,
            "grid_template_areas": null,
            "grid_template_columns": null,
            "grid_template_rows": null,
            "height": null,
            "justify_content": null,
            "justify_items": null,
            "left": null,
            "margin": null,
            "max_height": null,
            "max_width": null,
            "min_height": null,
            "min_width": null,
            "object_fit": null,
            "object_position": null,
            "order": null,
            "overflow": null,
            "overflow_x": null,
            "overflow_y": null,
            "padding": null,
            "right": null,
            "top": null,
            "visibility": null,
            "width": null
          }
        },
        "951681a8dfb7441ea63ae90a2f551c13": {
          "model_module": "@jupyter-widgets/controls",
          "model_name": "DescriptionStyleModel",
          "model_module_version": "1.5.0",
          "state": {
            "_model_module": "@jupyter-widgets/controls",
            "_model_module_version": "1.5.0",
            "_model_name": "DescriptionStyleModel",
            "_view_count": null,
            "_view_module": "@jupyter-widgets/base",
            "_view_module_version": "1.2.0",
            "_view_name": "StyleView",
            "description_width": ""
          }
        },
        "0d4496889cde47a6a169a03c101c63a2": {
          "model_module": "@jupyter-widgets/base",
          "model_name": "LayoutModel",
          "model_module_version": "1.2.0",
          "state": {
            "_model_module": "@jupyter-widgets/base",
            "_model_module_version": "1.2.0",
            "_model_name": "LayoutModel",
            "_view_count": null,
            "_view_module": "@jupyter-widgets/base",
            "_view_module_version": "1.2.0",
            "_view_name": "LayoutView",
            "align_content": null,
            "align_items": null,
            "align_self": null,
            "border": null,
            "bottom": null,
            "display": null,
            "flex": null,
            "flex_flow": null,
            "grid_area": null,
            "grid_auto_columns": null,
            "grid_auto_flow": null,
            "grid_auto_rows": null,
            "grid_column": null,
            "grid_gap": null,
            "grid_row": null,
            "grid_template_areas": null,
            "grid_template_columns": null,
            "grid_template_rows": null,
            "height": null,
            "justify_content": null,
            "justify_items": null,
            "left": null,
            "margin": null,
            "max_height": null,
            "max_width": null,
            "min_height": null,
            "min_width": null,
            "object_fit": null,
            "object_position": null,
            "order": null,
            "overflow": null,
            "overflow_x": null,
            "overflow_y": null,
            "padding": null,
            "right": null,
            "top": null,
            "visibility": null,
            "width": null
          }
        },
        "898f3c37f9a24c0eb890c841733d5f89": {
          "model_module": "@jupyter-widgets/controls",
          "model_name": "ProgressStyleModel",
          "model_module_version": "1.5.0",
          "state": {
            "_model_module": "@jupyter-widgets/controls",
            "_model_module_version": "1.5.0",
            "_model_name": "ProgressStyleModel",
            "_view_count": null,
            "_view_module": "@jupyter-widgets/base",
            "_view_module_version": "1.2.0",
            "_view_name": "StyleView",
            "bar_color": null,
            "description_width": ""
          }
        },
        "d835cdef527f417eac31a68805a9b715": {
          "model_module": "@jupyter-widgets/base",
          "model_name": "LayoutModel",
          "model_module_version": "1.2.0",
          "state": {
            "_model_module": "@jupyter-widgets/base",
            "_model_module_version": "1.2.0",
            "_model_name": "LayoutModel",
            "_view_count": null,
            "_view_module": "@jupyter-widgets/base",
            "_view_module_version": "1.2.0",
            "_view_name": "LayoutView",
            "align_content": null,
            "align_items": null,
            "align_self": null,
            "border": null,
            "bottom": null,
            "display": null,
            "flex": null,
            "flex_flow": null,
            "grid_area": null,
            "grid_auto_columns": null,
            "grid_auto_flow": null,
            "grid_auto_rows": null,
            "grid_column": null,
            "grid_gap": null,
            "grid_row": null,
            "grid_template_areas": null,
            "grid_template_columns": null,
            "grid_template_rows": null,
            "height": null,
            "justify_content": null,
            "justify_items": null,
            "left": null,
            "margin": null,
            "max_height": null,
            "max_width": null,
            "min_height": null,
            "min_width": null,
            "object_fit": null,
            "object_position": null,
            "order": null,
            "overflow": null,
            "overflow_x": null,
            "overflow_y": null,
            "padding": null,
            "right": null,
            "top": null,
            "visibility": null,
            "width": null
          }
        },
        "63967eca1d794fdc98dde8e913f1f080": {
          "model_module": "@jupyter-widgets/controls",
          "model_name": "DescriptionStyleModel",
          "model_module_version": "1.5.0",
          "state": {
            "_model_module": "@jupyter-widgets/controls",
            "_model_module_version": "1.5.0",
            "_model_name": "DescriptionStyleModel",
            "_view_count": null,
            "_view_module": "@jupyter-widgets/base",
            "_view_module_version": "1.2.0",
            "_view_name": "StyleView",
            "description_width": ""
          }
        },
        "235f346807e146f6a583e6e22cf9b282": {
          "model_module": "@jupyter-widgets/controls",
          "model_name": "HBoxModel",
          "model_module_version": "1.5.0",
          "state": {
            "_dom_classes": [],
            "_model_module": "@jupyter-widgets/controls",
            "_model_module_version": "1.5.0",
            "_model_name": "HBoxModel",
            "_view_count": null,
            "_view_module": "@jupyter-widgets/controls",
            "_view_module_version": "1.5.0",
            "_view_name": "HBoxView",
            "box_style": "",
            "children": [
              "IPY_MODEL_c3c8c6677e4e4ba88ab30c287f3e5e57",
              "IPY_MODEL_eb2ac58e22eb4a96afcb972564318dc8",
              "IPY_MODEL_9d6201a4d8ff41beb3789fcfc78ccbb6"
            ],
            "layout": "IPY_MODEL_751139b4158b4a07bbf95b3921f75ec3"
          }
        },
        "c3c8c6677e4e4ba88ab30c287f3e5e57": {
          "model_module": "@jupyter-widgets/controls",
          "model_name": "HTMLModel",
          "model_module_version": "1.5.0",
          "state": {
            "_dom_classes": [],
            "_model_module": "@jupyter-widgets/controls",
            "_model_module_version": "1.5.0",
            "_model_name": "HTMLModel",
            "_view_count": null,
            "_view_module": "@jupyter-widgets/controls",
            "_view_module_version": "1.5.0",
            "_view_name": "HTMLView",
            "description": "",
            "description_tooltip": null,
            "layout": "IPY_MODEL_4c7acce7bcc141f9a24f31116c143373",
            "placeholder": "​",
            "style": "IPY_MODEL_9caf6ae270a4445a8d9e81ccf80d9ce8",
            "value": "Downloading data: 100%"
          }
        },
        "eb2ac58e22eb4a96afcb972564318dc8": {
          "model_module": "@jupyter-widgets/controls",
          "model_name": "FloatProgressModel",
          "model_module_version": "1.5.0",
          "state": {
            "_dom_classes": [],
            "_model_module": "@jupyter-widgets/controls",
            "_model_module_version": "1.5.0",
            "_model_name": "FloatProgressModel",
            "_view_count": null,
            "_view_module": "@jupyter-widgets/controls",
            "_view_module_version": "1.5.0",
            "_view_name": "ProgressView",
            "bar_style": "success",
            "description": "",
            "description_tooltip": null,
            "layout": "IPY_MODEL_dc12cc3b5b0b4b14be8f02f44900e94e",
            "max": 84125825,
            "min": 0,
            "orientation": "horizontal",
            "style": "IPY_MODEL_2cc9d4e795a84045936c1994e64bc602",
            "value": 84125825
          }
        },
        "9d6201a4d8ff41beb3789fcfc78ccbb6": {
          "model_module": "@jupyter-widgets/controls",
          "model_name": "HTMLModel",
          "model_module_version": "1.5.0",
          "state": {
            "_dom_classes": [],
            "_model_module": "@jupyter-widgets/controls",
            "_model_module_version": "1.5.0",
            "_model_name": "HTMLModel",
            "_view_count": null,
            "_view_module": "@jupyter-widgets/controls",
            "_view_module_version": "1.5.0",
            "_view_name": "HTMLView",
            "description": "",
            "description_tooltip": null,
            "layout": "IPY_MODEL_6ee7280985234319b97321f1681856c2",
            "placeholder": "​",
            "style": "IPY_MODEL_7d145e416b694dc7aea39f2f62f9388c",
            "value": " 84.1M/84.1M [00:02&lt;00:00, 36.0MB/s]"
          }
        },
        "751139b4158b4a07bbf95b3921f75ec3": {
          "model_module": "@jupyter-widgets/base",
          "model_name": "LayoutModel",
          "model_module_version": "1.2.0",
          "state": {
            "_model_module": "@jupyter-widgets/base",
            "_model_module_version": "1.2.0",
            "_model_name": "LayoutModel",
            "_view_count": null,
            "_view_module": "@jupyter-widgets/base",
            "_view_module_version": "1.2.0",
            "_view_name": "LayoutView",
            "align_content": null,
            "align_items": null,
            "align_self": null,
            "border": null,
            "bottom": null,
            "display": null,
            "flex": null,
            "flex_flow": null,
            "grid_area": null,
            "grid_auto_columns": null,
            "grid_auto_flow": null,
            "grid_auto_rows": null,
            "grid_column": null,
            "grid_gap": null,
            "grid_row": null,
            "grid_template_areas": null,
            "grid_template_columns": null,
            "grid_template_rows": null,
            "height": null,
            "justify_content": null,
            "justify_items": null,
            "left": null,
            "margin": null,
            "max_height": null,
            "max_width": null,
            "min_height": null,
            "min_width": null,
            "object_fit": null,
            "object_position": null,
            "order": null,
            "overflow": null,
            "overflow_x": null,
            "overflow_y": null,
            "padding": null,
            "right": null,
            "top": null,
            "visibility": null,
            "width": null
          }
        },
        "4c7acce7bcc141f9a24f31116c143373": {
          "model_module": "@jupyter-widgets/base",
          "model_name": "LayoutModel",
          "model_module_version": "1.2.0",
          "state": {
            "_model_module": "@jupyter-widgets/base",
            "_model_module_version": "1.2.0",
            "_model_name": "LayoutModel",
            "_view_count": null,
            "_view_module": "@jupyter-widgets/base",
            "_view_module_version": "1.2.0",
            "_view_name": "LayoutView",
            "align_content": null,
            "align_items": null,
            "align_self": null,
            "border": null,
            "bottom": null,
            "display": null,
            "flex": null,
            "flex_flow": null,
            "grid_area": null,
            "grid_auto_columns": null,
            "grid_auto_flow": null,
            "grid_auto_rows": null,
            "grid_column": null,
            "grid_gap": null,
            "grid_row": null,
            "grid_template_areas": null,
            "grid_template_columns": null,
            "grid_template_rows": null,
            "height": null,
            "justify_content": null,
            "justify_items": null,
            "left": null,
            "margin": null,
            "max_height": null,
            "max_width": null,
            "min_height": null,
            "min_width": null,
            "object_fit": null,
            "object_position": null,
            "order": null,
            "overflow": null,
            "overflow_x": null,
            "overflow_y": null,
            "padding": null,
            "right": null,
            "top": null,
            "visibility": null,
            "width": null
          }
        },
        "9caf6ae270a4445a8d9e81ccf80d9ce8": {
          "model_module": "@jupyter-widgets/controls",
          "model_name": "DescriptionStyleModel",
          "model_module_version": "1.5.0",
          "state": {
            "_model_module": "@jupyter-widgets/controls",
            "_model_module_version": "1.5.0",
            "_model_name": "DescriptionStyleModel",
            "_view_count": null,
            "_view_module": "@jupyter-widgets/base",
            "_view_module_version": "1.2.0",
            "_view_name": "StyleView",
            "description_width": ""
          }
        },
        "dc12cc3b5b0b4b14be8f02f44900e94e": {
          "model_module": "@jupyter-widgets/base",
          "model_name": "LayoutModel",
          "model_module_version": "1.2.0",
          "state": {
            "_model_module": "@jupyter-widgets/base",
            "_model_module_version": "1.2.0",
            "_model_name": "LayoutModel",
            "_view_count": null,
            "_view_module": "@jupyter-widgets/base",
            "_view_module_version": "1.2.0",
            "_view_name": "LayoutView",
            "align_content": null,
            "align_items": null,
            "align_self": null,
            "border": null,
            "bottom": null,
            "display": null,
            "flex": null,
            "flex_flow": null,
            "grid_area": null,
            "grid_auto_columns": null,
            "grid_auto_flow": null,
            "grid_auto_rows": null,
            "grid_column": null,
            "grid_gap": null,
            "grid_row": null,
            "grid_template_areas": null,
            "grid_template_columns": null,
            "grid_template_rows": null,
            "height": null,
            "justify_content": null,
            "justify_items": null,
            "left": null,
            "margin": null,
            "max_height": null,
            "max_width": null,
            "min_height": null,
            "min_width": null,
            "object_fit": null,
            "object_position": null,
            "order": null,
            "overflow": null,
            "overflow_x": null,
            "overflow_y": null,
            "padding": null,
            "right": null,
            "top": null,
            "visibility": null,
            "width": null
          }
        },
        "2cc9d4e795a84045936c1994e64bc602": {
          "model_module": "@jupyter-widgets/controls",
          "model_name": "ProgressStyleModel",
          "model_module_version": "1.5.0",
          "state": {
            "_model_module": "@jupyter-widgets/controls",
            "_model_module_version": "1.5.0",
            "_model_name": "ProgressStyleModel",
            "_view_count": null,
            "_view_module": "@jupyter-widgets/base",
            "_view_module_version": "1.2.0",
            "_view_name": "StyleView",
            "bar_color": null,
            "description_width": ""
          }
        },
        "6ee7280985234319b97321f1681856c2": {
          "model_module": "@jupyter-widgets/base",
          "model_name": "LayoutModel",
          "model_module_version": "1.2.0",
          "state": {
            "_model_module": "@jupyter-widgets/base",
            "_model_module_version": "1.2.0",
            "_model_name": "LayoutModel",
            "_view_count": null,
            "_view_module": "@jupyter-widgets/base",
            "_view_module_version": "1.2.0",
            "_view_name": "LayoutView",
            "align_content": null,
            "align_items": null,
            "align_self": null,
            "border": null,
            "bottom": null,
            "display": null,
            "flex": null,
            "flex_flow": null,
            "grid_area": null,
            "grid_auto_columns": null,
            "grid_auto_flow": null,
            "grid_auto_rows": null,
            "grid_column": null,
            "grid_gap": null,
            "grid_row": null,
            "grid_template_areas": null,
            "grid_template_columns": null,
            "grid_template_rows": null,
            "height": null,
            "justify_content": null,
            "justify_items": null,
            "left": null,
            "margin": null,
            "max_height": null,
            "max_width": null,
            "min_height": null,
            "min_width": null,
            "object_fit": null,
            "object_position": null,
            "order": null,
            "overflow": null,
            "overflow_x": null,
            "overflow_y": null,
            "padding": null,
            "right": null,
            "top": null,
            "visibility": null,
            "width": null
          }
        },
        "7d145e416b694dc7aea39f2f62f9388c": {
          "model_module": "@jupyter-widgets/controls",
          "model_name": "DescriptionStyleModel",
          "model_module_version": "1.5.0",
          "state": {
            "_model_module": "@jupyter-widgets/controls",
            "_model_module_version": "1.5.0",
            "_model_name": "DescriptionStyleModel",
            "_view_count": null,
            "_view_module": "@jupyter-widgets/base",
            "_view_module_version": "1.2.0",
            "_view_name": "StyleView",
            "description_width": ""
          }
        },
        "7c8bc6b5ee8f43e18fab742ad8ac99d5": {
          "model_module": "@jupyter-widgets/controls",
          "model_name": "HBoxModel",
          "model_module_version": "1.5.0",
          "state": {
            "_dom_classes": [],
            "_model_module": "@jupyter-widgets/controls",
            "_model_module_version": "1.5.0",
            "_model_name": "HBoxModel",
            "_view_count": null,
            "_view_module": "@jupyter-widgets/controls",
            "_view_module_version": "1.5.0",
            "_view_name": "HBoxView",
            "box_style": "",
            "children": [
              "IPY_MODEL_206b91952d76422daf65a66f8db2d432",
              "IPY_MODEL_36c3607b559242219e003b12ea1f4938",
              "IPY_MODEL_1d6791c8f9974ac5af16ced9dd2dcc46"
            ],
            "layout": "IPY_MODEL_e9b16e60fe90471eb875d722fd1bf9d3"
          }
        },
        "206b91952d76422daf65a66f8db2d432": {
          "model_module": "@jupyter-widgets/controls",
          "model_name": "HTMLModel",
          "model_module_version": "1.5.0",
          "state": {
            "_dom_classes": [],
            "_model_module": "@jupyter-widgets/controls",
            "_model_module_version": "1.5.0",
            "_model_name": "HTMLModel",
            "_view_count": null,
            "_view_module": "@jupyter-widgets/controls",
            "_view_module_version": "1.5.0",
            "_view_name": "HTMLView",
            "description": "",
            "description_tooltip": null,
            "layout": "IPY_MODEL_a3c8fa8edc7240399925d76a2b629f2e",
            "placeholder": "​",
            "style": "IPY_MODEL_f8094761fd674a528bded04b9b2fdb51",
            "value": "Generating train split:  99%"
          }
        },
        "36c3607b559242219e003b12ea1f4938": {
          "model_module": "@jupyter-widgets/controls",
          "model_name": "FloatProgressModel",
          "model_module_version": "1.5.0",
          "state": {
            "_dom_classes": [],
            "_model_module": "@jupyter-widgets/controls",
            "_model_module_version": "1.5.0",
            "_model_name": "FloatProgressModel",
            "_view_count": null,
            "_view_module": "@jupyter-widgets/controls",
            "_view_module_version": "1.5.0",
            "_view_name": "ProgressView",
            "bar_style": "",
            "description": "",
            "description_tooltip": null,
            "layout": "IPY_MODEL_45c51249189849538a21f30e6f133e35",
            "max": 25000,
            "min": 0,
            "orientation": "horizontal",
            "style": "IPY_MODEL_0508a196353a4832847cbd1696b4a318",
            "value": 25000
          }
        },
        "1d6791c8f9974ac5af16ced9dd2dcc46": {
          "model_module": "@jupyter-widgets/controls",
          "model_name": "HTMLModel",
          "model_module_version": "1.5.0",
          "state": {
            "_dom_classes": [],
            "_model_module": "@jupyter-widgets/controls",
            "_model_module_version": "1.5.0",
            "_model_name": "HTMLModel",
            "_view_count": null,
            "_view_module": "@jupyter-widgets/controls",
            "_view_module_version": "1.5.0",
            "_view_name": "HTMLView",
            "description": "",
            "description_tooltip": null,
            "layout": "IPY_MODEL_13d5ce56aed74d808732c1bfb223b532",
            "placeholder": "​",
            "style": "IPY_MODEL_1de063ec6c6d4c0ba365d02d78f7d7f8",
            "value": " 24837/25000 [00:10&lt;00:00, 3780.89 examples/s]"
          }
        },
        "e9b16e60fe90471eb875d722fd1bf9d3": {
          "model_module": "@jupyter-widgets/base",
          "model_name": "LayoutModel",
          "model_module_version": "1.2.0",
          "state": {
            "_model_module": "@jupyter-widgets/base",
            "_model_module_version": "1.2.0",
            "_model_name": "LayoutModel",
            "_view_count": null,
            "_view_module": "@jupyter-widgets/base",
            "_view_module_version": "1.2.0",
            "_view_name": "LayoutView",
            "align_content": null,
            "align_items": null,
            "align_self": null,
            "border": null,
            "bottom": null,
            "display": null,
            "flex": null,
            "flex_flow": null,
            "grid_area": null,
            "grid_auto_columns": null,
            "grid_auto_flow": null,
            "grid_auto_rows": null,
            "grid_column": null,
            "grid_gap": null,
            "grid_row": null,
            "grid_template_areas": null,
            "grid_template_columns": null,
            "grid_template_rows": null,
            "height": null,
            "justify_content": null,
            "justify_items": null,
            "left": null,
            "margin": null,
            "max_height": null,
            "max_width": null,
            "min_height": null,
            "min_width": null,
            "object_fit": null,
            "object_position": null,
            "order": null,
            "overflow": null,
            "overflow_x": null,
            "overflow_y": null,
            "padding": null,
            "right": null,
            "top": null,
            "visibility": null,
            "width": null
          }
        },
        "a3c8fa8edc7240399925d76a2b629f2e": {
          "model_module": "@jupyter-widgets/base",
          "model_name": "LayoutModel",
          "model_module_version": "1.2.0",
          "state": {
            "_model_module": "@jupyter-widgets/base",
            "_model_module_version": "1.2.0",
            "_model_name": "LayoutModel",
            "_view_count": null,
            "_view_module": "@jupyter-widgets/base",
            "_view_module_version": "1.2.0",
            "_view_name": "LayoutView",
            "align_content": null,
            "align_items": null,
            "align_self": null,
            "border": null,
            "bottom": null,
            "display": null,
            "flex": null,
            "flex_flow": null,
            "grid_area": null,
            "grid_auto_columns": null,
            "grid_auto_flow": null,
            "grid_auto_rows": null,
            "grid_column": null,
            "grid_gap": null,
            "grid_row": null,
            "grid_template_areas": null,
            "grid_template_columns": null,
            "grid_template_rows": null,
            "height": null,
            "justify_content": null,
            "justify_items": null,
            "left": null,
            "margin": null,
            "max_height": null,
            "max_width": null,
            "min_height": null,
            "min_width": null,
            "object_fit": null,
            "object_position": null,
            "order": null,
            "overflow": null,
            "overflow_x": null,
            "overflow_y": null,
            "padding": null,
            "right": null,
            "top": null,
            "visibility": null,
            "width": null
          }
        },
        "f8094761fd674a528bded04b9b2fdb51": {
          "model_module": "@jupyter-widgets/controls",
          "model_name": "DescriptionStyleModel",
          "model_module_version": "1.5.0",
          "state": {
            "_model_module": "@jupyter-widgets/controls",
            "_model_module_version": "1.5.0",
            "_model_name": "DescriptionStyleModel",
            "_view_count": null,
            "_view_module": "@jupyter-widgets/base",
            "_view_module_version": "1.2.0",
            "_view_name": "StyleView",
            "description_width": ""
          }
        },
        "45c51249189849538a21f30e6f133e35": {
          "model_module": "@jupyter-widgets/base",
          "model_name": "LayoutModel",
          "model_module_version": "1.2.0",
          "state": {
            "_model_module": "@jupyter-widgets/base",
            "_model_module_version": "1.2.0",
            "_model_name": "LayoutModel",
            "_view_count": null,
            "_view_module": "@jupyter-widgets/base",
            "_view_module_version": "1.2.0",
            "_view_name": "LayoutView",
            "align_content": null,
            "align_items": null,
            "align_self": null,
            "border": null,
            "bottom": null,
            "display": null,
            "flex": null,
            "flex_flow": null,
            "grid_area": null,
            "grid_auto_columns": null,
            "grid_auto_flow": null,
            "grid_auto_rows": null,
            "grid_column": null,
            "grid_gap": null,
            "grid_row": null,
            "grid_template_areas": null,
            "grid_template_columns": null,
            "grid_template_rows": null,
            "height": null,
            "justify_content": null,
            "justify_items": null,
            "left": null,
            "margin": null,
            "max_height": null,
            "max_width": null,
            "min_height": null,
            "min_width": null,
            "object_fit": null,
            "object_position": null,
            "order": null,
            "overflow": null,
            "overflow_x": null,
            "overflow_y": null,
            "padding": null,
            "right": null,
            "top": null,
            "visibility": null,
            "width": null
          }
        },
        "0508a196353a4832847cbd1696b4a318": {
          "model_module": "@jupyter-widgets/controls",
          "model_name": "ProgressStyleModel",
          "model_module_version": "1.5.0",
          "state": {
            "_model_module": "@jupyter-widgets/controls",
            "_model_module_version": "1.5.0",
            "_model_name": "ProgressStyleModel",
            "_view_count": null,
            "_view_module": "@jupyter-widgets/base",
            "_view_module_version": "1.2.0",
            "_view_name": "StyleView",
            "bar_color": null,
            "description_width": ""
          }
        },
        "13d5ce56aed74d808732c1bfb223b532": {
          "model_module": "@jupyter-widgets/base",
          "model_name": "LayoutModel",
          "model_module_version": "1.2.0",
          "state": {
            "_model_module": "@jupyter-widgets/base",
            "_model_module_version": "1.2.0",
            "_model_name": "LayoutModel",
            "_view_count": null,
            "_view_module": "@jupyter-widgets/base",
            "_view_module_version": "1.2.0",
            "_view_name": "LayoutView",
            "align_content": null,
            "align_items": null,
            "align_self": null,
            "border": null,
            "bottom": null,
            "display": null,
            "flex": null,
            "flex_flow": null,
            "grid_area": null,
            "grid_auto_columns": null,
            "grid_auto_flow": null,
            "grid_auto_rows": null,
            "grid_column": null,
            "grid_gap": null,
            "grid_row": null,
            "grid_template_areas": null,
            "grid_template_columns": null,
            "grid_template_rows": null,
            "height": null,
            "justify_content": null,
            "justify_items": null,
            "left": null,
            "margin": null,
            "max_height": null,
            "max_width": null,
            "min_height": null,
            "min_width": null,
            "object_fit": null,
            "object_position": null,
            "order": null,
            "overflow": null,
            "overflow_x": null,
            "overflow_y": null,
            "padding": null,
            "right": null,
            "top": null,
            "visibility": null,
            "width": null
          }
        },
        "1de063ec6c6d4c0ba365d02d78f7d7f8": {
          "model_module": "@jupyter-widgets/controls",
          "model_name": "DescriptionStyleModel",
          "model_module_version": "1.5.0",
          "state": {
            "_model_module": "@jupyter-widgets/controls",
            "_model_module_version": "1.5.0",
            "_model_name": "DescriptionStyleModel",
            "_view_count": null,
            "_view_module": "@jupyter-widgets/base",
            "_view_module_version": "1.2.0",
            "_view_name": "StyleView",
            "description_width": ""
          }
        },
        "32e3523542c04f5d854846739ccdea10": {
          "model_module": "@jupyter-widgets/controls",
          "model_name": "HBoxModel",
          "model_module_version": "1.5.0",
          "state": {
            "_dom_classes": [],
            "_model_module": "@jupyter-widgets/controls",
            "_model_module_version": "1.5.0",
            "_model_name": "HBoxModel",
            "_view_count": null,
            "_view_module": "@jupyter-widgets/controls",
            "_view_module_version": "1.5.0",
            "_view_name": "HBoxView",
            "box_style": "",
            "children": [
              "IPY_MODEL_3385dd15af2746e9ae73ceaf20ae4e0e",
              "IPY_MODEL_65b2cdc060414491b3d98945343caf1e",
              "IPY_MODEL_54ab54894a3e4676aa1bc81f700ad9d2"
            ],
            "layout": "IPY_MODEL_933118c0d4074e2699a4c22985dfb2cd"
          }
        },
        "3385dd15af2746e9ae73ceaf20ae4e0e": {
          "model_module": "@jupyter-widgets/controls",
          "model_name": "HTMLModel",
          "model_module_version": "1.5.0",
          "state": {
            "_dom_classes": [],
            "_model_module": "@jupyter-widgets/controls",
            "_model_module_version": "1.5.0",
            "_model_name": "HTMLModel",
            "_view_count": null,
            "_view_module": "@jupyter-widgets/controls",
            "_view_module_version": "1.5.0",
            "_view_name": "HTMLView",
            "description": "",
            "description_tooltip": null,
            "layout": "IPY_MODEL_5526dbafbcda48faaeb62b1d65594cc6",
            "placeholder": "​",
            "style": "IPY_MODEL_1ad35bc02a3d4b56aa4df97fe655314f",
            "value": "Generating test split:  97%"
          }
        },
        "65b2cdc060414491b3d98945343caf1e": {
          "model_module": "@jupyter-widgets/controls",
          "model_name": "FloatProgressModel",
          "model_module_version": "1.5.0",
          "state": {
            "_dom_classes": [],
            "_model_module": "@jupyter-widgets/controls",
            "_model_module_version": "1.5.0",
            "_model_name": "FloatProgressModel",
            "_view_count": null,
            "_view_module": "@jupyter-widgets/controls",
            "_view_module_version": "1.5.0",
            "_view_name": "ProgressView",
            "bar_style": "",
            "description": "",
            "description_tooltip": null,
            "layout": "IPY_MODEL_b592999f90c34140ad6b6b5ffc0f4338",
            "max": 25000,
            "min": 0,
            "orientation": "horizontal",
            "style": "IPY_MODEL_f7fb8e508d50430ea6db669d14eb1fe0",
            "value": 25000
          }
        },
        "54ab54894a3e4676aa1bc81f700ad9d2": {
          "model_module": "@jupyter-widgets/controls",
          "model_name": "HTMLModel",
          "model_module_version": "1.5.0",
          "state": {
            "_dom_classes": [],
            "_model_module": "@jupyter-widgets/controls",
            "_model_module_version": "1.5.0",
            "_model_name": "HTMLModel",
            "_view_count": null,
            "_view_module": "@jupyter-widgets/controls",
            "_view_module_version": "1.5.0",
            "_view_name": "HTMLView",
            "description": "",
            "description_tooltip": null,
            "layout": "IPY_MODEL_60f4fb5336584d17983fbff5b29cac88",
            "placeholder": "​",
            "style": "IPY_MODEL_025aa2f4914744ae9feaad63c6c5ca70",
            "value": " 24142/25000 [00:03&lt;00:00, 8214.34 examples/s]"
          }
        },
        "933118c0d4074e2699a4c22985dfb2cd": {
          "model_module": "@jupyter-widgets/base",
          "model_name": "LayoutModel",
          "model_module_version": "1.2.0",
          "state": {
            "_model_module": "@jupyter-widgets/base",
            "_model_module_version": "1.2.0",
            "_model_name": "LayoutModel",
            "_view_count": null,
            "_view_module": "@jupyter-widgets/base",
            "_view_module_version": "1.2.0",
            "_view_name": "LayoutView",
            "align_content": null,
            "align_items": null,
            "align_self": null,
            "border": null,
            "bottom": null,
            "display": null,
            "flex": null,
            "flex_flow": null,
            "grid_area": null,
            "grid_auto_columns": null,
            "grid_auto_flow": null,
            "grid_auto_rows": null,
            "grid_column": null,
            "grid_gap": null,
            "grid_row": null,
            "grid_template_areas": null,
            "grid_template_columns": null,
            "grid_template_rows": null,
            "height": null,
            "justify_content": null,
            "justify_items": null,
            "left": null,
            "margin": null,
            "max_height": null,
            "max_width": null,
            "min_height": null,
            "min_width": null,
            "object_fit": null,
            "object_position": null,
            "order": null,
            "overflow": null,
            "overflow_x": null,
            "overflow_y": null,
            "padding": null,
            "right": null,
            "top": null,
            "visibility": null,
            "width": null
          }
        },
        "5526dbafbcda48faaeb62b1d65594cc6": {
          "model_module": "@jupyter-widgets/base",
          "model_name": "LayoutModel",
          "model_module_version": "1.2.0",
          "state": {
            "_model_module": "@jupyter-widgets/base",
            "_model_module_version": "1.2.0",
            "_model_name": "LayoutModel",
            "_view_count": null,
            "_view_module": "@jupyter-widgets/base",
            "_view_module_version": "1.2.0",
            "_view_name": "LayoutView",
            "align_content": null,
            "align_items": null,
            "align_self": null,
            "border": null,
            "bottom": null,
            "display": null,
            "flex": null,
            "flex_flow": null,
            "grid_area": null,
            "grid_auto_columns": null,
            "grid_auto_flow": null,
            "grid_auto_rows": null,
            "grid_column": null,
            "grid_gap": null,
            "grid_row": null,
            "grid_template_areas": null,
            "grid_template_columns": null,
            "grid_template_rows": null,
            "height": null,
            "justify_content": null,
            "justify_items": null,
            "left": null,
            "margin": null,
            "max_height": null,
            "max_width": null,
            "min_height": null,
            "min_width": null,
            "object_fit": null,
            "object_position": null,
            "order": null,
            "overflow": null,
            "overflow_x": null,
            "overflow_y": null,
            "padding": null,
            "right": null,
            "top": null,
            "visibility": null,
            "width": null
          }
        },
        "1ad35bc02a3d4b56aa4df97fe655314f": {
          "model_module": "@jupyter-widgets/controls",
          "model_name": "DescriptionStyleModel",
          "model_module_version": "1.5.0",
          "state": {
            "_model_module": "@jupyter-widgets/controls",
            "_model_module_version": "1.5.0",
            "_model_name": "DescriptionStyleModel",
            "_view_count": null,
            "_view_module": "@jupyter-widgets/base",
            "_view_module_version": "1.2.0",
            "_view_name": "StyleView",
            "description_width": ""
          }
        },
        "b592999f90c34140ad6b6b5ffc0f4338": {
          "model_module": "@jupyter-widgets/base",
          "model_name": "LayoutModel",
          "model_module_version": "1.2.0",
          "state": {
            "_model_module": "@jupyter-widgets/base",
            "_model_module_version": "1.2.0",
            "_model_name": "LayoutModel",
            "_view_count": null,
            "_view_module": "@jupyter-widgets/base",
            "_view_module_version": "1.2.0",
            "_view_name": "LayoutView",
            "align_content": null,
            "align_items": null,
            "align_self": null,
            "border": null,
            "bottom": null,
            "display": null,
            "flex": null,
            "flex_flow": null,
            "grid_area": null,
            "grid_auto_columns": null,
            "grid_auto_flow": null,
            "grid_auto_rows": null,
            "grid_column": null,
            "grid_gap": null,
            "grid_row": null,
            "grid_template_areas": null,
            "grid_template_columns": null,
            "grid_template_rows": null,
            "height": null,
            "justify_content": null,
            "justify_items": null,
            "left": null,
            "margin": null,
            "max_height": null,
            "max_width": null,
            "min_height": null,
            "min_width": null,
            "object_fit": null,
            "object_position": null,
            "order": null,
            "overflow": null,
            "overflow_x": null,
            "overflow_y": null,
            "padding": null,
            "right": null,
            "top": null,
            "visibility": null,
            "width": null
          }
        },
        "f7fb8e508d50430ea6db669d14eb1fe0": {
          "model_module": "@jupyter-widgets/controls",
          "model_name": "ProgressStyleModel",
          "model_module_version": "1.5.0",
          "state": {
            "_model_module": "@jupyter-widgets/controls",
            "_model_module_version": "1.5.0",
            "_model_name": "ProgressStyleModel",
            "_view_count": null,
            "_view_module": "@jupyter-widgets/base",
            "_view_module_version": "1.2.0",
            "_view_name": "StyleView",
            "bar_color": null,
            "description_width": ""
          }
        },
        "60f4fb5336584d17983fbff5b29cac88": {
          "model_module": "@jupyter-widgets/base",
          "model_name": "LayoutModel",
          "model_module_version": "1.2.0",
          "state": {
            "_model_module": "@jupyter-widgets/base",
            "_model_module_version": "1.2.0",
            "_model_name": "LayoutModel",
            "_view_count": null,
            "_view_module": "@jupyter-widgets/base",
            "_view_module_version": "1.2.0",
            "_view_name": "LayoutView",
            "align_content": null,
            "align_items": null,
            "align_self": null,
            "border": null,
            "bottom": null,
            "display": null,
            "flex": null,
            "flex_flow": null,
            "grid_area": null,
            "grid_auto_columns": null,
            "grid_auto_flow": null,
            "grid_auto_rows": null,
            "grid_column": null,
            "grid_gap": null,
            "grid_row": null,
            "grid_template_areas": null,
            "grid_template_columns": null,
            "grid_template_rows": null,
            "height": null,
            "justify_content": null,
            "justify_items": null,
            "left": null,
            "margin": null,
            "max_height": null,
            "max_width": null,
            "min_height": null,
            "min_width": null,
            "object_fit": null,
            "object_position": null,
            "order": null,
            "overflow": null,
            "overflow_x": null,
            "overflow_y": null,
            "padding": null,
            "right": null,
            "top": null,
            "visibility": null,
            "width": null
          }
        },
        "025aa2f4914744ae9feaad63c6c5ca70": {
          "model_module": "@jupyter-widgets/controls",
          "model_name": "DescriptionStyleModel",
          "model_module_version": "1.5.0",
          "state": {
            "_model_module": "@jupyter-widgets/controls",
            "_model_module_version": "1.5.0",
            "_model_name": "DescriptionStyleModel",
            "_view_count": null,
            "_view_module": "@jupyter-widgets/base",
            "_view_module_version": "1.2.0",
            "_view_name": "StyleView",
            "description_width": ""
          }
        },
        "3b79fa9500e34246b6b474460a75e439": {
          "model_module": "@jupyter-widgets/controls",
          "model_name": "HBoxModel",
          "model_module_version": "1.5.0",
          "state": {
            "_dom_classes": [],
            "_model_module": "@jupyter-widgets/controls",
            "_model_module_version": "1.5.0",
            "_model_name": "HBoxModel",
            "_view_count": null,
            "_view_module": "@jupyter-widgets/controls",
            "_view_module_version": "1.5.0",
            "_view_name": "HBoxView",
            "box_style": "",
            "children": [
              "IPY_MODEL_8bd5167421a4415a8532e6c55eb9d49b",
              "IPY_MODEL_86a64828cb1f47cd892ce9ed4211d867",
              "IPY_MODEL_d1ae26c702a84140912c4dda6c066073"
            ],
            "layout": "IPY_MODEL_ef1300888d2e40cfb45f635d8c2422b1"
          }
        },
        "8bd5167421a4415a8532e6c55eb9d49b": {
          "model_module": "@jupyter-widgets/controls",
          "model_name": "HTMLModel",
          "model_module_version": "1.5.0",
          "state": {
            "_dom_classes": [],
            "_model_module": "@jupyter-widgets/controls",
            "_model_module_version": "1.5.0",
            "_model_name": "HTMLModel",
            "_view_count": null,
            "_view_module": "@jupyter-widgets/controls",
            "_view_module_version": "1.5.0",
            "_view_name": "HTMLView",
            "description": "",
            "description_tooltip": null,
            "layout": "IPY_MODEL_00189bbc505f4a0383ca8336e0a5b9f3",
            "placeholder": "​",
            "style": "IPY_MODEL_4aad1e3d1cef41c3972fe77a0ef07773",
            "value": "Generating unsupervised split:  99%"
          }
        },
        "86a64828cb1f47cd892ce9ed4211d867": {
          "model_module": "@jupyter-widgets/controls",
          "model_name": "FloatProgressModel",
          "model_module_version": "1.5.0",
          "state": {
            "_dom_classes": [],
            "_model_module": "@jupyter-widgets/controls",
            "_model_module_version": "1.5.0",
            "_model_name": "FloatProgressModel",
            "_view_count": null,
            "_view_module": "@jupyter-widgets/controls",
            "_view_module_version": "1.5.0",
            "_view_name": "ProgressView",
            "bar_style": "",
            "description": "",
            "description_tooltip": null,
            "layout": "IPY_MODEL_bf417072fef24400b1b08b225711e946",
            "max": 50000,
            "min": 0,
            "orientation": "horizontal",
            "style": "IPY_MODEL_148c34e4b0b14982aaa908d506918414",
            "value": 50000
          }
        },
        "d1ae26c702a84140912c4dda6c066073": {
          "model_module": "@jupyter-widgets/controls",
          "model_name": "HTMLModel",
          "model_module_version": "1.5.0",
          "state": {
            "_dom_classes": [],
            "_model_module": "@jupyter-widgets/controls",
            "_model_module_version": "1.5.0",
            "_model_name": "HTMLModel",
            "_view_count": null,
            "_view_module": "@jupyter-widgets/controls",
            "_view_module_version": "1.5.0",
            "_view_name": "HTMLView",
            "description": "",
            "description_tooltip": null,
            "layout": "IPY_MODEL_9007d6a225154b789d3baadb1d0870d7",
            "placeholder": "​",
            "style": "IPY_MODEL_855a0786962d4e96bb5bbddf7646f80e",
            "value": " 49472/50000 [00:08&lt;00:00, 9243.23 examples/s]"
          }
        },
        "ef1300888d2e40cfb45f635d8c2422b1": {
          "model_module": "@jupyter-widgets/base",
          "model_name": "LayoutModel",
          "model_module_version": "1.2.0",
          "state": {
            "_model_module": "@jupyter-widgets/base",
            "_model_module_version": "1.2.0",
            "_model_name": "LayoutModel",
            "_view_count": null,
            "_view_module": "@jupyter-widgets/base",
            "_view_module_version": "1.2.0",
            "_view_name": "LayoutView",
            "align_content": null,
            "align_items": null,
            "align_self": null,
            "border": null,
            "bottom": null,
            "display": null,
            "flex": null,
            "flex_flow": null,
            "grid_area": null,
            "grid_auto_columns": null,
            "grid_auto_flow": null,
            "grid_auto_rows": null,
            "grid_column": null,
            "grid_gap": null,
            "grid_row": null,
            "grid_template_areas": null,
            "grid_template_columns": null,
            "grid_template_rows": null,
            "height": null,
            "justify_content": null,
            "justify_items": null,
            "left": null,
            "margin": null,
            "max_height": null,
            "max_width": null,
            "min_height": null,
            "min_width": null,
            "object_fit": null,
            "object_position": null,
            "order": null,
            "overflow": null,
            "overflow_x": null,
            "overflow_y": null,
            "padding": null,
            "right": null,
            "top": null,
            "visibility": null,
            "width": null
          }
        },
        "00189bbc505f4a0383ca8336e0a5b9f3": {
          "model_module": "@jupyter-widgets/base",
          "model_name": "LayoutModel",
          "model_module_version": "1.2.0",
          "state": {
            "_model_module": "@jupyter-widgets/base",
            "_model_module_version": "1.2.0",
            "_model_name": "LayoutModel",
            "_view_count": null,
            "_view_module": "@jupyter-widgets/base",
            "_view_module_version": "1.2.0",
            "_view_name": "LayoutView",
            "align_content": null,
            "align_items": null,
            "align_self": null,
            "border": null,
            "bottom": null,
            "display": null,
            "flex": null,
            "flex_flow": null,
            "grid_area": null,
            "grid_auto_columns": null,
            "grid_auto_flow": null,
            "grid_auto_rows": null,
            "grid_column": null,
            "grid_gap": null,
            "grid_row": null,
            "grid_template_areas": null,
            "grid_template_columns": null,
            "grid_template_rows": null,
            "height": null,
            "justify_content": null,
            "justify_items": null,
            "left": null,
            "margin": null,
            "max_height": null,
            "max_width": null,
            "min_height": null,
            "min_width": null,
            "object_fit": null,
            "object_position": null,
            "order": null,
            "overflow": null,
            "overflow_x": null,
            "overflow_y": null,
            "padding": null,
            "right": null,
            "top": null,
            "visibility": null,
            "width": null
          }
        },
        "4aad1e3d1cef41c3972fe77a0ef07773": {
          "model_module": "@jupyter-widgets/controls",
          "model_name": "DescriptionStyleModel",
          "model_module_version": "1.5.0",
          "state": {
            "_model_module": "@jupyter-widgets/controls",
            "_model_module_version": "1.5.0",
            "_model_name": "DescriptionStyleModel",
            "_view_count": null,
            "_view_module": "@jupyter-widgets/base",
            "_view_module_version": "1.2.0",
            "_view_name": "StyleView",
            "description_width": ""
          }
        },
        "bf417072fef24400b1b08b225711e946": {
          "model_module": "@jupyter-widgets/base",
          "model_name": "LayoutModel",
          "model_module_version": "1.2.0",
          "state": {
            "_model_module": "@jupyter-widgets/base",
            "_model_module_version": "1.2.0",
            "_model_name": "LayoutModel",
            "_view_count": null,
            "_view_module": "@jupyter-widgets/base",
            "_view_module_version": "1.2.0",
            "_view_name": "LayoutView",
            "align_content": null,
            "align_items": null,
            "align_self": null,
            "border": null,
            "bottom": null,
            "display": null,
            "flex": null,
            "flex_flow": null,
            "grid_area": null,
            "grid_auto_columns": null,
            "grid_auto_flow": null,
            "grid_auto_rows": null,
            "grid_column": null,
            "grid_gap": null,
            "grid_row": null,
            "grid_template_areas": null,
            "grid_template_columns": null,
            "grid_template_rows": null,
            "height": null,
            "justify_content": null,
            "justify_items": null,
            "left": null,
            "margin": null,
            "max_height": null,
            "max_width": null,
            "min_height": null,
            "min_width": null,
            "object_fit": null,
            "object_position": null,
            "order": null,
            "overflow": null,
            "overflow_x": null,
            "overflow_y": null,
            "padding": null,
            "right": null,
            "top": null,
            "visibility": null,
            "width": null
          }
        },
        "148c34e4b0b14982aaa908d506918414": {
          "model_module": "@jupyter-widgets/controls",
          "model_name": "ProgressStyleModel",
          "model_module_version": "1.5.0",
          "state": {
            "_model_module": "@jupyter-widgets/controls",
            "_model_module_version": "1.5.0",
            "_model_name": "ProgressStyleModel",
            "_view_count": null,
            "_view_module": "@jupyter-widgets/base",
            "_view_module_version": "1.2.0",
            "_view_name": "StyleView",
            "bar_color": null,
            "description_width": ""
          }
        },
        "9007d6a225154b789d3baadb1d0870d7": {
          "model_module": "@jupyter-widgets/base",
          "model_name": "LayoutModel",
          "model_module_version": "1.2.0",
          "state": {
            "_model_module": "@jupyter-widgets/base",
            "_model_module_version": "1.2.0",
            "_model_name": "LayoutModel",
            "_view_count": null,
            "_view_module": "@jupyter-widgets/base",
            "_view_module_version": "1.2.0",
            "_view_name": "LayoutView",
            "align_content": null,
            "align_items": null,
            "align_self": null,
            "border": null,
            "bottom": null,
            "display": null,
            "flex": null,
            "flex_flow": null,
            "grid_area": null,
            "grid_auto_columns": null,
            "grid_auto_flow": null,
            "grid_auto_rows": null,
            "grid_column": null,
            "grid_gap": null,
            "grid_row": null,
            "grid_template_areas": null,
            "grid_template_columns": null,
            "grid_template_rows": null,
            "height": null,
            "justify_content": null,
            "justify_items": null,
            "left": null,
            "margin": null,
            "max_height": null,
            "max_width": null,
            "min_height": null,
            "min_width": null,
            "object_fit": null,
            "object_position": null,
            "order": null,
            "overflow": null,
            "overflow_x": null,
            "overflow_y": null,
            "padding": null,
            "right": null,
            "top": null,
            "visibility": null,
            "width": null
          }
        },
        "855a0786962d4e96bb5bbddf7646f80e": {
          "model_module": "@jupyter-widgets/controls",
          "model_name": "DescriptionStyleModel",
          "model_module_version": "1.5.0",
          "state": {
            "_model_module": "@jupyter-widgets/controls",
            "_model_module_version": "1.5.0",
            "_model_name": "DescriptionStyleModel",
            "_view_count": null,
            "_view_module": "@jupyter-widgets/base",
            "_view_module_version": "1.2.0",
            "_view_name": "StyleView",
            "description_width": ""
          }
        },
        "59002ca620c047c385bd88c408fe06a3": {
          "model_module": "@jupyter-widgets/controls",
          "model_name": "HBoxModel",
          "model_module_version": "1.5.0",
          "state": {
            "_dom_classes": [],
            "_model_module": "@jupyter-widgets/controls",
            "_model_module_version": "1.5.0",
            "_model_name": "HBoxModel",
            "_view_count": null,
            "_view_module": "@jupyter-widgets/controls",
            "_view_module_version": "1.5.0",
            "_view_name": "HBoxView",
            "box_style": "",
            "children": [
              "IPY_MODEL_174d76849240414b8deaf527004db157",
              "IPY_MODEL_fa4c1251fe74461c961479a8450f7c0e",
              "IPY_MODEL_9f5971ca179a4765b114cf0ed764bd30"
            ],
            "layout": "IPY_MODEL_f9727000ce30415d9e5090948c60954e"
          }
        },
        "174d76849240414b8deaf527004db157": {
          "model_module": "@jupyter-widgets/controls",
          "model_name": "HTMLModel",
          "model_module_version": "1.5.0",
          "state": {
            "_dom_classes": [],
            "_model_module": "@jupyter-widgets/controls",
            "_model_module_version": "1.5.0",
            "_model_name": "HTMLModel",
            "_view_count": null,
            "_view_module": "@jupyter-widgets/controls",
            "_view_module_version": "1.5.0",
            "_view_name": "HTMLView",
            "description": "",
            "description_tooltip": null,
            "layout": "IPY_MODEL_c28d8b7414774f4ea32fb4091731bd3a",
            "placeholder": "​",
            "style": "IPY_MODEL_e201b75a553542498a8d624c108228ef",
            "value": "100%"
          }
        },
        "fa4c1251fe74461c961479a8450f7c0e": {
          "model_module": "@jupyter-widgets/controls",
          "model_name": "FloatProgressModel",
          "model_module_version": "1.5.0",
          "state": {
            "_dom_classes": [],
            "_model_module": "@jupyter-widgets/controls",
            "_model_module_version": "1.5.0",
            "_model_name": "FloatProgressModel",
            "_view_count": null,
            "_view_module": "@jupyter-widgets/controls",
            "_view_module_version": "1.5.0",
            "_view_name": "ProgressView",
            "bar_style": "success",
            "description": "",
            "description_tooltip": null,
            "layout": "IPY_MODEL_ff43375af5034357bbfc79291fa3c037",
            "max": 3,
            "min": 0,
            "orientation": "horizontal",
            "style": "IPY_MODEL_e087517aeab04460b1fad86003262b18",
            "value": 3
          }
        },
        "9f5971ca179a4765b114cf0ed764bd30": {
          "model_module": "@jupyter-widgets/controls",
          "model_name": "HTMLModel",
          "model_module_version": "1.5.0",
          "state": {
            "_dom_classes": [],
            "_model_module": "@jupyter-widgets/controls",
            "_model_module_version": "1.5.0",
            "_model_name": "HTMLModel",
            "_view_count": null,
            "_view_module": "@jupyter-widgets/controls",
            "_view_module_version": "1.5.0",
            "_view_name": "HTMLView",
            "description": "",
            "description_tooltip": null,
            "layout": "IPY_MODEL_5470586c008947408e965db24aa266ec",
            "placeholder": "​",
            "style": "IPY_MODEL_78574c3f37544aeaa4e1c1b913173145",
            "value": " 3/3 [00:00&lt;00:00, 55.48it/s]"
          }
        },
        "f9727000ce30415d9e5090948c60954e": {
          "model_module": "@jupyter-widgets/base",
          "model_name": "LayoutModel",
          "model_module_version": "1.2.0",
          "state": {
            "_model_module": "@jupyter-widgets/base",
            "_model_module_version": "1.2.0",
            "_model_name": "LayoutModel",
            "_view_count": null,
            "_view_module": "@jupyter-widgets/base",
            "_view_module_version": "1.2.0",
            "_view_name": "LayoutView",
            "align_content": null,
            "align_items": null,
            "align_self": null,
            "border": null,
            "bottom": null,
            "display": null,
            "flex": null,
            "flex_flow": null,
            "grid_area": null,
            "grid_auto_columns": null,
            "grid_auto_flow": null,
            "grid_auto_rows": null,
            "grid_column": null,
            "grid_gap": null,
            "grid_row": null,
            "grid_template_areas": null,
            "grid_template_columns": null,
            "grid_template_rows": null,
            "height": null,
            "justify_content": null,
            "justify_items": null,
            "left": null,
            "margin": null,
            "max_height": null,
            "max_width": null,
            "min_height": null,
            "min_width": null,
            "object_fit": null,
            "object_position": null,
            "order": null,
            "overflow": null,
            "overflow_x": null,
            "overflow_y": null,
            "padding": null,
            "right": null,
            "top": null,
            "visibility": null,
            "width": null
          }
        },
        "c28d8b7414774f4ea32fb4091731bd3a": {
          "model_module": "@jupyter-widgets/base",
          "model_name": "LayoutModel",
          "model_module_version": "1.2.0",
          "state": {
            "_model_module": "@jupyter-widgets/base",
            "_model_module_version": "1.2.0",
            "_model_name": "LayoutModel",
            "_view_count": null,
            "_view_module": "@jupyter-widgets/base",
            "_view_module_version": "1.2.0",
            "_view_name": "LayoutView",
            "align_content": null,
            "align_items": null,
            "align_self": null,
            "border": null,
            "bottom": null,
            "display": null,
            "flex": null,
            "flex_flow": null,
            "grid_area": null,
            "grid_auto_columns": null,
            "grid_auto_flow": null,
            "grid_auto_rows": null,
            "grid_column": null,
            "grid_gap": null,
            "grid_row": null,
            "grid_template_areas": null,
            "grid_template_columns": null,
            "grid_template_rows": null,
            "height": null,
            "justify_content": null,
            "justify_items": null,
            "left": null,
            "margin": null,
            "max_height": null,
            "max_width": null,
            "min_height": null,
            "min_width": null,
            "object_fit": null,
            "object_position": null,
            "order": null,
            "overflow": null,
            "overflow_x": null,
            "overflow_y": null,
            "padding": null,
            "right": null,
            "top": null,
            "visibility": null,
            "width": null
          }
        },
        "e201b75a553542498a8d624c108228ef": {
          "model_module": "@jupyter-widgets/controls",
          "model_name": "DescriptionStyleModel",
          "model_module_version": "1.5.0",
          "state": {
            "_model_module": "@jupyter-widgets/controls",
            "_model_module_version": "1.5.0",
            "_model_name": "DescriptionStyleModel",
            "_view_count": null,
            "_view_module": "@jupyter-widgets/base",
            "_view_module_version": "1.2.0",
            "_view_name": "StyleView",
            "description_width": ""
          }
        },
        "ff43375af5034357bbfc79291fa3c037": {
          "model_module": "@jupyter-widgets/base",
          "model_name": "LayoutModel",
          "model_module_version": "1.2.0",
          "state": {
            "_model_module": "@jupyter-widgets/base",
            "_model_module_version": "1.2.0",
            "_model_name": "LayoutModel",
            "_view_count": null,
            "_view_module": "@jupyter-widgets/base",
            "_view_module_version": "1.2.0",
            "_view_name": "LayoutView",
            "align_content": null,
            "align_items": null,
            "align_self": null,
            "border": null,
            "bottom": null,
            "display": null,
            "flex": null,
            "flex_flow": null,
            "grid_area": null,
            "grid_auto_columns": null,
            "grid_auto_flow": null,
            "grid_auto_rows": null,
            "grid_column": null,
            "grid_gap": null,
            "grid_row": null,
            "grid_template_areas": null,
            "grid_template_columns": null,
            "grid_template_rows": null,
            "height": null,
            "justify_content": null,
            "justify_items": null,
            "left": null,
            "margin": null,
            "max_height": null,
            "max_width": null,
            "min_height": null,
            "min_width": null,
            "object_fit": null,
            "object_position": null,
            "order": null,
            "overflow": null,
            "overflow_x": null,
            "overflow_y": null,
            "padding": null,
            "right": null,
            "top": null,
            "visibility": null,
            "width": null
          }
        },
        "e087517aeab04460b1fad86003262b18": {
          "model_module": "@jupyter-widgets/controls",
          "model_name": "ProgressStyleModel",
          "model_module_version": "1.5.0",
          "state": {
            "_model_module": "@jupyter-widgets/controls",
            "_model_module_version": "1.5.0",
            "_model_name": "ProgressStyleModel",
            "_view_count": null,
            "_view_module": "@jupyter-widgets/base",
            "_view_module_version": "1.2.0",
            "_view_name": "StyleView",
            "bar_color": null,
            "description_width": ""
          }
        },
        "5470586c008947408e965db24aa266ec": {
          "model_module": "@jupyter-widgets/base",
          "model_name": "LayoutModel",
          "model_module_version": "1.2.0",
          "state": {
            "_model_module": "@jupyter-widgets/base",
            "_model_module_version": "1.2.0",
            "_model_name": "LayoutModel",
            "_view_count": null,
            "_view_module": "@jupyter-widgets/base",
            "_view_module_version": "1.2.0",
            "_view_name": "LayoutView",
            "align_content": null,
            "align_items": null,
            "align_self": null,
            "border": null,
            "bottom": null,
            "display": null,
            "flex": null,
            "flex_flow": null,
            "grid_area": null,
            "grid_auto_columns": null,
            "grid_auto_flow": null,
            "grid_auto_rows": null,
            "grid_column": null,
            "grid_gap": null,
            "grid_row": null,
            "grid_template_areas": null,
            "grid_template_columns": null,
            "grid_template_rows": null,
            "height": null,
            "justify_content": null,
            "justify_items": null,
            "left": null,
            "margin": null,
            "max_height": null,
            "max_width": null,
            "min_height": null,
            "min_width": null,
            "object_fit": null,
            "object_position": null,
            "order": null,
            "overflow": null,
            "overflow_x": null,
            "overflow_y": null,
            "padding": null,
            "right": null,
            "top": null,
            "visibility": null,
            "width": null
          }
        },
        "78574c3f37544aeaa4e1c1b913173145": {
          "model_module": "@jupyter-widgets/controls",
          "model_name": "DescriptionStyleModel",
          "model_module_version": "1.5.0",
          "state": {
            "_model_module": "@jupyter-widgets/controls",
            "_model_module_version": "1.5.0",
            "_model_name": "DescriptionStyleModel",
            "_view_count": null,
            "_view_module": "@jupyter-widgets/base",
            "_view_module_version": "1.2.0",
            "_view_name": "StyleView",
            "description_width": ""
          }
        }
      }
    },
    "accelerator": "GPU",
    "gpuClass": "standard"
  },
  "cells": [
    {
      "cell_type": "markdown",
      "metadata": {
        "id": "view-in-github",
        "colab_type": "text"
      },
      "source": [
        "<a href=\"https://colab.research.google.com/github/christopherdiamana/nlp/blob/main/catch_up1.ipynb\" target=\"_parent\"><img src=\"https://colab.research.google.com/assets/colab-badge.svg\" alt=\"Open In Colab\"/></a>"
      ]
    },
    {
      "cell_type": "markdown",
      "source": [
        "# Introduction to Natural Language Processing Catch-up 1"
      ],
      "metadata": {
        "id": "GQ4Z_zgCT6y_"
      }
    },
    {
      "cell_type": "markdown",
      "source": [
        "## The dataset"
      ],
      "metadata": {
        "id": "PlcLXIrKUAxr"
      }
    },
    {
      "cell_type": "code",
      "source": [
        "!pip install datasets"
      ],
      "metadata": {
        "colab": {
          "base_uri": "https://localhost:8080/"
        },
        "id": "rk8O6GDjesQF",
        "outputId": "0b6a6acd-ec54-49da-9b17-516eb8d0a215"
      },
      "execution_count": 1,
      "outputs": [
        {
          "output_type": "stream",
          "name": "stdout",
          "text": [
            "Looking in indexes: https://pypi.org/simple, https://us-python.pkg.dev/colab-wheels/public/simple/\n",
            "Collecting datasets\n",
            "  Downloading datasets-2.3.2-py3-none-any.whl (362 kB)\n",
            "\u001b[K     |████████████████████████████████| 362 kB 8.4 MB/s \n",
            "\u001b[?25hRequirement already satisfied: numpy>=1.17 in /usr/local/lib/python3.7/dist-packages (from datasets) (1.21.6)\n",
            "Requirement already satisfied: pyarrow>=6.0.0 in /usr/local/lib/python3.7/dist-packages (from datasets) (6.0.1)\n",
            "Collecting fsspec[http]>=2021.05.0\n",
            "  Downloading fsspec-2022.5.0-py3-none-any.whl (140 kB)\n",
            "\u001b[K     |████████████████████████████████| 140 kB 60.5 MB/s \n",
            "\u001b[?25hRequirement already satisfied: packaging in /usr/local/lib/python3.7/dist-packages (from datasets) (21.3)\n",
            "Requirement already satisfied: tqdm>=4.62.1 in /usr/local/lib/python3.7/dist-packages (from datasets) (4.64.0)\n",
            "Collecting huggingface-hub<1.0.0,>=0.1.0\n",
            "  Downloading huggingface_hub-0.8.1-py3-none-any.whl (101 kB)\n",
            "\u001b[K     |████████████████████████████████| 101 kB 7.7 MB/s \n",
            "\u001b[?25hRequirement already satisfied: multiprocess in /usr/local/lib/python3.7/dist-packages (from datasets) (0.70.13)\n",
            "Collecting xxhash\n",
            "  Downloading xxhash-3.0.0-cp37-cp37m-manylinux_2_17_x86_64.manylinux2014_x86_64.whl (212 kB)\n",
            "\u001b[K     |████████████████████████████████| 212 kB 68.9 MB/s \n",
            "\u001b[?25hRequirement already satisfied: pandas in /usr/local/lib/python3.7/dist-packages (from datasets) (1.3.5)\n",
            "Collecting responses<0.19\n",
            "  Downloading responses-0.18.0-py3-none-any.whl (38 kB)\n",
            "Requirement already satisfied: importlib-metadata in /usr/local/lib/python3.7/dist-packages (from datasets) (4.11.4)\n",
            "Collecting aiohttp\n",
            "  Downloading aiohttp-3.8.1-cp37-cp37m-manylinux_2_5_x86_64.manylinux1_x86_64.manylinux_2_12_x86_64.manylinux2010_x86_64.whl (1.1 MB)\n",
            "\u001b[K     |████████████████████████████████| 1.1 MB 50.5 MB/s \n",
            "\u001b[?25hRequirement already satisfied: requests>=2.19.0 in /usr/local/lib/python3.7/dist-packages (from datasets) (2.23.0)\n",
            "Requirement already satisfied: dill<0.3.6 in /usr/local/lib/python3.7/dist-packages (from datasets) (0.3.5.1)\n",
            "Collecting pyyaml>=5.1\n",
            "  Downloading PyYAML-6.0-cp37-cp37m-manylinux_2_5_x86_64.manylinux1_x86_64.manylinux_2_12_x86_64.manylinux2010_x86_64.whl (596 kB)\n",
            "\u001b[K     |████████████████████████████████| 596 kB 41.9 MB/s \n",
            "\u001b[?25hRequirement already satisfied: typing-extensions>=3.7.4.3 in /usr/local/lib/python3.7/dist-packages (from huggingface-hub<1.0.0,>=0.1.0->datasets) (4.1.1)\n",
            "Requirement already satisfied: filelock in /usr/local/lib/python3.7/dist-packages (from huggingface-hub<1.0.0,>=0.1.0->datasets) (3.7.1)\n",
            "Requirement already satisfied: pyparsing!=3.0.5,>=2.0.2 in /usr/local/lib/python3.7/dist-packages (from packaging->datasets) (3.0.9)\n",
            "Requirement already satisfied: certifi>=2017.4.17 in /usr/local/lib/python3.7/dist-packages (from requests>=2.19.0->datasets) (2022.6.15)\n",
            "Requirement already satisfied: idna<3,>=2.5 in /usr/local/lib/python3.7/dist-packages (from requests>=2.19.0->datasets) (2.10)\n",
            "Requirement already satisfied: chardet<4,>=3.0.2 in /usr/local/lib/python3.7/dist-packages (from requests>=2.19.0->datasets) (3.0.4)\n",
            "Requirement already satisfied: urllib3!=1.25.0,!=1.25.1,<1.26,>=1.21.1 in /usr/local/lib/python3.7/dist-packages (from requests>=2.19.0->datasets) (1.24.3)\n",
            "Collecting urllib3!=1.25.0,!=1.25.1,<1.26,>=1.21.1\n",
            "  Downloading urllib3-1.25.11-py2.py3-none-any.whl (127 kB)\n",
            "\u001b[K     |████████████████████████████████| 127 kB 77.1 MB/s \n",
            "\u001b[?25hRequirement already satisfied: charset-normalizer<3.0,>=2.0 in /usr/local/lib/python3.7/dist-packages (from aiohttp->datasets) (2.0.12)\n",
            "Collecting yarl<2.0,>=1.0\n",
            "  Downloading yarl-1.7.2-cp37-cp37m-manylinux_2_5_x86_64.manylinux1_x86_64.manylinux_2_12_x86_64.manylinux2010_x86_64.whl (271 kB)\n",
            "\u001b[K     |████████████████████████████████| 271 kB 59.3 MB/s \n",
            "\u001b[?25hCollecting multidict<7.0,>=4.5\n",
            "  Downloading multidict-6.0.2-cp37-cp37m-manylinux_2_17_x86_64.manylinux2014_x86_64.whl (94 kB)\n",
            "\u001b[K     |████████████████████████████████| 94 kB 1.8 MB/s \n",
            "\u001b[?25hCollecting async-timeout<5.0,>=4.0.0a3\n",
            "  Downloading async_timeout-4.0.2-py3-none-any.whl (5.8 kB)\n",
            "Collecting asynctest==0.13.0\n",
            "  Downloading asynctest-0.13.0-py3-none-any.whl (26 kB)\n",
            "Collecting frozenlist>=1.1.1\n",
            "  Downloading frozenlist-1.3.0-cp37-cp37m-manylinux_2_5_x86_64.manylinux1_x86_64.manylinux_2_17_x86_64.manylinux2014_x86_64.whl (144 kB)\n",
            "\u001b[K     |████████████████████████████████| 144 kB 34.0 MB/s \n",
            "\u001b[?25hRequirement already satisfied: attrs>=17.3.0 in /usr/local/lib/python3.7/dist-packages (from aiohttp->datasets) (21.4.0)\n",
            "Collecting aiosignal>=1.1.2\n",
            "  Downloading aiosignal-1.2.0-py3-none-any.whl (8.2 kB)\n",
            "Requirement already satisfied: zipp>=0.5 in /usr/local/lib/python3.7/dist-packages (from importlib-metadata->datasets) (3.8.0)\n",
            "Requirement already satisfied: pytz>=2017.3 in /usr/local/lib/python3.7/dist-packages (from pandas->datasets) (2022.1)\n",
            "Requirement already satisfied: python-dateutil>=2.7.3 in /usr/local/lib/python3.7/dist-packages (from pandas->datasets) (2.8.2)\n",
            "Requirement already satisfied: six>=1.5 in /usr/local/lib/python3.7/dist-packages (from python-dateutil>=2.7.3->pandas->datasets) (1.15.0)\n",
            "Installing collected packages: multidict, frozenlist, yarl, urllib3, asynctest, async-timeout, aiosignal, pyyaml, fsspec, aiohttp, xxhash, responses, huggingface-hub, datasets\n",
            "  Attempting uninstall: urllib3\n",
            "    Found existing installation: urllib3 1.24.3\n",
            "    Uninstalling urllib3-1.24.3:\n",
            "      Successfully uninstalled urllib3-1.24.3\n",
            "  Attempting uninstall: pyyaml\n",
            "    Found existing installation: PyYAML 3.13\n",
            "    Uninstalling PyYAML-3.13:\n",
            "      Successfully uninstalled PyYAML-3.13\n",
            "\u001b[31mERROR: pip's dependency resolver does not currently take into account all the packages that are installed. This behaviour is the source of the following dependency conflicts.\n",
            "datascience 0.10.6 requires folium==0.2.1, but you have folium 0.8.3 which is incompatible.\u001b[0m\n",
            "Successfully installed aiohttp-3.8.1 aiosignal-1.2.0 async-timeout-4.0.2 asynctest-0.13.0 datasets-2.3.2 frozenlist-1.3.0 fsspec-2022.5.0 huggingface-hub-0.8.1 multidict-6.0.2 pyyaml-6.0 responses-0.18.0 urllib3-1.25.11 xxhash-3.0.0 yarl-1.7.2\n"
          ]
        }
      ]
    },
    {
      "cell_type": "code",
      "source": [
        "from datasets import load_dataset_builder"
      ],
      "metadata": {
        "id": "U9lURVl0PFUk"
      },
      "execution_count": 2,
      "outputs": []
    },
    {
      "cell_type": "code",
      "source": [
        "ds_builder = load_dataset_builder(\"imdb\")"
      ],
      "metadata": {
        "id": "yF90jsROf32P",
        "colab": {
          "base_uri": "https://localhost:8080/",
          "height": 81,
          "referenced_widgets": [
            "91790d539d7f4aeeb8360ceaca2122da",
            "73c7199fc5aa479a9c9ee3a279a88e84",
            "bd7099c9a7b54d09bd73571bbf24328b",
            "342ed1949ab84c828d91b68af5293ade",
            "720b1f0b2cf640f880e173808474fe0b",
            "0517e1bfb08c4e2ea2e2354c91fdbbd0",
            "4d5074362fdb465badcaefa443ffc88e",
            "b84a50a7bfcb4b388c3c47e2eadaf7e8",
            "e455215296884985ba30323773ee4de3",
            "095b57de3fdf498abaea3d337b8529c0",
            "f90cb3d9e90a4bf48a8a34997296c3cb",
            "94a50af9ae944bbf8c5f88258463f821",
            "b58655788b4b47c9a375e2b6c3cc5c1d",
            "81c634a455eb43d7b146445dad0e7a41",
            "2485aaf0aff34d21a2d17d11dd78d910",
            "f94849b14f47442c87490f37f9ed5bde",
            "8c42f0cbbfd34c50b6828d12d49345b2",
            "951681a8dfb7441ea63ae90a2f551c13",
            "0d4496889cde47a6a169a03c101c63a2",
            "898f3c37f9a24c0eb890c841733d5f89",
            "d835cdef527f417eac31a68805a9b715",
            "63967eca1d794fdc98dde8e913f1f080"
          ]
        },
        "outputId": "b5c7685d-d2bd-4565-a05c-7fd49636d77b"
      },
      "execution_count": 3,
      "outputs": [
        {
          "output_type": "display_data",
          "data": {
            "text/plain": [
              "Downloading builder script:   0%|          | 0.00/1.79k [00:00<?, ?B/s]"
            ],
            "application/vnd.jupyter.widget-view+json": {
              "version_major": 2,
              "version_minor": 0,
              "model_id": "91790d539d7f4aeeb8360ceaca2122da"
            }
          },
          "metadata": {}
        },
        {
          "output_type": "display_data",
          "data": {
            "text/plain": [
              "Downloading metadata:   0%|          | 0.00/1.05k [00:00<?, ?B/s]"
            ],
            "application/vnd.jupyter.widget-view+json": {
              "version_major": 2,
              "version_minor": 0,
              "model_id": "94a50af9ae944bbf8c5f88258463f821"
            }
          },
          "metadata": {}
        }
      ]
    },
    {
      "cell_type": "code",
      "source": [
        "# Inspect dataset description\n",
        "ds_builder.info.description"
      ],
      "metadata": {
        "colab": {
          "base_uri": "https://localhost:8080/",
          "height": 50
        },
        "id": "mrSyAzlkf94S",
        "outputId": "61491fec-531f-48a7-803e-5279f6a36b75"
      },
      "execution_count": 4,
      "outputs": [
        {
          "output_type": "execute_result",
          "data": {
            "text/plain": [
              "'Large Movie Review Dataset.\\nThis is a dataset for binary sentiment classification containing substantially more data than previous benchmark datasets. We provide a set of 25,000 highly polar movie reviews for training, and 25,000 for testing. There is additional unlabeled data for use as well.'"
            ],
            "application/vnd.google.colaboratory.intrinsic+json": {
              "type": "string"
            }
          },
          "metadata": {},
          "execution_count": 4
        }
      ]
    },
    {
      "cell_type": "code",
      "source": [
        "# Inspect dataset features\n",
        "ds_builder.info.features"
      ],
      "metadata": {
        "colab": {
          "base_uri": "https://localhost:8080/"
        },
        "id": "WNvYWM9jgLWX",
        "outputId": "f00d8170-8ab0-4058-f27e-e102d38ecf81"
      },
      "execution_count": 5,
      "outputs": [
        {
          "output_type": "execute_result",
          "data": {
            "text/plain": [
              "{'label': ClassLabel(num_classes=2, names=['neg', 'pos'], id=None),\n",
              " 'text': Value(dtype='string', id=None)}"
            ]
          },
          "metadata": {},
          "execution_count": 5
        }
      ]
    },
    {
      "cell_type": "code",
      "source": [
        "from datasets import get_dataset_split_names"
      ],
      "metadata": {
        "id": "5I1WzwGcgeTM"
      },
      "execution_count": 6,
      "outputs": []
    },
    {
      "cell_type": "code",
      "source": [
        "get_dataset_split_names(\"imdb\")"
      ],
      "metadata": {
        "colab": {
          "base_uri": "https://localhost:8080/"
        },
        "id": "dz5nOdzatTQb",
        "outputId": "e2b414d3-d7b5-47a8-ecb7-bf8555d3040b"
      },
      "execution_count": 7,
      "outputs": [
        {
          "output_type": "execute_result",
          "data": {
            "text/plain": [
              "['train', 'test', 'unsupervised']"
            ]
          },
          "metadata": {},
          "execution_count": 7
        }
      ]
    },
    {
      "cell_type": "code",
      "source": [
        "from datasets import load_dataset"
      ],
      "metadata": {
        "id": "SlHpU73ygW3g"
      },
      "execution_count": 8,
      "outputs": []
    },
    {
      "cell_type": "code",
      "source": [
        "dataset = load_dataset(\"imdb\")"
      ],
      "metadata": {
        "colab": {
          "base_uri": "https://localhost:8080/",
          "height": 134,
          "referenced_widgets": [
            "235f346807e146f6a583e6e22cf9b282",
            "c3c8c6677e4e4ba88ab30c287f3e5e57",
            "eb2ac58e22eb4a96afcb972564318dc8",
            "9d6201a4d8ff41beb3789fcfc78ccbb6",
            "751139b4158b4a07bbf95b3921f75ec3",
            "4c7acce7bcc141f9a24f31116c143373",
            "9caf6ae270a4445a8d9e81ccf80d9ce8",
            "dc12cc3b5b0b4b14be8f02f44900e94e",
            "2cc9d4e795a84045936c1994e64bc602",
            "6ee7280985234319b97321f1681856c2",
            "7d145e416b694dc7aea39f2f62f9388c",
            "7c8bc6b5ee8f43e18fab742ad8ac99d5",
            "206b91952d76422daf65a66f8db2d432",
            "36c3607b559242219e003b12ea1f4938",
            "1d6791c8f9974ac5af16ced9dd2dcc46",
            "e9b16e60fe90471eb875d722fd1bf9d3",
            "a3c8fa8edc7240399925d76a2b629f2e",
            "f8094761fd674a528bded04b9b2fdb51",
            "45c51249189849538a21f30e6f133e35",
            "0508a196353a4832847cbd1696b4a318",
            "13d5ce56aed74d808732c1bfb223b532",
            "1de063ec6c6d4c0ba365d02d78f7d7f8",
            "32e3523542c04f5d854846739ccdea10",
            "3385dd15af2746e9ae73ceaf20ae4e0e",
            "65b2cdc060414491b3d98945343caf1e",
            "54ab54894a3e4676aa1bc81f700ad9d2",
            "933118c0d4074e2699a4c22985dfb2cd",
            "5526dbafbcda48faaeb62b1d65594cc6",
            "1ad35bc02a3d4b56aa4df97fe655314f",
            "b592999f90c34140ad6b6b5ffc0f4338",
            "f7fb8e508d50430ea6db669d14eb1fe0",
            "60f4fb5336584d17983fbff5b29cac88",
            "025aa2f4914744ae9feaad63c6c5ca70",
            "3b79fa9500e34246b6b474460a75e439",
            "8bd5167421a4415a8532e6c55eb9d49b",
            "86a64828cb1f47cd892ce9ed4211d867",
            "d1ae26c702a84140912c4dda6c066073",
            "ef1300888d2e40cfb45f635d8c2422b1",
            "00189bbc505f4a0383ca8336e0a5b9f3",
            "4aad1e3d1cef41c3972fe77a0ef07773",
            "bf417072fef24400b1b08b225711e946",
            "148c34e4b0b14982aaa908d506918414",
            "9007d6a225154b789d3baadb1d0870d7",
            "855a0786962d4e96bb5bbddf7646f80e",
            "59002ca620c047c385bd88c408fe06a3",
            "174d76849240414b8deaf527004db157",
            "fa4c1251fe74461c961479a8450f7c0e",
            "9f5971ca179a4765b114cf0ed764bd30",
            "f9727000ce30415d9e5090948c60954e",
            "c28d8b7414774f4ea32fb4091731bd3a",
            "e201b75a553542498a8d624c108228ef",
            "ff43375af5034357bbfc79291fa3c037",
            "e087517aeab04460b1fad86003262b18",
            "5470586c008947408e965db24aa266ec",
            "78574c3f37544aeaa4e1c1b913173145"
          ]
        },
        "id": "ikFndn_ngZlw",
        "outputId": "7508c33b-f195-4d32-d52e-7c14ad993c56"
      },
      "execution_count": 9,
      "outputs": [
        {
          "output_type": "stream",
          "name": "stdout",
          "text": [
            "Downloading and preparing dataset imdb/plain_text (download: 80.23 MiB, generated: 127.02 MiB, post-processed: Unknown size, total: 207.25 MiB) to /root/.cache/huggingface/datasets/imdb/plain_text/1.0.0/2fdd8b9bcadd6e7055e742a706876ba43f19faee861df134affd7a3f60fc38a1...\n"
          ]
        },
        {
          "output_type": "display_data",
          "data": {
            "text/plain": [
              "Downloading data:   0%|          | 0.00/84.1M [00:00<?, ?B/s]"
            ],
            "application/vnd.jupyter.widget-view+json": {
              "version_major": 2,
              "version_minor": 0,
              "model_id": "235f346807e146f6a583e6e22cf9b282"
            }
          },
          "metadata": {}
        },
        {
          "output_type": "display_data",
          "data": {
            "text/plain": [
              "Generating train split:   0%|          | 0/25000 [00:00<?, ? examples/s]"
            ],
            "application/vnd.jupyter.widget-view+json": {
              "version_major": 2,
              "version_minor": 0,
              "model_id": "7c8bc6b5ee8f43e18fab742ad8ac99d5"
            }
          },
          "metadata": {}
        },
        {
          "output_type": "display_data",
          "data": {
            "text/plain": [
              "Generating test split:   0%|          | 0/25000 [00:00<?, ? examples/s]"
            ],
            "application/vnd.jupyter.widget-view+json": {
              "version_major": 2,
              "version_minor": 0,
              "model_id": "32e3523542c04f5d854846739ccdea10"
            }
          },
          "metadata": {}
        },
        {
          "output_type": "display_data",
          "data": {
            "text/plain": [
              "Generating unsupervised split:   0%|          | 0/50000 [00:00<?, ? examples/s]"
            ],
            "application/vnd.jupyter.widget-view+json": {
              "version_major": 2,
              "version_minor": 0,
              "model_id": "3b79fa9500e34246b6b474460a75e439"
            }
          },
          "metadata": {}
        },
        {
          "output_type": "stream",
          "name": "stdout",
          "text": [
            "Dataset imdb downloaded and prepared to /root/.cache/huggingface/datasets/imdb/plain_text/1.0.0/2fdd8b9bcadd6e7055e742a706876ba43f19faee861df134affd7a3f60fc38a1. Subsequent calls will reuse this data.\n"
          ]
        },
        {
          "output_type": "display_data",
          "data": {
            "text/plain": [
              "  0%|          | 0/3 [00:00<?, ?it/s]"
            ],
            "application/vnd.jupyter.widget-view+json": {
              "version_major": 2,
              "version_minor": 0,
              "model_id": "59002ca620c047c385bd88c408fe06a3"
            }
          },
          "metadata": {}
        }
      ]
    },
    {
      "cell_type": "code",
      "source": [
        "dataset"
      ],
      "metadata": {
        "id": "qZM8l8FNt0LS",
        "colab": {
          "base_uri": "https://localhost:8080/"
        },
        "outputId": "8fa362b3-91b1-4745-83e9-1b01b5ea9dcc"
      },
      "execution_count": 10,
      "outputs": [
        {
          "output_type": "execute_result",
          "data": {
            "text/plain": [
              "DatasetDict({\n",
              "    train: Dataset({\n",
              "        features: ['text', 'label'],\n",
              "        num_rows: 25000\n",
              "    })\n",
              "    test: Dataset({\n",
              "        features: ['text', 'label'],\n",
              "        num_rows: 25000\n",
              "    })\n",
              "    unsupervised: Dataset({\n",
              "        features: ['text', 'label'],\n",
              "        num_rows: 50000\n",
              "    })\n",
              "})"
            ]
          },
          "metadata": {},
          "execution_count": 10
        }
      ]
    },
    {
      "cell_type": "code",
      "execution_count": 11,
      "metadata": {
        "id": "37tBgyvm6sAK",
        "colab": {
          "base_uri": "https://localhost:8080/"
        },
        "outputId": "f97f0e37-708c-4125-e7be-0689426c7daf"
      },
      "outputs": [
        {
          "output_type": "stream",
          "name": "stderr",
          "text": [
            "Reusing dataset imdb (/root/.cache/huggingface/datasets/imdb/plain_text/1.0.0/2fdd8b9bcadd6e7055e742a706876ba43f19faee861df134affd7a3f60fc38a1)\n",
            "Reusing dataset imdb (/root/.cache/huggingface/datasets/imdb/plain_text/1.0.0/2fdd8b9bcadd6e7055e742a706876ba43f19faee861df134affd7a3f60fc38a1)\n"
          ]
        }
      ],
      "source": [
        "imdb_train = load_dataset('imdb', split='train')\n",
        "imdb_test = load_dataset('imdb', split='test')"
      ]
    },
    {
      "cell_type": "code",
      "source": [
        "from collections import Counter"
      ],
      "metadata": {
        "id": "ZtKADqfqOAzt"
      },
      "execution_count": 12,
      "outputs": []
    },
    {
      "cell_type": "code",
      "source": [
        "Counter(imdb_train['label'])"
      ],
      "metadata": {
        "id": "H-5DKKjCPVTO",
        "colab": {
          "base_uri": "https://localhost:8080/"
        },
        "outputId": "699df368-69a6-4b95-ee7e-13c31a406c92"
      },
      "execution_count": 13,
      "outputs": [
        {
          "output_type": "execute_result",
          "data": {
            "text/plain": [
              "Counter({0: 12500, 1: 12500})"
            ]
          },
          "metadata": {},
          "execution_count": 13
        }
      ]
    },
    {
      "cell_type": "code",
      "source": [
        "Counter(imdb_test['label'])"
      ],
      "metadata": {
        "id": "4jO7YLtCPgT9",
        "colab": {
          "base_uri": "https://localhost:8080/"
        },
        "outputId": "073d082c-3c72-4d8b-dbc5-f77cbed3a241"
      },
      "execution_count": 14,
      "outputs": [
        {
          "output_type": "execute_result",
          "data": {
            "text/plain": [
              "Counter({0: 12500, 1: 12500})"
            ]
          },
          "metadata": {},
          "execution_count": 14
        }
      ]
    },
    {
      "cell_type": "markdown",
      "source": [
        "\n",
        "\n",
        "---\n",
        "\n"
      ],
      "metadata": {
        "id": "Bv3kZieKPw1s"
      }
    },
    {
      "cell_type": "markdown",
      "source": [
        "## Naive Bayes classifier"
      ],
      "metadata": {
        "id": "TbB2cKjKSH5w"
      }
    },
    {
      "cell_type": "code",
      "source": [
        "import numpy as np"
      ],
      "metadata": {
        "id": "UZ8ItZ1e2eK7"
      },
      "execution_count": 15,
      "outputs": []
    },
    {
      "cell_type": "code",
      "source": [
        "def compute_occurences(vocabulary, documents):\n",
        "  \n",
        "  # create a vocabulary dictionary where the elements are initialise to 0 \n",
        "  occurences = dict.fromkeys(vocabulary, 0)\n",
        "\n",
        "  for text in documents:\n",
        "    for current_word in text.split():\n",
        "      occurences[current_word] +=1\n",
        "\n",
        "  return occurences"
      ],
      "metadata": {
        "id": "fulFUbnQkeFp"
      },
      "execution_count": 16,
      "outputs": []
    },
    {
      "cell_type": "code",
      "source": [
        "def compute_class_log_likelihood(log_likelihood, vocabulary, class_label, occurences):\n",
        "  '''\n",
        "  Computes the log likelihoods of words in the documents by class.\n",
        "\n",
        "  Parameters\n",
        "  ----------\n",
        "  log_likelihood: the current log likelihood vocabulary dictionary \n",
        "  vocabulary: the vocabulary of the full corpus\n",
        "  class_label: the label of the class for whom the likelihood will be calculate\n",
        "  occurences: list of words occurence of a specific class\n",
        "\n",
        "  Returns\n",
        "  -------\n",
        "  dictionary with words as keys and log likelihood as values\n",
        "  '''\n",
        "\n",
        "  denominator = sum([occurences[word] + 1 for word in vocabulary])\n",
        "\n",
        "  for word in occurences:\n",
        "    log_likelihood[word][class_label] = math.log((occurences[word] + 1) / denominator)\n",
        "\n",
        "  return log_likelihood"
      ],
      "metadata": {
        "id": "YBqEji8kHAns"
      },
      "execution_count": 17,
      "outputs": []
    },
    {
      "cell_type": "code",
      "source": [
        "import math\n",
        "from operator import countOf\n",
        "\n",
        "\n",
        "def train_naive_bayes(documents, classes):\n",
        "  log_prior = {}\n",
        "  vocabulary = set()\n",
        "  log_likelihood = {}\n",
        "  \n",
        "  [vocabulary.update(document['text'].split()) for index, document in documents.iterrows()]\n",
        "  num_documents = len(documents['text'])\n",
        "  \n",
        "  log_likelihood = { word : {} for word in vocabulary }\n",
        "\n",
        "  for class_label in classes:\n",
        "    num_documents_of_class = np.count_nonzero(np.array(documents['label']) == class_label)\n",
        "    log_prior[class_label] = math.log(num_documents_of_class / num_documents)\n",
        "\n",
        "    big_document = [document['text'] for index, document in documents.iterrows() if document['label'] == class_label]\n",
        "    occurences = compute_occurences(vocabulary, big_document)\n",
        "\n",
        "    log_likelihood = compute_class_log_likelihood(log_likelihood, vocabulary, class_label, occurences)\n",
        "\n",
        "  return log_prior, log_likelihood, vocabulary"
      ],
      "metadata": {
        "id": "hQ-2b5TAPngx"
      },
      "execution_count": 18,
      "outputs": []
    },
    {
      "cell_type": "code",
      "source": [
        "def test_naive_bayes(test_document, logprior, loglikelihood, classes, vocabulary):\n",
        "\n",
        "  summation = []\n",
        "\n",
        "  for class_label in classes:\n",
        "    summation.append(logprior[class_label])\n",
        "    \n",
        "    for word in test_document.split():\n",
        "      if word in vocabulary:\n",
        "        summation[class_label] += loglikelihood[word][class_label] \n",
        "  \n",
        "  return np.argmax(summation)"
      ],
      "metadata": {
        "id": "UN4UQDo2Pnao"
      },
      "execution_count": 19,
      "outputs": []
    },
    {
      "cell_type": "markdown",
      "source": [
        "### Pretreatment"
      ],
      "metadata": {
        "id": "ZVmtcvcTkN44"
      }
    },
    {
      "cell_type": "code",
      "source": [
        "from string import punctuation\n",
        "import re\n",
        "from nltk.stem.wordnet import WordNetLemmatizer\n",
        "from nltk.tokenize import word_tokenize"
      ],
      "metadata": {
        "id": "8JUPqeOpue0q"
      },
      "execution_count": 20,
      "outputs": []
    },
    {
      "cell_type": "code",
      "source": [
        "# For the Lemmatizer \n",
        "import nltk\n",
        "nltk.download('wordnet')\n",
        "nltk.download('punkt')\n",
        "nltk.download('omw-1.4')"
      ],
      "metadata": {
        "id": "fKGZKDGC74AF",
        "colab": {
          "base_uri": "https://localhost:8080/"
        },
        "outputId": "fcca1a09-9c4a-4923-db6a-db0099da0b31"
      },
      "execution_count": 21,
      "outputs": [
        {
          "output_type": "stream",
          "name": "stderr",
          "text": [
            "[nltk_data] Downloading package wordnet to /root/nltk_data...\n",
            "[nltk_data] Downloading package punkt to /root/nltk_data...\n",
            "[nltk_data]   Unzipping tokenizers/punkt.zip.\n",
            "[nltk_data] Downloading package omw-1.4 to /root/nltk_data...\n"
          ]
        },
        {
          "output_type": "execute_result",
          "data": {
            "text/plain": [
              "True"
            ]
          },
          "metadata": {},
          "execution_count": 21
        }
      ]
    },
    {
      "cell_type": "code",
      "source": [
        "def pre_treatment(text):\n",
        "  new_text = text.lower()\n",
        "  new_text = new_text.translate(str.maketrans('', '', punctuation))\n",
        "  \n",
        "  #Other pretreatments\n",
        "  new_text = re.sub(r'[^a-z]+', ' ', new_text)\n",
        "  new_text = re.sub(r'\\b\\w\\b', ' ', new_text)\n",
        "  new_text = re.sub(r'\\b\\w\\w\\b', ' ', new_text)\n",
        "  word_tokens = word_tokenize(new_text)\n",
        "  lemmatizer = WordNetLemmatizer()\n",
        "\n",
        "  return ' '.join([lemmatizer.lemmatize(w) for w in word_tokens])"
      ],
      "metadata": {
        "id": "guNwZBQfPnV4"
      },
      "execution_count": 22,
      "outputs": []
    },
    {
      "cell_type": "code",
      "source": [
        "imdb_train['text'][0]"
      ],
      "metadata": {
        "colab": {
          "base_uri": "https://localhost:8080/",
          "height": 100
        },
        "id": "im62em9N86T8",
        "outputId": "1848affb-08df-403f-e1f0-b321a40bb5db"
      },
      "execution_count": 23,
      "outputs": [
        {
          "output_type": "execute_result",
          "data": {
            "text/plain": [
              "'I rented I AM CURIOUS-YELLOW from my video store because of all the controversy that surrounded it when it was first released in 1967. I also heard that at first it was seized by U.S. customs if it ever tried to enter this country, therefore being a fan of films considered \"controversial\" I really had to see this for myself.<br /><br />The plot is centered around a young Swedish drama student named Lena who wants to learn everything she can about life. In particular she wants to focus her attentions to making some sort of documentary on what the average Swede thought about certain political issues such as the Vietnam War and race issues in the United States. In between asking politicians and ordinary denizens of Stockholm about their opinions on politics, she has sex with her drama teacher, classmates, and married men.<br /><br />What kills me about I AM CURIOUS-YELLOW is that 40 years ago, this was considered pornographic. Really, the sex and nudity scenes are few and far between, even then it\\'s not shot like some cheaply made porno. While my countrymen mind find it shocking, in reality sex and nudity are a major staple in Swedish cinema. Even Ingmar Bergman, arguably their answer to good old boy John Ford, had sex scenes in his films.<br /><br />I do commend the filmmakers for the fact that any sex shown in the film is shown for artistic purposes rather than just to shock people and make money to be shown in pornographic theaters in America. I AM CURIOUS-YELLOW is a good film for anyone wanting to study the meat and potatoes (no pun intended) of Swedish cinema. But really, this film doesn\\'t have much of a plot.'"
            ],
            "application/vnd.google.colaboratory.intrinsic+json": {
              "type": "string"
            }
          },
          "metadata": {},
          "execution_count": 23
        }
      ]
    },
    {
      "cell_type": "code",
      "source": [
        "pre_treated_text = [pre_treatment(text) for text in imdb_train['text']]"
      ],
      "metadata": {
        "id": "ijn9wMxjPnQo"
      },
      "execution_count": 24,
      "outputs": []
    },
    {
      "cell_type": "code",
      "source": [
        "pre_treated_text[0]"
      ],
      "metadata": {
        "colab": {
          "base_uri": "https://localhost:8080/",
          "height": 100
        },
        "id": "CoBDTGKY8e_O",
        "outputId": "ef2a620c-ce97-4e8a-bf9c-dbebcf13c68a"
      },
      "execution_count": 25,
      "outputs": [
        {
          "output_type": "execute_result",
          "data": {
            "text/plain": [
              "'rented curiousyellow from video store because all the controversy that surrounded when wa first released also heard that first wa seized custom ever tried enter this country therefore being fan film considered controversial really had see this for myselfbr the plot centered around young swedish drama student named lena who want learn everything she can about life particular she want focus her attention making some sort documentary what the average swede thought about certain political issue such the vietnam war and race issue the united state between asking politician and ordinary denizen stockholm about their opinion politics she ha sex with her drama teacher classmate and married menbr what kill about curiousyellow that year ago this wa considered pornographic really the sex and nudity scene are few and far between even then it not shot like some cheaply made porno while countryman mind find shocking reality sex and nudity are major staple swedish cinema even ingmar bergman arguably their answer good old boy john ford had sex scene his filmsbr commend the filmmaker for the fact that any sex shown the film shown for artistic purpose rather than just shock people and make money shown pornographic theater america curiousyellow good film for anyone wanting study the meat and potato pun intended swedish cinema but really this film doesnt have much plot'"
            ],
            "application/vnd.google.colaboratory.intrinsic+json": {
              "type": "string"
            }
          },
          "metadata": {},
          "execution_count": 25
        }
      ]
    },
    {
      "cell_type": "markdown",
      "source": [
        "### Naive Bayes classifier on the training set"
      ],
      "metadata": {
        "id": "hG5iNINqzD0j"
      }
    },
    {
      "cell_type": "markdown",
      "source": [
        "#### Converte to a dataframe"
      ],
      "metadata": {
        "id": "RW3ELXA7jLUY"
      }
    },
    {
      "cell_type": "code",
      "source": [
        "import pandas as pd"
      ],
      "metadata": {
        "id": "huoX0vLuJiUr"
      },
      "execution_count": 26,
      "outputs": []
    },
    {
      "cell_type": "code",
      "source": [
        "data_imdb_train = {'text': pre_treated_text, 'label': imdb_train['label']}\n",
        "df_imdb_train = pd.DataFrame(data = data_imdb_train)"
      ],
      "metadata": {
        "id": "oZJxLbkx9CoL"
      },
      "execution_count": 27,
      "outputs": []
    },
    {
      "cell_type": "code",
      "source": [
        "df_imdb_train.head()"
      ],
      "metadata": {
        "colab": {
          "base_uri": "https://localhost:8080/",
          "height": 201
        },
        "id": "58a3Z57MjqQX",
        "outputId": "6b936c53-0d19-4ac1-89b0-c858fc856944"
      },
      "execution_count": 28,
      "outputs": [
        {
          "output_type": "execute_result",
          "data": {
            "text/plain": [
              "                                                text  label\n",
              "0  rented curiousyellow from video store because ...      0\n",
              "1  curious yellow risible and pretentious steamin...      0\n",
              "2  only avoid making this type film the future th...      0\n",
              "3  this film wa probably inspired godard masculin...      0\n",
              "4  brotherafter hearing about this ridiculous fil...      0"
            ],
            "text/html": [
              "\n",
              "  <div id=\"df-dc3bd352-6858-4b15-a73f-22a6a6d9d6c4\">\n",
              "    <div class=\"colab-df-container\">\n",
              "      <div>\n",
              "<style scoped>\n",
              "    .dataframe tbody tr th:only-of-type {\n",
              "        vertical-align: middle;\n",
              "    }\n",
              "\n",
              "    .dataframe tbody tr th {\n",
              "        vertical-align: top;\n",
              "    }\n",
              "\n",
              "    .dataframe thead th {\n",
              "        text-align: right;\n",
              "    }\n",
              "</style>\n",
              "<table border=\"1\" class=\"dataframe\">\n",
              "  <thead>\n",
              "    <tr style=\"text-align: right;\">\n",
              "      <th></th>\n",
              "      <th>text</th>\n",
              "      <th>label</th>\n",
              "    </tr>\n",
              "  </thead>\n",
              "  <tbody>\n",
              "    <tr>\n",
              "      <th>0</th>\n",
              "      <td>rented curiousyellow from video store because ...</td>\n",
              "      <td>0</td>\n",
              "    </tr>\n",
              "    <tr>\n",
              "      <th>1</th>\n",
              "      <td>curious yellow risible and pretentious steamin...</td>\n",
              "      <td>0</td>\n",
              "    </tr>\n",
              "    <tr>\n",
              "      <th>2</th>\n",
              "      <td>only avoid making this type film the future th...</td>\n",
              "      <td>0</td>\n",
              "    </tr>\n",
              "    <tr>\n",
              "      <th>3</th>\n",
              "      <td>this film wa probably inspired godard masculin...</td>\n",
              "      <td>0</td>\n",
              "    </tr>\n",
              "    <tr>\n",
              "      <th>4</th>\n",
              "      <td>brotherafter hearing about this ridiculous fil...</td>\n",
              "      <td>0</td>\n",
              "    </tr>\n",
              "  </tbody>\n",
              "</table>\n",
              "</div>\n",
              "      <button class=\"colab-df-convert\" onclick=\"convertToInteractive('df-dc3bd352-6858-4b15-a73f-22a6a6d9d6c4')\"\n",
              "              title=\"Convert this dataframe to an interactive table.\"\n",
              "              style=\"display:none;\">\n",
              "        \n",
              "  <svg xmlns=\"http://www.w3.org/2000/svg\" height=\"24px\"viewBox=\"0 0 24 24\"\n",
              "       width=\"24px\">\n",
              "    <path d=\"M0 0h24v24H0V0z\" fill=\"none\"/>\n",
              "    <path d=\"M18.56 5.44l.94 2.06.94-2.06 2.06-.94-2.06-.94-.94-2.06-.94 2.06-2.06.94zm-11 1L8.5 8.5l.94-2.06 2.06-.94-2.06-.94L8.5 2.5l-.94 2.06-2.06.94zm10 10l.94 2.06.94-2.06 2.06-.94-2.06-.94-.94-2.06-.94 2.06-2.06.94z\"/><path d=\"M17.41 7.96l-1.37-1.37c-.4-.4-.92-.59-1.43-.59-.52 0-1.04.2-1.43.59L10.3 9.45l-7.72 7.72c-.78.78-.78 2.05 0 2.83L4 21.41c.39.39.9.59 1.41.59.51 0 1.02-.2 1.41-.59l7.78-7.78 2.81-2.81c.8-.78.8-2.07 0-2.86zM5.41 20L4 18.59l7.72-7.72 1.47 1.35L5.41 20z\"/>\n",
              "  </svg>\n",
              "      </button>\n",
              "      \n",
              "  <style>\n",
              "    .colab-df-container {\n",
              "      display:flex;\n",
              "      flex-wrap:wrap;\n",
              "      gap: 12px;\n",
              "    }\n",
              "\n",
              "    .colab-df-convert {\n",
              "      background-color: #E8F0FE;\n",
              "      border: none;\n",
              "      border-radius: 50%;\n",
              "      cursor: pointer;\n",
              "      display: none;\n",
              "      fill: #1967D2;\n",
              "      height: 32px;\n",
              "      padding: 0 0 0 0;\n",
              "      width: 32px;\n",
              "    }\n",
              "\n",
              "    .colab-df-convert:hover {\n",
              "      background-color: #E2EBFA;\n",
              "      box-shadow: 0px 1px 2px rgba(60, 64, 67, 0.3), 0px 1px 3px 1px rgba(60, 64, 67, 0.15);\n",
              "      fill: #174EA6;\n",
              "    }\n",
              "\n",
              "    [theme=dark] .colab-df-convert {\n",
              "      background-color: #3B4455;\n",
              "      fill: #D2E3FC;\n",
              "    }\n",
              "\n",
              "    [theme=dark] .colab-df-convert:hover {\n",
              "      background-color: #434B5C;\n",
              "      box-shadow: 0px 1px 3px 1px rgba(0, 0, 0, 0.15);\n",
              "      filter: drop-shadow(0px 1px 2px rgba(0, 0, 0, 0.3));\n",
              "      fill: #FFFFFF;\n",
              "    }\n",
              "  </style>\n",
              "\n",
              "      <script>\n",
              "        const buttonEl =\n",
              "          document.querySelector('#df-dc3bd352-6858-4b15-a73f-22a6a6d9d6c4 button.colab-df-convert');\n",
              "        buttonEl.style.display =\n",
              "          google.colab.kernel.accessAllowed ? 'block' : 'none';\n",
              "\n",
              "        async function convertToInteractive(key) {\n",
              "          const element = document.querySelector('#df-dc3bd352-6858-4b15-a73f-22a6a6d9d6c4');\n",
              "          const dataTable =\n",
              "            await google.colab.kernel.invokeFunction('convertToInteractive',\n",
              "                                                     [key], {});\n",
              "          if (!dataTable) return;\n",
              "\n",
              "          const docLinkHtml = 'Like what you see? Visit the ' +\n",
              "            '<a target=\"_blank\" href=https://colab.research.google.com/notebooks/data_table.ipynb>data table notebook</a>'\n",
              "            + ' to learn more about interactive tables.';\n",
              "          element.innerHTML = '';\n",
              "          dataTable['output_type'] = 'display_data';\n",
              "          await google.colab.output.renderOutput(dataTable, element);\n",
              "          const docLink = document.createElement('div');\n",
              "          docLink.innerHTML = docLinkHtml;\n",
              "          element.appendChild(docLink);\n",
              "        }\n",
              "      </script>\n",
              "    </div>\n",
              "  </div>\n",
              "  "
            ]
          },
          "metadata": {},
          "execution_count": 28
        }
      ]
    },
    {
      "cell_type": "markdown",
      "source": [
        "#### Train the imdb"
      ],
      "metadata": {
        "id": "gwtCIOZkJnXw"
      }
    },
    {
      "cell_type": "code",
      "source": [
        "classes = [0, 1]"
      ],
      "metadata": {
        "id": "_REelwAdh4JE"
      },
      "execution_count": 29,
      "outputs": []
    },
    {
      "cell_type": "code",
      "source": [
        "log_prior, log_likelihood, vocabulary = train_naive_bayes(df_imdb_train, classes)"
      ],
      "metadata": {
        "id": "_49SP39XzTYz"
      },
      "execution_count": 30,
      "outputs": []
    },
    {
      "cell_type": "code",
      "source": [
        "log_prior, log_likelihood"
      ],
      "metadata": {
        "colab": {
          "base_uri": "https://localhost:8080/"
        },
        "id": "2fyq_7sskcC6",
        "outputId": "c21d37a3-2ade-4ae9-ea3d-67fff7d6efce"
      },
      "execution_count": 31,
      "outputs": [
        {
          "output_type": "execute_result",
          "data": {
            "text/plain": [
              "({0: -0.6931471805599453, 1: -0.6931471805599453},\n",
              " {'oval': {0: -13.983024267752858, 1: -13.604299283042069},\n",
              "  'whalewatching': {0: -13.983024267752858, 1: -14.70291157171018},\n",
              "  'restricted': {0: -12.373586355318757, 1: -11.707179298156188},\n",
              "  'manned': {0: -13.577559159644695, 1: -13.093473659276079},\n",
              "  'driveins': {0: -13.289877087192913, 1: -13.604299283042069},\n",
              "  'harwood': {0: -13.577559159644695, 1: -14.70291157171018},\n",
              "  'cogently': {0: -13.983024267752858, 1: -14.70291157171018},\n",
              "  'garbage': {0: -8.792849059824524, 1: -10.498218952319213},\n",
              "  'carrienot': {0: -13.983024267752858, 1: -14.70291157171018},\n",
              "  'genocidal': {0: -13.289877087192913, 1: -14.009764391150235},\n",
              "  'mendes': {0: -13.289877087192913, 1: -11.484035746841979},\n",
              "  'unhealthy': {0: -12.373586355318757, 1: -12.623470030030344},\n",
              "  'postmodern': {0: -11.631649010589381, 1: -12.063854242094921},\n",
              "  'snapshotters': {0: -13.983024267752858, 1: -14.70291157171018},\n",
              "  'burgermister': {0: -14.676171448312804, 1: -14.009764391150235},\n",
              "  'scepticalbr': {0: -14.676171448312804, 1: -14.009764391150235},\n",
              "  'mostlyadults': {0: -14.676171448312804, 1: -14.009764391150235},\n",
              "  'interposed': {0: -13.983024267752858, 1: -13.604299283042069},\n",
              "  'anns': {0: -12.88441197908475, 1: -11.812539813814015},\n",
              "  'mirrorless': {0: -13.983024267752858, 1: -14.70291157171018},\n",
              "  'michalis': {0: -14.676171448312804, 1: -13.604299283042069},\n",
              "  'gondors': {0: -14.676171448312804, 1: -14.009764391150235},\n",
              "  'characterises': {0: -14.676171448312804, 1: -14.009764391150235},\n",
              "  'castingbr': {0: -13.577559159644695, 1: -13.093473659276079},\n",
              "  'avantegardistic': {0: -14.676171448312804, 1: -14.009764391150235},\n",
              "  'stillfaithful': {0: -14.676171448312804, 1: -14.009764391150235},\n",
              "  'highflying': {0: -13.983024267752858, 1: -13.093473659276079},\n",
              "  'penned': {0: -11.785799690416638, 1: -11.335615741723705},\n",
              "  'surprisebr': {0: -12.596729906632968, 1: -12.218004921922178},\n",
              "  'aptness': {0: -14.676171448312804, 1: -14.009764391150235},\n",
              "  'welltrod': {0: -14.676171448312804, 1: -14.009764391150235},\n",
              "  'spaceaged': {0: -13.983024267752858, 1: -14.70291157171018},\n",
              "  'venomsthen': {0: -14.676171448312804, 1: -14.009764391150235},\n",
              "  'valle': {0: -14.676171448312804, 1: -14.009764391150235},\n",
              "  'hackfactory': {0: -13.983024267752858, 1: -14.70291157171018},\n",
              "  'ehlebr': {0: -13.983024267752858, 1: -14.70291157171018},\n",
              "  'theat': {0: -13.983024267752858, 1: -14.70291157171018},\n",
              "  'bushco': {0: -13.983024267752858, 1: -14.70291157171018},\n",
              "  'lysette': {0: -13.577559159644695, 1: -14.70291157171018},\n",
              "  'flippedout': {0: -13.983024267752858, 1: -14.70291157171018},\n",
              "  'framebyframe': {0: -14.676171448312804, 1: -13.31661721059029},\n",
              "  'awayor': {0: -13.983024267752858, 1: -14.70291157171018},\n",
              "  'poolman': {0: -14.676171448312804, 1: -13.093473659276079},\n",
              "  'workout': {0: -11.968121247210593, 1: -12.757001422654866},\n",
              "  'baurel': {0: -14.676171448312804, 1: -14.009764391150235},\n",
              "  'bareknuckles': {0: -14.676171448312804, 1: -14.009764391150235},\n",
              "  'goldies': {0: -13.289877087192913, 1: -14.009764391150235},\n",
              "  'tornado': {0: -11.903582726073022, 1: -11.524857741362233},\n",
              "  'parentsbr': {0: -13.066733535878702, 1: -12.911152102482124},\n",
              "  'tobr': {0: -10.987291994198868, 1: -11.268924367225033},\n",
              "  'sondre': {0: -14.676171448312804, 1: -13.31661721059029},\n",
              "  'collora': {0: -13.289877087192913, 1: -12.400326478716133},\n",
              "  'flapperjazz': {0: -14.676171448312804, 1: -14.009764391150235},\n",
              "  'killersthey': {0: -13.983024267752858, 1: -14.70291157171018},\n",
              "  'illuminatingbr': {0: -13.983024267752858, 1: -14.70291157171018},\n",
              "  'assignmentsbr': {0: -14.676171448312804, 1: -14.009764391150235},\n",
              "  'morguelike': {0: -13.983024267752858, 1: -14.70291157171018},\n",
              "  'permeable': {0: -14.676171448312804, 1: -14.009764391150235},\n",
              "  'rumoritis': {0: -14.676171448312804, 1: -14.009764391150235},\n",
              "  'disapproval': {0: -12.88441197908475, 1: -14.009764391150235},\n",
              "  'manservant': {0: -13.577559159644695, 1: -13.31661721059029},\n",
              "  'bestial': {0: -13.577559159644695, 1: -13.31661721059029},\n",
              "  'fairlybr': {0: -13.983024267752858, 1: -14.70291157171018},\n",
              "  'howeveryou': {0: -14.676171448312804, 1: -14.009764391150235},\n",
              "  'hill': {0: -9.2512214308314, 1: -9.726177829289606},\n",
              "  'travelbr': {0: -14.676171448312804, 1: -13.604299283042069},\n",
              "  'ascended': {0: -13.066733535878702, 1: -13.31661721059029},\n",
              "  'frack': {0: -14.676171448312804, 1: -14.009764391150235},\n",
              "  'erics': {0: -12.88441197908475, 1: -11.707179298156188},\n",
              "  'subordinate': {0: -13.577559159644695, 1: -12.50568699437396},\n",
              "  'nationespecially': {0: -14.676171448312804, 1: -14.009764391150235},\n",
              "  'sired': {0: -13.577559159644695, 1: -14.70291157171018},\n",
              "  'overcompensates': {0: -13.983024267752858, 1: -14.70291157171018},\n",
              "  'banditsbr': {0: -13.983024267752858, 1: -14.70291157171018},\n",
              "  'shabana': {0: -13.066733535878702, 1: -14.70291157171018},\n",
              "  'survivalbr': {0: -13.983024267752858, 1: -13.604299283042069},\n",
              "  'movielong': {0: -13.983024267752858, 1: -14.70291157171018},\n",
              "  'stringfellow': {0: -14.676171448312804, 1: -14.009764391150235},\n",
              "  'complains': {0: -12.278276175514433, 1: -11.658389133986756},\n",
              "  'japanesemuttering': {0: -13.983024267752858, 1: -14.70291157171018},\n",
              "  'witchtooth': {0: -14.676171448312804, 1: -14.009764391150235},\n",
              "  'fairness': {0: -11.30887561832633, 1: -11.99486137060797},\n",
              "  'quatre': {0: -14.676171448312804, 1: -13.604299283042069},\n",
              "  'overtheyll': {0: -13.983024267752858, 1: -14.70291157171018},\n",
              "  'peice': {0: -13.577559159644695, 1: -14.70291157171018},\n",
              "  'shirely': {0: -14.676171448312804, 1: -14.009764391150235},\n",
              "  'klane': {0: -13.983024267752858, 1: -14.70291157171018},\n",
              "  'wellmeant': {0: -13.983024267752858, 1: -14.009764391150235},\n",
              "  'foreign': {0: -10.091203969642232, 1: -9.775657886552974},\n",
              "  'chordbr': {0: -14.676171448312804, 1: -13.604299283042069},\n",
              "  'seducing': {0: -11.903582726073022, 1: -12.400326478716133},\n",
              "  'dusting': {0: -13.577559159644695, 1: -14.009764391150235},\n",
              "  'lowitz': {0: -14.676171448312804, 1: -14.009764391150235},\n",
              "  'duke': {0: -9.948783629600463, 1: -10.412452130561787},\n",
              "  'cosmic': {0: -12.278276175514433, 1: -12.30501629891181},\n",
              "  'talkinganimal': {0: -14.676171448312804, 1: -14.009764391150235},\n",
              "  'telecommunication': {0: -13.289877087192913, 1: -14.70291157171018},\n",
              "  'competence': {0: -12.278276175514433, 1: -13.31661721059029},\n",
              "  'printbr': {0: -13.983024267752858, 1: -14.009764391150235},\n",
              "  'utilitarian': {0: -14.676171448312804, 1: -13.604299283042069},\n",
              "  'achcha': {0: -14.676171448312804, 1: -14.009764391150235},\n",
              "  'stallonestone': {0: -14.676171448312804, 1: -14.009764391150235},\n",
              "  'gladbr': {0: -13.983024267752858, 1: -14.70291157171018},\n",
              "  'joltsbr': {0: -14.676171448312804, 1: -14.009764391150235},\n",
              "  'keatonhow': {0: -13.983024267752858, 1: -14.70291157171018},\n",
              "  'whey': {0: -13.983024267752858, 1: -14.70291157171018},\n",
              "  'punchlines': {0: -12.73026129925749, 1: -14.009764391150235},\n",
              "  'razzieworthy': {0: -13.983024267752858, 1: -14.70291157171018},\n",
              "  'zink': {0: -13.983024267752858, 1: -14.70291157171018},\n",
              "  'overdo': {0: -12.88441197908475, 1: -13.093473659276079},\n",
              "  'limpid': {0: -14.676171448312804, 1: -14.009764391150235},\n",
              "  'boingo': {0: -14.676171448312804, 1: -14.009764391150235},\n",
              "  'reallykoolidea': {0: -13.983024267752858, 1: -14.70291157171018},\n",
              "  'expectable': {0: -13.066733535878702, 1: -13.604299283042069},\n",
              "  'mackinnonthinks': {0: -13.983024267752858, 1: -14.70291157171018},\n",
              "  'minruntime': {0: -14.676171448312804, 1: -14.009764391150235},\n",
              "  'boombooms': {0: -13.983024267752858, 1: -14.70291157171018},\n",
              "  'commentreview': {0: -13.983024267752858, 1: -14.009764391150235},\n",
              "  'tvwhere': {0: -14.676171448312804, 1: -14.009764391150235},\n",
              "  'agitated': {0: -12.88441197908475, 1: -12.911152102482124},\n",
              "  'evebr': {0: -14.676171448312804, 1: -13.604299283042069},\n",
              "  'lingered': {0: -12.88441197908475, 1: -12.623470030030344},\n",
              "  'estreet': {0: -14.676171448312804, 1: -14.009764391150235},\n",
              "  'onethat': {0: -13.983024267752858, 1: -14.70291157171018},\n",
              "  'carpathia': {0: -13.289877087192913, 1: -14.70291157171018},\n",
              "  'beano': {0: -14.676171448312804, 1: -13.093473659276079},\n",
              "  'convictionhudson': {0: -14.676171448312804, 1: -14.009764391150235},\n",
              "  'thermostat': {0: -13.577559159644695, 1: -14.70291157171018},\n",
              "  'wisecrackescomdey': {0: -14.676171448312804, 1: -14.009764391150235},\n",
              "  'presiding': {0: -13.983024267752858, 1: -14.009764391150235},\n",
              "  'trentbr': {0: -14.676171448312804, 1: -14.009764391150235},\n",
              "  'presummer': {0: -13.983024267752858, 1: -14.70291157171018},\n",
              "  'filthier': {0: -14.676171448312804, 1: -14.009764391150235},\n",
              "  'spewed': {0: -13.066733535878702, 1: -13.604299283042069},\n",
              "  'skindeep': {0: -13.983024267752858, 1: -14.70291157171018},\n",
              "  'elizabethan': {0: -12.73026129925749, 1: -13.604299283042069},\n",
              "  'worldly': {0: -12.88441197908475, 1: -12.063854242094921},\n",
              "  'celeb': {0: -13.289877087192913, 1: -14.009764391150235},\n",
              "  'thisoh': {0: -14.676171448312804, 1: -14.009764391150235},\n",
              "  'womaniser': {0: -13.983024267752858, 1: -13.31661721059029},\n",
              "  'sexploitative': {0: -13.983024267752858, 1: -14.70291157171018},\n",
              "  'populartvshowcsistyle': {0: -13.983024267752858, 1: -14.70291157171018},\n",
              "  'agendawhich': {0: -13.983024267752858, 1: -14.70291157171018},\n",
              "  'tinkle': {0: -13.983024267752858, 1: -13.31661721059029},\n",
              "  'randolphwarren': {0: -14.676171448312804, 1: -14.009764391150235},\n",
              "  'russia': {0: -10.962599381608495, 1: -11.091993659065954},\n",
              "  'overpowers': {0: -14.676171448312804, 1: -13.31661721059029},\n",
              "  'clicked': {0: -13.066733535878702, 1: -12.30501629891181},\n",
              "  'emphasizing': {0: -12.88441197908475, 1: -12.623470030030344},\n",
              "  'everythingbarbara': {0: -14.676171448312804, 1: -14.009764391150235},\n",
              "  'resituation': {0: -14.676171448312804, 1: -14.009764391150235},\n",
              "  'toybox': {0: -14.676171448312804, 1: -13.604299283042069},\n",
              "  'dialoghokier': {0: -13.983024267752858, 1: -14.70291157171018},\n",
              "  'pima': {0: -14.676171448312804, 1: -14.009764391150235},\n",
              "  'swigging': {0: -13.577559159644695, 1: -14.009764391150235},\n",
              "  'surrounding': {0: -10.598634004407083, 1: -10.359106149856496},\n",
              "  'saying': {0: -8.259439165800478, 1: -8.916014190343471},\n",
              "  'hessling': {0: -13.983024267752858, 1: -13.31661721059029},\n",
              "  'saathiya': {0: -13.983024267752858, 1: -14.70291157171018},\n",
              "  'nard': {0: -14.676171448312804, 1: -14.009764391150235},\n",
              "  'artistic': {0: -9.652290927466527, 1: -9.493425418868759},\n",
              "  'ensnare': {0: -13.983024267752858, 1: -14.009764391150235},\n",
              "  'shootbr': {0: -13.983024267752858, 1: -14.009764391150235},\n",
              "  'experimentsusing': {0: -13.983024267752858, 1: -14.70291157171018},\n",
              "  'mastermind': {0: -11.731732469146364, 1: -11.611869118351864},\n",
              "  'abounds': {0: -12.73026129925749, 1: -13.31661721059029},\n",
              "  'scottie': {0: -13.577559159644695, 1: -14.009764391150235},\n",
              "  'countrybut': {0: -13.983024267752858, 1: -14.009764391150235},\n",
              "  'waistdeep': {0: -14.676171448312804, 1: -14.009764391150235},\n",
              "  'bothi': {0: -14.676171448312804, 1: -14.009764391150235},\n",
              "  'afternoonbr': {0: -13.983024267752858, 1: -14.70291157171018},\n",
              "  'actingwhich': {0: -14.676171448312804, 1: -14.009764391150235},\n",
              "  'sterno': {0: -13.577559159644695, 1: -14.70291157171018},\n",
              "  'headachebr': {0: -13.289877087192913, 1: -14.70291157171018},\n",
              "  'meninrubbersuit': {0: -14.676171448312804, 1: -14.009764391150235},\n",
              "  'aswell': {0: -13.066733535878702, 1: -14.009764391150235},\n",
              "  'awa': {0: -13.577559159644695, 1: -14.70291157171018},\n",
              "  'irrationalbr': {0: -13.983024267752858, 1: -14.009764391150235},\n",
              "  'picturestream': {0: -14.676171448312804, 1: -14.009764391150235},\n",
              "  'uncalled': {0: -12.88441197908475, 1: -14.009764391150235},\n",
              "  'youbr': {0: -10.413491571271488, 1: -10.398846478506009},\n",
              "  'fayebr': {0: -13.983024267752858, 1: -14.70291157171018},\n",
              "  'experimentand': {0: -13.983024267752858, 1: -14.70291157171018},\n",
              "  'smallville': {0: -12.73026129925749, 1: -11.869698227653963},\n",
              "  'introductory': {0: -12.88441197908475, 1: -12.50568699437396},\n",
              "  'gandolfini': {0: -11.968121247210593, 1: -11.40707470570585},\n",
              "  'gehrlich': {0: -14.676171448312804, 1: -14.009764391150235},\n",
              "  'karismas': {0: -14.676171448312804, 1: -14.009764391150235},\n",
              "  'fluke': {0: -12.111222090851268, 1: -12.623470030030344},\n",
              "  'unwritten': {0: -13.066733535878702, 1: -13.31661721059029},\n",
              "  'reaffirm': {0: -13.066733535878702, 1: -14.009764391150235},\n",
              "  'suburbiabr': {0: -14.676171448312804, 1: -14.009764391150235},\n",
              "  'mylo': {0: -14.676171448312804, 1: -13.604299283042069},\n",
              "  'hmmmmmmmmmmmm': {0: -14.676171448312804, 1: -14.009764391150235},\n",
              "  'anjolina': {0: -14.676171448312804, 1: -14.009764391150235},\n",
              "  'grinch': {0: -10.914971332619242, 1: -10.831710560802287},\n",
              "  'lizardry': {0: -14.676171448312804, 1: -14.009764391150235},\n",
              "  'gwilym': {0: -13.577559159644695, 1: -14.70291157171018},\n",
              "  'worrybr': {0: -14.676171448312804, 1: -13.604299283042069},\n",
              "  'valette': {0: -14.676171448312804, 1: -12.218004921922178},\n",
              "  'catalan': {0: -13.066733535878702, 1: -14.009764391150235},\n",
              "  'huze': {0: -14.676171448312804, 1: -14.009764391150235},\n",
              "  'farmani': {0: -14.676171448312804, 1: -14.009764391150235},\n",
              "  'selfbr': {0: -13.983024267752858, 1: -14.70291157171018},\n",
              "  'scottsboro': {0: -14.676171448312804, 1: -14.009764391150235},\n",
              "  'fujiko': {0: -13.577559159644695, 1: -13.604299283042069},\n",
              "  'nauseated': {0: -13.289877087192913, 1: -14.70291157171018},\n",
              "  'misinformation': {0: -12.596729906632968, 1: -13.093473659276079},\n",
              "  'preity': {0: -13.983024267752858, 1: -12.30501629891181},\n",
              "  'huntsville': {0: -14.676171448312804, 1: -13.604299283042069},\n",
              "  'feelgood': {0: -11.903582726073022, 1: -10.528524301814542},\n",
              "  'cheang': {0: -14.676171448312804, 1: -12.911152102482124},\n",
              "  'contentcmoni': {0: -13.983024267752858, 1: -14.70291157171018},\n",
              "  'mantra': {0: -12.73026129925749, 1: -13.093473659276079},\n",
              "  'console': {0: -12.73026129925749, 1: -12.911152102482124},\n",
              "  'ppv': {0: -12.88441197908475, 1: -11.484035746841979},\n",
              "  'vacantly': {0: -13.577559159644695, 1: -14.70291157171018},\n",
              "  'buhbye': {0: -13.983024267752858, 1: -14.70291157171018},\n",
              "  'leslieanne': {0: -13.983024267752858, 1: -14.70291157171018},\n",
              "  'rocksbuy': {0: -14.676171448312804, 1: -14.009764391150235},\n",
              "  'bdsm': {0: -13.289877087192913, 1: -14.70291157171018},\n",
              "  'ready': {0: -9.58242124750604, 1: -9.596966097809599},\n",
              "  'pornlike': {0: -13.983024267752858, 1: -14.70291157171018},\n",
              "  'allhawaiian': {0: -13.983024267752858, 1: -14.70291157171018},\n",
              "  'dearwhat': {0: -13.983024267752858, 1: -14.70291157171018},\n",
              "  'creeper': {0: -12.478946870976584, 1: -12.400326478716133},\n",
              "  'charlys': {0: -14.676171448312804, 1: -14.009764391150235},\n",
              "  'stuartvoiced': {0: -13.983024267752858, 1: -14.70291157171018},\n",
              "  'strivesufferandsucceed': {0: -13.983024267752858, 1: -14.70291157171018},\n",
              "  'lagrange': {0: -14.676171448312804, 1: -13.604299283042069},\n",
              "  'skepticallyminded': {0: -13.983024267752858, 1: -14.70291157171018},\n",
              "  'slatsbr': {0: -13.983024267752858, 1: -14.70291157171018},\n",
              "  'resemble': {0: -10.847530051823709, 1: -11.147563510220765},\n",
              "  'striplike': {0: -14.676171448312804, 1: -14.009764391150235},\n",
              "  'titleonly': {0: -13.577559159644695, 1: -14.70291157171018},\n",
              "  'iswas': {0: -13.289877087192913, 1: -13.31661721059029},\n",
              "  'smartmouthed': {0: -13.577559159644695, 1: -14.009764391150235},\n",
              "  'teller': {0: -13.577559159644695, 1: -11.56741735578103},\n",
              "  'rapconscious': {0: -14.676171448312804, 1: -14.009764391150235},\n",
              "  'hellbreeder': {0: -14.676171448312804, 1: -14.009764391150235},\n",
              "  'ranee': {0: -13.983024267752858, 1: -14.70291157171018},\n",
              "  'masked': {0: -11.585128994954488, 1: -11.658389133986756},\n",
              "  'presaging': {0: -13.983024267752858, 1: -14.70291157171018},\n",
              "  'shayan': {0: -14.676171448312804, 1: -12.757001422654866},\n",
              "  'lous': {0: -12.73026129925749, 1: -14.70291157171018},\n",
              "  'forecourt': {0: -13.983024267752858, 1: -14.70291157171018},\n",
              "  'bedsit': {0: -14.676171448312804, 1: -14.009764391150235},\n",
              "  'downhill': {0: -10.385712007164413, 1: -11.869698227653963},\n",
              "  'juggling': {0: -13.289877087192913, 1: -13.093473659276079},\n",
              "  'sensous': {0: -13.983024267752858, 1: -14.70291157171018},\n",
              "  'captained': {0: -13.577559159644695, 1: -14.70291157171018},\n",
              "  'austrian': {0: -12.191264798524804, 1: -11.930322849470398},\n",
              "  'pfieffers': {0: -13.983024267752858, 1: -14.70291157171018},\n",
              "  'montoya': {0: -13.983024267752858, 1: -14.009764391150235},\n",
              "  'icon': {0: -10.987291994198868, 1: -10.296192324445926},\n",
              "  'gastronomic': {0: -14.676171448312804, 1: -14.009764391150235},\n",
              "  'mekum': {0: -14.676171448312804, 1: -13.31661721059029},\n",
              "  'clearereyed': {0: -13.983024267752858, 1: -14.70291157171018},\n",
              "  'backwood': {0: -13.983024267752858, 1: -14.009764391150235},\n",
              "  'block': {0: -10.456663743136696, 1: -10.608567009488079},\n",
              "  'connectedbr': {0: -13.577559159644695, 1: -13.31661721059029},\n",
              "  'waywe': {0: -14.676171448312804, 1: -14.009764391150235},\n",
              "  'normallike': {0: -14.676171448312804, 1: -14.009764391150235},\n",
              "  'criticising': {0: -13.289877087192913, 1: -14.009764391150235},\n",
              "  'janices': {0: -14.676171448312804, 1: -14.009764391150235},\n",
              "  'lessambitious': {0: -14.676171448312804, 1: -14.009764391150235},\n",
              "  'cagey': {0: -13.577559159644695, 1: -13.604299283042069},\n",
              "  'scenechewing': {0: -13.577559159644695, 1: -14.70291157171018},\n",
              "  'catfamiliar': {0: -14.676171448312804, 1: -14.009764391150235},\n",
              "  'alotyou': {0: -14.676171448312804, 1: -14.009764391150235},\n",
              "  'wholebr': {0: -13.066733535878702, 1: -12.063854242094921},\n",
              "  'analysisbr': {0: -13.289877087192913, 1: -13.31661721059029},\n",
              "  'paratroops': {0: -13.983024267752858, 1: -14.70291157171018},\n",
              "  'rolemodelhe': {0: -14.676171448312804, 1: -14.009764391150235},\n",
              "  'blueberry': {0: -14.676171448312804, 1: -14.009764391150235},\n",
              "  'morter': {0: -13.983024267752858, 1: -14.70291157171018},\n",
              "  'binkie': {0: -13.983024267752858, 1: -14.70291157171018},\n",
              "  'draconian': {0: -13.289877087192913, 1: -14.009764391150235},\n",
              "  'stupefyingly': {0: -13.289877087192913, 1: -14.70291157171018},\n",
              "  'homophobic': {0: -12.037114118697545, 1: -12.50568699437396},\n",
              "  'akiyamas': {0: -14.676171448312804, 1: -14.009764391150235},\n",
              "  'incendiary': {0: -13.983024267752858, 1: -13.31661721059029},\n",
              "  'unimaginativebr': {0: -13.577559159644695, 1: -14.70291157171018},\n",
              "  'scratch': {0: -10.938501830029436, 1: -11.237175668910453},\n",
              "  'biloxi': {0: -14.676171448312804, 1: -14.009764391150235},\n",
              "  'pyrotechnic': {0: -12.373586355318757, 1: -13.31661721059029},\n",
              "  'runny': {0: -14.676171448312804, 1: -14.009764391150235},\n",
              "  'horridbr': {0: -13.983024267752858, 1: -14.70291157171018},\n",
              "  'elseoh': {0: -13.983024267752858, 1: -14.70291157171018},\n",
              "  'gisela': {0: -13.577559159644695, 1: -14.70291157171018},\n",
              "  'coronel': {0: -14.676171448312804, 1: -13.093473659276079},\n",
              "  'absentminded': {0: -13.983024267752858, 1: -13.31661721059029},\n",
              "  'dogie': {0: -13.983024267752858, 1: -14.70291157171018},\n",
              "  'armament': {0: -13.577559159644695, 1: -14.009764391150235},\n",
              "  'reaperbr': {0: -14.676171448312804, 1: -14.009764391150235},\n",
              "  'poembr': {0: -14.676171448312804, 1: -14.009764391150235},\n",
              "  'butthis': {0: -13.983024267752858, 1: -14.70291157171018},\n",
              "  'gunforhire': {0: -13.983024267752858, 1: -14.70291157171018},\n",
              "  'psychotic': {0: -10.456663743136696, 1: -10.790888566282034},\n",
              "  'adaptation': {0: -9.212339643287194, 1: -9.039951091574233},\n",
              "  'rapturebr': {0: -14.676171448312804, 1: -14.009764391150235},\n",
              "  'bloodshetbr': {0: -14.676171448312804, 1: -14.009764391150235},\n",
              "  'stepehn': {0: -13.983024267752858, 1: -14.70291157171018},\n",
              "  'sexjokes': {0: -13.983024267752858, 1: -14.70291157171018},\n",
              "  'crawltheyre': {0: -14.676171448312804, 1: -14.009764391150235},\n",
              "  'everdeepening': {0: -14.676171448312804, 1: -14.009764391150235},\n",
              "  'kirklands': {0: -13.066733535878702, 1: -14.70291157171018},\n",
              "  'gunplay': {0: -12.88441197908475, 1: -12.30501629891181},\n",
              "  'reenacted': {0: -13.066733535878702, 1: -14.70291157171018},\n",
              "  'backtrack': {0: -13.983024267752858, 1: -14.009764391150235},\n",
              "  'aaaaaaah': {0: -13.983024267752858, 1: -14.70291157171018},\n",
              "  'underpromoted': {0: -14.676171448312804, 1: -14.009764391150235},\n",
              "  'dumann': {0: -14.676171448312804, 1: -13.093473659276079},\n",
              "  'busia': {0: -14.676171448312804, 1: -13.31661721059029},\n",
              "  'hilliardbr': {0: -14.676171448312804, 1: -14.009764391150235},\n",
              "  'vacation': {0: -10.358683334776494, 1: -10.333463719243158},\n",
              "  'rolesin': {0: -14.676171448312804, 1: -14.009764391150235},\n",
              "  'sunroof': {0: -14.676171448312804, 1: -14.009764391150235},\n",
              "  'coaxing': {0: -13.289877087192913, 1: -13.604299283042069},\n",
              "  'battement': {0: -14.676171448312804, 1: -13.604299283042069},\n",
              "  'dina': {0: -13.577559159644695, 1: -14.70291157171018},\n",
              "  'woodish': {0: -13.983024267752858, 1: -14.70291157171018},\n",
              "  'poof': {0: -13.289877087192913, 1: -13.31661721059029},\n",
              "  'radiofreccia': {0: -14.676171448312804, 1: -12.911152102482124},\n",
              "  'insider': {0: -12.596729906632968, 1: -12.623470030030344},\n",
              "  'predominance': {0: -13.983024267752858, 1: -14.70291157171018},\n",
              "  'dealmaking': {0: -14.676171448312804, 1: -14.009764391150235},\n",
              "  'naomi': {0: -12.88441197908475, 1: -12.218004921922178},\n",
              "  'perturbed': {0: -13.577559159644695, 1: -13.093473659276079},\n",
              "  'execration': {0: -13.983024267752858, 1: -14.70291157171018},\n",
              "  'cannibalistic': {0: -11.631649010589381, 1: -13.604299283042069},\n",
              "  'tonguecutting': {0: -14.676171448312804, 1: -14.009764391150235},\n",
              "  'powerfully': {0: -13.066733535878702, 1: -11.484035746841979},\n",
              "  'feeble': {0: -10.938501830029436, 1: -12.30501629891181},\n",
              "  'lustyrousingrobust': {0: -14.676171448312804, 1: -14.009764391150235},\n",
              "  'determine': {0: -11.631649010589381, 1: -11.707179298156188},\n",
              "  'themshould': {0: -14.676171448312804, 1: -14.009764391150235},\n",
              "  'postpost': {0: -14.676171448312804, 1: -14.009764391150235},\n",
              "  'punchdance': {0: -13.983024267752858, 1: -14.70291157171018},\n",
              "  'douglaszetajones': {0: -13.983024267752858, 1: -14.70291157171018},\n",
              "  'romanticfunny': {0: -13.983024267752858, 1: -14.70291157171018},\n",
              "  'offshore': {0: -13.983024267752858, 1: -14.009764391150235},\n",
              "  'appart': {0: -13.983024267752858, 1: -14.70291157171018},\n",
              "  'monstrous': {0: -11.680439174758813, 1: -11.99486137060797},\n",
              "  'cool': {0: -8.531985814187157, 1: -8.580418762195793},\n",
              "  'crack': {0: -10.442064943715543, 1: -10.528524301814542},\n",
              "  'bouquet': {0: -13.289877087192913, 1: -13.604299283042069},\n",
              "  'selfdemeaning': {0: -14.676171448312804, 1: -14.009764391150235},\n",
              "  'gimmgorky': {0: -14.676171448312804, 1: -14.009764391150235},\n",
              "  'childreni': {0: -14.676171448312804, 1: -14.009764391150235},\n",
              "  'arzner': {0: -13.983024267752858, 1: -14.009764391150235},\n",
              "  'moviewise': {0: -13.983024267752858, 1: -14.70291157171018},\n",
              "  'riotbr': {0: -13.983024267752858, 1: -14.009764391150235},\n",
              "  'stymie': {0: -13.577559159644695, 1: -14.70291157171018},\n",
              "  'underclothes': {0: -14.676171448312804, 1: -14.009764391150235},\n",
              "  'sevenday': {0: -14.676171448312804, 1: -13.604299283042069},\n",
              "  'agape': {0: -13.066733535878702, 1: -13.31661721059029},\n",
              "  'card': {0: -9.778331648361892, 1: -10.068182583480544},\n",
              "  'kaiba': {0: -13.983024267752858, 1: -14.70291157171018},\n",
              "  'nonbondian': {0: -14.676171448312804, 1: -14.009764391150235},\n",
              "  'slobbish': {0: -14.676171448312804, 1: -14.009764391150235},\n",
              "  'sublety': {0: -14.676171448312804, 1: -14.009764391150235},\n",
              "  'suos': {0: -14.676171448312804, 1: -13.604299283042069},\n",
              "  'rohmers': {0: -12.191264798524804, 1: -12.911152102482124},\n",
              "  'ensuesbr': {0: -12.73026129925749, 1: -12.400326478716133},\n",
              "  'lifeappeared': {0: -13.577559159644695, 1: -14.70291157171018},\n",
              "  'jnrcarol': {0: -14.676171448312804, 1: -14.009764391150235},\n",
              "  'protagonist': {0: -9.534507891810144, 1: -9.360577319745369},\n",
              "  'chaperoned': {0: -14.676171448312804, 1: -14.009764391150235},\n",
              "  'periodwell': {0: -14.676171448312804, 1: -14.009764391150235},\n",
              "  'satish': {0: -13.577559159644695, 1: -14.70291157171018},\n",
              "  'strippingi': {0: -14.676171448312804, 1: -14.009764391150235},\n",
              "  'praising': {0: -12.111222090851268, 1: -12.30501629891181},\n",
              "  'bettersure': {0: -13.983024267752858, 1: -14.70291157171018},\n",
              "  'chicas': {0: -13.577559159644695, 1: -14.70291157171018},\n",
              "  'superannuated': {0: -13.983024267752858, 1: -14.70291157171018},\n",
              "  'shikhar': {0: -14.676171448312804, 1: -13.604299283042069},\n",
              "  'margarets': {0: -13.983024267752858, 1: -13.604299283042069},\n",
              "  'sensory': {0: -13.983024267752858, 1: -13.31661721059029},\n",
              "  'overlyreligious': {0: -14.676171448312804, 1: -14.009764391150235},\n",
              "  'master': {0: -9.377854081764767, 1: -8.87986567622716},\n",
              "  'isolation': {0: -12.037114118697545, 1: -10.941711456016616},\n",
              "  'granpa': {0: -13.983024267752858, 1: -14.70291157171018},\n",
              "  'trueblood': {0: -13.577559159644695, 1: -14.70291157171018},\n",
              "  'deified': {0: -14.676171448312804, 1: -14.009764391150235},\n",
              "  'punctuation': {0: -13.983024267752858, 1: -13.31661721059029},\n",
              "  'consigned': {0: -13.577559159644695, 1: -13.093473659276079},\n",
              "  'pirouetting': {0: -13.983024267752858, 1: -14.70291157171018},\n",
              "  'rockies': {0: -13.289877087192913, 1: -12.50568699437396},\n",
              "  'cramping': {0: -14.676171448312804, 1: -14.009764391150235},\n",
              "  'woefull': {0: -14.676171448312804, 1: -14.009764391150235},\n",
              "  'negligee': {0: -14.676171448312804, 1: -14.009764391150235},\n",
              "  'snub': {0: -14.676171448312804, 1: -13.604299283042069},\n",
              "  'unidentified': {0: -13.066733535878702, 1: -13.093473659276079},\n",
              "  'planche': {0: -14.676171448312804, 1: -13.604299283042069},\n",
              "  'uhf': {0: -13.289877087192913, 1: -13.604299283042069},\n",
              "  'foresees': {0: -14.676171448312804, 1: -14.009764391150235},\n",
              "  'tycoonbr': {0: -13.983024267752858, 1: -14.70291157171018},\n",
              "  'sealed': {0: -12.478946870976584, 1: -11.56741735578103},\n",
              "  'afroamericans': {0: -13.983024267752858, 1: -13.604299283042069},\n",
              "  'slashermy': {0: -14.676171448312804, 1: -14.009764391150235},\n",
              "  'rowlandsreevaluates': {0: -14.676171448312804, 1: -14.009764391150235},\n",
              "  'hainesbr': {0: -14.676171448312804, 1: -14.009764391150235},\n",
              "  'henrystephen': {0: -14.676171448312804, 1: -14.009764391150235},\n",
              "  'absoulely': {0: -14.676171448312804, 1: -14.009764391150235},\n",
              "  'thrift': {0: -13.983024267752858, 1: -12.911152102482124},\n",
              "  'sweater': {0: -12.596729906632968, 1: -12.757001422654866},\n",
              "  'indiansbreakfast': {0: -13.983024267752858, 1: -14.70291157171018},\n",
              "  'wentworth': {0: -11.785799690416638, 1: -14.009764391150235},\n",
              "  'arising': {0: -12.88441197908475, 1: -12.50568699437396},\n",
              "  'understudied': {0: -14.676171448312804, 1: -14.009764391150235},\n",
              "  'seesmarion': {0: -14.676171448312804, 1: -14.009764391150235},\n",
              "  'movieeverything': {0: -13.983024267752858, 1: -14.70291157171018},\n",
              "  'troybr': {0: -13.983024267752858, 1: -14.70291157171018},\n",
              "  'tormento': {0: -14.676171448312804, 1: -14.009764391150235},\n",
              "  'louvred': {0: -14.676171448312804, 1: -14.009764391150235},\n",
              "  'paddedbr': {0: -13.983024267752858, 1: -14.70291157171018},\n",
              "  'soulsearching': {0: -13.289877087192913, 1: -13.604299283042069},\n",
              "  'exerts': {0: -14.676171448312804, 1: -13.31661721059029},\n",
              "  'monique': {0: -13.289877087192913, 1: -12.400326478716133},\n",
              "  'gladys': {0: -12.373586355318757, 1: -12.757001422654866},\n",
              "  'scott': {0: -9.134907903154378, 1: -8.934590575916406},\n",
              "  'enlisted': {0: -12.596729906632968, 1: -11.707179298156188},\n",
              "  'filmonly': {0: -13.983024267752858, 1: -14.70291157171018},\n",
              "  'weasel': {0: -12.88441197908475, 1: -13.093473659276079},\n",
              "  'puppety': {0: -13.983024267752858, 1: -14.70291157171018},\n",
              "  'marketultralow': {0: -13.983024267752858, 1: -14.70291157171018},\n",
              "  'sandal': {0: -12.73026129925749, 1: -13.31661721059029},\n",
              "  'miljan': {0: -14.676171448312804, 1: -14.009764391150235},\n",
              "  'impudent': {0: -14.676171448312804, 1: -12.911152102482124},\n",
              "  'swedlow': {0: -14.676171448312804, 1: -14.009764391150235},\n",
              "  'reanimated': {0: -12.88441197908475, 1: -12.623470030030344},\n",
              "  'doubleshot': {0: -13.983024267752858, 1: -14.70291157171018},\n",
              "  'pseudonym': {0: -12.278276175514433, 1: -12.911152102482124},\n",
              "  'krushgroove': {0: -14.676171448312804, 1: -14.009764391150235},\n",
              "  'richmont': {0: -14.676171448312804, 1: -14.009764391150235},\n",
              "  'waltersrealizes': {0: -13.983024267752858, 1: -14.70291157171018},\n",
              "  'triumphantly': {0: -13.289877087192913, 1: -13.31661721059029},\n",
              "  'johnny': {0: -9.863987092940386, 1: -9.46646960888023},\n",
              "  'outsource': {0: -13.983024267752858, 1: -14.70291157171018},\n",
              "  'yankies': {0: -14.676171448312804, 1: -14.009764391150235},\n",
              "  'outingsbr': {0: -13.983024267752858, 1: -13.604299283042069},\n",
              "  'cloven': {0: -14.676171448312804, 1: -14.009764391150235},\n",
              "  'nicebr': {0: -12.73026129925749, 1: -12.218004921922178},\n",
              "  'idiosyncraticbr': {0: -14.676171448312804, 1: -14.009764391150235},\n",
              "  'fielda': {0: -13.983024267752858, 1: -14.70291157171018},\n",
              "  'demonkicking': {0: -13.983024267752858, 1: -14.70291157171018},\n",
              "  'cardiac': {0: -13.983024267752858, 1: -13.604299283042069},\n",
              "  'silky': {0: -14.676171448312804, 1: -14.009764391150235},\n",
              "  'parting': {0: -12.73026129925749, 1: -12.30501629891181},\n",
              "  'superclever': {0: -13.577559159644695, 1: -14.70291157171018},\n",
              "  'mcdonaldsbr': {0: -13.983024267752858, 1: -14.70291157171018},\n",
              "  'dysphoria': {0: -14.676171448312804, 1: -14.009764391150235},\n",
              "  'whittle': {0: -14.676171448312804, 1: -13.604299283042069},\n",
              "  'colleague': {0: -10.804970437404913, 1: -10.695578386477708},\n",
              "  'prune': {0: -13.577559159644695, 1: -13.604299283042069},\n",
              "  'usedbr': {0: -12.88441197908475, 1: -14.70291157171018},\n",
              "  'yearnowin': {0: -13.983024267752858, 1: -14.70291157171018},\n",
              "  'castel': {0: -13.289877087192913, 1: -14.009764391150235},\n",
              "  'kirsties': {0: -13.577559159644695, 1: -14.70291157171018},\n",
              "  'barabra': {0: -14.676171448312804, 1: -14.009764391150235},\n",
              "  'meanial': {0: -14.676171448312804, 1: -14.009764391150235},\n",
              "  'inept': {0: -9.69943770589223, 1: -11.335615741723705},\n",
              "  'klowns': {0: -12.73026129925749, 1: -14.70291157171018},\n",
              "  'thingsi': {0: -13.983024267752858, 1: -14.70291157171018},\n",
              "  'bloodbathsbr': {0: -13.983024267752858, 1: -14.70291157171018},\n",
              "  'seminar': {0: -13.289877087192913, 1: -12.50568699437396},\n",
              "  'unmatched': {0: -13.577559159644695, 1: -12.911152102482124},\n",
              "  'fogey': {0: -13.983024267752858, 1: -14.009764391150235},\n",
              "  'busha': {0: -13.983024267752858, 1: -14.70291157171018},\n",
              "  'fuhgeddaboutit': {0: -14.676171448312804, 1: -14.009764391150235},\n",
              "  'beatnikblack': {0: -13.983024267752858, 1: -14.70291157171018},\n",
              "  'mcneill': {0: -14.676171448312804, 1: -14.009764391150235},\n",
              "  'annie': {0: -10.399505329296748, 1: -11.014032117596242},\n",
              "  'jariwala': {0: -13.983024267752858, 1: -12.911152102482124},\n",
              "  'oru': {0: -13.983024267752858, 1: -14.70291157171018},\n",
              "  'ushappiness': {0: -14.676171448312804, 1: -14.009764391150235},\n",
              "  'stifle': {0: -13.289877087192913, 1: -14.70291157171018},\n",
              "  'westernsbr': {0: -13.289877087192913, 1: -13.604299283042069},\n",
              "  'thingthis': {0: -13.983024267752858, 1: -14.70291157171018},\n",
              "  'extravaganzabr': {0: -13.983024267752858, 1: -14.009764391150235},\n",
              "  'rosenstra': {0: -13.983024267752858, 1: -14.70291157171018},\n",
              "  'blandishment': {0: -14.676171448312804, 1: -14.009764391150235},\n",
              "  'untastful': {0: -13.983024267752858, 1: -14.70291157171018},\n",
              "  'turkeythe': {0: -14.676171448312804, 1: -14.009764391150235},\n",
              "  'laudably': {0: -14.676171448312804, 1: -14.009764391150235},\n",
              "  'showmethemoney': {0: -14.676171448312804, 1: -14.009764391150235},\n",
              "  'mordreds': {0: -14.676171448312804, 1: -14.009764391150235},\n",
              "  'capano': {0: -14.676171448312804, 1: -12.50568699437396},\n",
              "  'singledigit': {0: -13.983024267752858, 1: -14.70291157171018},\n",
              "  'elton': {0: -13.983024267752858, 1: -11.812539813814015},\n",
              "  'availbr': {0: -14.676171448312804, 1: -14.009764391150235},\n",
              "  'florida': {0: -11.179663886846324, 1: -10.412452130561787},\n",
              "  'heartthrob': {0: -13.066733535878702, 1: -12.50568699437396},\n",
              "  'hair': {0: -9.052153942125464, 1: -9.375035402920599},\n",
              "  'borgesian': {0: -13.983024267752858, 1: -14.70291157171018},\n",
              "  'clutter': {0: -13.983024267752858, 1: -10.790888566282034},\n",
              "  'phyllida': {0: -14.676171448312804, 1: -12.911152102482124},\n",
              "  'discoverybr': {0: -13.983024267752858, 1: -14.009764391150235},\n",
              "  'lembeck': {0: -13.983024267752858, 1: -14.70291157171018},\n",
              "  'degree': {0: -9.824141184393186, 1: -9.92378807859865},\n",
              "  'whatsoeverthis': {0: -14.676171448312804, 1: -14.009764391150235},\n",
              "  'wellhidden': {0: -14.676171448312804, 1: -14.009764391150235},\n",
              "  'vastness': {0: -14.676171448312804, 1: -13.093473659276079},\n",
              "  'thumbed': {0: -13.983024267752858, 1: -14.70291157171018},\n",
              "  'timely': {0: -13.066733535878702, 1: -11.812539813814015},\n",
              "  'seriouslywhat': {0: -13.983024267752858, 1: -14.009764391150235},\n",
              "  'okinawa': {0: -14.676171448312804, 1: -13.604299283042069},\n",
              "  'petersen': {0: -13.066733535878702, 1: -14.009764391150235},\n",
              "  'karn': {0: -13.983024267752858, 1: -14.70291157171018},\n",
              "  'getthe': {0: -13.983024267752858, 1: -14.70291157171018},\n",
              "  'reb': {0: -11.731732469146364, 1: -14.70291157171018},\n",
              "  'connors': {0: -12.596729906632968, 1: -12.137962214248642},\n",
              "  'picquers': {0: -13.983024267752858, 1: -14.70291157171018},\n",
              "  'evacuated': {0: -13.289877087192913, 1: -12.063854242094921},\n",
              "  'brownfurred': {0: -13.983024267752858, 1: -14.70291157171018},\n",
              "  'candylove': {0: -13.983024267752858, 1: -14.70291157171018},\n",
              "  'enwrapped': {0: -14.676171448312804, 1: -14.009764391150235},\n",
              "  'cropbr': {0: -14.676171448312804, 1: -14.009764391150235},\n",
              "  'skinnerbr': {0: -13.983024267752858, 1: -14.70291157171018},\n",
              "  'frawleymadeleine': {0: -14.676171448312804, 1: -14.009764391150235},\n",
              "  'esamples': {0: -13.983024267752858, 1: -14.70291157171018},\n",
              "  'illusionsthe': {0: -14.676171448312804, 1: -14.009764391150235},\n",
              "  'bopper': {0: -13.983024267752858, 1: -14.009764391150235},\n",
              "  'repugnancy': {0: -13.983024267752858, 1: -14.70291157171018},\n",
              "  'congeniality': {0: -13.066733535878702, 1: -14.009764391150235},\n",
              "  'equallywhy': {0: -14.676171448312804, 1: -14.009764391150235},\n",
              "  'gi': {0: -12.596729906632968, 1: -12.400326478716133},\n",
              "  'sutherlandbr': {0: -14.676171448312804, 1: -14.009764391150235},\n",
              "  'sarnos': {0: -13.983024267752858, 1: -13.31661721059029},\n",
              "  'palbyron': {0: -13.983024267752858, 1: -14.70291157171018},\n",
              "  'unrestricted': {0: -14.676171448312804, 1: -14.009764391150235},\n",
              "  'pardey': {0: -14.676171448312804, 1: -14.009764391150235},\n",
              "  'ducebr': {0: -14.676171448312804, 1: -14.009764391150235},\n",
              "  'fawned': {0: -13.983024267752858, 1: -14.70291157171018},\n",
              "  'fantasymonsters': {0: -14.676171448312804, 1: -14.009764391150235},\n",
              "  'cockazilla': {0: -13.983024267752858, 1: -14.70291157171018},\n",
              "  'lind': {0: -14.676171448312804, 1: -13.093473659276079},\n",
              "  'canny': {0: -14.676171448312804, 1: -14.009764391150235},\n",
              "  'cantorchoirmaster': {0: -14.676171448312804, 1: -14.009764391150235},\n",
              "  'cecily': {0: -13.289877087192913, 1: -14.70291157171018},\n",
              "  'reviewied': {0: -14.676171448312804, 1: -14.009764391150235},\n",
              "  'wrathful': {0: -12.73026129925749, 1: -14.009764391150235},\n",
              "  'mesmerizingbr': {0: -14.676171448312804, 1: -14.009764391150235},\n",
              "  'squidalan': {0: -14.676171448312804, 1: -14.009764391150235},\n",
              "  'antiracism': {0: -14.676171448312804, 1: -14.009764391150235},\n",
              "  'positioned': {0: -13.289877087192913, 1: -13.093473659276079},\n",
              "  'ratingsbr': {0: -12.88441197908475, 1: -13.604299283042069},\n",
              "  'mallika': {0: -13.983024267752858, 1: -14.009764391150235},\n",
              "  'scaaary': {0: -13.983024267752858, 1: -14.70291157171018},\n",
              "  'lindfors': {0: -14.676171448312804, 1: -14.009764391150235},\n",
              "  'meespecially': {0: -13.983024267752858, 1: -14.70291157171018},\n",
              "  'smarmy': {0: -11.585128994954488, 1: -12.063854242094921},\n",
              "  'becuz': {0: -13.289877087192913, 1: -14.009764391150235},\n",
              "  'scriptedbr': {0: -13.289877087192913, 1: -14.70291157171018},\n",
              "  'cama': {0: -12.73026129925749, 1: -14.70291157171018},\n",
              "  'damner': {0: -13.983024267752858, 1: -14.70291157171018},\n",
              "  'universalised': {0: -13.983024267752858, 1: -14.70291157171018},\n",
              "  'pervaded': {0: -13.983024267752858, 1: -13.31661721059029},\n",
              "  'nerdy': {0: -11.631649010589381, 1: -11.869698227653963},\n",
              "  'moreinlikely': {0: -14.676171448312804, 1: -14.009764391150235},\n",
              "  'satanicthemed': {0: -13.983024267752858, 1: -14.70291157171018},\n",
              "  'kesey': {0: -14.676171448312804, 1: -14.009764391150235},\n",
              "  'lockley': {0: -13.983024267752858, 1: -14.70291157171018},\n",
              "  'iteration': {0: -13.289877087192913, 1: -13.604299283042069},\n",
              "  'nazioccupied': {0: -13.983024267752858, 1: -14.70291157171018},\n",
              "  'chillness': {0: -14.676171448312804, 1: -14.009764391150235},\n",
              "  'hivaids': {0: -13.577559159644695, 1: -13.604299283042069},\n",
              "  'deathi': {0: -14.676171448312804, 1: -14.009764391150235},\n",
              "  'child': {0: -7.646198536606417, 1: -7.46873439196033},\n",
              "  'wind': {0: -9.58857511308042, 1: -9.404594205162143},\n",
              "  'housethat': {0: -14.676171448312804, 1: -14.009764391150235},\n",
              "  'halfassing': {0: -13.983024267752858, 1: -14.70291157171018},\n",
              "  'carradine': {0: -10.53303672192127, 1: -11.40707470570585},\n",
              "  'pirros': {0: -13.983024267752858, 1: -14.70291157171018},\n",
              "  'clarify': {0: -12.278276175514433, 1: -12.757001422654866},\n",
              "  'crudeness': {0: -13.983024267752858, 1: -12.757001422654866},\n",
              "  'obligated': {0: -11.968121247210593, 1: -13.604299283042069},\n",
              "  'shortened': {0: -12.111222090851268, 1: -11.930322849470398},\n",
              "  'panning': {0: -13.066733535878702, 1: -12.757001422654866},\n",
              "  'gingernuts': {0: -13.983024267752858, 1: -14.70291157171018},\n",
              "  'bombshellsbr': {0: -14.676171448312804, 1: -14.009764391150235},\n",
              "  'harbored': {0: -13.983024267752858, 1: -14.70291157171018},\n",
              "  'gouged': {0: -13.577559159644695, 1: -14.009764391150235},\n",
              "  'burgi': {0: -13.577559159644695, 1: -13.604299283042069},\n",
              "  'doorkill': {0: -14.676171448312804, 1: -14.009764391150235},\n",
              "  'miss': {0: -8.68721003142294, 1: -8.382143277459598},\n",
              "  'housebr': {0: -11.968121247210593, 1: -11.869698227653963},\n",
              "  'holts': {0: -14.676171448312804, 1: -13.093473659276079},\n",
              "  'togetherbr': {0: -11.30887561832633, 1: -10.941711456016616},\n",
              "  'chewthescenery': {0: -13.983024267752858, 1: -14.70291157171018},\n",
              "  'paulsens': {0: -13.577559159644695, 1: -14.70291157171018},\n",
              "  'phiiistine': {0: -14.676171448312804, 1: -14.009764391150235},\n",
              "  'gaston': {0: -12.88441197908475, 1: -14.009764391150235},\n",
              "  'raping': {0: -11.540677232383654, 1: -12.50568699437396},\n",
              "  'cartoonbr': {0: -13.066733535878702, 1: -13.093473659276079},\n",
              "  'untie': {0: -13.577559159644695, 1: -14.70291157171018},\n",
              "  'rukhboris': {0: -14.676171448312804, 1: -14.009764391150235},\n",
              "  'characternow': {0: -13.983024267752858, 1: -14.70291157171018},\n",
              "  'antithat': {0: -13.983024267752858, 1: -14.70291157171018},\n",
              "  'huntressbr': {0: -13.983024267752858, 1: -14.70291157171018},\n",
              "  'livinston': {0: -14.676171448312804, 1: -14.009764391150235},\n",
              "  'newstv': {0: -14.676171448312804, 1: -14.009764391150235},\n",
              "  'johannsen': {0: -13.983024267752858, 1: -14.70291157171018},\n",
              "  'esperando': {0: -14.676171448312804, 1: -14.009764391150235},\n",
              "  'fantasyreality': {0: -14.676171448312804, 1: -14.009764391150235},\n",
              "  'monumentalbr': {0: -14.676171448312804, 1: -14.009764391150235},\n",
              "  'jeunets': {0: -13.983024267752858, 1: -14.70291157171018},\n",
              "  'archie': {0: -11.903582726073022, 1: -12.063854242094921},\n",
              "  'vitro': {0: -13.983024267752858, 1: -14.70291157171018},\n",
              "  'marketedand': {0: -13.983024267752858, 1: -14.70291157171018},\n",
              "  'comingenchanted': {0: -14.676171448312804, 1: -14.009764391150235},\n",
              "  'abdullah': {0: -13.983024267752858, 1: -14.70291157171018},\n",
              "  'kilmore': {0: -14.676171448312804, 1: -14.009764391150235},\n",
              "  'renns': {0: -14.676171448312804, 1: -14.009764391150235},\n",
              "  'masonhis': {0: -13.983024267752858, 1: -14.70291157171018},\n",
              "  'haines': {0: -13.066733535878702, 1: -10.831710560802287},\n",
              "  'crimenonfiction': {0: -13.983024267752858, 1: -14.70291157171018},\n",
              "  'admission': {0: -11.842958104256587, 1: -11.370707061534976},\n",
              "  'controlmakeing': {0: -14.676171448312804, 1: -14.009764391150235},\n",
              "  'partnerlove': {0: -13.983024267752858, 1: -14.70291157171018},\n",
              "  'alltime': {0: -11.012609802183157, 1: -10.385423458173868},\n",
              "  'pubsbr': {0: -14.676171448312804, 1: -13.604299283042069},\n",
              "  'diamiter': {0: -14.676171448312804, 1: -14.009764391150235},\n",
              "  'thrillingbr': {0: -13.983024267752858, 1: -13.31661721059029},\n",
              "  'chucklesbr': {0: -13.983024267752858, 1: -14.70291157171018},\n",
              "  'conceded': {0: -13.577559159644695, 1: -14.70291157171018},\n",
              "  'ranbr': {0: -13.577559159644695, 1: -14.70291157171018},\n",
              "  'strenghths': {0: -14.676171448312804, 1: -14.009764391150235},\n",
              "  'miami': {0: -11.149810923696641, 1: -11.335615741723705},\n",
              "  'calais': {0: -13.983024267752858, 1: -14.70291157171018},\n",
              "  'blaines': {0: -13.983024267752858, 1: -14.009764391150235},\n",
              "  'ubernordic': {0: -14.676171448312804, 1: -14.009764391150235},\n",
              "  'geometrically': {0: -14.676171448312804, 1: -14.009764391150235},\n",
              "  'barkinbr': {0: -13.983024267752858, 1: -14.70291157171018},\n",
              "  'patgordon': {0: -13.983024267752858, 1: -14.70291157171018},\n",
              "  'minutesall': {0: -13.983024267752858, 1: -14.70291157171018},\n",
              "  'bigelow': {0: -11.680439174758813, 1: -13.604299283042069},\n",
              "  'castleruth': {0: -14.676171448312804, 1: -14.009764391150235},\n",
              "  'whilhelm': {0: -14.676171448312804, 1: -14.009764391150235},\n",
              "  'rene': {0: -12.373586355318757, 1: -11.930322849470398},\n",
              "  'weeksto': {0: -13.983024267752858, 1: -14.70291157171018},\n",
              "  'shtick': {0: -11.731732469146364, 1: -12.218004921922178},\n",
              "  'digestible': {0: -13.577559159644695, 1: -12.911152102482124},\n",
              "  'ottiano': {0: -14.676171448312804, 1: -14.009764391150235},\n",
              "  'sinking': {0: -11.065253535668578, 1: -11.484035746841979},\n",
              "  'frida': {0: -13.983024267752858, 1: -12.623470030030344},\n",
              "  'exorcises': {0: -13.983024267752858, 1: -14.70291157171018},\n",
              "  'aviation': {0: -13.066733535878702, 1: -12.623470030030344},\n",
              "  'madealsothe': {0: -14.676171448312804, 1: -14.009764391150235},\n",
              "  'empty': {0: -9.51138547438929, 1: -10.203101901379915},\n",
              "  'patti': {0: -12.73026129925749, 1: -12.757001422654866},\n",
              "  'crumby': {0: -13.577559159644695, 1: -14.009764391150235},\n",
              "  'appearences': {0: -14.676171448312804, 1: -14.009764391150235},\n",
              "  'moviesi': {0: -13.066733535878702, 1: -13.604299283042069},\n",
              "  'entourage': {0: -12.596729906632968, 1: -12.757001422654866},\n",
              "  'twill': {0: -13.983024267752858, 1: -14.70291157171018},\n",
              "  'provincetown': {0: -14.676171448312804, 1: -14.009764391150235},\n",
              "  'gamerathe': {0: -13.983024267752858, 1: -14.70291157171018},\n",
              "  'lanoir': {0: -14.676171448312804, 1: -14.009764391150235},\n",
              "  'hardcase': {0: -14.676171448312804, 1: -14.009764391150235},\n",
              "  'noemi': {0: -13.983024267752858, 1: -14.70291157171018},\n",
              "  'looksfor': {0: -14.676171448312804, 1: -14.009764391150235},\n",
              "  'relachaise': {0: -14.676171448312804, 1: -12.757001422654866},\n",
              "  'subliminal': {0: -12.596729906632968, 1: -12.623470030030344},\n",
              "  'graphic': {0: -9.477674417046979, 1: -9.336935556688328},\n",
              "  'bumptious': {0: -14.676171448312804, 1: -13.604299283042069},\n",
              "  'imaginationchallenged': {0: -13.983024267752858, 1: -14.70291157171018},\n",
              "  'withered': {0: -13.983024267752858, 1: -14.009764391150235},\n",
              "  'channeling': {0: -12.478946870976584, 1: -12.50568699437396},\n",
              "  'youindia': {0: -14.676171448312804, 1: -14.009764391150235},\n",
              "  'ferro': {0: -13.983024267752858, 1: -14.70291157171018},\n",
              "  'spanner': {0: -13.577559159644695, 1: -14.70291157171018},\n",
              "  'piggy': {0: -13.983024267752858, 1: -11.75847259254374},\n",
              "  'septuagenarian': {0: -13.983024267752858, 1: -14.70291157171018},\n",
              "  'erfoud': {0: -13.577559159644695, 1: -14.70291157171018},\n",
              "  'receipe': {0: -13.289877087192913, 1: -14.70291157171018},\n",
              "  'bodega': {0: -13.983024267752858, 1: -14.009764391150235},\n",
              "  'puzos': {0: -13.289877087192913, 1: -14.70291157171018},\n",
              "  'achile': {0: -13.983024267752858, 1: -14.70291157171018},\n",
              "  'bracket': {0: -13.289877087192913, 1: -12.911152102482124},\n",
              "  'amateurishlike': {0: -13.983024267752858, 1: -14.70291157171018},\n",
              "  'susiethe': {0: -14.676171448312804, 1: -14.009764391150235},\n",
              "  'walkeeswho': {0: -13.983024267752858, 1: -14.70291157171018},\n",
              "  'crowed': {0: -14.676171448312804, 1: -13.31661721059029},\n",
              "  'frameworkbr': {0: -13.983024267752858, 1: -14.70291157171018},\n",
              "  'grinchs': {0: -13.289877087192913, 1: -12.757001422654866},\n",
              "  'kindone': {0: -13.983024267752858, 1: -14.70291157171018},\n",
              "  'reindeerslaughterout': {0: -13.983024267752858, 1: -14.70291157171018},\n",
              "  'kovacevic': {0: -14.676171448312804, 1: -14.009764391150235},\n",
              "  'dillion': {0: -13.983024267752858, 1: -14.70291157171018},\n",
              "  'ismael': {0: -12.478946870976584, 1: -14.009764391150235},\n",
              "  'asserting': {0: -13.577559159644695, 1: -13.604299283042069},\n",
              "  'vera': {0: -12.191264798524804, 1: -11.524857741362233},\n",
              "  'ellie': {0: -13.983024267752858, 1: -12.218004921922178},\n",
              "  'rigging': {0: -13.983024267752858, 1: -13.31661721059029},\n",
              "  'cabletv': {0: -14.676171448312804, 1: -14.009764391150235},\n",
              "  'uniformly': {0: -11.418074910291322, 1: -10.989339505005871},\n",
              "  'socorro': {0: -14.676171448312804, 1: -14.009764391150235},\n",
              "  'yesits': {0: -14.676171448312804, 1: -14.009764391150235},\n",
              "  'informationclogged': {0: -14.676171448312804, 1: -14.009764391150235},\n",
              "  'subtly': {0: -11.842958104256587, 1: -10.831710560802287},\n",
              "  'wookie': {0: -13.983024267752858, 1: -14.70291157171018},\n",
              "  'mayagi': {0: -14.676171448312804, 1: -14.009764391150235},\n",
              "  'galleghar': {0: -13.577559159644695, 1: -14.70291157171018},\n",
              "  'townis': {0: -14.676171448312804, 1: -14.009764391150235},\n",
              "  'docteur': {0: -14.676171448312804, 1: -14.009764391150235},\n",
              "  'wormonhuman': {0: -13.983024267752858, 1: -14.70291157171018},\n",
              "  'zombieghost': {0: -13.983024267752858, 1: -14.70291157171018},\n",
              "  'challis': {0: -13.983024267752858, 1: -14.70291157171018},\n",
              "  'testicle': {0: -13.066733535878702, 1: -13.604299283042069},\n",
              "  'skirmisher': {0: -13.983024267752858, 1: -14.70291157171018},\n",
              "  'arcsbr': {0: -13.983024267752858, 1: -14.70291157171018},\n",
              "  'energeticif': {0: -14.676171448312804, 1: -14.009764391150235},\n",
              "  'politeness': {0: -13.577559159644695, 1: -14.009764391150235},\n",
              "  'flashforward': {0: -13.577559159644695, 1: -13.31661721059029},\n",
              "  'april': {0: -11.631649010589381, 1: -10.296192324445926},\n",
              "  'bulow': {0: -13.983024267752858, 1: -14.70291157171018},\n",
              "  'terrifiedbr': {0: -13.983024267752858, 1: -14.70291157171018},\n",
              "  'dautre': {0: -14.676171448312804, 1: -14.009764391150235},\n",
              "  'paddling': {0: -14.676171448312804, 1: -13.604299283042069},\n",
              "  'thepace': {0: -14.676171448312804, 1: -14.009764391150235},\n",
              "  'roundbr': {0: -13.983024267752858, 1: -13.31661721059029},\n",
              "  'braganas': {0: -14.676171448312804, 1: -14.009764391150235},\n",
              "  'narcissismbr': {0: -14.676171448312804, 1: -14.009764391150235},\n",
              "  'awkwardbr': {0: -13.983024267752858, 1: -13.604299283042069},\n",
              "  'thicklensed': {0: -13.983024267752858, 1: -14.70291157171018},\n",
              "  'alcohol': {0: -10.938501830029436, 1: -11.147563510220765},\n",
              "  'surei': {0: -13.983024267752858, 1: -14.70291157171018},\n",
              "  'storywriting': {0: -13.983024267752858, 1: -14.70291157171018},\n",
              "  'puzzlepieces': {0: -13.983024267752858, 1: -14.70291157171018},\n",
              "  'soweto': {0: -13.983024267752858, 1: -12.911152102482124},\n",
              "  'fewall': {0: -14.676171448312804, 1: -14.009764391150235},\n",
              "  'ishmael': {0: -13.066733535878702, 1: -14.70291157171018},\n",
              "  'actorbut': {0: -13.577559159644695, 1: -14.009764391150235},\n",
              "  'everanyway': {0: -13.983024267752858, 1: -14.70291157171018},\n",
              "  'dittobr': {0: -13.983024267752858, 1: -14.009764391150235},\n",
              "  'onthespot': {0: -14.676171448312804, 1: -14.009764391150235},\n",
              "  'gauged': {0: -13.577559159644695, 1: -14.009764391150235},\n",
              "  'informing': {0: -13.066733535878702, 1: -12.623470030030344},\n",
              "  'voyeurismthe': {0: -13.983024267752858, 1: -14.70291157171018},\n",
              "  'weides': {0: -14.676171448312804, 1: -14.009764391150235},\n",
              "  'hyped': {0: -11.092652509856693, 1: -11.99486137060797},\n",
              "  'weekthe': {0: -13.983024267752858, 1: -14.70291157171018},\n",
              "  'bazillion': {0: -13.983024267752858, 1: -13.604299283042069},\n",
              "  'excites': {0: -13.289877087192913, 1: -13.604299283042069},\n",
              "  'musashibr': {0: -14.676171448312804, 1: -14.009764391150235},\n",
              "  'detestssullivan': {0: -14.676171448312804, 1: -14.009764391150235},\n",
              "  'nipar': {0: -14.676171448312804, 1: -13.604299283042069},\n",
              "  'littleeven': {0: -13.983024267752858, 1: -14.70291157171018},\n",
              "  'earmark': {0: -13.066733535878702, 1: -13.093473659276079},\n",
              "  'haviland': {0: -13.983024267752858, 1: -14.009764391150235},\n",
              "  'disappointedthe': {0: -14.676171448312804, 1: -14.009764391150235},\n",
              "  'destiniesbr': {0: -13.983024267752858, 1: -14.70291157171018},\n",
              "  'marino': {0: -14.676171448312804, 1: -12.911152102482124},\n",
              "  'mewhile': {0: -13.983024267752858, 1: -14.70291157171018},\n",
              "  'outlands': {0: -13.983024267752858, 1: -14.70291157171018},\n",
              "  'healthful': {0: -14.676171448312804, 1: -14.009764391150235},\n",
              "  'sano': {0: -13.983024267752858, 1: -14.70291157171018},\n",
              "  'awaking': {0: -14.676171448312804, 1: -14.009764391150235},\n",
              "  'mightnt': {0: -14.676171448312804, 1: -14.009764391150235},\n",
              "  'zootheme': {0: -13.983024267752858, 1: -14.70291157171018},\n",
              "  'quincey': {0: -14.676171448312804, 1: -14.009764391150235},\n",
              "  'stationapartmentflatwhatever': {0: -13.983024267752858,\n",
              "   1: -14.70291157171018},\n",
              "  'shahids': {0: -14.676171448312804, 1: -12.911152102482124},\n",
              "  'satirizes': {0: -14.676171448312804, 1: -13.093473659276079},\n",
              "  'rapistsbr': {0: -13.983024267752858, 1: -14.70291157171018},\n",
              "  'sandoval': {0: -13.289877087192913, 1: -14.70291157171018},\n",
              "  'cultmembers': {0: -14.676171448312804, 1: -14.009764391150235},\n",
              "  'livesit': {0: -14.676171448312804, 1: -14.009764391150235},\n",
              "  'smarttalk': {0: -14.676171448312804, 1: -14.009764391150235},\n",
              "  'tvsince': {0: -13.983024267752858, 1: -14.70291157171018},\n",
              "  'gorier': {0: -13.066733535878702, 1: -14.009764391150235},\n",
              "  'schumacher': {0: -12.373586355318757, 1: -11.99486137060797},\n",
              "  'mesias': {0: -14.676171448312804, 1: -14.009764391150235},\n",
              "  'thatam': {0: -13.983024267752858, 1: -14.70291157171018},\n",
              "  'fireexplosionsgreat': {0: -13.983024267752858, 1: -14.70291157171018},\n",
              "  'arthurthe': {0: -13.983024267752858, 1: -14.009764391150235},\n",
              "  'catkilling': {0: -13.983024267752858, 1: -14.70291157171018},\n",
              "  'otherness': {0: -14.676171448312804, 1: -13.31661721059029},\n",
              "  'functionality': {0: -13.983024267752858, 1: -13.604299283042069},\n",
              "  'strangler': {0: -13.289877087192913, 1: -11.484035746841979},\n",
              "  'medoly': {0: -13.983024267752858, 1: -14.70291157171018},\n",
              "  'throatbr': {0: -13.066733535878702, 1: -14.009764391150235},\n",
              "  'collie': {0: -13.983024267752858, 1: -12.911152102482124},\n",
              "  'insulationbr': {0: -13.983024267752858, 1: -14.70291157171018},\n",
              "  'itfrom': {0: -13.983024267752858, 1: -14.70291157171018},\n",
              "  'somewhatthe': {0: -14.676171448312804, 1: -14.009764391150235},\n",
              "  'dissolution': {0: -13.289877087192913, 1: -12.50568699437396},\n",
              "  'threeringcircus': {0: -14.676171448312804, 1: -14.009764391150235},\n",
              "  'beresfords': {0: -14.676171448312804, 1: -14.009764391150235},\n",
              "  'jonesand': {0: -13.983024267752858, 1: -14.70291157171018},\n",
              "  'designsudbury': {0: -14.676171448312804, 1: -14.009764391150235},\n",
              "  'electrical': {0: -11.968121247210593, 1: -12.623470030030344},\n",
              "  'retained': {0: -12.73026129925749, 1: -11.930322849470398},\n",
              "  'timesparticularly': {0: -13.983024267752858, 1: -14.70291157171018},\n",
              "  'heart': {0: -8.743926260864793, 1: -7.900516808385868},\n",
              "  'liman': {0: -14.676171448312804, 1: -14.009764391150235},\n",
              "  'sadnessbr': {0: -14.676171448312804, 1: -13.31661721059029},\n",
              "  'badassed': {0: -14.676171448312804, 1: -14.009764391150235},\n",
              "  'phasebr': {0: -13.983024267752858, 1: -14.70291157171018},\n",
              "  'exercising': {0: -14.676171448312804, 1: -13.31661721059029},\n",
              "  'polyester': {0: -12.596729906632968, 1: -12.757001422654866},\n",
              "  'teenhorrordevilworship': {0: -14.676171448312804, 1: -14.009764391150235},\n",
              "  'regent': {0: -14.676171448312804, 1: -12.30501629891181},\n",
              "  'undertaker': {0: -12.111222090851268, 1: -11.524857741362233},\n",
              "  'upfront': {0: -12.88441197908475, 1: -12.757001422654866},\n",
              "  'momsen': {0: -13.577559159644695, 1: -12.218004921922178},\n",
              "  'hague': {0: -13.983024267752858, 1: -14.009764391150235},\n",
              "  'gotmore': {0: -13.983024267752858, 1: -14.70291157171018},\n",
              "  'closeup': {0: -10.051198635028532, 1: -10.117944093039608},\n",
              "  'wellmeasured': {0: -13.983024267752858, 1: -14.70291157171018},\n",
              "  'hyungrae': {0: -13.289877087192913, 1: -14.70291157171018},\n",
              "  'foiled': {0: -13.289877087192913, 1: -13.604299283042069},\n",
              "  'omitted': {0: -12.191264798524804, 1: -12.400326478716133},\n",
              "  'scullymulder': {0: -13.983024267752858, 1: -14.70291157171018},\n",
              "  'gunairplane': {0: -14.676171448312804, 1: -14.009764391150235},\n",
              "  'splash': {0: -11.785799690416638, 1: -11.56741735578103},\n",
              "  'developmentexactly': {0: -13.983024267752858, 1: -14.70291157171018},\n",
              "  'meldrick': {0: -14.676171448312804, 1: -14.009764391150235},\n",
              "  'appears': {0: -8.564704108810126, 1: -8.760112196583478},\n",
              "  'countoo': {0: -13.983024267752858, 1: -14.70291157171018},\n",
              "  'rape': {0: -9.2512214308314, 1: -9.719304950001844},\n",
              "  'dahduhdahduh': {0: -14.676171448312804, 1: -14.009764391150235},\n",
              "  'policemenbr': {0: -14.676171448312804, 1: -14.009764391150235},\n",
              "  'pseudomiracles': {0: -14.676171448312804, 1: -14.009764391150235},\n",
              "  'tigerland': {0: -13.577559159644695, 1: -11.301714190048024},\n",
              "  'afleck': {0: -13.983024267752858, 1: -14.009764391150235},\n",
              "  'reoccurring': {0: -13.066733535878702, 1: -13.604299283042069},\n",
              "  'incarcerationbr': {0: -14.676171448312804, 1: -14.009764391150235},\n",
              "  'ecclestones': {0: -13.577559159644695, 1: -14.70291157171018},\n",
              "  'stalled': {0: -13.066733535878702, 1: -14.009764391150235},\n",
              "  'paparazzo': {0: -13.983024267752858, 1: -13.31661721059029},\n",
              "  'fixwho': {0: -13.983024267752858, 1: -14.70291157171018},\n",
              "  'okthe': {0: -13.983024267752858, 1: -14.70291157171018},\n",
              "  'uruguayan': {0: -13.983024267752858, 1: -14.70291157171018},\n",
              "  'renames': {0: -13.983024267752858, 1: -14.70291157171018},\n",
              "  'yoga': {0: -12.73026129925749, 1: -14.70291157171018},\n",
              "  'outgoing': {0: -13.983024267752858, 1: -12.623470030030344},\n",
              "  'faat': {0: -12.88441197908475, 1: -14.70291157171018},\n",
              "  'blist': {0: -12.73026129925749, 1: -14.009764391150235},\n",
              "  'toothy': {0: -13.983024267752858, 1: -14.009764391150235},\n",
              "  'preadolescence': {0: -14.676171448312804, 1: -14.009764391150235},\n",
              "  'carel': {0: -13.577559159644695, 1: -14.70291157171018},\n",
              "  'ballard': {0: -12.73026129925749, 1: -14.009764391150235},\n",
              "  'delusional': {0: -12.373586355318757, 1: -12.218004921922178},\n",
              "  'graverobber': {0: -13.983024267752858, 1: -14.70291157171018},\n",
              "  'amneris': {0: -14.676171448312804, 1: -14.009764391150235},\n",
              "  'clownbr': {0: -13.983024267752858, 1: -14.70291157171018},\n",
              "  'emilfork': {0: -13.983024267752858, 1: -14.70291157171018},\n",
              "  'offit': {0: -14.676171448312804, 1: -14.009764391150235},\n",
              "  'armwaving': {0: -13.289877087192913, 1: -13.604299283042069},\n",
              "  'karsis': {0: -14.676171448312804, 1: -14.009764391150235},\n",
              "  'paton': {0: -13.289877087192913, 1: -14.70291157171018},\n",
              "  'scoredand': {0: -14.676171448312804, 1: -14.009764391150235},\n",
              "  'didacticbr': {0: -13.983024267752858, 1: -14.70291157171018},\n",
              "  'gumchewing': {0: -14.676171448312804, 1: -13.604299283042069},\n",
              "  'thackeraybr': {0: -14.676171448312804, 1: -14.009764391150235},\n",
              "  'mistressshelley': {0: -14.676171448312804, 1: -14.009764391150235},\n",
              "  'ratingsreviews': {0: -13.983024267752858, 1: -14.70291157171018},\n",
              "  'lukewarm': {0: -11.842958104256587, 1: -13.31661721059029},\n",
              "  'ghoul': {0: -12.037114118697545, 1: -13.093473659276079},\n",
              "  'hubbybr': {0: -14.676171448312804, 1: -14.009764391150235},\n",
              "  'stairwell': {0: -12.73026129925749, 1: -13.31661721059029},\n",
              "  'eatbr': {0: -13.983024267752858, 1: -14.009764391150235},\n",
              "  'formulaic': {0: -10.549037063267711, 1: -11.147563510220765},\n",
              "  'adam': {0: -9.54627273338973, 1: -9.282376572437894},\n",
              "  'maxed': {0: -14.676171448312804, 1: -14.009764391150235},\n",
              "  'zerostar': {0: -13.983024267752858, 1: -14.70291157171018},\n",
              "  'chemistry': {0: -9.387904417618268, 1: -9.057464674066942},\n",
              "  'chintz': {0: -13.983024267752858, 1: -14.70291157171018},\n",
              "  'nonvampire': {0: -13.983024267752858, 1: -14.70291157171018},\n",
              "  'cutscenesbr': {0: -14.676171448312804, 1: -14.009764391150235},\n",
              "  'tcp': {0: -13.983024267752858, 1: -14.70291157171018},\n",
              "  'whatjust': {0: -13.983024267752858, 1: -14.70291157171018},\n",
              "  'fatequite': {0: -13.983024267752858, 1: -14.70291157171018},\n",
              "  'objectifier': {0: -14.676171448312804, 1: -14.009764391150235},\n",
              "  'shepley': {0: -13.983024267752858, 1: -14.70291157171018},\n",
              "  'hoyt': {0: -13.983024267752858, 1: -12.911152102482124},\n",
              "  'dignityand': {0: -13.983024267752858, 1: -14.70291157171018},\n",
              "  'isfrom': {0: -13.983024267752858, 1: -14.70291157171018},\n",
              "  'whitney': {0: -13.066733535878702, 1: -12.911152102482124},\n",
              "  'acerbity': {0: -14.676171448312804, 1: -14.009764391150235},\n",
              "  'creeklike': {0: -14.676171448312804, 1: -14.009764391150235},\n",
              "  'humming': {0: -12.373586355318757, 1: -12.137962214248642},\n",
              "  'flippant': {0: -12.73026129925749, 1: -12.400326478716133},\n",
              "  'bandwidth': {0: -13.983024267752858, 1: -14.70291157171018},\n",
              "  'selfserving': {0: -12.191264798524804, 1: -12.30501629891181},\n",
              "  'anglaise': {0: -14.676171448312804, 1: -14.009764391150235},\n",
              "  'semibeing': {0: -14.676171448312804, 1: -14.009764391150235},\n",
              "  'gander': {0: -13.577559159644695, 1: -12.911152102482124},\n",
              "  'font': {0: -12.88441197908475, 1: -14.009764391150235},\n",
              "  'blondies': {0: -13.983024267752858, 1: -14.70291157171018},\n",
              "  'smeatons': {0: -14.676171448312804, 1: -14.009764391150235},\n",
              "  'onyou': {0: -14.676171448312804, 1: -14.009764391150235},\n",
              "  'offended': {0: -10.413491571271488, 1: -11.268924367225033},\n",
              "  'themwas': {0: -14.676171448312804, 1: -14.009764391150235},\n",
              "  'obama': {0: -13.577559159644695, 1: -14.009764391150235},\n",
              "  'instuff': {0: -14.676171448312804, 1: -14.009764391150235},\n",
              "  'polchak': {0: -13.983024267752858, 1: -14.70291157171018},\n",
              "  'pommel': {0: -13.289877087192913, 1: -14.70291157171018},\n",
              "  'insomniac': {0: -12.111222090851268, 1: -11.75847259254374},\n",
              "  'partisan': {0: -13.577559159644695, 1: -13.604299283042069},\n",
              "  'regs': {0: -13.983024267752858, 1: -14.70291157171018},\n",
              "  'leslieleslie': {0: -13.983024267752858, 1: -14.70291157171018},\n",
              "  'magickal': {0: -14.676171448312804, 1: -13.604299283042069},\n",
              "  'borstein': {0: -13.983024267752858, 1: -14.70291157171018},\n",
              "  'bilious': {0: -12.88441197908475, 1: -14.70291157171018},\n",
              "  'callaghan': {0: -13.577559159644695, 1: -14.70291157171018},\n",
              "  'enthusiast': {0: -11.585128994954488, 1: -11.611869118351864},\n",
              "  'bikram': {0: -14.676171448312804, 1: -13.604299283042069},\n",
              "  'bargepoles': {0: -13.983024267752858, 1: -14.70291157171018},\n",
              "  'conan': {0: -11.380334582308475, 1: -11.176551047094017},\n",
              "  'yorker': {0: -12.037114118697545, 1: -12.757001422654866},\n",
              "  'endingwhich': {0: -13.983024267752858, 1: -14.009764391150235},\n",
              "  'sickofor': {0: -14.676171448312804, 1: -14.009764391150235},\n",
              "  'spookily': {0: -14.676171448312804, 1: -13.31661721059029},\n",
              "  'eyeroller': {0: -13.983024267752858, 1: -14.70291157171018},\n",
              "  'goldmember': {0: -13.983024267752858, 1: -14.009764391150235},\n",
              "  'dialoguedrivenbr': {0: -14.676171448312804, 1: -14.009764391150235},\n",
              "  'filing': {0: -12.88441197908475, 1: -12.757001422654866},\n",
              "  'bechlar': {0: -14.676171448312804, 1: -14.009764391150235},\n",
              "  'partlyreligious': {0: -14.676171448312804, 1: -14.009764391150235},\n",
              "  'meet': {0: -8.459565347227938, 1: -7.988741041800708},\n",
              "  'regrettably': {0: -12.596729906632968, 1: -12.218004921922178},\n",
              "  'beeping': {0: -13.577559159644695, 1: -14.009764391150235},\n",
              "  'masterworksbr': {0: -14.676171448312804, 1: -14.009764391150235},\n",
              "  'justine': {0: -12.73026129925749, 1: -13.093473659276079},\n",
              "  'stairsbr': {0: -14.676171448312804, 1: -13.31661721059029},\n",
              "  'grass': {0: -11.274974066650648, 1: -11.370707061534976},\n",
              "  'actioner': {0: -12.278276175514433, 1: -12.623470030030344},\n",
              "  'ideashmmmm': {0: -14.676171448312804, 1: -14.009764391150235},\n",
              "  'eyelid': {0: -12.478946870976584, 1: -14.70291157171018},\n",
              "  'superheromovie': {0: -13.983024267752858, 1: -14.009764391150235},\n",
              "  'costumessome': {0: -13.983024267752858, 1: -14.70291157171018},\n",
              "  'j': {0: -14.676171448312804, 1: -14.009764391150235},\n",
              "  'lesbianism': {0: -12.037114118697545, 1: -12.30501629891181},\n",
              "  'akcent': {0: -13.983024267752858, 1: -14.70291157171018},\n",
              "  'stillm': {0: -14.676171448312804, 1: -14.009764391150235},\n",
              "  'artful': {0: -12.191264798524804, 1: -11.75847259254374},\n",
              "  'selfobsessed': {0: -12.88441197908475, 1: -13.604299283042069},\n",
              "  'actorslashmodel': {0: -13.983024267752858, 1: -14.70291157171018},\n",
              "  'eug': {0: -14.676171448312804, 1: -14.009764391150235},\n",
              "  'vampira': {0: -14.676171448312804, 1: -13.093473659276079},\n",
              "  'lorain': {0: -13.983024267752858, 1: -14.70291157171018},\n",
              "  'addsubtractmultiplydivide': {0: -13.983024267752858, 1: -14.70291157171018},\n",
              "  'wally': {0: -12.278276175514433, 1: -12.218004921922178},\n",
              "  'prosecution': {0: -12.596729906632968, 1: -12.50568699437396},\n",
              "  'moviethen': {0: -13.983024267752858, 1: -14.009764391150235},\n",
              "  'earplug': {0: -13.577559159644695, 1: -14.70291157171018},\n",
              "  'grodin': {0: -12.278276175514433, 1: -14.70291157171018},\n",
              "  'funney': {0: -14.676171448312804, 1: -13.31661721059029},\n",
              "  'laidoff': {0: -14.676171448312804, 1: -14.009764391150235},\n",
              "  'contenderbr': {0: -14.676171448312804, 1: -14.009764391150235},\n",
              "  'characterthe': {0: -13.289877087192913, 1: -13.31661721059029},\n",
              "  'shuttered': {0: -13.983024267752858, 1: -14.70291157171018},\n",
              "  'thinksbr': {0: -13.983024267752858, 1: -13.604299283042069},\n",
              "  'doubledealerworking': {0: -13.983024267752858, 1: -14.70291157171018},\n",
              "  'eyescene': {0: -13.983024267752858, 1: -14.70291157171018},\n",
              "  'santells': {0: -13.983024267752858, 1: -14.70291157171018},\n",
              "  'faxed': {0: -14.676171448312804, 1: -14.009764391150235},\n",
              "  'whitneybr': {0: -14.676171448312804, 1: -13.604299283042069},\n",
              "  'elsewise': {0: -14.676171448312804, 1: -14.009764391150235},\n",
              "  'through': {0: -6.84932935015451, 1: -6.929317104349986},\n",
              "  'feeblebr': {0: -13.983024267752858, 1: -14.70291157171018},\n",
              "  'competency': {0: -12.88441197908475, 1: -14.009764391150235},\n",
              "  'parapsychologist': {0: -13.983024267752858, 1: -13.604299283042069},\n",
              "  'alisha': {0: -14.676171448312804, 1: -13.31661721059029},\n",
              "  'porshe': {0: -13.983024267752858, 1: -14.70291157171018},\n",
              "  'timepasserbut': {0: -14.676171448312804, 1: -14.009764391150235},\n",
              "  'middletonthe': {0: -13.983024267752858, 1: -14.70291157171018},\n",
              "  'innovator': {0: -13.289877087192913, 1: -14.70291157171018},\n",
              "  'corkerbr': {0: -14.676171448312804, 1: -14.009764391150235},\n",
              "  'slaterthese': {0: -13.983024267752858, 1: -14.70291157171018},\n",
              "  'shandy': {0: -13.983024267752858, 1: -14.70291157171018},\n",
              "  'tobogganing': {0: -13.983024267752858, 1: -14.70291157171018},\n",
              "  'latestand': {0: -14.676171448312804, 1: -14.009764391150235},\n",
              "  'starblazers': {0: -14.676171448312804, 1: -14.009764391150235},\n",
              "  'himselfand': {0: -13.983024267752858, 1: -14.70291157171018},\n",
              "  'flashbr': {0: -13.983024267752858, 1: -14.70291157171018},\n",
              "  'eastward': {0: -14.676171448312804, 1: -14.009764391150235},\n",
              "  'element': {0: -8.451613019037444, 1: -8.229020875357904},\n",
              "  'excempt': {0: -14.676171448312804, 1: -14.009764391150235},\n",
              "  'gregor': {0: -13.577559159644695, 1: -13.604299283042069},\n",
              "  'retractable': {0: -13.983024267752858, 1: -14.009764391150235},\n",
              "  'diebr': {0: -11.785799690416638, 1: -12.50568699437396},\n",
              "  'almosthypnotic': {0: -14.676171448312804, 1: -14.009764391150235},\n",
              "  'amen': {0: -13.066733535878702, 1: -13.31661721059029},\n",
              "  'lessthanhonorable': {0: -14.676171448312804, 1: -14.009764391150235},\n",
              "  'happily': {0: -10.517288364953131, 1: -10.260260315219863},\n",
              "  'pucking': {0: -14.676171448312804, 1: -14.009764391150235},\n",
              "  'eyred': {0: -14.676171448312804, 1: -14.009764391150235},\n",
              "  'blackboardbr': {0: -13.983024267752858, 1: -14.70291157171018},\n",
              "  'datebr': {0: -12.73026129925749, 1: -12.623470030030344},\n",
              "  'scuffedbr': {0: -14.676171448312804, 1: -14.009764391150235},\n",
              "  'pishposh': {0: -13.983024267752858, 1: -14.70291157171018},\n",
              "  'compassion': {0: -11.585128994954488, 1: -10.62537412780446},\n",
              "  'freewheeling': {0: -13.983024267752858, 1: -13.604299283042069},\n",
              "  'deathloved': {0: -14.676171448312804, 1: -14.009764391150235},\n",
              "  'jabba': {0: -13.983024267752858, 1: -11.40707470570585},\n",
              "  ...})"
            ]
          },
          "metadata": {},
          "execution_count": 31
        }
      ]
    },
    {
      "cell_type": "markdown",
      "source": [
        "### Accuracy on both training and test set"
      ],
      "metadata": {
        "id": "8-5y07g6-8Yt"
      }
    },
    {
      "cell_type": "markdown",
      "source": [
        "#### Converte test imdb to a dataframe"
      ],
      "metadata": {
        "id": "sZEfspkctMAc"
      }
    },
    {
      "cell_type": "code",
      "source": [
        "df_imdb_test = pd.DataFrame(data = imdb_test)"
      ],
      "metadata": {
        "id": "umkr_UiOtVGW"
      },
      "execution_count": 32,
      "outputs": []
    },
    {
      "cell_type": "code",
      "source": [
        "df_imdb_test.head()"
      ],
      "metadata": {
        "colab": {
          "base_uri": "https://localhost:8080/",
          "height": 201
        },
        "id": "ADD4tbZYJWKd",
        "outputId": "c335a247-e367-495e-e072-578055768cea"
      },
      "execution_count": 33,
      "outputs": [
        {
          "output_type": "execute_result",
          "data": {
            "text/plain": [
              "                                                text  label\n",
              "0  I love sci-fi and am willing to put up with a ...      0\n",
              "1  Worth the entertainment value of a rental, esp...      0\n",
              "2  its a totally average film with a few semi-alr...      0\n",
              "3  STAR RATING: ***** Saturday Night **** Friday ...      0\n",
              "4  First off let me say, If you haven't enjoyed a...      0"
            ],
            "text/html": [
              "\n",
              "  <div id=\"df-03f3df4b-03b3-4b32-90ea-08d9d8eb4115\">\n",
              "    <div class=\"colab-df-container\">\n",
              "      <div>\n",
              "<style scoped>\n",
              "    .dataframe tbody tr th:only-of-type {\n",
              "        vertical-align: middle;\n",
              "    }\n",
              "\n",
              "    .dataframe tbody tr th {\n",
              "        vertical-align: top;\n",
              "    }\n",
              "\n",
              "    .dataframe thead th {\n",
              "        text-align: right;\n",
              "    }\n",
              "</style>\n",
              "<table border=\"1\" class=\"dataframe\">\n",
              "  <thead>\n",
              "    <tr style=\"text-align: right;\">\n",
              "      <th></th>\n",
              "      <th>text</th>\n",
              "      <th>label</th>\n",
              "    </tr>\n",
              "  </thead>\n",
              "  <tbody>\n",
              "    <tr>\n",
              "      <th>0</th>\n",
              "      <td>I love sci-fi and am willing to put up with a ...</td>\n",
              "      <td>0</td>\n",
              "    </tr>\n",
              "    <tr>\n",
              "      <th>1</th>\n",
              "      <td>Worth the entertainment value of a rental, esp...</td>\n",
              "      <td>0</td>\n",
              "    </tr>\n",
              "    <tr>\n",
              "      <th>2</th>\n",
              "      <td>its a totally average film with a few semi-alr...</td>\n",
              "      <td>0</td>\n",
              "    </tr>\n",
              "    <tr>\n",
              "      <th>3</th>\n",
              "      <td>STAR RATING: ***** Saturday Night **** Friday ...</td>\n",
              "      <td>0</td>\n",
              "    </tr>\n",
              "    <tr>\n",
              "      <th>4</th>\n",
              "      <td>First off let me say, If you haven't enjoyed a...</td>\n",
              "      <td>0</td>\n",
              "    </tr>\n",
              "  </tbody>\n",
              "</table>\n",
              "</div>\n",
              "      <button class=\"colab-df-convert\" onclick=\"convertToInteractive('df-03f3df4b-03b3-4b32-90ea-08d9d8eb4115')\"\n",
              "              title=\"Convert this dataframe to an interactive table.\"\n",
              "              style=\"display:none;\">\n",
              "        \n",
              "  <svg xmlns=\"http://www.w3.org/2000/svg\" height=\"24px\"viewBox=\"0 0 24 24\"\n",
              "       width=\"24px\">\n",
              "    <path d=\"M0 0h24v24H0V0z\" fill=\"none\"/>\n",
              "    <path d=\"M18.56 5.44l.94 2.06.94-2.06 2.06-.94-2.06-.94-.94-2.06-.94 2.06-2.06.94zm-11 1L8.5 8.5l.94-2.06 2.06-.94-2.06-.94L8.5 2.5l-.94 2.06-2.06.94zm10 10l.94 2.06.94-2.06 2.06-.94-2.06-.94-.94-2.06-.94 2.06-2.06.94z\"/><path d=\"M17.41 7.96l-1.37-1.37c-.4-.4-.92-.59-1.43-.59-.52 0-1.04.2-1.43.59L10.3 9.45l-7.72 7.72c-.78.78-.78 2.05 0 2.83L4 21.41c.39.39.9.59 1.41.59.51 0 1.02-.2 1.41-.59l7.78-7.78 2.81-2.81c.8-.78.8-2.07 0-2.86zM5.41 20L4 18.59l7.72-7.72 1.47 1.35L5.41 20z\"/>\n",
              "  </svg>\n",
              "      </button>\n",
              "      \n",
              "  <style>\n",
              "    .colab-df-container {\n",
              "      display:flex;\n",
              "      flex-wrap:wrap;\n",
              "      gap: 12px;\n",
              "    }\n",
              "\n",
              "    .colab-df-convert {\n",
              "      background-color: #E8F0FE;\n",
              "      border: none;\n",
              "      border-radius: 50%;\n",
              "      cursor: pointer;\n",
              "      display: none;\n",
              "      fill: #1967D2;\n",
              "      height: 32px;\n",
              "      padding: 0 0 0 0;\n",
              "      width: 32px;\n",
              "    }\n",
              "\n",
              "    .colab-df-convert:hover {\n",
              "      background-color: #E2EBFA;\n",
              "      box-shadow: 0px 1px 2px rgba(60, 64, 67, 0.3), 0px 1px 3px 1px rgba(60, 64, 67, 0.15);\n",
              "      fill: #174EA6;\n",
              "    }\n",
              "\n",
              "    [theme=dark] .colab-df-convert {\n",
              "      background-color: #3B4455;\n",
              "      fill: #D2E3FC;\n",
              "    }\n",
              "\n",
              "    [theme=dark] .colab-df-convert:hover {\n",
              "      background-color: #434B5C;\n",
              "      box-shadow: 0px 1px 3px 1px rgba(0, 0, 0, 0.15);\n",
              "      filter: drop-shadow(0px 1px 2px rgba(0, 0, 0, 0.3));\n",
              "      fill: #FFFFFF;\n",
              "    }\n",
              "  </style>\n",
              "\n",
              "      <script>\n",
              "        const buttonEl =\n",
              "          document.querySelector('#df-03f3df4b-03b3-4b32-90ea-08d9d8eb4115 button.colab-df-convert');\n",
              "        buttonEl.style.display =\n",
              "          google.colab.kernel.accessAllowed ? 'block' : 'none';\n",
              "\n",
              "        async function convertToInteractive(key) {\n",
              "          const element = document.querySelector('#df-03f3df4b-03b3-4b32-90ea-08d9d8eb4115');\n",
              "          const dataTable =\n",
              "            await google.colab.kernel.invokeFunction('convertToInteractive',\n",
              "                                                     [key], {});\n",
              "          if (!dataTable) return;\n",
              "\n",
              "          const docLinkHtml = 'Like what you see? Visit the ' +\n",
              "            '<a target=\"_blank\" href=https://colab.research.google.com/notebooks/data_table.ipynb>data table notebook</a>'\n",
              "            + ' to learn more about interactive tables.';\n",
              "          element.innerHTML = '';\n",
              "          dataTable['output_type'] = 'display_data';\n",
              "          await google.colab.output.renderOutput(dataTable, element);\n",
              "          const docLink = document.createElement('div');\n",
              "          docLink.innerHTML = docLinkHtml;\n",
              "          element.appendChild(docLink);\n",
              "        }\n",
              "      </script>\n",
              "    </div>\n",
              "  </div>\n",
              "  "
            ]
          },
          "metadata": {},
          "execution_count": 33
        }
      ]
    },
    {
      "cell_type": "markdown",
      "source": [
        "#### Pretreatment of test imdb"
      ],
      "metadata": {
        "id": "_zapMnt_Immb"
      }
    },
    {
      "cell_type": "code",
      "source": [
        "df_imdb_test['text'] = df_imdb_test['text'].apply(pre_treatment)"
      ],
      "metadata": {
        "id": "b3XvTQKII0ip"
      },
      "execution_count": 34,
      "outputs": []
    },
    {
      "cell_type": "code",
      "source": [
        "df_imdb_test.head()"
      ],
      "metadata": {
        "colab": {
          "base_uri": "https://localhost:8080/",
          "height": 201
        },
        "id": "YjIxS51Oiycb",
        "outputId": "f936344f-7afb-4a74-f75b-afa008883633"
      },
      "execution_count": 35,
      "outputs": [
        {
          "output_type": "execute_result",
          "data": {
            "text/plain": [
              "                                                text  label\n",
              "0  love scifi and willing put with lot scifi movi...      0\n",
              "1  worth the entertainment value rental especiall...      0\n",
              "2  it totally average film with few semialright a...      0\n",
              "3  star rating saturday night friday night friday...      0\n",
              "4  first off let say you havent enjoyed van damme...      0"
            ],
            "text/html": [
              "\n",
              "  <div id=\"df-c114d31f-3d25-4091-9756-5d10ed3940b5\">\n",
              "    <div class=\"colab-df-container\">\n",
              "      <div>\n",
              "<style scoped>\n",
              "    .dataframe tbody tr th:only-of-type {\n",
              "        vertical-align: middle;\n",
              "    }\n",
              "\n",
              "    .dataframe tbody tr th {\n",
              "        vertical-align: top;\n",
              "    }\n",
              "\n",
              "    .dataframe thead th {\n",
              "        text-align: right;\n",
              "    }\n",
              "</style>\n",
              "<table border=\"1\" class=\"dataframe\">\n",
              "  <thead>\n",
              "    <tr style=\"text-align: right;\">\n",
              "      <th></th>\n",
              "      <th>text</th>\n",
              "      <th>label</th>\n",
              "    </tr>\n",
              "  </thead>\n",
              "  <tbody>\n",
              "    <tr>\n",
              "      <th>0</th>\n",
              "      <td>love scifi and willing put with lot scifi movi...</td>\n",
              "      <td>0</td>\n",
              "    </tr>\n",
              "    <tr>\n",
              "      <th>1</th>\n",
              "      <td>worth the entertainment value rental especiall...</td>\n",
              "      <td>0</td>\n",
              "    </tr>\n",
              "    <tr>\n",
              "      <th>2</th>\n",
              "      <td>it totally average film with few semialright a...</td>\n",
              "      <td>0</td>\n",
              "    </tr>\n",
              "    <tr>\n",
              "      <th>3</th>\n",
              "      <td>star rating saturday night friday night friday...</td>\n",
              "      <td>0</td>\n",
              "    </tr>\n",
              "    <tr>\n",
              "      <th>4</th>\n",
              "      <td>first off let say you havent enjoyed van damme...</td>\n",
              "      <td>0</td>\n",
              "    </tr>\n",
              "  </tbody>\n",
              "</table>\n",
              "</div>\n",
              "      <button class=\"colab-df-convert\" onclick=\"convertToInteractive('df-c114d31f-3d25-4091-9756-5d10ed3940b5')\"\n",
              "              title=\"Convert this dataframe to an interactive table.\"\n",
              "              style=\"display:none;\">\n",
              "        \n",
              "  <svg xmlns=\"http://www.w3.org/2000/svg\" height=\"24px\"viewBox=\"0 0 24 24\"\n",
              "       width=\"24px\">\n",
              "    <path d=\"M0 0h24v24H0V0z\" fill=\"none\"/>\n",
              "    <path d=\"M18.56 5.44l.94 2.06.94-2.06 2.06-.94-2.06-.94-.94-2.06-.94 2.06-2.06.94zm-11 1L8.5 8.5l.94-2.06 2.06-.94-2.06-.94L8.5 2.5l-.94 2.06-2.06.94zm10 10l.94 2.06.94-2.06 2.06-.94-2.06-.94-.94-2.06-.94 2.06-2.06.94z\"/><path d=\"M17.41 7.96l-1.37-1.37c-.4-.4-.92-.59-1.43-.59-.52 0-1.04.2-1.43.59L10.3 9.45l-7.72 7.72c-.78.78-.78 2.05 0 2.83L4 21.41c.39.39.9.59 1.41.59.51 0 1.02-.2 1.41-.59l7.78-7.78 2.81-2.81c.8-.78.8-2.07 0-2.86zM5.41 20L4 18.59l7.72-7.72 1.47 1.35L5.41 20z\"/>\n",
              "  </svg>\n",
              "      </button>\n",
              "      \n",
              "  <style>\n",
              "    .colab-df-container {\n",
              "      display:flex;\n",
              "      flex-wrap:wrap;\n",
              "      gap: 12px;\n",
              "    }\n",
              "\n",
              "    .colab-df-convert {\n",
              "      background-color: #E8F0FE;\n",
              "      border: none;\n",
              "      border-radius: 50%;\n",
              "      cursor: pointer;\n",
              "      display: none;\n",
              "      fill: #1967D2;\n",
              "      height: 32px;\n",
              "      padding: 0 0 0 0;\n",
              "      width: 32px;\n",
              "    }\n",
              "\n",
              "    .colab-df-convert:hover {\n",
              "      background-color: #E2EBFA;\n",
              "      box-shadow: 0px 1px 2px rgba(60, 64, 67, 0.3), 0px 1px 3px 1px rgba(60, 64, 67, 0.15);\n",
              "      fill: #174EA6;\n",
              "    }\n",
              "\n",
              "    [theme=dark] .colab-df-convert {\n",
              "      background-color: #3B4455;\n",
              "      fill: #D2E3FC;\n",
              "    }\n",
              "\n",
              "    [theme=dark] .colab-df-convert:hover {\n",
              "      background-color: #434B5C;\n",
              "      box-shadow: 0px 1px 3px 1px rgba(0, 0, 0, 0.15);\n",
              "      filter: drop-shadow(0px 1px 2px rgba(0, 0, 0, 0.3));\n",
              "      fill: #FFFFFF;\n",
              "    }\n",
              "  </style>\n",
              "\n",
              "      <script>\n",
              "        const buttonEl =\n",
              "          document.querySelector('#df-c114d31f-3d25-4091-9756-5d10ed3940b5 button.colab-df-convert');\n",
              "        buttonEl.style.display =\n",
              "          google.colab.kernel.accessAllowed ? 'block' : 'none';\n",
              "\n",
              "        async function convertToInteractive(key) {\n",
              "          const element = document.querySelector('#df-c114d31f-3d25-4091-9756-5d10ed3940b5');\n",
              "          const dataTable =\n",
              "            await google.colab.kernel.invokeFunction('convertToInteractive',\n",
              "                                                     [key], {});\n",
              "          if (!dataTable) return;\n",
              "\n",
              "          const docLinkHtml = 'Like what you see? Visit the ' +\n",
              "            '<a target=\"_blank\" href=https://colab.research.google.com/notebooks/data_table.ipynb>data table notebook</a>'\n",
              "            + ' to learn more about interactive tables.';\n",
              "          element.innerHTML = '';\n",
              "          dataTable['output_type'] = 'display_data';\n",
              "          await google.colab.output.renderOutput(dataTable, element);\n",
              "          const docLink = document.createElement('div');\n",
              "          docLink.innerHTML = docLinkHtml;\n",
              "          element.appendChild(docLink);\n",
              "        }\n",
              "      </script>\n",
              "    </div>\n",
              "  </div>\n",
              "  "
            ]
          },
          "metadata": {},
          "execution_count": 35
        }
      ]
    },
    {
      "cell_type": "markdown",
      "source": [
        "#### Prediction"
      ],
      "metadata": {
        "id": "z12iGfuPs5ei"
      }
    },
    {
      "cell_type": "code",
      "source": [
        "df_imdb_train['prediction'] = df_imdb_train.apply(lambda row: test_naive_bayes(row['text'], log_prior, log_likelihood, classes, vocabulary), axis=1)"
      ],
      "metadata": {
        "id": "RTVuaBmhzisY"
      },
      "execution_count": 36,
      "outputs": []
    },
    {
      "cell_type": "code",
      "source": [
        "df_imdb_test['prediction'] = df_imdb_test.apply(lambda row: test_naive_bayes(row['text'], log_prior, log_likelihood, classes, vocabulary), axis=1)"
      ],
      "metadata": {
        "id": "kFyfgXnertTt"
      },
      "execution_count": 37,
      "outputs": []
    },
    {
      "cell_type": "code",
      "source": [
        "df_imdb_train.head()"
      ],
      "metadata": {
        "colab": {
          "base_uri": "https://localhost:8080/",
          "height": 201
        },
        "id": "uoix2TtLBv3x",
        "outputId": "71983e34-5e25-43b8-9277-02296791f82c"
      },
      "execution_count": 38,
      "outputs": [
        {
          "output_type": "execute_result",
          "data": {
            "text/plain": [
              "                                                text  label  prediction\n",
              "0  rented curiousyellow from video store because ...      0           0\n",
              "1  curious yellow risible and pretentious steamin...      0           0\n",
              "2  only avoid making this type film the future th...      0           0\n",
              "3  this film wa probably inspired godard masculin...      0           0\n",
              "4  brotherafter hearing about this ridiculous fil...      0           0"
            ],
            "text/html": [
              "\n",
              "  <div id=\"df-584ad59e-9aac-4b88-aa33-ba366e48e86e\">\n",
              "    <div class=\"colab-df-container\">\n",
              "      <div>\n",
              "<style scoped>\n",
              "    .dataframe tbody tr th:only-of-type {\n",
              "        vertical-align: middle;\n",
              "    }\n",
              "\n",
              "    .dataframe tbody tr th {\n",
              "        vertical-align: top;\n",
              "    }\n",
              "\n",
              "    .dataframe thead th {\n",
              "        text-align: right;\n",
              "    }\n",
              "</style>\n",
              "<table border=\"1\" class=\"dataframe\">\n",
              "  <thead>\n",
              "    <tr style=\"text-align: right;\">\n",
              "      <th></th>\n",
              "      <th>text</th>\n",
              "      <th>label</th>\n",
              "      <th>prediction</th>\n",
              "    </tr>\n",
              "  </thead>\n",
              "  <tbody>\n",
              "    <tr>\n",
              "      <th>0</th>\n",
              "      <td>rented curiousyellow from video store because ...</td>\n",
              "      <td>0</td>\n",
              "      <td>0</td>\n",
              "    </tr>\n",
              "    <tr>\n",
              "      <th>1</th>\n",
              "      <td>curious yellow risible and pretentious steamin...</td>\n",
              "      <td>0</td>\n",
              "      <td>0</td>\n",
              "    </tr>\n",
              "    <tr>\n",
              "      <th>2</th>\n",
              "      <td>only avoid making this type film the future th...</td>\n",
              "      <td>0</td>\n",
              "      <td>0</td>\n",
              "    </tr>\n",
              "    <tr>\n",
              "      <th>3</th>\n",
              "      <td>this film wa probably inspired godard masculin...</td>\n",
              "      <td>0</td>\n",
              "      <td>0</td>\n",
              "    </tr>\n",
              "    <tr>\n",
              "      <th>4</th>\n",
              "      <td>brotherafter hearing about this ridiculous fil...</td>\n",
              "      <td>0</td>\n",
              "      <td>0</td>\n",
              "    </tr>\n",
              "  </tbody>\n",
              "</table>\n",
              "</div>\n",
              "      <button class=\"colab-df-convert\" onclick=\"convertToInteractive('df-584ad59e-9aac-4b88-aa33-ba366e48e86e')\"\n",
              "              title=\"Convert this dataframe to an interactive table.\"\n",
              "              style=\"display:none;\">\n",
              "        \n",
              "  <svg xmlns=\"http://www.w3.org/2000/svg\" height=\"24px\"viewBox=\"0 0 24 24\"\n",
              "       width=\"24px\">\n",
              "    <path d=\"M0 0h24v24H0V0z\" fill=\"none\"/>\n",
              "    <path d=\"M18.56 5.44l.94 2.06.94-2.06 2.06-.94-2.06-.94-.94-2.06-.94 2.06-2.06.94zm-11 1L8.5 8.5l.94-2.06 2.06-.94-2.06-.94L8.5 2.5l-.94 2.06-2.06.94zm10 10l.94 2.06.94-2.06 2.06-.94-2.06-.94-.94-2.06-.94 2.06-2.06.94z\"/><path d=\"M17.41 7.96l-1.37-1.37c-.4-.4-.92-.59-1.43-.59-.52 0-1.04.2-1.43.59L10.3 9.45l-7.72 7.72c-.78.78-.78 2.05 0 2.83L4 21.41c.39.39.9.59 1.41.59.51 0 1.02-.2 1.41-.59l7.78-7.78 2.81-2.81c.8-.78.8-2.07 0-2.86zM5.41 20L4 18.59l7.72-7.72 1.47 1.35L5.41 20z\"/>\n",
              "  </svg>\n",
              "      </button>\n",
              "      \n",
              "  <style>\n",
              "    .colab-df-container {\n",
              "      display:flex;\n",
              "      flex-wrap:wrap;\n",
              "      gap: 12px;\n",
              "    }\n",
              "\n",
              "    .colab-df-convert {\n",
              "      background-color: #E8F0FE;\n",
              "      border: none;\n",
              "      border-radius: 50%;\n",
              "      cursor: pointer;\n",
              "      display: none;\n",
              "      fill: #1967D2;\n",
              "      height: 32px;\n",
              "      padding: 0 0 0 0;\n",
              "      width: 32px;\n",
              "    }\n",
              "\n",
              "    .colab-df-convert:hover {\n",
              "      background-color: #E2EBFA;\n",
              "      box-shadow: 0px 1px 2px rgba(60, 64, 67, 0.3), 0px 1px 3px 1px rgba(60, 64, 67, 0.15);\n",
              "      fill: #174EA6;\n",
              "    }\n",
              "\n",
              "    [theme=dark] .colab-df-convert {\n",
              "      background-color: #3B4455;\n",
              "      fill: #D2E3FC;\n",
              "    }\n",
              "\n",
              "    [theme=dark] .colab-df-convert:hover {\n",
              "      background-color: #434B5C;\n",
              "      box-shadow: 0px 1px 3px 1px rgba(0, 0, 0, 0.15);\n",
              "      filter: drop-shadow(0px 1px 2px rgba(0, 0, 0, 0.3));\n",
              "      fill: #FFFFFF;\n",
              "    }\n",
              "  </style>\n",
              "\n",
              "      <script>\n",
              "        const buttonEl =\n",
              "          document.querySelector('#df-584ad59e-9aac-4b88-aa33-ba366e48e86e button.colab-df-convert');\n",
              "        buttonEl.style.display =\n",
              "          google.colab.kernel.accessAllowed ? 'block' : 'none';\n",
              "\n",
              "        async function convertToInteractive(key) {\n",
              "          const element = document.querySelector('#df-584ad59e-9aac-4b88-aa33-ba366e48e86e');\n",
              "          const dataTable =\n",
              "            await google.colab.kernel.invokeFunction('convertToInteractive',\n",
              "                                                     [key], {});\n",
              "          if (!dataTable) return;\n",
              "\n",
              "          const docLinkHtml = 'Like what you see? Visit the ' +\n",
              "            '<a target=\"_blank\" href=https://colab.research.google.com/notebooks/data_table.ipynb>data table notebook</a>'\n",
              "            + ' to learn more about interactive tables.';\n",
              "          element.innerHTML = '';\n",
              "          dataTable['output_type'] = 'display_data';\n",
              "          await google.colab.output.renderOutput(dataTable, element);\n",
              "          const docLink = document.createElement('div');\n",
              "          docLink.innerHTML = docLinkHtml;\n",
              "          element.appendChild(docLink);\n",
              "        }\n",
              "      </script>\n",
              "    </div>\n",
              "  </div>\n",
              "  "
            ]
          },
          "metadata": {},
          "execution_count": 38
        }
      ]
    },
    {
      "cell_type": "code",
      "source": [
        "df_imdb_test.head()"
      ],
      "metadata": {
        "colab": {
          "base_uri": "https://localhost:8080/",
          "height": 201
        },
        "id": "pM3YJTvMf6On",
        "outputId": "10757ef0-702d-408c-ccc0-503bac413b1f"
      },
      "execution_count": 39,
      "outputs": [
        {
          "output_type": "execute_result",
          "data": {
            "text/plain": [
              "                                                text  label  prediction\n",
              "0  love scifi and willing put with lot scifi movi...      0           0\n",
              "1  worth the entertainment value rental especiall...      0           0\n",
              "2  it totally average film with few semialright a...      0           0\n",
              "3  star rating saturday night friday night friday...      0           0\n",
              "4  first off let say you havent enjoyed van damme...      0           0"
            ],
            "text/html": [
              "\n",
              "  <div id=\"df-d8692575-1b1c-4494-9671-3bcde91b0492\">\n",
              "    <div class=\"colab-df-container\">\n",
              "      <div>\n",
              "<style scoped>\n",
              "    .dataframe tbody tr th:only-of-type {\n",
              "        vertical-align: middle;\n",
              "    }\n",
              "\n",
              "    .dataframe tbody tr th {\n",
              "        vertical-align: top;\n",
              "    }\n",
              "\n",
              "    .dataframe thead th {\n",
              "        text-align: right;\n",
              "    }\n",
              "</style>\n",
              "<table border=\"1\" class=\"dataframe\">\n",
              "  <thead>\n",
              "    <tr style=\"text-align: right;\">\n",
              "      <th></th>\n",
              "      <th>text</th>\n",
              "      <th>label</th>\n",
              "      <th>prediction</th>\n",
              "    </tr>\n",
              "  </thead>\n",
              "  <tbody>\n",
              "    <tr>\n",
              "      <th>0</th>\n",
              "      <td>love scifi and willing put with lot scifi movi...</td>\n",
              "      <td>0</td>\n",
              "      <td>0</td>\n",
              "    </tr>\n",
              "    <tr>\n",
              "      <th>1</th>\n",
              "      <td>worth the entertainment value rental especiall...</td>\n",
              "      <td>0</td>\n",
              "      <td>0</td>\n",
              "    </tr>\n",
              "    <tr>\n",
              "      <th>2</th>\n",
              "      <td>it totally average film with few semialright a...</td>\n",
              "      <td>0</td>\n",
              "      <td>0</td>\n",
              "    </tr>\n",
              "    <tr>\n",
              "      <th>3</th>\n",
              "      <td>star rating saturday night friday night friday...</td>\n",
              "      <td>0</td>\n",
              "      <td>0</td>\n",
              "    </tr>\n",
              "    <tr>\n",
              "      <th>4</th>\n",
              "      <td>first off let say you havent enjoyed van damme...</td>\n",
              "      <td>0</td>\n",
              "      <td>0</td>\n",
              "    </tr>\n",
              "  </tbody>\n",
              "</table>\n",
              "</div>\n",
              "      <button class=\"colab-df-convert\" onclick=\"convertToInteractive('df-d8692575-1b1c-4494-9671-3bcde91b0492')\"\n",
              "              title=\"Convert this dataframe to an interactive table.\"\n",
              "              style=\"display:none;\">\n",
              "        \n",
              "  <svg xmlns=\"http://www.w3.org/2000/svg\" height=\"24px\"viewBox=\"0 0 24 24\"\n",
              "       width=\"24px\">\n",
              "    <path d=\"M0 0h24v24H0V0z\" fill=\"none\"/>\n",
              "    <path d=\"M18.56 5.44l.94 2.06.94-2.06 2.06-.94-2.06-.94-.94-2.06-.94 2.06-2.06.94zm-11 1L8.5 8.5l.94-2.06 2.06-.94-2.06-.94L8.5 2.5l-.94 2.06-2.06.94zm10 10l.94 2.06.94-2.06 2.06-.94-2.06-.94-.94-2.06-.94 2.06-2.06.94z\"/><path d=\"M17.41 7.96l-1.37-1.37c-.4-.4-.92-.59-1.43-.59-.52 0-1.04.2-1.43.59L10.3 9.45l-7.72 7.72c-.78.78-.78 2.05 0 2.83L4 21.41c.39.39.9.59 1.41.59.51 0 1.02-.2 1.41-.59l7.78-7.78 2.81-2.81c.8-.78.8-2.07 0-2.86zM5.41 20L4 18.59l7.72-7.72 1.47 1.35L5.41 20z\"/>\n",
              "  </svg>\n",
              "      </button>\n",
              "      \n",
              "  <style>\n",
              "    .colab-df-container {\n",
              "      display:flex;\n",
              "      flex-wrap:wrap;\n",
              "      gap: 12px;\n",
              "    }\n",
              "\n",
              "    .colab-df-convert {\n",
              "      background-color: #E8F0FE;\n",
              "      border: none;\n",
              "      border-radius: 50%;\n",
              "      cursor: pointer;\n",
              "      display: none;\n",
              "      fill: #1967D2;\n",
              "      height: 32px;\n",
              "      padding: 0 0 0 0;\n",
              "      width: 32px;\n",
              "    }\n",
              "\n",
              "    .colab-df-convert:hover {\n",
              "      background-color: #E2EBFA;\n",
              "      box-shadow: 0px 1px 2px rgba(60, 64, 67, 0.3), 0px 1px 3px 1px rgba(60, 64, 67, 0.15);\n",
              "      fill: #174EA6;\n",
              "    }\n",
              "\n",
              "    [theme=dark] .colab-df-convert {\n",
              "      background-color: #3B4455;\n",
              "      fill: #D2E3FC;\n",
              "    }\n",
              "\n",
              "    [theme=dark] .colab-df-convert:hover {\n",
              "      background-color: #434B5C;\n",
              "      box-shadow: 0px 1px 3px 1px rgba(0, 0, 0, 0.15);\n",
              "      filter: drop-shadow(0px 1px 2px rgba(0, 0, 0, 0.3));\n",
              "      fill: #FFFFFF;\n",
              "    }\n",
              "  </style>\n",
              "\n",
              "      <script>\n",
              "        const buttonEl =\n",
              "          document.querySelector('#df-d8692575-1b1c-4494-9671-3bcde91b0492 button.colab-df-convert');\n",
              "        buttonEl.style.display =\n",
              "          google.colab.kernel.accessAllowed ? 'block' : 'none';\n",
              "\n",
              "        async function convertToInteractive(key) {\n",
              "          const element = document.querySelector('#df-d8692575-1b1c-4494-9671-3bcde91b0492');\n",
              "          const dataTable =\n",
              "            await google.colab.kernel.invokeFunction('convertToInteractive',\n",
              "                                                     [key], {});\n",
              "          if (!dataTable) return;\n",
              "\n",
              "          const docLinkHtml = 'Like what you see? Visit the ' +\n",
              "            '<a target=\"_blank\" href=https://colab.research.google.com/notebooks/data_table.ipynb>data table notebook</a>'\n",
              "            + ' to learn more about interactive tables.';\n",
              "          element.innerHTML = '';\n",
              "          dataTable['output_type'] = 'display_data';\n",
              "          await google.colab.output.renderOutput(dataTable, element);\n",
              "          const docLink = document.createElement('div');\n",
              "          docLink.innerHTML = docLinkHtml;\n",
              "          element.appendChild(docLink);\n",
              "        }\n",
              "      </script>\n",
              "    </div>\n",
              "  </div>\n",
              "  "
            ]
          },
          "metadata": {},
          "execution_count": 39
        }
      ]
    },
    {
      "cell_type": "markdown",
      "source": [
        "#### Accuracy"
      ],
      "metadata": {
        "id": "cJhwcsHyGJ4_"
      }
    },
    {
      "cell_type": "code",
      "source": [
        "def compute_accuracy(dataframe, prediction_column):\n",
        "  correct_answers = 0\n",
        "\n",
        "  for index, document in dataframe.iterrows():\n",
        "    if document['label'] == document[prediction_column]:\n",
        "      correct_answers += 1\n",
        "\n",
        "  accuracy = correct_answers/len(dataframe)\n",
        "\n",
        "  return accuracy"
      ],
      "metadata": {
        "id": "ayOzQgT7pwED"
      },
      "execution_count": 40,
      "outputs": []
    },
    {
      "cell_type": "markdown",
      "source": [
        "Test set accuracy"
      ],
      "metadata": {
        "id": "x2_h4ttgJLQb"
      }
    },
    {
      "cell_type": "code",
      "source": [
        "test_set_accuracy = compute_accuracy(df_imdb_test, prediction_column=\"prediction\")\n",
        "print(f\"Test set accuracy: {test_set_accuracy:.2%}\")"
      ],
      "metadata": {
        "colab": {
          "base_uri": "https://localhost:8080/"
        },
        "id": "JV392Tc0KQnw",
        "outputId": "b854f733-b7da-4be0-a2cf-76ff516268d9"
      },
      "execution_count": 41,
      "outputs": [
        {
          "output_type": "stream",
          "name": "stdout",
          "text": [
            "Test set accuracy: 81.67%\n"
          ]
        }
      ]
    },
    {
      "cell_type": "markdown",
      "source": [
        "Train set accuracy"
      ],
      "metadata": {
        "id": "3WUkxVQUNVqQ"
      }
    },
    {
      "cell_type": "code",
      "source": [
        "train_set_accuracy = compute_accuracy(df_imdb_train, prediction_column=\"prediction\")\n",
        "print(f\"Train set accuracy: {train_set_accuracy:.2%}\")"
      ],
      "metadata": {
        "colab": {
          "base_uri": "https://localhost:8080/"
        },
        "id": "f3fD1F1fNTxO",
        "outputId": "c091c728-a6ad-46e7-d863-fed2f4e48d77"
      },
      "execution_count": 42,
      "outputs": [
        {
          "output_type": "stream",
          "name": "stdout",
          "text": [
            "Train set accuracy: 91.14%\n"
          ]
        }
      ]
    },
    {
      "cell_type": "markdown",
      "source": [
        "### Question 2.4: Why is accuracy a sufficient measure of evaluation here?"
      ],
      "metadata": {
        "id": "uIM_st77YGj_"
      }
    },
    {
      "cell_type": "markdown",
      "source": [
        "...\n"
      ],
      "metadata": {
        "id": "-Q5JWOXnYeSR"
      }
    },
    {
      "cell_type": "markdown",
      "source": [
        "### What are the top 10 most important words (features) for each class?\n"
      ],
      "metadata": {
        "id": "NRhmaWi7byef"
      }
    },
    {
      "cell_type": "code",
      "source": [
        "type(log_likelihood[\"and\"])"
      ],
      "metadata": {
        "colab": {
          "base_uri": "https://localhost:8080/"
        },
        "id": "qH2ZtDyAgQ6p",
        "outputId": "9037dd3b-0ae0-4847-fcb3-632283b1ffff"
      },
      "execution_count": 43,
      "outputs": [
        {
          "output_type": "execute_result",
          "data": {
            "text/plain": [
              "dict"
            ]
          },
          "metadata": {},
          "execution_count": 43
        }
      ]
    },
    {
      "cell_type": "code",
      "source": [
        "def sort_log_likelihood(loglikelihood, class_label):\n",
        "  \n",
        "  loglikelihood_items = {}\n",
        "  \n",
        "  for word in loglikelihood.keys():\n",
        "    loglikelihood_items[word] = loglikelihood[word][class_label]\n",
        "  \n",
        "  # tuples = zip(loglikelihood.col, coo_matrix.data)\n",
        "  \n",
        "  sorted_tuples = sorted(loglikelihood_items.items(), key=lambda item: item[1], reverse=True)\n",
        "  \n",
        "  return sorted_tuples\n",
        "  # return sorted(tuples, key=lambda x: (x[1], x[0]), reverse=True)\n",
        "\n",
        "# #generate tf-idf for the given document\n",
        "# tf_idf_vector=tfidf_transformer.transform(cv.transform([\"change number node recognition rate defined relative frequency\"]))\n",
        "\n",
        "# #sort the tf-idf vectors by descending order of scores\n",
        "# sorted_items=sort_coo(tf_idf_vector.tocoo())\n",
        "\n",
        "# sorted_items"
      ],
      "metadata": {
        "id": "E1g9B5EJey78"
      },
      "execution_count": 44,
      "outputs": []
    },
    {
      "cell_type": "markdown",
      "source": [
        "#### Look at the words with the highest likelihood in each class.\n"
      ],
      "metadata": {
        "id": "q5WS-UEiee1I"
      }
    },
    {
      "cell_type": "code",
      "source": [
        "Top_10_negative = sort_log_likelihood(log_likelihood, 0)[:10]"
      ],
      "metadata": {
        "id": "icWTa91EN-sq"
      },
      "execution_count": 45,
      "outputs": []
    },
    {
      "cell_type": "code",
      "source": [
        "Top_10_negative"
      ],
      "metadata": {
        "colab": {
          "base_uri": "https://localhost:8080/"
        },
        "id": "RxE1QL9TkOpX",
        "outputId": "3a6d5a25-2a1f-4984-d903-197e69451730"
      },
      "execution_count": 46,
      "outputs": [
        {
          "output_type": "execute_result",
          "data": {
            "text/plain": [
              "[('the', -2.677978196365483),\n",
              " ('and', -3.471675128939145),\n",
              " ('this', -4.068201205552985),\n",
              " ('that', -4.204278280380475),\n",
              " ('movie', -4.443128381768861),\n",
              " ('wa', -4.50357320891033),\n",
              " ('for', -4.691380444712641),\n",
              " ('but', -4.708020382450953),\n",
              " ('film', -4.708301636847407),\n",
              " ('with', -4.7366895355533)]"
            ]
          },
          "metadata": {},
          "execution_count": 46
        }
      ]
    },
    {
      "cell_type": "code",
      "source": [
        "Top_10_positive = sort_log_likelihood(log_likelihood, 1)[:10]"
      ],
      "metadata": {
        "id": "OHKEpRMlkRS6"
      },
      "execution_count": 47,
      "outputs": []
    },
    {
      "cell_type": "code",
      "source": [
        "Top_10_positive"
      ],
      "metadata": {
        "colab": {
          "base_uri": "https://localhost:8080/"
        },
        "id": "4Z2jhnL7kakp",
        "outputId": "9399f18f-a19f-4e87-a961-e26144ab1396"
      },
      "execution_count": 48,
      "outputs": [
        {
          "output_type": "execute_result",
          "data": {
            "text/plain": [
              "[('the', -2.645785670000755),\n",
              " ('and', -3.308623257048428),\n",
              " ('this', -4.247120615961752),\n",
              " ('that', -4.266915184576918),\n",
              " ('film', -4.622701440780578),\n",
              " ('with', -4.653507144273896),\n",
              " ('for', -4.69164642700062),\n",
              " ('wa', -4.711642105790518),\n",
              " ('movie', -4.713108717722131),\n",
              " ('but', -4.778053993437859)]"
            ]
          },
          "metadata": {},
          "execution_count": 48
        }
      ]
    },
    {
      "cell_type": "markdown",
      "source": [
        "#### Remove stopwords (see NLTK stopwords corpus) and check again."
      ],
      "metadata": {
        "id": "W1NIfindepE9"
      }
    },
    {
      "cell_type": "code",
      "source": [
        "nltk.download('stopwords')\n",
        "from nltk.corpus import stopwords"
      ],
      "metadata": {
        "colab": {
          "base_uri": "https://localhost:8080/"
        },
        "id": "DrXdSOCMlk4C",
        "outputId": "a546071e-aca1-4e22-c3e8-b2a5de441d64"
      },
      "execution_count": 49,
      "outputs": [
        {
          "output_type": "stream",
          "name": "stderr",
          "text": [
            "[nltk_data] Downloading package stopwords to /root/nltk_data...\n",
            "[nltk_data]   Unzipping corpora/stopwords.zip.\n"
          ]
        }
      ]
    },
    {
      "cell_type": "code",
      "source": [
        "stop_words = set(stopwords.words('english'))"
      ],
      "metadata": {
        "id": "eu7IBdAK_Wce"
      },
      "execution_count": 50,
      "outputs": []
    },
    {
      "cell_type": "code",
      "source": [
        "log_likelihood_without_stop = log_likelihood.copy()"
      ],
      "metadata": {
        "id": "e9PSsLySllcK"
      },
      "execution_count": 51,
      "outputs": []
    },
    {
      "cell_type": "code",
      "source": [
        "for word in stop_words:\n",
        "    log_likelihood_without_stop.pop(word, None)"
      ],
      "metadata": {
        "id": "x2CZHTYRnJkc"
      },
      "execution_count": 52,
      "outputs": []
    },
    {
      "cell_type": "code",
      "source": [
        "print(\"Length with stop word: \", len(log_likelihood))\n",
        "print(\"Length without stop word: \", len(log_likelihood_without_stop))"
      ],
      "metadata": {
        "colab": {
          "base_uri": "https://localhost:8080/"
        },
        "id": "z55V1zDWouL3",
        "outputId": "f7eb323b-a611-4b05-e972-6699b20af2f7"
      },
      "execution_count": 53,
      "outputs": [
        {
          "output_type": "stream",
          "name": "stdout",
          "text": [
            "Length with stop word:  108227\n",
            "Length without stop word:  108106\n"
          ]
        }
      ]
    },
    {
      "cell_type": "code",
      "source": [
        "Top_10_negative_without_stop = sort_log_likelihood(log_likelihood_without_stop, 0)[:10]"
      ],
      "metadata": {
        "id": "CRSwxJbpndvn"
      },
      "execution_count": 54,
      "outputs": []
    },
    {
      "cell_type": "code",
      "source": [
        "Top_10_negative_without_stop"
      ],
      "metadata": {
        "colab": {
          "base_uri": "https://localhost:8080/"
        },
        "id": "-5PmiPABpF7W",
        "outputId": "2447aa9a-2db8-4101-bcc2-028827650c53"
      },
      "execution_count": 55,
      "outputs": [
        {
          "output_type": "execute_result",
          "data": {
            "text/plain": [
              "[('movie', -4.443128381768861),\n",
              " ('wa', -4.50357320891033),\n",
              " ('film', -4.708301636847407),\n",
              " ('one', -5.206162750340039),\n",
              " ('like', -5.357514932853162),\n",
              " ('even', -5.739084412136281),\n",
              " ('ha', -5.744355211003636),\n",
              " ('good', -5.797813407684981),\n",
              " ('time', -5.804245197195175),\n",
              " ('bad', -5.8094487811187046)]"
            ]
          },
          "metadata": {},
          "execution_count": 55
        }
      ]
    },
    {
      "cell_type": "code",
      "source": [
        "Top_10_positive_without_stop = sort_log_likelihood(log_likelihood_without_stop, 1)[:10]"
      ],
      "metadata": {
        "id": "W-mDgSkxnJZX"
      },
      "execution_count": 56,
      "outputs": []
    },
    {
      "cell_type": "code",
      "source": [
        "Top_10_positive_without_stop"
      ],
      "metadata": {
        "colab": {
          "base_uri": "https://localhost:8080/"
        },
        "id": "3sG9symxn0kw",
        "outputId": "7baa0909-c169-436e-9aa2-d699d3681a90"
      },
      "execution_count": 57,
      "outputs": [
        {
          "output_type": "execute_result",
          "data": {
            "text/plain": [
              "[('film', -4.622701440780578),\n",
              " ('wa', -4.711642105790518),\n",
              " ('movie', -4.713108717722131),\n",
              " ('one', -5.177103741274279),\n",
              " ('ha', -5.581839667492178),\n",
              " ('like', -5.601716646994794),\n",
              " ('time', -5.746560631219308),\n",
              " ('good', -5.788688751006879),\n",
              " ('story', -5.820797527501359),\n",
              " ('character', -5.867555600588574)]"
            ]
          },
          "metadata": {},
          "execution_count": 57
        }
      ]
    },
    {
      "cell_type": "markdown",
      "source": [
        "### Take at least 2 wrongly classified example from the test set and try explaining why the model failed."
      ],
      "metadata": {
        "id": "rpSEf4Ffpa7B"
      }
    },
    {
      "cell_type": "code",
      "source": [
        "wrong_df_imdb_test = df_imdb_test[df_imdb_test.label != df_imdb_test.prediction]"
      ],
      "metadata": {
        "id": "Cc3S0Df_pjHY"
      },
      "execution_count": 58,
      "outputs": []
    },
    {
      "cell_type": "code",
      "source": [
        "two_wrongly = wrong_df_imdb_test.sample(2, random_state=3)\n",
        "two_wrongly"
      ],
      "metadata": {
        "colab": {
          "base_uri": "https://localhost:8080/",
          "height": 109
        },
        "id": "rVNqUSwUrIVU",
        "outputId": "63fc472e-9a22-4379-b3e6-4c643c3017d7"
      },
      "execution_count": 59,
      "outputs": [
        {
          "output_type": "execute_result",
          "data": {
            "text/plain": [
              "                                                    text  label  prediction\n",
              "12235  james marsh the king film that mystifies cant ...      0           1\n",
              "22458  hilarious comedy the best director ever scott ...      1           0"
            ],
            "text/html": [
              "\n",
              "  <div id=\"df-b1178e20-1302-40ae-ada3-585d0b189f30\">\n",
              "    <div class=\"colab-df-container\">\n",
              "      <div>\n",
              "<style scoped>\n",
              "    .dataframe tbody tr th:only-of-type {\n",
              "        vertical-align: middle;\n",
              "    }\n",
              "\n",
              "    .dataframe tbody tr th {\n",
              "        vertical-align: top;\n",
              "    }\n",
              "\n",
              "    .dataframe thead th {\n",
              "        text-align: right;\n",
              "    }\n",
              "</style>\n",
              "<table border=\"1\" class=\"dataframe\">\n",
              "  <thead>\n",
              "    <tr style=\"text-align: right;\">\n",
              "      <th></th>\n",
              "      <th>text</th>\n",
              "      <th>label</th>\n",
              "      <th>prediction</th>\n",
              "    </tr>\n",
              "  </thead>\n",
              "  <tbody>\n",
              "    <tr>\n",
              "      <th>12235</th>\n",
              "      <td>james marsh the king film that mystifies cant ...</td>\n",
              "      <td>0</td>\n",
              "      <td>1</td>\n",
              "    </tr>\n",
              "    <tr>\n",
              "      <th>22458</th>\n",
              "      <td>hilarious comedy the best director ever scott ...</td>\n",
              "      <td>1</td>\n",
              "      <td>0</td>\n",
              "    </tr>\n",
              "  </tbody>\n",
              "</table>\n",
              "</div>\n",
              "      <button class=\"colab-df-convert\" onclick=\"convertToInteractive('df-b1178e20-1302-40ae-ada3-585d0b189f30')\"\n",
              "              title=\"Convert this dataframe to an interactive table.\"\n",
              "              style=\"display:none;\">\n",
              "        \n",
              "  <svg xmlns=\"http://www.w3.org/2000/svg\" height=\"24px\"viewBox=\"0 0 24 24\"\n",
              "       width=\"24px\">\n",
              "    <path d=\"M0 0h24v24H0V0z\" fill=\"none\"/>\n",
              "    <path d=\"M18.56 5.44l.94 2.06.94-2.06 2.06-.94-2.06-.94-.94-2.06-.94 2.06-2.06.94zm-11 1L8.5 8.5l.94-2.06 2.06-.94-2.06-.94L8.5 2.5l-.94 2.06-2.06.94zm10 10l.94 2.06.94-2.06 2.06-.94-2.06-.94-.94-2.06-.94 2.06-2.06.94z\"/><path d=\"M17.41 7.96l-1.37-1.37c-.4-.4-.92-.59-1.43-.59-.52 0-1.04.2-1.43.59L10.3 9.45l-7.72 7.72c-.78.78-.78 2.05 0 2.83L4 21.41c.39.39.9.59 1.41.59.51 0 1.02-.2 1.41-.59l7.78-7.78 2.81-2.81c.8-.78.8-2.07 0-2.86zM5.41 20L4 18.59l7.72-7.72 1.47 1.35L5.41 20z\"/>\n",
              "  </svg>\n",
              "      </button>\n",
              "      \n",
              "  <style>\n",
              "    .colab-df-container {\n",
              "      display:flex;\n",
              "      flex-wrap:wrap;\n",
              "      gap: 12px;\n",
              "    }\n",
              "\n",
              "    .colab-df-convert {\n",
              "      background-color: #E8F0FE;\n",
              "      border: none;\n",
              "      border-radius: 50%;\n",
              "      cursor: pointer;\n",
              "      display: none;\n",
              "      fill: #1967D2;\n",
              "      height: 32px;\n",
              "      padding: 0 0 0 0;\n",
              "      width: 32px;\n",
              "    }\n",
              "\n",
              "    .colab-df-convert:hover {\n",
              "      background-color: #E2EBFA;\n",
              "      box-shadow: 0px 1px 2px rgba(60, 64, 67, 0.3), 0px 1px 3px 1px rgba(60, 64, 67, 0.15);\n",
              "      fill: #174EA6;\n",
              "    }\n",
              "\n",
              "    [theme=dark] .colab-df-convert {\n",
              "      background-color: #3B4455;\n",
              "      fill: #D2E3FC;\n",
              "    }\n",
              "\n",
              "    [theme=dark] .colab-df-convert:hover {\n",
              "      background-color: #434B5C;\n",
              "      box-shadow: 0px 1px 3px 1px rgba(0, 0, 0, 0.15);\n",
              "      filter: drop-shadow(0px 1px 2px rgba(0, 0, 0, 0.3));\n",
              "      fill: #FFFFFF;\n",
              "    }\n",
              "  </style>\n",
              "\n",
              "      <script>\n",
              "        const buttonEl =\n",
              "          document.querySelector('#df-b1178e20-1302-40ae-ada3-585d0b189f30 button.colab-df-convert');\n",
              "        buttonEl.style.display =\n",
              "          google.colab.kernel.accessAllowed ? 'block' : 'none';\n",
              "\n",
              "        async function convertToInteractive(key) {\n",
              "          const element = document.querySelector('#df-b1178e20-1302-40ae-ada3-585d0b189f30');\n",
              "          const dataTable =\n",
              "            await google.colab.kernel.invokeFunction('convertToInteractive',\n",
              "                                                     [key], {});\n",
              "          if (!dataTable) return;\n",
              "\n",
              "          const docLinkHtml = 'Like what you see? Visit the ' +\n",
              "            '<a target=\"_blank\" href=https://colab.research.google.com/notebooks/data_table.ipynb>data table notebook</a>'\n",
              "            + ' to learn more about interactive tables.';\n",
              "          element.innerHTML = '';\n",
              "          dataTable['output_type'] = 'display_data';\n",
              "          await google.colab.output.renderOutput(dataTable, element);\n",
              "          const docLink = document.createElement('div');\n",
              "          docLink.innerHTML = docLinkHtml;\n",
              "          element.appendChild(docLink);\n",
              "        }\n",
              "      </script>\n",
              "    </div>\n",
              "  </div>\n",
              "  "
            ]
          },
          "metadata": {},
          "execution_count": 59
        }
      ]
    },
    {
      "cell_type": "code",
      "source": [
        "two_wrongly.iloc[0]['text']"
      ],
      "metadata": {
        "colab": {
          "base_uri": "https://localhost:8080/",
          "height": 100
        },
        "id": "tYnsf7anrLau",
        "outputId": "9fbad08d-74b2-4aac-bc23-2bf8eea994ae"
      },
      "execution_count": 60,
      "outputs": [
        {
          "output_type": "execute_result",
          "data": {
            "text/plain": [
              "'james marsh the king film that mystifies cant think what it meant for it story about young man called elvis played gael garcia bernal who get honourable discharge after year navy service and then go off find his biological father and behaves dishonourably with him and his family it all rather sick really elvis worm his way into the family seducing his year old sister malerie pell james it rather impossible identify with anyone this film from here middle england preacher father and bouncy joyful christian congregation couldnt work out whether the film meant deriding them for their mindless belief the target the happy family and are meant think thats unviable just saying that some people are lost and just hell bent destruction it shallow all know that bad thing happen the interesting bit learn why but this film just gratuitously depicts violence without ever unravelling the thinking that ha led the king such lost opportunity there are some really interesting question about honour the warrior code the changing concept valour honour killing indian family and honour very varied concept but this film just add nothing the notion however paul the projectionist did more than his meagre role suggests the dvd projector showed all film greenonly hue and the only way repair this wa get sent belgium did this through christmas think those postal worker and repairer and paul went far beyond the call duty and our reward wa this dismal film but you might see differently'"
            ],
            "application/vnd.google.colaboratory.intrinsic+json": {
              "type": "string"
            }
          },
          "metadata": {},
          "execution_count": 60
        }
      ]
    },
    {
      "cell_type": "code",
      "source": [
        "two_wrongly.iloc[1]['text']"
      ],
      "metadata": {
        "colab": {
          "base_uri": "https://localhost:8080/",
          "height": 67
        },
        "id": "ZFOoturirtmW",
        "outputId": "c7aebac7-f1af-430c-e474-2c5dd7f03b03"
      },
      "execution_count": 61,
      "outputs": [
        {
          "output_type": "execute_result",
          "data": {
            "text/plain": [
              "'hilarious comedy the best director ever scott the list eighty icon go and milano who the bos yothers family tie stone belvedere robinson night court jackee dabo wonder year walston hand one the funniest movie ever great line meaningless subplots cheesy bad acting about group high school kid who need pas driver mac from night court need them pas their final exam hell fired great performance brian bloom the jerkkinda cool guy riko conner but nothing compared wongs kiki pronounced keechee great movie for all age bad it good'"
            ],
            "application/vnd.google.colaboratory.intrinsic+json": {
              "type": "string"
            }
          },
          "metadata": {},
          "execution_count": 61
        }
      ]
    },
    {
      "cell_type": "markdown",
      "source": [
        "...\n"
      ],
      "metadata": {
        "id": "E0uXZgZ2xiAy"
      }
    },
    {
      "cell_type": "markdown",
      "source": [
        "## FastText"
      ],
      "metadata": {
        "id": "FuRvOPJLxkDE"
      }
    },
    {
      "cell_type": "code",
      "source": [
        "!pip install fastText"
      ],
      "metadata": {
        "colab": {
          "base_uri": "https://localhost:8080/"
        },
        "id": "5wbqcwsATXuY",
        "outputId": "e091ca84-f195-4d6d-a3ca-8f091d7d049f"
      },
      "execution_count": 62,
      "outputs": [
        {
          "output_type": "stream",
          "name": "stdout",
          "text": [
            "Looking in indexes: https://pypi.org/simple, https://us-python.pkg.dev/colab-wheels/public/simple/\n",
            "Collecting fastText\n",
            "  Downloading fasttext-0.9.2.tar.gz (68 kB)\n",
            "\u001b[K     |████████████████████████████████| 68 kB 4.1 MB/s \n",
            "\u001b[?25hCollecting pybind11>=2.2\n",
            "  Using cached pybind11-2.9.2-py2.py3-none-any.whl (213 kB)\n",
            "Requirement already satisfied: setuptools>=0.7.0 in /usr/local/lib/python3.7/dist-packages (from fastText) (57.4.0)\n",
            "Requirement already satisfied: numpy in /usr/local/lib/python3.7/dist-packages (from fastText) (1.21.6)\n",
            "Building wheels for collected packages: fastText\n",
            "  Building wheel for fastText (setup.py) ... \u001b[?25l\u001b[?25hdone\n",
            "  Created wheel for fastText: filename=fasttext-0.9.2-cp37-cp37m-linux_x86_64.whl size=3147142 sha256=9adce09967f05ac154e2c1e3b70a88583b1898f6ce2c03b5d2f4eb818f018eae\n",
            "  Stored in directory: /root/.cache/pip/wheels/4e/ca/bf/b020d2be95f7641801a6597a29c8f4f19e38f9c02a345bab9b\n",
            "Successfully built fastText\n",
            "Installing collected packages: pybind11, fastText\n",
            "Successfully installed fastText-0.9.2 pybind11-2.9.2\n"
          ]
        }
      ]
    },
    {
      "cell_type": "markdown",
      "source": [
        "### Dataset compatible with Fastext"
      ],
      "metadata": {
        "id": "Xb58lC5LS8um"
      }
    },
    {
      "cell_type": "code",
      "source": [
        "dataframe_imdb_train = pd.DataFrame(data = imdb_train)"
      ],
      "metadata": {
        "id": "9CJAOKTTNHrz"
      },
      "execution_count": 63,
      "outputs": []
    },
    {
      "cell_type": "code",
      "source": [
        "dataframe_imdb_train.head()"
      ],
      "metadata": {
        "colab": {
          "base_uri": "https://localhost:8080/",
          "height": 201
        },
        "id": "DO_g3YtNNb7i",
        "outputId": "7cbe4f06-a780-4c83-c5dd-25021a42a203"
      },
      "execution_count": 64,
      "outputs": [
        {
          "output_type": "execute_result",
          "data": {
            "text/plain": [
              "                                                text  label\n",
              "0  I rented I AM CURIOUS-YELLOW from my video sto...      0\n",
              "1  \"I Am Curious: Yellow\" is a risible and preten...      0\n",
              "2  If only to avoid making this type of film in t...      0\n",
              "3  This film was probably inspired by Godard's Ma...      0\n",
              "4  Oh, brother...after hearing about this ridicul...      0"
            ],
            "text/html": [
              "\n",
              "  <div id=\"df-55b916cb-5ce4-4bc0-a7a8-5c6904b1a4c3\">\n",
              "    <div class=\"colab-df-container\">\n",
              "      <div>\n",
              "<style scoped>\n",
              "    .dataframe tbody tr th:only-of-type {\n",
              "        vertical-align: middle;\n",
              "    }\n",
              "\n",
              "    .dataframe tbody tr th {\n",
              "        vertical-align: top;\n",
              "    }\n",
              "\n",
              "    .dataframe thead th {\n",
              "        text-align: right;\n",
              "    }\n",
              "</style>\n",
              "<table border=\"1\" class=\"dataframe\">\n",
              "  <thead>\n",
              "    <tr style=\"text-align: right;\">\n",
              "      <th></th>\n",
              "      <th>text</th>\n",
              "      <th>label</th>\n",
              "    </tr>\n",
              "  </thead>\n",
              "  <tbody>\n",
              "    <tr>\n",
              "      <th>0</th>\n",
              "      <td>I rented I AM CURIOUS-YELLOW from my video sto...</td>\n",
              "      <td>0</td>\n",
              "    </tr>\n",
              "    <tr>\n",
              "      <th>1</th>\n",
              "      <td>\"I Am Curious: Yellow\" is a risible and preten...</td>\n",
              "      <td>0</td>\n",
              "    </tr>\n",
              "    <tr>\n",
              "      <th>2</th>\n",
              "      <td>If only to avoid making this type of film in t...</td>\n",
              "      <td>0</td>\n",
              "    </tr>\n",
              "    <tr>\n",
              "      <th>3</th>\n",
              "      <td>This film was probably inspired by Godard's Ma...</td>\n",
              "      <td>0</td>\n",
              "    </tr>\n",
              "    <tr>\n",
              "      <th>4</th>\n",
              "      <td>Oh, brother...after hearing about this ridicul...</td>\n",
              "      <td>0</td>\n",
              "    </tr>\n",
              "  </tbody>\n",
              "</table>\n",
              "</div>\n",
              "      <button class=\"colab-df-convert\" onclick=\"convertToInteractive('df-55b916cb-5ce4-4bc0-a7a8-5c6904b1a4c3')\"\n",
              "              title=\"Convert this dataframe to an interactive table.\"\n",
              "              style=\"display:none;\">\n",
              "        \n",
              "  <svg xmlns=\"http://www.w3.org/2000/svg\" height=\"24px\"viewBox=\"0 0 24 24\"\n",
              "       width=\"24px\">\n",
              "    <path d=\"M0 0h24v24H0V0z\" fill=\"none\"/>\n",
              "    <path d=\"M18.56 5.44l.94 2.06.94-2.06 2.06-.94-2.06-.94-.94-2.06-.94 2.06-2.06.94zm-11 1L8.5 8.5l.94-2.06 2.06-.94-2.06-.94L8.5 2.5l-.94 2.06-2.06.94zm10 10l.94 2.06.94-2.06 2.06-.94-2.06-.94-.94-2.06-.94 2.06-2.06.94z\"/><path d=\"M17.41 7.96l-1.37-1.37c-.4-.4-.92-.59-1.43-.59-.52 0-1.04.2-1.43.59L10.3 9.45l-7.72 7.72c-.78.78-.78 2.05 0 2.83L4 21.41c.39.39.9.59 1.41.59.51 0 1.02-.2 1.41-.59l7.78-7.78 2.81-2.81c.8-.78.8-2.07 0-2.86zM5.41 20L4 18.59l7.72-7.72 1.47 1.35L5.41 20z\"/>\n",
              "  </svg>\n",
              "      </button>\n",
              "      \n",
              "  <style>\n",
              "    .colab-df-container {\n",
              "      display:flex;\n",
              "      flex-wrap:wrap;\n",
              "      gap: 12px;\n",
              "    }\n",
              "\n",
              "    .colab-df-convert {\n",
              "      background-color: #E8F0FE;\n",
              "      border: none;\n",
              "      border-radius: 50%;\n",
              "      cursor: pointer;\n",
              "      display: none;\n",
              "      fill: #1967D2;\n",
              "      height: 32px;\n",
              "      padding: 0 0 0 0;\n",
              "      width: 32px;\n",
              "    }\n",
              "\n",
              "    .colab-df-convert:hover {\n",
              "      background-color: #E2EBFA;\n",
              "      box-shadow: 0px 1px 2px rgba(60, 64, 67, 0.3), 0px 1px 3px 1px rgba(60, 64, 67, 0.15);\n",
              "      fill: #174EA6;\n",
              "    }\n",
              "\n",
              "    [theme=dark] .colab-df-convert {\n",
              "      background-color: #3B4455;\n",
              "      fill: #D2E3FC;\n",
              "    }\n",
              "\n",
              "    [theme=dark] .colab-df-convert:hover {\n",
              "      background-color: #434B5C;\n",
              "      box-shadow: 0px 1px 3px 1px rgba(0, 0, 0, 0.15);\n",
              "      filter: drop-shadow(0px 1px 2px rgba(0, 0, 0, 0.3));\n",
              "      fill: #FFFFFF;\n",
              "    }\n",
              "  </style>\n",
              "\n",
              "      <script>\n",
              "        const buttonEl =\n",
              "          document.querySelector('#df-55b916cb-5ce4-4bc0-a7a8-5c6904b1a4c3 button.colab-df-convert');\n",
              "        buttonEl.style.display =\n",
              "          google.colab.kernel.accessAllowed ? 'block' : 'none';\n",
              "\n",
              "        async function convertToInteractive(key) {\n",
              "          const element = document.querySelector('#df-55b916cb-5ce4-4bc0-a7a8-5c6904b1a4c3');\n",
              "          const dataTable =\n",
              "            await google.colab.kernel.invokeFunction('convertToInteractive',\n",
              "                                                     [key], {});\n",
              "          if (!dataTable) return;\n",
              "\n",
              "          const docLinkHtml = 'Like what you see? Visit the ' +\n",
              "            '<a target=\"_blank\" href=https://colab.research.google.com/notebooks/data_table.ipynb>data table notebook</a>'\n",
              "            + ' to learn more about interactive tables.';\n",
              "          element.innerHTML = '';\n",
              "          dataTable['output_type'] = 'display_data';\n",
              "          await google.colab.output.renderOutput(dataTable, element);\n",
              "          const docLink = document.createElement('div');\n",
              "          docLink.innerHTML = docLinkHtml;\n",
              "          element.appendChild(docLink);\n",
              "        }\n",
              "      </script>\n",
              "    </div>\n",
              "  </div>\n",
              "  "
            ]
          },
          "metadata": {},
          "execution_count": 64
        }
      ]
    },
    {
      "cell_type": "code",
      "source": [
        "dataframe_imdb_test = pd.DataFrame(data = imdb_test)"
      ],
      "metadata": {
        "id": "3iPyryjfVpAz"
      },
      "execution_count": 65,
      "outputs": []
    },
    {
      "cell_type": "code",
      "source": [
        "dataframe_imdb_test.head()"
      ],
      "metadata": {
        "colab": {
          "base_uri": "https://localhost:8080/",
          "height": 201
        },
        "id": "r4XNJqCpVo7A",
        "outputId": "c293f1b5-e1b9-46d2-e624-16ab78bebc26"
      },
      "execution_count": 66,
      "outputs": [
        {
          "output_type": "execute_result",
          "data": {
            "text/plain": [
              "                                                text  label\n",
              "0  I love sci-fi and am willing to put up with a ...      0\n",
              "1  Worth the entertainment value of a rental, esp...      0\n",
              "2  its a totally average film with a few semi-alr...      0\n",
              "3  STAR RATING: ***** Saturday Night **** Friday ...      0\n",
              "4  First off let me say, If you haven't enjoyed a...      0"
            ],
            "text/html": [
              "\n",
              "  <div id=\"df-bb82f421-7bff-49b1-8824-a13de26fa0a4\">\n",
              "    <div class=\"colab-df-container\">\n",
              "      <div>\n",
              "<style scoped>\n",
              "    .dataframe tbody tr th:only-of-type {\n",
              "        vertical-align: middle;\n",
              "    }\n",
              "\n",
              "    .dataframe tbody tr th {\n",
              "        vertical-align: top;\n",
              "    }\n",
              "\n",
              "    .dataframe thead th {\n",
              "        text-align: right;\n",
              "    }\n",
              "</style>\n",
              "<table border=\"1\" class=\"dataframe\">\n",
              "  <thead>\n",
              "    <tr style=\"text-align: right;\">\n",
              "      <th></th>\n",
              "      <th>text</th>\n",
              "      <th>label</th>\n",
              "    </tr>\n",
              "  </thead>\n",
              "  <tbody>\n",
              "    <tr>\n",
              "      <th>0</th>\n",
              "      <td>I love sci-fi and am willing to put up with a ...</td>\n",
              "      <td>0</td>\n",
              "    </tr>\n",
              "    <tr>\n",
              "      <th>1</th>\n",
              "      <td>Worth the entertainment value of a rental, esp...</td>\n",
              "      <td>0</td>\n",
              "    </tr>\n",
              "    <tr>\n",
              "      <th>2</th>\n",
              "      <td>its a totally average film with a few semi-alr...</td>\n",
              "      <td>0</td>\n",
              "    </tr>\n",
              "    <tr>\n",
              "      <th>3</th>\n",
              "      <td>STAR RATING: ***** Saturday Night **** Friday ...</td>\n",
              "      <td>0</td>\n",
              "    </tr>\n",
              "    <tr>\n",
              "      <th>4</th>\n",
              "      <td>First off let me say, If you haven't enjoyed a...</td>\n",
              "      <td>0</td>\n",
              "    </tr>\n",
              "  </tbody>\n",
              "</table>\n",
              "</div>\n",
              "      <button class=\"colab-df-convert\" onclick=\"convertToInteractive('df-bb82f421-7bff-49b1-8824-a13de26fa0a4')\"\n",
              "              title=\"Convert this dataframe to an interactive table.\"\n",
              "              style=\"display:none;\">\n",
              "        \n",
              "  <svg xmlns=\"http://www.w3.org/2000/svg\" height=\"24px\"viewBox=\"0 0 24 24\"\n",
              "       width=\"24px\">\n",
              "    <path d=\"M0 0h24v24H0V0z\" fill=\"none\"/>\n",
              "    <path d=\"M18.56 5.44l.94 2.06.94-2.06 2.06-.94-2.06-.94-.94-2.06-.94 2.06-2.06.94zm-11 1L8.5 8.5l.94-2.06 2.06-.94-2.06-.94L8.5 2.5l-.94 2.06-2.06.94zm10 10l.94 2.06.94-2.06 2.06-.94-2.06-.94-.94-2.06-.94 2.06-2.06.94z\"/><path d=\"M17.41 7.96l-1.37-1.37c-.4-.4-.92-.59-1.43-.59-.52 0-1.04.2-1.43.59L10.3 9.45l-7.72 7.72c-.78.78-.78 2.05 0 2.83L4 21.41c.39.39.9.59 1.41.59.51 0 1.02-.2 1.41-.59l7.78-7.78 2.81-2.81c.8-.78.8-2.07 0-2.86zM5.41 20L4 18.59l7.72-7.72 1.47 1.35L5.41 20z\"/>\n",
              "  </svg>\n",
              "      </button>\n",
              "      \n",
              "  <style>\n",
              "    .colab-df-container {\n",
              "      display:flex;\n",
              "      flex-wrap:wrap;\n",
              "      gap: 12px;\n",
              "    }\n",
              "\n",
              "    .colab-df-convert {\n",
              "      background-color: #E8F0FE;\n",
              "      border: none;\n",
              "      border-radius: 50%;\n",
              "      cursor: pointer;\n",
              "      display: none;\n",
              "      fill: #1967D2;\n",
              "      height: 32px;\n",
              "      padding: 0 0 0 0;\n",
              "      width: 32px;\n",
              "    }\n",
              "\n",
              "    .colab-df-convert:hover {\n",
              "      background-color: #E2EBFA;\n",
              "      box-shadow: 0px 1px 2px rgba(60, 64, 67, 0.3), 0px 1px 3px 1px rgba(60, 64, 67, 0.15);\n",
              "      fill: #174EA6;\n",
              "    }\n",
              "\n",
              "    [theme=dark] .colab-df-convert {\n",
              "      background-color: #3B4455;\n",
              "      fill: #D2E3FC;\n",
              "    }\n",
              "\n",
              "    [theme=dark] .colab-df-convert:hover {\n",
              "      background-color: #434B5C;\n",
              "      box-shadow: 0px 1px 3px 1px rgba(0, 0, 0, 0.15);\n",
              "      filter: drop-shadow(0px 1px 2px rgba(0, 0, 0, 0.3));\n",
              "      fill: #FFFFFF;\n",
              "    }\n",
              "  </style>\n",
              "\n",
              "      <script>\n",
              "        const buttonEl =\n",
              "          document.querySelector('#df-bb82f421-7bff-49b1-8824-a13de26fa0a4 button.colab-df-convert');\n",
              "        buttonEl.style.display =\n",
              "          google.colab.kernel.accessAllowed ? 'block' : 'none';\n",
              "\n",
              "        async function convertToInteractive(key) {\n",
              "          const element = document.querySelector('#df-bb82f421-7bff-49b1-8824-a13de26fa0a4');\n",
              "          const dataTable =\n",
              "            await google.colab.kernel.invokeFunction('convertToInteractive',\n",
              "                                                     [key], {});\n",
              "          if (!dataTable) return;\n",
              "\n",
              "          const docLinkHtml = 'Like what you see? Visit the ' +\n",
              "            '<a target=\"_blank\" href=https://colab.research.google.com/notebooks/data_table.ipynb>data table notebook</a>'\n",
              "            + ' to learn more about interactive tables.';\n",
              "          element.innerHTML = '';\n",
              "          dataTable['output_type'] = 'display_data';\n",
              "          await google.colab.output.renderOutput(dataTable, element);\n",
              "          const docLink = document.createElement('div');\n",
              "          docLink.innerHTML = docLinkHtml;\n",
              "          element.appendChild(docLink);\n",
              "        }\n",
              "      </script>\n",
              "    </div>\n",
              "  </div>\n",
              "  "
            ]
          },
          "metadata": {},
          "execution_count": 66
        }
      ]
    },
    {
      "cell_type": "markdown",
      "source": [
        "Shuffle the dataset to avoid having a strong model bias."
      ],
      "metadata": {
        "id": "Mdhk7DhmIpqC"
      }
    },
    {
      "cell_type": "code",
      "source": [
        "dataframe_imdb_train = dataframe_imdb_train.sample(frac=1, random_state=1)\n",
        "dataframe_imdb_train.head()"
      ],
      "metadata": {
        "colab": {
          "base_uri": "https://localhost:8080/",
          "height": 201
        },
        "id": "sfQ8JlJYHMSO",
        "outputId": "3cfabeaa-8532-43f2-a651-980820b4fb52"
      },
      "execution_count": 67,
      "outputs": [
        {
          "output_type": "execute_result",
          "data": {
            "text/plain": [
              "                                                    text  label\n",
              "21492  This is an amazing movie and all of the actors...      1\n",
              "9488   \"Proximity\" tells of a convict (Lowe) who thin...      0\n",
              "16933  When I heard this film was directed by Ang Lee...      1\n",
              "12604  OK, so the musical pieces were poorly written ...      1\n",
              "8222   I'm sorry, but this is such a bad movie it's h...      0"
            ],
            "text/html": [
              "\n",
              "  <div id=\"df-9db8b0c2-bdc5-4abf-b18e-7c7a11cd0902\">\n",
              "    <div class=\"colab-df-container\">\n",
              "      <div>\n",
              "<style scoped>\n",
              "    .dataframe tbody tr th:only-of-type {\n",
              "        vertical-align: middle;\n",
              "    }\n",
              "\n",
              "    .dataframe tbody tr th {\n",
              "        vertical-align: top;\n",
              "    }\n",
              "\n",
              "    .dataframe thead th {\n",
              "        text-align: right;\n",
              "    }\n",
              "</style>\n",
              "<table border=\"1\" class=\"dataframe\">\n",
              "  <thead>\n",
              "    <tr style=\"text-align: right;\">\n",
              "      <th></th>\n",
              "      <th>text</th>\n",
              "      <th>label</th>\n",
              "    </tr>\n",
              "  </thead>\n",
              "  <tbody>\n",
              "    <tr>\n",
              "      <th>21492</th>\n",
              "      <td>This is an amazing movie and all of the actors...</td>\n",
              "      <td>1</td>\n",
              "    </tr>\n",
              "    <tr>\n",
              "      <th>9488</th>\n",
              "      <td>\"Proximity\" tells of a convict (Lowe) who thin...</td>\n",
              "      <td>0</td>\n",
              "    </tr>\n",
              "    <tr>\n",
              "      <th>16933</th>\n",
              "      <td>When I heard this film was directed by Ang Lee...</td>\n",
              "      <td>1</td>\n",
              "    </tr>\n",
              "    <tr>\n",
              "      <th>12604</th>\n",
              "      <td>OK, so the musical pieces were poorly written ...</td>\n",
              "      <td>1</td>\n",
              "    </tr>\n",
              "    <tr>\n",
              "      <th>8222</th>\n",
              "      <td>I'm sorry, but this is such a bad movie it's h...</td>\n",
              "      <td>0</td>\n",
              "    </tr>\n",
              "  </tbody>\n",
              "</table>\n",
              "</div>\n",
              "      <button class=\"colab-df-convert\" onclick=\"convertToInteractive('df-9db8b0c2-bdc5-4abf-b18e-7c7a11cd0902')\"\n",
              "              title=\"Convert this dataframe to an interactive table.\"\n",
              "              style=\"display:none;\">\n",
              "        \n",
              "  <svg xmlns=\"http://www.w3.org/2000/svg\" height=\"24px\"viewBox=\"0 0 24 24\"\n",
              "       width=\"24px\">\n",
              "    <path d=\"M0 0h24v24H0V0z\" fill=\"none\"/>\n",
              "    <path d=\"M18.56 5.44l.94 2.06.94-2.06 2.06-.94-2.06-.94-.94-2.06-.94 2.06-2.06.94zm-11 1L8.5 8.5l.94-2.06 2.06-.94-2.06-.94L8.5 2.5l-.94 2.06-2.06.94zm10 10l.94 2.06.94-2.06 2.06-.94-2.06-.94-.94-2.06-.94 2.06-2.06.94z\"/><path d=\"M17.41 7.96l-1.37-1.37c-.4-.4-.92-.59-1.43-.59-.52 0-1.04.2-1.43.59L10.3 9.45l-7.72 7.72c-.78.78-.78 2.05 0 2.83L4 21.41c.39.39.9.59 1.41.59.51 0 1.02-.2 1.41-.59l7.78-7.78 2.81-2.81c.8-.78.8-2.07 0-2.86zM5.41 20L4 18.59l7.72-7.72 1.47 1.35L5.41 20z\"/>\n",
              "  </svg>\n",
              "      </button>\n",
              "      \n",
              "  <style>\n",
              "    .colab-df-container {\n",
              "      display:flex;\n",
              "      flex-wrap:wrap;\n",
              "      gap: 12px;\n",
              "    }\n",
              "\n",
              "    .colab-df-convert {\n",
              "      background-color: #E8F0FE;\n",
              "      border: none;\n",
              "      border-radius: 50%;\n",
              "      cursor: pointer;\n",
              "      display: none;\n",
              "      fill: #1967D2;\n",
              "      height: 32px;\n",
              "      padding: 0 0 0 0;\n",
              "      width: 32px;\n",
              "    }\n",
              "\n",
              "    .colab-df-convert:hover {\n",
              "      background-color: #E2EBFA;\n",
              "      box-shadow: 0px 1px 2px rgba(60, 64, 67, 0.3), 0px 1px 3px 1px rgba(60, 64, 67, 0.15);\n",
              "      fill: #174EA6;\n",
              "    }\n",
              "\n",
              "    [theme=dark] .colab-df-convert {\n",
              "      background-color: #3B4455;\n",
              "      fill: #D2E3FC;\n",
              "    }\n",
              "\n",
              "    [theme=dark] .colab-df-convert:hover {\n",
              "      background-color: #434B5C;\n",
              "      box-shadow: 0px 1px 3px 1px rgba(0, 0, 0, 0.15);\n",
              "      filter: drop-shadow(0px 1px 2px rgba(0, 0, 0, 0.3));\n",
              "      fill: #FFFFFF;\n",
              "    }\n",
              "  </style>\n",
              "\n",
              "      <script>\n",
              "        const buttonEl =\n",
              "          document.querySelector('#df-9db8b0c2-bdc5-4abf-b18e-7c7a11cd0902 button.colab-df-convert');\n",
              "        buttonEl.style.display =\n",
              "          google.colab.kernel.accessAllowed ? 'block' : 'none';\n",
              "\n",
              "        async function convertToInteractive(key) {\n",
              "          const element = document.querySelector('#df-9db8b0c2-bdc5-4abf-b18e-7c7a11cd0902');\n",
              "          const dataTable =\n",
              "            await google.colab.kernel.invokeFunction('convertToInteractive',\n",
              "                                                     [key], {});\n",
              "          if (!dataTable) return;\n",
              "\n",
              "          const docLinkHtml = 'Like what you see? Visit the ' +\n",
              "            '<a target=\"_blank\" href=https://colab.research.google.com/notebooks/data_table.ipynb>data table notebook</a>'\n",
              "            + ' to learn more about interactive tables.';\n",
              "          element.innerHTML = '';\n",
              "          dataTable['output_type'] = 'display_data';\n",
              "          await google.colab.output.renderOutput(dataTable, element);\n",
              "          const docLink = document.createElement('div');\n",
              "          docLink.innerHTML = docLinkHtml;\n",
              "          element.appendChild(docLink);\n",
              "        }\n",
              "      </script>\n",
              "    </div>\n",
              "  </div>\n",
              "  "
            ]
          },
          "metadata": {},
          "execution_count": 67
        }
      ]
    },
    {
      "cell_type": "code",
      "source": [
        "dataframe_imdb_test = dataframe_imdb_test.sample(frac=1, random_state=1)\n",
        "dataframe_imdb_test.head()"
      ],
      "metadata": {
        "colab": {
          "base_uri": "https://localhost:8080/",
          "height": 201
        },
        "id": "P_VgDwUdVyYb",
        "outputId": "f0a863b7-a258-419f-e7f5-5b1adb67a7d4"
      },
      "execution_count": 68,
      "outputs": [
        {
          "output_type": "execute_result",
          "data": {
            "text/plain": [
              "                                                    text  label\n",
              "21492  Man, is it great just to see Young and The Res...      1\n",
              "9488   Seems like a pretty innocent choice at first- ...      0\n",
              "16933  I was into the movie right away. I've seen the...      1\n",
              "12604  Anyone who appreciates fine acting and ringing...      1\n",
              "8222   High school female track star dies of a blood ...      0"
            ],
            "text/html": [
              "\n",
              "  <div id=\"df-941ebf17-d0cd-4781-9131-6e295caaf2a8\">\n",
              "    <div class=\"colab-df-container\">\n",
              "      <div>\n",
              "<style scoped>\n",
              "    .dataframe tbody tr th:only-of-type {\n",
              "        vertical-align: middle;\n",
              "    }\n",
              "\n",
              "    .dataframe tbody tr th {\n",
              "        vertical-align: top;\n",
              "    }\n",
              "\n",
              "    .dataframe thead th {\n",
              "        text-align: right;\n",
              "    }\n",
              "</style>\n",
              "<table border=\"1\" class=\"dataframe\">\n",
              "  <thead>\n",
              "    <tr style=\"text-align: right;\">\n",
              "      <th></th>\n",
              "      <th>text</th>\n",
              "      <th>label</th>\n",
              "    </tr>\n",
              "  </thead>\n",
              "  <tbody>\n",
              "    <tr>\n",
              "      <th>21492</th>\n",
              "      <td>Man, is it great just to see Young and The Res...</td>\n",
              "      <td>1</td>\n",
              "    </tr>\n",
              "    <tr>\n",
              "      <th>9488</th>\n",
              "      <td>Seems like a pretty innocent choice at first- ...</td>\n",
              "      <td>0</td>\n",
              "    </tr>\n",
              "    <tr>\n",
              "      <th>16933</th>\n",
              "      <td>I was into the movie right away. I've seen the...</td>\n",
              "      <td>1</td>\n",
              "    </tr>\n",
              "    <tr>\n",
              "      <th>12604</th>\n",
              "      <td>Anyone who appreciates fine acting and ringing...</td>\n",
              "      <td>1</td>\n",
              "    </tr>\n",
              "    <tr>\n",
              "      <th>8222</th>\n",
              "      <td>High school female track star dies of a blood ...</td>\n",
              "      <td>0</td>\n",
              "    </tr>\n",
              "  </tbody>\n",
              "</table>\n",
              "</div>\n",
              "      <button class=\"colab-df-convert\" onclick=\"convertToInteractive('df-941ebf17-d0cd-4781-9131-6e295caaf2a8')\"\n",
              "              title=\"Convert this dataframe to an interactive table.\"\n",
              "              style=\"display:none;\">\n",
              "        \n",
              "  <svg xmlns=\"http://www.w3.org/2000/svg\" height=\"24px\"viewBox=\"0 0 24 24\"\n",
              "       width=\"24px\">\n",
              "    <path d=\"M0 0h24v24H0V0z\" fill=\"none\"/>\n",
              "    <path d=\"M18.56 5.44l.94 2.06.94-2.06 2.06-.94-2.06-.94-.94-2.06-.94 2.06-2.06.94zm-11 1L8.5 8.5l.94-2.06 2.06-.94-2.06-.94L8.5 2.5l-.94 2.06-2.06.94zm10 10l.94 2.06.94-2.06 2.06-.94-2.06-.94-.94-2.06-.94 2.06-2.06.94z\"/><path d=\"M17.41 7.96l-1.37-1.37c-.4-.4-.92-.59-1.43-.59-.52 0-1.04.2-1.43.59L10.3 9.45l-7.72 7.72c-.78.78-.78 2.05 0 2.83L4 21.41c.39.39.9.59 1.41.59.51 0 1.02-.2 1.41-.59l7.78-7.78 2.81-2.81c.8-.78.8-2.07 0-2.86zM5.41 20L4 18.59l7.72-7.72 1.47 1.35L5.41 20z\"/>\n",
              "  </svg>\n",
              "      </button>\n",
              "      \n",
              "  <style>\n",
              "    .colab-df-container {\n",
              "      display:flex;\n",
              "      flex-wrap:wrap;\n",
              "      gap: 12px;\n",
              "    }\n",
              "\n",
              "    .colab-df-convert {\n",
              "      background-color: #E8F0FE;\n",
              "      border: none;\n",
              "      border-radius: 50%;\n",
              "      cursor: pointer;\n",
              "      display: none;\n",
              "      fill: #1967D2;\n",
              "      height: 32px;\n",
              "      padding: 0 0 0 0;\n",
              "      width: 32px;\n",
              "    }\n",
              "\n",
              "    .colab-df-convert:hover {\n",
              "      background-color: #E2EBFA;\n",
              "      box-shadow: 0px 1px 2px rgba(60, 64, 67, 0.3), 0px 1px 3px 1px rgba(60, 64, 67, 0.15);\n",
              "      fill: #174EA6;\n",
              "    }\n",
              "\n",
              "    [theme=dark] .colab-df-convert {\n",
              "      background-color: #3B4455;\n",
              "      fill: #D2E3FC;\n",
              "    }\n",
              "\n",
              "    [theme=dark] .colab-df-convert:hover {\n",
              "      background-color: #434B5C;\n",
              "      box-shadow: 0px 1px 3px 1px rgba(0, 0, 0, 0.15);\n",
              "      filter: drop-shadow(0px 1px 2px rgba(0, 0, 0, 0.3));\n",
              "      fill: #FFFFFF;\n",
              "    }\n",
              "  </style>\n",
              "\n",
              "      <script>\n",
              "        const buttonEl =\n",
              "          document.querySelector('#df-941ebf17-d0cd-4781-9131-6e295caaf2a8 button.colab-df-convert');\n",
              "        buttonEl.style.display =\n",
              "          google.colab.kernel.accessAllowed ? 'block' : 'none';\n",
              "\n",
              "        async function convertToInteractive(key) {\n",
              "          const element = document.querySelector('#df-941ebf17-d0cd-4781-9131-6e295caaf2a8');\n",
              "          const dataTable =\n",
              "            await google.colab.kernel.invokeFunction('convertToInteractive',\n",
              "                                                     [key], {});\n",
              "          if (!dataTable) return;\n",
              "\n",
              "          const docLinkHtml = 'Like what you see? Visit the ' +\n",
              "            '<a target=\"_blank\" href=https://colab.research.google.com/notebooks/data_table.ipynb>data table notebook</a>'\n",
              "            + ' to learn more about interactive tables.';\n",
              "          element.innerHTML = '';\n",
              "          dataTable['output_type'] = 'display_data';\n",
              "          await google.colab.output.renderOutput(dataTable, element);\n",
              "          const docLink = document.createElement('div');\n",
              "          docLink.innerHTML = docLinkHtml;\n",
              "          element.appendChild(docLink);\n",
              "        }\n",
              "      </script>\n",
              "    </div>\n",
              "  </div>\n",
              "  "
            ]
          },
          "metadata": {},
          "execution_count": 68
        }
      ]
    },
    {
      "cell_type": "markdown",
      "source": [
        "#### Pretreatment"
      ],
      "metadata": {
        "id": "Iw4PoxBSJPus"
      }
    },
    {
      "cell_type": "code",
      "source": [
        "def simple_pre_treatment(text):\n",
        "  new_text = text.lower()\n",
        "  new_text = new_text.translate(str.maketrans('', '', punctuation))\n",
        "  \n",
        "  return new_text"
      ],
      "metadata": {
        "id": "b_iXJrTCJPIn"
      },
      "execution_count": 69,
      "outputs": []
    },
    {
      "cell_type": "code",
      "source": [
        "dataframe_imdb_train['text'] = dataframe_imdb_train['text'].apply(simple_pre_treatment)"
      ],
      "metadata": {
        "id": "2z-2TGQrOod2"
      },
      "execution_count": 70,
      "outputs": []
    },
    {
      "cell_type": "code",
      "source": [
        "dataframe_imdb_train.head()"
      ],
      "metadata": {
        "colab": {
          "base_uri": "https://localhost:8080/",
          "height": 201
        },
        "id": "pao7sgpwJYow",
        "outputId": "990b5bf9-78d0-47b9-8a49-f1acee4a0c4b"
      },
      "execution_count": 71,
      "outputs": [
        {
          "output_type": "execute_result",
          "data": {
            "text/plain": [
              "                                                    text  label\n",
              "21492  this is an amazing movie and all of the actors...      1\n",
              "9488   proximity tells of a convict lowe who thinks t...      0\n",
              "16933  when i heard this film was directed by ang lee...      1\n",
              "12604  ok so the musical pieces were poorly written a...      1\n",
              "8222   im sorry but this is such a bad movie its hila...      0"
            ],
            "text/html": [
              "\n",
              "  <div id=\"df-1f22ef5b-2cdc-4d45-8546-d32cf49da93c\">\n",
              "    <div class=\"colab-df-container\">\n",
              "      <div>\n",
              "<style scoped>\n",
              "    .dataframe tbody tr th:only-of-type {\n",
              "        vertical-align: middle;\n",
              "    }\n",
              "\n",
              "    .dataframe tbody tr th {\n",
              "        vertical-align: top;\n",
              "    }\n",
              "\n",
              "    .dataframe thead th {\n",
              "        text-align: right;\n",
              "    }\n",
              "</style>\n",
              "<table border=\"1\" class=\"dataframe\">\n",
              "  <thead>\n",
              "    <tr style=\"text-align: right;\">\n",
              "      <th></th>\n",
              "      <th>text</th>\n",
              "      <th>label</th>\n",
              "    </tr>\n",
              "  </thead>\n",
              "  <tbody>\n",
              "    <tr>\n",
              "      <th>21492</th>\n",
              "      <td>this is an amazing movie and all of the actors...</td>\n",
              "      <td>1</td>\n",
              "    </tr>\n",
              "    <tr>\n",
              "      <th>9488</th>\n",
              "      <td>proximity tells of a convict lowe who thinks t...</td>\n",
              "      <td>0</td>\n",
              "    </tr>\n",
              "    <tr>\n",
              "      <th>16933</th>\n",
              "      <td>when i heard this film was directed by ang lee...</td>\n",
              "      <td>1</td>\n",
              "    </tr>\n",
              "    <tr>\n",
              "      <th>12604</th>\n",
              "      <td>ok so the musical pieces were poorly written a...</td>\n",
              "      <td>1</td>\n",
              "    </tr>\n",
              "    <tr>\n",
              "      <th>8222</th>\n",
              "      <td>im sorry but this is such a bad movie its hila...</td>\n",
              "      <td>0</td>\n",
              "    </tr>\n",
              "  </tbody>\n",
              "</table>\n",
              "</div>\n",
              "      <button class=\"colab-df-convert\" onclick=\"convertToInteractive('df-1f22ef5b-2cdc-4d45-8546-d32cf49da93c')\"\n",
              "              title=\"Convert this dataframe to an interactive table.\"\n",
              "              style=\"display:none;\">\n",
              "        \n",
              "  <svg xmlns=\"http://www.w3.org/2000/svg\" height=\"24px\"viewBox=\"0 0 24 24\"\n",
              "       width=\"24px\">\n",
              "    <path d=\"M0 0h24v24H0V0z\" fill=\"none\"/>\n",
              "    <path d=\"M18.56 5.44l.94 2.06.94-2.06 2.06-.94-2.06-.94-.94-2.06-.94 2.06-2.06.94zm-11 1L8.5 8.5l.94-2.06 2.06-.94-2.06-.94L8.5 2.5l-.94 2.06-2.06.94zm10 10l.94 2.06.94-2.06 2.06-.94-2.06-.94-.94-2.06-.94 2.06-2.06.94z\"/><path d=\"M17.41 7.96l-1.37-1.37c-.4-.4-.92-.59-1.43-.59-.52 0-1.04.2-1.43.59L10.3 9.45l-7.72 7.72c-.78.78-.78 2.05 0 2.83L4 21.41c.39.39.9.59 1.41.59.51 0 1.02-.2 1.41-.59l7.78-7.78 2.81-2.81c.8-.78.8-2.07 0-2.86zM5.41 20L4 18.59l7.72-7.72 1.47 1.35L5.41 20z\"/>\n",
              "  </svg>\n",
              "      </button>\n",
              "      \n",
              "  <style>\n",
              "    .colab-df-container {\n",
              "      display:flex;\n",
              "      flex-wrap:wrap;\n",
              "      gap: 12px;\n",
              "    }\n",
              "\n",
              "    .colab-df-convert {\n",
              "      background-color: #E8F0FE;\n",
              "      border: none;\n",
              "      border-radius: 50%;\n",
              "      cursor: pointer;\n",
              "      display: none;\n",
              "      fill: #1967D2;\n",
              "      height: 32px;\n",
              "      padding: 0 0 0 0;\n",
              "      width: 32px;\n",
              "    }\n",
              "\n",
              "    .colab-df-convert:hover {\n",
              "      background-color: #E2EBFA;\n",
              "      box-shadow: 0px 1px 2px rgba(60, 64, 67, 0.3), 0px 1px 3px 1px rgba(60, 64, 67, 0.15);\n",
              "      fill: #174EA6;\n",
              "    }\n",
              "\n",
              "    [theme=dark] .colab-df-convert {\n",
              "      background-color: #3B4455;\n",
              "      fill: #D2E3FC;\n",
              "    }\n",
              "\n",
              "    [theme=dark] .colab-df-convert:hover {\n",
              "      background-color: #434B5C;\n",
              "      box-shadow: 0px 1px 3px 1px rgba(0, 0, 0, 0.15);\n",
              "      filter: drop-shadow(0px 1px 2px rgba(0, 0, 0, 0.3));\n",
              "      fill: #FFFFFF;\n",
              "    }\n",
              "  </style>\n",
              "\n",
              "      <script>\n",
              "        const buttonEl =\n",
              "          document.querySelector('#df-1f22ef5b-2cdc-4d45-8546-d32cf49da93c button.colab-df-convert');\n",
              "        buttonEl.style.display =\n",
              "          google.colab.kernel.accessAllowed ? 'block' : 'none';\n",
              "\n",
              "        async function convertToInteractive(key) {\n",
              "          const element = document.querySelector('#df-1f22ef5b-2cdc-4d45-8546-d32cf49da93c');\n",
              "          const dataTable =\n",
              "            await google.colab.kernel.invokeFunction('convertToInteractive',\n",
              "                                                     [key], {});\n",
              "          if (!dataTable) return;\n",
              "\n",
              "          const docLinkHtml = 'Like what you see? Visit the ' +\n",
              "            '<a target=\"_blank\" href=https://colab.research.google.com/notebooks/data_table.ipynb>data table notebook</a>'\n",
              "            + ' to learn more about interactive tables.';\n",
              "          element.innerHTML = '';\n",
              "          dataTable['output_type'] = 'display_data';\n",
              "          await google.colab.output.renderOutput(dataTable, element);\n",
              "          const docLink = document.createElement('div');\n",
              "          docLink.innerHTML = docLinkHtml;\n",
              "          element.appendChild(docLink);\n",
              "        }\n",
              "      </script>\n",
              "    </div>\n",
              "  </div>\n",
              "  "
            ]
          },
          "metadata": {},
          "execution_count": 71
        }
      ]
    },
    {
      "cell_type": "code",
      "source": [
        "dataframe_imdb_test['text'] = dataframe_imdb_test['text'].apply(simple_pre_treatment)"
      ],
      "metadata": {
        "id": "CKJ7xj61V5Nr"
      },
      "execution_count": 72,
      "outputs": []
    },
    {
      "cell_type": "code",
      "source": [
        "dataframe_imdb_test.head()"
      ],
      "metadata": {
        "colab": {
          "base_uri": "https://localhost:8080/",
          "height": 201
        },
        "id": "oeLOnKpxV7Tk",
        "outputId": "d39b6f90-4dbb-4f29-f64e-8d4301b89123"
      },
      "execution_count": 73,
      "outputs": [
        {
          "output_type": "execute_result",
          "data": {
            "text/plain": [
              "                                                    text  label\n",
              "21492  man is it great just to see young and the rest...      1\n",
              "9488   seems like a pretty innocent choice at first t...      0\n",
              "16933  i was into the movie right away ive seen the o...      1\n",
              "12604  anyone who appreciates fine acting and ringing...      1\n",
              "8222   high school female track star dies of a blood ...      0"
            ],
            "text/html": [
              "\n",
              "  <div id=\"df-3fe562c1-53e3-4ab5-823e-31ee82a09e6f\">\n",
              "    <div class=\"colab-df-container\">\n",
              "      <div>\n",
              "<style scoped>\n",
              "    .dataframe tbody tr th:only-of-type {\n",
              "        vertical-align: middle;\n",
              "    }\n",
              "\n",
              "    .dataframe tbody tr th {\n",
              "        vertical-align: top;\n",
              "    }\n",
              "\n",
              "    .dataframe thead th {\n",
              "        text-align: right;\n",
              "    }\n",
              "</style>\n",
              "<table border=\"1\" class=\"dataframe\">\n",
              "  <thead>\n",
              "    <tr style=\"text-align: right;\">\n",
              "      <th></th>\n",
              "      <th>text</th>\n",
              "      <th>label</th>\n",
              "    </tr>\n",
              "  </thead>\n",
              "  <tbody>\n",
              "    <tr>\n",
              "      <th>21492</th>\n",
              "      <td>man is it great just to see young and the rest...</td>\n",
              "      <td>1</td>\n",
              "    </tr>\n",
              "    <tr>\n",
              "      <th>9488</th>\n",
              "      <td>seems like a pretty innocent choice at first t...</td>\n",
              "      <td>0</td>\n",
              "    </tr>\n",
              "    <tr>\n",
              "      <th>16933</th>\n",
              "      <td>i was into the movie right away ive seen the o...</td>\n",
              "      <td>1</td>\n",
              "    </tr>\n",
              "    <tr>\n",
              "      <th>12604</th>\n",
              "      <td>anyone who appreciates fine acting and ringing...</td>\n",
              "      <td>1</td>\n",
              "    </tr>\n",
              "    <tr>\n",
              "      <th>8222</th>\n",
              "      <td>high school female track star dies of a blood ...</td>\n",
              "      <td>0</td>\n",
              "    </tr>\n",
              "  </tbody>\n",
              "</table>\n",
              "</div>\n",
              "      <button class=\"colab-df-convert\" onclick=\"convertToInteractive('df-3fe562c1-53e3-4ab5-823e-31ee82a09e6f')\"\n",
              "              title=\"Convert this dataframe to an interactive table.\"\n",
              "              style=\"display:none;\">\n",
              "        \n",
              "  <svg xmlns=\"http://www.w3.org/2000/svg\" height=\"24px\"viewBox=\"0 0 24 24\"\n",
              "       width=\"24px\">\n",
              "    <path d=\"M0 0h24v24H0V0z\" fill=\"none\"/>\n",
              "    <path d=\"M18.56 5.44l.94 2.06.94-2.06 2.06-.94-2.06-.94-.94-2.06-.94 2.06-2.06.94zm-11 1L8.5 8.5l.94-2.06 2.06-.94-2.06-.94L8.5 2.5l-.94 2.06-2.06.94zm10 10l.94 2.06.94-2.06 2.06-.94-2.06-.94-.94-2.06-.94 2.06-2.06.94z\"/><path d=\"M17.41 7.96l-1.37-1.37c-.4-.4-.92-.59-1.43-.59-.52 0-1.04.2-1.43.59L10.3 9.45l-7.72 7.72c-.78.78-.78 2.05 0 2.83L4 21.41c.39.39.9.59 1.41.59.51 0 1.02-.2 1.41-.59l7.78-7.78 2.81-2.81c.8-.78.8-2.07 0-2.86zM5.41 20L4 18.59l7.72-7.72 1.47 1.35L5.41 20z\"/>\n",
              "  </svg>\n",
              "      </button>\n",
              "      \n",
              "  <style>\n",
              "    .colab-df-container {\n",
              "      display:flex;\n",
              "      flex-wrap:wrap;\n",
              "      gap: 12px;\n",
              "    }\n",
              "\n",
              "    .colab-df-convert {\n",
              "      background-color: #E8F0FE;\n",
              "      border: none;\n",
              "      border-radius: 50%;\n",
              "      cursor: pointer;\n",
              "      display: none;\n",
              "      fill: #1967D2;\n",
              "      height: 32px;\n",
              "      padding: 0 0 0 0;\n",
              "      width: 32px;\n",
              "    }\n",
              "\n",
              "    .colab-df-convert:hover {\n",
              "      background-color: #E2EBFA;\n",
              "      box-shadow: 0px 1px 2px rgba(60, 64, 67, 0.3), 0px 1px 3px 1px rgba(60, 64, 67, 0.15);\n",
              "      fill: #174EA6;\n",
              "    }\n",
              "\n",
              "    [theme=dark] .colab-df-convert {\n",
              "      background-color: #3B4455;\n",
              "      fill: #D2E3FC;\n",
              "    }\n",
              "\n",
              "    [theme=dark] .colab-df-convert:hover {\n",
              "      background-color: #434B5C;\n",
              "      box-shadow: 0px 1px 3px 1px rgba(0, 0, 0, 0.15);\n",
              "      filter: drop-shadow(0px 1px 2px rgba(0, 0, 0, 0.3));\n",
              "      fill: #FFFFFF;\n",
              "    }\n",
              "  </style>\n",
              "\n",
              "      <script>\n",
              "        const buttonEl =\n",
              "          document.querySelector('#df-3fe562c1-53e3-4ab5-823e-31ee82a09e6f button.colab-df-convert');\n",
              "        buttonEl.style.display =\n",
              "          google.colab.kernel.accessAllowed ? 'block' : 'none';\n",
              "\n",
              "        async function convertToInteractive(key) {\n",
              "          const element = document.querySelector('#df-3fe562c1-53e3-4ab5-823e-31ee82a09e6f');\n",
              "          const dataTable =\n",
              "            await google.colab.kernel.invokeFunction('convertToInteractive',\n",
              "                                                     [key], {});\n",
              "          if (!dataTable) return;\n",
              "\n",
              "          const docLinkHtml = 'Like what you see? Visit the ' +\n",
              "            '<a target=\"_blank\" href=https://colab.research.google.com/notebooks/data_table.ipynb>data table notebook</a>'\n",
              "            + ' to learn more about interactive tables.';\n",
              "          element.innerHTML = '';\n",
              "          dataTable['output_type'] = 'display_data';\n",
              "          await google.colab.output.renderOutput(dataTable, element);\n",
              "          const docLink = document.createElement('div');\n",
              "          docLink.innerHTML = docLinkHtml;\n",
              "          element.appendChild(docLink);\n",
              "        }\n",
              "      </script>\n",
              "    </div>\n",
              "  </div>\n",
              "  "
            ]
          },
          "metadata": {},
          "execution_count": 73
        }
      ]
    },
    {
      "cell_type": "markdown",
      "source": [
        "FastText classifier takes a text file as input and every line must have the following format:\n",
        "```\n",
        "__label__<your_label> <corresponding text>\n",
        "```\n",
        "So we need to format our dataset."
      ],
      "metadata": {
        "id": "9NebbdGxFjxd"
      }
    },
    {
      "cell_type": "code",
      "source": [
        "def data_to_formating_text_file(dataframe, file_name):\n",
        "\n",
        "  text_file = open(file_name, \"w\")\n",
        "  \n",
        "  for index, document in dataframe.iterrows():\n",
        "    label = \"positive\" if document[\"label\"] == 1 else \"negative\"\n",
        "    line = \"__label__{} {}\\n\".format(label, document[\"text\"])\n",
        "    text_file.write(line)\n",
        "\n",
        "  text_file.close()"
      ],
      "metadata": {
        "id": "wsIDyhaswCmm"
      },
      "execution_count": 74,
      "outputs": []
    },
    {
      "cell_type": "code",
      "source": [
        "file_name = \"imdb_train.txt\""
      ],
      "metadata": {
        "id": "yZwiQRlgGFSA"
      },
      "execution_count": 75,
      "outputs": []
    },
    {
      "cell_type": "code",
      "source": [
        "data_to_formating_text_file(dataframe_imdb_train, file_name)"
      ],
      "metadata": {
        "id": "2l-leuOYGGI1"
      },
      "execution_count": 76,
      "outputs": []
    },
    {
      "cell_type": "code",
      "source": [
        "!head $file_name"
      ],
      "metadata": {
        "colab": {
          "base_uri": "https://localhost:8080/"
        },
        "id": "MJ5G8NQrGIka",
        "outputId": "c849abf4-6c22-40e8-b7b5-2a096851dd47"
      },
      "execution_count": 77,
      "outputs": [
        {
          "output_type": "stream",
          "name": "stdout",
          "text": [
            "__label__positive this is an amazing movie and all of the actors and actresses and very good even though some of the actors and actresses werent very popular in show business it seemed like they have been acting since they were 1 one year old it was funny gross and just all out a very good movie in most parts i just didnt know what was going to happen next i was like i think this is going to happen wait i think this is going to happen all age groups will love this movie in some parts i couldnt stop laughing it was so funny but in some parts i was totally grossed out and i couldnt believe what i was seeing i am definitely going to see this movie again it is one of those movies where it cant get boring every time you see it is so suspenseful i definitely recommend seeing this movie\n",
            "__label__negative proximity tells of a convict lowe who thinks the prison staff is out to kill him this very ordinary film is an actiondrama with a weak plot stereotypical poorly developed characters and a one dimensional performance by lowe a forgettable film not worthy of further commentary\n",
            "__label__positive when i heard this film was directed by ang lee i made sure to see it this taiwanese director burst into fame with the wedding banquet and eat drink man woman a few years ago and then moved on to sense and sensibility and the ice storm now he turns his attention to another american icon  the civil warbr br this story takes place in missouri a union state with southern sympathies these never officially joined the confederate army instead they formed outlaw bands called bushwhackers grew they hair long and sometimes would confiscated union uniforms which they wore over their regular clothingbr br the movie depicts their moral dilemma the high drama of the times and their supposedly heroic missions of killing storekeepers and farmers who aided the union there are no stars in this movie unless you consider jewel the singer well cast as a young confederate widow as a starbr br tobey macquire is cast as a young german farm boy who is derided for his heritage because the germans were supposed union sympathizers this young man is an excellent actor full of fresh faced youth whose performance encompasses his wonder and subtle realizations as hes exposed to the horror of warbr br jeffrey wright is a freed slave who travels with the bushwhackers because of his loyalty to the young man who bought him his freedom he gives a fine and understated performancebr br some of the acting however is wooden especially in the long conversations they have about morality and their costumes are too new and the southern gentleman theme of manners and hattipping and politeness to women comes across as a bit much  especially since they make it a point to murder all the men who they pull from their womens arms then burn down the stores and housesbr br while i dont think that this will go down as one of lee angs great movies i did find myself fascinated by it in spite of the slow parts and its excessive length of 140 minutes i was interested in what was happening next and felt empathy for each of the characters who all came across as real and imperfect human beings caught up in the forces of historybr br not as much action as the usual war movie but yet still recommended  especially for civil war buffsbr br \n",
            "__label__positive ok so the musical pieces were poorly written and generally poorly sung though walken and marner particularly walken sounded pretty good and so they shattered the fourth wall at the end by having the king and his nobles sing about the battle with the ogre and praise the efforts of puss in boots when they by rights shouldnt have even known about itbr br who cares its christopher freakin walken doing a movie based on a fairy tale and he sings and dances his acting style fits the role very well as the devious mischievous puss who seems to get his master into deeper and deeper trouble but in fact has a plan hes thought about seven or eight moves in advance and if youve ever seen walken in any of his villainous roles you know the ogre bit the dust hard at the end when walken got him into his trapbr br a fun film and a mustsee for anyone who enjoys the unique style of christopher walken\n",
            "__label__negative im sorry but this is such a bad movie its hilarious football hooligans arguing in a travel lodge suits shades alan clearly had no idea what he was talking about when he made this it is as far from the truth as you can getbr br the casting was atrociousgary oldman as a football hooligan he doesnt look scary act scary or even come across as someone who would like football and as for yeti what the hell suits shades and sitting in a travelodge childishly taunting each other with its about time you got your nappy on pleasebr br and the yetis gang spraying the iccs underwear br br i dont see how anyone can even take this film seriouslybr br 410 its possibly the most inaccurate portrayal of the crisis of the late eighties hooliganism i have ever seen\n",
            "__label__negative okay so im not a big video game buff but was the game house of the dead really famous enough to make a movie from sure they went as far as to actually put in quick video game clips throughout the movie as though justifying any particular scene of violence but there are dozens and dozens of games that look exactly the same with the hand in the bottom on the screen supposedly your own holding whatever weapon and gooing all kinds of aliens or walking dead or snipers or whatever the case may bebr br its an interesting premise in house of the dead with a lot of college kids loaded college kids as it were kids who are able to pay some fisherman something like 1500 just for a ride after they miss their boat trying to get out to this island for what is supposed to be the rave of the year the first thing that comes to mind about house of the dead after watching it is that it has become increasingly clear that modern horror movies have become nothing more than an exercise in coming up with creative ways to get a lot of scantily clad teenagers into exactly the same situations at least in this case the fact that they were on their way to a rave excuses the way the girls are dressed they look badly out of place running around the woods in cute little haltertops but at least they thought they were dressed for the occasionbr br clint howard tellingly the most interesting character in the film by far delivers an absolutely awful performance the greatness of which overshadows every other actor in the movie i cant stand it when wellknown actors change their accents in movies it is so rarely effective and howard here shows that it is equally flat to have an wellknown actor pretend that hes this hardened fisherman with a raspy voice from years of breathing salty air he didnt even rasp well it sounded like he was eating a cinnamon roll before shooting and accidentally inhaled some powdered sugar or something real tough there clint i expected more from him but then again he did agree to a part in this messbr br once we get to the island the movie temporarily turns into any one of the friday the 13th movies that took place at camp crystal lake lots of teenagers played by actors who were way too old for their parts getting naked and then killed the nudity was impressive i guess but lets consider something for a minute these kids pay almost two grand to get out to this island to go to the rave of the year find no one and say well who wants a beer even the guy who pulled that stack of hundreds out of his wallet to get them all over there didnt think anything of it that they found a full bar and not a single solitary person in sight here you have the input from director uwe boll  theres alcohol they wont notice that the party they came for consists of no one but themselvesbr br so not only do they start drinking not minding the fact that the whole party seems to have vacated the island but when one of the girls goes off into the dark woods to find out where everyone is dragging one other girl and one of the guys reluctantly along the guy and the girl who stay behind to get smashed decide that it would be a great idea to strip down for a quickie now that theyre alone its like they expected to find the island empty and now that they rest of the people that they came over with were gone for a little while they would have some privacy since theres no one else around brilliantbr br now for the things that everyone hated judging by the reviews that ive read about the movie yes intersplicing shots from the video game into the movie mostly in order to show that yes the movie was being faithful todirectly copying the video game sure it was a stupid idea i cant imagine who thought up that little nugget but worse than that is the matrixstyle bullet time scenes that were thrown in over and over and over and over after the first time at which point i found it pretentious and cheesy for a movie like this to have a shot like that as though it was something original it is noticeable more for the technique of the shot itself rather than any dramatic meaning or creation of any kind of tension for the filmbr br one of the things that makes a zombie film scary and gets you on the edge of your seat is to have them slowly but relentlessly coming after the living humans who are much faster but getting tired running out of places to run and with a terrifying shortage of things with which to fight the zombies off with the first two are done right in the movie the kids are terrified and dont have a lot of places to run since theyre on an island but since they caught a ride over with a smuggler they find themselves heavily armed and i mean that very strongly i mean these people have everything from machine guns to hand grenades which removes most of the tension of the impending walking deadbr br then you have what i call the technoslasher scene since the rave never happened and i guess since uwe boll thought people were going to be disappointed at not hearing any techno music in the movie theres one scene right in the middle where all the humans are fighting off the living dead and amazingly enough it turns into something of a music video theres techno music blasting as the shots are edited together faster and faster until its nothing but a blur of gory shot mostly only about 5 frames long which is about 16 of a second flashing across the screen in time with the speed techno music clever i guess but it has no place in a horror movie because it completely removes any sense of scariness or tension of even the grossout effect because you cant see any one thing for long enough to react to it youre just watching these shots fly across the screen and wondering what the hell the director was thinking when he decided that it would be a good idea to put something like this in the moviebr br ive seen a lot of people compare this movie to resident evil mostly claiming that it copies the premise of it and theyre exactly right i appreciate that at least here as was not the case in resident evil it wasnt some manmade virus that turned people into walking dead that were able to infect other people changing them the way vampires turn others into vampires 28 days later was also clearly an inspiration for this movie its just too bad that house of the dead didnt do a single original thing except for the somewhat moronic idea of putting in quick shots of the video game on which it is based just in case you forget i really think that this should have been a much better movie while obviously i cant say that i know much about the game its based on just the title and the movie poster deserve a much better movie but unfortunately i think thats more often the case than not with horror movies its really kind of sad when a movie comes out that is so obviously advertised as a noholdsbarred horror film and the scariest thing in the entire movie is the closing shot which suggests the possibility of a sequel\n",
            "__label__positive the korean war has been dubbed americass forgotten war so many unanswered questions were buried along with the 50 thousand men who died there occasionally we are treated to a play or movie which deals with that faroff ghostly frozen graveyard here is perhaps one of the finest its called  sergeant ryker  the story is of an american soldier named sgt paul ryker lee marvin who is selected for a top secret mission by his commanding officer his task is to defect to the north koreans and offer his services against united nations forces so successful is his cover he proves invaluable to the enemy and given the rank of major however he is thereafter captured by the americans put on trial as a traitor and spy stating he was ordered to defect he sadly learns his commanding officer has been killed and has no evidence or proof of his innocence he is convicted and sentenced to hang however his conviction is doubted by capt young bradford dillman his prosecutor convincing commanding gen amos baily lloyd nolan of his doubts he is granted a new trial and if found guilty will be executed the courtroom drama is top notch as is the cast which includes peter graves murray hamilton and norman fell as sgt max winkler korea was a far off place but the possibility of convicting a communist and hanging him hit very close to home in the 1950s due to its superior script and powerful message this drama has become a courtroom classic excellent viewing and recommended to all \n",
            "__label__positive as an employee of the swedish air force i enjoyed the nice gripen and hkp 9 mbb bo 105 flight scenes in this movie one of the few disappointments was the ews 39 jammer pod in this case an inert rb 75 maverick missile painted black with the letters ews 39 in white along the side real jammer pods definitely do not look like that at least not the ones ive seenbr br but apart from that its an entertaining movie with a very amusing ending the last minute anyone interested in seeing various swedish military units including the nowlegendary ssg on film should see this onebr br \n",
            "__label__positive a masterful treatment of james caines the postman always rings twice as luchino viscontis first film shot primarily around ferrara in a soulless wartorn italy the original negative was thought destroyed but visconti saved a print and fortunately we can see this early neorealist work today a ruggedly handsome massimo girotti and clara calamai who had recently revealed her breasts in la cena delle beffe 1941 star as the sensuallycharged and illfated lovers who plot to kill her husband unusual ending in which although crime does not pay one pays in a way not directly linked to the crime excellent direction script acting and cinematography reportedly not as good as the french le dernier tournant 1939 but probably better than the us version 1946 featuring lana turner and john garfield in the lead roles highly recommended\n",
            "__label__negative oh dear lord how on earth was any part of this film ever approved by anyone it reeks of cheese from start to finish but its not even good cheese its the scummiest moldiest most tasteless cheese there is and i cannot believe there is anyone out there who actually truly enjoyed it yes if you saw it with a load of drunkstoned buddies then some bits might be funny in a sad kind of way but for the rest of the audience the only entertaining parts are when said group of buddies are throwing popcorn and abusive insults at each other and the screen i watched it with an upforafewlaughs guy having had a few beers in preparation to chuckle away at the films expected crapness we got the crapness plenty of it but not the chuckles it doesnt even qualify as a sobaditsgood movie its just plain bad very very bad heres why look away if youre spoilerphobic the movie starts out with a guy beating another guy to death ok i was a few minutes late in so not sure why this was but i think i grasped the this guy is a bit of a badass who you dont want to mess with message behind the ingenious scene oh and a guy witnesses it so we already have our ultraevil bad guy and wussy but cute apparently good guy cue hero big sam steps on the scene in the usual fashion saving good guy in the usual inane way that only poor action films can accomplish ie hero is immune to bullets everyone else falls over rather clumsily cue first plot hole how the bloody hell did sammy know where this guy was or that hed watched the murder perhaps this and the answers to all my plothole related questions was explained in the 2 minutes before i got into the cinema but i doubt it in fact im going to stop poking holes in the plot right here lest i turn the movie into something resembling swiss cheese which we all know is good cheese so the plot a very generous word to use good guy must get to la evil guy would rather he didnt hero sam stands between the two cue scenery for the next vomitinducing hour  the passenger plane as i said no more poking at plot holes ill just leave it there passenger plane next the vital ingredient up until now missing from this gem of a movie and what makes it everything it is  snakes yay oh pause first we have the introduction to all the obligatory characters that a lame movie must have hot horny couple see if you can guess how they die deadbeforeanysnakesevenappear british guy those pesky brits eh cute kids and jo brand for all you americans thats an english comic famous for her size and unattractiveness now that weve met the cast lets watch all of them die except of course the cute kids dont expect anything original its just snake bites on various and everincreasingly hilarious really not parts of the body use your imagination since the filmmakers obviously didnt use theirsbr br so thats most of the film wrapped up so now for the best bit the ending as expected everything is just so happy as the plane lands that everyone in sight starts sucking face yep icecool sammy included but wait were not all off the plane yet the last guy to get off is good guy but just as he does he gets bitten by a you guessed it snake of all things clearly this one had been hiding in mr jacksons hair the whole time since it somehow managed to resist the air pressure trick that the good old hero had employed a few minutes earlier despite the 200ft constrictor the one that ate that pesky british bugger being unable to so sam shoots him and the snake in one fell swoop at this point i prayed that the movie was about to make a muchneeded uturn and reveal that all along the hero was actually a traitor of some sort but no in a kind of icing on the cake way but with stale cheese remember it is revealed that the climax of the film was involving a bullet proof vest how anyone can think that an audience 10 years ago let alone in 2006 would be impressed by their ingenuity is beyond me but it did well in summing up the filmbr br actually were not quite done yet after everyone has sucked face uncle sam with leading actress good guy with tiffany token black guy with token white girl and the hot couple in a heart warming bout of necrophilia its time for good guy and hero to get it onin bali nope it wasnt at all exciting the exclamation marks were just there to represent my utter joy at seeing the credits roll yes the final shot of the film is a celebratory surfing trip to convey the message that a bit of male bonding has occurred and a chance for any morons that actually enjoyed the movie to whoop a few times thats it this is the first time ive ever posted a movie review but i felt so strongly that somebody must speak out against this scourge of cinematography if you like planes snakes samuel ljackson air hostesses bad guys surfing dogs in bags or english people then please please dont see this movie it will pollute your opinion of all of the above so far that youll never want to come into contact with any of them ever again go see united 93 instead that was good\n"
          ]
        }
      ]
    },
    {
      "cell_type": "markdown",
      "source": [
        "### FastText classifier with default parameters"
      ],
      "metadata": {
        "id": "VaINNNN2SwU2"
      }
    },
    {
      "cell_type": "code",
      "source": [
        "import fasttext"
      ],
      "metadata": {
        "id": "X8nfTQ8DQdCm"
      },
      "execution_count": 78,
      "outputs": []
    },
    {
      "cell_type": "code",
      "source": [
        "model = fasttext.train_supervised(input=\"imdb_train.txt\")"
      ],
      "metadata": {
        "id": "SoU1-sOHTRs5"
      },
      "execution_count": 79,
      "outputs": []
    },
    {
      "cell_type": "code",
      "source": [
        "dataframe_imdb_test.head()"
      ],
      "metadata": {
        "colab": {
          "base_uri": "https://localhost:8080/",
          "height": 201
        },
        "id": "uorkQ9FdrQah",
        "outputId": "786029ae-bc66-43b7-fcd7-2f87b146e1b0"
      },
      "execution_count": 80,
      "outputs": [
        {
          "output_type": "execute_result",
          "data": {
            "text/plain": [
              "                                                    text  label\n",
              "21492  man is it great just to see young and the rest...      1\n",
              "9488   seems like a pretty innocent choice at first t...      0\n",
              "16933  i was into the movie right away ive seen the o...      1\n",
              "12604  anyone who appreciates fine acting and ringing...      1\n",
              "8222   high school female track star dies of a blood ...      0"
            ],
            "text/html": [
              "\n",
              "  <div id=\"df-eab777eb-6599-4d4d-bcf4-a1baa7c7d198\">\n",
              "    <div class=\"colab-df-container\">\n",
              "      <div>\n",
              "<style scoped>\n",
              "    .dataframe tbody tr th:only-of-type {\n",
              "        vertical-align: middle;\n",
              "    }\n",
              "\n",
              "    .dataframe tbody tr th {\n",
              "        vertical-align: top;\n",
              "    }\n",
              "\n",
              "    .dataframe thead th {\n",
              "        text-align: right;\n",
              "    }\n",
              "</style>\n",
              "<table border=\"1\" class=\"dataframe\">\n",
              "  <thead>\n",
              "    <tr style=\"text-align: right;\">\n",
              "      <th></th>\n",
              "      <th>text</th>\n",
              "      <th>label</th>\n",
              "    </tr>\n",
              "  </thead>\n",
              "  <tbody>\n",
              "    <tr>\n",
              "      <th>21492</th>\n",
              "      <td>man is it great just to see young and the rest...</td>\n",
              "      <td>1</td>\n",
              "    </tr>\n",
              "    <tr>\n",
              "      <th>9488</th>\n",
              "      <td>seems like a pretty innocent choice at first t...</td>\n",
              "      <td>0</td>\n",
              "    </tr>\n",
              "    <tr>\n",
              "      <th>16933</th>\n",
              "      <td>i was into the movie right away ive seen the o...</td>\n",
              "      <td>1</td>\n",
              "    </tr>\n",
              "    <tr>\n",
              "      <th>12604</th>\n",
              "      <td>anyone who appreciates fine acting and ringing...</td>\n",
              "      <td>1</td>\n",
              "    </tr>\n",
              "    <tr>\n",
              "      <th>8222</th>\n",
              "      <td>high school female track star dies of a blood ...</td>\n",
              "      <td>0</td>\n",
              "    </tr>\n",
              "  </tbody>\n",
              "</table>\n",
              "</div>\n",
              "      <button class=\"colab-df-convert\" onclick=\"convertToInteractive('df-eab777eb-6599-4d4d-bcf4-a1baa7c7d198')\"\n",
              "              title=\"Convert this dataframe to an interactive table.\"\n",
              "              style=\"display:none;\">\n",
              "        \n",
              "  <svg xmlns=\"http://www.w3.org/2000/svg\" height=\"24px\"viewBox=\"0 0 24 24\"\n",
              "       width=\"24px\">\n",
              "    <path d=\"M0 0h24v24H0V0z\" fill=\"none\"/>\n",
              "    <path d=\"M18.56 5.44l.94 2.06.94-2.06 2.06-.94-2.06-.94-.94-2.06-.94 2.06-2.06.94zm-11 1L8.5 8.5l.94-2.06 2.06-.94-2.06-.94L8.5 2.5l-.94 2.06-2.06.94zm10 10l.94 2.06.94-2.06 2.06-.94-2.06-.94-.94-2.06-.94 2.06-2.06.94z\"/><path d=\"M17.41 7.96l-1.37-1.37c-.4-.4-.92-.59-1.43-.59-.52 0-1.04.2-1.43.59L10.3 9.45l-7.72 7.72c-.78.78-.78 2.05 0 2.83L4 21.41c.39.39.9.59 1.41.59.51 0 1.02-.2 1.41-.59l7.78-7.78 2.81-2.81c.8-.78.8-2.07 0-2.86zM5.41 20L4 18.59l7.72-7.72 1.47 1.35L5.41 20z\"/>\n",
              "  </svg>\n",
              "      </button>\n",
              "      \n",
              "  <style>\n",
              "    .colab-df-container {\n",
              "      display:flex;\n",
              "      flex-wrap:wrap;\n",
              "      gap: 12px;\n",
              "    }\n",
              "\n",
              "    .colab-df-convert {\n",
              "      background-color: #E8F0FE;\n",
              "      border: none;\n",
              "      border-radius: 50%;\n",
              "      cursor: pointer;\n",
              "      display: none;\n",
              "      fill: #1967D2;\n",
              "      height: 32px;\n",
              "      padding: 0 0 0 0;\n",
              "      width: 32px;\n",
              "    }\n",
              "\n",
              "    .colab-df-convert:hover {\n",
              "      background-color: #E2EBFA;\n",
              "      box-shadow: 0px 1px 2px rgba(60, 64, 67, 0.3), 0px 1px 3px 1px rgba(60, 64, 67, 0.15);\n",
              "      fill: #174EA6;\n",
              "    }\n",
              "\n",
              "    [theme=dark] .colab-df-convert {\n",
              "      background-color: #3B4455;\n",
              "      fill: #D2E3FC;\n",
              "    }\n",
              "\n",
              "    [theme=dark] .colab-df-convert:hover {\n",
              "      background-color: #434B5C;\n",
              "      box-shadow: 0px 1px 3px 1px rgba(0, 0, 0, 0.15);\n",
              "      filter: drop-shadow(0px 1px 2px rgba(0, 0, 0, 0.3));\n",
              "      fill: #FFFFFF;\n",
              "    }\n",
              "  </style>\n",
              "\n",
              "      <script>\n",
              "        const buttonEl =\n",
              "          document.querySelector('#df-eab777eb-6599-4d4d-bcf4-a1baa7c7d198 button.colab-df-convert');\n",
              "        buttonEl.style.display =\n",
              "          google.colab.kernel.accessAllowed ? 'block' : 'none';\n",
              "\n",
              "        async function convertToInteractive(key) {\n",
              "          const element = document.querySelector('#df-eab777eb-6599-4d4d-bcf4-a1baa7c7d198');\n",
              "          const dataTable =\n",
              "            await google.colab.kernel.invokeFunction('convertToInteractive',\n",
              "                                                     [key], {});\n",
              "          if (!dataTable) return;\n",
              "\n",
              "          const docLinkHtml = 'Like what you see? Visit the ' +\n",
              "            '<a target=\"_blank\" href=https://colab.research.google.com/notebooks/data_table.ipynb>data table notebook</a>'\n",
              "            + ' to learn more about interactive tables.';\n",
              "          element.innerHTML = '';\n",
              "          dataTable['output_type'] = 'display_data';\n",
              "          await google.colab.output.renderOutput(dataTable, element);\n",
              "          const docLink = document.createElement('div');\n",
              "          docLink.innerHTML = docLinkHtml;\n",
              "          element.appendChild(docLink);\n",
              "        }\n",
              "      </script>\n",
              "    </div>\n",
              "  </div>\n",
              "  "
            ]
          },
          "metadata": {},
          "execution_count": 80
        }
      ]
    },
    {
      "cell_type": "code",
      "source": [
        "model.predict('text')[0][0]"
      ],
      "metadata": {
        "colab": {
          "base_uri": "https://localhost:8080/",
          "height": 34
        },
        "id": "J6iNqs_asXOG",
        "outputId": "f8ee27a3-eba4-488f-bc30-9bbad0171731"
      },
      "execution_count": 81,
      "outputs": [
        {
          "output_type": "execute_result",
          "data": {
            "text/plain": [
              "'__label__negative'"
            ],
            "application/vnd.google.colaboratory.intrinsic+json": {
              "type": "string"
            }
          },
          "metadata": {},
          "execution_count": 81
        }
      ]
    },
    {
      "cell_type": "markdown",
      "source": [
        "`model.predict` return a tuple with like that `(('__label__<label>',), array([0.999]))` That is a tuple of tuple. I will save the item 0 of the tuple 0 on the dataframe"
      ],
      "metadata": {
        "id": "Ga9NBA7usmSq"
      }
    },
    {
      "cell_type": "code",
      "source": [
        "dataframe_imdb_test['prediction'] = dataframe_imdb_test.apply(lambda row: model.predict(row['text'])[0][0], axis=1)"
      ],
      "metadata": {
        "id": "e-vj7qkqXKgE"
      },
      "execution_count": 82,
      "outputs": []
    },
    {
      "cell_type": "code",
      "source": [
        "dataframe_imdb_test.head()"
      ],
      "metadata": {
        "colab": {
          "base_uri": "https://localhost:8080/",
          "height": 201
        },
        "id": "3G4gbQnGuMyT",
        "outputId": "fc7115bd-7e29-4d96-fb14-a4cdeb7a4455"
      },
      "execution_count": 83,
      "outputs": [
        {
          "output_type": "execute_result",
          "data": {
            "text/plain": [
              "                                                    text  label  \\\n",
              "21492  man is it great just to see young and the rest...      1   \n",
              "9488   seems like a pretty innocent choice at first t...      0   \n",
              "16933  i was into the movie right away ive seen the o...      1   \n",
              "12604  anyone who appreciates fine acting and ringing...      1   \n",
              "8222   high school female track star dies of a blood ...      0   \n",
              "\n",
              "              prediction  \n",
              "21492  __label__positive  \n",
              "9488   __label__negative  \n",
              "16933  __label__positive  \n",
              "12604  __label__positive  \n",
              "8222   __label__negative  "
            ],
            "text/html": [
              "\n",
              "  <div id=\"df-28b194ed-81a9-4d70-9a59-073ca1a0f8c6\">\n",
              "    <div class=\"colab-df-container\">\n",
              "      <div>\n",
              "<style scoped>\n",
              "    .dataframe tbody tr th:only-of-type {\n",
              "        vertical-align: middle;\n",
              "    }\n",
              "\n",
              "    .dataframe tbody tr th {\n",
              "        vertical-align: top;\n",
              "    }\n",
              "\n",
              "    .dataframe thead th {\n",
              "        text-align: right;\n",
              "    }\n",
              "</style>\n",
              "<table border=\"1\" class=\"dataframe\">\n",
              "  <thead>\n",
              "    <tr style=\"text-align: right;\">\n",
              "      <th></th>\n",
              "      <th>text</th>\n",
              "      <th>label</th>\n",
              "      <th>prediction</th>\n",
              "    </tr>\n",
              "  </thead>\n",
              "  <tbody>\n",
              "    <tr>\n",
              "      <th>21492</th>\n",
              "      <td>man is it great just to see young and the rest...</td>\n",
              "      <td>1</td>\n",
              "      <td>__label__positive</td>\n",
              "    </tr>\n",
              "    <tr>\n",
              "      <th>9488</th>\n",
              "      <td>seems like a pretty innocent choice at first t...</td>\n",
              "      <td>0</td>\n",
              "      <td>__label__negative</td>\n",
              "    </tr>\n",
              "    <tr>\n",
              "      <th>16933</th>\n",
              "      <td>i was into the movie right away ive seen the o...</td>\n",
              "      <td>1</td>\n",
              "      <td>__label__positive</td>\n",
              "    </tr>\n",
              "    <tr>\n",
              "      <th>12604</th>\n",
              "      <td>anyone who appreciates fine acting and ringing...</td>\n",
              "      <td>1</td>\n",
              "      <td>__label__positive</td>\n",
              "    </tr>\n",
              "    <tr>\n",
              "      <th>8222</th>\n",
              "      <td>high school female track star dies of a blood ...</td>\n",
              "      <td>0</td>\n",
              "      <td>__label__negative</td>\n",
              "    </tr>\n",
              "  </tbody>\n",
              "</table>\n",
              "</div>\n",
              "      <button class=\"colab-df-convert\" onclick=\"convertToInteractive('df-28b194ed-81a9-4d70-9a59-073ca1a0f8c6')\"\n",
              "              title=\"Convert this dataframe to an interactive table.\"\n",
              "              style=\"display:none;\">\n",
              "        \n",
              "  <svg xmlns=\"http://www.w3.org/2000/svg\" height=\"24px\"viewBox=\"0 0 24 24\"\n",
              "       width=\"24px\">\n",
              "    <path d=\"M0 0h24v24H0V0z\" fill=\"none\"/>\n",
              "    <path d=\"M18.56 5.44l.94 2.06.94-2.06 2.06-.94-2.06-.94-.94-2.06-.94 2.06-2.06.94zm-11 1L8.5 8.5l.94-2.06 2.06-.94-2.06-.94L8.5 2.5l-.94 2.06-2.06.94zm10 10l.94 2.06.94-2.06 2.06-.94-2.06-.94-.94-2.06-.94 2.06-2.06.94z\"/><path d=\"M17.41 7.96l-1.37-1.37c-.4-.4-.92-.59-1.43-.59-.52 0-1.04.2-1.43.59L10.3 9.45l-7.72 7.72c-.78.78-.78 2.05 0 2.83L4 21.41c.39.39.9.59 1.41.59.51 0 1.02-.2 1.41-.59l7.78-7.78 2.81-2.81c.8-.78.8-2.07 0-2.86zM5.41 20L4 18.59l7.72-7.72 1.47 1.35L5.41 20z\"/>\n",
              "  </svg>\n",
              "      </button>\n",
              "      \n",
              "  <style>\n",
              "    .colab-df-container {\n",
              "      display:flex;\n",
              "      flex-wrap:wrap;\n",
              "      gap: 12px;\n",
              "    }\n",
              "\n",
              "    .colab-df-convert {\n",
              "      background-color: #E8F0FE;\n",
              "      border: none;\n",
              "      border-radius: 50%;\n",
              "      cursor: pointer;\n",
              "      display: none;\n",
              "      fill: #1967D2;\n",
              "      height: 32px;\n",
              "      padding: 0 0 0 0;\n",
              "      width: 32px;\n",
              "    }\n",
              "\n",
              "    .colab-df-convert:hover {\n",
              "      background-color: #E2EBFA;\n",
              "      box-shadow: 0px 1px 2px rgba(60, 64, 67, 0.3), 0px 1px 3px 1px rgba(60, 64, 67, 0.15);\n",
              "      fill: #174EA6;\n",
              "    }\n",
              "\n",
              "    [theme=dark] .colab-df-convert {\n",
              "      background-color: #3B4455;\n",
              "      fill: #D2E3FC;\n",
              "    }\n",
              "\n",
              "    [theme=dark] .colab-df-convert:hover {\n",
              "      background-color: #434B5C;\n",
              "      box-shadow: 0px 1px 3px 1px rgba(0, 0, 0, 0.15);\n",
              "      filter: drop-shadow(0px 1px 2px rgba(0, 0, 0, 0.3));\n",
              "      fill: #FFFFFF;\n",
              "    }\n",
              "  </style>\n",
              "\n",
              "      <script>\n",
              "        const buttonEl =\n",
              "          document.querySelector('#df-28b194ed-81a9-4d70-9a59-073ca1a0f8c6 button.colab-df-convert');\n",
              "        buttonEl.style.display =\n",
              "          google.colab.kernel.accessAllowed ? 'block' : 'none';\n",
              "\n",
              "        async function convertToInteractive(key) {\n",
              "          const element = document.querySelector('#df-28b194ed-81a9-4d70-9a59-073ca1a0f8c6');\n",
              "          const dataTable =\n",
              "            await google.colab.kernel.invokeFunction('convertToInteractive',\n",
              "                                                     [key], {});\n",
              "          if (!dataTable) return;\n",
              "\n",
              "          const docLinkHtml = 'Like what you see? Visit the ' +\n",
              "            '<a target=\"_blank\" href=https://colab.research.google.com/notebooks/data_table.ipynb>data table notebook</a>'\n",
              "            + ' to learn more about interactive tables.';\n",
              "          element.innerHTML = '';\n",
              "          dataTable['output_type'] = 'display_data';\n",
              "          await google.colab.output.renderOutput(dataTable, element);\n",
              "          const docLink = document.createElement('div');\n",
              "          docLink.innerHTML = docLinkHtml;\n",
              "          element.appendChild(docLink);\n",
              "        }\n",
              "      </script>\n",
              "    </div>\n",
              "  </div>\n",
              "  "
            ]
          },
          "metadata": {},
          "execution_count": 83
        }
      ]
    },
    {
      "cell_type": "code",
      "source": [
        "dataframe_imdb_test['label'] = dataframe_imdb_test['label'].apply(lambda label: \"__label__{}\".format(\"positive\" if label == 1 else \"negative\"))"
      ],
      "metadata": {
        "id": "e0P3zRq3u9ML"
      },
      "execution_count": 84,
      "outputs": []
    },
    {
      "cell_type": "code",
      "source": [
        "dataframe_imdb_test.head()"
      ],
      "metadata": {
        "colab": {
          "base_uri": "https://localhost:8080/",
          "height": 201
        },
        "id": "4WSS-FQGvnDU",
        "outputId": "a1245beb-c4dc-4732-a8c2-ed885504cc0e"
      },
      "execution_count": 85,
      "outputs": [
        {
          "output_type": "execute_result",
          "data": {
            "text/plain": [
              "                                                    text              label  \\\n",
              "21492  man is it great just to see young and the rest...  __label__positive   \n",
              "9488   seems like a pretty innocent choice at first t...  __label__negative   \n",
              "16933  i was into the movie right away ive seen the o...  __label__positive   \n",
              "12604  anyone who appreciates fine acting and ringing...  __label__positive   \n",
              "8222   high school female track star dies of a blood ...  __label__negative   \n",
              "\n",
              "              prediction  \n",
              "21492  __label__positive  \n",
              "9488   __label__negative  \n",
              "16933  __label__positive  \n",
              "12604  __label__positive  \n",
              "8222   __label__negative  "
            ],
            "text/html": [
              "\n",
              "  <div id=\"df-f95fc750-3508-45da-9e88-509db19856ab\">\n",
              "    <div class=\"colab-df-container\">\n",
              "      <div>\n",
              "<style scoped>\n",
              "    .dataframe tbody tr th:only-of-type {\n",
              "        vertical-align: middle;\n",
              "    }\n",
              "\n",
              "    .dataframe tbody tr th {\n",
              "        vertical-align: top;\n",
              "    }\n",
              "\n",
              "    .dataframe thead th {\n",
              "        text-align: right;\n",
              "    }\n",
              "</style>\n",
              "<table border=\"1\" class=\"dataframe\">\n",
              "  <thead>\n",
              "    <tr style=\"text-align: right;\">\n",
              "      <th></th>\n",
              "      <th>text</th>\n",
              "      <th>label</th>\n",
              "      <th>prediction</th>\n",
              "    </tr>\n",
              "  </thead>\n",
              "  <tbody>\n",
              "    <tr>\n",
              "      <th>21492</th>\n",
              "      <td>man is it great just to see young and the rest...</td>\n",
              "      <td>__label__positive</td>\n",
              "      <td>__label__positive</td>\n",
              "    </tr>\n",
              "    <tr>\n",
              "      <th>9488</th>\n",
              "      <td>seems like a pretty innocent choice at first t...</td>\n",
              "      <td>__label__negative</td>\n",
              "      <td>__label__negative</td>\n",
              "    </tr>\n",
              "    <tr>\n",
              "      <th>16933</th>\n",
              "      <td>i was into the movie right away ive seen the o...</td>\n",
              "      <td>__label__positive</td>\n",
              "      <td>__label__positive</td>\n",
              "    </tr>\n",
              "    <tr>\n",
              "      <th>12604</th>\n",
              "      <td>anyone who appreciates fine acting and ringing...</td>\n",
              "      <td>__label__positive</td>\n",
              "      <td>__label__positive</td>\n",
              "    </tr>\n",
              "    <tr>\n",
              "      <th>8222</th>\n",
              "      <td>high school female track star dies of a blood ...</td>\n",
              "      <td>__label__negative</td>\n",
              "      <td>__label__negative</td>\n",
              "    </tr>\n",
              "  </tbody>\n",
              "</table>\n",
              "</div>\n",
              "      <button class=\"colab-df-convert\" onclick=\"convertToInteractive('df-f95fc750-3508-45da-9e88-509db19856ab')\"\n",
              "              title=\"Convert this dataframe to an interactive table.\"\n",
              "              style=\"display:none;\">\n",
              "        \n",
              "  <svg xmlns=\"http://www.w3.org/2000/svg\" height=\"24px\"viewBox=\"0 0 24 24\"\n",
              "       width=\"24px\">\n",
              "    <path d=\"M0 0h24v24H0V0z\" fill=\"none\"/>\n",
              "    <path d=\"M18.56 5.44l.94 2.06.94-2.06 2.06-.94-2.06-.94-.94-2.06-.94 2.06-2.06.94zm-11 1L8.5 8.5l.94-2.06 2.06-.94-2.06-.94L8.5 2.5l-.94 2.06-2.06.94zm10 10l.94 2.06.94-2.06 2.06-.94-2.06-.94-.94-2.06-.94 2.06-2.06.94z\"/><path d=\"M17.41 7.96l-1.37-1.37c-.4-.4-.92-.59-1.43-.59-.52 0-1.04.2-1.43.59L10.3 9.45l-7.72 7.72c-.78.78-.78 2.05 0 2.83L4 21.41c.39.39.9.59 1.41.59.51 0 1.02-.2 1.41-.59l7.78-7.78 2.81-2.81c.8-.78.8-2.07 0-2.86zM5.41 20L4 18.59l7.72-7.72 1.47 1.35L5.41 20z\"/>\n",
              "  </svg>\n",
              "      </button>\n",
              "      \n",
              "  <style>\n",
              "    .colab-df-container {\n",
              "      display:flex;\n",
              "      flex-wrap:wrap;\n",
              "      gap: 12px;\n",
              "    }\n",
              "\n",
              "    .colab-df-convert {\n",
              "      background-color: #E8F0FE;\n",
              "      border: none;\n",
              "      border-radius: 50%;\n",
              "      cursor: pointer;\n",
              "      display: none;\n",
              "      fill: #1967D2;\n",
              "      height: 32px;\n",
              "      padding: 0 0 0 0;\n",
              "      width: 32px;\n",
              "    }\n",
              "\n",
              "    .colab-df-convert:hover {\n",
              "      background-color: #E2EBFA;\n",
              "      box-shadow: 0px 1px 2px rgba(60, 64, 67, 0.3), 0px 1px 3px 1px rgba(60, 64, 67, 0.15);\n",
              "      fill: #174EA6;\n",
              "    }\n",
              "\n",
              "    [theme=dark] .colab-df-convert {\n",
              "      background-color: #3B4455;\n",
              "      fill: #D2E3FC;\n",
              "    }\n",
              "\n",
              "    [theme=dark] .colab-df-convert:hover {\n",
              "      background-color: #434B5C;\n",
              "      box-shadow: 0px 1px 3px 1px rgba(0, 0, 0, 0.15);\n",
              "      filter: drop-shadow(0px 1px 2px rgba(0, 0, 0, 0.3));\n",
              "      fill: #FFFFFF;\n",
              "    }\n",
              "  </style>\n",
              "\n",
              "      <script>\n",
              "        const buttonEl =\n",
              "          document.querySelector('#df-f95fc750-3508-45da-9e88-509db19856ab button.colab-df-convert');\n",
              "        buttonEl.style.display =\n",
              "          google.colab.kernel.accessAllowed ? 'block' : 'none';\n",
              "\n",
              "        async function convertToInteractive(key) {\n",
              "          const element = document.querySelector('#df-f95fc750-3508-45da-9e88-509db19856ab');\n",
              "          const dataTable =\n",
              "            await google.colab.kernel.invokeFunction('convertToInteractive',\n",
              "                                                     [key], {});\n",
              "          if (!dataTable) return;\n",
              "\n",
              "          const docLinkHtml = 'Like what you see? Visit the ' +\n",
              "            '<a target=\"_blank\" href=https://colab.research.google.com/notebooks/data_table.ipynb>data table notebook</a>'\n",
              "            + ' to learn more about interactive tables.';\n",
              "          element.innerHTML = '';\n",
              "          dataTable['output_type'] = 'display_data';\n",
              "          await google.colab.output.renderOutput(dataTable, element);\n",
              "          const docLink = document.createElement('div');\n",
              "          docLink.innerHTML = docLinkHtml;\n",
              "          element.appendChild(docLink);\n",
              "        }\n",
              "      </script>\n",
              "    </div>\n",
              "  </div>\n",
              "  "
            ]
          },
          "metadata": {},
          "execution_count": 85
        }
      ]
    },
    {
      "cell_type": "markdown",
      "source": [
        "#### Accuracy"
      ],
      "metadata": {
        "id": "ey3zNCF-vuA0"
      }
    },
    {
      "cell_type": "code",
      "source": [
        "fasttext_test_set_accuracy = compute_accuracy(dataframe_imdb_test, prediction_column=\"prediction\")\n",
        "print(f\"Test set accuracy: {fasttext_test_set_accuracy:.2%}\")"
      ],
      "metadata": {
        "colab": {
          "base_uri": "https://localhost:8080/"
        },
        "id": "Uu8W-L7DvxMr",
        "outputId": "ecf956c0-17cb-4c9f-ae98-9c8c35b3f0e7"
      },
      "execution_count": 86,
      "outputs": [
        {
          "output_type": "stream",
          "name": "stdout",
          "text": [
            "Test set accuracy: 87.67%\n"
          ]
        }
      ]
    },
    {
      "cell_type": "markdown",
      "source": [
        "### The hyperparameters search functionality of FastText "
      ],
      "metadata": {
        "id": "hEPAiqDPStD1"
      }
    },
    {
      "cell_type": "markdown",
      "source": [
        "#### Split training set into a training and a validation set"
      ],
      "metadata": {
        "id": "AKZwTYCFTBEJ"
      }
    },
    {
      "cell_type": "code",
      "source": [
        "from sklearn.model_selection import train_test_split"
      ],
      "metadata": {
        "id": "hOF0U5NXTJa2"
      },
      "execution_count": 87,
      "outputs": []
    },
    {
      "cell_type": "code",
      "source": [
        "train_data, validation_data = train_test_split(dataframe_imdb_train, test_size=0.33, shuffle=True, random_state=1)"
      ],
      "metadata": {
        "id": "X1SFaoIrquEK"
      },
      "execution_count": 88,
      "outputs": []
    },
    {
      "cell_type": "markdown",
      "source": [
        "#### Convert to a format compatible with Fastextde"
      ],
      "metadata": {
        "id": "BgNqe0MHUO2O"
      }
    },
    {
      "cell_type": "code",
      "source": [
        "file_name = \"reviews.train\"\n",
        "data_to_formating_text_file(train_data, file_name)\n",
        "!head $file_name"
      ],
      "metadata": {
        "colab": {
          "base_uri": "https://localhost:8080/"
        },
        "id": "Lb97fvcZUPjx",
        "outputId": "5389acf2-2241-44cf-b299-c593b9bab1f1"
      },
      "execution_count": 89,
      "outputs": [
        {
          "output_type": "stream",
          "name": "stdout",
          "text": [
            "__label__positive i enjoyed watching this well acted movie very muchit was well actedparticularly by actress helen hunt and actors steven weber and jeff faheyit was a very interesting moviefilled with drama and suspensefrom the beginning to the very endi reccomend that everyone take the time to watch this made for television movieit is excellent and has great acting\n",
            "__label__positive this movie is still an all time favorite only a pretentious humorless moron would not enjoy this wonderful film this movie feels like a slice of warm apple pie topped with french vanilla ice cream i think this is chers best work ever and her most believable performance cher has always been blessed with charisma good looks and an enviably thin figure whether you like her singing or not  who else sounds like cher cher has definitely made her mark in the entertainment industry and will be remembered long after others have come and gone she is one of the most unique artists out there its funny because who would have thought of cher as such a naturally gifted actress she is heads above the socalled movie stars of today cher is a real actor on the same level as debra winger alfre woodard holly hunter angela bassett and a few others in that she never seems to be acting she really becomes the character convincingly she has more than earned the respect of her peers and of the moviegoing publicbr br everything about moonstruck is wonderful  the characters the scenery the dialog the food i never get tired of watching this moviebr br every time single time i watch the scene where they are all sitting around the dinner table at roses house i pause the remote to see exactly what delicious food rose is serving i saw the spaghetti mushrooms i think but i cant make out whether they are eating ravioli ziti what is that main course it looks wonderful and its driving me nuts br br everybody in that family was a hardworking individual and they respected and cared about one another the grandfather wasnt pushed aside and tolerated he was a vital part of the family and he was listened to and respected for his age and wisdom he seemed to be a pretty healthy independent old codger toobr br lorettas mom wasnt just a housewife she was the glue that held the family together and was a model example of what a wife mother and home manager should aspire to be she was proud of the lifestyle she had chosen but she didnt let it define who she was high powered businessmen arent as comfortable in their skin as rose casterini was notice the saucy way she said i didnt have kids until after i was 37 it aint over til its over you got the sense that she had been the type of young woman who did exactly as she pleased and got her way without the other person realizing what had happened she was charming quick witted and very smart what a great mom br br i didnt actually like loretta right away because she seemed like a bit of a knowitall who wasnt really as adventurous and as in control of herself as she wanted others to think she could tell others about themselves and where they had gone wrong but she really didnt apply common sense to her own life she was going to marry a middleaged mamas boy simply because she wanted a husband and a sense of identity and purpose to her life she was more conventional than her own mom she dressed and wore her hair like a matron at a house of detention and seemed humorless and bored but underneath you sensed that she was vulnerable and lonely and had a lot of love to give the right man she would probably end up making an awesome mom toobr br i could see in the future a house full of loretta and ronnies loud screaming happy kids and rose and cosmo enjoying every minute of it\n",
            "__label__positive someone release this movie on dvd so it can take its hallowed place as on of the greatest films of all time in ten to twenty years when critics and film historians look back on the socalled films of the 1990s and see how vapid they were for the most part and how lars von trier tried to revolutionize and revitalize the international film world with this masterpiece as it stands zentropa or europa as it is referred to outside the us is one of the most fascinating and artistic views of the bleakness and almost psychotic uncertainty that oozed out of post wwii europe namely the decimated german landscape whose physical horrors were matched only by the damage to the psyche of its people von trier brilliantly paints his vision on screen you will feel like you are watching some lost espionage noir classic from the late 1940s with the perfectly lighted black and white scenes while at the same time feel you are on the brink of something beyond the cutting edge especially in scenes like the assassination aboard the train literally when you see this movie you are witnessing the evolution of an art form br br for some reason von trier got caught up in his own dogma movement shortly after this and while his breaking the waves and dancer in the dark are classics in their own right it is with zentropa that he truly lifted the art of film making to new and exciting heights 1010 ages like a fine wine and begs for a dvd release\n",
            "__label__negative i saw this at the edinburgh film festival it was awful every clichéd violent rich boy fantasy was on display you just knew how it was going to end especially with all the shots of the chefs wife and the rape of the first girlbr br the worst part was the qa with the directorwriter and writerproducer they tried to come across as intellectuals but you could tell theyre the types that get off on violence i bet anything they frequent brothels and do drugsbr br dont waste your time i had to keep my boyfriend from walking out of it\n",
            "__label__negative mary lou is a slut whose spirit seeks revenge on those who let her come to her fiery doom back in 1957br br well the movie mainly takes place in 1986 the movie falls into the 80s trap of weirdstupid special effects including some weird demented looking rocking horsebr br anyway mary lous spirit does bad things to people and tries to take over one persons body whether or not she succeeds youll have to watch to find outbr br anyway the movie is largely boring and based around a bunch of worthless characters this also isnt really a sequel the only thing in common with the first is the name of the high school it has the avg horror flick fall backs gore pointless nudity knocks against the catholic church basic stuff boring moviebr br the acting is decent enough to give it a 3 out of 10 you can waste your time doing something else\n",
            "__label__positive this film provides the saga of a legendary wild bill hickock he buffalo bill cody and calamity jane are the central charactersbr br as the civil war closes lincoln mentions his concern that the countrys dynamism would be enhanced if people would follow the advice go west young man which mercifully the film didnt erroneously attribute to horace greeley as a number of others did but then he gets assassinated and some financiers speculate that they can get rich selling weapons to the american indiansbr br in the meantime we see wild bill hickock who interacts with a small boy while a steamboat is loading at a dock along the mississippi wild bill uses a bowie knife which he eventually gives to the boy calling it an arkansas toothpick which in reality was a different type of knife though both were used throughout the frontierbr br hickock eventually meets buffalo bill cody who looks close to the photographs and paintings of the actual man cody has just gotten married and is bringing his bride to the old west to settle downbr br when they arrive at their destination they run into calamity jane who has a crush on hickock she looks at codys wife and asks buffalo bill is this your mopsy the line was one that caused the hayes board some problem since one definition of mopsy was prostitute demille wanted the line in and one of his aides pointed out that in beatrix potters books about peter rabbit three of the rabbits were flopsy mopsy and cottontail he pointed this out and asked the censors to identify the rabbit of ill virtue it worked the line stayed inbr br the indians were getting restless in part because of the superior weaponry they got from the agent of the eastern financiers cody and hickock were asked to help scout the area so that troops could get safely through to a beleaguered area cody led the troops hickock went to check out the activities of an indian chief who was an old acquaintance and who was leading some of the hostile indiansbr br calamity jane gets captured and hickock gets captured trying to save her they are brought to the chief and although neither would talk torture applied to hickock breaks calamity janes willpower and she tells the route cody is usingbr br the two are released and hickock joins up with cody and his forces in part to alert them theyre walking into a trap with hickoks help they hold off the indian attackbr br hickock decides to go after the gun runners and finally takes them prisoner as theyre waiting for authorities hickock is gunned down by being shot in the back while playing cardsbr br there are numerous historic anomalies in the film but it retains the flavor of legend pretty good for the 1930s\n",
            "__label__negative basing a television series on a popular authors works is no guarantee of success yorkshire television learnt this the hard way when in 1979 they bought the rights to the books credited to dick francis three of which were broadcast under the collective title the racing game mike gwilym was sid halley a former jockey turned private eye following an accident in which he lost his right hand only to have it replaced by an artificial one gwilym suffered from an acute lack of charisma  and looked like one of the bad guys  while mick ford  who played the irritating chico barnes  made me think of a horses arse whenever he was on screen for six weeks this lessthan dynamic duo charged about the countryside foiling nefarious plots to fix races usually by the same methods  blackmail kidnapping riders or doping horses yorkshire television threw money at the show but to no avail violent sexist farfetched and repetitious it was quickly carted off to the knackers yard\n",
            "__label__negative so they hyped the violence and its been branded as sick well the violence is the best bit im afraid but unfortunately the characters are not developed enough to allow us to understand why they go on their entirely predictable rampage this film has a truly dreadful script we never get a chance to get to know robert and his actions at the end are just plain pathetic the acting isnt much better either the worst of them being the tv chef and the school teacher the direction is clumsy the pace enough to send you to sleep and what on earth is the school film project all about a comment on the film itself perhaps the use of newsreel during the climactic murder is laughable these guys obviously think theyre intellectuals but are hopelessly out of their depth how on earth they got the great yorgos arvanitis to light it ill never know and how they got the money to make it in the first place is an even greater mystery absolutely awful beyond comprehension\n",
            "__label__positive i had an uncle who committed suicide after serving in vietnam because of mental problems he experienced after coming back so when i saw part of this movie one night on a payforview channel i was intrigued i wanted to know what my uncle went through and felt as he got ready for vietnam i went out and rented this movie and i have to say it is the most heartwrenching film i have ever seen i bought the dvd immediately after renting it the way it pulls you in so many different directions emotionally is something ive never experienced with any other film as far as vietnam subject films go i think it is the best one although platoon runs a close second besides all of that i think it is also colin farrells best performance as an actor i like him in most of his movies but in this one he was incredible i gave this a 10 rating because it is one of my top five favorite movies\n",
            "__label__positive why do people bitch about this movie and not about awful movies like the godfather titanic is the greatest movie of the 21st centurywith great actingdirectingeffectsmusic and generally everything this movie is always dumped by all because one day some one said they didnt like it any more so most of the world decided to agree there is nothing wrong with this movie all i can say is that this movie not only being the most heavily oscar awarded movie of all time the most money ever made ever and sadly one of the most underrated movies ive ever seen apart from that it is truly the best movie of all time the only movies that come close to being like all the star wars and the lord of the rings trilogy or anything by the masters hitchcock or spielberg or tim burton these are all good movies and directors but none match up to james camerons masterpiece titanic\n"
          ]
        }
      ]
    },
    {
      "cell_type": "code",
      "source": [
        "file_name = \"reviews.valid\"\n",
        "data_to_formating_text_file(validation_data, file_name)\n",
        "!head $file_name"
      ],
      "metadata": {
        "colab": {
          "base_uri": "https://localhost:8080/"
        },
        "id": "823B53fIUopl",
        "outputId": "40737d4b-ff01-444f-e009-0a979980b4df"
      },
      "execution_count": 90,
      "outputs": [
        {
          "output_type": "stream",
          "name": "stdout",
          "text": [
            "__label__negative i saw this movie at the toronto film festival with fairly solid expectations the movie has a great cast and was closing at the festival so it must be good right how wrong i was br br i knew we were in trouble when before the film the director was talking about how when he was directing an episode of wiseguy he met an unknown actor named kevin spacey a directorwriter of wiseguy making his feature debut  blah well the directorwriter of edison must have some incriminating pictures of kevin spacey killing a homeless man because i cannot see how he along with the other actors in the film would ever agree to be in this disaster br br this movie is absolutely appalling its a mixture of every cop hard boiled cliché ever there is nothing new with edison the acting was bad and the direction was even worse it looked like that aforementioned episode of wiseguy this was the best casted direct to video movie ive ever seen br br some examples of just bad silly moments in edison morgan freeman dancing around his apartment for no reason to rock and roll music justin timberlake getting creative criticism from his belle while his apartment is surrounded by candles llcoolj driving a vintage firebird 3 guys being shot in the headbr br this movie is the opposite of goodbr br stay away from edison\n",
            "__label__negative after having seen the movie the first question arising in my mind was is this supposed to be irony or not after reading a few comments about the character doc savage and the comic series i knew this film was not meant to be ironic so the story tells us about an usamerican superdoc saving a south american republic from evil sounds like a typical story but this one comes in such an unrealistic way that it becomes ridiculous the mandatory endfight shows the worst presentation of martial arts i have ever seen the film might be interesting for low budget movie designers as a bad example\n",
            "__label__positive maléfique is an example of how a horror film can be effective with nothing more than a wellexecuted plot and a lot of heart its cast doesnt have recognized names it doesnt have a big budget and it certainly lacks in the visual effects aspect but it compensates all that with an intelligent and wellwritten script an effective cast and the vision of a director focused more on telling the story than in delivering cheap thrills eric valette may not be a wellknow name yet but with maléfique his feature length debut he proves he is at the level of contemporaries like jeunet gans or ajabr br the film is the story of four prisoners in a cell four different men with very different backgrounds but with one single goal to get out carrère gérald laroche gets imprisoned after being declared guilty of a multimillionaire fraud his cellmates the violent marcus clovis cornillac the intellectual lassalle philippe laudenbach and the mentally challenged pâquerette dimitri rataud are all convicted for murder and give carrère a cold welcome their personalities will clash as carrère discovers an ancient book detailing how a former prisoner escaped using black magicbr br written by alexandre charlo and franck magnier maléfique is a great mix of dark fantasy and horror in a way very reminiscent of clive barkers stories the movies strongest point is the way it builds up the characters they are all have very complex and different personalities and a lot of the tension and suspense comes from their constant clash of personalities the storys supernatural element is very wellhandled and overall gives the film the feeling of reading a gothic novel despite being a movie about four men locked in a room the movie never gets boring or tiresome and in fact the isolation of the group increases the feeling of distrust claustrophobia and specially paranoiabr br director eric valette makes a great use of atmosphere mood and his cast to give life to the plot despite its obvious lack of budget he has crafted a brilliant film that feels original fresh and very attractive his subtle and effective camerawork helps to make the film dynamic despite its single location and the slow pace the film unfolds is excellent to create the heavy atmosphere of isolation and distrust the movie bases its plot the very few displays of special effects are very welldone and valette trades quantity for quality in the few but terrific scenes of gorebr br the characters are what make this film work and the cast definitely deserves some of the credit gérald laroche is excellent as carrère a man at first sight innocent but who hides a dark past philippe laudenbach and dimitri rataud are very effective too specially rataud in his very demanding role however is clovis cornillac who steal the show with his performance as marcus a violent and disturbed man who deep inside only wants to be himself the characters are superbly developed and the cast makes the most of thembr br the movie is terrific but it is not without its share of flaws of course the most notorious one is its the lowbudget some of the cgieffects are a bit poor compared to the effective makeup and prosthetics used in other scenes however it is never too bad for it probably the bad thing about maléfique is that it seems to lose some steam by the end when it focuses on the supernatural black magic rather than in the characters not too much of a bad thing but the ending may seem weak from that point of viewbr br anyways maléfique is another one of those great horror films coming out from france lately and one that deserves to have more recognition valette is definitely a talent to follow as this modest albeit complex tale of the supernatural is prove enough of his abilities personally this film is a new favorite 810\n",
            "__label__positive i saw this movie when mystery science theater ran it in 1993 it is the worst thing ive ever seen so bad in fact that by sheer freakiness this movie must get a ten rating because it has to be seen to be believed br br whoever wrote this script with children in mind should be beaten i mean really the devil vs santa visions of hell creepy laughing windup reindeer forced child labor with racial stereotypes it aint sesame street thats for sureas crow exclaims during the mst3k showing this is good ol fashioned nightmare fuel br br theres plenty of weird innuendo and screwed up theology merlin presumably the arthurian merlin hangs out with santa in his crazy castle in the clouds ie heaven santa talks about baby jesus and sends letters to mr stork for children who ask for siblings there are symbols around the castle that either look like pentagrams or raf stars br br my best friend and i have watch it every year since 1993 and we subject anybody we can hold down for 2 hours to watch it with us\n",
            "__label__negative  and i have seen some bad onesbr br i have nothing good to say about this movie the acting is poor by jennifer tilly  as to be expected daryl hannah does an ok job but nothing close to being able to save this moviebr br the biggest flaw in this film is that the plot is so weak  though based on a good premise  that the writer resorted to the stupid heroine trick to create a contrived suspense when all daryl hannah would have to do is hide she runs out in front of her pursuer the hospital scene is absurd without exposing too much of what passes for a plot i think it would be difficult for a bloody petite woman to carry a pregnant from a hospital without being noticed lame very lamebr br save yourself some time and pick out another flick\n",
            "__label__negative the comeback starts off looking promising with a brutal death scene by a mask wearing killer the mask itself is pretty cool too and looks almost identical to the one used in the 1990s slasher film granny from then on the film is mostly boring we get a few more deaths which again are good but theres not enough of them the reason the deaths are so good is because they are frenzied and bloody the story behind the film is actually rather interesting and would have worked very well had it not been so boring for the most part br br i would avoid this unless youre a diehard collector  theres not enough here to even make it an average slasher flick\n",
            "__label__positive anton newcombe makes the film and he is the main subject watching him knock up a song if not a whole album quickly showed the guy to be a real talent he thinks he is god but is so prollific and interesting the dw are not really that interesting in comparison musicly or otherwise hey do you haver a drivers license anton says to the cameraman well lets go pawn this guitar great use of archive home video material great to see rock docs still being made a cool doc about the creative process if you like this go see nirvana live tonight sold out on dvd a good experience anton is this film 8 out of 10\n",
            "__label__positive too many sources routinely lump this thoughtprovoking period drama in part based on historical fact together with the superficially similar nunsploitation which was a mainstay in 70s euro trash cinema overlooking the righteous anger that drives the whole endeavor perhaps coincidentally it was also director gianfranco mingozzis singular attempt at narrative filmmaking outside of many wellreceived documentariesbr br safely set within a historical context flavia charts the growing rebellion of an early 15th century italian nun florinda bolkans career performance even surpassing her sterling work in lucio fulcis devastating dont torture a duckling locked away in convent by her not so nobleman father in a desperate attempt to curb the girls budding sensuous nature wondering why women are relegated to secondary roles at best in life as in holy scripture she is confronted by ways in which male domination can rupture female lives inspiring revolt fueled by the ranting of semicrazed older sister agatha indelibly portrayed by veteran actress maria casarès from marcel carnés les enfants du paradis and  more constructively  by a muslim invasion joining the oppressors and perhaps unwittingly manipulating them to do her bidding flavia truly becomes the outcast she already felt herself to be with expected tragic resultsbr br with its breathtaking widescreen compositions by alfio contini who shot michelangelo antonionis zabriskie point this is an uncompromising and austere account of one womans fierce yet ultimately futile fight against patriarchal society which allotted her no rights beyond childbearing or whoring as sister agatha wryly remarks a lengthy druginduced fantasy sequence clearly modeled on ken russells otherwise far more flamboyant devils notwithstanding the movie turns out relatively stingy in the skin department making something of a mockery out of its semiporn reputation this is a serious work deserving rediscovery and restoration of its unjustly tarnished reputation\n",
            "__label__positive in the areas where they overlap this fine movie is light years ahead of 2004s innocence which gave the impression of a rheumy eye and heavy breathing ogling young girls here the effect is much more realistic and really gets inside the heads of the three protagonists as they fumble their way through an adolescence riddled with pitfalls the three principals all unknown to me give very surefooted performances the kind in fact that may be so natural that it will be difficult for them to replicate this quality of acting in other films so i wouldnt be too surprised if they are not heard from again it would be nice if this could get away from the art houses and into the multiplexes where theres just an outside chance it might speak to the bubblegum crowd it isnt aimed at\n",
            "__label__positive over her dead body was a nice little movieit was decent and entertaining while still being pretty funnythere were a few clichés but i found most stuff freshat first i didnt think it was going to be good at allwhen it started outif you can get past the first 20 minutes thoughthe movie starts getting more interestingthis film wasnt burst out in laughter hilariousand wasnt oh my gosh wonderfulit was just a movie that you can sit down and enjoy for how enjoyable it wasi dont see how this movie was badits rating is just a bit too lowi couldve dealt with a 55but a 48alsogiving this movie a 1 is disgracefulit was pretty goodand there was nothing horrible enough about it to give it a 1which is what most people gave it\n"
          ]
        }
      ]
    },
    {
      "cell_type": "markdown",
      "source": [
        "#### Activate hyperparameter optimization"
      ],
      "metadata": {
        "id": "57WCiMsfhfuf"
      }
    },
    {
      "cell_type": "code",
      "source": [
        "model_hyper = fasttext.train_supervised(input='reviews.train', autotuneValidationFile='reviews.valid')"
      ],
      "metadata": {
        "id": "AsGb46yuhgLF"
      },
      "execution_count": 91,
      "outputs": []
    },
    {
      "cell_type": "code",
      "source": [
        "model.test(\"reviews.valid\")"
      ],
      "metadata": {
        "colab": {
          "base_uri": "https://localhost:8080/"
        },
        "id": "ekR3dor8iYcV",
        "outputId": "93e68636-9e7f-4394-8dd7-1ebf78aa8a21"
      },
      "execution_count": 92,
      "outputs": [
        {
          "output_type": "execute_result",
          "data": {
            "text/plain": [
              "(8250, 0.904969696969697, 0.904969696969697)"
            ]
          },
          "metadata": {},
          "execution_count": 92
        }
      ]
    },
    {
      "cell_type": "markdown",
      "source": [
        "#### Test of the model with hyperparameter"
      ],
      "metadata": {
        "id": "bmm_79ONiiqm"
      }
    },
    {
      "cell_type": "code",
      "source": [
        "dataframe_imdb_test['hyper_prediction'] = dataframe_imdb_test.apply(lambda row: model_hyper.predict(row['text'])[0][0], axis=1)"
      ],
      "metadata": {
        "id": "u5dgu4sjj1Ld"
      },
      "execution_count": 93,
      "outputs": []
    },
    {
      "cell_type": "code",
      "source": [
        "dataframe_imdb_test.head()"
      ],
      "metadata": {
        "colab": {
          "base_uri": "https://localhost:8080/",
          "height": 201
        },
        "id": "pY3NSeP4kJXU",
        "outputId": "50aaa1b8-1c85-4386-daf1-65bbd432382d"
      },
      "execution_count": 94,
      "outputs": [
        {
          "output_type": "execute_result",
          "data": {
            "text/plain": [
              "                                                    text              label  \\\n",
              "21492  man is it great just to see young and the rest...  __label__positive   \n",
              "9488   seems like a pretty innocent choice at first t...  __label__negative   \n",
              "16933  i was into the movie right away ive seen the o...  __label__positive   \n",
              "12604  anyone who appreciates fine acting and ringing...  __label__positive   \n",
              "8222   high school female track star dies of a blood ...  __label__negative   \n",
              "\n",
              "              prediction   hyper_prediction  \n",
              "21492  __label__positive  __label__positive  \n",
              "9488   __label__negative  __label__negative  \n",
              "16933  __label__positive  __label__positive  \n",
              "12604  __label__positive  __label__positive  \n",
              "8222   __label__negative  __label__negative  "
            ],
            "text/html": [
              "\n",
              "  <div id=\"df-ed66640e-05ab-4fe1-8887-87a7f7b6c310\">\n",
              "    <div class=\"colab-df-container\">\n",
              "      <div>\n",
              "<style scoped>\n",
              "    .dataframe tbody tr th:only-of-type {\n",
              "        vertical-align: middle;\n",
              "    }\n",
              "\n",
              "    .dataframe tbody tr th {\n",
              "        vertical-align: top;\n",
              "    }\n",
              "\n",
              "    .dataframe thead th {\n",
              "        text-align: right;\n",
              "    }\n",
              "</style>\n",
              "<table border=\"1\" class=\"dataframe\">\n",
              "  <thead>\n",
              "    <tr style=\"text-align: right;\">\n",
              "      <th></th>\n",
              "      <th>text</th>\n",
              "      <th>label</th>\n",
              "      <th>prediction</th>\n",
              "      <th>hyper_prediction</th>\n",
              "    </tr>\n",
              "  </thead>\n",
              "  <tbody>\n",
              "    <tr>\n",
              "      <th>21492</th>\n",
              "      <td>man is it great just to see young and the rest...</td>\n",
              "      <td>__label__positive</td>\n",
              "      <td>__label__positive</td>\n",
              "      <td>__label__positive</td>\n",
              "    </tr>\n",
              "    <tr>\n",
              "      <th>9488</th>\n",
              "      <td>seems like a pretty innocent choice at first t...</td>\n",
              "      <td>__label__negative</td>\n",
              "      <td>__label__negative</td>\n",
              "      <td>__label__negative</td>\n",
              "    </tr>\n",
              "    <tr>\n",
              "      <th>16933</th>\n",
              "      <td>i was into the movie right away ive seen the o...</td>\n",
              "      <td>__label__positive</td>\n",
              "      <td>__label__positive</td>\n",
              "      <td>__label__positive</td>\n",
              "    </tr>\n",
              "    <tr>\n",
              "      <th>12604</th>\n",
              "      <td>anyone who appreciates fine acting and ringing...</td>\n",
              "      <td>__label__positive</td>\n",
              "      <td>__label__positive</td>\n",
              "      <td>__label__positive</td>\n",
              "    </tr>\n",
              "    <tr>\n",
              "      <th>8222</th>\n",
              "      <td>high school female track star dies of a blood ...</td>\n",
              "      <td>__label__negative</td>\n",
              "      <td>__label__negative</td>\n",
              "      <td>__label__negative</td>\n",
              "    </tr>\n",
              "  </tbody>\n",
              "</table>\n",
              "</div>\n",
              "      <button class=\"colab-df-convert\" onclick=\"convertToInteractive('df-ed66640e-05ab-4fe1-8887-87a7f7b6c310')\"\n",
              "              title=\"Convert this dataframe to an interactive table.\"\n",
              "              style=\"display:none;\">\n",
              "        \n",
              "  <svg xmlns=\"http://www.w3.org/2000/svg\" height=\"24px\"viewBox=\"0 0 24 24\"\n",
              "       width=\"24px\">\n",
              "    <path d=\"M0 0h24v24H0V0z\" fill=\"none\"/>\n",
              "    <path d=\"M18.56 5.44l.94 2.06.94-2.06 2.06-.94-2.06-.94-.94-2.06-.94 2.06-2.06.94zm-11 1L8.5 8.5l.94-2.06 2.06-.94-2.06-.94L8.5 2.5l-.94 2.06-2.06.94zm10 10l.94 2.06.94-2.06 2.06-.94-2.06-.94-.94-2.06-.94 2.06-2.06.94z\"/><path d=\"M17.41 7.96l-1.37-1.37c-.4-.4-.92-.59-1.43-.59-.52 0-1.04.2-1.43.59L10.3 9.45l-7.72 7.72c-.78.78-.78 2.05 0 2.83L4 21.41c.39.39.9.59 1.41.59.51 0 1.02-.2 1.41-.59l7.78-7.78 2.81-2.81c.8-.78.8-2.07 0-2.86zM5.41 20L4 18.59l7.72-7.72 1.47 1.35L5.41 20z\"/>\n",
              "  </svg>\n",
              "      </button>\n",
              "      \n",
              "  <style>\n",
              "    .colab-df-container {\n",
              "      display:flex;\n",
              "      flex-wrap:wrap;\n",
              "      gap: 12px;\n",
              "    }\n",
              "\n",
              "    .colab-df-convert {\n",
              "      background-color: #E8F0FE;\n",
              "      border: none;\n",
              "      border-radius: 50%;\n",
              "      cursor: pointer;\n",
              "      display: none;\n",
              "      fill: #1967D2;\n",
              "      height: 32px;\n",
              "      padding: 0 0 0 0;\n",
              "      width: 32px;\n",
              "    }\n",
              "\n",
              "    .colab-df-convert:hover {\n",
              "      background-color: #E2EBFA;\n",
              "      box-shadow: 0px 1px 2px rgba(60, 64, 67, 0.3), 0px 1px 3px 1px rgba(60, 64, 67, 0.15);\n",
              "      fill: #174EA6;\n",
              "    }\n",
              "\n",
              "    [theme=dark] .colab-df-convert {\n",
              "      background-color: #3B4455;\n",
              "      fill: #D2E3FC;\n",
              "    }\n",
              "\n",
              "    [theme=dark] .colab-df-convert:hover {\n",
              "      background-color: #434B5C;\n",
              "      box-shadow: 0px 1px 3px 1px rgba(0, 0, 0, 0.15);\n",
              "      filter: drop-shadow(0px 1px 2px rgba(0, 0, 0, 0.3));\n",
              "      fill: #FFFFFF;\n",
              "    }\n",
              "  </style>\n",
              "\n",
              "      <script>\n",
              "        const buttonEl =\n",
              "          document.querySelector('#df-ed66640e-05ab-4fe1-8887-87a7f7b6c310 button.colab-df-convert');\n",
              "        buttonEl.style.display =\n",
              "          google.colab.kernel.accessAllowed ? 'block' : 'none';\n",
              "\n",
              "        async function convertToInteractive(key) {\n",
              "          const element = document.querySelector('#df-ed66640e-05ab-4fe1-8887-87a7f7b6c310');\n",
              "          const dataTable =\n",
              "            await google.colab.kernel.invokeFunction('convertToInteractive',\n",
              "                                                     [key], {});\n",
              "          if (!dataTable) return;\n",
              "\n",
              "          const docLinkHtml = 'Like what you see? Visit the ' +\n",
              "            '<a target=\"_blank\" href=https://colab.research.google.com/notebooks/data_table.ipynb>data table notebook</a>'\n",
              "            + ' to learn more about interactive tables.';\n",
              "          element.innerHTML = '';\n",
              "          dataTable['output_type'] = 'display_data';\n",
              "          await google.colab.output.renderOutput(dataTable, element);\n",
              "          const docLink = document.createElement('div');\n",
              "          docLink.innerHTML = docLinkHtml;\n",
              "          element.appendChild(docLink);\n",
              "        }\n",
              "      </script>\n",
              "    </div>\n",
              "  </div>\n",
              "  "
            ]
          },
          "metadata": {},
          "execution_count": 94
        }
      ]
    },
    {
      "cell_type": "markdown",
      "source": [
        "##### Accuracy"
      ],
      "metadata": {
        "id": "3Cgo97LmkTD1"
      }
    },
    {
      "cell_type": "code",
      "source": [
        "fasttext_test_set_accuracy = compute_accuracy(dataframe_imdb_test, prediction_column=\"hyper_prediction\")\n",
        "print(f\"Test set accuracy: {fasttext_test_set_accuracy:.2%}\")"
      ],
      "metadata": {
        "colab": {
          "base_uri": "https://localhost:8080/"
        },
        "id": "gN9zWtu2kQM0",
        "outputId": "4920d2e3-7a96-46f8-e9ec-811be81c2204"
      },
      "execution_count": 95,
      "outputs": [
        {
          "output_type": "stream",
          "name": "stdout",
          "text": [
            "Test set accuracy: 89.08%\n"
          ]
        }
      ]
    },
    {
      "cell_type": "markdown",
      "source": [
        "### Question 3.4: Look at their attributes. How do the two models differ?"
      ],
      "metadata": {
        "id": "9la8-MUvyaBY"
      }
    },
    {
      "cell_type": "markdown",
      "source": [
        "By adding `-autotune-validation` argument FastText active the hyperparameter optimization (autotune).\n"
      ],
      "metadata": {
        "id": "oFOVt3-Sy0MY"
      }
    },
    {
      "cell_type": "markdown",
      "source": [
        "### Take 2 wrongly classified example from the test set using the tuned model."
      ],
      "metadata": {
        "id": "lsNw8rbNzdau"
      }
    },
    {
      "cell_type": "code",
      "source": [
        "wrong_dataframe_imdb_test = dataframe_imdb_test[dataframe_imdb_test.label != dataframe_imdb_test.hyper_prediction]"
      ],
      "metadata": {
        "id": "nXHGB3FQzykY"
      },
      "execution_count": 96,
      "outputs": []
    },
    {
      "cell_type": "code",
      "source": [
        "two_wrongly_tunned_model = wrong_dataframe_imdb_test.sample(2, random_state=3)\n",
        "two_wrongly_tunned_model"
      ],
      "metadata": {
        "colab": {
          "base_uri": "https://localhost:8080/",
          "height": 109
        },
        "id": "rcbf-oZkz6qj",
        "outputId": "1e873b49-bee9-4ce4-dbc9-536cc9a9546d"
      },
      "execution_count": 97,
      "outputs": [
        {
          "output_type": "execute_result",
          "data": {
            "text/plain": [
              "                                                    text              label  \\\n",
              "21350  this film had a distinct woody allen feel abou...  __label__positive   \n",
              "12038  this film did not excite me while on vacation ...  __label__negative   \n",
              "\n",
              "              prediction   hyper_prediction  \n",
              "21350  __label__positive  __label__negative  \n",
              "12038  __label__negative  __label__positive  "
            ],
            "text/html": [
              "\n",
              "  <div id=\"df-cf0ab039-58e2-4ba4-b5b2-c97cf2e5ff82\">\n",
              "    <div class=\"colab-df-container\">\n",
              "      <div>\n",
              "<style scoped>\n",
              "    .dataframe tbody tr th:only-of-type {\n",
              "        vertical-align: middle;\n",
              "    }\n",
              "\n",
              "    .dataframe tbody tr th {\n",
              "        vertical-align: top;\n",
              "    }\n",
              "\n",
              "    .dataframe thead th {\n",
              "        text-align: right;\n",
              "    }\n",
              "</style>\n",
              "<table border=\"1\" class=\"dataframe\">\n",
              "  <thead>\n",
              "    <tr style=\"text-align: right;\">\n",
              "      <th></th>\n",
              "      <th>text</th>\n",
              "      <th>label</th>\n",
              "      <th>prediction</th>\n",
              "      <th>hyper_prediction</th>\n",
              "    </tr>\n",
              "  </thead>\n",
              "  <tbody>\n",
              "    <tr>\n",
              "      <th>21350</th>\n",
              "      <td>this film had a distinct woody allen feel abou...</td>\n",
              "      <td>__label__positive</td>\n",
              "      <td>__label__positive</td>\n",
              "      <td>__label__negative</td>\n",
              "    </tr>\n",
              "    <tr>\n",
              "      <th>12038</th>\n",
              "      <td>this film did not excite me while on vacation ...</td>\n",
              "      <td>__label__negative</td>\n",
              "      <td>__label__negative</td>\n",
              "      <td>__label__positive</td>\n",
              "    </tr>\n",
              "  </tbody>\n",
              "</table>\n",
              "</div>\n",
              "      <button class=\"colab-df-convert\" onclick=\"convertToInteractive('df-cf0ab039-58e2-4ba4-b5b2-c97cf2e5ff82')\"\n",
              "              title=\"Convert this dataframe to an interactive table.\"\n",
              "              style=\"display:none;\">\n",
              "        \n",
              "  <svg xmlns=\"http://www.w3.org/2000/svg\" height=\"24px\"viewBox=\"0 0 24 24\"\n",
              "       width=\"24px\">\n",
              "    <path d=\"M0 0h24v24H0V0z\" fill=\"none\"/>\n",
              "    <path d=\"M18.56 5.44l.94 2.06.94-2.06 2.06-.94-2.06-.94-.94-2.06-.94 2.06-2.06.94zm-11 1L8.5 8.5l.94-2.06 2.06-.94-2.06-.94L8.5 2.5l-.94 2.06-2.06.94zm10 10l.94 2.06.94-2.06 2.06-.94-2.06-.94-.94-2.06-.94 2.06-2.06.94z\"/><path d=\"M17.41 7.96l-1.37-1.37c-.4-.4-.92-.59-1.43-.59-.52 0-1.04.2-1.43.59L10.3 9.45l-7.72 7.72c-.78.78-.78 2.05 0 2.83L4 21.41c.39.39.9.59 1.41.59.51 0 1.02-.2 1.41-.59l7.78-7.78 2.81-2.81c.8-.78.8-2.07 0-2.86zM5.41 20L4 18.59l7.72-7.72 1.47 1.35L5.41 20z\"/>\n",
              "  </svg>\n",
              "      </button>\n",
              "      \n",
              "  <style>\n",
              "    .colab-df-container {\n",
              "      display:flex;\n",
              "      flex-wrap:wrap;\n",
              "      gap: 12px;\n",
              "    }\n",
              "\n",
              "    .colab-df-convert {\n",
              "      background-color: #E8F0FE;\n",
              "      border: none;\n",
              "      border-radius: 50%;\n",
              "      cursor: pointer;\n",
              "      display: none;\n",
              "      fill: #1967D2;\n",
              "      height: 32px;\n",
              "      padding: 0 0 0 0;\n",
              "      width: 32px;\n",
              "    }\n",
              "\n",
              "    .colab-df-convert:hover {\n",
              "      background-color: #E2EBFA;\n",
              "      box-shadow: 0px 1px 2px rgba(60, 64, 67, 0.3), 0px 1px 3px 1px rgba(60, 64, 67, 0.15);\n",
              "      fill: #174EA6;\n",
              "    }\n",
              "\n",
              "    [theme=dark] .colab-df-convert {\n",
              "      background-color: #3B4455;\n",
              "      fill: #D2E3FC;\n",
              "    }\n",
              "\n",
              "    [theme=dark] .colab-df-convert:hover {\n",
              "      background-color: #434B5C;\n",
              "      box-shadow: 0px 1px 3px 1px rgba(0, 0, 0, 0.15);\n",
              "      filter: drop-shadow(0px 1px 2px rgba(0, 0, 0, 0.3));\n",
              "      fill: #FFFFFF;\n",
              "    }\n",
              "  </style>\n",
              "\n",
              "      <script>\n",
              "        const buttonEl =\n",
              "          document.querySelector('#df-cf0ab039-58e2-4ba4-b5b2-c97cf2e5ff82 button.colab-df-convert');\n",
              "        buttonEl.style.display =\n",
              "          google.colab.kernel.accessAllowed ? 'block' : 'none';\n",
              "\n",
              "        async function convertToInteractive(key) {\n",
              "          const element = document.querySelector('#df-cf0ab039-58e2-4ba4-b5b2-c97cf2e5ff82');\n",
              "          const dataTable =\n",
              "            await google.colab.kernel.invokeFunction('convertToInteractive',\n",
              "                                                     [key], {});\n",
              "          if (!dataTable) return;\n",
              "\n",
              "          const docLinkHtml = 'Like what you see? Visit the ' +\n",
              "            '<a target=\"_blank\" href=https://colab.research.google.com/notebooks/data_table.ipynb>data table notebook</a>'\n",
              "            + ' to learn more about interactive tables.';\n",
              "          element.innerHTML = '';\n",
              "          dataTable['output_type'] = 'display_data';\n",
              "          await google.colab.output.renderOutput(dataTable, element);\n",
              "          const docLink = document.createElement('div');\n",
              "          docLink.innerHTML = docLinkHtml;\n",
              "          element.appendChild(docLink);\n",
              "        }\n",
              "      </script>\n",
              "    </div>\n",
              "  </div>\n",
              "  "
            ]
          },
          "metadata": {},
          "execution_count": 97
        }
      ]
    },
    {
      "cell_type": "code",
      "source": [
        "two_wrongly_tunned_model.iloc[0]['text']"
      ],
      "metadata": {
        "colab": {
          "base_uri": "https://localhost:8080/",
          "height": 67
        },
        "id": "pkR2zinsz7U9",
        "outputId": "4d5d1fed-7c59-4d64-cdcd-2cbdce3e8f0e"
      },
      "execution_count": 98,
      "outputs": [
        {
          "output_type": "execute_result",
          "data": {
            "text/plain": [
              "'this film had a distinct woody allen feel about it so if youre not a fan of dry humor dark humor or backhanded humor you probably could find something else to do if you are however this is quirky with some nice twists and a flowing natural dialogbr br the story itself is quite engaging not quite like a train wreck from which you cannot disengage your eyes but close i mean that in the best way possible the intrigues are plenty the twists are enough to fully engage the senses and the characters are downright lovablebr br i had a great time with this moviebr br it rates an 8310 frombr br the fiend '"
            ],
            "application/vnd.google.colaboratory.intrinsic+json": {
              "type": "string"
            }
          },
          "metadata": {},
          "execution_count": 98
        }
      ]
    },
    {
      "cell_type": "code",
      "source": [
        "two_wrongly_tunned_model.iloc[1]['text']"
      ],
      "metadata": {
        "colab": {
          "base_uri": "https://localhost:8080/",
          "height": 83
        },
        "id": "Ks32fS-kz7Ln",
        "outputId": "f5c1c80d-8b36-4ac5-bff8-a1bd5ad1138d"
      },
      "execution_count": 99,
      "outputs": [
        {
          "output_type": "execute_result",
          "data": {
            "text/plain": [
              "'this film did not excite me while on vacation in turkey i noticed that it was playing at the local cinema and decided to take the chance to go see it the action sequences in the film are well choreographed however the story drags during the middle of the filmbr br one thing that i did not quite follow is how borte was able to get the money to bribe the guardsbr br the other thing that i did not particularly like was the missing segment of khans life it did not go into detail as to how the bad guys were able to find him and reimprison him after he had gone missing for so long br br overall i rate this movie a 4 because i enjoyed the action sequences but they were too few to justify a higher rating as the dialog left me less than impressed'"
            ],
            "application/vnd.google.colaboratory.intrinsic+json": {
              "type": "string"
            }
          },
          "metadata": {},
          "execution_count": 99
        }
      ]
    },
    {
      "cell_type": "markdown",
      "source": [
        "### Question 3.6: Why is it likely that the attributes `minn` and `maxn` are at 0 after an hyperparameter search on our data?"
      ],
      "metadata": {
        "id": "mtwdAG481qqQ"
      }
    },
    {
      "cell_type": "markdown",
      "source": [
        ""
      ],
      "metadata": {
        "id": "zjK5iMcq1wFF"
      }
    },
    {
      "cell_type": "markdown",
      "source": [
        "## Theoritical questions"
      ],
      "metadata": {
        "id": "hbQYcHKg2WX-"
      }
    },
    {
      "cell_type": "code",
      "source": [
        ""
      ],
      "metadata": {
        "id": "nH4E8zB2z69f"
      },
      "execution_count": null,
      "outputs": []
    }
  ]
}