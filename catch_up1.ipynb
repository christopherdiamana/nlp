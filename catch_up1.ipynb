{
  "nbformat": 4,
  "nbformat_minor": 0,
  "metadata": {
    "colab": {
      "name": "catch-up1.ipynb",
      "provenance": [],
      "collapsed_sections": [],
      "authorship_tag": "ABX9TyPdHoIZ4YK4fDRn6jxFUwoM",
      "include_colab_link": true
    },
    "kernelspec": {
      "name": "python3",
      "display_name": "Python 3"
    },
    "language_info": {
      "name": "python"
    },
    "widgets": {
      "application/vnd.jupyter.widget-state+json": {
        "7cfbc880f52d4b13b029f81430647842": {
          "model_module": "@jupyter-widgets/controls",
          "model_name": "HBoxModel",
          "model_module_version": "1.5.0",
          "state": {
            "_dom_classes": [],
            "_model_module": "@jupyter-widgets/controls",
            "_model_module_version": "1.5.0",
            "_model_name": "HBoxModel",
            "_view_count": null,
            "_view_module": "@jupyter-widgets/controls",
            "_view_module_version": "1.5.0",
            "_view_name": "HBoxView",
            "box_style": "",
            "children": [
              "IPY_MODEL_2e022348d72044c497ca3cc81a6c556e",
              "IPY_MODEL_f799026fa65d46ba918562e5288d5137",
              "IPY_MODEL_b0bde905f1d74e0da716ae9a3e8b7efc"
            ],
            "layout": "IPY_MODEL_c38ab936172e4e0abcffa155255beb89"
          }
        },
        "2e022348d72044c497ca3cc81a6c556e": {
          "model_module": "@jupyter-widgets/controls",
          "model_name": "HTMLModel",
          "model_module_version": "1.5.0",
          "state": {
            "_dom_classes": [],
            "_model_module": "@jupyter-widgets/controls",
            "_model_module_version": "1.5.0",
            "_model_name": "HTMLModel",
            "_view_count": null,
            "_view_module": "@jupyter-widgets/controls",
            "_view_module_version": "1.5.0",
            "_view_name": "HTMLView",
            "description": "",
            "description_tooltip": null,
            "layout": "IPY_MODEL_edbd499d14204a73bac4beb384842500",
            "placeholder": "​",
            "style": "IPY_MODEL_e7e84ae8e9a649549728c3da3ae3cf83",
            "value": "100%"
          }
        },
        "f799026fa65d46ba918562e5288d5137": {
          "model_module": "@jupyter-widgets/controls",
          "model_name": "FloatProgressModel",
          "model_module_version": "1.5.0",
          "state": {
            "_dom_classes": [],
            "_model_module": "@jupyter-widgets/controls",
            "_model_module_version": "1.5.0",
            "_model_name": "FloatProgressModel",
            "_view_count": null,
            "_view_module": "@jupyter-widgets/controls",
            "_view_module_version": "1.5.0",
            "_view_name": "ProgressView",
            "bar_style": "success",
            "description": "",
            "description_tooltip": null,
            "layout": "IPY_MODEL_2a8c509cd731491bb56dd13ad7c2bb83",
            "max": 3,
            "min": 0,
            "orientation": "horizontal",
            "style": "IPY_MODEL_8c5b98c824954054b103d372748fc165",
            "value": 3
          }
        },
        "b0bde905f1d74e0da716ae9a3e8b7efc": {
          "model_module": "@jupyter-widgets/controls",
          "model_name": "HTMLModel",
          "model_module_version": "1.5.0",
          "state": {
            "_dom_classes": [],
            "_model_module": "@jupyter-widgets/controls",
            "_model_module_version": "1.5.0",
            "_model_name": "HTMLModel",
            "_view_count": null,
            "_view_module": "@jupyter-widgets/controls",
            "_view_module_version": "1.5.0",
            "_view_name": "HTMLView",
            "description": "",
            "description_tooltip": null,
            "layout": "IPY_MODEL_bc442cc331b8403ea94bc4bb18c9f2d1",
            "placeholder": "​",
            "style": "IPY_MODEL_414278ac9feb41ac9876bfdd18e93d3f",
            "value": " 3/3 [00:00&lt;00:00, 61.29it/s]"
          }
        },
        "c38ab936172e4e0abcffa155255beb89": {
          "model_module": "@jupyter-widgets/base",
          "model_name": "LayoutModel",
          "model_module_version": "1.2.0",
          "state": {
            "_model_module": "@jupyter-widgets/base",
            "_model_module_version": "1.2.0",
            "_model_name": "LayoutModel",
            "_view_count": null,
            "_view_module": "@jupyter-widgets/base",
            "_view_module_version": "1.2.0",
            "_view_name": "LayoutView",
            "align_content": null,
            "align_items": null,
            "align_self": null,
            "border": null,
            "bottom": null,
            "display": null,
            "flex": null,
            "flex_flow": null,
            "grid_area": null,
            "grid_auto_columns": null,
            "grid_auto_flow": null,
            "grid_auto_rows": null,
            "grid_column": null,
            "grid_gap": null,
            "grid_row": null,
            "grid_template_areas": null,
            "grid_template_columns": null,
            "grid_template_rows": null,
            "height": null,
            "justify_content": null,
            "justify_items": null,
            "left": null,
            "margin": null,
            "max_height": null,
            "max_width": null,
            "min_height": null,
            "min_width": null,
            "object_fit": null,
            "object_position": null,
            "order": null,
            "overflow": null,
            "overflow_x": null,
            "overflow_y": null,
            "padding": null,
            "right": null,
            "top": null,
            "visibility": null,
            "width": null
          }
        },
        "edbd499d14204a73bac4beb384842500": {
          "model_module": "@jupyter-widgets/base",
          "model_name": "LayoutModel",
          "model_module_version": "1.2.0",
          "state": {
            "_model_module": "@jupyter-widgets/base",
            "_model_module_version": "1.2.0",
            "_model_name": "LayoutModel",
            "_view_count": null,
            "_view_module": "@jupyter-widgets/base",
            "_view_module_version": "1.2.0",
            "_view_name": "LayoutView",
            "align_content": null,
            "align_items": null,
            "align_self": null,
            "border": null,
            "bottom": null,
            "display": null,
            "flex": null,
            "flex_flow": null,
            "grid_area": null,
            "grid_auto_columns": null,
            "grid_auto_flow": null,
            "grid_auto_rows": null,
            "grid_column": null,
            "grid_gap": null,
            "grid_row": null,
            "grid_template_areas": null,
            "grid_template_columns": null,
            "grid_template_rows": null,
            "height": null,
            "justify_content": null,
            "justify_items": null,
            "left": null,
            "margin": null,
            "max_height": null,
            "max_width": null,
            "min_height": null,
            "min_width": null,
            "object_fit": null,
            "object_position": null,
            "order": null,
            "overflow": null,
            "overflow_x": null,
            "overflow_y": null,
            "padding": null,
            "right": null,
            "top": null,
            "visibility": null,
            "width": null
          }
        },
        "e7e84ae8e9a649549728c3da3ae3cf83": {
          "model_module": "@jupyter-widgets/controls",
          "model_name": "DescriptionStyleModel",
          "model_module_version": "1.5.0",
          "state": {
            "_model_module": "@jupyter-widgets/controls",
            "_model_module_version": "1.5.0",
            "_model_name": "DescriptionStyleModel",
            "_view_count": null,
            "_view_module": "@jupyter-widgets/base",
            "_view_module_version": "1.2.0",
            "_view_name": "StyleView",
            "description_width": ""
          }
        },
        "2a8c509cd731491bb56dd13ad7c2bb83": {
          "model_module": "@jupyter-widgets/base",
          "model_name": "LayoutModel",
          "model_module_version": "1.2.0",
          "state": {
            "_model_module": "@jupyter-widgets/base",
            "_model_module_version": "1.2.0",
            "_model_name": "LayoutModel",
            "_view_count": null,
            "_view_module": "@jupyter-widgets/base",
            "_view_module_version": "1.2.0",
            "_view_name": "LayoutView",
            "align_content": null,
            "align_items": null,
            "align_self": null,
            "border": null,
            "bottom": null,
            "display": null,
            "flex": null,
            "flex_flow": null,
            "grid_area": null,
            "grid_auto_columns": null,
            "grid_auto_flow": null,
            "grid_auto_rows": null,
            "grid_column": null,
            "grid_gap": null,
            "grid_row": null,
            "grid_template_areas": null,
            "grid_template_columns": null,
            "grid_template_rows": null,
            "height": null,
            "justify_content": null,
            "justify_items": null,
            "left": null,
            "margin": null,
            "max_height": null,
            "max_width": null,
            "min_height": null,
            "min_width": null,
            "object_fit": null,
            "object_position": null,
            "order": null,
            "overflow": null,
            "overflow_x": null,
            "overflow_y": null,
            "padding": null,
            "right": null,
            "top": null,
            "visibility": null,
            "width": null
          }
        },
        "8c5b98c824954054b103d372748fc165": {
          "model_module": "@jupyter-widgets/controls",
          "model_name": "ProgressStyleModel",
          "model_module_version": "1.5.0",
          "state": {
            "_model_module": "@jupyter-widgets/controls",
            "_model_module_version": "1.5.0",
            "_model_name": "ProgressStyleModel",
            "_view_count": null,
            "_view_module": "@jupyter-widgets/base",
            "_view_module_version": "1.2.0",
            "_view_name": "StyleView",
            "bar_color": null,
            "description_width": ""
          }
        },
        "bc442cc331b8403ea94bc4bb18c9f2d1": {
          "model_module": "@jupyter-widgets/base",
          "model_name": "LayoutModel",
          "model_module_version": "1.2.0",
          "state": {
            "_model_module": "@jupyter-widgets/base",
            "_model_module_version": "1.2.0",
            "_model_name": "LayoutModel",
            "_view_count": null,
            "_view_module": "@jupyter-widgets/base",
            "_view_module_version": "1.2.0",
            "_view_name": "LayoutView",
            "align_content": null,
            "align_items": null,
            "align_self": null,
            "border": null,
            "bottom": null,
            "display": null,
            "flex": null,
            "flex_flow": null,
            "grid_area": null,
            "grid_auto_columns": null,
            "grid_auto_flow": null,
            "grid_auto_rows": null,
            "grid_column": null,
            "grid_gap": null,
            "grid_row": null,
            "grid_template_areas": null,
            "grid_template_columns": null,
            "grid_template_rows": null,
            "height": null,
            "justify_content": null,
            "justify_items": null,
            "left": null,
            "margin": null,
            "max_height": null,
            "max_width": null,
            "min_height": null,
            "min_width": null,
            "object_fit": null,
            "object_position": null,
            "order": null,
            "overflow": null,
            "overflow_x": null,
            "overflow_y": null,
            "padding": null,
            "right": null,
            "top": null,
            "visibility": null,
            "width": null
          }
        },
        "414278ac9feb41ac9876bfdd18e93d3f": {
          "model_module": "@jupyter-widgets/controls",
          "model_name": "DescriptionStyleModel",
          "model_module_version": "1.5.0",
          "state": {
            "_model_module": "@jupyter-widgets/controls",
            "_model_module_version": "1.5.0",
            "_model_name": "DescriptionStyleModel",
            "_view_count": null,
            "_view_module": "@jupyter-widgets/base",
            "_view_module_version": "1.2.0",
            "_view_name": "StyleView",
            "description_width": ""
          }
        }
      }
    },
    "accelerator": "GPU",
    "gpuClass": "standard"
  },
  "cells": [
    {
      "cell_type": "markdown",
      "metadata": {
        "id": "view-in-github",
        "colab_type": "text"
      },
      "source": [
        "<a href=\"https://colab.research.google.com/github/christopherdiamana/nlp/blob/main/catch_up1.ipynb\" target=\"_parent\"><img src=\"https://colab.research.google.com/assets/colab-badge.svg\" alt=\"Open In Colab\"/></a>"
      ]
    },
    {
      "cell_type": "markdown",
      "source": [
        "# Introduction to Natural Language Processing Catch-up 1"
      ],
      "metadata": {
        "id": "GQ4Z_zgCT6y_"
      }
    },
    {
      "cell_type": "markdown",
      "source": [
        "## The dataset"
      ],
      "metadata": {
        "id": "PlcLXIrKUAxr"
      }
    },
    {
      "cell_type": "code",
      "source": [
        "!pip install datasets"
      ],
      "metadata": {
        "colab": {
          "base_uri": "https://localhost:8080/"
        },
        "id": "rk8O6GDjesQF",
        "outputId": "ae1efe7e-ab86-4ef2-cd02-323bcf4bb29a"
      },
      "execution_count": 42,
      "outputs": [
        {
          "output_type": "stream",
          "name": "stdout",
          "text": [
            "Looking in indexes: https://pypi.org/simple, https://us-python.pkg.dev/colab-wheels/public/simple/\n",
            "Requirement already satisfied: datasets in /usr/local/lib/python3.7/dist-packages (2.3.2)\n",
            "Requirement already satisfied: numpy>=1.17 in /usr/local/lib/python3.7/dist-packages (from datasets) (1.21.6)\n",
            "Requirement already satisfied: requests>=2.19.0 in /usr/local/lib/python3.7/dist-packages (from datasets) (2.23.0)\n",
            "Requirement already satisfied: xxhash in /usr/local/lib/python3.7/dist-packages (from datasets) (3.0.0)\n",
            "Requirement already satisfied: pyarrow>=6.0.0 in /usr/local/lib/python3.7/dist-packages (from datasets) (6.0.1)\n",
            "Requirement already satisfied: dill<0.3.6 in /usr/local/lib/python3.7/dist-packages (from datasets) (0.3.5.1)\n",
            "Requirement already satisfied: pandas in /usr/local/lib/python3.7/dist-packages (from datasets) (1.3.5)\n",
            "Requirement already satisfied: aiohttp in /usr/local/lib/python3.7/dist-packages (from datasets) (3.8.1)\n",
            "Requirement already satisfied: packaging in /usr/local/lib/python3.7/dist-packages (from datasets) (21.3)\n",
            "Requirement already satisfied: responses<0.19 in /usr/local/lib/python3.7/dist-packages (from datasets) (0.18.0)\n",
            "Requirement already satisfied: multiprocess in /usr/local/lib/python3.7/dist-packages (from datasets) (0.70.13)\n",
            "Requirement already satisfied: importlib-metadata in /usr/local/lib/python3.7/dist-packages (from datasets) (4.11.4)\n",
            "Requirement already satisfied: tqdm>=4.62.1 in /usr/local/lib/python3.7/dist-packages (from datasets) (4.64.0)\n",
            "Requirement already satisfied: fsspec[http]>=2021.05.0 in /usr/local/lib/python3.7/dist-packages (from datasets) (2022.5.0)\n",
            "Requirement already satisfied: huggingface-hub<1.0.0,>=0.1.0 in /usr/local/lib/python3.7/dist-packages (from datasets) (0.8.1)\n",
            "Requirement already satisfied: pyyaml>=5.1 in /usr/local/lib/python3.7/dist-packages (from huggingface-hub<1.0.0,>=0.1.0->datasets) (6.0)\n",
            "Requirement already satisfied: typing-extensions>=3.7.4.3 in /usr/local/lib/python3.7/dist-packages (from huggingface-hub<1.0.0,>=0.1.0->datasets) (4.1.1)\n",
            "Requirement already satisfied: filelock in /usr/local/lib/python3.7/dist-packages (from huggingface-hub<1.0.0,>=0.1.0->datasets) (3.7.1)\n",
            "Requirement already satisfied: pyparsing!=3.0.5,>=2.0.2 in /usr/local/lib/python3.7/dist-packages (from packaging->datasets) (3.0.9)\n",
            "Requirement already satisfied: certifi>=2017.4.17 in /usr/local/lib/python3.7/dist-packages (from requests>=2.19.0->datasets) (2022.6.15)\n",
            "Requirement already satisfied: idna<3,>=2.5 in /usr/local/lib/python3.7/dist-packages (from requests>=2.19.0->datasets) (2.10)\n",
            "Requirement already satisfied: urllib3!=1.25.0,!=1.25.1,<1.26,>=1.21.1 in /usr/local/lib/python3.7/dist-packages (from requests>=2.19.0->datasets) (1.25.11)\n",
            "Requirement already satisfied: chardet<4,>=3.0.2 in /usr/local/lib/python3.7/dist-packages (from requests>=2.19.0->datasets) (3.0.4)\n",
            "Requirement already satisfied: async-timeout<5.0,>=4.0.0a3 in /usr/local/lib/python3.7/dist-packages (from aiohttp->datasets) (4.0.2)\n",
            "Requirement already satisfied: charset-normalizer<3.0,>=2.0 in /usr/local/lib/python3.7/dist-packages (from aiohttp->datasets) (2.0.12)\n",
            "Requirement already satisfied: yarl<2.0,>=1.0 in /usr/local/lib/python3.7/dist-packages (from aiohttp->datasets) (1.7.2)\n",
            "Requirement already satisfied: asynctest==0.13.0 in /usr/local/lib/python3.7/dist-packages (from aiohttp->datasets) (0.13.0)\n",
            "Requirement already satisfied: frozenlist>=1.1.1 in /usr/local/lib/python3.7/dist-packages (from aiohttp->datasets) (1.3.0)\n",
            "Requirement already satisfied: attrs>=17.3.0 in /usr/local/lib/python3.7/dist-packages (from aiohttp->datasets) (21.4.0)\n",
            "Requirement already satisfied: multidict<7.0,>=4.5 in /usr/local/lib/python3.7/dist-packages (from aiohttp->datasets) (6.0.2)\n",
            "Requirement already satisfied: aiosignal>=1.1.2 in /usr/local/lib/python3.7/dist-packages (from aiohttp->datasets) (1.2.0)\n",
            "Requirement already satisfied: zipp>=0.5 in /usr/local/lib/python3.7/dist-packages (from importlib-metadata->datasets) (3.8.0)\n",
            "Requirement already satisfied: python-dateutil>=2.7.3 in /usr/local/lib/python3.7/dist-packages (from pandas->datasets) (2.8.2)\n",
            "Requirement already satisfied: pytz>=2017.3 in /usr/local/lib/python3.7/dist-packages (from pandas->datasets) (2022.1)\n",
            "Requirement already satisfied: six>=1.5 in /usr/local/lib/python3.7/dist-packages (from python-dateutil>=2.7.3->pandas->datasets) (1.15.0)\n"
          ]
        }
      ]
    },
    {
      "cell_type": "code",
      "source": [
        "from datasets import load_dataset_builder"
      ],
      "metadata": {
        "id": "U9lURVl0PFUk"
      },
      "execution_count": 43,
      "outputs": []
    },
    {
      "cell_type": "code",
      "source": [
        "ds_builder = load_dataset_builder(\"imdb\")"
      ],
      "metadata": {
        "id": "yF90jsROf32P"
      },
      "execution_count": 44,
      "outputs": []
    },
    {
      "cell_type": "code",
      "source": [
        "# Inspect dataset description\n",
        "ds_builder.info.description"
      ],
      "metadata": {
        "colab": {
          "base_uri": "https://localhost:8080/",
          "height": 50
        },
        "id": "mrSyAzlkf94S",
        "outputId": "5ec1504d-99b5-4ac9-ad9e-f662146f1080"
      },
      "execution_count": 45,
      "outputs": [
        {
          "output_type": "execute_result",
          "data": {
            "text/plain": [
              "'Large Movie Review Dataset.\\nThis is a dataset for binary sentiment classification containing substantially more data than previous benchmark datasets. We provide a set of 25,000 highly polar movie reviews for training, and 25,000 for testing. There is additional unlabeled data for use as well.'"
            ],
            "application/vnd.google.colaboratory.intrinsic+json": {
              "type": "string"
            }
          },
          "metadata": {},
          "execution_count": 45
        }
      ]
    },
    {
      "cell_type": "code",
      "source": [
        "# Inspect dataset features\n",
        "ds_builder.info.features"
      ],
      "metadata": {
        "colab": {
          "base_uri": "https://localhost:8080/"
        },
        "id": "WNvYWM9jgLWX",
        "outputId": "74191692-edb3-49cb-975f-0ea23072e8c6"
      },
      "execution_count": 46,
      "outputs": [
        {
          "output_type": "execute_result",
          "data": {
            "text/plain": [
              "{'label': ClassLabel(num_classes=2, names=['neg', 'pos'], id=None),\n",
              " 'text': Value(dtype='string', id=None)}"
            ]
          },
          "metadata": {},
          "execution_count": 46
        }
      ]
    },
    {
      "cell_type": "code",
      "source": [
        "from datasets import get_dataset_split_names"
      ],
      "metadata": {
        "id": "5I1WzwGcgeTM"
      },
      "execution_count": 47,
      "outputs": []
    },
    {
      "cell_type": "code",
      "source": [
        "get_dataset_split_names(\"imdb\")"
      ],
      "metadata": {
        "colab": {
          "base_uri": "https://localhost:8080/"
        },
        "id": "dz5nOdzatTQb",
        "outputId": "492d33b2-5466-4125-b302-17cfd9cc9243"
      },
      "execution_count": 48,
      "outputs": [
        {
          "output_type": "execute_result",
          "data": {
            "text/plain": [
              "['train', 'test', 'unsupervised']"
            ]
          },
          "metadata": {},
          "execution_count": 48
        }
      ]
    },
    {
      "cell_type": "code",
      "source": [
        "from datasets import load_dataset"
      ],
      "metadata": {
        "id": "SlHpU73ygW3g"
      },
      "execution_count": 49,
      "outputs": []
    },
    {
      "cell_type": "code",
      "source": [
        "dataset = load_dataset(\"imdb\")"
      ],
      "metadata": {
        "colab": {
          "base_uri": "https://localhost:8080/",
          "height": 65,
          "referenced_widgets": [
            "7cfbc880f52d4b13b029f81430647842",
            "2e022348d72044c497ca3cc81a6c556e",
            "f799026fa65d46ba918562e5288d5137",
            "b0bde905f1d74e0da716ae9a3e8b7efc",
            "c38ab936172e4e0abcffa155255beb89",
            "edbd499d14204a73bac4beb384842500",
            "e7e84ae8e9a649549728c3da3ae3cf83",
            "2a8c509cd731491bb56dd13ad7c2bb83",
            "8c5b98c824954054b103d372748fc165",
            "bc442cc331b8403ea94bc4bb18c9f2d1",
            "414278ac9feb41ac9876bfdd18e93d3f"
          ]
        },
        "id": "ikFndn_ngZlw",
        "outputId": "c8e56b9c-5d97-496c-8bce-a1273dcb9d2a"
      },
      "execution_count": 50,
      "outputs": [
        {
          "output_type": "stream",
          "name": "stderr",
          "text": [
            "Reusing dataset imdb (/root/.cache/huggingface/datasets/imdb/plain_text/1.0.0/2fdd8b9bcadd6e7055e742a706876ba43f19faee861df134affd7a3f60fc38a1)\n"
          ]
        },
        {
          "output_type": "display_data",
          "data": {
            "text/plain": [
              "  0%|          | 0/3 [00:00<?, ?it/s]"
            ],
            "application/vnd.jupyter.widget-view+json": {
              "version_major": 2,
              "version_minor": 0,
              "model_id": "7cfbc880f52d4b13b029f81430647842"
            }
          },
          "metadata": {}
        }
      ]
    },
    {
      "cell_type": "code",
      "source": [
        "dataset"
      ],
      "metadata": {
        "id": "qZM8l8FNt0LS",
        "colab": {
          "base_uri": "https://localhost:8080/"
        },
        "outputId": "96b872c6-810d-4a3c-fe2a-2fadf74080d5"
      },
      "execution_count": 51,
      "outputs": [
        {
          "output_type": "execute_result",
          "data": {
            "text/plain": [
              "DatasetDict({\n",
              "    train: Dataset({\n",
              "        features: ['text', 'label'],\n",
              "        num_rows: 25000\n",
              "    })\n",
              "    test: Dataset({\n",
              "        features: ['text', 'label'],\n",
              "        num_rows: 25000\n",
              "    })\n",
              "    unsupervised: Dataset({\n",
              "        features: ['text', 'label'],\n",
              "        num_rows: 50000\n",
              "    })\n",
              "})"
            ]
          },
          "metadata": {},
          "execution_count": 51
        }
      ]
    },
    {
      "cell_type": "code",
      "execution_count": 52,
      "metadata": {
        "id": "37tBgyvm6sAK",
        "colab": {
          "base_uri": "https://localhost:8080/"
        },
        "outputId": "309291a8-bf26-4ce5-db84-e0615b75c307"
      },
      "outputs": [
        {
          "output_type": "stream",
          "name": "stderr",
          "text": [
            "Reusing dataset imdb (/root/.cache/huggingface/datasets/imdb/plain_text/1.0.0/2fdd8b9bcadd6e7055e742a706876ba43f19faee861df134affd7a3f60fc38a1)\n",
            "Reusing dataset imdb (/root/.cache/huggingface/datasets/imdb/plain_text/1.0.0/2fdd8b9bcadd6e7055e742a706876ba43f19faee861df134affd7a3f60fc38a1)\n"
          ]
        }
      ],
      "source": [
        "imdb_train = load_dataset('imdb', split='train')\n",
        "imdb_test = load_dataset('imdb', split='test')"
      ]
    },
    {
      "cell_type": "code",
      "source": [
        "from collections import Counter"
      ],
      "metadata": {
        "id": "ZtKADqfqOAzt"
      },
      "execution_count": 53,
      "outputs": []
    },
    {
      "cell_type": "code",
      "source": [
        "Counter(imdb_train['label'])"
      ],
      "metadata": {
        "id": "H-5DKKjCPVTO",
        "colab": {
          "base_uri": "https://localhost:8080/"
        },
        "outputId": "c179d34d-af76-490a-d3e4-d85841ab3f5d"
      },
      "execution_count": 54,
      "outputs": [
        {
          "output_type": "execute_result",
          "data": {
            "text/plain": [
              "Counter({0: 12500, 1: 12500})"
            ]
          },
          "metadata": {},
          "execution_count": 54
        }
      ]
    },
    {
      "cell_type": "code",
      "source": [
        "Counter(imdb_test['label'])"
      ],
      "metadata": {
        "id": "4jO7YLtCPgT9",
        "colab": {
          "base_uri": "https://localhost:8080/"
        },
        "outputId": "9df9d40f-763e-49bb-f257-4cb235518622"
      },
      "execution_count": 55,
      "outputs": [
        {
          "output_type": "execute_result",
          "data": {
            "text/plain": [
              "Counter({0: 12500, 1: 12500})"
            ]
          },
          "metadata": {},
          "execution_count": 55
        }
      ]
    },
    {
      "cell_type": "markdown",
      "source": [
        "\n",
        "\n",
        "---\n",
        "\n"
      ],
      "metadata": {
        "id": "Bv3kZieKPw1s"
      }
    },
    {
      "cell_type": "markdown",
      "source": [
        "## Naive Bayes classifier"
      ],
      "metadata": {
        "id": "TbB2cKjKSH5w"
      }
    },
    {
      "cell_type": "code",
      "source": [
        "import numpy as np"
      ],
      "metadata": {
        "id": "UZ8ItZ1e2eK7"
      },
      "execution_count": 56,
      "outputs": []
    },
    {
      "cell_type": "code",
      "source": [
        "def compute_occurences(vocabulary, documents):\n",
        "  \n",
        "  # create a vocabulary dictionary where the elements are initialise to 0 \n",
        "  occurences = dict.fromkeys(vocabulary, 0)\n",
        "\n",
        "  for text in documents:\n",
        "    for current_word in text.split():\n",
        "      occurences[current_word] +=1\n",
        "\n",
        "  return occurences"
      ],
      "metadata": {
        "id": "fulFUbnQkeFp"
      },
      "execution_count": 57,
      "outputs": []
    },
    {
      "cell_type": "code",
      "source": [
        "def compute_class_log_likelihood(log_likelihood, vocabulary, class_label, occurences):\n",
        "  '''\n",
        "  Computes the log likelihoods of words in the documents by class.\n",
        "\n",
        "  Parameters\n",
        "  ----------\n",
        "  log_likelihood: the current log likelihood vocabulary dictionary \n",
        "  vocabulary: the vocabulary of the full corpus\n",
        "  class_label: the label of the class for whom the likelihood will be calculate\n",
        "  occurences: list of words occurence of a specific class\n",
        "\n",
        "  Returns\n",
        "  -------\n",
        "  dictionary with words as keys and log likelihood as values\n",
        "  '''\n",
        "\n",
        "  denominator = sum([occurences[word] + 1 for word in vocabulary])\n",
        "\n",
        "  for word in occurences:\n",
        "    log_likelihood[word][class_label] = math.log((occurences[word] + 1) / denominator)\n",
        "\n",
        "  return log_likelihood"
      ],
      "metadata": {
        "id": "YBqEji8kHAns"
      },
      "execution_count": 58,
      "outputs": []
    },
    {
      "cell_type": "code",
      "source": [
        "import math\n",
        "from operator import countOf\n",
        "\n",
        "\n",
        "def train_naive_bayes(documents, classes):\n",
        "  log_prior = {}\n",
        "  vocabulary = set()\n",
        "  log_likelihood = {}\n",
        "  \n",
        "  [vocabulary.update(document['text'].split()) for index, document in documents.iterrows()]\n",
        "  num_documents = len(documents['text'])\n",
        "  \n",
        "  log_likelihood = { word : {} for word in vocabulary }\n",
        "\n",
        "  for class_label in classes:\n",
        "    num_documents_of_class = np.count_nonzero(np.array(documents['label']) == class_label)\n",
        "    log_prior[class_label] = math.log(num_documents_of_class / num_documents)\n",
        "\n",
        "    big_document = [document['text'] for index, document in documents.iterrows() if document['label'] == class_label]\n",
        "    occurences = compute_occurences(vocabulary, big_document)\n",
        "\n",
        "    log_likelihood = compute_class_log_likelihood(log_likelihood, vocabulary, class_label, occurences)\n",
        "\n",
        "  return log_prior, log_likelihood, vocabulary"
      ],
      "metadata": {
        "id": "hQ-2b5TAPngx"
      },
      "execution_count": 59,
      "outputs": []
    },
    {
      "cell_type": "code",
      "source": [
        "def test_naive_bayes(test_document, logprior, loglikelihood, classes, vocabulary):\n",
        "\n",
        "  summation = []\n",
        "\n",
        "  for class_label in classes:\n",
        "    summation.append(logprior[class_label])\n",
        "    \n",
        "    for word in test_document.split():\n",
        "      if word in vocabulary:\n",
        "        summation[class_label] += loglikelihood[word][class_label] \n",
        "  \n",
        "  return np.argmax(summation)"
      ],
      "metadata": {
        "id": "UN4UQDo2Pnao"
      },
      "execution_count": 60,
      "outputs": []
    },
    {
      "cell_type": "markdown",
      "source": [
        "### Pretreatment"
      ],
      "metadata": {
        "id": "ZVmtcvcTkN44"
      }
    },
    {
      "cell_type": "code",
      "source": [
        "from string import punctuation\n",
        "import re\n",
        "from nltk.stem.wordnet import WordNetLemmatizer\n",
        "from nltk.tokenize import word_tokenize"
      ],
      "metadata": {
        "id": "8JUPqeOpue0q"
      },
      "execution_count": 61,
      "outputs": []
    },
    {
      "cell_type": "code",
      "source": [
        "# For the Lemmatizer \n",
        "import nltk\n",
        "nltk.download('wordnet')\n",
        "nltk.download('punkt')\n",
        "nltk.download('omw-1.4')"
      ],
      "metadata": {
        "id": "fKGZKDGC74AF",
        "colab": {
          "base_uri": "https://localhost:8080/"
        },
        "outputId": "1dd23be2-db10-46f2-ed07-11bd90c56537"
      },
      "execution_count": 62,
      "outputs": [
        {
          "output_type": "stream",
          "name": "stderr",
          "text": [
            "[nltk_data] Downloading package wordnet to /root/nltk_data...\n",
            "[nltk_data]   Package wordnet is already up-to-date!\n",
            "[nltk_data] Downloading package punkt to /root/nltk_data...\n",
            "[nltk_data]   Package punkt is already up-to-date!\n",
            "[nltk_data] Downloading package omw-1.4 to /root/nltk_data...\n",
            "[nltk_data]   Package omw-1.4 is already up-to-date!\n"
          ]
        },
        {
          "output_type": "execute_result",
          "data": {
            "text/plain": [
              "True"
            ]
          },
          "metadata": {},
          "execution_count": 62
        }
      ]
    },
    {
      "cell_type": "code",
      "source": [
        "def pre_treatment(text):\n",
        "  new_text = text.lower()\n",
        "  new_text = new_text.translate(str.maketrans('', '', punctuation))\n",
        "  \n",
        "  #Other pretreatments\n",
        "  new_text = re.sub(r'[^a-z]+', ' ', new_text)\n",
        "  new_text = re.sub(r'\\b\\w\\b', ' ', new_text)\n",
        "  new_text = re.sub(r'\\b\\w\\w\\b', ' ', new_text)\n",
        "  word_tokens = word_tokenize(new_text)\n",
        "  lemmatizer = WordNetLemmatizer()\n",
        "\n",
        "  return ' '.join([lemmatizer.lemmatize(w) for w in word_tokens])"
      ],
      "metadata": {
        "id": "guNwZBQfPnV4"
      },
      "execution_count": 63,
      "outputs": []
    },
    {
      "cell_type": "code",
      "source": [
        "imdb_train['text'][0]"
      ],
      "metadata": {
        "colab": {
          "base_uri": "https://localhost:8080/",
          "height": 116
        },
        "id": "im62em9N86T8",
        "outputId": "a99edc33-2267-48a7-9fc8-25d1333e6717"
      },
      "execution_count": 64,
      "outputs": [
        {
          "output_type": "execute_result",
          "data": {
            "text/plain": [
              "'I rented I AM CURIOUS-YELLOW from my video store because of all the controversy that surrounded it when it was first released in 1967. I also heard that at first it was seized by U.S. customs if it ever tried to enter this country, therefore being a fan of films considered \"controversial\" I really had to see this for myself.<br /><br />The plot is centered around a young Swedish drama student named Lena who wants to learn everything she can about life. In particular she wants to focus her attentions to making some sort of documentary on what the average Swede thought about certain political issues such as the Vietnam War and race issues in the United States. In between asking politicians and ordinary denizens of Stockholm about their opinions on politics, she has sex with her drama teacher, classmates, and married men.<br /><br />What kills me about I AM CURIOUS-YELLOW is that 40 years ago, this was considered pornographic. Really, the sex and nudity scenes are few and far between, even then it\\'s not shot like some cheaply made porno. While my countrymen mind find it shocking, in reality sex and nudity are a major staple in Swedish cinema. Even Ingmar Bergman, arguably their answer to good old boy John Ford, had sex scenes in his films.<br /><br />I do commend the filmmakers for the fact that any sex shown in the film is shown for artistic purposes rather than just to shock people and make money to be shown in pornographic theaters in America. I AM CURIOUS-YELLOW is a good film for anyone wanting to study the meat and potatoes (no pun intended) of Swedish cinema. But really, this film doesn\\'t have much of a plot.'"
            ],
            "application/vnd.google.colaboratory.intrinsic+json": {
              "type": "string"
            }
          },
          "metadata": {},
          "execution_count": 64
        }
      ]
    },
    {
      "cell_type": "code",
      "source": [
        "pre_treated_text = [pre_treatment(text) for text in imdb_train['text']]"
      ],
      "metadata": {
        "id": "ijn9wMxjPnQo"
      },
      "execution_count": 65,
      "outputs": []
    },
    {
      "cell_type": "code",
      "source": [
        "pre_treated_text[0]"
      ],
      "metadata": {
        "colab": {
          "base_uri": "https://localhost:8080/",
          "height": 116
        },
        "id": "CoBDTGKY8e_O",
        "outputId": "67a71627-0de4-4b39-ec8c-698dd3959922"
      },
      "execution_count": 66,
      "outputs": [
        {
          "output_type": "execute_result",
          "data": {
            "text/plain": [
              "'rented curiousyellow from video store because all the controversy that surrounded when wa first released also heard that first wa seized custom ever tried enter this country therefore being fan film considered controversial really had see this for myselfbr the plot centered around young swedish drama student named lena who want learn everything she can about life particular she want focus her attention making some sort documentary what the average swede thought about certain political issue such the vietnam war and race issue the united state between asking politician and ordinary denizen stockholm about their opinion politics she ha sex with her drama teacher classmate and married menbr what kill about curiousyellow that year ago this wa considered pornographic really the sex and nudity scene are few and far between even then it not shot like some cheaply made porno while countryman mind find shocking reality sex and nudity are major staple swedish cinema even ingmar bergman arguably their answer good old boy john ford had sex scene his filmsbr commend the filmmaker for the fact that any sex shown the film shown for artistic purpose rather than just shock people and make money shown pornographic theater america curiousyellow good film for anyone wanting study the meat and potato pun intended swedish cinema but really this film doesnt have much plot'"
            ],
            "application/vnd.google.colaboratory.intrinsic+json": {
              "type": "string"
            }
          },
          "metadata": {},
          "execution_count": 66
        }
      ]
    },
    {
      "cell_type": "markdown",
      "source": [
        "### Naive Bayes classifier on the training set"
      ],
      "metadata": {
        "id": "hG5iNINqzD0j"
      }
    },
    {
      "cell_type": "markdown",
      "source": [
        "#### Converte to a dataframe"
      ],
      "metadata": {
        "id": "RW3ELXA7jLUY"
      }
    },
    {
      "cell_type": "code",
      "source": [
        "import pandas as pd"
      ],
      "metadata": {
        "id": "huoX0vLuJiUr"
      },
      "execution_count": 67,
      "outputs": []
    },
    {
      "cell_type": "code",
      "source": [
        "data_imdb_train = {'text': pre_treated_text, 'label': imdb_train['label']}\n",
        "df_imdb_train = pd.DataFrame(data = data_imdb_train)"
      ],
      "metadata": {
        "id": "oZJxLbkx9CoL"
      },
      "execution_count": 68,
      "outputs": []
    },
    {
      "cell_type": "code",
      "source": [
        "df_imdb_train.head()"
      ],
      "metadata": {
        "colab": {
          "base_uri": "https://localhost:8080/",
          "height": 201
        },
        "id": "58a3Z57MjqQX",
        "outputId": "8a0729e7-12a1-49de-8259-b7b580147eb9"
      },
      "execution_count": 69,
      "outputs": [
        {
          "output_type": "execute_result",
          "data": {
            "text/plain": [
              "                                                text  label\n",
              "0  rented curiousyellow from video store because ...      0\n",
              "1  curious yellow risible and pretentious steamin...      0\n",
              "2  only avoid making this type film the future th...      0\n",
              "3  this film wa probably inspired godard masculin...      0\n",
              "4  brotherafter hearing about this ridiculous fil...      0"
            ],
            "text/html": [
              "\n",
              "  <div id=\"df-5a167a11-8e6e-4371-babf-babcadb183f8\">\n",
              "    <div class=\"colab-df-container\">\n",
              "      <div>\n",
              "<style scoped>\n",
              "    .dataframe tbody tr th:only-of-type {\n",
              "        vertical-align: middle;\n",
              "    }\n",
              "\n",
              "    .dataframe tbody tr th {\n",
              "        vertical-align: top;\n",
              "    }\n",
              "\n",
              "    .dataframe thead th {\n",
              "        text-align: right;\n",
              "    }\n",
              "</style>\n",
              "<table border=\"1\" class=\"dataframe\">\n",
              "  <thead>\n",
              "    <tr style=\"text-align: right;\">\n",
              "      <th></th>\n",
              "      <th>text</th>\n",
              "      <th>label</th>\n",
              "    </tr>\n",
              "  </thead>\n",
              "  <tbody>\n",
              "    <tr>\n",
              "      <th>0</th>\n",
              "      <td>rented curiousyellow from video store because ...</td>\n",
              "      <td>0</td>\n",
              "    </tr>\n",
              "    <tr>\n",
              "      <th>1</th>\n",
              "      <td>curious yellow risible and pretentious steamin...</td>\n",
              "      <td>0</td>\n",
              "    </tr>\n",
              "    <tr>\n",
              "      <th>2</th>\n",
              "      <td>only avoid making this type film the future th...</td>\n",
              "      <td>0</td>\n",
              "    </tr>\n",
              "    <tr>\n",
              "      <th>3</th>\n",
              "      <td>this film wa probably inspired godard masculin...</td>\n",
              "      <td>0</td>\n",
              "    </tr>\n",
              "    <tr>\n",
              "      <th>4</th>\n",
              "      <td>brotherafter hearing about this ridiculous fil...</td>\n",
              "      <td>0</td>\n",
              "    </tr>\n",
              "  </tbody>\n",
              "</table>\n",
              "</div>\n",
              "      <button class=\"colab-df-convert\" onclick=\"convertToInteractive('df-5a167a11-8e6e-4371-babf-babcadb183f8')\"\n",
              "              title=\"Convert this dataframe to an interactive table.\"\n",
              "              style=\"display:none;\">\n",
              "        \n",
              "  <svg xmlns=\"http://www.w3.org/2000/svg\" height=\"24px\"viewBox=\"0 0 24 24\"\n",
              "       width=\"24px\">\n",
              "    <path d=\"M0 0h24v24H0V0z\" fill=\"none\"/>\n",
              "    <path d=\"M18.56 5.44l.94 2.06.94-2.06 2.06-.94-2.06-.94-.94-2.06-.94 2.06-2.06.94zm-11 1L8.5 8.5l.94-2.06 2.06-.94-2.06-.94L8.5 2.5l-.94 2.06-2.06.94zm10 10l.94 2.06.94-2.06 2.06-.94-2.06-.94-.94-2.06-.94 2.06-2.06.94z\"/><path d=\"M17.41 7.96l-1.37-1.37c-.4-.4-.92-.59-1.43-.59-.52 0-1.04.2-1.43.59L10.3 9.45l-7.72 7.72c-.78.78-.78 2.05 0 2.83L4 21.41c.39.39.9.59 1.41.59.51 0 1.02-.2 1.41-.59l7.78-7.78 2.81-2.81c.8-.78.8-2.07 0-2.86zM5.41 20L4 18.59l7.72-7.72 1.47 1.35L5.41 20z\"/>\n",
              "  </svg>\n",
              "      </button>\n",
              "      \n",
              "  <style>\n",
              "    .colab-df-container {\n",
              "      display:flex;\n",
              "      flex-wrap:wrap;\n",
              "      gap: 12px;\n",
              "    }\n",
              "\n",
              "    .colab-df-convert {\n",
              "      background-color: #E8F0FE;\n",
              "      border: none;\n",
              "      border-radius: 50%;\n",
              "      cursor: pointer;\n",
              "      display: none;\n",
              "      fill: #1967D2;\n",
              "      height: 32px;\n",
              "      padding: 0 0 0 0;\n",
              "      width: 32px;\n",
              "    }\n",
              "\n",
              "    .colab-df-convert:hover {\n",
              "      background-color: #E2EBFA;\n",
              "      box-shadow: 0px 1px 2px rgba(60, 64, 67, 0.3), 0px 1px 3px 1px rgba(60, 64, 67, 0.15);\n",
              "      fill: #174EA6;\n",
              "    }\n",
              "\n",
              "    [theme=dark] .colab-df-convert {\n",
              "      background-color: #3B4455;\n",
              "      fill: #D2E3FC;\n",
              "    }\n",
              "\n",
              "    [theme=dark] .colab-df-convert:hover {\n",
              "      background-color: #434B5C;\n",
              "      box-shadow: 0px 1px 3px 1px rgba(0, 0, 0, 0.15);\n",
              "      filter: drop-shadow(0px 1px 2px rgba(0, 0, 0, 0.3));\n",
              "      fill: #FFFFFF;\n",
              "    }\n",
              "  </style>\n",
              "\n",
              "      <script>\n",
              "        const buttonEl =\n",
              "          document.querySelector('#df-5a167a11-8e6e-4371-babf-babcadb183f8 button.colab-df-convert');\n",
              "        buttonEl.style.display =\n",
              "          google.colab.kernel.accessAllowed ? 'block' : 'none';\n",
              "\n",
              "        async function convertToInteractive(key) {\n",
              "          const element = document.querySelector('#df-5a167a11-8e6e-4371-babf-babcadb183f8');\n",
              "          const dataTable =\n",
              "            await google.colab.kernel.invokeFunction('convertToInteractive',\n",
              "                                                     [key], {});\n",
              "          if (!dataTable) return;\n",
              "\n",
              "          const docLinkHtml = 'Like what you see? Visit the ' +\n",
              "            '<a target=\"_blank\" href=https://colab.research.google.com/notebooks/data_table.ipynb>data table notebook</a>'\n",
              "            + ' to learn more about interactive tables.';\n",
              "          element.innerHTML = '';\n",
              "          dataTable['output_type'] = 'display_data';\n",
              "          await google.colab.output.renderOutput(dataTable, element);\n",
              "          const docLink = document.createElement('div');\n",
              "          docLink.innerHTML = docLinkHtml;\n",
              "          element.appendChild(docLink);\n",
              "        }\n",
              "      </script>\n",
              "    </div>\n",
              "  </div>\n",
              "  "
            ]
          },
          "metadata": {},
          "execution_count": 69
        }
      ]
    },
    {
      "cell_type": "markdown",
      "source": [
        "#### Train the imdb"
      ],
      "metadata": {
        "id": "gwtCIOZkJnXw"
      }
    },
    {
      "cell_type": "code",
      "source": [
        "classes = [0, 1]"
      ],
      "metadata": {
        "id": "_REelwAdh4JE"
      },
      "execution_count": 70,
      "outputs": []
    },
    {
      "cell_type": "code",
      "source": [
        "log_prior, log_likelihood, vocabulary = train_naive_bayes(df_imdb_train, classes)"
      ],
      "metadata": {
        "id": "_49SP39XzTYz"
      },
      "execution_count": 71,
      "outputs": []
    },
    {
      "cell_type": "code",
      "source": [
        "log_prior, log_likelihood"
      ],
      "metadata": {
        "colab": {
          "base_uri": "https://localhost:8080/"
        },
        "id": "2fyq_7sskcC6",
        "outputId": "1a082ef0-9e52-4089-f871-59752a144619"
      },
      "execution_count": 72,
      "outputs": [
        {
          "output_type": "execute_result",
          "data": {
            "text/plain": [
              "({0: -0.6931471805599453, 1: -0.6931471805599453},\n",
              " {'throwntogether': {0: -13.289877087192913, 1: -14.70291157171018},\n",
              "  'nettlebed': {0: -13.983024267752858, 1: -14.70291157171018},\n",
              "  'microfiche': {0: -14.676171448312804, 1: -13.093473659276079},\n",
              "  'tattersalls': {0: -14.676171448312804, 1: -14.009764391150235},\n",
              "  'yuji': {0: -14.676171448312804, 1: -13.604299283042069},\n",
              "  'mattei': {0: -11.731732469146364, 1: -12.30501629891181},\n",
              "  'hypo': {0: -13.577559159644695, 1: -14.70291157171018},\n",
              "  'realdoesnt': {0: -14.676171448312804, 1: -14.009764391150235},\n",
              "  'wellmade': {0: -11.680439174758813, 1: -10.831710560802287},\n",
              "  'arsenal': {0: -12.88441197908475, 1: -12.623470030030344},\n",
              "  'popsong': {0: -14.676171448312804, 1: -13.604299283042069},\n",
              "  'unbalance': {0: -13.577559159644695, 1: -13.604299283042069},\n",
              "  'portajohn': {0: -13.983024267752858, 1: -14.70291157171018},\n",
              "  'basora': {0: -14.676171448312804, 1: -14.009764391150235},\n",
              "  'mentionedi': {0: -13.983024267752858, 1: -14.70291157171018},\n",
              "  'herothe': {0: -14.676171448312804, 1: -13.604299283042069},\n",
              "  'tlpss': {0: -13.983024267752858, 1: -14.70291157171018},\n",
              "  'carte': {0: -13.983024267752858, 1: -14.70291157171018},\n",
              "  'premiering': {0: -14.676171448312804, 1: -13.604299283042069},\n",
              "  'vindictiveness': {0: -13.289877087192913, 1: -14.70291157171018},\n",
              "  'nowcompleted': {0: -13.983024267752858, 1: -14.70291157171018},\n",
              "  'collector': {0: -11.274974066650648, 1: -11.147563510220765},\n",
              "  'burkhardt': {0: -14.676171448312804, 1: -14.009764391150235},\n",
              "  'uninspired': {0: -10.012732354200736, 1: -11.930322849470398},\n",
              "  'configured': {0: -14.676171448312804, 1: -13.31661721059029},\n",
              "  'escalate': {0: -14.676171448312804, 1: -12.911152102482124},\n",
              "  'complexion': {0: -13.983024267752858, 1: -14.70291157171018},\n",
              "  'bike': {0: -10.938501830029436, 1: -11.039349925580533},\n",
              "  'halfwritten': {0: -13.983024267752858, 1: -14.70291157171018},\n",
              "  'shimomo': {0: -14.676171448312804, 1: -14.009764391150235},\n",
              "  'musical': {0: -8.682210021006235, 1: -8.118120179324462},\n",
              "  'characterugh': {0: -13.983024267752858, 1: -14.70291157171018},\n",
              "  'viccaro': {0: -14.676171448312804, 1: -14.009764391150235},\n",
              "  'venin': {0: -14.676171448312804, 1: -14.009764391150235},\n",
              "  'lailas': {0: -13.983024267752858, 1: -14.70291157171018},\n",
              "  'friendsand': {0: -13.983024267752858, 1: -14.70291157171018},\n",
              "  'milchan': {0: -13.983024267752858, 1: -14.70291157171018},\n",
              "  'yugoslaviabr': {0: -13.577559159644695, 1: -14.70291157171018},\n",
              "  'icets': {0: -13.577559159644695, 1: -14.70291157171018},\n",
              "  'diesthe': {0: -13.983024267752858, 1: -14.009764391150235},\n",
              "  'credibilityas': {0: -14.676171448312804, 1: -14.009764391150235},\n",
              "  'mowgli': {0: -14.676171448312804, 1: -14.009764391150235},\n",
              "  'nownever': {0: -14.676171448312804, 1: -14.009764391150235},\n",
              "  'irishpakistanibronxcockneycajun': {0: -13.983024267752858,\n",
              "   1: -14.70291157171018},\n",
              "  'impressedbr': {0: -13.289877087192913, 1: -14.009764391150235},\n",
              "  'blindsided': {0: -14.676171448312804, 1: -14.009764391150235},\n",
              "  'superdooper': {0: -13.983024267752858, 1: -14.70291157171018},\n",
              "  'folksaudience': {0: -14.676171448312804, 1: -14.009764391150235},\n",
              "  'geronimo': {0: -12.278276175514433, 1: -14.009764391150235},\n",
              "  'slab': {0: -12.73026129925749, 1: -13.31661721059029},\n",
              "  'celtic': {0: -12.88441197908475, 1: -12.50568699437396},\n",
              "  'yoshitsune': {0: -14.676171448312804, 1: -13.604299283042069},\n",
              "  'ontheloose': {0: -14.676171448312804, 1: -14.009764391150235},\n",
              "  'goodie': {0: -13.289877087192913, 1: -13.093473659276079},\n",
              "  'violatedbr': {0: -14.676171448312804, 1: -14.009764391150235},\n",
              "  'erred': {0: -13.983024267752858, 1: -14.70291157171018},\n",
              "  'nnas': {0: -14.676171448312804, 1: -14.009764391150235},\n",
              "  'poorlyfilmed': {0: -13.983024267752858, 1: -14.70291157171018},\n",
              "  'worldweariness': {0: -14.676171448312804, 1: -13.31661721059029},\n",
              "  'walkedof': {0: -14.676171448312804, 1: -14.009764391150235},\n",
              "  'exorbitant': {0: -13.983024267752858, 1: -14.009764391150235},\n",
              "  'tross': {0: -13.983024267752858, 1: -14.70291157171018},\n",
              "  'hawns': {0: -12.88441197908475, 1: -14.70291157171018},\n",
              "  'jumpinyourseat': {0: -13.983024267752858, 1: -14.70291157171018},\n",
              "  'prying': {0: -13.577559159644695, 1: -14.009764391150235},\n",
              "  'pressman': {0: -13.983024267752858, 1: -14.70291157171018},\n",
              "  'allotted': {0: -13.066733535878702, 1: -13.604299283042069},\n",
              "  'characterizes': {0: -13.983024267752858, 1: -13.093473659276079},\n",
              "  'loserposer': {0: -13.983024267752858, 1: -14.70291157171018},\n",
              "  'sosounreal': {0: -13.983024267752858, 1: -14.70291157171018},\n",
              "  'gb': {0: -14.676171448312804, 1: -13.604299283042069},\n",
              "  'zhuzh': {0: -14.676171448312804, 1: -14.009764391150235},\n",
              "  'transvestism': {0: -14.676171448312804, 1: -13.604299283042069},\n",
              "  'fliesbr': {0: -13.983024267752858, 1: -14.70291157171018},\n",
              "  'marriedmove': {0: -14.676171448312804, 1: -14.009764391150235},\n",
              "  'sexiness': {0: -13.577559159644695, 1: -12.911152102482124},\n",
              "  'leguizano': {0: -14.676171448312804, 1: -14.009764391150235},\n",
              "  'kidgloved': {0: -13.983024267752858, 1: -14.70291157171018},\n",
              "  'mandragon': {0: -14.676171448312804, 1: -14.009764391150235},\n",
              "  'fetus': {0: -12.191264798524804, 1: -13.604299283042069},\n",
              "  'genuises': {0: -13.983024267752858, 1: -14.70291157171018},\n",
              "  'pudding': {0: -12.373586355318757, 1: -12.911152102482124},\n",
              "  'espanto': {0: -13.983024267752858, 1: -14.70291157171018},\n",
              "  'ifbr': {0: -13.289877087192913, 1: -13.31661721059029},\n",
              "  'producerplaywright': {0: -14.676171448312804, 1: -14.009764391150235},\n",
              "  'reasonshe': {0: -13.983024267752858, 1: -14.70291157171018},\n",
              "  'underwater': {0: -11.498117617964859, 1: -11.091993659065954},\n",
              "  'expedient': {0: -13.066733535878702, 1: -14.009764391150235},\n",
              "  'animeesque': {0: -14.676171448312804, 1: -14.009764391150235},\n",
              "  'extorting': {0: -14.676171448312804, 1: -13.31661721059029},\n",
              "  'groaner': {0: -13.066733535878702, 1: -14.009764391150235},\n",
              "  'uppam': {0: -14.676171448312804, 1: -14.009764391150235},\n",
              "  'selfinterested': {0: -13.983024267752858, 1: -13.31661721059029},\n",
              "  'badthough': {0: -13.983024267752858, 1: -14.70291157171018},\n",
              "  'svenole': {0: -14.676171448312804, 1: -13.604299283042069},\n",
              "  'cinemamade': {0: -14.676171448312804, 1: -14.009764391150235},\n",
              "  'dominican': {0: -12.596729906632968, 1: -12.757001422654866},\n",
              "  'nightmarethe': {0: -13.983024267752858, 1: -14.70291157171018},\n",
              "  'excoriating': {0: -13.983024267752858, 1: -14.70291157171018},\n",
              "  'cosmological': {0: -14.676171448312804, 1: -14.009764391150235},\n",
              "  'alasbr': {0: -13.983024267752858, 1: -13.604299283042069},\n",
              "  'approves': {0: -13.983024267752858, 1: -14.70291157171018},\n",
              "  'nonkid': {0: -13.983024267752858, 1: -14.70291157171018},\n",
              "  'reallykoolidea': {0: -13.983024267752858, 1: -14.70291157171018},\n",
              "  'thomasi': {0: -14.676171448312804, 1: -14.009764391150235},\n",
              "  'parentsbr': {0: -13.066733535878702, 1: -12.911152102482124},\n",
              "  'walmart': {0: -11.210435545513077, 1: -12.137962214248642},\n",
              "  'brieflybr': {0: -13.983024267752858, 1: -14.70291157171018},\n",
              "  'rustler': {0: -13.577559159644695, 1: -13.31661721059029},\n",
              "  'afterbr': {0: -12.596729906632968, 1: -12.757001422654866},\n",
              "  'demystifying': {0: -14.676171448312804, 1: -14.009764391150235},\n",
              "  'potemkin': {0: -14.676171448312804, 1: -13.093473659276079},\n",
              "  'shilton': {0: -14.676171448312804, 1: -13.31661721059029},\n",
              "  'banged': {0: -13.983024267752858, 1: -13.604299283042069},\n",
              "  'nabokovian': {0: -13.983024267752858, 1: -14.70291157171018},\n",
              "  'collorabr': {0: -14.676171448312804, 1: -14.009764391150235},\n",
              "  'duchaussoywho': {0: -13.983024267752858, 1: -14.70291157171018},\n",
              "  'californiaso': {0: -14.676171448312804, 1: -14.009764391150235},\n",
              "  'godmorgan': {0: -14.676171448312804, 1: -14.009764391150235},\n",
              "  'fratboy': {0: -13.577559159644695, 1: -14.009764391150235},\n",
              "  'buffyclone': {0: -13.983024267752858, 1: -14.70291157171018},\n",
              "  'mcgarten': {0: -14.676171448312804, 1: -14.009764391150235},\n",
              "  'moviethat': {0: -13.066733535878702, 1: -14.70291157171018},\n",
              "  'ondemand': {0: -13.577559159644695, 1: -13.604299283042069},\n",
              "  'endingshappy': {0: -14.676171448312804, 1: -14.009764391150235},\n",
              "  'ncis': {0: -13.983024267752858, 1: -14.70291157171018},\n",
              "  'overstayed': {0: -13.577559159644695, 1: -14.70291157171018},\n",
              "  'weakbut': {0: -14.676171448312804, 1: -14.009764391150235},\n",
              "  'tempting': {0: -12.478946870976584, 1: -12.400326478716133},\n",
              "  'laputathe': {0: -14.676171448312804, 1: -14.009764391150235},\n",
              "  'alsoepic': {0: -13.983024267752858, 1: -14.70291157171018},\n",
              "  'drycoff': {0: -14.676171448312804, 1: -14.009764391150235},\n",
              "  'miscalculated': {0: -13.983024267752858, 1: -14.009764391150235},\n",
              "  'heirsbr': {0: -13.577559159644695, 1: -14.009764391150235},\n",
              "  'serbiabr': {0: -13.983024267752858, 1: -14.70291157171018},\n",
              "  'devdas': {0: -14.676171448312804, 1: -13.604299283042069},\n",
              "  'delhi': {0: -13.983024267752858, 1: -12.623470030030344},\n",
              "  'curtailing': {0: -13.983024267752858, 1: -14.70291157171018},\n",
              "  'abstractsurrealparallel': {0: -14.676171448312804, 1: -14.009764391150235},\n",
              "  'eminem': {0: -13.983024267752858, 1: -14.70291157171018},\n",
              "  'georgeann': {0: -14.676171448312804, 1: -14.009764391150235},\n",
              "  'airdad': {0: -13.983024267752858, 1: -14.70291157171018},\n",
              "  'manikin': {0: -13.983024267752858, 1: -14.009764391150235},\n",
              "  'weekthe': {0: -13.983024267752858, 1: -14.70291157171018},\n",
              "  'kammerud': {0: -13.983024267752858, 1: -14.70291157171018},\n",
              "  'position': {0: -10.294144813638923, 1: -9.850881307790562},\n",
              "  'preliterate': {0: -13.983024267752858, 1: -14.70291157171018},\n",
              "  'frizzyhead': {0: -14.676171448312804, 1: -14.009764391150235},\n",
              "  'cheadlebr': {0: -14.676171448312804, 1: -14.009764391150235},\n",
              "  'plateau': {0: -13.289877087192913, 1: -12.911152102482124},\n",
              "  'timejohn': {0: -14.676171448312804, 1: -14.009764391150235},\n",
              "  'moy': {0: -14.676171448312804, 1: -14.009764391150235},\n",
              "  'feinnnes': {0: -13.983024267752858, 1: -14.70291157171018},\n",
              "  'recruiter': {0: -14.676171448312804, 1: -14.009764391150235},\n",
              "  'godfatherbr': {0: -13.577559159644695, 1: -14.009764391150235},\n",
              "  'recurring': {0: -11.968121247210593, 1: -11.611869118351864},\n",
              "  'tripbr': {0: -13.066733535878702, 1: -13.093473659276079},\n",
              "  'barelyhidden': {0: -13.983024267752858, 1: -14.70291157171018},\n",
              "  'method': {0: -10.385712007164413, 1: -9.984412700415085},\n",
              "  'storya': {0: -13.983024267752858, 1: -14.70291157171018},\n",
              "  'lawenforcement': {0: -13.983024267752858, 1: -14.70291157171018},\n",
              "  'irksome': {0: -13.066733535878702, 1: -13.093473659276079},\n",
              "  'arcam': {0: -14.676171448312804, 1: -14.009764391150235},\n",
              "  'spaceconfusing': {0: -13.983024267752858, 1: -14.70291157171018},\n",
              "  'bollock': {0: -13.983024267752858, 1: -14.70291157171018},\n",
              "  'isntoccurrencesbr': {0: -14.676171448312804, 1: -14.009764391150235},\n",
              "  'fortuate': {0: -14.676171448312804, 1: -14.009764391150235},\n",
              "  'grossedout': {0: -13.983024267752858, 1: -14.70291157171018},\n",
              "  'dullness': {0: -12.596729906632968, 1: -13.31661721059029},\n",
              "  'receded': {0: -13.983024267752858, 1: -13.604299283042069},\n",
              "  'dealit': {0: -13.983024267752858, 1: -14.70291157171018},\n",
              "  'lemays': {0: -13.983024267752858, 1: -14.70291157171018},\n",
              "  'waiting': {0: -9.023682268044153, 1: -9.153835486814959},\n",
              "  'bulk': {0: -11.210435545513077, 1: -11.237175668910453},\n",
              "  'physicist': {0: -13.066733535878702, 1: -12.623470030030344},\n",
              "  'toast': {0: -12.037114118697545, 1: -12.400326478716133},\n",
              "  'bluntness': {0: -14.676171448312804, 1: -13.604299283042069},\n",
              "  'sighteven': {0: -13.983024267752858, 1: -14.70291157171018},\n",
              "  'ministry': {0: -12.596729906632968, 1: -12.911152102482124},\n",
              "  'baddy': {0: -13.983024267752858, 1: -14.009764391150235},\n",
              "  'lined': {0: -12.596729906632968, 1: -12.30501629891181},\n",
              "  'leo': {0: -11.3439669381376, 1: -10.426245452694124},\n",
              "  'chakrabortymadhuri': {0: -13.983024267752858, 1: -14.70291157171018},\n",
              "  'postman': {0: -12.88441197908475, 1: -11.484035746841979},\n",
              "  'actionmaybe': {0: -13.983024267752858, 1: -14.70291157171018},\n",
              "  'failurefantasy': {0: -14.676171448312804, 1: -13.604299283042069},\n",
              "  'pining': {0: -13.289877087192913, 1: -12.623470030030344},\n",
              "  'grabby': {0: -13.983024267752858, 1: -14.70291157171018},\n",
              "  'trilling': {0: -12.73026129925749, 1: -14.70291157171018},\n",
              "  'catharthic': {0: -14.676171448312804, 1: -14.009764391150235},\n",
              "  'placerobert': {0: -14.676171448312804, 1: -14.009764391150235},\n",
              "  'upruptly': {0: -14.676171448312804, 1: -14.009764391150235},\n",
              "  'humourous': {0: -13.577559159644695, 1: -13.093473659276079},\n",
              "  'nahbr': {0: -13.983024267752858, 1: -14.70291157171018},\n",
              "  'dionsvengali': {0: -13.983024267752858, 1: -14.70291157171018},\n",
              "  'ectoplasm': {0: -13.983024267752858, 1: -14.70291157171018},\n",
              "  'funclean': {0: -14.676171448312804, 1: -14.009764391150235},\n",
              "  'bene': {0: -14.676171448312804, 1: -14.009764391150235},\n",
              "  'beginningthough': {0: -14.676171448312804, 1: -14.009764391150235},\n",
              "  'anticipationbr': {0: -14.676171448312804, 1: -13.604299283042069},\n",
              "  'goldi': {0: -13.983024267752858, 1: -14.70291157171018},\n",
              "  'thesinger': {0: -13.983024267752858, 1: -14.009764391150235},\n",
              "  'ohsohandsome': {0: -13.983024267752858, 1: -14.70291157171018},\n",
              "  'status': {0: -10.345438108026473, 1: -10.170312078556924},\n",
              "  'mocumentaries': {0: -14.676171448312804, 1: -14.009764391150235},\n",
              "  'motheroftwo': {0: -14.676171448312804, 1: -14.009764391150235},\n",
              "  'warzone': {0: -13.983024267752858, 1: -14.70291157171018},\n",
              "  'drssing': {0: -13.983024267752858, 1: -14.70291157171018},\n",
              "  'unambiguous': {0: -14.676171448312804, 1: -14.009764391150235},\n",
              "  'twicebr': {0: -12.73026129925749, 1: -12.757001422654866},\n",
              "  'askedenosis': {0: -13.983024267752858, 1: -14.70291157171018},\n",
              "  'spotat': {0: -13.983024267752858, 1: -14.70291157171018},\n",
              "  'sparked': {0: -12.73026129925749, 1: -12.757001422654866},\n",
              "  'muni': {0: -12.373586355318757, 1: -11.301714190048024},\n",
              "  'carteris': {0: -14.676171448312804, 1: -14.009764391150235},\n",
              "  'plotsidney': {0: -14.676171448312804, 1: -14.009764391150235},\n",
              "  'softballbaseball': {0: -14.676171448312804, 1: -14.009764391150235},\n",
              "  'mcgregors': {0: -13.983024267752858, 1: -14.70291157171018},\n",
              "  'wiggle': {0: -13.577559159644695, 1: -13.604299283042069},\n",
              "  'strugglethanks': {0: -14.676171448312804, 1: -14.009764391150235},\n",
              "  'convenient': {0: -11.274974066650648, 1: -11.930322849470398},\n",
              "  'coote': {0: -14.676171448312804, 1: -12.911152102482124},\n",
              "  'caans': {0: -13.983024267752858, 1: -14.009764391150235},\n",
              "  'onyx': {0: -14.676171448312804, 1: -14.009764391150235},\n",
              "  'letsuseshittyhorrordvdsforcoffeecoasters': {0: -13.983024267752858,\n",
              "   1: -14.70291157171018},\n",
              "  'bisexuality': {0: -14.676171448312804, 1: -13.604299283042069},\n",
              "  'mouselike': {0: -13.983024267752858, 1: -13.604299283042069},\n",
              "  'laurentis': {0: -14.676171448312804, 1: -14.009764391150235},\n",
              "  'muchand': {0: -13.289877087192913, 1: -14.009764391150235},\n",
              "  'jacked': {0: -13.066733535878702, 1: -13.604299283042069},\n",
              "  'lastplace': {0: -14.676171448312804, 1: -14.009764391150235},\n",
              "  'gratefull': {0: -13.983024267752858, 1: -14.70291157171018},\n",
              "  'shagayu': {0: -14.676171448312804, 1: -14.009764391150235},\n",
              "  'hungarian': {0: -12.111222090851268, 1: -11.611869118351864},\n",
              "  'pycho': {0: -14.676171448312804, 1: -14.009764391150235},\n",
              "  'staggering': {0: -12.111222090851268, 1: -11.869698227653963},\n",
              "  'chowderheads': {0: -13.983024267752858, 1: -14.70291157171018},\n",
              "  'correctional': {0: -13.577559159644695, 1: -12.623470030030344},\n",
              "  'lowsy': {0: -13.983024267752858, 1: -14.70291157171018},\n",
              "  'parson': {0: -10.744345815588478, 1: -11.812539813814015},\n",
              "  'youngberries': {0: -13.577559159644695, 1: -14.70291157171018},\n",
              "  'garron': {0: -13.577559159644695, 1: -14.70291157171018},\n",
              "  'hencebr': {0: -14.676171448312804, 1: -14.009764391150235},\n",
              "  'faq': {0: -14.676171448312804, 1: -14.009764391150235},\n",
              "  'icc': {0: -13.983024267752858, 1: -14.70291157171018},\n",
              "  'taurus': {0: -13.983024267752858, 1: -14.70291157171018},\n",
              "  'unbelieveable': {0: -13.577559159644695, 1: -14.70291157171018},\n",
              "  'sheath': {0: -14.676171448312804, 1: -14.009764391150235},\n",
              "  'millardo': {0: -14.676171448312804, 1: -14.009764391150235},\n",
              "  'thornway': {0: -14.676171448312804, 1: -12.30501629891181},\n",
              "  'roo': {0: -14.676171448312804, 1: -13.093473659276079},\n",
              "  'disagreed': {0: -13.289877087192913, 1: -13.093473659276079},\n",
              "  'speculation': {0: -13.066733535878702, 1: -12.218004921922178},\n",
              "  'dangelobr': {0: -13.983024267752858, 1: -14.70291157171018},\n",
              "  'snorks': {0: -13.983024267752858, 1: -14.70291157171018},\n",
              "  'stefania': {0: -14.676171448312804, 1: -12.911152102482124},\n",
              "  'shredder': {0: -12.373586355318757, 1: -14.70291157171018},\n",
              "  'infantrybr': {0: -14.676171448312804, 1: -14.009764391150235},\n",
              "  'ultraedition': {0: -14.676171448312804, 1: -14.009764391150235},\n",
              "  'garbagebr': {0: -11.418074910291322, 1: -13.093473659276079},\n",
              "  'cityscene': {0: -14.676171448312804, 1: -14.009764391150235},\n",
              "  'ricepaper': {0: -13.289877087192913, 1: -14.70291157171018},\n",
              "  'wwwimdbcom': {0: -13.983024267752858, 1: -14.009764391150235},\n",
              "  'herrape': {0: -14.676171448312804, 1: -14.009764391150235},\n",
              "  'altman': {0: -11.3439669381376, 1: -11.014032117596242},\n",
              "  'insult': {0: -9.255636449040518, 1: -10.85276397000012},\n",
              "  'japanbr': {0: -14.676171448312804, 1: -12.30501629891181},\n",
              "  'bolivian': {0: -13.577559159644695, 1: -12.063854242094921},\n",
              "  'herrmann': {0: -14.676171448312804, 1: -12.757001422654866},\n",
              "  'outavoid': {0: -13.983024267752858, 1: -14.70291157171018},\n",
              "  'veryvery': {0: -13.577559159644695, 1: -13.31661721059029},\n",
              "  'depended': {0: -12.88441197908475, 1: -12.623470030030344},\n",
              "  'agnew': {0: -13.983024267752858, 1: -14.70291157171018},\n",
              "  'americanborn': {0: -13.983024267752858, 1: -13.604299283042069},\n",
              "  'fodder': {0: -11.179663886846324, 1: -12.623470030030344},\n",
              "  'cosette': {0: -12.596729906632968, 1: -14.70291157171018},\n",
              "  'sneaking': {0: -12.037114118697545, 1: -11.99486137060797},\n",
              "  'sweaterhairy': {0: -13.983024267752858, 1: -14.70291157171018},\n",
              "  'objectivefair': {0: -14.676171448312804, 1: -14.009764391150235},\n",
              "  'tut': {0: -13.577559159644695, 1: -14.70291157171018},\n",
              "  'exploitationmonster': {0: -13.577559159644695, 1: -14.70291157171018},\n",
              "  'revengethemed': {0: -14.676171448312804, 1: -14.009764391150235},\n",
              "  'rossilinis': {0: -13.983024267752858, 1: -14.70291157171018},\n",
              "  'thankyous': {0: -13.983024267752858, 1: -14.70291157171018},\n",
              "  'upstaged': {0: -12.596729906632968, 1: -14.009764391150235},\n",
              "  'selfcaricatures': {0: -13.983024267752858, 1: -14.70291157171018},\n",
              "  'baudelaire': {0: -14.676171448312804, 1: -13.31661721059029},\n",
              "  'description': {0: -10.187535078580664, 1: -10.097741385722088},\n",
              "  'lessened': {0: -13.066733535878702, 1: -13.093473659276079},\n",
              "  'factualbr': {0: -13.983024267752858, 1: -14.70291157171018},\n",
              "  'ballentines': {0: -14.676171448312804, 1: -14.009764391150235},\n",
              "  'exvaudeville': {0: -14.676171448312804, 1: -14.009764391150235},\n",
              "  'exmilitary': {0: -13.066733535878702, 1: -13.31661721059029},\n",
              "  'lustlike': {0: -14.676171448312804, 1: -14.009764391150235},\n",
              "  'yat': {0: -14.676171448312804, 1: -14.009764391150235},\n",
              "  'medicated': {0: -13.066733535878702, 1: -14.70291157171018},\n",
              "  'utilized': {0: -11.842958104256587, 1: -12.137962214248642},\n",
              "  'bettermade': {0: -13.983024267752858, 1: -14.70291157171018},\n",
              "  'usaf': {0: -13.577559159644695, 1: -14.009764391150235},\n",
              "  'vercetti': {0: -13.983024267752858, 1: -14.70291157171018},\n",
              "  'girlmeetsboy': {0: -13.983024267752858, 1: -14.70291157171018},\n",
              "  'creativity': {0: -10.891981814394542, 1: -10.989339505005871},\n",
              "  'multiethnical': {0: -13.983024267752858, 1: -14.70291157171018},\n",
              "  'ironyit': {0: -13.983024267752858, 1: -14.70291157171018},\n",
              "  'macbeth': {0: -12.278276175514433, 1: -11.56741735578103},\n",
              "  'progeny': {0: -13.577559159644695, 1: -13.31661721059029},\n",
              "  'cliffbr': {0: -14.676171448312804, 1: -14.009764391150235},\n",
              "  'retch': {0: -13.983024267752858, 1: -13.604299283042069},\n",
              "  'arrowsas': {0: -13.983024267752858, 1: -14.70291157171018},\n",
              "  'stewarteven': {0: -13.983024267752858, 1: -14.70291157171018},\n",
              "  'rashid': {0: -13.577559159644695, 1: -13.093473659276079},\n",
              "  'booktofilm': {0: -13.983024267752858, 1: -14.70291157171018},\n",
              "  'starkers': {0: -13.983024267752858, 1: -14.70291157171018},\n",
              "  'escapebr': {0: -13.983024267752858, 1: -12.50568699437396},\n",
              "  'rationalebr': {0: -14.676171448312804, 1: -14.009764391150235},\n",
              "  'fot': {0: -13.983024267752858, 1: -14.009764391150235},\n",
              "  'prioritized': {0: -13.983024267752858, 1: -14.009764391150235},\n",
              "  'esoterically': {0: -14.676171448312804, 1: -13.604299283042069},\n",
              "  'accidentdeath': {0: -13.983024267752858, 1: -14.70291157171018},\n",
              "  'leslieanne': {0: -13.983024267752858, 1: -14.70291157171018},\n",
              "  'carbut': {0: -13.983024267752858, 1: -14.70291157171018},\n",
              "  'witney': {0: -13.983024267752858, 1: -13.093473659276079},\n",
              "  'catalan': {0: -13.066733535878702, 1: -14.009764391150235},\n",
              "  'opponentsbr': {0: -14.676171448312804, 1: -14.009764391150235},\n",
              "  'quit': {0: -10.847530051823709, 1: -11.091993659065954},\n",
              "  'conkling': {0: -14.676171448312804, 1: -14.009764391150235},\n",
              "  'sandersjamie': {0: -14.676171448312804, 1: -14.009764391150235},\n",
              "  'harnessing': {0: -13.983024267752858, 1: -14.009764391150235},\n",
              "  'gothe': {0: -14.676171448312804, 1: -14.009764391150235},\n",
              "  'gogool': {0: -14.676171448312804, 1: -14.009764391150235},\n",
              "  'leftistcommunist': {0: -13.983024267752858, 1: -14.70291157171018},\n",
              "  'imprest': {0: -14.676171448312804, 1: -13.604299283042069},\n",
              "  'deadpool': {0: -13.289877087192913, 1: -14.009764391150235},\n",
              "  'selfrespecting': {0: -12.111222090851268, 1: -13.604299283042069},\n",
              "  'caterpillar': {0: -13.289877087192913, 1: -13.31661721059029},\n",
              "  'yeasty': {0: -13.983024267752858, 1: -14.70291157171018},\n",
              "  'theybut': {0: -14.676171448312804, 1: -14.009764391150235},\n",
              "  'martineau': {0: -14.676171448312804, 1: -14.009764391150235},\n",
              "  'hobbesian': {0: -14.676171448312804, 1: -14.009764391150235},\n",
              "  'combinedbr': {0: -13.066733535878702, 1: -13.31661721059029},\n",
              "  'rehab': {0: -12.596729906632968, 1: -12.911152102482124},\n",
              "  'unfitting': {0: -13.577559159644695, 1: -14.009764391150235},\n",
              "  'xavier': {0: -12.73026129925749, 1: -14.009764391150235},\n",
              "  'jawab': {0: -13.983024267752858, 1: -14.70291157171018},\n",
              "  'erawhich': {0: -14.676171448312804, 1: -14.009764391150235},\n",
              "  'skinniest': {0: -13.983024267752858, 1: -14.70291157171018},\n",
              "  'stallonebr': {0: -13.983024267752858, 1: -14.70291157171018},\n",
              "  'nough': {0: -13.983024267752858, 1: -14.70291157171018},\n",
              "  'selfimage': {0: -13.983024267752858, 1: -14.009764391150235},\n",
              "  'excelsbr': {0: -14.676171448312804, 1: -14.009764391150235},\n",
              "  'jethro': {0: -12.88441197908475, 1: -14.70291157171018},\n",
              "  'buffeted': {0: -14.676171448312804, 1: -14.009764391150235},\n",
              "  'workbr': {0: -10.784351150202177, 1: -10.62537412780446},\n",
              "  'alan': {0: -9.855889882707766, 1: -9.346325297038167},\n",
              "  'paraphrasing': {0: -12.88441197908475, 1: -12.911152102482124},\n",
              "  'tipped': {0: -13.066733535878702, 1: -13.093473659276079},\n",
              "  'welldressed': {0: -13.577559159644695, 1: -13.604299283042069},\n",
              "  'squeakytoy': {0: -13.983024267752858, 1: -14.70291157171018},\n",
              "  'confront': {0: -11.540677232383654, 1: -11.039349925580533},\n",
              "  'optimismbr': {0: -14.676171448312804, 1: -14.009764391150235},\n",
              "  'serrault': {0: -13.983024267752858, 1: -12.400326478716133},\n",
              "  'nordham': {0: -13.983024267752858, 1: -14.70291157171018},\n",
              "  'wildhearted': {0: -14.676171448312804, 1: -14.009764391150235},\n",
              "  'ckco': {0: -13.983024267752858, 1: -14.70291157171018},\n",
              "  'schfrin': {0: -14.676171448312804, 1: -14.009764391150235},\n",
              "  'crosscutting': {0: -13.983024267752858, 1: -12.911152102482124},\n",
              "  'extremelylarge': {0: -13.983024267752858, 1: -14.70291157171018},\n",
              "  'waswell': {0: -13.983024267752858, 1: -14.70291157171018},\n",
              "  'gatling': {0: -14.676171448312804, 1: -14.009764391150235},\n",
              "  'radely': {0: -13.983024267752858, 1: -14.70291157171018},\n",
              "  'disassembled': {0: -13.983024267752858, 1: -14.70291157171018},\n",
              "  'equitable': {0: -14.676171448312804, 1: -14.009764391150235},\n",
              "  'brunt': {0: -12.73026129925749, 1: -13.31661721059029},\n",
              "  'pathar': {0: -14.676171448312804, 1: -14.009764391150235},\n",
              "  'liesgandhi': {0: -14.676171448312804, 1: -14.009764391150235},\n",
              "  'unappreciative': {0: -13.577559159644695, 1: -13.604299283042069},\n",
              "  'rotgut': {0: -13.983024267752858, 1: -14.70291157171018},\n",
              "  'handed': {0: -10.565297584139492, 1: -11.147563510220765},\n",
              "  'korsmo': {0: -14.676171448312804, 1: -12.757001422654866},\n",
              "  'outfoxes': {0: -14.676171448312804, 1: -14.009764391150235},\n",
              "  'abominibal': {0: -13.983024267752858, 1: -14.70291157171018},\n",
              "  'ovas': {0: -14.676171448312804, 1: -13.604299283042069},\n",
              "  'availability': {0: -13.983024267752858, 1: -12.623470030030344},\n",
              "  'bucatinskys': {0: -13.983024267752858, 1: -14.70291157171018},\n",
              "  'bonet': {0: -14.676171448312804, 1: -14.009764391150235},\n",
              "  'mindteasing': {0: -13.983024267752858, 1: -14.70291157171018},\n",
              "  'thenthe': {0: -14.676171448312804, 1: -14.009764391150235},\n",
              "  'spastically': {0: -14.676171448312804, 1: -14.009764391150235},\n",
              "  'gunslingerbr': {0: -14.676171448312804, 1: -14.009764391150235},\n",
              "  'endif': {0: -14.676171448312804, 1: -14.009764391150235},\n",
              "  'zapp': {0: -14.676171448312804, 1: -14.009764391150235},\n",
              "  'moberg': {0: -14.676171448312804, 1: -14.009764391150235},\n",
              "  'disapproves': {0: -13.066733535878702, 1: -14.009764391150235},\n",
              "  'simmer': {0: -13.983024267752858, 1: -13.604299283042069},\n",
              "  'legitimate': {0: -11.210435545513077, 1: -11.56741735578103},\n",
              "  'onit': {0: -13.983024267752858, 1: -14.70291157171018},\n",
              "  'beardyaragorn': {0: -14.676171448312804, 1: -14.009764391150235},\n",
              "  'leper': {0: -13.577559159644695, 1: -14.70291157171018},\n",
              "  'whereupon': {0: -13.577559159644695, 1: -13.093473659276079},\n",
              "  'agrawal': {0: -13.577559159644695, 1: -14.70291157171018},\n",
              "  'bamboozled': {0: -13.066733535878702, 1: -13.604299283042069},\n",
              "  'confab': {0: -14.676171448312804, 1: -14.009764391150235},\n",
              "  'marksman': {0: -13.577559159644695, 1: -14.70291157171018},\n",
              "  'crennafirst': {0: -14.676171448312804, 1: -14.009764391150235},\n",
              "  'experience': {0: -8.551488057418599, 1: -8.097613650761977},\n",
              "  'densest': {0: -14.676171448312804, 1: -14.009764391150235},\n",
              "  'animalswe': {0: -14.676171448312804, 1: -14.009764391150235},\n",
              "  'sweet': {0: -9.706358148736802, 1: -8.684318357213945},\n",
              "  'filmsaying': {0: -13.983024267752858, 1: -14.70291157171018},\n",
              "  'transplanting': {0: -13.577559159644695, 1: -13.31661721059029},\n",
              "  'reasonthen': {0: -13.983024267752858, 1: -14.70291157171018},\n",
              "  'accomplish': {0: -11.179663886846324, 1: -10.96524195342681},\n",
              "  'petronius': {0: -13.577559159644695, 1: -14.009764391150235},\n",
              "  'kand': {0: -13.983024267752858, 1: -14.70291157171018},\n",
              "  'ambitiousin': {0: -14.676171448312804, 1: -14.009764391150235},\n",
              "  'sky': {0: -9.931239319949553, 1: -9.3002341898379},\n",
              "  'schemeand': {0: -13.983024267752858, 1: -14.70291157171018},\n",
              "  'sufice': {0: -14.676171448312804, 1: -14.009764391150235},\n",
              "  'teff': {0: -13.983024267752858, 1: -14.70291157171018},\n",
              "  'voight': {0: -12.191264798524804, 1: -10.21427520197804},\n",
              "  'addled': {0: -13.289877087192913, 1: -14.009764391150235},\n",
              "  'ardant': {0: -14.676171448312804, 1: -13.31661721059029},\n",
              "  'hirohisa': {0: -13.983024267752858, 1: -14.70291157171018},\n",
              "  'sim': {0: -12.73026129925749, 1: -12.50568699437396},\n",
              "  'directional': {0: -13.983024267752858, 1: -14.009764391150235},\n",
              "  'gapers': {0: -14.676171448312804, 1: -14.009764391150235},\n",
              "  'breadbasketin': {0: -13.983024267752858, 1: -14.70291157171018},\n",
              "  'involvedbr': {0: -12.278276175514433, 1: -12.623470030030344},\n",
              "  'bouncier': {0: -13.983024267752858, 1: -14.70291157171018},\n",
              "  'americanbr': {0: -13.983024267752858, 1: -13.604299283042069},\n",
              "  'croatiaand': {0: -13.983024267752858, 1: -14.70291157171018},\n",
              "  'overenthusiastic': {0: -13.289877087192913, 1: -14.009764391150235},\n",
              "  'kdos': {0: -14.676171448312804, 1: -14.009764391150235},\n",
              "  'randomlybr': {0: -13.577559159644695, 1: -14.70291157171018},\n",
              "  'caffeys': {0: -14.676171448312804, 1: -14.009764391150235},\n",
              "  'padruigtheelder': {0: -14.676171448312804, 1: -14.009764391150235},\n",
              "  'unger': {0: -13.066733535878702, 1: -12.137962214248642},\n",
              "  'madefortvlook': {0: -14.676171448312804, 1: -14.009764391150235},\n",
              "  'angelus': {0: -14.676171448312804, 1: -14.009764391150235},\n",
              "  'poisoning': {0: -13.577559159644695, 1: -12.400326478716133},\n",
              "  'isbeyond': {0: -13.983024267752858, 1: -14.70291157171018},\n",
              "  'initial': {0: -10.101460469809421, 1: -9.949321380603815},\n",
              "  'debasement': {0: -13.577559159644695, 1: -13.604299283042069},\n",
              "  'tattered': {0: -13.289877087192913, 1: -12.911152102482124},\n",
              "  'amateurishness': {0: -12.73026129925749, 1: -14.70291157171018},\n",
              "  'enslaved': {0: -13.066733535878702, 1: -12.623470030030344},\n",
              "  'baingives': {0: -13.983024267752858, 1: -14.70291157171018},\n",
              "  'verbal': {0: -11.785799690416638, 1: -11.176551047094017},\n",
              "  'ily': {0: -14.676171448312804, 1: -14.009764391150235},\n",
              "  'uncontrollablebr': {0: -13.983024267752858, 1: -14.009764391150235},\n",
              "  'enlisting': {0: -14.676171448312804, 1: -12.757001422654866},\n",
              "  'scalp': {0: -13.577559159644695, 1: -13.604299283042069},\n",
              "  'toobut': {0: -14.676171448312804, 1: -13.093473659276079},\n",
              "  'obsession': {0: -10.385712007164413, 1: -10.097741385722088},\n",
              "  'pffffft': {0: -13.983024267752858, 1: -14.70291157171018},\n",
              "  'yeari': {0: -14.676171448312804, 1: -13.604299283042069},\n",
              "  'methis': {0: -13.577559159644695, 1: -13.093473659276079},\n",
              "  'scences': {0: -14.676171448312804, 1: -14.009764391150235},\n",
              "  'artfully': {0: -12.73026129925749, 1: -12.757001422654866},\n",
              "  'fourcount': {0: -14.676171448312804, 1: -14.009764391150235},\n",
              "  'makeupwhich': {0: -14.676171448312804, 1: -14.009764391150235},\n",
              "  'poetic': {0: -11.457295623444603, 1: -10.498218952319213},\n",
              "  'relativebr': {0: -14.676171448312804, 1: -14.009764391150235},\n",
              "  'barbarismbr': {0: -14.676171448312804, 1: -14.009764391150235},\n",
              "  'vowel': {0: -13.983024267752858, 1: -14.70291157171018},\n",
              "  'buena': {0: -13.577559159644695, 1: -14.009764391150235},\n",
              "  'fishoutthewater': {0: -14.676171448312804, 1: -14.009764391150235},\n",
              "  'dichotomy': {0: -13.066733535878702, 1: -12.623470030030344},\n",
              "  'franzthe': {0: -13.983024267752858, 1: -14.70291157171018},\n",
              "  'indefatigable': {0: -14.676171448312804, 1: -13.31661721059029},\n",
              "  'neutron': {0: -13.983024267752858, 1: -14.70291157171018},\n",
              "  'embodiment': {0: -12.478946870976584, 1: -12.400326478716133},\n",
              "  'youespecially': {0: -14.676171448312804, 1: -14.009764391150235},\n",
              "  'strainbr': {0: -14.676171448312804, 1: -14.009764391150235},\n",
              "  'kittenishly': {0: -14.676171448312804, 1: -14.009764391150235},\n",
              "  'bleating': {0: -13.983024267752858, 1: -14.70291157171018},\n",
              "  'brimley': {0: -13.577559159644695, 1: -12.623470030030344},\n",
              "  'lennui': {0: -13.983024267752858, 1: -14.70291157171018},\n",
              "  'hurtsbr': {0: -13.577559159644695, 1: -14.009764391150235},\n",
              "  'morebecause': {0: -14.676171448312804, 1: -14.009764391150235},\n",
              "  'lightfootcool': {0: -13.983024267752858, 1: -14.70291157171018},\n",
              "  'offworld': {0: -14.676171448312804, 1: -13.604299283042069},\n",
              "  'poortroubled': {0: -14.676171448312804, 1: -14.009764391150235},\n",
              "  'dropoff': {0: -14.676171448312804, 1: -14.009764391150235},\n",
              "  'akane': {0: -14.676171448312804, 1: -12.623470030030344},\n",
              "  'hokeyparticularly': {0: -14.676171448312804, 1: -14.009764391150235},\n",
              "  'auteil': {0: -13.983024267752858, 1: -14.009764391150235},\n",
              "  'infidel': {0: -13.983024267752858, 1: -14.70291157171018},\n",
              "  'kashakims': {0: -13.066733535878702, 1: -14.70291157171018},\n",
              "  'albatross': {0: -14.676171448312804, 1: -14.009764391150235},\n",
              "  'bullshot': {0: -14.676171448312804, 1: -14.009764391150235},\n",
              "  'acomplication': {0: -14.676171448312804, 1: -14.009764391150235},\n",
              "  'votesbr': {0: -14.676171448312804, 1: -13.604299283042069},\n",
              "  'envirojudgementalismbr': {0: -13.983024267752858, 1: -14.70291157171018},\n",
              "  'geometrical': {0: -13.983024267752858, 1: -12.911152102482124},\n",
              "  'diem': {0: -13.577559159644695, 1: -14.70291157171018},\n",
              "  'underway': {0: -12.596729906632968, 1: -12.911152102482124},\n",
              "  'screeneven': {0: -13.983024267752858, 1: -14.70291157171018},\n",
              "  'varietybr': {0: -13.983024267752858, 1: -13.604299283042069},\n",
              "  'hrpuffinstuff': {0: -14.676171448312804, 1: -13.604299283042069},\n",
              "  'anywayin': {0: -13.983024267752858, 1: -14.70291157171018},\n",
              "  'trueconsidering': {0: -14.676171448312804, 1: -14.009764391150235},\n",
              "  'itemsbr': {0: -13.289877087192913, 1: -14.70291157171018},\n",
              "  'yin': {0: -14.676171448312804, 1: -12.50568699437396},\n",
              "  'milne': {0: -13.577559159644695, 1: -14.70291157171018},\n",
              "  'crispian': {0: -14.676171448312804, 1: -14.009764391150235},\n",
              "  'durga': {0: -13.577559159644695, 1: -14.70291157171018},\n",
              "  'fictionalized': {0: -12.73026129925749, 1: -12.218004921922178},\n",
              "  'lehrman': {0: -13.983024267752858, 1: -14.70291157171018},\n",
              "  'killbr': {0: -13.577559159644695, 1: -13.604299283042069},\n",
              "  'monkeydrug': {0: -14.676171448312804, 1: -14.009764391150235},\n",
              "  'execrated': {0: -13.983024267752858, 1: -14.70291157171018},\n",
              "  'diarybr': {0: -14.676171448312804, 1: -14.009764391150235},\n",
              "  'deforest': {0: -14.676171448312804, 1: -14.009764391150235},\n",
              "  'sexed': {0: -13.289877087192913, 1: -12.757001422654866},\n",
              "  'herselfshe': {0: -14.676171448312804, 1: -14.009764391150235},\n",
              "  'backsbr': {0: -14.676171448312804, 1: -14.009764391150235},\n",
              "  'spaceybr': {0: -14.676171448312804, 1: -14.009764391150235},\n",
              "  'beneficence': {0: -13.983024267752858, 1: -14.009764391150235},\n",
              "  'bestialityassault': {0: -14.676171448312804, 1: -14.009764391150235},\n",
              "  'botching': {0: -13.983024267752858, 1: -14.009764391150235},\n",
              "  'mena': {0: -13.066733535878702, 1: -14.70291157171018},\n",
              "  'enjoied': {0: -14.676171448312804, 1: -14.009764391150235},\n",
              "  'beyonces': {0: -13.577559159644695, 1: -14.70291157171018},\n",
              "  'perryhas': {0: -13.983024267752858, 1: -14.70291157171018},\n",
              "  'lengthybr': {0: -13.983024267752858, 1: -14.70291157171018},\n",
              "  'refractive': {0: -13.983024267752858, 1: -14.70291157171018},\n",
              "  'genderrelated': {0: -14.676171448312804, 1: -14.009764391150235},\n",
              "  'mateo': {0: -13.577559159644695, 1: -14.70291157171018},\n",
              "  'maiko': {0: -13.577559159644695, 1: -14.70291157171018},\n",
              "  'selfmutilationcrucifixion': {0: -14.676171448312804,\n",
              "   1: -14.009764391150235},\n",
              "  'rating': {0: -8.267642657253305, 1: -8.604837289543939},\n",
              "  'mass': {0: -10.012732354200736, 1: -9.898890526976922},\n",
              "  'semetary': {0: -13.577559159644695, 1: -13.604299283042069},\n",
              "  'alsoif': {0: -13.983024267752858, 1: -14.70291157171018},\n",
              "  'machatys': {0: -14.676171448312804, 1: -14.009764391150235},\n",
              "  'choochoo': {0: -14.676171448312804, 1: -14.009764391150235},\n",
              "  'movieprobably': {0: -14.676171448312804, 1: -14.009764391150235},\n",
              "  'temperememt': {0: -13.983024267752858, 1: -14.70291157171018},\n",
              "  'satin': {0: -13.577559159644695, 1: -13.093473659276079},\n",
              "  'tempts': {0: -13.983024267752858, 1: -12.757001422654866},\n",
              "  'pruning': {0: -13.983024267752858, 1: -13.604299283042069},\n",
              "  'nottoooverly': {0: -14.676171448312804, 1: -14.009764391150235},\n",
              "  'vast': {0: -10.938501830029436, 1: -10.608567009488079},\n",
              "  'bargain': {0: -10.650819757577654, 1: -11.707179298156188},\n",
              "  'sexploitational': {0: -13.983024267752858, 1: -14.70291157171018},\n",
              "  'iithe': {0: -13.577559159644695, 1: -14.70291157171018},\n",
              "  'stoically': {0: -13.983024267752858, 1: -13.604299283042069},\n",
              "  'shivery': {0: -14.676171448312804, 1: -13.604299283042069},\n",
              "  'alwaysgood': {0: -14.676171448312804, 1: -14.009764391150235},\n",
              "  'woooooow': {0: -13.983024267752858, 1: -14.70291157171018},\n",
              "  'midsolo': {0: -14.676171448312804, 1: -14.009764391150235},\n",
              "  'winder': {0: -14.676171448312804, 1: -14.009764391150235},\n",
              "  'bemused': {0: -12.111222090851268, 1: -12.400326478716133},\n",
              "  'delle': {0: -14.676171448312804, 1: -14.009764391150235},\n",
              "  'tyrannus': {0: -12.73026129925749, 1: -13.604299283042069},\n",
              "  'crump': {0: -14.676171448312804, 1: -13.604299283042069},\n",
              "  'metoos': {0: -14.676171448312804, 1: -14.009764391150235},\n",
              "  'donethis': {0: -14.676171448312804, 1: -14.009764391150235},\n",
              "  'forgottheyre': {0: -13.983024267752858, 1: -14.70291157171018},\n",
              "  'freeloader': {0: -13.983024267752858, 1: -13.604299283042069},\n",
              "  'luster': {0: -12.88441197908475, 1: -12.911152102482124},\n",
              "  'blatantly': {0: -10.744345815588478, 1: -11.812539813814015},\n",
              "  'dirtybr': {0: -13.577559159644695, 1: -14.70291157171018},\n",
              "  'quake': {0: -13.983024267752858, 1: -13.604299283042069},\n",
              "  'gravedancerstooth': {0: -13.983024267752858, 1: -14.70291157171018},\n",
              "  'killermonster': {0: -13.983024267752858, 1: -14.70291157171018},\n",
              "  'hightlights': {0: -13.983024267752858, 1: -14.70291157171018},\n",
              "  'classifies': {0: -14.676171448312804, 1: -14.009764391150235},\n",
              "  'mard': {0: -12.373586355318757, 1: -14.70291157171018},\n",
              "  'coz': {0: -12.478946870976584, 1: -12.911152102482124},\n",
              "  'dureyea': {0: -14.676171448312804, 1: -14.009764391150235},\n",
              "  'advertisementsbr': {0: -13.983024267752858, 1: -14.009764391150235},\n",
              "  'stuccoed': {0: -13.983024267752858, 1: -14.70291157171018},\n",
              "  'marshbr': {0: -13.983024267752858, 1: -14.70291157171018},\n",
              "  'dentro': {0: -13.983024267752858, 1: -14.70291157171018},\n",
              "  'skewered': {0: -13.289877087192913, 1: -13.604299283042069},\n",
              "  'caffari': {0: -13.577559159644695, 1: -14.70291157171018},\n",
              "  'corp': {0: -13.289877087192913, 1: -11.869698227653963},\n",
              "  'filmgoer': {0: -13.289877087192913, 1: -13.31661721059029},\n",
              "  'councellor': {0: -13.983024267752858, 1: -13.604299283042069},\n",
              "  'sharpes': {0: -14.676171448312804, 1: -14.009764391150235},\n",
              "  'onlyanywaythe': {0: -13.983024267752858, 1: -14.70291157171018},\n",
              "  'winfield': {0: -13.577559159644695, 1: -12.30501629891181},\n",
              "  'labeoufs': {0: -13.983024267752858, 1: -14.70291157171018},\n",
              "  'shor': {0: -14.676171448312804, 1: -14.009764391150235},\n",
              "  'outpacing': {0: -13.983024267752858, 1: -14.70291157171018},\n",
              "  'forcesbr': {0: -12.88441197908475, 1: -14.009764391150235},\n",
              "  'chushingura': {0: -13.983024267752858, 1: -14.70291157171018},\n",
              "  'countrywestern': {0: -14.676171448312804, 1: -13.604299283042069},\n",
              "  'isshes': {0: -14.676171448312804, 1: -14.009764391150235},\n",
              "  'admiring': {0: -12.478946870976584, 1: -12.50568699437396},\n",
              "  'photographed': {0: -10.847530051823709, 1: -10.385423458173868},\n",
              "  'awfulnessbr': {0: -12.88441197908475, 1: -14.70291157171018},\n",
              "  'axmurderer': {0: -13.983024267752858, 1: -14.70291157171018},\n",
              "  'psychosexually': {0: -14.676171448312804, 1: -14.009764391150235},\n",
              "  'gunnarsons': {0: -14.676171448312804, 1: -14.009764391150235},\n",
              "  'benatatos': {0: -14.676171448312804, 1: -14.009764391150235},\n",
              "  'soundstage': {0: -12.191264798524804, 1: -13.604299283042069},\n",
              "  'schoollevel': {0: -13.577559159644695, 1: -14.70291157171018},\n",
              "  'pointi': {0: -14.676171448312804, 1: -14.009764391150235},\n",
              "  'hilaritywhere': {0: -14.676171448312804, 1: -14.009764391150235},\n",
              "  'buddybr': {0: -13.577559159644695, 1: -14.70291157171018},\n",
              "  'unhappier': {0: -14.676171448312804, 1: -14.009764391150235},\n",
              "  'widens': {0: -13.577559159644695, 1: -14.009764391150235},\n",
              "  'hopewell': {0: -14.676171448312804, 1: -14.009764391150235},\n",
              "  'etcand': {0: -13.983024267752858, 1: -13.31661721059029},\n",
              "  'moviehmmm': {0: -14.676171448312804, 1: -14.009764391150235},\n",
              "  'curitz': {0: -14.676171448312804, 1: -14.009764391150235},\n",
              "  'superplanes': {0: -14.676171448312804, 1: -14.009764391150235},\n",
              "  'throughcheek': {0: -14.676171448312804, 1: -14.009764391150235},\n",
              "  'everyday': {0: -10.962599381608495, 1: -9.858724485251589},\n",
              "  'sabina': {0: -12.478946870976584, 1: -14.70291157171018},\n",
              "  'admittance': {0: -13.066733535878702, 1: -14.009764391150235},\n",
              "  'odds': {0: -11.012609802183157, 1: -10.544028488350508},\n",
              "  'offthewall': {0: -12.478946870976584, 1: -12.50568699437396},\n",
              "  'injustise': {0: -13.983024267752858, 1: -14.70291157171018},\n",
              "  'baseslike': {0: -14.676171448312804, 1: -14.009764391150235},\n",
              "  'capacity': {0: -11.731732469146364, 1: -11.176551047094017},\n",
              "  'traudl': {0: -13.983024267752858, 1: -13.093473659276079},\n",
              "  'superimpose': {0: -13.289877087192913, 1: -14.70291157171018},\n",
              "  'rodr': {0: -13.577559159644695, 1: -14.70291157171018},\n",
              "  'deservessoafter': {0: -13.983024267752858, 1: -14.70291157171018},\n",
              "  'continentbr': {0: -14.676171448312804, 1: -14.009764391150235},\n",
              "  'geoffery': {0: -14.676171448312804, 1: -14.009764391150235},\n",
              "  'romancecomedybr': {0: -14.676171448312804, 1: -13.604299283042069},\n",
              "  'bowery': {0: -13.289877087192913, 1: -12.30501629891181},\n",
              "  'revue': {0: -12.596729906632968, 1: -12.063854242094921},\n",
              "  'bong': {0: -14.676171448312804, 1: -13.31661721059029},\n",
              "  'eleven': {0: -11.842958104256587, 1: -10.89624908193986},\n",
              "  'embankment': {0: -13.983024267752858, 1: -14.70291157171018},\n",
              "  'skywriting': {0: -13.983024267752858, 1: -14.70291157171018},\n",
              "  'tonesubsequent': {0: -14.676171448312804, 1: -14.009764391150235},\n",
              "  'retorted': {0: -14.676171448312804, 1: -14.009764391150235},\n",
              "  'tarring': {0: -14.676171448312804, 1: -14.009764391150235},\n",
              "  'lowpriced': {0: -13.983024267752858, 1: -14.009764391150235},\n",
              "  'rml': {0: -14.676171448312804, 1: -14.009764391150235},\n",
              "  'soulprovoking': {0: -14.676171448312804, 1: -14.009764391150235},\n",
              "  'malldowntown': {0: -14.676171448312804, 1: -14.009764391150235},\n",
              "  'eltonsmith': {0: -13.983024267752858, 1: -14.70291157171018},\n",
              "  'monsterit': {0: -13.983024267752858, 1: -14.70291157171018},\n",
              "  'fragrant': {0: -14.676171448312804, 1: -13.604299283042069},\n",
              "  'nirmal': {0: -13.577559159644695, 1: -14.70291157171018},\n",
              "  'farrahfawcett': {0: -14.676171448312804, 1: -14.009764391150235},\n",
              "  'unartsybr': {0: -14.676171448312804, 1: -14.009764391150235},\n",
              "  'wordsstephen': {0: -13.983024267752858, 1: -14.70291157171018},\n",
              "  'subnormal': {0: -13.983024267752858, 1: -14.70291157171018},\n",
              "  'newspaper': {0: -10.549037063267711, 1: -10.359106149856496},\n",
              "  'dentistry': {0: -14.676171448312804, 1: -12.911152102482124},\n",
              "  'hairbrained': {0: -13.289877087192913, 1: -13.604299283042069},\n",
              "  'detectivecrusader': {0: -14.676171448312804, 1: -14.009764391150235},\n",
              "  'gieldgud': {0: -14.676171448312804, 1: -14.009764391150235},\n",
              "  'oregon': {0: -12.373586355318757, 1: -12.50568699437396},\n",
              "  'askeygander': {0: -14.676171448312804, 1: -14.009764391150235},\n",
              "  'shannyn': {0: -13.066733535878702, 1: -14.70291157171018},\n",
              "  'kleptomaniac': {0: -13.577559159644695, 1: -13.31661721059029},\n",
              "  'unstylized': {0: -14.676171448312804, 1: -14.009764391150235},\n",
              "  'favelas': {0: -13.983024267752858, 1: -14.70291157171018},\n",
              "  'daughtergoingto': {0: -14.676171448312804, 1: -14.009764391150235},\n",
              "  'manet': {0: -14.676171448312804, 1: -13.604299283042069},\n",
              "  'harriets': {0: -14.676171448312804, 1: -14.009764391150235},\n",
              "  'mega': {0: -12.111222090851268, 1: -12.623470030030344},\n",
              "  'semieerie': {0: -13.983024267752858, 1: -14.70291157171018},\n",
              "  'rickman': {0: -12.73026129925749, 1: -14.70291157171018},\n",
              "  'misnomerit': {0: -14.676171448312804, 1: -14.009764391150235},\n",
              "  'upper': {0: -10.869508958542484, 1: -10.483403866534072},\n",
              "  'mifune': {0: -13.066733535878702, 1: -13.604299283042069},\n",
              "  'predominantly': {0: -12.596729906632968, 1: -12.757001422654866},\n",
              "  'phdpretty': {0: -13.983024267752858, 1: -14.70291157171018},\n",
              "  'chevy': {0: -11.540677232383654, 1: -11.99486137060797},\n",
              "  'nostalgiaquite': {0: -13.983024267752858, 1: -14.70291157171018},\n",
              "  'corcoran': {0: -13.577559159644695, 1: -14.009764391150235},\n",
              "  'sellerbr': {0: -13.983024267752858, 1: -14.009764391150235},\n",
              "  'filmeddie': {0: -14.676171448312804, 1: -14.009764391150235},\n",
              "  'tron': {0: -13.289877087192913, 1: -13.604299283042069},\n",
              "  'involvement': {0: -10.668838263080332, 1: -10.64246856116376},\n",
              "  'predictablebr': {0: -12.278276175514433, 1: -13.093473659276079},\n",
              "  'endangered': {0: -13.577559159644695, 1: -12.757001422654866},\n",
              "  'blast': {0: -10.847530051823709, 1: -10.811091273599553},\n",
              "  'tamura': {0: -14.676171448312804, 1: -14.009764391150235},\n",
              "  'lowpoints': {0: -13.983024267752858, 1: -14.70291157171018},\n",
              "  'catstyle': {0: -14.676171448312804, 1: -14.009764391150235},\n",
              "  'sthouse': {0: -13.983024267752858, 1: -14.70291157171018},\n",
              "  'weidstraughan': {0: -14.676171448312804, 1: -14.009764391150235},\n",
              "  'incestwithout': {0: -14.676171448312804, 1: -14.009764391150235},\n",
              "  'havethat': {0: -13.983024267752858, 1: -14.70291157171018},\n",
              "  'witten': {0: -13.983024267752858, 1: -14.70291157171018},\n",
              "  'nude': {0: -10.012732354200736, 1: -10.203101901379915},\n",
              "  'himwhere': {0: -13.983024267752858, 1: -14.70291157171018},\n",
              "  'tripped': {0: -12.88441197908475, 1: -13.31661721059029},\n",
              "  'wust': {0: -13.577559159644695, 1: -14.009764391150235},\n",
              "  'roney': {0: -13.577559159644695, 1: -14.70291157171018},\n",
              "  'optionbr': {0: -13.577559159644695, 1: -13.093473659276079},\n",
              "  'aussie': {0: -11.585128994954488, 1: -10.989339505005871},\n",
              "  'andor': {0: -10.176361777982539, 1: -10.21427520197804},\n",
              "  'shungiku': {0: -13.983024267752858, 1: -14.70291157171018},\n",
              "  'mphand': {0: -14.676171448312804, 1: -14.009764391150235},\n",
              "  'doubletwist': {0: -13.983024267752858, 1: -14.70291157171018},\n",
              "  'kilcher': {0: -14.676171448312804, 1: -13.604299283042069},\n",
              "  'urchin': {0: -13.066733535878702, 1: -14.009764391150235},\n",
              "  'lilas': {0: -13.983024267752858, 1: -12.218004921922178},\n",
              "  'dirty': {0: -9.880380902716063, 1: -9.379901592571771},\n",
              "  'bochners': {0: -13.983024267752858, 1: -14.70291157171018},\n",
              "  'swinson': {0: -13.066733535878702, 1: -14.70291157171018},\n",
              "  'saymaurice': {0: -13.983024267752858, 1: -14.70291157171018},\n",
              "  'everywherebr': {0: -13.289877087192913, 1: -12.757001422654866},\n",
              "  'badels': {0: -14.676171448312804, 1: -14.009764391150235},\n",
              "  'fung': {0: -13.983024267752858, 1: -14.70291157171018},\n",
              "  'pusserbr': {0: -14.676171448312804, 1: -14.009764391150235},\n",
              "  'cosmo': {0: -12.478946870976584, 1: -12.623470030030344},\n",
              "  'portent': {0: -13.577559159644695, 1: -13.093473659276079},\n",
              "  'hitlerpol': {0: -14.676171448312804, 1: -14.009764391150235},\n",
              "  'crimesbr': {0: -13.577559159644695, 1: -14.70291157171018},\n",
              "  'weighting': {0: -13.983024267752858, 1: -14.009764391150235},\n",
              "  'leoncavallos': {0: -14.676171448312804, 1: -14.009764391150235},\n",
              "  'negativity': {0: -12.88441197908475, 1: -13.31661721059029},\n",
              "  'lolbr': {0: -12.596729906632968, 1: -12.623470030030344},\n",
              "  'performancesit': {0: -13.983024267752858, 1: -14.70291157171018},\n",
              "  'nonexistentthe': {0: -13.983024267752858, 1: -14.70291157171018},\n",
              "  'oscarnominated': {0: -13.066733535878702, 1: -12.063854242094921},\n",
              "  'underwhelmingresultsbr': {0: -14.676171448312804, 1: -14.009764391150235},\n",
              "  'pitiablebr': {0: -14.676171448312804, 1: -14.009764391150235},\n",
              "  'isham': {0: -14.676171448312804, 1: -13.604299283042069},\n",
              "  'gadget': {0: -10.012732354200736, 1: -11.484035746841979},\n",
              "  'stated': {0: -10.456663743136696, 1: -10.559776845318646},\n",
              "  'pointthese': {0: -14.676171448312804, 1: -14.009764391150235},\n",
              "  'spiegel': {0: -13.577559159644695, 1: -13.604299283042069},\n",
              "  'trotter': {0: -13.289877087192913, 1: -13.31661721059029},\n",
              "  'incestuousthinking': {0: -14.676171448312804, 1: -14.009764391150235},\n",
              "  'alwaysmichael': {0: -14.676171448312804, 1: -14.009764391150235},\n",
              "  'tobei': {0: -14.676171448312804, 1: -14.009764391150235},\n",
              "  'apocalypsebr': {0: -13.577559159644695, 1: -14.70291157171018},\n",
              "  'lover': {0: -9.158718551848096, 1: -8.760112196583478},\n",
              "  'otoko': {0: -13.983024267752858, 1: -14.70291157171018},\n",
              "  'inanebr': {0: -13.983024267752858, 1: -14.70291157171018},\n",
              "  'watchwell': {0: -14.676171448312804, 1: -14.009764391150235},\n",
              "  'eardrum': {0: -13.066733535878702, 1: -14.009764391150235},\n",
              "  'jarndycebr': {0: -14.676171448312804, 1: -14.009764391150235},\n",
              "  'ballbr': {0: -13.577559159644695, 1: -13.604299283042069},\n",
              "  'beet': {0: -13.577559159644695, 1: -14.009764391150235},\n",
              "  'onceworshipped': {0: -13.983024267752858, 1: -14.70291157171018},\n",
              "  'naivete': {0: -13.066733535878702, 1: -13.093473659276079},\n",
              "  'ofhe': {0: -13.983024267752858, 1: -14.70291157171018},\n",
              "  'grudging': {0: -14.676171448312804, 1: -13.604299283042069},\n",
              "  'yaniss': {0: -14.676171448312804, 1: -14.009764391150235},\n",
              "  'lwr': {0: -14.676171448312804, 1: -13.093473659276079},\n",
              "  'animie': {0: -13.983024267752858, 1: -14.70291157171018},\n",
              "  'horrorbutfunny': {0: -13.983024267752858, 1: -14.70291157171018},\n",
              "  'polymer': {0: -14.676171448312804, 1: -13.604299283042069},\n",
              "  'freighter': {0: -14.676171448312804, 1: -14.009764391150235},\n",
              "  'fruitlessly': {0: -14.676171448312804, 1: -14.009764391150235},\n",
              "  'savagebr': {0: -13.983024267752858, 1: -13.604299283042069},\n",
              "  'dutifully': {0: -13.289877087192913, 1: -12.757001422654866},\n",
              "  'talbot': {0: -12.73026129925749, 1: -13.093473659276079},\n",
              "  'unionism': {0: -14.676171448312804, 1: -14.009764391150235},\n",
              "  'thid': {0: -13.983024267752858, 1: -14.70291157171018},\n",
              "  'mccheese': {0: -14.676171448312804, 1: -13.604299283042069},\n",
              "  'interpretorbr': {0: -14.676171448312804, 1: -14.009764391150235},\n",
              "  'likeability': {0: -13.983024267752858, 1: -13.604299283042069},\n",
              "  'pardesi': {0: -13.983024267752858, 1: -14.70291157171018},\n",
              "  'unnaturally': {0: -12.73026129925749, 1: -13.31661721059029},\n",
              "  'loose': {0: -9.741697515182112, 1: -9.858724485251589},\n",
              "  'vaporized': {0: -13.577559159644695, 1: -14.70291157171018},\n",
              "  'controlfreak': {0: -13.577559159644695, 1: -14.70291157171018},\n",
              "  'flinch': {0: -13.066733535878702, 1: -13.604299283042069},\n",
              "  'dramathrillerbr': {0: -13.983024267752858, 1: -14.70291157171018},\n",
              "  'actressfromvivah': {0: -14.676171448312804, 1: -14.009764391150235},\n",
              "  'expediton': {0: -14.676171448312804, 1: -14.009764391150235},\n",
              "  'greenhouse': {0: -12.191264798524804, 1: -13.093473659276079},\n",
              "  'pressured': {0: -12.88441197908475, 1: -13.093473659276079},\n",
              "  'technocrap': {0: -14.676171448312804, 1: -14.009764391150235},\n",
              "  'bodystimulating': {0: -13.983024267752858, 1: -14.70291157171018},\n",
              "  'attractedobsessed': {0: -13.983024267752858, 1: -14.70291157171018},\n",
              "  'outdid': {0: -12.88441197908475, 1: -12.911152102482124},\n",
              "  'actorsie': {0: -14.676171448312804, 1: -14.009764391150235},\n",
              "  'debenningbr': {0: -14.676171448312804, 1: -14.009764391150235},\n",
              "  'kellysinatra': {0: -14.676171448312804, 1: -13.31661721059029},\n",
              "  'worsened': {0: -14.676171448312804, 1: -13.31661721059029},\n",
              "  'steuerman': {0: -14.676171448312804, 1: -14.009764391150235},\n",
              "  'overhypes': {0: -13.577559159644695, 1: -14.70291157171018},\n",
              "  'elke': {0: -13.289877087192913, 1: -14.70291157171018},\n",
              "  'lametwilightzone': {0: -13.983024267752858, 1: -14.70291157171018},\n",
              "  'schumachers': {0: -13.289877087192913, 1: -12.623470030030344},\n",
              "  'poppa': {0: -13.577559159644695, 1: -12.911152102482124},\n",
              "  'clout': {0: -12.478946870976584, 1: -14.70291157171018},\n",
              "  'toi': {0: -13.577559159644695, 1: -13.31661721059029},\n",
              "  'archfeminist': {0: -13.983024267752858, 1: -14.70291157171018},\n",
              "  'propslove': {0: -14.676171448312804, 1: -14.009764391150235},\n",
              "  'archaeological': {0: -12.111222090851268, 1: -13.31661721059029},\n",
              "  'bleachblondes': {0: -13.983024267752858, 1: -14.70291157171018},\n",
              "  'crudpie': {0: -13.983024267752858, 1: -14.70291157171018},\n",
              "  'cohnbr': {0: -13.983024267752858, 1: -14.70291157171018},\n",
              "  'bakerbut': {0: -14.676171448312804, 1: -14.009764391150235},\n",
              "  'transplanted': {0: -12.88441197908475, 1: -12.911152102482124},\n",
              "  'crusade': {0: -12.278276175514433, 1: -12.063854242094921},\n",
              "  'powerfullybr': {0: -13.983024267752858, 1: -14.70291157171018},\n",
              "  'craptacular': {0: -13.289877087192913, 1: -14.70291157171018},\n",
              "  'niei': {0: -13.577559159644695, 1: -14.70291157171018},\n",
              "  'solider': {0: -13.577559159644695, 1: -13.31661721059029},\n",
              "  'license': {0: -11.585128994954488, 1: -11.370707061534976},\n",
              "  'deposited': {0: -13.983024267752858, 1: -13.31661721059029},\n",
              "  'superlativebr': {0: -14.676171448312804, 1: -14.009764391150235},\n",
              "  'experiment': {0: -9.619925642964496, 1: -10.21427520197804},\n",
              "  'clotheshorse': {0: -14.676171448312804, 1: -14.009764391150235},\n",
              "  'chessy': {0: -13.983024267752858, 1: -14.70291157171018},\n",
              "  'allan': {0: -11.785799690416638, 1: -11.56741735578103},\n",
              "  'rowanbr': {0: -13.983024267752858, 1: -14.70291157171018},\n",
              "  'reelsbr': {0: -13.983024267752858, 1: -14.70291157171018},\n",
              "  'ariaunas': {0: -13.983024267752858, 1: -14.70291157171018},\n",
              "  'aicha': {0: -14.676171448312804, 1: -13.604299283042069},\n",
              "  'barnet': {0: -13.577559159644695, 1: -14.70291157171018},\n",
              "  'brammell': {0: -14.676171448312804, 1: -14.009764391150235},\n",
              "  'perverting': {0: -13.983024267752858, 1: -14.70291157171018},\n",
              "  'ocarina': {0: -14.676171448312804, 1: -14.009764391150235},\n",
              "  'entacted': {0: -14.676171448312804, 1: -14.009764391150235},\n",
              "  'lusciously': {0: -13.983024267752858, 1: -14.70291157171018},\n",
              "  'woohoobr': {0: -14.676171448312804, 1: -14.009764391150235},\n",
              "  'richardsbr': {0: -13.983024267752858, 1: -14.70291157171018},\n",
              "  'indicate': {0: -11.120823386823389, 1: -11.812539813814015},\n",
              "  'scoop': {0: -12.478946870976584, 1: -10.608567009488079},\n",
              "  'predark': {0: -14.676171448312804, 1: -14.009764391150235},\n",
              "  'littletonone': {0: -13.983024267752858, 1: -14.70291157171018},\n",
              "  'greeeeeat': {0: -13.983024267752858, 1: -14.70291157171018},\n",
              "  'betts': {0: -13.577559159644695, 1: -14.70291157171018},\n",
              "  'hearby': {0: -13.983024267752858, 1: -14.70291157171018},\n",
              "  'wilona': {0: -14.676171448312804, 1: -13.604299283042069},\n",
              "  'troupe': {0: -12.278276175514433, 1: -11.869698227653963},\n",
              "  'turnbullbr': {0: -13.983024267752858, 1: -14.70291157171018},\n",
              "  'incongruity': {0: -12.88441197908475, 1: -13.093473659276079},\n",
              "  'mistreated': {0: -12.88441197908475, 1: -12.218004921922178},\n",
              "  'lidsvillethe': {0: -14.676171448312804, 1: -14.009764391150235},\n",
              "  'viewmaster': {0: -13.983024267752858, 1: -14.70291157171018},\n",
              "  'furia': {0: -13.983024267752858, 1: -14.009764391150235},\n",
              "  'grimness': {0: -13.577559159644695, 1: -13.093473659276079},\n",
              "  'storylifes': {0: -14.676171448312804, 1: -14.009764391150235},\n",
              "  'warprofiteering': {0: -14.676171448312804, 1: -13.604299283042069},\n",
              "  'anniversarybr': {0: -14.676171448312804, 1: -14.009764391150235},\n",
              "  'unsteadiness': {0: -13.983024267752858, 1: -14.70291157171018},\n",
              "  'abnormal': {0: -12.596729906632968, 1: -13.093473659276079},\n",
              "  'tulkinghorn': {0: -14.676171448312804, 1: -13.093473659276079},\n",
              "  'formerfemalestarsinthetwilightoftheircareer': {0: -14.676171448312804,\n",
              "   1: -14.009764391150235},\n",
              "  'inyong': {0: -14.676171448312804, 1: -14.009764391150235},\n",
              "  'imprecating': {0: -13.983024267752858, 1: -14.70291157171018},\n",
              "  'presbyterian': {0: -13.066733535878702, 1: -13.604299283042069},\n",
              "  'peru': {0: -12.191264798524804, 1: -12.623470030030344},\n",
              "  'thierry': {0: -14.676171448312804, 1: -12.757001422654866},\n",
              "  'mimieux': {0: -14.676171448312804, 1: -12.911152102482124},\n",
              "  'teamupbr': {0: -14.676171448312804, 1: -14.009764391150235},\n",
              "  'jello': {0: -13.066733535878702, 1: -12.911152102482124},\n",
              "  'histheir': {0: -14.676171448312804, 1: -14.009764391150235},\n",
              "  'beech': {0: -13.066733535878702, 1: -13.31661721059029},\n",
              "  'correlative': {0: -14.676171448312804, 1: -14.009764391150235},\n",
              "  'randomized': {0: -13.983024267752858, 1: -14.70291157171018},\n",
              "  'funnierand': {0: -13.983024267752858, 1: -14.70291157171018},\n",
              "  'bambis': {0: -14.676171448312804, 1: -12.911152102482124},\n",
              "  'vaccuum': {0: -14.676171448312804, 1: -14.009764391150235},\n",
              "  'winkler': {0: -13.289877087192913, 1: -12.063854242094921},\n",
              "  'owned': {0: -11.210435545513077, 1: -11.40707470570585},\n",
              "  'downwards': {0: -12.73026129925749, 1: -12.911152102482124},\n",
              "  'naish': {0: -13.066733535878702, 1: -14.009764391150235},\n",
              "  'randolph': {0: -11.498117617964859, 1: -11.039349925580533},\n",
              "  'occupational': {0: -14.676171448312804, 1: -13.31661721059029},\n",
              "  'bevan': {0: -13.983024267752858, 1: -14.70291157171018},\n",
              "  'betrothed': {0: -13.983024267752858, 1: -12.50568699437396},\n",
              "  'gossemar': {0: -14.676171448312804, 1: -14.009764391150235},\n",
              "  'klaras': {0: -13.983024267752858, 1: -14.009764391150235},\n",
              "  'dvdbluray': {0: -14.676171448312804, 1: -14.009764391150235},\n",
              "  'how': {0: -6.235643341832051, 1: -6.367000477513234},\n",
              "  'elga': {0: -13.577559159644695, 1: -14.70291157171018},\n",
              "  'datta': {0: -13.289877087192913, 1: -14.009764391150235},\n",
              "  'renascence': {0: -14.676171448312804, 1: -14.009764391150235},\n",
              "  'hopelessbr': {0: -13.289877087192913, 1: -14.70291157171018},\n",
              "  'countrydifferent': {0: -14.676171448312804, 1: -14.009764391150235},\n",
              "  'plotvery': {0: -13.983024267752858, 1: -14.70291157171018},\n",
              "  'marx': {0: -11.842958104256587, 1: -11.611869118351864},\n",
              "  'performanceswe': {0: -14.676171448312804, 1: -14.009764391150235},\n",
              "  'silo': {0: -13.289877087192913, 1: -14.009764391150235},\n",
              "  'lafont': {0: -14.676171448312804, 1: -13.093473659276079},\n",
              "  'collinwoodbr': {0: -14.676171448312804, 1: -14.009764391150235},\n",
              "  'thirbly': {0: -14.676171448312804, 1: -14.009764391150235},\n",
              "  'surfingbr': {0: -14.676171448312804, 1: -14.009764391150235},\n",
              "  'credibility': {0: -10.02221109815528, 1: -10.96524195342681},\n",
              "  'plotsbr': {0: -13.577559159644695, 1: -13.604299283042069},\n",
              "  'charlsten': {0: -13.983024267752858, 1: -14.70291157171018},\n",
              "  'fiftiesbr': {0: -13.577559159644695, 1: -14.70291157171018},\n",
              "  'peel': {0: -12.73026129925749, 1: -12.757001422654866},\n",
              "  'naqoyqatsibr': {0: -13.983024267752858, 1: -14.70291157171018},\n",
              "  'pedicurist': {0: -13.983024267752858, 1: -14.70291157171018},\n",
              "  'riding': {0: -10.517288364953131, 1: -10.203101901379915},\n",
              "  'antarctica': {0: -12.88441197908475, 1: -14.009764391150235},\n",
              "  'institution': {0: -10.987291994198868, 1: -11.091993659065954},\n",
              "  'missedbr': {0: -13.577559159644695, 1: -12.911152102482124},\n",
              "  'selfindulgencebr': {0: -13.983024267752858, 1: -14.70291157171018},\n",
              "  'letbr': {0: -13.983024267752858, 1: -14.70291157171018},\n",
              "  'postdivorce': {0: -14.676171448312804, 1: -14.009764391150235},\n",
              "  'humanebr': {0: -14.676171448312804, 1: -14.009764391150235},\n",
              "  'anually': {0: -14.676171448312804, 1: -14.009764391150235},\n",
              "  'unobservant': {0: -13.983024267752858, 1: -13.604299283042069},\n",
              "  'endo': {0: -13.983024267752858, 1: -14.70291157171018},\n",
              "  'shipoh': {0: -14.676171448312804, 1: -14.009764391150235},\n",
              "  'absorbed': {0: -11.903582726073022, 1: -11.370707061534976},\n",
              "  'broodingblasphemousobsessive': {0: -13.983024267752858,\n",
              "   1: -14.70291157171018},\n",
              "  'titillating': {0: -12.596729906632968, 1: -13.31661721059029},\n",
              "  'meena': {0: -13.983024267752858, 1: -12.137962214248642},\n",
              "  'pahpahtahdah': {0: -13.983024267752858, 1: -14.70291157171018},\n",
              "  'patriarchal': {0: -13.577559159644695, 1: -12.50568699437396},\n",
              "  'ponytailed': {0: -13.983024267752858, 1: -14.70291157171018},\n",
              "  'leoni': {0: -13.066733535878702, 1: -13.31661721059029},\n",
              "  'drno': {0: -14.676171448312804, 1: -14.009764391150235},\n",
              "  'costuming': {0: -12.478946870976584, 1: -11.707179298156188},\n",
              "  'fourandahalf': {0: -13.983024267752858, 1: -14.70291157171018},\n",
              "  'twaddlebr': {0: -13.577559159644695, 1: -14.70291157171018},\n",
              "  'edmund': {0: -12.373586355318757, 1: -11.301714190048024},\n",
              "  'scoping': {0: -14.676171448312804, 1: -14.009764391150235},\n",
              "  'famkhee': {0: -13.983024267752858, 1: -14.70291157171018},\n",
              "  'interruptedbr': {0: -13.983024267752858, 1: -14.70291157171018},\n",
              "  'wiggling': {0: -13.066733535878702, 1: -14.009764391150235},\n",
              "  'meritsbr': {0: -14.676171448312804, 1: -14.009764391150235},\n",
              "  'identikit': {0: -13.577559159644695, 1: -14.009764391150235},\n",
              "  'sanditon': {0: -14.676171448312804, 1: -14.009764391150235},\n",
              "  'affirmatively': {0: -13.983024267752858, 1: -14.70291157171018},\n",
              "  'fergusona': {0: -13.983024267752858, 1: -14.70291157171018},\n",
              "  'mostopenminded': {0: -13.983024267752858, 1: -14.70291157171018},\n",
              "  'metallers': {0: -14.676171448312804, 1: -14.009764391150235},\n",
              "  'explosive': {0: -11.179663886846324, 1: -11.091993659065954},\n",
              "  'futureif': {0: -13.983024267752858, 1: -14.70291157171018},\n",
              "  'dislocating': {0: -13.983024267752858, 1: -14.70291157171018},\n",
              "  'shater': {0: -13.983024267752858, 1: -14.70291157171018},\n",
              "  'outomg': {0: -13.983024267752858, 1: -14.70291157171018},\n",
              "  'asleepit': {0: -14.676171448312804, 1: -14.009764391150235},\n",
              "  'bejard': {0: -14.676171448312804, 1: -14.009764391150235},\n",
              "  'bullt': {0: -13.983024267752858, 1: -14.70291157171018},\n",
              "  'armadmittedly': {0: -13.983024267752858, 1: -14.70291157171018},\n",
              "  'deludes': {0: -13.983024267752858, 1: -14.70291157171018},\n",
              "  'deathno': {0: -14.676171448312804, 1: -14.009764391150235},\n",
              "  'murderforhire': {0: -13.577559159644695, 1: -14.70291157171018},\n",
              "  'unquestionable': {0: -13.066733535878702, 1: -13.31661721059029},\n",
              "  'ahahah': {0: -13.983024267752858, 1: -14.70291157171018},\n",
              "  'connoisseurship': {0: -14.676171448312804, 1: -14.009764391150235},\n",
              "  'disputesbr': {0: -14.676171448312804, 1: -14.009764391150235},\n",
              "  'hong': {0: -10.804970437404913, 1: -9.761269149100874},\n",
              "  'cathrine': {0: -13.577559159644695, 1: -14.70291157171018},\n",
              "  'intriquing': {0: -13.983024267752858, 1: -14.70291157171018},\n",
              "  'bayldon': {0: -14.676171448312804, 1: -13.31661721059029},\n",
              "  'pauline': {0: -12.111222090851268, 1: -11.301714190048024},\n",
              "  'sprawlhe': {0: -13.983024267752858, 1: -14.70291157171018},\n",
              "  'evil': {0: -8.022018928129585, 1: -8.232112067927577},\n",
              "  'barrie': {0: -13.983024267752858, 1: -12.400326478716133},\n",
              "  'selfexplanatory': {0: -13.983024267752858, 1: -14.70291157171018},\n",
              "  'dominica': {0: -14.676171448312804, 1: -13.31661721059029},\n",
              "  'oscer': {0: -14.676171448312804, 1: -14.009764391150235},\n",
              "  'impassive': {0: -13.983024267752858, 1: -14.009764391150235},\n",
              "  'jeanmarie': {0: -13.577559159644695, 1: -14.70291157171018},\n",
              "  'starsive': {0: -14.676171448312804, 1: -14.009764391150235},\n",
              "  'dunstan': {0: -14.676171448312804, 1: -14.009764391150235},\n",
              "  'secretsand': {0: -13.983024267752858, 1: -14.70291157171018},\n",
              "  'incrediblego': {0: -14.676171448312804, 1: -14.009764391150235},\n",
              "  'sambergs': {0: -13.577559159644695, 1: -14.70291157171018},\n",
              "  'overhearing': {0: -13.577559159644695, 1: -14.009764391150235},\n",
              "  'girlfriendboyfriend': {0: -13.983024267752858, 1: -14.70291157171018},\n",
              "  'peat': {0: -13.577559159644695, 1: -14.70291157171018},\n",
              "  'rumanns': {0: -14.676171448312804, 1: -14.009764391150235},\n",
              "  'alltooshort': {0: -13.983024267752858, 1: -14.70291157171018},\n",
              "  'semimain': {0: -14.676171448312804, 1: -14.009764391150235},\n",
              "  'osiris': {0: -13.577559159644695, 1: -14.009764391150235},\n",
              "  'canteen': {0: -13.289877087192913, 1: -13.604299283042069},\n",
              "  'neanderthal': {0: -13.066733535878702, 1: -13.093473659276079},\n",
              "  'imagerybr': {0: -13.289877087192913, 1: -13.604299283042069},\n",
              "  'reliefbr': {0: -13.983024267752858, 1: -13.604299283042069},\n",
              "  'camillo': {0: -14.676171448312804, 1: -14.009764391150235},\n",
              "  'voletta': {0: -13.983024267752858, 1: -14.70291157171018},\n",
              "  'verywell': {0: -14.676171448312804, 1: -14.009764391150235},\n",
              "  'diesgood': {0: -14.676171448312804, 1: -14.009764391150235},\n",
              "  'skipable': {0: -13.577559159644695, 1: -14.009764391150235},\n",
              "  'poormuch': {0: -13.983024267752858, 1: -14.70291157171018},\n",
              "  'yul': {0: -12.373586355318757, 1: -12.757001422654866},\n",
              "  'beastly': {0: -13.577559159644695, 1: -12.911152102482124},\n",
              "  'heavymetal': {0: -13.577559159644695, 1: -14.009764391150235},\n",
              "  'blockbusterapproved': {0: -13.983024267752858, 1: -14.70291157171018},\n",
              "  'hadleyrobert': {0: -14.676171448312804, 1: -14.009764391150235},\n",
              "  'iwai': {0: -14.676171448312804, 1: -14.009764391150235},\n",
              "  'anatomy': {0: -11.842958104256587, 1: -12.30501629891181},\n",
              "  'matesbr': {0: -13.577559159644695, 1: -14.70291157171018},\n",
              "  'passworthys': {0: -14.676171448312804, 1: -14.009764391150235},\n",
              "  'roadtrip': {0: -13.577559159644695, 1: -13.604299283042069},\n",
              "  'goblet': {0: -13.577559159644695, 1: -14.009764391150235},\n",
              "  'colbymovie': {0: -14.676171448312804, 1: -14.009764391150235},\n",
              "  'approachesbr': {0: -14.676171448312804, 1: -13.604299283042069},\n",
              "  'sollace': {0: -13.289877087192913, 1: -14.70291157171018},\n",
              "  'nearintimate': {0: -14.676171448312804, 1: -14.009764391150235},\n",
              "  'expression': {0: -9.76351656257675, 1: -9.498904884633383},\n",
              "  'tolokonnikov': {0: -14.676171448312804, 1: -14.009764391150235},\n",
              "  'vanallenradiationbelt': {0: -13.983024267752858, 1: -14.70291157171018},\n",
              "  'armstrong': {0: -11.457295623444603, 1: -11.091993659065954},\n",
              "  'inked': {0: -13.983024267752858, 1: -14.70291157171018},\n",
              "  'addressed': {0: -11.457295623444603, 1: -11.611869118351864},\n",
              "  'excitingthough': {0: -14.676171448312804, 1: -14.009764391150235},\n",
              "  'alsothough': {0: -13.983024267752858, 1: -14.70291157171018},\n",
              "  'tlb': {0: -13.983024267752858, 1: -14.70291157171018},\n",
              "  'staginess': {0: -13.983024267752858, 1: -13.093473659276079},\n",
              "  ...})"
            ]
          },
          "metadata": {},
          "execution_count": 72
        }
      ]
    },
    {
      "cell_type": "markdown",
      "source": [
        "### Accuracy on both training and test set"
      ],
      "metadata": {
        "id": "8-5y07g6-8Yt"
      }
    },
    {
      "cell_type": "markdown",
      "source": [
        "#### Converte test imdb to a dataframe"
      ],
      "metadata": {
        "id": "sZEfspkctMAc"
      }
    },
    {
      "cell_type": "code",
      "source": [
        "df_imdb_test = pd.DataFrame(data = imdb_test)"
      ],
      "metadata": {
        "id": "umkr_UiOtVGW"
      },
      "execution_count": 73,
      "outputs": []
    },
    {
      "cell_type": "code",
      "source": [
        "df_imdb_test.head()"
      ],
      "metadata": {
        "colab": {
          "base_uri": "https://localhost:8080/",
          "height": 201
        },
        "id": "ADD4tbZYJWKd",
        "outputId": "04f3d45f-9620-499c-b26a-867fd79f803b"
      },
      "execution_count": 74,
      "outputs": [
        {
          "output_type": "execute_result",
          "data": {
            "text/plain": [
              "                                                text  label\n",
              "0  I love sci-fi and am willing to put up with a ...      0\n",
              "1  Worth the entertainment value of a rental, esp...      0\n",
              "2  its a totally average film with a few semi-alr...      0\n",
              "3  STAR RATING: ***** Saturday Night **** Friday ...      0\n",
              "4  First off let me say, If you haven't enjoyed a...      0"
            ],
            "text/html": [
              "\n",
              "  <div id=\"df-8ea614b3-045e-4d9b-88f5-cd949d49c745\">\n",
              "    <div class=\"colab-df-container\">\n",
              "      <div>\n",
              "<style scoped>\n",
              "    .dataframe tbody tr th:only-of-type {\n",
              "        vertical-align: middle;\n",
              "    }\n",
              "\n",
              "    .dataframe tbody tr th {\n",
              "        vertical-align: top;\n",
              "    }\n",
              "\n",
              "    .dataframe thead th {\n",
              "        text-align: right;\n",
              "    }\n",
              "</style>\n",
              "<table border=\"1\" class=\"dataframe\">\n",
              "  <thead>\n",
              "    <tr style=\"text-align: right;\">\n",
              "      <th></th>\n",
              "      <th>text</th>\n",
              "      <th>label</th>\n",
              "    </tr>\n",
              "  </thead>\n",
              "  <tbody>\n",
              "    <tr>\n",
              "      <th>0</th>\n",
              "      <td>I love sci-fi and am willing to put up with a ...</td>\n",
              "      <td>0</td>\n",
              "    </tr>\n",
              "    <tr>\n",
              "      <th>1</th>\n",
              "      <td>Worth the entertainment value of a rental, esp...</td>\n",
              "      <td>0</td>\n",
              "    </tr>\n",
              "    <tr>\n",
              "      <th>2</th>\n",
              "      <td>its a totally average film with a few semi-alr...</td>\n",
              "      <td>0</td>\n",
              "    </tr>\n",
              "    <tr>\n",
              "      <th>3</th>\n",
              "      <td>STAR RATING: ***** Saturday Night **** Friday ...</td>\n",
              "      <td>0</td>\n",
              "    </tr>\n",
              "    <tr>\n",
              "      <th>4</th>\n",
              "      <td>First off let me say, If you haven't enjoyed a...</td>\n",
              "      <td>0</td>\n",
              "    </tr>\n",
              "  </tbody>\n",
              "</table>\n",
              "</div>\n",
              "      <button class=\"colab-df-convert\" onclick=\"convertToInteractive('df-8ea614b3-045e-4d9b-88f5-cd949d49c745')\"\n",
              "              title=\"Convert this dataframe to an interactive table.\"\n",
              "              style=\"display:none;\">\n",
              "        \n",
              "  <svg xmlns=\"http://www.w3.org/2000/svg\" height=\"24px\"viewBox=\"0 0 24 24\"\n",
              "       width=\"24px\">\n",
              "    <path d=\"M0 0h24v24H0V0z\" fill=\"none\"/>\n",
              "    <path d=\"M18.56 5.44l.94 2.06.94-2.06 2.06-.94-2.06-.94-.94-2.06-.94 2.06-2.06.94zm-11 1L8.5 8.5l.94-2.06 2.06-.94-2.06-.94L8.5 2.5l-.94 2.06-2.06.94zm10 10l.94 2.06.94-2.06 2.06-.94-2.06-.94-.94-2.06-.94 2.06-2.06.94z\"/><path d=\"M17.41 7.96l-1.37-1.37c-.4-.4-.92-.59-1.43-.59-.52 0-1.04.2-1.43.59L10.3 9.45l-7.72 7.72c-.78.78-.78 2.05 0 2.83L4 21.41c.39.39.9.59 1.41.59.51 0 1.02-.2 1.41-.59l7.78-7.78 2.81-2.81c.8-.78.8-2.07 0-2.86zM5.41 20L4 18.59l7.72-7.72 1.47 1.35L5.41 20z\"/>\n",
              "  </svg>\n",
              "      </button>\n",
              "      \n",
              "  <style>\n",
              "    .colab-df-container {\n",
              "      display:flex;\n",
              "      flex-wrap:wrap;\n",
              "      gap: 12px;\n",
              "    }\n",
              "\n",
              "    .colab-df-convert {\n",
              "      background-color: #E8F0FE;\n",
              "      border: none;\n",
              "      border-radius: 50%;\n",
              "      cursor: pointer;\n",
              "      display: none;\n",
              "      fill: #1967D2;\n",
              "      height: 32px;\n",
              "      padding: 0 0 0 0;\n",
              "      width: 32px;\n",
              "    }\n",
              "\n",
              "    .colab-df-convert:hover {\n",
              "      background-color: #E2EBFA;\n",
              "      box-shadow: 0px 1px 2px rgba(60, 64, 67, 0.3), 0px 1px 3px 1px rgba(60, 64, 67, 0.15);\n",
              "      fill: #174EA6;\n",
              "    }\n",
              "\n",
              "    [theme=dark] .colab-df-convert {\n",
              "      background-color: #3B4455;\n",
              "      fill: #D2E3FC;\n",
              "    }\n",
              "\n",
              "    [theme=dark] .colab-df-convert:hover {\n",
              "      background-color: #434B5C;\n",
              "      box-shadow: 0px 1px 3px 1px rgba(0, 0, 0, 0.15);\n",
              "      filter: drop-shadow(0px 1px 2px rgba(0, 0, 0, 0.3));\n",
              "      fill: #FFFFFF;\n",
              "    }\n",
              "  </style>\n",
              "\n",
              "      <script>\n",
              "        const buttonEl =\n",
              "          document.querySelector('#df-8ea614b3-045e-4d9b-88f5-cd949d49c745 button.colab-df-convert');\n",
              "        buttonEl.style.display =\n",
              "          google.colab.kernel.accessAllowed ? 'block' : 'none';\n",
              "\n",
              "        async function convertToInteractive(key) {\n",
              "          const element = document.querySelector('#df-8ea614b3-045e-4d9b-88f5-cd949d49c745');\n",
              "          const dataTable =\n",
              "            await google.colab.kernel.invokeFunction('convertToInteractive',\n",
              "                                                     [key], {});\n",
              "          if (!dataTable) return;\n",
              "\n",
              "          const docLinkHtml = 'Like what you see? Visit the ' +\n",
              "            '<a target=\"_blank\" href=https://colab.research.google.com/notebooks/data_table.ipynb>data table notebook</a>'\n",
              "            + ' to learn more about interactive tables.';\n",
              "          element.innerHTML = '';\n",
              "          dataTable['output_type'] = 'display_data';\n",
              "          await google.colab.output.renderOutput(dataTable, element);\n",
              "          const docLink = document.createElement('div');\n",
              "          docLink.innerHTML = docLinkHtml;\n",
              "          element.appendChild(docLink);\n",
              "        }\n",
              "      </script>\n",
              "    </div>\n",
              "  </div>\n",
              "  "
            ]
          },
          "metadata": {},
          "execution_count": 74
        }
      ]
    },
    {
      "cell_type": "markdown",
      "source": [
        "#### Pretreatment of test imdb"
      ],
      "metadata": {
        "id": "_zapMnt_Immb"
      }
    },
    {
      "cell_type": "code",
      "source": [
        "df_imdb_test['text'] = df_imdb_test['text'].apply(pre_treatment)"
      ],
      "metadata": {
        "id": "b3XvTQKII0ip"
      },
      "execution_count": 75,
      "outputs": []
    },
    {
      "cell_type": "code",
      "source": [
        "df_imdb_test.head()"
      ],
      "metadata": {
        "colab": {
          "base_uri": "https://localhost:8080/",
          "height": 201
        },
        "id": "YjIxS51Oiycb",
        "outputId": "d9468326-c540-4318-9cb0-63ad3b3dbdb8"
      },
      "execution_count": 76,
      "outputs": [
        {
          "output_type": "execute_result",
          "data": {
            "text/plain": [
              "                                                text  label\n",
              "0  love scifi and willing put with lot scifi movi...      0\n",
              "1  worth the entertainment value rental especiall...      0\n",
              "2  it totally average film with few semialright a...      0\n",
              "3  star rating saturday night friday night friday...      0\n",
              "4  first off let say you havent enjoyed van damme...      0"
            ],
            "text/html": [
              "\n",
              "  <div id=\"df-88ad36c5-d812-461f-bc50-778429fe62fc\">\n",
              "    <div class=\"colab-df-container\">\n",
              "      <div>\n",
              "<style scoped>\n",
              "    .dataframe tbody tr th:only-of-type {\n",
              "        vertical-align: middle;\n",
              "    }\n",
              "\n",
              "    .dataframe tbody tr th {\n",
              "        vertical-align: top;\n",
              "    }\n",
              "\n",
              "    .dataframe thead th {\n",
              "        text-align: right;\n",
              "    }\n",
              "</style>\n",
              "<table border=\"1\" class=\"dataframe\">\n",
              "  <thead>\n",
              "    <tr style=\"text-align: right;\">\n",
              "      <th></th>\n",
              "      <th>text</th>\n",
              "      <th>label</th>\n",
              "    </tr>\n",
              "  </thead>\n",
              "  <tbody>\n",
              "    <tr>\n",
              "      <th>0</th>\n",
              "      <td>love scifi and willing put with lot scifi movi...</td>\n",
              "      <td>0</td>\n",
              "    </tr>\n",
              "    <tr>\n",
              "      <th>1</th>\n",
              "      <td>worth the entertainment value rental especiall...</td>\n",
              "      <td>0</td>\n",
              "    </tr>\n",
              "    <tr>\n",
              "      <th>2</th>\n",
              "      <td>it totally average film with few semialright a...</td>\n",
              "      <td>0</td>\n",
              "    </tr>\n",
              "    <tr>\n",
              "      <th>3</th>\n",
              "      <td>star rating saturday night friday night friday...</td>\n",
              "      <td>0</td>\n",
              "    </tr>\n",
              "    <tr>\n",
              "      <th>4</th>\n",
              "      <td>first off let say you havent enjoyed van damme...</td>\n",
              "      <td>0</td>\n",
              "    </tr>\n",
              "  </tbody>\n",
              "</table>\n",
              "</div>\n",
              "      <button class=\"colab-df-convert\" onclick=\"convertToInteractive('df-88ad36c5-d812-461f-bc50-778429fe62fc')\"\n",
              "              title=\"Convert this dataframe to an interactive table.\"\n",
              "              style=\"display:none;\">\n",
              "        \n",
              "  <svg xmlns=\"http://www.w3.org/2000/svg\" height=\"24px\"viewBox=\"0 0 24 24\"\n",
              "       width=\"24px\">\n",
              "    <path d=\"M0 0h24v24H0V0z\" fill=\"none\"/>\n",
              "    <path d=\"M18.56 5.44l.94 2.06.94-2.06 2.06-.94-2.06-.94-.94-2.06-.94 2.06-2.06.94zm-11 1L8.5 8.5l.94-2.06 2.06-.94-2.06-.94L8.5 2.5l-.94 2.06-2.06.94zm10 10l.94 2.06.94-2.06 2.06-.94-2.06-.94-.94-2.06-.94 2.06-2.06.94z\"/><path d=\"M17.41 7.96l-1.37-1.37c-.4-.4-.92-.59-1.43-.59-.52 0-1.04.2-1.43.59L10.3 9.45l-7.72 7.72c-.78.78-.78 2.05 0 2.83L4 21.41c.39.39.9.59 1.41.59.51 0 1.02-.2 1.41-.59l7.78-7.78 2.81-2.81c.8-.78.8-2.07 0-2.86zM5.41 20L4 18.59l7.72-7.72 1.47 1.35L5.41 20z\"/>\n",
              "  </svg>\n",
              "      </button>\n",
              "      \n",
              "  <style>\n",
              "    .colab-df-container {\n",
              "      display:flex;\n",
              "      flex-wrap:wrap;\n",
              "      gap: 12px;\n",
              "    }\n",
              "\n",
              "    .colab-df-convert {\n",
              "      background-color: #E8F0FE;\n",
              "      border: none;\n",
              "      border-radius: 50%;\n",
              "      cursor: pointer;\n",
              "      display: none;\n",
              "      fill: #1967D2;\n",
              "      height: 32px;\n",
              "      padding: 0 0 0 0;\n",
              "      width: 32px;\n",
              "    }\n",
              "\n",
              "    .colab-df-convert:hover {\n",
              "      background-color: #E2EBFA;\n",
              "      box-shadow: 0px 1px 2px rgba(60, 64, 67, 0.3), 0px 1px 3px 1px rgba(60, 64, 67, 0.15);\n",
              "      fill: #174EA6;\n",
              "    }\n",
              "\n",
              "    [theme=dark] .colab-df-convert {\n",
              "      background-color: #3B4455;\n",
              "      fill: #D2E3FC;\n",
              "    }\n",
              "\n",
              "    [theme=dark] .colab-df-convert:hover {\n",
              "      background-color: #434B5C;\n",
              "      box-shadow: 0px 1px 3px 1px rgba(0, 0, 0, 0.15);\n",
              "      filter: drop-shadow(0px 1px 2px rgba(0, 0, 0, 0.3));\n",
              "      fill: #FFFFFF;\n",
              "    }\n",
              "  </style>\n",
              "\n",
              "      <script>\n",
              "        const buttonEl =\n",
              "          document.querySelector('#df-88ad36c5-d812-461f-bc50-778429fe62fc button.colab-df-convert');\n",
              "        buttonEl.style.display =\n",
              "          google.colab.kernel.accessAllowed ? 'block' : 'none';\n",
              "\n",
              "        async function convertToInteractive(key) {\n",
              "          const element = document.querySelector('#df-88ad36c5-d812-461f-bc50-778429fe62fc');\n",
              "          const dataTable =\n",
              "            await google.colab.kernel.invokeFunction('convertToInteractive',\n",
              "                                                     [key], {});\n",
              "          if (!dataTable) return;\n",
              "\n",
              "          const docLinkHtml = 'Like what you see? Visit the ' +\n",
              "            '<a target=\"_blank\" href=https://colab.research.google.com/notebooks/data_table.ipynb>data table notebook</a>'\n",
              "            + ' to learn more about interactive tables.';\n",
              "          element.innerHTML = '';\n",
              "          dataTable['output_type'] = 'display_data';\n",
              "          await google.colab.output.renderOutput(dataTable, element);\n",
              "          const docLink = document.createElement('div');\n",
              "          docLink.innerHTML = docLinkHtml;\n",
              "          element.appendChild(docLink);\n",
              "        }\n",
              "      </script>\n",
              "    </div>\n",
              "  </div>\n",
              "  "
            ]
          },
          "metadata": {},
          "execution_count": 76
        }
      ]
    },
    {
      "cell_type": "markdown",
      "source": [
        "#### Prediction"
      ],
      "metadata": {
        "id": "z12iGfuPs5ei"
      }
    },
    {
      "cell_type": "code",
      "source": [
        "df_imdb_train['prediction'] = df_imdb_train.apply(lambda row: test_naive_bayes(row['text'], log_prior, log_likelihood, classes, vocabulary), axis=1)"
      ],
      "metadata": {
        "id": "RTVuaBmhzisY"
      },
      "execution_count": 77,
      "outputs": []
    },
    {
      "cell_type": "code",
      "source": [
        "df_imdb_test['prediction'] = df_imdb_test.apply(lambda row: test_naive_bayes(row['text'], log_prior, log_likelihood, classes, vocabulary), axis=1)"
      ],
      "metadata": {
        "id": "kFyfgXnertTt"
      },
      "execution_count": 78,
      "outputs": []
    },
    {
      "cell_type": "code",
      "source": [
        "df_imdb_train.head()"
      ],
      "metadata": {
        "colab": {
          "base_uri": "https://localhost:8080/",
          "height": 201
        },
        "id": "uoix2TtLBv3x",
        "outputId": "d9c851d6-6e50-4bb9-f02e-d0401b6d08d7"
      },
      "execution_count": 79,
      "outputs": [
        {
          "output_type": "execute_result",
          "data": {
            "text/plain": [
              "                                                text  label  prediction\n",
              "0  rented curiousyellow from video store because ...      0           0\n",
              "1  curious yellow risible and pretentious steamin...      0           0\n",
              "2  only avoid making this type film the future th...      0           0\n",
              "3  this film wa probably inspired godard masculin...      0           0\n",
              "4  brotherafter hearing about this ridiculous fil...      0           0"
            ],
            "text/html": [
              "\n",
              "  <div id=\"df-46f82552-ce0d-43df-85c2-9ada1c75b95d\">\n",
              "    <div class=\"colab-df-container\">\n",
              "      <div>\n",
              "<style scoped>\n",
              "    .dataframe tbody tr th:only-of-type {\n",
              "        vertical-align: middle;\n",
              "    }\n",
              "\n",
              "    .dataframe tbody tr th {\n",
              "        vertical-align: top;\n",
              "    }\n",
              "\n",
              "    .dataframe thead th {\n",
              "        text-align: right;\n",
              "    }\n",
              "</style>\n",
              "<table border=\"1\" class=\"dataframe\">\n",
              "  <thead>\n",
              "    <tr style=\"text-align: right;\">\n",
              "      <th></th>\n",
              "      <th>text</th>\n",
              "      <th>label</th>\n",
              "      <th>prediction</th>\n",
              "    </tr>\n",
              "  </thead>\n",
              "  <tbody>\n",
              "    <tr>\n",
              "      <th>0</th>\n",
              "      <td>rented curiousyellow from video store because ...</td>\n",
              "      <td>0</td>\n",
              "      <td>0</td>\n",
              "    </tr>\n",
              "    <tr>\n",
              "      <th>1</th>\n",
              "      <td>curious yellow risible and pretentious steamin...</td>\n",
              "      <td>0</td>\n",
              "      <td>0</td>\n",
              "    </tr>\n",
              "    <tr>\n",
              "      <th>2</th>\n",
              "      <td>only avoid making this type film the future th...</td>\n",
              "      <td>0</td>\n",
              "      <td>0</td>\n",
              "    </tr>\n",
              "    <tr>\n",
              "      <th>3</th>\n",
              "      <td>this film wa probably inspired godard masculin...</td>\n",
              "      <td>0</td>\n",
              "      <td>0</td>\n",
              "    </tr>\n",
              "    <tr>\n",
              "      <th>4</th>\n",
              "      <td>brotherafter hearing about this ridiculous fil...</td>\n",
              "      <td>0</td>\n",
              "      <td>0</td>\n",
              "    </tr>\n",
              "  </tbody>\n",
              "</table>\n",
              "</div>\n",
              "      <button class=\"colab-df-convert\" onclick=\"convertToInteractive('df-46f82552-ce0d-43df-85c2-9ada1c75b95d')\"\n",
              "              title=\"Convert this dataframe to an interactive table.\"\n",
              "              style=\"display:none;\">\n",
              "        \n",
              "  <svg xmlns=\"http://www.w3.org/2000/svg\" height=\"24px\"viewBox=\"0 0 24 24\"\n",
              "       width=\"24px\">\n",
              "    <path d=\"M0 0h24v24H0V0z\" fill=\"none\"/>\n",
              "    <path d=\"M18.56 5.44l.94 2.06.94-2.06 2.06-.94-2.06-.94-.94-2.06-.94 2.06-2.06.94zm-11 1L8.5 8.5l.94-2.06 2.06-.94-2.06-.94L8.5 2.5l-.94 2.06-2.06.94zm10 10l.94 2.06.94-2.06 2.06-.94-2.06-.94-.94-2.06-.94 2.06-2.06.94z\"/><path d=\"M17.41 7.96l-1.37-1.37c-.4-.4-.92-.59-1.43-.59-.52 0-1.04.2-1.43.59L10.3 9.45l-7.72 7.72c-.78.78-.78 2.05 0 2.83L4 21.41c.39.39.9.59 1.41.59.51 0 1.02-.2 1.41-.59l7.78-7.78 2.81-2.81c.8-.78.8-2.07 0-2.86zM5.41 20L4 18.59l7.72-7.72 1.47 1.35L5.41 20z\"/>\n",
              "  </svg>\n",
              "      </button>\n",
              "      \n",
              "  <style>\n",
              "    .colab-df-container {\n",
              "      display:flex;\n",
              "      flex-wrap:wrap;\n",
              "      gap: 12px;\n",
              "    }\n",
              "\n",
              "    .colab-df-convert {\n",
              "      background-color: #E8F0FE;\n",
              "      border: none;\n",
              "      border-radius: 50%;\n",
              "      cursor: pointer;\n",
              "      display: none;\n",
              "      fill: #1967D2;\n",
              "      height: 32px;\n",
              "      padding: 0 0 0 0;\n",
              "      width: 32px;\n",
              "    }\n",
              "\n",
              "    .colab-df-convert:hover {\n",
              "      background-color: #E2EBFA;\n",
              "      box-shadow: 0px 1px 2px rgba(60, 64, 67, 0.3), 0px 1px 3px 1px rgba(60, 64, 67, 0.15);\n",
              "      fill: #174EA6;\n",
              "    }\n",
              "\n",
              "    [theme=dark] .colab-df-convert {\n",
              "      background-color: #3B4455;\n",
              "      fill: #D2E3FC;\n",
              "    }\n",
              "\n",
              "    [theme=dark] .colab-df-convert:hover {\n",
              "      background-color: #434B5C;\n",
              "      box-shadow: 0px 1px 3px 1px rgba(0, 0, 0, 0.15);\n",
              "      filter: drop-shadow(0px 1px 2px rgba(0, 0, 0, 0.3));\n",
              "      fill: #FFFFFF;\n",
              "    }\n",
              "  </style>\n",
              "\n",
              "      <script>\n",
              "        const buttonEl =\n",
              "          document.querySelector('#df-46f82552-ce0d-43df-85c2-9ada1c75b95d button.colab-df-convert');\n",
              "        buttonEl.style.display =\n",
              "          google.colab.kernel.accessAllowed ? 'block' : 'none';\n",
              "\n",
              "        async function convertToInteractive(key) {\n",
              "          const element = document.querySelector('#df-46f82552-ce0d-43df-85c2-9ada1c75b95d');\n",
              "          const dataTable =\n",
              "            await google.colab.kernel.invokeFunction('convertToInteractive',\n",
              "                                                     [key], {});\n",
              "          if (!dataTable) return;\n",
              "\n",
              "          const docLinkHtml = 'Like what you see? Visit the ' +\n",
              "            '<a target=\"_blank\" href=https://colab.research.google.com/notebooks/data_table.ipynb>data table notebook</a>'\n",
              "            + ' to learn more about interactive tables.';\n",
              "          element.innerHTML = '';\n",
              "          dataTable['output_type'] = 'display_data';\n",
              "          await google.colab.output.renderOutput(dataTable, element);\n",
              "          const docLink = document.createElement('div');\n",
              "          docLink.innerHTML = docLinkHtml;\n",
              "          element.appendChild(docLink);\n",
              "        }\n",
              "      </script>\n",
              "    </div>\n",
              "  </div>\n",
              "  "
            ]
          },
          "metadata": {},
          "execution_count": 79
        }
      ]
    },
    {
      "cell_type": "code",
      "source": [
        "df_imdb_test.head()"
      ],
      "metadata": {
        "colab": {
          "base_uri": "https://localhost:8080/",
          "height": 201
        },
        "id": "pM3YJTvMf6On",
        "outputId": "7c17eef3-ee91-4289-aea5-2eb3c4555767"
      },
      "execution_count": 80,
      "outputs": [
        {
          "output_type": "execute_result",
          "data": {
            "text/plain": [
              "                                                text  label  prediction\n",
              "0  love scifi and willing put with lot scifi movi...      0           0\n",
              "1  worth the entertainment value rental especiall...      0           0\n",
              "2  it totally average film with few semialright a...      0           0\n",
              "3  star rating saturday night friday night friday...      0           0\n",
              "4  first off let say you havent enjoyed van damme...      0           0"
            ],
            "text/html": [
              "\n",
              "  <div id=\"df-5a96d09c-8d31-4753-a0f0-c6c40835869b\">\n",
              "    <div class=\"colab-df-container\">\n",
              "      <div>\n",
              "<style scoped>\n",
              "    .dataframe tbody tr th:only-of-type {\n",
              "        vertical-align: middle;\n",
              "    }\n",
              "\n",
              "    .dataframe tbody tr th {\n",
              "        vertical-align: top;\n",
              "    }\n",
              "\n",
              "    .dataframe thead th {\n",
              "        text-align: right;\n",
              "    }\n",
              "</style>\n",
              "<table border=\"1\" class=\"dataframe\">\n",
              "  <thead>\n",
              "    <tr style=\"text-align: right;\">\n",
              "      <th></th>\n",
              "      <th>text</th>\n",
              "      <th>label</th>\n",
              "      <th>prediction</th>\n",
              "    </tr>\n",
              "  </thead>\n",
              "  <tbody>\n",
              "    <tr>\n",
              "      <th>0</th>\n",
              "      <td>love scifi and willing put with lot scifi movi...</td>\n",
              "      <td>0</td>\n",
              "      <td>0</td>\n",
              "    </tr>\n",
              "    <tr>\n",
              "      <th>1</th>\n",
              "      <td>worth the entertainment value rental especiall...</td>\n",
              "      <td>0</td>\n",
              "      <td>0</td>\n",
              "    </tr>\n",
              "    <tr>\n",
              "      <th>2</th>\n",
              "      <td>it totally average film with few semialright a...</td>\n",
              "      <td>0</td>\n",
              "      <td>0</td>\n",
              "    </tr>\n",
              "    <tr>\n",
              "      <th>3</th>\n",
              "      <td>star rating saturday night friday night friday...</td>\n",
              "      <td>0</td>\n",
              "      <td>0</td>\n",
              "    </tr>\n",
              "    <tr>\n",
              "      <th>4</th>\n",
              "      <td>first off let say you havent enjoyed van damme...</td>\n",
              "      <td>0</td>\n",
              "      <td>0</td>\n",
              "    </tr>\n",
              "  </tbody>\n",
              "</table>\n",
              "</div>\n",
              "      <button class=\"colab-df-convert\" onclick=\"convertToInteractive('df-5a96d09c-8d31-4753-a0f0-c6c40835869b')\"\n",
              "              title=\"Convert this dataframe to an interactive table.\"\n",
              "              style=\"display:none;\">\n",
              "        \n",
              "  <svg xmlns=\"http://www.w3.org/2000/svg\" height=\"24px\"viewBox=\"0 0 24 24\"\n",
              "       width=\"24px\">\n",
              "    <path d=\"M0 0h24v24H0V0z\" fill=\"none\"/>\n",
              "    <path d=\"M18.56 5.44l.94 2.06.94-2.06 2.06-.94-2.06-.94-.94-2.06-.94 2.06-2.06.94zm-11 1L8.5 8.5l.94-2.06 2.06-.94-2.06-.94L8.5 2.5l-.94 2.06-2.06.94zm10 10l.94 2.06.94-2.06 2.06-.94-2.06-.94-.94-2.06-.94 2.06-2.06.94z\"/><path d=\"M17.41 7.96l-1.37-1.37c-.4-.4-.92-.59-1.43-.59-.52 0-1.04.2-1.43.59L10.3 9.45l-7.72 7.72c-.78.78-.78 2.05 0 2.83L4 21.41c.39.39.9.59 1.41.59.51 0 1.02-.2 1.41-.59l7.78-7.78 2.81-2.81c.8-.78.8-2.07 0-2.86zM5.41 20L4 18.59l7.72-7.72 1.47 1.35L5.41 20z\"/>\n",
              "  </svg>\n",
              "      </button>\n",
              "      \n",
              "  <style>\n",
              "    .colab-df-container {\n",
              "      display:flex;\n",
              "      flex-wrap:wrap;\n",
              "      gap: 12px;\n",
              "    }\n",
              "\n",
              "    .colab-df-convert {\n",
              "      background-color: #E8F0FE;\n",
              "      border: none;\n",
              "      border-radius: 50%;\n",
              "      cursor: pointer;\n",
              "      display: none;\n",
              "      fill: #1967D2;\n",
              "      height: 32px;\n",
              "      padding: 0 0 0 0;\n",
              "      width: 32px;\n",
              "    }\n",
              "\n",
              "    .colab-df-convert:hover {\n",
              "      background-color: #E2EBFA;\n",
              "      box-shadow: 0px 1px 2px rgba(60, 64, 67, 0.3), 0px 1px 3px 1px rgba(60, 64, 67, 0.15);\n",
              "      fill: #174EA6;\n",
              "    }\n",
              "\n",
              "    [theme=dark] .colab-df-convert {\n",
              "      background-color: #3B4455;\n",
              "      fill: #D2E3FC;\n",
              "    }\n",
              "\n",
              "    [theme=dark] .colab-df-convert:hover {\n",
              "      background-color: #434B5C;\n",
              "      box-shadow: 0px 1px 3px 1px rgba(0, 0, 0, 0.15);\n",
              "      filter: drop-shadow(0px 1px 2px rgba(0, 0, 0, 0.3));\n",
              "      fill: #FFFFFF;\n",
              "    }\n",
              "  </style>\n",
              "\n",
              "      <script>\n",
              "        const buttonEl =\n",
              "          document.querySelector('#df-5a96d09c-8d31-4753-a0f0-c6c40835869b button.colab-df-convert');\n",
              "        buttonEl.style.display =\n",
              "          google.colab.kernel.accessAllowed ? 'block' : 'none';\n",
              "\n",
              "        async function convertToInteractive(key) {\n",
              "          const element = document.querySelector('#df-5a96d09c-8d31-4753-a0f0-c6c40835869b');\n",
              "          const dataTable =\n",
              "            await google.colab.kernel.invokeFunction('convertToInteractive',\n",
              "                                                     [key], {});\n",
              "          if (!dataTable) return;\n",
              "\n",
              "          const docLinkHtml = 'Like what you see? Visit the ' +\n",
              "            '<a target=\"_blank\" href=https://colab.research.google.com/notebooks/data_table.ipynb>data table notebook</a>'\n",
              "            + ' to learn more about interactive tables.';\n",
              "          element.innerHTML = '';\n",
              "          dataTable['output_type'] = 'display_data';\n",
              "          await google.colab.output.renderOutput(dataTable, element);\n",
              "          const docLink = document.createElement('div');\n",
              "          docLink.innerHTML = docLinkHtml;\n",
              "          element.appendChild(docLink);\n",
              "        }\n",
              "      </script>\n",
              "    </div>\n",
              "  </div>\n",
              "  "
            ]
          },
          "metadata": {},
          "execution_count": 80
        }
      ]
    },
    {
      "cell_type": "markdown",
      "source": [
        "#### Accuracy"
      ],
      "metadata": {
        "id": "cJhwcsHyGJ4_"
      }
    },
    {
      "cell_type": "code",
      "source": [
        "def compute_accuracy(dataframe):\n",
        "  correct_answers = 0\n",
        "\n",
        "  for index, document in dataframe.iterrows():\n",
        "    if document['label'] == document['prediction']:\n",
        "      correct_answers += 1\n",
        "\n",
        "  accuracy = correct_answers/len(dataframe)\n",
        "\n",
        "  return accuracy"
      ],
      "metadata": {
        "id": "ayOzQgT7pwED"
      },
      "execution_count": 83,
      "outputs": []
    },
    {
      "cell_type": "markdown",
      "source": [
        "Test set accuracy"
      ],
      "metadata": {
        "id": "x2_h4ttgJLQb"
      }
    },
    {
      "cell_type": "code",
      "source": [
        "test_set_accuracy = compute_accuracy(df_imdb_test)\n",
        "print(f\"Test set accuracy: {test_set_accuracy:.2%}\")"
      ],
      "metadata": {
        "colab": {
          "base_uri": "https://localhost:8080/"
        },
        "id": "JV392Tc0KQnw",
        "outputId": "85820f22-801d-4331-db8d-b18558980ba2"
      },
      "execution_count": 93,
      "outputs": [
        {
          "output_type": "stream",
          "name": "stdout",
          "text": [
            "Test set accuracy: 81.67%\n"
          ]
        }
      ]
    },
    {
      "cell_type": "markdown",
      "source": [
        "Train set accuracy"
      ],
      "metadata": {
        "id": "3WUkxVQUNVqQ"
      }
    },
    {
      "cell_type": "code",
      "source": [
        "train_set_accuracy = compute_accuracy(df_imdb_train)\n",
        "print(f\"Test set accuracy: {train_set_accuracy:.2%}\")"
      ],
      "metadata": {
        "colab": {
          "base_uri": "https://localhost:8080/"
        },
        "id": "f3fD1F1fNTxO",
        "outputId": "eb302db2-9bd3-4fe5-e3c8-33cbbb61e99b"
      },
      "execution_count": 94,
      "outputs": [
        {
          "output_type": "stream",
          "name": "stdout",
          "text": [
            "Test set accuracy: 91.14%\n"
          ]
        }
      ]
    },
    {
      "cell_type": "code",
      "source": [
        ""
      ],
      "metadata": {
        "id": "icWTa91EN-sq"
      },
      "execution_count": null,
      "outputs": []
    },
    {
      "cell_type": "code",
      "source": [
        "def bayes_predict_log(document, priors, likelihoods):\n",
        "    '''\n",
        "    Predicts the label for a document given the trained\n",
        "    priors and likelihoods.\n",
        "    Parameters\n",
        "    ----------\n",
        "    document: the document to analyse\n",
        "    priors: the trained priors\n",
        "    likelihoods: the trained likelihoods\n",
        "    Return\n",
        "    ------\n",
        "    A tuple (best_class, probabilities), where the first element\n",
        "    is the name of the best class, and the second element is the dictionary of\n",
        "    the computed probabilities.\n",
        "    '''\n",
        "    classes_probabilities = {}\n",
        "    # unpack the dictionary and iterate \n",
        "    # through the priors\n",
        "    for label, prior in priors.items():   \n",
        "      # prob_class = np.log(prior)\n",
        "      # initialise the probability of a class to the log of its its prior\n",
        "      for word in document:\n",
        "        if word in likelihoods[label]:\n",
        "          # sum the prior with the log-likelihood of each word\n",
        "          prob_class = log_\n",
        "          prob_class + np.log(likelihoods[label][word])\n",
        "\n",
        "      classes_probabilities[label] = prob_class\n",
        "    # get the names of the classes\n",
        "    class_names = list(priors.keys())\n",
        "    \n",
        "    # -------------------------#\n",
        "    #      E X E R C I S E     #\n",
        "    # -------------------------#\n",
        "    # complete the next line by selecting the name of the best class.\n",
        "    # hint: the probabilities are saved in the dictionaries, and\n",
        "    # you can access them by using classes_probabilities.values(), which\n",
        "    # can be converted to a list using list(x)\n",
        "\n",
        "    best_class = class_names[\n",
        "                             np.argmax(\n",
        "                                 list(classes_probabilities.values())\n",
        "                                 )\n",
        "                             ]\n",
        "\n",
        "    # ~      end exercise    ~ #\n",
        "    return best_class, classes_probabilities    "
      ],
      "metadata": {
        "id": "cBSEYCtXABIV"
      },
      "execution_count": null,
      "outputs": []
    },
    {
      "cell_type": "code",
      "source": [
        "correct_answers = 0\n",
        "# iterate over the documents in the training set;\n",
        "# unpack each (document, label) tuple\n",
        "for doc, true_label in test_docs_thumbsup:\n",
        "  # predict the label for the document\n",
        "  predicted_label, _ = bayes_predict_log(doc, log_prior, log_likelihood)\n",
        "  \n",
        "  # if the predicted label is the same as the true label, \n",
        "  # update the counter\n",
        "  if true_label == predicted_label:\n",
        "    correct_answers += 1\n",
        "\n",
        "# calculate the accuracy score\n",
        "accuracy = correct_answers/len(test_docs_thumbsup)\n",
        "\n",
        "# print the accuracy\n",
        "print(accuracy)"
      ],
      "metadata": {
        "id": "ewWKl7Pk-5O7"
      },
      "execution_count": null,
      "outputs": []
    },
    {
      "cell_type": "code",
      "source": [
        ""
      ],
      "metadata": {
        "id": "eu7IBdAK_Wce"
      },
      "execution_count": null,
      "outputs": []
    },
    {
      "cell_type": "code",
      "source": [
        "log_prior, sorted(log_likelihood[0], key=log_likelihood.get)log_likelihood, vocabulary"
      ],
      "metadata": {
        "id": "UlCm-vtvLu4E",
        "colab": {
          "base_uri": "https://localhost:8080/",
          "height": 125
        },
        "outputId": "da95a192-b200-4959-ccd9-00d52fea93ba"
      },
      "execution_count": null,
      "outputs": [
        {
          "output_type": "error",
          "ename": "SyntaxError",
          "evalue": "ignored",
          "traceback": [
            "\u001b[0;36m  File \u001b[0;32m\"<ipython-input-73-636f389eb19e>\"\u001b[0;36m, line \u001b[0;32m1\u001b[0m\n\u001b[0;31m    log_prior, sorted(log_likelihood[0], key=log_likelihood.get)log_likelihood, vocabulary\u001b[0m\n\u001b[0m                                                                             ^\u001b[0m\n\u001b[0;31mSyntaxError\u001b[0m\u001b[0;31m:\u001b[0m invalid syntax\n"
          ]
        }
      ]
    },
    {
      "cell_type": "code",
      "source": [
        "from IPython.core.display import HTML\n",
        "\n",
        "# Visualizing data \n",
        "HTML(pre_treated_text[0].to_html())"
      ],
      "metadata": {
        "colab": {
          "base_uri": "https://localhost:8080/",
          "height": 201
        },
        "id": "omPf01Ak60uI",
        "outputId": "477218fd-53e2-40a7-b017-1d86d9e106da"
      },
      "execution_count": null,
      "outputs": [
        {
          "output_type": "error",
          "ename": "TypeError",
          "evalue": "ignored",
          "traceback": [
            "\u001b[0;31m---------------------------------------------------------------------------\u001b[0m",
            "\u001b[0;31mTypeError\u001b[0m                                 Traceback (most recent call last)",
            "\u001b[0;32m<ipython-input-24-4398057faefd>\u001b[0m in \u001b[0;36m<module>\u001b[0;34m()\u001b[0m\n\u001b[1;32m      2\u001b[0m \u001b[0;34m\u001b[0m\u001b[0m\n\u001b[1;32m      3\u001b[0m \u001b[0;31m# Visualizing data\u001b[0m\u001b[0;34m\u001b[0m\u001b[0;34m\u001b[0m\u001b[0;34m\u001b[0m\u001b[0m\n\u001b[0;32m----> 4\u001b[0;31m \u001b[0mHTML\u001b[0m\u001b[0;34m(\u001b[0m\u001b[0mpre_treated_text\u001b[0m\u001b[0;34m[\u001b[0m\u001b[0;36m0\u001b[0m\u001b[0;34m]\u001b[0m\u001b[0;34m.\u001b[0m\u001b[0mto_html\u001b[0m\u001b[0;34m(\u001b[0m\u001b[0;34m)\u001b[0m\u001b[0;34m)\u001b[0m\u001b[0;34m\u001b[0m\u001b[0;34m\u001b[0m\u001b[0m\n\u001b[0m",
            "\u001b[0;31mTypeError\u001b[0m: 'map' object is not subscriptable"
          ]
        }
      ]
    },
    {
      "cell_type": "code",
      "source": [
        "from gensim.parsing.preprocessing import STOPWORDS\n",
        "\n",
        "#Creating a list of custom stopwords\n",
        "new_words = [\"fig\",\"figure\",\"image\",\"sample\",\"using\", \n",
        "             \"show\", \"result\", \"large\", \n",
        "             \"also\", \"one\", \"two\", \"three\", \n",
        "             \"four\", \"five\", \"seven\",\"eight\",\"nine\"]\n",
        "\n",
        "stop_words = STOPWORDS.union(set(new_words))"
      ],
      "metadata": {
        "id": "VtEehTAPv1gv"
      },
      "execution_count": null,
      "outputs": []
    },
    {
      "cell_type": "code",
      "source": [
        ""
      ],
      "metadata": {
        "id": "nUN2nVRPPnMA"
      },
      "execution_count": null,
      "outputs": []
    },
    {
      "cell_type": "code",
      "source": [
        ""
      ],
      "metadata": {
        "id": "5Br0XC5iPnHC"
      },
      "execution_count": null,
      "outputs": []
    },
    {
      "cell_type": "code",
      "source": [
        "{idx:label for idx, label in enumerate(labels)}"
      ],
      "metadata": {
        "id": "CsDX7U97N8fp"
      },
      "execution_count": null,
      "outputs": []
    },
    {
      "cell_type": "code",
      "source": [
        "id2label = {idx:label for idx, label in enumerate(labels)}\n",
        "label2id = {label:idx for idx, label in enumerate(labels)}"
      ],
      "metadata": {
        "id": "WsQ1LgWkPE8U"
      },
      "execution_count": null,
      "outputs": []
    }
  ]
}